{
 "cells": [
  {
   "cell_type": "markdown",
   "id": "ac6830c0",
   "metadata": {},
   "source": [
    "# Uber Request Data Analysis"
   ]
  },
  {
   "cell_type": "markdown",
   "id": "6e960923",
   "metadata": {},
   "source": [
    "**Importing Libraries**"
   ]
  },
  {
   "cell_type": "code",
   "execution_count": 1,
   "id": "f47a3c61",
   "metadata": {},
   "outputs": [],
   "source": [
    "import pandas as pd\n",
    "import numpy as np"
   ]
  },
  {
   "cell_type": "markdown",
   "id": "e8a22ceb",
   "metadata": {},
   "source": [
    "**Importing Data**"
   ]
  },
  {
   "cell_type": "code",
   "execution_count": 2,
   "id": "f4d49793",
   "metadata": {},
   "outputs": [],
   "source": [
    "data = pd.read_csv('Uber Request Data.csv')"
   ]
  },
  {
   "cell_type": "code",
   "execution_count": 3,
   "id": "31d4ca92",
   "metadata": {},
   "outputs": [
    {
     "data": {
      "text/html": [
       "<div>\n",
       "<style scoped>\n",
       "    .dataframe tbody tr th:only-of-type {\n",
       "        vertical-align: middle;\n",
       "    }\n",
       "\n",
       "    .dataframe tbody tr th {\n",
       "        vertical-align: top;\n",
       "    }\n",
       "\n",
       "    .dataframe thead th {\n",
       "        text-align: right;\n",
       "    }\n",
       "</style>\n",
       "<table border=\"1\" class=\"dataframe\">\n",
       "  <thead>\n",
       "    <tr style=\"text-align: right;\">\n",
       "      <th></th>\n",
       "      <th>Request id</th>\n",
       "      <th>Pickup point</th>\n",
       "      <th>Driver id</th>\n",
       "      <th>Status</th>\n",
       "      <th>Request timestamp</th>\n",
       "      <th>Drop timestamp</th>\n",
       "    </tr>\n",
       "  </thead>\n",
       "  <tbody>\n",
       "    <tr>\n",
       "      <th>0</th>\n",
       "      <td>619</td>\n",
       "      <td>Airport</td>\n",
       "      <td>1.0</td>\n",
       "      <td>Trip Completed</td>\n",
       "      <td>11/7/2016 11:51</td>\n",
       "      <td>11/7/2016 13:00</td>\n",
       "    </tr>\n",
       "    <tr>\n",
       "      <th>1</th>\n",
       "      <td>867</td>\n",
       "      <td>Airport</td>\n",
       "      <td>1.0</td>\n",
       "      <td>Trip Completed</td>\n",
       "      <td>11/7/2016 17:57</td>\n",
       "      <td>11/7/2016 18:47</td>\n",
       "    </tr>\n",
       "    <tr>\n",
       "      <th>2</th>\n",
       "      <td>1807</td>\n",
       "      <td>City</td>\n",
       "      <td>1.0</td>\n",
       "      <td>Trip Completed</td>\n",
       "      <td>12/7/2016 9:17</td>\n",
       "      <td>12/7/2016 9:58</td>\n",
       "    </tr>\n",
       "    <tr>\n",
       "      <th>3</th>\n",
       "      <td>2532</td>\n",
       "      <td>Airport</td>\n",
       "      <td>1.0</td>\n",
       "      <td>Trip Completed</td>\n",
       "      <td>12/7/2016 21:08</td>\n",
       "      <td>12/7/2016 22:03</td>\n",
       "    </tr>\n",
       "    <tr>\n",
       "      <th>4</th>\n",
       "      <td>3112</td>\n",
       "      <td>City</td>\n",
       "      <td>1.0</td>\n",
       "      <td>Trip Completed</td>\n",
       "      <td>13-07-2016 08:33:16</td>\n",
       "      <td>13-07-2016 09:25:47</td>\n",
       "    </tr>\n",
       "  </tbody>\n",
       "</table>\n",
       "</div>"
      ],
      "text/plain": [
       "   Request id Pickup point  Driver id          Status    Request timestamp  \\\n",
       "0         619      Airport        1.0  Trip Completed      11/7/2016 11:51   \n",
       "1         867      Airport        1.0  Trip Completed      11/7/2016 17:57   \n",
       "2        1807         City        1.0  Trip Completed       12/7/2016 9:17   \n",
       "3        2532      Airport        1.0  Trip Completed      12/7/2016 21:08   \n",
       "4        3112         City        1.0  Trip Completed  13-07-2016 08:33:16   \n",
       "\n",
       "        Drop timestamp  \n",
       "0      11/7/2016 13:00  \n",
       "1      11/7/2016 18:47  \n",
       "2       12/7/2016 9:58  \n",
       "3      12/7/2016 22:03  \n",
       "4  13-07-2016 09:25:47  "
      ]
     },
     "execution_count": 3,
     "metadata": {},
     "output_type": "execute_result"
    }
   ],
   "source": [
    "data.head()"
   ]
  },
  {
   "cell_type": "markdown",
   "id": "4b71b531",
   "metadata": {},
   "source": [
    "**Cheching Data**"
   ]
  },
  {
   "cell_type": "code",
   "execution_count": 4,
   "id": "d8b30b8a",
   "metadata": {},
   "outputs": [
    {
     "data": {
      "text/plain": [
       "(6745, 6)"
      ]
     },
     "execution_count": 4,
     "metadata": {},
     "output_type": "execute_result"
    }
   ],
   "source": [
    "data.shape"
   ]
  },
  {
   "cell_type": "code",
   "execution_count": 5,
   "id": "501aff86",
   "metadata": {},
   "outputs": [
    {
     "data": {
      "text/plain": [
       "Index(['Request id', 'Pickup point', 'Driver id', 'Status',\n",
       "       'Request timestamp', 'Drop timestamp'],\n",
       "      dtype='object')"
      ]
     },
     "execution_count": 5,
     "metadata": {},
     "output_type": "execute_result"
    }
   ],
   "source": [
    "data.columns"
   ]
  },
  {
   "cell_type": "code",
   "execution_count": 6,
   "id": "c2ba7652",
   "metadata": {},
   "outputs": [
    {
     "name": "stdout",
     "output_type": "stream",
     "text": [
      "<class 'pandas.core.frame.DataFrame'>\n",
      "RangeIndex: 6745 entries, 0 to 6744\n",
      "Data columns (total 6 columns):\n",
      " #   Column             Non-Null Count  Dtype  \n",
      "---  ------             --------------  -----  \n",
      " 0   Request id         6745 non-null   int64  \n",
      " 1   Pickup point       6745 non-null   object \n",
      " 2   Driver id          4095 non-null   float64\n",
      " 3   Status             6745 non-null   object \n",
      " 4   Request timestamp  6745 non-null   object \n",
      " 5   Drop timestamp     2831 non-null   object \n",
      "dtypes: float64(1), int64(1), object(4)\n",
      "memory usage: 316.3+ KB\n"
     ]
    }
   ],
   "source": [
    "data.info()"
   ]
  },
  {
   "cell_type": "markdown",
   "id": "26497b50",
   "metadata": {},
   "source": [
    "**Chechking Null Values**"
   ]
  },
  {
   "cell_type": "code",
   "execution_count": 7,
   "id": "85c08dcc",
   "metadata": {},
   "outputs": [
    {
     "data": {
      "text/plain": [
       "Request id              0\n",
       "Pickup point            0\n",
       "Driver id            2650\n",
       "Status                  0\n",
       "Request timestamp       0\n",
       "Drop timestamp       3914\n",
       "dtype: int64"
      ]
     },
     "execution_count": 7,
     "metadata": {},
     "output_type": "execute_result"
    }
   ],
   "source": [
    "data.isnull().sum()"
   ]
  },
  {
   "cell_type": "markdown",
   "id": "925be9d6",
   "metadata": {},
   "source": [
    "**Fixing Data Types**"
   ]
  },
  {
   "cell_type": "code",
   "execution_count": 8,
   "id": "7a2b89ef",
   "metadata": {},
   "outputs": [],
   "source": [
    "data['Request timestamp'] = data['Request timestamp'].astype('datetime64')\n",
    "data['Drop timestamp'] = data['Drop timestamp'].astype('datetime64')"
   ]
  },
  {
   "cell_type": "code",
   "execution_count": 9,
   "id": "abc04839",
   "metadata": {},
   "outputs": [
    {
     "name": "stdout",
     "output_type": "stream",
     "text": [
      "<class 'pandas.core.frame.DataFrame'>\n",
      "RangeIndex: 6745 entries, 0 to 6744\n",
      "Data columns (total 6 columns):\n",
      " #   Column             Non-Null Count  Dtype         \n",
      "---  ------             --------------  -----         \n",
      " 0   Request id         6745 non-null   int64         \n",
      " 1   Pickup point       6745 non-null   object        \n",
      " 2   Driver id          4095 non-null   float64       \n",
      " 3   Status             6745 non-null   object        \n",
      " 4   Request timestamp  6745 non-null   datetime64[ns]\n",
      " 5   Drop timestamp     2831 non-null   datetime64[ns]\n",
      "dtypes: datetime64[ns](2), float64(1), int64(1), object(2)\n",
      "memory usage: 316.3+ KB\n"
     ]
    }
   ],
   "source": [
    "data.info()"
   ]
  },
  {
   "cell_type": "code",
   "execution_count": 10,
   "id": "1d9c20e4",
   "metadata": {},
   "outputs": [
    {
     "data": {
      "text/html": [
       "<div>\n",
       "<style scoped>\n",
       "    .dataframe tbody tr th:only-of-type {\n",
       "        vertical-align: middle;\n",
       "    }\n",
       "\n",
       "    .dataframe tbody tr th {\n",
       "        vertical-align: top;\n",
       "    }\n",
       "\n",
       "    .dataframe thead th {\n",
       "        text-align: right;\n",
       "    }\n",
       "</style>\n",
       "<table border=\"1\" class=\"dataframe\">\n",
       "  <thead>\n",
       "    <tr style=\"text-align: right;\">\n",
       "      <th></th>\n",
       "      <th>Request id</th>\n",
       "      <th>Pickup point</th>\n",
       "      <th>Driver id</th>\n",
       "      <th>Status</th>\n",
       "      <th>Request timestamp</th>\n",
       "      <th>Drop timestamp</th>\n",
       "    </tr>\n",
       "  </thead>\n",
       "  <tbody>\n",
       "    <tr>\n",
       "      <th>4095</th>\n",
       "      <td>1362</td>\n",
       "      <td>City</td>\n",
       "      <td>NaN</td>\n",
       "      <td>No Cars Available</td>\n",
       "      <td>2016-11-07 00:02:00</td>\n",
       "      <td>NaT</td>\n",
       "    </tr>\n",
       "    <tr>\n",
       "      <th>4096</th>\n",
       "      <td>1364</td>\n",
       "      <td>City</td>\n",
       "      <td>NaN</td>\n",
       "      <td>No Cars Available</td>\n",
       "      <td>2016-11-07 00:06:00</td>\n",
       "      <td>NaT</td>\n",
       "    </tr>\n",
       "    <tr>\n",
       "      <th>4097</th>\n",
       "      <td>1366</td>\n",
       "      <td>City</td>\n",
       "      <td>NaN</td>\n",
       "      <td>No Cars Available</td>\n",
       "      <td>2016-11-07 00:09:00</td>\n",
       "      <td>NaT</td>\n",
       "    </tr>\n",
       "    <tr>\n",
       "      <th>4098</th>\n",
       "      <td>2</td>\n",
       "      <td>Airport</td>\n",
       "      <td>NaN</td>\n",
       "      <td>No Cars Available</td>\n",
       "      <td>2016-11-07 00:23:00</td>\n",
       "      <td>NaT</td>\n",
       "    </tr>\n",
       "    <tr>\n",
       "      <th>4099</th>\n",
       "      <td>7</td>\n",
       "      <td>Airport</td>\n",
       "      <td>NaN</td>\n",
       "      <td>No Cars Available</td>\n",
       "      <td>2016-11-07 00:30:00</td>\n",
       "      <td>NaT</td>\n",
       "    </tr>\n",
       "    <tr>\n",
       "      <th>...</th>\n",
       "      <td>...</td>\n",
       "      <td>...</td>\n",
       "      <td>...</td>\n",
       "      <td>...</td>\n",
       "      <td>...</td>\n",
       "      <td>...</td>\n",
       "    </tr>\n",
       "    <tr>\n",
       "      <th>4190</th>\n",
       "      <td>337</td>\n",
       "      <td>City</td>\n",
       "      <td>NaN</td>\n",
       "      <td>No Cars Available</td>\n",
       "      <td>2016-11-07 07:50:00</td>\n",
       "      <td>NaT</td>\n",
       "    </tr>\n",
       "    <tr>\n",
       "      <th>4191</th>\n",
       "      <td>342</td>\n",
       "      <td>City</td>\n",
       "      <td>NaN</td>\n",
       "      <td>No Cars Available</td>\n",
       "      <td>2016-11-07 07:51:00</td>\n",
       "      <td>NaT</td>\n",
       "    </tr>\n",
       "    <tr>\n",
       "      <th>4192</th>\n",
       "      <td>349</td>\n",
       "      <td>City</td>\n",
       "      <td>NaN</td>\n",
       "      <td>No Cars Available</td>\n",
       "      <td>2016-11-07 07:51:00</td>\n",
       "      <td>NaT</td>\n",
       "    </tr>\n",
       "    <tr>\n",
       "      <th>4193</th>\n",
       "      <td>344</td>\n",
       "      <td>City</td>\n",
       "      <td>NaN</td>\n",
       "      <td>No Cars Available</td>\n",
       "      <td>2016-11-07 07:52:00</td>\n",
       "      <td>NaT</td>\n",
       "    </tr>\n",
       "    <tr>\n",
       "      <th>4194</th>\n",
       "      <td>348</td>\n",
       "      <td>City</td>\n",
       "      <td>NaN</td>\n",
       "      <td>No Cars Available</td>\n",
       "      <td>2016-11-07 07:54:00</td>\n",
       "      <td>NaT</td>\n",
       "    </tr>\n",
       "  </tbody>\n",
       "</table>\n",
       "<p>100 rows × 6 columns</p>\n",
       "</div>"
      ],
      "text/plain": [
       "      Request id Pickup point  Driver id             Status  \\\n",
       "4095        1362         City        NaN  No Cars Available   \n",
       "4096        1364         City        NaN  No Cars Available   \n",
       "4097        1366         City        NaN  No Cars Available   \n",
       "4098           2      Airport        NaN  No Cars Available   \n",
       "4099           7      Airport        NaN  No Cars Available   \n",
       "...          ...          ...        ...                ...   \n",
       "4190         337         City        NaN  No Cars Available   \n",
       "4191         342         City        NaN  No Cars Available   \n",
       "4192         349         City        NaN  No Cars Available   \n",
       "4193         344         City        NaN  No Cars Available   \n",
       "4194         348         City        NaN  No Cars Available   \n",
       "\n",
       "       Request timestamp Drop timestamp  \n",
       "4095 2016-11-07 00:02:00            NaT  \n",
       "4096 2016-11-07 00:06:00            NaT  \n",
       "4097 2016-11-07 00:09:00            NaT  \n",
       "4098 2016-11-07 00:23:00            NaT  \n",
       "4099 2016-11-07 00:30:00            NaT  \n",
       "...                  ...            ...  \n",
       "4190 2016-11-07 07:50:00            NaT  \n",
       "4191 2016-11-07 07:51:00            NaT  \n",
       "4192 2016-11-07 07:51:00            NaT  \n",
       "4193 2016-11-07 07:52:00            NaT  \n",
       "4194 2016-11-07 07:54:00            NaT  \n",
       "\n",
       "[100 rows x 6 columns]"
      ]
     },
     "execution_count": 10,
     "metadata": {},
     "output_type": "execute_result"
    }
   ],
   "source": [
    "data[np.isnan(data['Driver id'])].head(100)"
   ]
  },
  {
   "cell_type": "markdown",
   "id": "9d49bec7",
   "metadata": {},
   "source": [
    "**We are geting Driver Id as NAN when the STATUS is 'NO cars Available' it means for car being unavailable no driver is assigned**"
   ]
  },
  {
   "cell_type": "markdown",
   "id": "f43d8e3c",
   "metadata": {},
   "source": [
    "**We are Replacing NAN values in Driver id by Zero**"
   ]
  },
  {
   "cell_type": "code",
   "execution_count": 11,
   "id": "cde97dba",
   "metadata": {},
   "outputs": [],
   "source": [
    "data['Driver id'] = data['Driver id'].fillna(0)"
   ]
  },
  {
   "cell_type": "code",
   "execution_count": 12,
   "id": "78f256d5",
   "metadata": {},
   "outputs": [
    {
     "data": {
      "text/html": [
       "<div>\n",
       "<style scoped>\n",
       "    .dataframe tbody tr th:only-of-type {\n",
       "        vertical-align: middle;\n",
       "    }\n",
       "\n",
       "    .dataframe tbody tr th {\n",
       "        vertical-align: top;\n",
       "    }\n",
       "\n",
       "    .dataframe thead th {\n",
       "        text-align: right;\n",
       "    }\n",
       "</style>\n",
       "<table border=\"1\" class=\"dataframe\">\n",
       "  <thead>\n",
       "    <tr style=\"text-align: right;\">\n",
       "      <th></th>\n",
       "      <th>Request id</th>\n",
       "      <th>Pickup point</th>\n",
       "      <th>Driver id</th>\n",
       "      <th>Status</th>\n",
       "      <th>Request timestamp</th>\n",
       "      <th>Drop timestamp</th>\n",
       "    </tr>\n",
       "  </thead>\n",
       "  <tbody>\n",
       "  </tbody>\n",
       "</table>\n",
       "</div>"
      ],
      "text/plain": [
       "Empty DataFrame\n",
       "Columns: [Request id, Pickup point, Driver id, Status, Request timestamp, Drop timestamp]\n",
       "Index: []"
      ]
     },
     "execution_count": 12,
     "metadata": {},
     "output_type": "execute_result"
    }
   ],
   "source": [
    "data[np.isnan(data['Driver id'])]"
   ]
  },
  {
   "cell_type": "markdown",
   "id": "d204eda8",
   "metadata": {},
   "source": [
    "We have converted all nan values in driver id to 0"
   ]
  },
  {
   "cell_type": "markdown",
   "id": "f4504f55",
   "metadata": {},
   "source": [
    "**Total number of Request Received for two listed Pickup Points**\n",
    "\n",
    "1. Airport\n",
    "2. City"
   ]
  },
  {
   "cell_type": "code",
   "execution_count": 13,
   "id": "6166823b",
   "metadata": {},
   "outputs": [
    {
     "data": {
      "text/plain": [
       "Pickup point\n",
       "Airport    3238\n",
       "City       3507\n",
       "Name: Request id, dtype: int64"
      ]
     },
     "execution_count": 13,
     "metadata": {},
     "output_type": "execute_result"
    }
   ],
   "source": [
    "data.groupby('Pickup point')['Request id'].count()"
   ]
  },
  {
   "cell_type": "markdown",
   "id": "8df31e05",
   "metadata": {},
   "source": [
    "Uber is receiving more number of requests for City Locations"
   ]
  },
  {
   "cell_type": "code",
   "execution_count": 14,
   "id": "7767801b",
   "metadata": {},
   "outputs": [
    {
     "data": {
      "text/plain": [
       "array(['Trip Completed', 'Cancelled', 'No Cars Available'], dtype=object)"
      ]
     },
     "execution_count": 14,
     "metadata": {},
     "output_type": "execute_result"
    }
   ],
   "source": [
    "data['Status'].unique()"
   ]
  },
  {
   "cell_type": "markdown",
   "id": "beed89b7",
   "metadata": {},
   "source": [
    "Each request placed can have three unique status : Completed , No car Available  and Cancelled"
   ]
  },
  {
   "cell_type": "markdown",
   "id": "084153c1",
   "metadata": {},
   "source": [
    "**Let's check number of Request categorized in each status**"
   ]
  },
  {
   "cell_type": "code",
   "execution_count": 39,
   "id": "dfe0dfb3",
   "metadata": {},
   "outputs": [
    {
     "data": {
      "text/plain": [
       "Status\n",
       "Cancelled            1264\n",
       "No Cars Available    2650\n",
       "Trip Completed       2831\n",
       "Name: Request id, dtype: int64"
      ]
     },
     "execution_count": 39,
     "metadata": {},
     "output_type": "execute_result"
    }
   ],
   "source": [
    "data.groupby('Status')['Request id'].count().sort_values()"
   ]
  },
  {
   "cell_type": "markdown",
   "id": "c3980ade",
   "metadata": {},
   "source": [
    "Maximum requests are succesfully completed"
   ]
  },
  {
   "cell_type": "markdown",
   "id": "660c90a6",
   "metadata": {},
   "source": [
    "**We are adding new column which will contain the total time difference between request and drop**"
   ]
  },
  {
   "cell_type": "code",
   "execution_count": 16,
   "id": "ad44e366",
   "metadata": {},
   "outputs": [],
   "source": [
    "data['Time Diff'] = data['Drop timestamp'] - data['Request timestamp']"
   ]
  },
  {
   "cell_type": "code",
   "execution_count": 17,
   "id": "51158857",
   "metadata": {},
   "outputs": [
    {
     "data": {
      "text/html": [
       "<div>\n",
       "<style scoped>\n",
       "    .dataframe tbody tr th:only-of-type {\n",
       "        vertical-align: middle;\n",
       "    }\n",
       "\n",
       "    .dataframe tbody tr th {\n",
       "        vertical-align: top;\n",
       "    }\n",
       "\n",
       "    .dataframe thead th {\n",
       "        text-align: right;\n",
       "    }\n",
       "</style>\n",
       "<table border=\"1\" class=\"dataframe\">\n",
       "  <thead>\n",
       "    <tr style=\"text-align: right;\">\n",
       "      <th></th>\n",
       "      <th>Request id</th>\n",
       "      <th>Pickup point</th>\n",
       "      <th>Driver id</th>\n",
       "      <th>Status</th>\n",
       "      <th>Request timestamp</th>\n",
       "      <th>Drop timestamp</th>\n",
       "      <th>Time Diff</th>\n",
       "    </tr>\n",
       "  </thead>\n",
       "  <tbody>\n",
       "    <tr>\n",
       "      <th>0</th>\n",
       "      <td>619</td>\n",
       "      <td>Airport</td>\n",
       "      <td>1.0</td>\n",
       "      <td>Trip Completed</td>\n",
       "      <td>2016-11-07 11:51:00</td>\n",
       "      <td>2016-11-07 13:00:00</td>\n",
       "      <td>0 days 01:09:00</td>\n",
       "    </tr>\n",
       "    <tr>\n",
       "      <th>1</th>\n",
       "      <td>867</td>\n",
       "      <td>Airport</td>\n",
       "      <td>1.0</td>\n",
       "      <td>Trip Completed</td>\n",
       "      <td>2016-11-07 17:57:00</td>\n",
       "      <td>2016-11-07 18:47:00</td>\n",
       "      <td>0 days 00:50:00</td>\n",
       "    </tr>\n",
       "    <tr>\n",
       "      <th>2</th>\n",
       "      <td>1807</td>\n",
       "      <td>City</td>\n",
       "      <td>1.0</td>\n",
       "      <td>Trip Completed</td>\n",
       "      <td>2016-12-07 09:17:00</td>\n",
       "      <td>2016-12-07 09:58:00</td>\n",
       "      <td>0 days 00:41:00</td>\n",
       "    </tr>\n",
       "    <tr>\n",
       "      <th>3</th>\n",
       "      <td>2532</td>\n",
       "      <td>Airport</td>\n",
       "      <td>1.0</td>\n",
       "      <td>Trip Completed</td>\n",
       "      <td>2016-12-07 21:08:00</td>\n",
       "      <td>2016-12-07 22:03:00</td>\n",
       "      <td>0 days 00:55:00</td>\n",
       "    </tr>\n",
       "    <tr>\n",
       "      <th>4</th>\n",
       "      <td>3112</td>\n",
       "      <td>City</td>\n",
       "      <td>1.0</td>\n",
       "      <td>Trip Completed</td>\n",
       "      <td>2016-07-13 08:33:16</td>\n",
       "      <td>2016-07-13 09:25:47</td>\n",
       "      <td>0 days 00:52:31</td>\n",
       "    </tr>\n",
       "  </tbody>\n",
       "</table>\n",
       "</div>"
      ],
      "text/plain": [
       "   Request id Pickup point  Driver id          Status   Request timestamp  \\\n",
       "0         619      Airport        1.0  Trip Completed 2016-11-07 11:51:00   \n",
       "1         867      Airport        1.0  Trip Completed 2016-11-07 17:57:00   \n",
       "2        1807         City        1.0  Trip Completed 2016-12-07 09:17:00   \n",
       "3        2532      Airport        1.0  Trip Completed 2016-12-07 21:08:00   \n",
       "4        3112         City        1.0  Trip Completed 2016-07-13 08:33:16   \n",
       "\n",
       "       Drop timestamp       Time Diff  \n",
       "0 2016-11-07 13:00:00 0 days 01:09:00  \n",
       "1 2016-11-07 18:47:00 0 days 00:50:00  \n",
       "2 2016-12-07 09:58:00 0 days 00:41:00  \n",
       "3 2016-12-07 22:03:00 0 days 00:55:00  \n",
       "4 2016-07-13 09:25:47 0 days 00:52:31  "
      ]
     },
     "execution_count": 17,
     "metadata": {},
     "output_type": "execute_result"
    }
   ],
   "source": [
    "data.head()"
   ]
  },
  {
   "cell_type": "markdown",
   "id": "1c8c606f",
   "metadata": {},
   "source": [
    "**We will be now converted time taken into number of minuted required**"
   ]
  },
  {
   "cell_type": "code",
   "execution_count": 18,
   "id": "69f8a763",
   "metadata": {},
   "outputs": [],
   "source": [
    "data['Minutes Taken'] = data['Time Diff'].apply(lambda x:x.seconds/60)"
   ]
  },
  {
   "cell_type": "code",
   "execution_count": 19,
   "id": "ab3e567b",
   "metadata": {},
   "outputs": [
    {
     "data": {
      "text/html": [
       "<div>\n",
       "<style scoped>\n",
       "    .dataframe tbody tr th:only-of-type {\n",
       "        vertical-align: middle;\n",
       "    }\n",
       "\n",
       "    .dataframe tbody tr th {\n",
       "        vertical-align: top;\n",
       "    }\n",
       "\n",
       "    .dataframe thead th {\n",
       "        text-align: right;\n",
       "    }\n",
       "</style>\n",
       "<table border=\"1\" class=\"dataframe\">\n",
       "  <thead>\n",
       "    <tr style=\"text-align: right;\">\n",
       "      <th></th>\n",
       "      <th>Request id</th>\n",
       "      <th>Pickup point</th>\n",
       "      <th>Driver id</th>\n",
       "      <th>Status</th>\n",
       "      <th>Request timestamp</th>\n",
       "      <th>Drop timestamp</th>\n",
       "      <th>Time Diff</th>\n",
       "      <th>Minutes Taken</th>\n",
       "    </tr>\n",
       "  </thead>\n",
       "  <tbody>\n",
       "    <tr>\n",
       "      <th>0</th>\n",
       "      <td>619</td>\n",
       "      <td>Airport</td>\n",
       "      <td>1.0</td>\n",
       "      <td>Trip Completed</td>\n",
       "      <td>2016-11-07 11:51:00</td>\n",
       "      <td>2016-11-07 13:00:00</td>\n",
       "      <td>0 days 01:09:00</td>\n",
       "      <td>69.000000</td>\n",
       "    </tr>\n",
       "    <tr>\n",
       "      <th>1</th>\n",
       "      <td>867</td>\n",
       "      <td>Airport</td>\n",
       "      <td>1.0</td>\n",
       "      <td>Trip Completed</td>\n",
       "      <td>2016-11-07 17:57:00</td>\n",
       "      <td>2016-11-07 18:47:00</td>\n",
       "      <td>0 days 00:50:00</td>\n",
       "      <td>50.000000</td>\n",
       "    </tr>\n",
       "    <tr>\n",
       "      <th>2</th>\n",
       "      <td>1807</td>\n",
       "      <td>City</td>\n",
       "      <td>1.0</td>\n",
       "      <td>Trip Completed</td>\n",
       "      <td>2016-12-07 09:17:00</td>\n",
       "      <td>2016-12-07 09:58:00</td>\n",
       "      <td>0 days 00:41:00</td>\n",
       "      <td>41.000000</td>\n",
       "    </tr>\n",
       "    <tr>\n",
       "      <th>3</th>\n",
       "      <td>2532</td>\n",
       "      <td>Airport</td>\n",
       "      <td>1.0</td>\n",
       "      <td>Trip Completed</td>\n",
       "      <td>2016-12-07 21:08:00</td>\n",
       "      <td>2016-12-07 22:03:00</td>\n",
       "      <td>0 days 00:55:00</td>\n",
       "      <td>55.000000</td>\n",
       "    </tr>\n",
       "    <tr>\n",
       "      <th>4</th>\n",
       "      <td>3112</td>\n",
       "      <td>City</td>\n",
       "      <td>1.0</td>\n",
       "      <td>Trip Completed</td>\n",
       "      <td>2016-07-13 08:33:16</td>\n",
       "      <td>2016-07-13 09:25:47</td>\n",
       "      <td>0 days 00:52:31</td>\n",
       "      <td>52.516667</td>\n",
       "    </tr>\n",
       "  </tbody>\n",
       "</table>\n",
       "</div>"
      ],
      "text/plain": [
       "   Request id Pickup point  Driver id          Status   Request timestamp  \\\n",
       "0         619      Airport        1.0  Trip Completed 2016-11-07 11:51:00   \n",
       "1         867      Airport        1.0  Trip Completed 2016-11-07 17:57:00   \n",
       "2        1807         City        1.0  Trip Completed 2016-12-07 09:17:00   \n",
       "3        2532      Airport        1.0  Trip Completed 2016-12-07 21:08:00   \n",
       "4        3112         City        1.0  Trip Completed 2016-07-13 08:33:16   \n",
       "\n",
       "       Drop timestamp       Time Diff  Minutes Taken  \n",
       "0 2016-11-07 13:00:00 0 days 01:09:00      69.000000  \n",
       "1 2016-11-07 18:47:00 0 days 00:50:00      50.000000  \n",
       "2 2016-12-07 09:58:00 0 days 00:41:00      41.000000  \n",
       "3 2016-12-07 22:03:00 0 days 00:55:00      55.000000  \n",
       "4 2016-07-13 09:25:47 0 days 00:52:31      52.516667  "
      ]
     },
     "execution_count": 19,
     "metadata": {},
     "output_type": "execute_result"
    }
   ],
   "source": [
    "data.head()"
   ]
  },
  {
   "cell_type": "code",
   "execution_count": 20,
   "id": "0f921c63",
   "metadata": {},
   "outputs": [
    {
     "data": {
      "text/html": [
       "<div>\n",
       "<style scoped>\n",
       "    .dataframe tbody tr th:only-of-type {\n",
       "        vertical-align: middle;\n",
       "    }\n",
       "\n",
       "    .dataframe tbody tr th {\n",
       "        vertical-align: top;\n",
       "    }\n",
       "\n",
       "    .dataframe thead th {\n",
       "        text-align: right;\n",
       "    }\n",
       "</style>\n",
       "<table border=\"1\" class=\"dataframe\">\n",
       "  <thead>\n",
       "    <tr style=\"text-align: right;\">\n",
       "      <th></th>\n",
       "      <th>Request id</th>\n",
       "      <th>Pickup point</th>\n",
       "      <th>Driver id</th>\n",
       "      <th>Status</th>\n",
       "      <th>Request timestamp</th>\n",
       "      <th>Drop timestamp</th>\n",
       "      <th>Minutes Taken</th>\n",
       "    </tr>\n",
       "  </thead>\n",
       "  <tbody>\n",
       "    <tr>\n",
       "      <th>0</th>\n",
       "      <td>619</td>\n",
       "      <td>Airport</td>\n",
       "      <td>1.0</td>\n",
       "      <td>Trip Completed</td>\n",
       "      <td>2016-11-07 11:51:00</td>\n",
       "      <td>2016-11-07 13:00:00</td>\n",
       "      <td>69.000000</td>\n",
       "    </tr>\n",
       "    <tr>\n",
       "      <th>1</th>\n",
       "      <td>867</td>\n",
       "      <td>Airport</td>\n",
       "      <td>1.0</td>\n",
       "      <td>Trip Completed</td>\n",
       "      <td>2016-11-07 17:57:00</td>\n",
       "      <td>2016-11-07 18:47:00</td>\n",
       "      <td>50.000000</td>\n",
       "    </tr>\n",
       "    <tr>\n",
       "      <th>2</th>\n",
       "      <td>1807</td>\n",
       "      <td>City</td>\n",
       "      <td>1.0</td>\n",
       "      <td>Trip Completed</td>\n",
       "      <td>2016-12-07 09:17:00</td>\n",
       "      <td>2016-12-07 09:58:00</td>\n",
       "      <td>41.000000</td>\n",
       "    </tr>\n",
       "    <tr>\n",
       "      <th>3</th>\n",
       "      <td>2532</td>\n",
       "      <td>Airport</td>\n",
       "      <td>1.0</td>\n",
       "      <td>Trip Completed</td>\n",
       "      <td>2016-12-07 21:08:00</td>\n",
       "      <td>2016-12-07 22:03:00</td>\n",
       "      <td>55.000000</td>\n",
       "    </tr>\n",
       "    <tr>\n",
       "      <th>4</th>\n",
       "      <td>3112</td>\n",
       "      <td>City</td>\n",
       "      <td>1.0</td>\n",
       "      <td>Trip Completed</td>\n",
       "      <td>2016-07-13 08:33:16</td>\n",
       "      <td>2016-07-13 09:25:47</td>\n",
       "      <td>52.516667</td>\n",
       "    </tr>\n",
       "    <tr>\n",
       "      <th>...</th>\n",
       "      <td>...</td>\n",
       "      <td>...</td>\n",
       "      <td>...</td>\n",
       "      <td>...</td>\n",
       "      <td>...</td>\n",
       "      <td>...</td>\n",
       "      <td>...</td>\n",
       "    </tr>\n",
       "    <tr>\n",
       "      <th>6740</th>\n",
       "      <td>6745</td>\n",
       "      <td>City</td>\n",
       "      <td>0.0</td>\n",
       "      <td>No Cars Available</td>\n",
       "      <td>2016-07-15 23:49:03</td>\n",
       "      <td>NaT</td>\n",
       "      <td>NaN</td>\n",
       "    </tr>\n",
       "    <tr>\n",
       "      <th>6741</th>\n",
       "      <td>6752</td>\n",
       "      <td>Airport</td>\n",
       "      <td>0.0</td>\n",
       "      <td>No Cars Available</td>\n",
       "      <td>2016-07-15 23:50:05</td>\n",
       "      <td>NaT</td>\n",
       "      <td>NaN</td>\n",
       "    </tr>\n",
       "    <tr>\n",
       "      <th>6742</th>\n",
       "      <td>6751</td>\n",
       "      <td>City</td>\n",
       "      <td>0.0</td>\n",
       "      <td>No Cars Available</td>\n",
       "      <td>2016-07-15 23:52:06</td>\n",
       "      <td>NaT</td>\n",
       "      <td>NaN</td>\n",
       "    </tr>\n",
       "    <tr>\n",
       "      <th>6743</th>\n",
       "      <td>6754</td>\n",
       "      <td>City</td>\n",
       "      <td>0.0</td>\n",
       "      <td>No Cars Available</td>\n",
       "      <td>2016-07-15 23:54:39</td>\n",
       "      <td>NaT</td>\n",
       "      <td>NaN</td>\n",
       "    </tr>\n",
       "    <tr>\n",
       "      <th>6744</th>\n",
       "      <td>6753</td>\n",
       "      <td>Airport</td>\n",
       "      <td>0.0</td>\n",
       "      <td>No Cars Available</td>\n",
       "      <td>2016-07-15 23:55:03</td>\n",
       "      <td>NaT</td>\n",
       "      <td>NaN</td>\n",
       "    </tr>\n",
       "  </tbody>\n",
       "</table>\n",
       "<p>6745 rows × 7 columns</p>\n",
       "</div>"
      ],
      "text/plain": [
       "      Request id Pickup point  Driver id             Status  \\\n",
       "0            619      Airport        1.0     Trip Completed   \n",
       "1            867      Airport        1.0     Trip Completed   \n",
       "2           1807         City        1.0     Trip Completed   \n",
       "3           2532      Airport        1.0     Trip Completed   \n",
       "4           3112         City        1.0     Trip Completed   \n",
       "...          ...          ...        ...                ...   \n",
       "6740        6745         City        0.0  No Cars Available   \n",
       "6741        6752      Airport        0.0  No Cars Available   \n",
       "6742        6751         City        0.0  No Cars Available   \n",
       "6743        6754         City        0.0  No Cars Available   \n",
       "6744        6753      Airport        0.0  No Cars Available   \n",
       "\n",
       "       Request timestamp      Drop timestamp  Minutes Taken  \n",
       "0    2016-11-07 11:51:00 2016-11-07 13:00:00      69.000000  \n",
       "1    2016-11-07 17:57:00 2016-11-07 18:47:00      50.000000  \n",
       "2    2016-12-07 09:17:00 2016-12-07 09:58:00      41.000000  \n",
       "3    2016-12-07 21:08:00 2016-12-07 22:03:00      55.000000  \n",
       "4    2016-07-13 08:33:16 2016-07-13 09:25:47      52.516667  \n",
       "...                  ...                 ...            ...  \n",
       "6740 2016-07-15 23:49:03                 NaT            NaN  \n",
       "6741 2016-07-15 23:50:05                 NaT            NaN  \n",
       "6742 2016-07-15 23:52:06                 NaT            NaN  \n",
       "6743 2016-07-15 23:54:39                 NaT            NaN  \n",
       "6744 2016-07-15 23:55:03                 NaT            NaN  \n",
       "\n",
       "[6745 rows x 7 columns]"
      ]
     },
     "execution_count": 20,
     "metadata": {},
     "output_type": "execute_result"
    }
   ],
   "source": [
    "n_data = data.drop(['Time Diff'], axis=1)\n",
    "n_data"
   ]
  },
  {
   "cell_type": "markdown",
   "id": "c9fcbb70",
   "metadata": {},
   "source": [
    "**We will create new column which will give us that in whichc hour the request was done**"
   ]
  },
  {
   "cell_type": "code",
   "execution_count": 21,
   "id": "25dcbf47",
   "metadata": {},
   "outputs": [],
   "source": [
    "data['Req Hours']  = data['Request timestamp'].apply(lambda x:x.hour)"
   ]
  },
  {
   "cell_type": "code",
   "execution_count": 22,
   "id": "1e210323",
   "metadata": {},
   "outputs": [
    {
     "data": {
      "text/html": [
       "<div>\n",
       "<style scoped>\n",
       "    .dataframe tbody tr th:only-of-type {\n",
       "        vertical-align: middle;\n",
       "    }\n",
       "\n",
       "    .dataframe tbody tr th {\n",
       "        vertical-align: top;\n",
       "    }\n",
       "\n",
       "    .dataframe thead th {\n",
       "        text-align: right;\n",
       "    }\n",
       "</style>\n",
       "<table border=\"1\" class=\"dataframe\">\n",
       "  <thead>\n",
       "    <tr style=\"text-align: right;\">\n",
       "      <th></th>\n",
       "      <th>Request id</th>\n",
       "      <th>Pickup point</th>\n",
       "      <th>Driver id</th>\n",
       "      <th>Status</th>\n",
       "      <th>Request timestamp</th>\n",
       "      <th>Drop timestamp</th>\n",
       "      <th>Time Diff</th>\n",
       "      <th>Minutes Taken</th>\n",
       "      <th>Req Hours</th>\n",
       "    </tr>\n",
       "  </thead>\n",
       "  <tbody>\n",
       "    <tr>\n",
       "      <th>0</th>\n",
       "      <td>619</td>\n",
       "      <td>Airport</td>\n",
       "      <td>1.0</td>\n",
       "      <td>Trip Completed</td>\n",
       "      <td>2016-11-07 11:51:00</td>\n",
       "      <td>2016-11-07 13:00:00</td>\n",
       "      <td>0 days 01:09:00</td>\n",
       "      <td>69.000000</td>\n",
       "      <td>11</td>\n",
       "    </tr>\n",
       "    <tr>\n",
       "      <th>1</th>\n",
       "      <td>867</td>\n",
       "      <td>Airport</td>\n",
       "      <td>1.0</td>\n",
       "      <td>Trip Completed</td>\n",
       "      <td>2016-11-07 17:57:00</td>\n",
       "      <td>2016-11-07 18:47:00</td>\n",
       "      <td>0 days 00:50:00</td>\n",
       "      <td>50.000000</td>\n",
       "      <td>17</td>\n",
       "    </tr>\n",
       "    <tr>\n",
       "      <th>2</th>\n",
       "      <td>1807</td>\n",
       "      <td>City</td>\n",
       "      <td>1.0</td>\n",
       "      <td>Trip Completed</td>\n",
       "      <td>2016-12-07 09:17:00</td>\n",
       "      <td>2016-12-07 09:58:00</td>\n",
       "      <td>0 days 00:41:00</td>\n",
       "      <td>41.000000</td>\n",
       "      <td>9</td>\n",
       "    </tr>\n",
       "    <tr>\n",
       "      <th>3</th>\n",
       "      <td>2532</td>\n",
       "      <td>Airport</td>\n",
       "      <td>1.0</td>\n",
       "      <td>Trip Completed</td>\n",
       "      <td>2016-12-07 21:08:00</td>\n",
       "      <td>2016-12-07 22:03:00</td>\n",
       "      <td>0 days 00:55:00</td>\n",
       "      <td>55.000000</td>\n",
       "      <td>21</td>\n",
       "    </tr>\n",
       "    <tr>\n",
       "      <th>4</th>\n",
       "      <td>3112</td>\n",
       "      <td>City</td>\n",
       "      <td>1.0</td>\n",
       "      <td>Trip Completed</td>\n",
       "      <td>2016-07-13 08:33:16</td>\n",
       "      <td>2016-07-13 09:25:47</td>\n",
       "      <td>0 days 00:52:31</td>\n",
       "      <td>52.516667</td>\n",
       "      <td>8</td>\n",
       "    </tr>\n",
       "  </tbody>\n",
       "</table>\n",
       "</div>"
      ],
      "text/plain": [
       "   Request id Pickup point  Driver id          Status   Request timestamp  \\\n",
       "0         619      Airport        1.0  Trip Completed 2016-11-07 11:51:00   \n",
       "1         867      Airport        1.0  Trip Completed 2016-11-07 17:57:00   \n",
       "2        1807         City        1.0  Trip Completed 2016-12-07 09:17:00   \n",
       "3        2532      Airport        1.0  Trip Completed 2016-12-07 21:08:00   \n",
       "4        3112         City        1.0  Trip Completed 2016-07-13 08:33:16   \n",
       "\n",
       "       Drop timestamp       Time Diff  Minutes Taken  Req Hours  \n",
       "0 2016-11-07 13:00:00 0 days 01:09:00      69.000000         11  \n",
       "1 2016-11-07 18:47:00 0 days 00:50:00      50.000000         17  \n",
       "2 2016-12-07 09:58:00 0 days 00:41:00      41.000000          9  \n",
       "3 2016-12-07 22:03:00 0 days 00:55:00      55.000000         21  \n",
       "4 2016-07-13 09:25:47 0 days 00:52:31      52.516667          8  "
      ]
     },
     "execution_count": 22,
     "metadata": {},
     "output_type": "execute_result"
    }
   ],
   "source": [
    "data.head(5)"
   ]
  },
  {
   "cell_type": "markdown",
   "id": "59c8d488",
   "metadata": {},
   "source": [
    "**We will now categorize our Hours in various sections like EARLY MORNING, MORNING,etc**"
   ]
  },
  {
   "cell_type": "code",
   "execution_count": 23,
   "id": "39061007",
   "metadata": {},
   "outputs": [],
   "source": [
    "def getTimeOfDay(x):\n",
    "    if x>=5 and x<8:\n",
    "        tod=\"Early Morning\"\n",
    "    elif x>=8 and x<12:\n",
    "        tod=\"Morning\"\n",
    "    elif x>=12 and x<16:\n",
    "        tod=\"Afternoon\"\n",
    "    elif x>=16 and x<19:\n",
    "        tod=\"Evening\"\n",
    "    elif x>=19 and x<23:\n",
    "        tod=\"Night\"\n",
    "    else:\n",
    "        tod=\"Late Night\"\n",
    "    return tod"
   ]
  },
  {
   "cell_type": "code",
   "execution_count": 24,
   "id": "f2966367",
   "metadata": {},
   "outputs": [],
   "source": [
    "data['Time of the Day'] = data['Req Hours'].apply(getTimeOfDay)"
   ]
  },
  {
   "cell_type": "code",
   "execution_count": 25,
   "id": "7e32ca51",
   "metadata": {},
   "outputs": [
    {
     "data": {
      "text/html": [
       "<div>\n",
       "<style scoped>\n",
       "    .dataframe tbody tr th:only-of-type {\n",
       "        vertical-align: middle;\n",
       "    }\n",
       "\n",
       "    .dataframe tbody tr th {\n",
       "        vertical-align: top;\n",
       "    }\n",
       "\n",
       "    .dataframe thead th {\n",
       "        text-align: right;\n",
       "    }\n",
       "</style>\n",
       "<table border=\"1\" class=\"dataframe\">\n",
       "  <thead>\n",
       "    <tr style=\"text-align: right;\">\n",
       "      <th></th>\n",
       "      <th>Request id</th>\n",
       "      <th>Pickup point</th>\n",
       "      <th>Driver id</th>\n",
       "      <th>Status</th>\n",
       "      <th>Request timestamp</th>\n",
       "      <th>Drop timestamp</th>\n",
       "      <th>Time Diff</th>\n",
       "      <th>Minutes Taken</th>\n",
       "      <th>Req Hours</th>\n",
       "      <th>Time of the Day</th>\n",
       "    </tr>\n",
       "  </thead>\n",
       "  <tbody>\n",
       "    <tr>\n",
       "      <th>0</th>\n",
       "      <td>619</td>\n",
       "      <td>Airport</td>\n",
       "      <td>1.0</td>\n",
       "      <td>Trip Completed</td>\n",
       "      <td>2016-11-07 11:51:00</td>\n",
       "      <td>2016-11-07 13:00:00</td>\n",
       "      <td>0 days 01:09:00</td>\n",
       "      <td>69.000000</td>\n",
       "      <td>11</td>\n",
       "      <td>Morning</td>\n",
       "    </tr>\n",
       "    <tr>\n",
       "      <th>1</th>\n",
       "      <td>867</td>\n",
       "      <td>Airport</td>\n",
       "      <td>1.0</td>\n",
       "      <td>Trip Completed</td>\n",
       "      <td>2016-11-07 17:57:00</td>\n",
       "      <td>2016-11-07 18:47:00</td>\n",
       "      <td>0 days 00:50:00</td>\n",
       "      <td>50.000000</td>\n",
       "      <td>17</td>\n",
       "      <td>Evening</td>\n",
       "    </tr>\n",
       "    <tr>\n",
       "      <th>2</th>\n",
       "      <td>1807</td>\n",
       "      <td>City</td>\n",
       "      <td>1.0</td>\n",
       "      <td>Trip Completed</td>\n",
       "      <td>2016-12-07 09:17:00</td>\n",
       "      <td>2016-12-07 09:58:00</td>\n",
       "      <td>0 days 00:41:00</td>\n",
       "      <td>41.000000</td>\n",
       "      <td>9</td>\n",
       "      <td>Morning</td>\n",
       "    </tr>\n",
       "    <tr>\n",
       "      <th>3</th>\n",
       "      <td>2532</td>\n",
       "      <td>Airport</td>\n",
       "      <td>1.0</td>\n",
       "      <td>Trip Completed</td>\n",
       "      <td>2016-12-07 21:08:00</td>\n",
       "      <td>2016-12-07 22:03:00</td>\n",
       "      <td>0 days 00:55:00</td>\n",
       "      <td>55.000000</td>\n",
       "      <td>21</td>\n",
       "      <td>Night</td>\n",
       "    </tr>\n",
       "    <tr>\n",
       "      <th>4</th>\n",
       "      <td>3112</td>\n",
       "      <td>City</td>\n",
       "      <td>1.0</td>\n",
       "      <td>Trip Completed</td>\n",
       "      <td>2016-07-13 08:33:16</td>\n",
       "      <td>2016-07-13 09:25:47</td>\n",
       "      <td>0 days 00:52:31</td>\n",
       "      <td>52.516667</td>\n",
       "      <td>8</td>\n",
       "      <td>Morning</td>\n",
       "    </tr>\n",
       "  </tbody>\n",
       "</table>\n",
       "</div>"
      ],
      "text/plain": [
       "   Request id Pickup point  Driver id          Status   Request timestamp  \\\n",
       "0         619      Airport        1.0  Trip Completed 2016-11-07 11:51:00   \n",
       "1         867      Airport        1.0  Trip Completed 2016-11-07 17:57:00   \n",
       "2        1807         City        1.0  Trip Completed 2016-12-07 09:17:00   \n",
       "3        2532      Airport        1.0  Trip Completed 2016-12-07 21:08:00   \n",
       "4        3112         City        1.0  Trip Completed 2016-07-13 08:33:16   \n",
       "\n",
       "       Drop timestamp       Time Diff  Minutes Taken  Req Hours  \\\n",
       "0 2016-11-07 13:00:00 0 days 01:09:00      69.000000         11   \n",
       "1 2016-11-07 18:47:00 0 days 00:50:00      50.000000         17   \n",
       "2 2016-12-07 09:58:00 0 days 00:41:00      41.000000          9   \n",
       "3 2016-12-07 22:03:00 0 days 00:55:00      55.000000         21   \n",
       "4 2016-07-13 09:25:47 0 days 00:52:31      52.516667          8   \n",
       "\n",
       "  Time of the Day  \n",
       "0         Morning  \n",
       "1         Evening  \n",
       "2         Morning  \n",
       "3           Night  \n",
       "4         Morning  "
      ]
     },
     "execution_count": 25,
     "metadata": {},
     "output_type": "execute_result"
    }
   ],
   "source": [
    "data.head()"
   ]
  },
  {
   "cell_type": "markdown",
   "id": "640f1a64",
   "metadata": {},
   "source": [
    "**Let's Find number of requests Received for each pickup point in various slots of the day**"
   ]
  },
  {
   "cell_type": "code",
   "execution_count": 40,
   "id": "ee47ae5b",
   "metadata": {},
   "outputs": [
    {
     "data": {
      "text/plain": [
       "Time of the Day  Pickup point\n",
       "Early Morning    Airport          264\n",
       "Afternoon        Airport          278\n",
       "Morning          Airport          301\n",
       "Evening          City             313\n",
       "Late Night       Airport          351\n",
       "Afternoon        City             373\n",
       "Late Night       City             421\n",
       "Night            City             448\n",
       "Evening          Airport          774\n",
       "Morning          City             967\n",
       "Early Morning    City             985\n",
       "Night            Airport         1270\n",
       "Name: Request id, dtype: int64"
      ]
     },
     "execution_count": 40,
     "metadata": {},
     "output_type": "execute_result"
    }
   ],
   "source": [
    "data.groupby(['Time of the Day', 'Pickup point'])['Request id'].count().sort_values()"
   ]
  },
  {
   "cell_type": "markdown",
   "id": "0cbed53f",
   "metadata": {},
   "source": [
    "As we can see in table above that maximum reuests were for Airport Pickup Point and were received in Night"
   ]
  },
  {
   "cell_type": "markdown",
   "id": "c81429b7",
   "metadata": {},
   "source": [
    "**Number of Requests and there Status for various Pickup Points**"
   ]
  },
  {
   "cell_type": "code",
   "execution_count": 41,
   "id": "2704a966",
   "metadata": {},
   "outputs": [
    {
     "data": {
      "text/plain": [
       "Status             Pickup point\n",
       "Cancelled          Airport          198\n",
       "                   City            1066\n",
       "No Cars Available  Airport         1713\n",
       "                   City             937\n",
       "Trip Completed     Airport         1327\n",
       "                   City            1504\n",
       "Name: Request id, dtype: int64"
      ]
     },
     "execution_count": 41,
     "metadata": {},
     "output_type": "execute_result"
    }
   ],
   "source": [
    "data.groupby(['Status', 'Pickup point'])['Request id'].count()"
   ]
  },
  {
   "cell_type": "markdown",
   "id": "5f7d4e0f",
   "metadata": {},
   "source": [
    "*Maximum requests cancelled were placed for City, Requests for which car was not available were from Airport and Most succesfull Trips were for City*"
   ]
  },
  {
   "cell_type": "markdown",
   "id": "f306c6d8",
   "metadata": {},
   "source": [
    "**Status of Trips in different TimeSlots**"
   ]
  },
  {
   "cell_type": "code",
   "execution_count": 28,
   "id": "14573574",
   "metadata": {},
   "outputs": [
    {
     "data": {
      "text/html": [
       "<div>\n",
       "<style scoped>\n",
       "    .dataframe tbody tr th:only-of-type {\n",
       "        vertical-align: middle;\n",
       "    }\n",
       "\n",
       "    .dataframe tbody tr th {\n",
       "        vertical-align: top;\n",
       "    }\n",
       "\n",
       "    .dataframe thead th {\n",
       "        text-align: right;\n",
       "    }\n",
       "</style>\n",
       "<table border=\"1\" class=\"dataframe\">\n",
       "  <thead>\n",
       "    <tr style=\"text-align: right;\">\n",
       "      <th>Status</th>\n",
       "      <th>Cancelled</th>\n",
       "      <th>No Cars Available</th>\n",
       "      <th>Trip Completed</th>\n",
       "    </tr>\n",
       "    <tr>\n",
       "      <th>Time of the Day</th>\n",
       "      <th></th>\n",
       "      <th></th>\n",
       "      <th></th>\n",
       "    </tr>\n",
       "  </thead>\n",
       "  <tbody>\n",
       "    <tr>\n",
       "      <th>Afternoon</th>\n",
       "      <td>69</td>\n",
       "      <td>182</td>\n",
       "      <td>400</td>\n",
       "    </tr>\n",
       "    <tr>\n",
       "      <th>Early Morning</th>\n",
       "      <td>490</td>\n",
       "      <td>233</td>\n",
       "      <td>526</td>\n",
       "    </tr>\n",
       "    <tr>\n",
       "      <th>Evening</th>\n",
       "      <td>81</td>\n",
       "      <td>600</td>\n",
       "      <td>406</td>\n",
       "    </tr>\n",
       "    <tr>\n",
       "      <th>Late Night</th>\n",
       "      <td>75</td>\n",
       "      <td>380</td>\n",
       "      <td>317</td>\n",
       "    </tr>\n",
       "    <tr>\n",
       "      <th>Morning</th>\n",
       "      <td>430</td>\n",
       "      <td>279</td>\n",
       "      <td>559</td>\n",
       "    </tr>\n",
       "    <tr>\n",
       "      <th>Night</th>\n",
       "      <td>119</td>\n",
       "      <td>976</td>\n",
       "      <td>623</td>\n",
       "    </tr>\n",
       "  </tbody>\n",
       "</table>\n",
       "</div>"
      ],
      "text/plain": [
       "Status           Cancelled  No Cars Available  Trip Completed\n",
       "Time of the Day                                              \n",
       "Afternoon               69                182             400\n",
       "Early Morning          490                233             526\n",
       "Evening                 81                600             406\n",
       "Late Night              75                380             317\n",
       "Morning                430                279             559\n",
       "Night                  119                976             623"
      ]
     },
     "execution_count": 28,
     "metadata": {},
     "output_type": "execute_result"
    }
   ],
   "source": [
    "supply_demand_timeslots=pd.pivot_table(data, 'Request id', ['Time of the Day'], ['Status'],aggfunc='count')\n",
    "supply_demand_timeslots"
   ]
  },
  {
   "cell_type": "markdown",
   "id": "65e85f0f",
   "metadata": {},
   "source": [
    "**Mean Time required for each Time slot**"
   ]
  },
  {
   "cell_type": "code",
   "execution_count": 29,
   "id": "6276adc7",
   "metadata": {},
   "outputs": [
    {
     "data": {
      "text/html": [
       "<div>\n",
       "<style scoped>\n",
       "    .dataframe tbody tr th:only-of-type {\n",
       "        vertical-align: middle;\n",
       "    }\n",
       "\n",
       "    .dataframe tbody tr th {\n",
       "        vertical-align: top;\n",
       "    }\n",
       "\n",
       "    .dataframe thead th {\n",
       "        text-align: right;\n",
       "    }\n",
       "</style>\n",
       "<table border=\"1\" class=\"dataframe\">\n",
       "  <thead>\n",
       "    <tr style=\"text-align: right;\">\n",
       "      <th>Status</th>\n",
       "      <th>Trip Completed</th>\n",
       "    </tr>\n",
       "    <tr>\n",
       "      <th>Time of the Day</th>\n",
       "      <th></th>\n",
       "    </tr>\n",
       "  </thead>\n",
       "  <tbody>\n",
       "    <tr>\n",
       "      <th>Afternoon</th>\n",
       "      <td>52.122375</td>\n",
       "    </tr>\n",
       "    <tr>\n",
       "      <th>Early Morning</th>\n",
       "      <td>52.703010</td>\n",
       "    </tr>\n",
       "    <tr>\n",
       "      <th>Evening</th>\n",
       "      <td>51.533662</td>\n",
       "    </tr>\n",
       "    <tr>\n",
       "      <th>Late Night</th>\n",
       "      <td>52.989905</td>\n",
       "    </tr>\n",
       "    <tr>\n",
       "      <th>Morning</th>\n",
       "      <td>52.487955</td>\n",
       "    </tr>\n",
       "    <tr>\n",
       "      <th>Night</th>\n",
       "      <td>52.570412</td>\n",
       "    </tr>\n",
       "  </tbody>\n",
       "</table>\n",
       "</div>"
      ],
      "text/plain": [
       "Status           Trip Completed\n",
       "Time of the Day                \n",
       "Afternoon             52.122375\n",
       "Early Morning         52.703010\n",
       "Evening               51.533662\n",
       "Late Night            52.989905\n",
       "Morning               52.487955\n",
       "Night                 52.570412"
      ]
     },
     "execution_count": 29,
     "metadata": {},
     "output_type": "execute_result"
    }
   ],
   "source": [
    "Avgeragetime_timeslots=pd.pivot_table(data, 'Minutes Taken', ['Time of the Day'], ['Status'],aggfunc='mean')\n",
    "Avgeragetime_timeslots"
   ]
  },
  {
   "cell_type": "markdown",
   "id": "6565f5ab",
   "metadata": {},
   "source": [
    "**Created new DataFrame which contains only cancelled and incomplete requests**"
   ]
  },
  {
   "cell_type": "code",
   "execution_count": 30,
   "id": "31012043",
   "metadata": {},
   "outputs": [],
   "source": [
    "incomplete = ['Cancelled', 'No Cars Available']\n",
    "uber_incomplete_trip = data[data['Status'].isin(incomplete)]"
   ]
  },
  {
   "cell_type": "code",
   "execution_count": 31,
   "id": "e914bedd",
   "metadata": {},
   "outputs": [
    {
     "data": {
      "text/html": [
       "<div>\n",
       "<style scoped>\n",
       "    .dataframe tbody tr th:only-of-type {\n",
       "        vertical-align: middle;\n",
       "    }\n",
       "\n",
       "    .dataframe tbody tr th {\n",
       "        vertical-align: top;\n",
       "    }\n",
       "\n",
       "    .dataframe thead th {\n",
       "        text-align: right;\n",
       "    }\n",
       "</style>\n",
       "<table border=\"1\" class=\"dataframe\">\n",
       "  <thead>\n",
       "    <tr style=\"text-align: right;\">\n",
       "      <th></th>\n",
       "      <th>Request id</th>\n",
       "      <th>Pickup point</th>\n",
       "      <th>Driver id</th>\n",
       "      <th>Status</th>\n",
       "      <th>Request timestamp</th>\n",
       "      <th>Drop timestamp</th>\n",
       "      <th>Time Diff</th>\n",
       "      <th>Minutes Taken</th>\n",
       "      <th>Req Hours</th>\n",
       "      <th>Time of the Day</th>\n",
       "    </tr>\n",
       "  </thead>\n",
       "  <tbody>\n",
       "    <tr>\n",
       "      <th>2831</th>\n",
       "      <td>2905</td>\n",
       "      <td>City</td>\n",
       "      <td>1.0</td>\n",
       "      <td>Cancelled</td>\n",
       "      <td>2016-07-13 06:08:41</td>\n",
       "      <td>NaT</td>\n",
       "      <td>NaT</td>\n",
       "      <td>NaN</td>\n",
       "      <td>6</td>\n",
       "      <td>Early Morning</td>\n",
       "    </tr>\n",
       "    <tr>\n",
       "      <th>2832</th>\n",
       "      <td>4805</td>\n",
       "      <td>City</td>\n",
       "      <td>1.0</td>\n",
       "      <td>Cancelled</td>\n",
       "      <td>2016-07-14 17:07:58</td>\n",
       "      <td>NaT</td>\n",
       "      <td>NaT</td>\n",
       "      <td>NaN</td>\n",
       "      <td>17</td>\n",
       "      <td>Evening</td>\n",
       "    </tr>\n",
       "    <tr>\n",
       "      <th>2833</th>\n",
       "      <td>5202</td>\n",
       "      <td>Airport</td>\n",
       "      <td>1.0</td>\n",
       "      <td>Cancelled</td>\n",
       "      <td>2016-07-14 20:51:37</td>\n",
       "      <td>NaT</td>\n",
       "      <td>NaT</td>\n",
       "      <td>NaN</td>\n",
       "      <td>20</td>\n",
       "      <td>Night</td>\n",
       "    </tr>\n",
       "    <tr>\n",
       "      <th>2834</th>\n",
       "      <td>5927</td>\n",
       "      <td>City</td>\n",
       "      <td>1.0</td>\n",
       "      <td>Cancelled</td>\n",
       "      <td>2016-07-15 10:12:40</td>\n",
       "      <td>NaT</td>\n",
       "      <td>NaT</td>\n",
       "      <td>NaN</td>\n",
       "      <td>10</td>\n",
       "      <td>Morning</td>\n",
       "    </tr>\n",
       "    <tr>\n",
       "      <th>2835</th>\n",
       "      <td>2347</td>\n",
       "      <td>Airport</td>\n",
       "      <td>2.0</td>\n",
       "      <td>Cancelled</td>\n",
       "      <td>2016-12-07 19:14:00</td>\n",
       "      <td>NaT</td>\n",
       "      <td>NaT</td>\n",
       "      <td>NaN</td>\n",
       "      <td>19</td>\n",
       "      <td>Night</td>\n",
       "    </tr>\n",
       "  </tbody>\n",
       "</table>\n",
       "</div>"
      ],
      "text/plain": [
       "      Request id Pickup point  Driver id     Status   Request timestamp  \\\n",
       "2831        2905         City        1.0  Cancelled 2016-07-13 06:08:41   \n",
       "2832        4805         City        1.0  Cancelled 2016-07-14 17:07:58   \n",
       "2833        5202      Airport        1.0  Cancelled 2016-07-14 20:51:37   \n",
       "2834        5927         City        1.0  Cancelled 2016-07-15 10:12:40   \n",
       "2835        2347      Airport        2.0  Cancelled 2016-12-07 19:14:00   \n",
       "\n",
       "     Drop timestamp Time Diff  Minutes Taken  Req Hours Time of the Day  \n",
       "2831            NaT       NaT            NaN          6   Early Morning  \n",
       "2832            NaT       NaT            NaN         17         Evening  \n",
       "2833            NaT       NaT            NaN         20           Night  \n",
       "2834            NaT       NaT            NaN         10         Morning  \n",
       "2835            NaT       NaT            NaN         19           Night  "
      ]
     },
     "execution_count": 31,
     "metadata": {},
     "output_type": "execute_result"
    }
   ],
   "source": [
    "uber_incomplete_trip.head()"
   ]
  },
  {
   "cell_type": "code",
   "execution_count": 32,
   "id": "b0b3d225",
   "metadata": {},
   "outputs": [
    {
     "data": {
      "text/plain": [
       "Pickup point\n",
       "Airport    1911\n",
       "City       2003\n",
       "Name: Request id, dtype: int64"
      ]
     },
     "execution_count": 32,
     "metadata": {},
     "output_type": "execute_result"
    }
   ],
   "source": [
    "uber_incomplete_trip.groupby('Pickup point')['Request id'].count()"
   ]
  },
  {
   "cell_type": "markdown",
   "id": "25e89b54",
   "metadata": {},
   "source": [
    "*Max incomplete requests were for City*"
   ]
  },
  {
   "cell_type": "code",
   "execution_count": 33,
   "id": "cd986227",
   "metadata": {},
   "outputs": [
    {
     "data": {
      "text/plain": [
       "Pickup point  Time of the Day\n",
       "Airport       Afternoon           91\n",
       "              Early Morning       23\n",
       "              Evening            581\n",
       "              Late Night         186\n",
       "              Morning             58\n",
       "              Night              972\n",
       "City          Afternoon          160\n",
       "              Early Morning      700\n",
       "              Evening            100\n",
       "              Late Night         269\n",
       "              Morning            651\n",
       "              Night              123\n",
       "Name: Request id, dtype: int64"
      ]
     },
     "execution_count": 33,
     "metadata": {},
     "output_type": "execute_result"
    }
   ],
   "source": [
    "uber_incomplete_trip.groupby(['Pickup point', 'Time of the Day'])['Request id'].count()"
   ]
  },
  {
   "cell_type": "code",
   "execution_count": 34,
   "id": "5f7af938",
   "metadata": {},
   "outputs": [
    {
     "data": {
      "text/plain": [
       "Time of the Day  Status           \n",
       "Afternoon        Cancelled             69\n",
       "                 No Cars Available    182\n",
       "Early Morning    Cancelled            490\n",
       "                 No Cars Available    233\n",
       "Evening          Cancelled             81\n",
       "                 No Cars Available    600\n",
       "Late Night       Cancelled             75\n",
       "                 No Cars Available    380\n",
       "Morning          Cancelled            430\n",
       "                 No Cars Available    279\n",
       "Night            Cancelled            119\n",
       "                 No Cars Available    976\n",
       "Name: Request id, dtype: int64"
      ]
     },
     "execution_count": 34,
     "metadata": {},
     "output_type": "execute_result"
    }
   ],
   "source": [
    "uber_incomplete_trip.groupby(['Time of the Day', 'Status'])['Request id'].count()"
   ]
  },
  {
   "cell_type": "markdown",
   "id": "d57010e3",
   "metadata": {},
   "source": [
    "**New DataFrame that contains conly completed Trip Request data**"
   ]
  },
  {
   "cell_type": "code",
   "execution_count": 35,
   "id": "569e8b40",
   "metadata": {},
   "outputs": [],
   "source": [
    "uber_complete_trip =  data[data['Status']== 'Trip Completed']"
   ]
  },
  {
   "cell_type": "code",
   "execution_count": 36,
   "id": "0db687fa",
   "metadata": {},
   "outputs": [
    {
     "data": {
      "text/html": [
       "<div>\n",
       "<style scoped>\n",
       "    .dataframe tbody tr th:only-of-type {\n",
       "        vertical-align: middle;\n",
       "    }\n",
       "\n",
       "    .dataframe tbody tr th {\n",
       "        vertical-align: top;\n",
       "    }\n",
       "\n",
       "    .dataframe thead th {\n",
       "        text-align: right;\n",
       "    }\n",
       "</style>\n",
       "<table border=\"1\" class=\"dataframe\">\n",
       "  <thead>\n",
       "    <tr style=\"text-align: right;\">\n",
       "      <th></th>\n",
       "      <th>Request id</th>\n",
       "      <th>Pickup point</th>\n",
       "      <th>Driver id</th>\n",
       "      <th>Status</th>\n",
       "      <th>Request timestamp</th>\n",
       "      <th>Drop timestamp</th>\n",
       "      <th>Time Diff</th>\n",
       "      <th>Minutes Taken</th>\n",
       "      <th>Req Hours</th>\n",
       "      <th>Time of the Day</th>\n",
       "    </tr>\n",
       "  </thead>\n",
       "  <tbody>\n",
       "    <tr>\n",
       "      <th>1058</th>\n",
       "      <td>469</td>\n",
       "      <td>Airport</td>\n",
       "      <td>110.0</td>\n",
       "      <td>Trip Completed</td>\n",
       "      <td>2016-11-07 09:24:00</td>\n",
       "      <td>2016-11-07 10:04:00</td>\n",
       "      <td>0 days 00:40:00</td>\n",
       "      <td>40.0</td>\n",
       "      <td>9</td>\n",
       "      <td>Morning</td>\n",
       "    </tr>\n",
       "  </tbody>\n",
       "</table>\n",
       "</div>"
      ],
      "text/plain": [
       "      Request id Pickup point  Driver id          Status   Request timestamp  \\\n",
       "1058         469      Airport      110.0  Trip Completed 2016-11-07 09:24:00   \n",
       "\n",
       "          Drop timestamp       Time Diff  Minutes Taken  Req Hours  \\\n",
       "1058 2016-11-07 10:04:00 0 days 00:40:00           40.0          9   \n",
       "\n",
       "     Time of the Day  \n",
       "1058         Morning  "
      ]
     },
     "execution_count": 36,
     "metadata": {},
     "output_type": "execute_result"
    }
   ],
   "source": [
    "uber_complete_trip.sample()"
   ]
  },
  {
   "cell_type": "code",
   "execution_count": 37,
   "id": "89b4e5c0",
   "metadata": {},
   "outputs": [
    {
     "data": {
      "text/plain": [
       "Pickup point  Time of the Day\n",
       "Airport       Afternoon          51.507308\n",
       "              Early Morning      51.611618\n",
       "              Evening            52.600604\n",
       "              Late Night         52.443535\n",
       "              Morning            52.225034\n",
       "              Night              52.867226\n",
       "City          Afternoon          52.662363\n",
       "              Early Morning      53.625906\n",
       "              Evening            50.566901\n",
       "              Late Night         53.583004\n",
       "              Morning            52.690137\n",
       "              Night              52.298256\n",
       "Name: Minutes Taken, dtype: float64"
      ]
     },
     "execution_count": 37,
     "metadata": {},
     "output_type": "execute_result"
    }
   ],
   "source": [
    "uber_complete_trip.groupby(['Pickup point', 'Time of the Day'])['Minutes Taken'].mean()"
   ]
  },
  {
   "cell_type": "code",
   "execution_count": 42,
   "id": "3160d9d6",
   "metadata": {},
   "outputs": [
    {
     "data": {
      "text/plain": [
       "Pickup point  Time of the Day\n",
       "Airport       Afternoon          187\n",
       "              Early Morning      241\n",
       "              Evening            193\n",
       "              Late Night         165\n",
       "              Morning            243\n",
       "              Night              298\n",
       "City          Afternoon          213\n",
       "              Early Morning      285\n",
       "              Evening            213\n",
       "              Late Night         152\n",
       "              Morning            316\n",
       "              Night              325\n",
       "Name: Request id, dtype: int64"
      ]
     },
     "execution_count": 42,
     "metadata": {},
     "output_type": "execute_result"
    }
   ],
   "source": [
    "uber_complete_trip.groupby(['Pickup point', 'Time of the Day'])['Request id'].count()"
   ]
  },
  {
   "cell_type": "code",
   "execution_count": null,
   "id": "e99852fb",
   "metadata": {},
   "outputs": [],
   "source": []
  }
 ],
 "metadata": {
  "kernelspec": {
   "display_name": "Python 3",
   "language": "python",
   "name": "python3"
  },
  "language_info": {
   "codemirror_mode": {
    "name": "ipython",
    "version": 3
   },
   "file_extension": ".py",
   "mimetype": "text/x-python",
   "name": "python",
   "nbconvert_exporter": "python",
   "pygments_lexer": "ipython3",
   "version": "3.8.8"
  }
 },
 "nbformat": 4,
 "nbformat_minor": 5
}
