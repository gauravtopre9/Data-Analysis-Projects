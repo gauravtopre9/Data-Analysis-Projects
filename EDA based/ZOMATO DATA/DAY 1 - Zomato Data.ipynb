{
 "cells": [
  {
   "cell_type": "markdown",
   "id": "0b15bdad",
   "metadata": {},
   "source": [
    "# ZOMATO DATA"
   ]
  },
  {
   "cell_type": "markdown",
   "id": "56e381d3",
   "metadata": {},
   "source": [
    "# Exploratory Data Analysis "
   ]
  },
  {
   "cell_type": "markdown",
   "id": "dd06d1e2",
   "metadata": {},
   "source": [
    "**Importing Libraries**"
   ]
  },
  {
   "cell_type": "code",
   "execution_count": 1,
   "id": "b543ebcc",
   "metadata": {},
   "outputs": [],
   "source": [
    "import pandas as pd\n",
    "import numpy as np\n",
    "import matplotlib.pyplot as plt\n",
    "import seaborn as sns\n",
    "\n",
    "%matplotlib inline"
   ]
  },
  {
   "cell_type": "code",
   "execution_count": 2,
   "id": "c2b13a14",
   "metadata": {},
   "outputs": [],
   "source": [
    "df = pd.read_csv('zomato.csv',encoding = 'latin-1')"
   ]
  },
  {
   "cell_type": "markdown",
   "id": "a4f6f0a1",
   "metadata": {},
   "source": [
    "**Here we have used Encoding**\n",
    "\n",
    "Explore this Section"
   ]
  },
  {
   "cell_type": "markdown",
   "id": "4c0f4437",
   "metadata": {},
   "source": [
    "## How our data looks ?"
   ]
  },
  {
   "cell_type": "code",
   "execution_count": 3,
   "id": "3c65de2b",
   "metadata": {},
   "outputs": [
    {
     "data": {
      "text/html": [
       "<div>\n",
       "<style scoped>\n",
       "    .dataframe tbody tr th:only-of-type {\n",
       "        vertical-align: middle;\n",
       "    }\n",
       "\n",
       "    .dataframe tbody tr th {\n",
       "        vertical-align: top;\n",
       "    }\n",
       "\n",
       "    .dataframe thead th {\n",
       "        text-align: right;\n",
       "    }\n",
       "</style>\n",
       "<table border=\"1\" class=\"dataframe\">\n",
       "  <thead>\n",
       "    <tr style=\"text-align: right;\">\n",
       "      <th></th>\n",
       "      <th>Restaurant ID</th>\n",
       "      <th>Restaurant Name</th>\n",
       "      <th>Country Code</th>\n",
       "      <th>City</th>\n",
       "      <th>Address</th>\n",
       "      <th>Locality</th>\n",
       "      <th>Locality Verbose</th>\n",
       "      <th>Longitude</th>\n",
       "      <th>Latitude</th>\n",
       "      <th>Cuisines</th>\n",
       "      <th>...</th>\n",
       "      <th>Currency</th>\n",
       "      <th>Has Table booking</th>\n",
       "      <th>Has Online delivery</th>\n",
       "      <th>Is delivering now</th>\n",
       "      <th>Switch to order menu</th>\n",
       "      <th>Price range</th>\n",
       "      <th>Aggregate rating</th>\n",
       "      <th>Rating color</th>\n",
       "      <th>Rating text</th>\n",
       "      <th>Votes</th>\n",
       "    </tr>\n",
       "  </thead>\n",
       "  <tbody>\n",
       "    <tr>\n",
       "      <th>0</th>\n",
       "      <td>6317637</td>\n",
       "      <td>Le Petit Souffle</td>\n",
       "      <td>162</td>\n",
       "      <td>Makati City</td>\n",
       "      <td>Third Floor, Century City Mall, Kalayaan Avenu...</td>\n",
       "      <td>Century City Mall, Poblacion, Makati City</td>\n",
       "      <td>Century City Mall, Poblacion, Makati City, Mak...</td>\n",
       "      <td>121.027535</td>\n",
       "      <td>14.565443</td>\n",
       "      <td>French, Japanese, Desserts</td>\n",
       "      <td>...</td>\n",
       "      <td>Botswana Pula(P)</td>\n",
       "      <td>Yes</td>\n",
       "      <td>No</td>\n",
       "      <td>No</td>\n",
       "      <td>No</td>\n",
       "      <td>3</td>\n",
       "      <td>4.8</td>\n",
       "      <td>Dark Green</td>\n",
       "      <td>Excellent</td>\n",
       "      <td>314</td>\n",
       "    </tr>\n",
       "    <tr>\n",
       "      <th>1</th>\n",
       "      <td>6304287</td>\n",
       "      <td>Izakaya Kikufuji</td>\n",
       "      <td>162</td>\n",
       "      <td>Makati City</td>\n",
       "      <td>Little Tokyo, 2277 Chino Roces Avenue, Legaspi...</td>\n",
       "      <td>Little Tokyo, Legaspi Village, Makati City</td>\n",
       "      <td>Little Tokyo, Legaspi Village, Makati City, Ma...</td>\n",
       "      <td>121.014101</td>\n",
       "      <td>14.553708</td>\n",
       "      <td>Japanese</td>\n",
       "      <td>...</td>\n",
       "      <td>Botswana Pula(P)</td>\n",
       "      <td>Yes</td>\n",
       "      <td>No</td>\n",
       "      <td>No</td>\n",
       "      <td>No</td>\n",
       "      <td>3</td>\n",
       "      <td>4.5</td>\n",
       "      <td>Dark Green</td>\n",
       "      <td>Excellent</td>\n",
       "      <td>591</td>\n",
       "    </tr>\n",
       "    <tr>\n",
       "      <th>2</th>\n",
       "      <td>6300002</td>\n",
       "      <td>Heat - Edsa Shangri-La</td>\n",
       "      <td>162</td>\n",
       "      <td>Mandaluyong City</td>\n",
       "      <td>Edsa Shangri-La, 1 Garden Way, Ortigas, Mandal...</td>\n",
       "      <td>Edsa Shangri-La, Ortigas, Mandaluyong City</td>\n",
       "      <td>Edsa Shangri-La, Ortigas, Mandaluyong City, Ma...</td>\n",
       "      <td>121.056831</td>\n",
       "      <td>14.581404</td>\n",
       "      <td>Seafood, Asian, Filipino, Indian</td>\n",
       "      <td>...</td>\n",
       "      <td>Botswana Pula(P)</td>\n",
       "      <td>Yes</td>\n",
       "      <td>No</td>\n",
       "      <td>No</td>\n",
       "      <td>No</td>\n",
       "      <td>4</td>\n",
       "      <td>4.4</td>\n",
       "      <td>Green</td>\n",
       "      <td>Very Good</td>\n",
       "      <td>270</td>\n",
       "    </tr>\n",
       "    <tr>\n",
       "      <th>3</th>\n",
       "      <td>6318506</td>\n",
       "      <td>Ooma</td>\n",
       "      <td>162</td>\n",
       "      <td>Mandaluyong City</td>\n",
       "      <td>Third Floor, Mega Fashion Hall, SM Megamall, O...</td>\n",
       "      <td>SM Megamall, Ortigas, Mandaluyong City</td>\n",
       "      <td>SM Megamall, Ortigas, Mandaluyong City, Mandal...</td>\n",
       "      <td>121.056475</td>\n",
       "      <td>14.585318</td>\n",
       "      <td>Japanese, Sushi</td>\n",
       "      <td>...</td>\n",
       "      <td>Botswana Pula(P)</td>\n",
       "      <td>No</td>\n",
       "      <td>No</td>\n",
       "      <td>No</td>\n",
       "      <td>No</td>\n",
       "      <td>4</td>\n",
       "      <td>4.9</td>\n",
       "      <td>Dark Green</td>\n",
       "      <td>Excellent</td>\n",
       "      <td>365</td>\n",
       "    </tr>\n",
       "    <tr>\n",
       "      <th>4</th>\n",
       "      <td>6314302</td>\n",
       "      <td>Sambo Kojin</td>\n",
       "      <td>162</td>\n",
       "      <td>Mandaluyong City</td>\n",
       "      <td>Third Floor, Mega Atrium, SM Megamall, Ortigas...</td>\n",
       "      <td>SM Megamall, Ortigas, Mandaluyong City</td>\n",
       "      <td>SM Megamall, Ortigas, Mandaluyong City, Mandal...</td>\n",
       "      <td>121.057508</td>\n",
       "      <td>14.584450</td>\n",
       "      <td>Japanese, Korean</td>\n",
       "      <td>...</td>\n",
       "      <td>Botswana Pula(P)</td>\n",
       "      <td>Yes</td>\n",
       "      <td>No</td>\n",
       "      <td>No</td>\n",
       "      <td>No</td>\n",
       "      <td>4</td>\n",
       "      <td>4.8</td>\n",
       "      <td>Dark Green</td>\n",
       "      <td>Excellent</td>\n",
       "      <td>229</td>\n",
       "    </tr>\n",
       "  </tbody>\n",
       "</table>\n",
       "<p>5 rows × 21 columns</p>\n",
       "</div>"
      ],
      "text/plain": [
       "   Restaurant ID         Restaurant Name  Country Code              City  \\\n",
       "0        6317637        Le Petit Souffle           162       Makati City   \n",
       "1        6304287        Izakaya Kikufuji           162       Makati City   \n",
       "2        6300002  Heat - Edsa Shangri-La           162  Mandaluyong City   \n",
       "3        6318506                    Ooma           162  Mandaluyong City   \n",
       "4        6314302             Sambo Kojin           162  Mandaluyong City   \n",
       "\n",
       "                                             Address  \\\n",
       "0  Third Floor, Century City Mall, Kalayaan Avenu...   \n",
       "1  Little Tokyo, 2277 Chino Roces Avenue, Legaspi...   \n",
       "2  Edsa Shangri-La, 1 Garden Way, Ortigas, Mandal...   \n",
       "3  Third Floor, Mega Fashion Hall, SM Megamall, O...   \n",
       "4  Third Floor, Mega Atrium, SM Megamall, Ortigas...   \n",
       "\n",
       "                                     Locality  \\\n",
       "0   Century City Mall, Poblacion, Makati City   \n",
       "1  Little Tokyo, Legaspi Village, Makati City   \n",
       "2  Edsa Shangri-La, Ortigas, Mandaluyong City   \n",
       "3      SM Megamall, Ortigas, Mandaluyong City   \n",
       "4      SM Megamall, Ortigas, Mandaluyong City   \n",
       "\n",
       "                                    Locality Verbose   Longitude   Latitude  \\\n",
       "0  Century City Mall, Poblacion, Makati City, Mak...  121.027535  14.565443   \n",
       "1  Little Tokyo, Legaspi Village, Makati City, Ma...  121.014101  14.553708   \n",
       "2  Edsa Shangri-La, Ortigas, Mandaluyong City, Ma...  121.056831  14.581404   \n",
       "3  SM Megamall, Ortigas, Mandaluyong City, Mandal...  121.056475  14.585318   \n",
       "4  SM Megamall, Ortigas, Mandaluyong City, Mandal...  121.057508  14.584450   \n",
       "\n",
       "                           Cuisines  ...          Currency Has Table booking  \\\n",
       "0        French, Japanese, Desserts  ...  Botswana Pula(P)               Yes   \n",
       "1                          Japanese  ...  Botswana Pula(P)               Yes   \n",
       "2  Seafood, Asian, Filipino, Indian  ...  Botswana Pula(P)               Yes   \n",
       "3                   Japanese, Sushi  ...  Botswana Pula(P)                No   \n",
       "4                  Japanese, Korean  ...  Botswana Pula(P)               Yes   \n",
       "\n",
       "  Has Online delivery Is delivering now Switch to order menu Price range  \\\n",
       "0                  No                No                   No           3   \n",
       "1                  No                No                   No           3   \n",
       "2                  No                No                   No           4   \n",
       "3                  No                No                   No           4   \n",
       "4                  No                No                   No           4   \n",
       "\n",
       "   Aggregate rating  Rating color Rating text Votes  \n",
       "0               4.8    Dark Green   Excellent   314  \n",
       "1               4.5    Dark Green   Excellent   591  \n",
       "2               4.4         Green   Very Good   270  \n",
       "3               4.9    Dark Green   Excellent   365  \n",
       "4               4.8    Dark Green   Excellent   229  \n",
       "\n",
       "[5 rows x 21 columns]"
      ]
     },
     "execution_count": 3,
     "metadata": {},
     "output_type": "execute_result"
    }
   ],
   "source": [
    "df.head()"
   ]
  },
  {
   "cell_type": "markdown",
   "id": "9e66ca37",
   "metadata": {},
   "source": [
    "## Checking Shape of Data"
   ]
  },
  {
   "cell_type": "code",
   "execution_count": 4,
   "id": "9e1a8159",
   "metadata": {},
   "outputs": [
    {
     "data": {
      "text/plain": [
       "(9551, 21)"
      ]
     },
     "execution_count": 4,
     "metadata": {},
     "output_type": "execute_result"
    }
   ],
   "source": [
    "df.shape"
   ]
  },
  {
   "cell_type": "markdown",
   "id": "1609e910",
   "metadata": {},
   "source": [
    "## What are the columns present in data ?"
   ]
  },
  {
   "cell_type": "code",
   "execution_count": 5,
   "id": "89e1e51a",
   "metadata": {},
   "outputs": [
    {
     "data": {
      "text/plain": [
       "Index(['Restaurant ID', 'Restaurant Name', 'Country Code', 'City', 'Address',\n",
       "       'Locality', 'Locality Verbose', 'Longitude', 'Latitude', 'Cuisines',\n",
       "       'Average Cost for two', 'Currency', 'Has Table booking',\n",
       "       'Has Online delivery', 'Is delivering now', 'Switch to order menu',\n",
       "       'Price range', 'Aggregate rating', 'Rating color', 'Rating text',\n",
       "       'Votes'],\n",
       "      dtype='object')"
      ]
     },
     "execution_count": 5,
     "metadata": {},
     "output_type": "execute_result"
    }
   ],
   "source": [
    "df.columns"
   ]
  },
  {
   "cell_type": "markdown",
   "id": "46953d14",
   "metadata": {},
   "source": [
    "## Checking Info "
   ]
  },
  {
   "cell_type": "code",
   "execution_count": 6,
   "id": "20161c4e",
   "metadata": {},
   "outputs": [
    {
     "name": "stdout",
     "output_type": "stream",
     "text": [
      "<class 'pandas.core.frame.DataFrame'>\n",
      "RangeIndex: 9551 entries, 0 to 9550\n",
      "Data columns (total 21 columns):\n",
      " #   Column                Non-Null Count  Dtype  \n",
      "---  ------                --------------  -----  \n",
      " 0   Restaurant ID         9551 non-null   int64  \n",
      " 1   Restaurant Name       9551 non-null   object \n",
      " 2   Country Code          9551 non-null   int64  \n",
      " 3   City                  9551 non-null   object \n",
      " 4   Address               9551 non-null   object \n",
      " 5   Locality              9551 non-null   object \n",
      " 6   Locality Verbose      9551 non-null   object \n",
      " 7   Longitude             9551 non-null   float64\n",
      " 8   Latitude              9551 non-null   float64\n",
      " 9   Cuisines              9542 non-null   object \n",
      " 10  Average Cost for two  9551 non-null   int64  \n",
      " 11  Currency              9551 non-null   object \n",
      " 12  Has Table booking     9551 non-null   object \n",
      " 13  Has Online delivery   9551 non-null   object \n",
      " 14  Is delivering now     9551 non-null   object \n",
      " 15  Switch to order menu  9551 non-null   object \n",
      " 16  Price range           9551 non-null   int64  \n",
      " 17  Aggregate rating      9551 non-null   float64\n",
      " 18  Rating color          9551 non-null   object \n",
      " 19  Rating text           9551 non-null   object \n",
      " 20  Votes                 9551 non-null   int64  \n",
      "dtypes: float64(3), int64(5), object(13)\n",
      "memory usage: 1.5+ MB\n"
     ]
    }
   ],
   "source": [
    "df.info()"
   ]
  },
  {
   "cell_type": "markdown",
   "id": "26507d08",
   "metadata": {},
   "source": [
    "## Statistical Description"
   ]
  },
  {
   "cell_type": "markdown",
   "id": "2b73c239",
   "metadata": {},
   "source": [
    "Only Integer Features will be taken into consideration\n",
    "\n",
    "- No other variable considered"
   ]
  },
  {
   "cell_type": "code",
   "execution_count": 7,
   "id": "a980e3ac",
   "metadata": {},
   "outputs": [
    {
     "data": {
      "text/html": [
       "<div>\n",
       "<style scoped>\n",
       "    .dataframe tbody tr th:only-of-type {\n",
       "        vertical-align: middle;\n",
       "    }\n",
       "\n",
       "    .dataframe tbody tr th {\n",
       "        vertical-align: top;\n",
       "    }\n",
       "\n",
       "    .dataframe thead th {\n",
       "        text-align: right;\n",
       "    }\n",
       "</style>\n",
       "<table border=\"1\" class=\"dataframe\">\n",
       "  <thead>\n",
       "    <tr style=\"text-align: right;\">\n",
       "      <th></th>\n",
       "      <th>Restaurant ID</th>\n",
       "      <th>Country Code</th>\n",
       "      <th>Longitude</th>\n",
       "      <th>Latitude</th>\n",
       "      <th>Average Cost for two</th>\n",
       "      <th>Price range</th>\n",
       "      <th>Aggregate rating</th>\n",
       "      <th>Votes</th>\n",
       "    </tr>\n",
       "  </thead>\n",
       "  <tbody>\n",
       "    <tr>\n",
       "      <th>count</th>\n",
       "      <td>9.551000e+03</td>\n",
       "      <td>9551.000000</td>\n",
       "      <td>9551.000000</td>\n",
       "      <td>9551.000000</td>\n",
       "      <td>9551.000000</td>\n",
       "      <td>9551.000000</td>\n",
       "      <td>9551.000000</td>\n",
       "      <td>9551.000000</td>\n",
       "    </tr>\n",
       "    <tr>\n",
       "      <th>mean</th>\n",
       "      <td>9.051128e+06</td>\n",
       "      <td>18.365616</td>\n",
       "      <td>64.126574</td>\n",
       "      <td>25.854381</td>\n",
       "      <td>1199.210763</td>\n",
       "      <td>1.804837</td>\n",
       "      <td>2.666370</td>\n",
       "      <td>156.909748</td>\n",
       "    </tr>\n",
       "    <tr>\n",
       "      <th>std</th>\n",
       "      <td>8.791521e+06</td>\n",
       "      <td>56.750546</td>\n",
       "      <td>41.467058</td>\n",
       "      <td>11.007935</td>\n",
       "      <td>16121.183073</td>\n",
       "      <td>0.905609</td>\n",
       "      <td>1.516378</td>\n",
       "      <td>430.169145</td>\n",
       "    </tr>\n",
       "    <tr>\n",
       "      <th>min</th>\n",
       "      <td>5.300000e+01</td>\n",
       "      <td>1.000000</td>\n",
       "      <td>-157.948486</td>\n",
       "      <td>-41.330428</td>\n",
       "      <td>0.000000</td>\n",
       "      <td>1.000000</td>\n",
       "      <td>0.000000</td>\n",
       "      <td>0.000000</td>\n",
       "    </tr>\n",
       "    <tr>\n",
       "      <th>25%</th>\n",
       "      <td>3.019625e+05</td>\n",
       "      <td>1.000000</td>\n",
       "      <td>77.081343</td>\n",
       "      <td>28.478713</td>\n",
       "      <td>250.000000</td>\n",
       "      <td>1.000000</td>\n",
       "      <td>2.500000</td>\n",
       "      <td>5.000000</td>\n",
       "    </tr>\n",
       "    <tr>\n",
       "      <th>50%</th>\n",
       "      <td>6.004089e+06</td>\n",
       "      <td>1.000000</td>\n",
       "      <td>77.191964</td>\n",
       "      <td>28.570469</td>\n",
       "      <td>400.000000</td>\n",
       "      <td>2.000000</td>\n",
       "      <td>3.200000</td>\n",
       "      <td>31.000000</td>\n",
       "    </tr>\n",
       "    <tr>\n",
       "      <th>75%</th>\n",
       "      <td>1.835229e+07</td>\n",
       "      <td>1.000000</td>\n",
       "      <td>77.282006</td>\n",
       "      <td>28.642758</td>\n",
       "      <td>700.000000</td>\n",
       "      <td>2.000000</td>\n",
       "      <td>3.700000</td>\n",
       "      <td>131.000000</td>\n",
       "    </tr>\n",
       "    <tr>\n",
       "      <th>max</th>\n",
       "      <td>1.850065e+07</td>\n",
       "      <td>216.000000</td>\n",
       "      <td>174.832089</td>\n",
       "      <td>55.976980</td>\n",
       "      <td>800000.000000</td>\n",
       "      <td>4.000000</td>\n",
       "      <td>4.900000</td>\n",
       "      <td>10934.000000</td>\n",
       "    </tr>\n",
       "  </tbody>\n",
       "</table>\n",
       "</div>"
      ],
      "text/plain": [
       "       Restaurant ID  Country Code    Longitude     Latitude  \\\n",
       "count   9.551000e+03   9551.000000  9551.000000  9551.000000   \n",
       "mean    9.051128e+06     18.365616    64.126574    25.854381   \n",
       "std     8.791521e+06     56.750546    41.467058    11.007935   \n",
       "min     5.300000e+01      1.000000  -157.948486   -41.330428   \n",
       "25%     3.019625e+05      1.000000    77.081343    28.478713   \n",
       "50%     6.004089e+06      1.000000    77.191964    28.570469   \n",
       "75%     1.835229e+07      1.000000    77.282006    28.642758   \n",
       "max     1.850065e+07    216.000000   174.832089    55.976980   \n",
       "\n",
       "       Average Cost for two  Price range  Aggregate rating         Votes  \n",
       "count           9551.000000  9551.000000       9551.000000   9551.000000  \n",
       "mean            1199.210763     1.804837          2.666370    156.909748  \n",
       "std            16121.183073     0.905609          1.516378    430.169145  \n",
       "min                0.000000     1.000000          0.000000      0.000000  \n",
       "25%              250.000000     1.000000          2.500000      5.000000  \n",
       "50%              400.000000     2.000000          3.200000     31.000000  \n",
       "75%              700.000000     2.000000          3.700000    131.000000  \n",
       "max           800000.000000     4.000000          4.900000  10934.000000  "
      ]
     },
     "execution_count": 7,
     "metadata": {},
     "output_type": "execute_result"
    }
   ],
   "source": [
    "df.describe()"
   ]
  },
  {
   "cell_type": "markdown",
   "id": "0fee66a8",
   "metadata": {},
   "source": [
    "## In Data Analysis What all things we do ?\n",
    "\n",
    "\n",
    "**1. We Check Missing Values**\n",
    "\n",
    "**2. Check / Explore about the Numerical Variable**\n",
    "\n",
    "**3. Check / Explore about Categorical Variable**\n",
    "\n",
    "**4. Finding Relationship Between Features**"
   ]
  },
  {
   "cell_type": "markdown",
   "id": "025dd870",
   "metadata": {},
   "source": [
    "## What are the missing Values"
   ]
  },
  {
   "cell_type": "code",
   "execution_count": 8,
   "id": "96db5f2c",
   "metadata": {},
   "outputs": [
    {
     "data": {
      "text/plain": [
       "Restaurant ID           0\n",
       "Restaurant Name         0\n",
       "Country Code            0\n",
       "City                    0\n",
       "Address                 0\n",
       "Locality                0\n",
       "Locality Verbose        0\n",
       "Longitude               0\n",
       "Latitude                0\n",
       "Cuisines                9\n",
       "Average Cost for two    0\n",
       "Currency                0\n",
       "Has Table booking       0\n",
       "Has Online delivery     0\n",
       "Is delivering now       0\n",
       "Switch to order menu    0\n",
       "Price range             0\n",
       "Aggregate rating        0\n",
       "Rating color            0\n",
       "Rating text             0\n",
       "Votes                   0\n",
       "dtype: int64"
      ]
     },
     "execution_count": 8,
     "metadata": {},
     "output_type": "execute_result"
    }
   ],
   "source": [
    "df.isnull().sum()"
   ]
  },
  {
   "cell_type": "markdown",
   "id": "4999b428",
   "metadata": {},
   "source": [
    "**Another way to do same thing**"
   ]
  },
  {
   "cell_type": "markdown",
   "id": "c7a62965",
   "metadata": {},
   "source": [
    "1. Using List Comprehention"
   ]
  },
  {
   "cell_type": "code",
   "execution_count": 9,
   "id": "dbf9e9f3",
   "metadata": {},
   "outputs": [
    {
     "data": {
      "text/plain": [
       "['Cuisines']"
      ]
     },
     "execution_count": 9,
     "metadata": {},
     "output_type": "execute_result"
    }
   ],
   "source": [
    "[features for features in df.columns if  df[features].isnull().sum()>0]"
   ]
  },
  {
   "cell_type": "markdown",
   "id": "e4c01281",
   "metadata": {},
   "source": [
    "2. Using Heatmap"
   ]
  },
  {
   "cell_type": "code",
   "execution_count": 10,
   "id": "53d58ce6",
   "metadata": {},
   "outputs": [
    {
     "data": {
      "text/plain": [
       "<AxesSubplot:>"
      ]
     },
     "execution_count": 10,
     "metadata": {},
     "output_type": "execute_result"
    },
    {
     "data": {
      "image/png": "[encoded data removed]",
      "text/plain": [
       "<Figure size 432x288 with 1 Axes>"
      ]
     },
     "metadata": {
      "needs_background": "light"
     },
     "output_type": "display_data"
    }
   ],
   "source": [
    "sns.heatmap(df.isnull(),yticklabels=False,cbar=False,cmap='viridis')"
   ]
  },
  {
   "cell_type": "markdown",
   "id": "e8480746",
   "metadata": {},
   "source": [
    "**Here as we are having only 9 null values so they are not visible**"
   ]
  },
  {
   "cell_type": "code",
   "execution_count": 122,
   "id": "5aa297c5",
   "metadata": {},
   "outputs": [
    {
     "data": {
      "text/plain": [
       "<AxesSubplot:>"
      ]
     },
     "execution_count": 122,
     "metadata": {},
     "output_type": "execute_result"
    },
    {
     "data": {
      "image/png": "[encoded data removed]",
      "text/plain": [
       "<Figure size 864x432 with 1 Axes>"
      ]
     },
     "metadata": {
      "needs_background": "light"
     },
     "output_type": "display_data"
    }
   ],
   "source": [
    "sns.heatmap(df.isnull(),yticklabels=False,cbar=False,cmap='viridis')"
   ]
  },
  {
   "cell_type": "markdown",
   "id": "b233dadc",
   "metadata": {},
   "source": [
    "**Now it is visible because later in this notebook we have used the RCPARAM Size parameter**"
   ]
  },
  {
   "cell_type": "markdown",
   "id": "12a93c09",
   "metadata": {},
   "source": [
    "## Importing Country - Code Data"
   ]
  },
  {
   "cell_type": "code",
   "execution_count": 12,
   "id": "1c79b3a2",
   "metadata": {},
   "outputs": [
    {
     "data": {
      "text/html": [
       "<div>\n",
       "<style scoped>\n",
       "    .dataframe tbody tr th:only-of-type {\n",
       "        vertical-align: middle;\n",
       "    }\n",
       "\n",
       "    .dataframe tbody tr th {\n",
       "        vertical-align: top;\n",
       "    }\n",
       "\n",
       "    .dataframe thead th {\n",
       "        text-align: right;\n",
       "    }\n",
       "</style>\n",
       "<table border=\"1\" class=\"dataframe\">\n",
       "  <thead>\n",
       "    <tr style=\"text-align: right;\">\n",
       "      <th></th>\n",
       "      <th>Country Code</th>\n",
       "      <th>Country</th>\n",
       "    </tr>\n",
       "  </thead>\n",
       "  <tbody>\n",
       "    <tr>\n",
       "      <th>0</th>\n",
       "      <td>1</td>\n",
       "      <td>India</td>\n",
       "    </tr>\n",
       "    <tr>\n",
       "      <th>1</th>\n",
       "      <td>14</td>\n",
       "      <td>Australia</td>\n",
       "    </tr>\n",
       "    <tr>\n",
       "      <th>2</th>\n",
       "      <td>30</td>\n",
       "      <td>Brazil</td>\n",
       "    </tr>\n",
       "    <tr>\n",
       "      <th>3</th>\n",
       "      <td>37</td>\n",
       "      <td>Canada</td>\n",
       "    </tr>\n",
       "    <tr>\n",
       "      <th>4</th>\n",
       "      <td>94</td>\n",
       "      <td>Indonesia</td>\n",
       "    </tr>\n",
       "  </tbody>\n",
       "</table>\n",
       "</div>"
      ],
      "text/plain": [
       "   Country Code    Country\n",
       "0             1      India\n",
       "1            14  Australia\n",
       "2            30     Brazil\n",
       "3            37     Canada\n",
       "4            94  Indonesia"
      ]
     },
     "execution_count": 12,
     "metadata": {},
     "output_type": "execute_result"
    }
   ],
   "source": [
    "df_c = pd.read_excel('Country-Code.xlsx')\n",
    "\n",
    "df_c.head()"
   ]
  },
  {
   "cell_type": "code",
   "execution_count": 13,
   "id": "db00a346",
   "metadata": {},
   "outputs": [
    {
     "data": {
      "text/plain": [
       "Index(['Restaurant ID', 'Restaurant Name', 'Country Code', 'City', 'Address',\n",
       "       'Locality', 'Locality Verbose', 'Longitude', 'Latitude', 'Cuisines',\n",
       "       'Average Cost for two', 'Currency', 'Has Table booking',\n",
       "       'Has Online delivery', 'Is delivering now', 'Switch to order menu',\n",
       "       'Price range', 'Aggregate rating', 'Rating color', 'Rating text',\n",
       "       'Votes'],\n",
       "      dtype='object')"
      ]
     },
     "execution_count": 13,
     "metadata": {},
     "output_type": "execute_result"
    }
   ],
   "source": [
    "df.columns"
   ]
  },
  {
   "cell_type": "code",
   "execution_count": 14,
   "id": "5e3e1e60",
   "metadata": {},
   "outputs": [
    {
     "data": {
      "text/plain": [
       "Index(['Country Code', 'Country'], dtype='object')"
      ]
     },
     "execution_count": 14,
     "metadata": {},
     "output_type": "execute_result"
    }
   ],
   "source": [
    "df_c.columns"
   ]
  },
  {
   "cell_type": "markdown",
   "id": "56c9dca5",
   "metadata": {},
   "source": [
    "### Merging Two DataFrames on Country Code"
   ]
  },
  {
   "cell_type": "markdown",
   "id": "3f6c52f2",
   "metadata": {},
   "source": [
    "**On is used for giving column column in both the dataframes**"
   ]
  },
  {
   "cell_type": "code",
   "execution_count": 15,
   "id": "c490e7e1",
   "metadata": {},
   "outputs": [
    {
     "data": {
      "text/html": [
       "<div>\n",
       "<style scoped>\n",
       "    .dataframe tbody tr th:only-of-type {\n",
       "        vertical-align: middle;\n",
       "    }\n",
       "\n",
       "    .dataframe tbody tr th {\n",
       "        vertical-align: top;\n",
       "    }\n",
       "\n",
       "    .dataframe thead th {\n",
       "        text-align: right;\n",
       "    }\n",
       "</style>\n",
       "<table border=\"1\" class=\"dataframe\">\n",
       "  <thead>\n",
       "    <tr style=\"text-align: right;\">\n",
       "      <th></th>\n",
       "      <th>Restaurant ID</th>\n",
       "      <th>Restaurant Name</th>\n",
       "      <th>Country Code</th>\n",
       "      <th>City</th>\n",
       "      <th>Address</th>\n",
       "      <th>Locality</th>\n",
       "      <th>Locality Verbose</th>\n",
       "      <th>Longitude</th>\n",
       "      <th>Latitude</th>\n",
       "      <th>Cuisines</th>\n",
       "      <th>...</th>\n",
       "      <th>Has Table booking</th>\n",
       "      <th>Has Online delivery</th>\n",
       "      <th>Is delivering now</th>\n",
       "      <th>Switch to order menu</th>\n",
       "      <th>Price range</th>\n",
       "      <th>Aggregate rating</th>\n",
       "      <th>Rating color</th>\n",
       "      <th>Rating text</th>\n",
       "      <th>Votes</th>\n",
       "      <th>Country</th>\n",
       "    </tr>\n",
       "  </thead>\n",
       "  <tbody>\n",
       "    <tr>\n",
       "      <th>0</th>\n",
       "      <td>6317637</td>\n",
       "      <td>Le Petit Souffle</td>\n",
       "      <td>162</td>\n",
       "      <td>Makati City</td>\n",
       "      <td>Third Floor, Century City Mall, Kalayaan Avenu...</td>\n",
       "      <td>Century City Mall, Poblacion, Makati City</td>\n",
       "      <td>Century City Mall, Poblacion, Makati City, Mak...</td>\n",
       "      <td>121.027535</td>\n",
       "      <td>14.565443</td>\n",
       "      <td>French, Japanese, Desserts</td>\n",
       "      <td>...</td>\n",
       "      <td>Yes</td>\n",
       "      <td>No</td>\n",
       "      <td>No</td>\n",
       "      <td>No</td>\n",
       "      <td>3</td>\n",
       "      <td>4.8</td>\n",
       "      <td>Dark Green</td>\n",
       "      <td>Excellent</td>\n",
       "      <td>314</td>\n",
       "      <td>Phillipines</td>\n",
       "    </tr>\n",
       "    <tr>\n",
       "      <th>1</th>\n",
       "      <td>6304287</td>\n",
       "      <td>Izakaya Kikufuji</td>\n",
       "      <td>162</td>\n",
       "      <td>Makati City</td>\n",
       "      <td>Little Tokyo, 2277 Chino Roces Avenue, Legaspi...</td>\n",
       "      <td>Little Tokyo, Legaspi Village, Makati City</td>\n",
       "      <td>Little Tokyo, Legaspi Village, Makati City, Ma...</td>\n",
       "      <td>121.014101</td>\n",
       "      <td>14.553708</td>\n",
       "      <td>Japanese</td>\n",
       "      <td>...</td>\n",
       "      <td>Yes</td>\n",
       "      <td>No</td>\n",
       "      <td>No</td>\n",
       "      <td>No</td>\n",
       "      <td>3</td>\n",
       "      <td>4.5</td>\n",
       "      <td>Dark Green</td>\n",
       "      <td>Excellent</td>\n",
       "      <td>591</td>\n",
       "      <td>Phillipines</td>\n",
       "    </tr>\n",
       "  </tbody>\n",
       "</table>\n",
       "<p>2 rows × 22 columns</p>\n",
       "</div>"
      ],
      "text/plain": [
       "   Restaurant ID   Restaurant Name  Country Code         City  \\\n",
       "0        6317637  Le Petit Souffle           162  Makati City   \n",
       "1        6304287  Izakaya Kikufuji           162  Makati City   \n",
       "\n",
       "                                             Address  \\\n",
       "0  Third Floor, Century City Mall, Kalayaan Avenu...   \n",
       "1  Little Tokyo, 2277 Chino Roces Avenue, Legaspi...   \n",
       "\n",
       "                                     Locality  \\\n",
       "0   Century City Mall, Poblacion, Makati City   \n",
       "1  Little Tokyo, Legaspi Village, Makati City   \n",
       "\n",
       "                                    Locality Verbose   Longitude   Latitude  \\\n",
       "0  Century City Mall, Poblacion, Makati City, Mak...  121.027535  14.565443   \n",
       "1  Little Tokyo, Legaspi Village, Makati City, Ma...  121.014101  14.553708   \n",
       "\n",
       "                     Cuisines  ...  Has Table booking Has Online delivery  \\\n",
       "0  French, Japanese, Desserts  ...                Yes                  No   \n",
       "1                    Japanese  ...                Yes                  No   \n",
       "\n",
       "  Is delivering now Switch to order menu Price range Aggregate rating  \\\n",
       "0                No                   No           3              4.8   \n",
       "1                No                   No           3              4.5   \n",
       "\n",
       "   Rating color  Rating text Votes      Country  \n",
       "0    Dark Green    Excellent   314  Phillipines  \n",
       "1    Dark Green    Excellent   591  Phillipines  \n",
       "\n",
       "[2 rows x 22 columns]"
      ]
     },
     "execution_count": 15,
     "metadata": {},
     "output_type": "execute_result"
    }
   ],
   "source": [
    "final_df = pd.merge(df,df_c,on = 'Country Code', how='left')\n",
    "final_df.head(2)"
   ]
  },
  {
   "cell_type": "markdown",
   "id": "d545af24",
   "metadata": {},
   "source": [
    "**Another Way to Check Datatype**"
   ]
  },
  {
   "cell_type": "code",
   "execution_count": 16,
   "id": "22c14717",
   "metadata": {},
   "outputs": [
    {
     "data": {
      "text/plain": [
       "Restaurant ID             int64\n",
       "Restaurant Name          object\n",
       "Country Code              int64\n",
       "City                     object\n",
       "Address                  object\n",
       "Locality                 object\n",
       "Locality Verbose         object\n",
       "Longitude               float64\n",
       "Latitude                float64\n",
       "Cuisines                 object\n",
       "Average Cost for two      int64\n",
       "Currency                 object\n",
       "Has Table booking        object\n",
       "Has Online delivery      object\n",
       "Is delivering now        object\n",
       "Switch to order menu     object\n",
       "Price range               int64\n",
       "Aggregate rating        float64\n",
       "Rating color             object\n",
       "Rating text              object\n",
       "Votes                     int64\n",
       "Country                  object\n",
       "dtype: object"
      ]
     },
     "execution_count": 16,
     "metadata": {},
     "output_type": "execute_result"
    }
   ],
   "source": [
    "final_df.dtypes"
   ]
  },
  {
   "cell_type": "code",
   "execution_count": 17,
   "id": "6168d593",
   "metadata": {},
   "outputs": [
    {
     "data": {
      "text/plain": [
       "Index(['Restaurant ID', 'Restaurant Name', 'Country Code', 'City', 'Address',\n",
       "       'Locality', 'Locality Verbose', 'Longitude', 'Latitude', 'Cuisines',\n",
       "       'Average Cost for two', 'Currency', 'Has Table booking',\n",
       "       'Has Online delivery', 'Is delivering now', 'Switch to order menu',\n",
       "       'Price range', 'Aggregate rating', 'Rating color', 'Rating text',\n",
       "       'Votes', 'Country'],\n",
       "      dtype='object')"
      ]
     },
     "execution_count": 17,
     "metadata": {},
     "output_type": "execute_result"
    }
   ],
   "source": [
    "final_df.columns"
   ]
  },
  {
   "cell_type": "markdown",
   "id": "42bb5399",
   "metadata": {},
   "source": [
    "### Picking Perticular Column"
   ]
  },
  {
   "cell_type": "markdown",
   "id": "b455ab8c",
   "metadata": {},
   "source": [
    "**Count the values for Each Country**"
   ]
  },
  {
   "cell_type": "code",
   "execution_count": 18,
   "id": "0adb5bf5",
   "metadata": {},
   "outputs": [
    {
     "data": {
      "text/plain": [
       "India             8652\n",
       "United States      434\n",
       "United Kingdom      80\n",
       "Brazil              60\n",
       "UAE                 60\n",
       "South Africa        60\n",
       "New Zealand         40\n",
       "Turkey              34\n",
       "Australia           24\n",
       "Phillipines         22\n",
       "Indonesia           21\n",
       "Singapore           20\n",
       "Qatar               20\n",
       "Sri Lanka           20\n",
       "Canada               4\n",
       "Name: Country, dtype: int64"
      ]
     },
     "execution_count": 18,
     "metadata": {},
     "output_type": "execute_result"
    }
   ],
   "source": [
    "final_df.Country.value_counts()"
   ]
  },
  {
   "cell_type": "markdown",
   "id": "51769c70",
   "metadata": {},
   "source": [
    "Conslusion : Maximum Transactions were from India as Zomato is based in INDIA"
   ]
  },
  {
   "cell_type": "code",
   "execution_count": 19,
   "id": "06e43e21",
   "metadata": {},
   "outputs": [],
   "source": [
    "country_name = final_df.Country.value_counts().index"
   ]
  },
  {
   "cell_type": "code",
   "execution_count": 20,
   "id": "d52bc94f",
   "metadata": {},
   "outputs": [
    {
     "data": {
      "text/plain": [
       "Index(['India', 'United States', 'United Kingdom', 'Brazil', 'UAE',\n",
       "       'South Africa', 'New Zealand', 'Turkey', 'Australia', 'Phillipines',\n",
       "       'Indonesia', 'Singapore', 'Qatar', 'Sri Lanka', 'Canada'],\n",
       "      dtype='object')"
      ]
     },
     "execution_count": 20,
     "metadata": {},
     "output_type": "execute_result"
    }
   ],
   "source": [
    "country_name"
   ]
  },
  {
   "cell_type": "code",
   "execution_count": 21,
   "id": "406f9de2",
   "metadata": {},
   "outputs": [
    {
     "data": {
      "text/plain": [
       "array([8652,  434,   80,   60,   60,   60,   40,   34,   24,   22,   21,\n",
       "         20,   20,   20,    4], dtype=int64)"
      ]
     },
     "execution_count": 21,
     "metadata": {},
     "output_type": "execute_result"
    }
   ],
   "source": [
    "country_values = final_df.Country.value_counts().values\n",
    "country_values"
   ]
  },
  {
   "cell_type": "markdown",
   "id": "419628de",
   "metadata": {},
   "source": [
    "### Plotting Pie Chart"
   ]
  },
  {
   "cell_type": "markdown",
   "id": "e8c515c2",
   "metadata": {},
   "source": [
    "**Which are the top 3 Countries that uses Zomato**"
   ]
  },
  {
   "cell_type": "code",
   "execution_count": 22,
   "id": "6df6454d",
   "metadata": {},
   "outputs": [
    {
     "data": {
      "text/plain": [
       "[]"
      ]
     },
     "execution_count": 22,
     "metadata": {},
     "output_type": "execute_result"
    },
    {
     "data": {
      "image/png": "[encoded data removed]",
      "text/plain": [
       "<Figure size 432x288 with 1 Axes>"
      ]
     },
     "metadata": {},
     "output_type": "display_data"
    }
   ],
   "source": [
    "plt.pie(country_values[:3], labels = country_name[:3],autopct=\"%1.2f%%\")\n",
    "plt.plot()"
   ]
  },
  {
   "cell_type": "markdown",
   "id": "bed2d6ea",
   "metadata": {},
   "source": [
    "**Observation:**\n",
    "\n",
    "- Zomato Maximum Records/transactions are from India \n",
    "- Followed by USA and United Kingdoms as US and UK is having Website only."
   ]
  },
  {
   "cell_type": "markdown",
   "id": "2c1189f1",
   "metadata": {},
   "source": []
  },
  {
   "cell_type": "code",
   "execution_count": 23,
   "id": "8b641422",
   "metadata": {},
   "outputs": [
    {
     "data": {
      "text/plain": [
       "Index(['Restaurant ID', 'Restaurant Name', 'Country Code', 'City', 'Address',\n",
       "       'Locality', 'Locality Verbose', 'Longitude', 'Latitude', 'Cuisines',\n",
       "       'Average Cost for two', 'Currency', 'Has Table booking',\n",
       "       'Has Online delivery', 'Is delivering now', 'Switch to order menu',\n",
       "       'Price range', 'Aggregate rating', 'Rating color', 'Rating text',\n",
       "       'Votes', 'Country'],\n",
       "      dtype='object')"
      ]
     },
     "execution_count": 23,
     "metadata": {},
     "output_type": "execute_result"
    }
   ],
   "source": [
    "final_df.columns"
   ]
  },
  {
   "cell_type": "markdown",
   "id": "38097941",
   "metadata": {},
   "source": [
    "**Applying Groupby on Few Columns**"
   ]
  },
  {
   "cell_type": "markdown",
   "id": "51ed5c4d",
   "metadata": {},
   "source": [
    "and we will convert to DF"
   ]
  },
  {
   "cell_type": "markdown",
   "id": "e22d4734",
   "metadata": {},
   "source": [
    "We have applied grouby on 'Aggregate rating','Rating color' and 'Rating text'\n",
    "\n",
    "- We will convert our result to DataFrame"
   ]
  },
  {
   "cell_type": "code",
   "execution_count": 24,
   "id": "481dae49",
   "metadata": {},
   "outputs": [
    {
     "data": {
      "text/html": [
       "<div>\n",
       "<style scoped>\n",
       "    .dataframe tbody tr th:only-of-type {\n",
       "        vertical-align: middle;\n",
       "    }\n",
       "\n",
       "    .dataframe tbody tr th {\n",
       "        vertical-align: top;\n",
       "    }\n",
       "\n",
       "    .dataframe thead th {\n",
       "        text-align: right;\n",
       "    }\n",
       "</style>\n",
       "<table border=\"1\" class=\"dataframe\">\n",
       "  <thead>\n",
       "    <tr style=\"text-align: right;\">\n",
       "      <th></th>\n",
       "      <th>Aggregate rating</th>\n",
       "      <th>Rating color</th>\n",
       "      <th>Rating text</th>\n",
       "      <th>Rating Count</th>\n",
       "    </tr>\n",
       "  </thead>\n",
       "  <tbody>\n",
       "    <tr>\n",
       "      <th>0</th>\n",
       "      <td>0.0</td>\n",
       "      <td>White</td>\n",
       "      <td>Not rated</td>\n",
       "      <td>2148</td>\n",
       "    </tr>\n",
       "    <tr>\n",
       "      <th>1</th>\n",
       "      <td>1.8</td>\n",
       "      <td>Red</td>\n",
       "      <td>Poor</td>\n",
       "      <td>1</td>\n",
       "    </tr>\n",
       "    <tr>\n",
       "      <th>2</th>\n",
       "      <td>1.9</td>\n",
       "      <td>Red</td>\n",
       "      <td>Poor</td>\n",
       "      <td>2</td>\n",
       "    </tr>\n",
       "    <tr>\n",
       "      <th>3</th>\n",
       "      <td>2.0</td>\n",
       "      <td>Red</td>\n",
       "      <td>Poor</td>\n",
       "      <td>7</td>\n",
       "    </tr>\n",
       "    <tr>\n",
       "      <th>4</th>\n",
       "      <td>2.1</td>\n",
       "      <td>Red</td>\n",
       "      <td>Poor</td>\n",
       "      <td>15</td>\n",
       "    </tr>\n",
       "    <tr>\n",
       "      <th>5</th>\n",
       "      <td>2.2</td>\n",
       "      <td>Red</td>\n",
       "      <td>Poor</td>\n",
       "      <td>27</td>\n",
       "    </tr>\n",
       "    <tr>\n",
       "      <th>6</th>\n",
       "      <td>2.3</td>\n",
       "      <td>Red</td>\n",
       "      <td>Poor</td>\n",
       "      <td>47</td>\n",
       "    </tr>\n",
       "    <tr>\n",
       "      <th>7</th>\n",
       "      <td>2.4</td>\n",
       "      <td>Red</td>\n",
       "      <td>Poor</td>\n",
       "      <td>87</td>\n",
       "    </tr>\n",
       "    <tr>\n",
       "      <th>8</th>\n",
       "      <td>2.5</td>\n",
       "      <td>Orange</td>\n",
       "      <td>Average</td>\n",
       "      <td>110</td>\n",
       "    </tr>\n",
       "    <tr>\n",
       "      <th>9</th>\n",
       "      <td>2.6</td>\n",
       "      <td>Orange</td>\n",
       "      <td>Average</td>\n",
       "      <td>191</td>\n",
       "    </tr>\n",
       "    <tr>\n",
       "      <th>10</th>\n",
       "      <td>2.7</td>\n",
       "      <td>Orange</td>\n",
       "      <td>Average</td>\n",
       "      <td>250</td>\n",
       "    </tr>\n",
       "    <tr>\n",
       "      <th>11</th>\n",
       "      <td>2.8</td>\n",
       "      <td>Orange</td>\n",
       "      <td>Average</td>\n",
       "      <td>315</td>\n",
       "    </tr>\n",
       "    <tr>\n",
       "      <th>12</th>\n",
       "      <td>2.9</td>\n",
       "      <td>Orange</td>\n",
       "      <td>Average</td>\n",
       "      <td>381</td>\n",
       "    </tr>\n",
       "    <tr>\n",
       "      <th>13</th>\n",
       "      <td>3.0</td>\n",
       "      <td>Orange</td>\n",
       "      <td>Average</td>\n",
       "      <td>468</td>\n",
       "    </tr>\n",
       "    <tr>\n",
       "      <th>14</th>\n",
       "      <td>3.1</td>\n",
       "      <td>Orange</td>\n",
       "      <td>Average</td>\n",
       "      <td>519</td>\n",
       "    </tr>\n",
       "    <tr>\n",
       "      <th>15</th>\n",
       "      <td>3.2</td>\n",
       "      <td>Orange</td>\n",
       "      <td>Average</td>\n",
       "      <td>522</td>\n",
       "    </tr>\n",
       "    <tr>\n",
       "      <th>16</th>\n",
       "      <td>3.3</td>\n",
       "      <td>Orange</td>\n",
       "      <td>Average</td>\n",
       "      <td>483</td>\n",
       "    </tr>\n",
       "    <tr>\n",
       "      <th>17</th>\n",
       "      <td>3.4</td>\n",
       "      <td>Orange</td>\n",
       "      <td>Average</td>\n",
       "      <td>498</td>\n",
       "    </tr>\n",
       "    <tr>\n",
       "      <th>18</th>\n",
       "      <td>3.5</td>\n",
       "      <td>Yellow</td>\n",
       "      <td>Good</td>\n",
       "      <td>480</td>\n",
       "    </tr>\n",
       "    <tr>\n",
       "      <th>19</th>\n",
       "      <td>3.6</td>\n",
       "      <td>Yellow</td>\n",
       "      <td>Good</td>\n",
       "      <td>458</td>\n",
       "    </tr>\n",
       "    <tr>\n",
       "      <th>20</th>\n",
       "      <td>3.7</td>\n",
       "      <td>Yellow</td>\n",
       "      <td>Good</td>\n",
       "      <td>427</td>\n",
       "    </tr>\n",
       "    <tr>\n",
       "      <th>21</th>\n",
       "      <td>3.8</td>\n",
       "      <td>Yellow</td>\n",
       "      <td>Good</td>\n",
       "      <td>400</td>\n",
       "    </tr>\n",
       "    <tr>\n",
       "      <th>22</th>\n",
       "      <td>3.9</td>\n",
       "      <td>Yellow</td>\n",
       "      <td>Good</td>\n",
       "      <td>335</td>\n",
       "    </tr>\n",
       "    <tr>\n",
       "      <th>23</th>\n",
       "      <td>4.0</td>\n",
       "      <td>Green</td>\n",
       "      <td>Very Good</td>\n",
       "      <td>266</td>\n",
       "    </tr>\n",
       "    <tr>\n",
       "      <th>24</th>\n",
       "      <td>4.1</td>\n",
       "      <td>Green</td>\n",
       "      <td>Very Good</td>\n",
       "      <td>274</td>\n",
       "    </tr>\n",
       "    <tr>\n",
       "      <th>25</th>\n",
       "      <td>4.2</td>\n",
       "      <td>Green</td>\n",
       "      <td>Very Good</td>\n",
       "      <td>221</td>\n",
       "    </tr>\n",
       "    <tr>\n",
       "      <th>26</th>\n",
       "      <td>4.3</td>\n",
       "      <td>Green</td>\n",
       "      <td>Very Good</td>\n",
       "      <td>174</td>\n",
       "    </tr>\n",
       "    <tr>\n",
       "      <th>27</th>\n",
       "      <td>4.4</td>\n",
       "      <td>Green</td>\n",
       "      <td>Very Good</td>\n",
       "      <td>144</td>\n",
       "    </tr>\n",
       "    <tr>\n",
       "      <th>28</th>\n",
       "      <td>4.5</td>\n",
       "      <td>Dark Green</td>\n",
       "      <td>Excellent</td>\n",
       "      <td>95</td>\n",
       "    </tr>\n",
       "    <tr>\n",
       "      <th>29</th>\n",
       "      <td>4.6</td>\n",
       "      <td>Dark Green</td>\n",
       "      <td>Excellent</td>\n",
       "      <td>78</td>\n",
       "    </tr>\n",
       "    <tr>\n",
       "      <th>30</th>\n",
       "      <td>4.7</td>\n",
       "      <td>Dark Green</td>\n",
       "      <td>Excellent</td>\n",
       "      <td>42</td>\n",
       "    </tr>\n",
       "    <tr>\n",
       "      <th>31</th>\n",
       "      <td>4.8</td>\n",
       "      <td>Dark Green</td>\n",
       "      <td>Excellent</td>\n",
       "      <td>25</td>\n",
       "    </tr>\n",
       "    <tr>\n",
       "      <th>32</th>\n",
       "      <td>4.9</td>\n",
       "      <td>Dark Green</td>\n",
       "      <td>Excellent</td>\n",
       "      <td>61</td>\n",
       "    </tr>\n",
       "  </tbody>\n",
       "</table>\n",
       "</div>"
      ],
      "text/plain": [
       "    Aggregate rating Rating color Rating text  Rating Count\n",
       "0                0.0        White   Not rated          2148\n",
       "1                1.8          Red        Poor             1\n",
       "2                1.9          Red        Poor             2\n",
       "3                2.0          Red        Poor             7\n",
       "4                2.1          Red        Poor            15\n",
       "5                2.2          Red        Poor            27\n",
       "6                2.3          Red        Poor            47\n",
       "7                2.4          Red        Poor            87\n",
       "8                2.5       Orange     Average           110\n",
       "9                2.6       Orange     Average           191\n",
       "10               2.7       Orange     Average           250\n",
       "11               2.8       Orange     Average           315\n",
       "12               2.9       Orange     Average           381\n",
       "13               3.0       Orange     Average           468\n",
       "14               3.1       Orange     Average           519\n",
       "15               3.2       Orange     Average           522\n",
       "16               3.3       Orange     Average           483\n",
       "17               3.4       Orange     Average           498\n",
       "18               3.5       Yellow        Good           480\n",
       "19               3.6       Yellow        Good           458\n",
       "20               3.7       Yellow        Good           427\n",
       "21               3.8       Yellow        Good           400\n",
       "22               3.9       Yellow        Good           335\n",
       "23               4.0        Green   Very Good           266\n",
       "24               4.1        Green   Very Good           274\n",
       "25               4.2        Green   Very Good           221\n",
       "26               4.3        Green   Very Good           174\n",
       "27               4.4        Green   Very Good           144\n",
       "28               4.5   Dark Green   Excellent            95\n",
       "29               4.6   Dark Green   Excellent            78\n",
       "30               4.7   Dark Green   Excellent            42\n",
       "31               4.8   Dark Green   Excellent            25\n",
       "32               4.9   Dark Green   Excellent            61"
      ]
     },
     "execution_count": 24,
     "metadata": {},
     "output_type": "execute_result"
    }
   ],
   "source": [
    "final_df.groupby(['Aggregate rating','Rating color','Rating text']).size().reset_index().rename(columns ={0:'Rating Count'})"
   ]
  },
  {
   "cell_type": "code",
   "execution_count": 25,
   "id": "173f37d6",
   "metadata": {},
   "outputs": [],
   "source": [
    "ratings = final_df.groupby(['Aggregate rating','Rating color','Rating text']).size().reset_index().rename(columns ={0:'Rating Count'})"
   ]
  },
  {
   "cell_type": "markdown",
   "id": "05cf4583",
   "metadata": {},
   "source": [
    "**Observations:**\n",
    "\n",
    "- Whenever the Rating is from 4.5 to 4.9 it Indicates that the Restraunt is Excellent\n",
    "- When Ratings are between 4.0 and 4.4 it Indicates that Restraunts are Very Good.\n",
    "- When ratings are between 3.5 to 3.9 it Indicates that Restraunts are Good.\n",
    "- When ratings are between 2.5 to 3.4 it Indicates that Restraunts are Average.\n",
    "- When ratings are between 1.8 to 2.4 it Indicates that Restraunts are Poor."
   ]
  },
  {
   "cell_type": "markdown",
   "id": "cfcdc5fc",
   "metadata": {},
   "source": [
    "### Visuals for the Ratings for Various Countries"
   ]
  },
  {
   "cell_type": "code",
   "execution_count": 26,
   "id": "5b7712a9",
   "metadata": {},
   "outputs": [
    {
     "data": {
      "text/plain": [
       "Text(0.5, 1.0, 'Count for various Agg. Ratings')"
      ]
     },
     "execution_count": 26,
     "metadata": {},
     "output_type": "execute_result"
    },
    {
     "data": {
      "image/png": "[encoded data removed]",
      "text/plain": [
       "<Figure size 864x432 with 1 Axes>"
      ]
     },
     "metadata": {
      "needs_background": "light"
     },
     "output_type": "display_data"
    }
   ],
   "source": [
    "import matplotlib\n",
    "matplotlib.rcParams['figure.figsize'] = (12,6)\n",
    "sns.barplot(x='Aggregate rating', y = 'Rating Count',data = ratings)\n",
    "plt.title('Count for various Agg. Ratings', fontsize = 15)"
   ]
  },
  {
   "cell_type": "code",
   "execution_count": 31,
   "id": "c3afe557",
   "metadata": {},
   "outputs": [
    {
     "data": {
      "text/plain": [
       "Text(0.5, 1.0, 'Count for various Agg. Ratings')"
      ]
     },
     "execution_count": 31,
     "metadata": {},
     "output_type": "execute_result"
    },
    {
     "data": {
      "image/png": "[encoded data removed]",
      "text/plain": [
       "<Figure size 864x432 with 1 Axes>"
      ]
     },
     "metadata": {
      "needs_background": "light"
     },
     "output_type": "display_data"
    }
   ],
   "source": [
    "sns.barplot(x='Aggregate rating', y = 'Rating Count',hue='Rating color',data = ratings, palette=['black','red','orange','yellow','seagreen','green'])\n",
    "plt.title('Count for various Agg. Ratings',fontsize = 15)"
   ]
  },
  {
   "cell_type": "markdown",
   "id": "5ba1b938",
   "metadata": {},
   "source": [
    "**Observations:**\n",
    "\n",
    "1. Not Rated Count is very High\n",
    "2. Maximum Number of ratings are between 2.5 to 3.4\n",
    "3. In which Maximum Ratings are for 3.2 "
   ]
  },
  {
   "cell_type": "code",
   "execution_count": 32,
   "id": "29d0101f",
   "metadata": {},
   "outputs": [
    {
     "name": "stderr",
     "output_type": "stream",
     "text": [
      "F:\\Python 38\\lib\\site-packages\\seaborn\\_decorators.py:36: FutureWarning: Pass the following variable as a keyword arg: x. From version 0.12, the only valid positional argument will be `data`, and passing other arguments without an explicit keyword will result in an error or misinterpretation.\n",
      "  warnings.warn(\n"
     ]
    },
    {
     "data": {
      "text/plain": [
       "[]"
      ]
     },
     "execution_count": 32,
     "metadata": {},
     "output_type": "execute_result"
    },
    {
     "data": {
      "image/png": "[encoded data removed]",
      "text/plain": [
       "<Figure size 864x432 with 1 Axes>"
      ]
     },
     "metadata": {
      "needs_background": "light"
     },
     "output_type": "display_data"
    }
   ],
   "source": [
    "sns.countplot(df['Rating color'], palette=['green','seagreen','yellow','orange','gray','red'])\n",
    "plt.title('Count of Rating Colors', fontsize = 15)\n",
    "plt.plot()"
   ]
  },
  {
   "cell_type": "markdown",
   "id": "0d102c93",
   "metadata": {},
   "source": [
    "**Find the names of Country That has Given ZERO Ratings ...**"
   ]
  },
  {
   "cell_type": "markdown",
   "id": "18e78366",
   "metadata": {},
   "source": [
    "- Try 1"
   ]
  },
  {
   "cell_type": "code",
   "execution_count": 42,
   "id": "3ba3a514",
   "metadata": {},
   "outputs": [
    {
     "data": {
      "text/plain": [
       "array(['Brazil', 'United States', 'India', 'United Kingdom'], dtype=object)"
      ]
     },
     "execution_count": 42,
     "metadata": {},
     "output_type": "execute_result"
    }
   ],
   "source": [
    "final_df.loc[df['Aggregate rating']==0,'Country'].unique()"
   ]
  },
  {
   "cell_type": "markdown",
   "id": "a8af7bfe",
   "metadata": {},
   "source": [
    "- Try 2"
   ]
  },
  {
   "cell_type": "code",
   "execution_count": 52,
   "id": "3ab3e11a",
   "metadata": {},
   "outputs": [
    {
     "data": {
      "text/html": [
       "<div>\n",
       "<style scoped>\n",
       "    .dataframe tbody tr th:only-of-type {\n",
       "        vertical-align: middle;\n",
       "    }\n",
       "\n",
       "    .dataframe tbody tr th {\n",
       "        vertical-align: top;\n",
       "    }\n",
       "\n",
       "    .dataframe thead th {\n",
       "        text-align: right;\n",
       "    }\n",
       "</style>\n",
       "<table border=\"1\" class=\"dataframe\">\n",
       "  <thead>\n",
       "    <tr style=\"text-align: right;\">\n",
       "      <th></th>\n",
       "      <th>Country</th>\n",
       "      <th>0</th>\n",
       "    </tr>\n",
       "  </thead>\n",
       "  <tbody>\n",
       "    <tr>\n",
       "      <th>0</th>\n",
       "      <td>Brazil</td>\n",
       "      <td>5</td>\n",
       "    </tr>\n",
       "    <tr>\n",
       "      <th>1</th>\n",
       "      <td>India</td>\n",
       "      <td>2139</td>\n",
       "    </tr>\n",
       "    <tr>\n",
       "      <th>2</th>\n",
       "      <td>United Kingdom</td>\n",
       "      <td>1</td>\n",
       "    </tr>\n",
       "    <tr>\n",
       "      <th>3</th>\n",
       "      <td>United States</td>\n",
       "      <td>3</td>\n",
       "    </tr>\n",
       "  </tbody>\n",
       "</table>\n",
       "</div>"
      ],
      "text/plain": [
       "          Country     0\n",
       "0          Brazil     5\n",
       "1           India  2139\n",
       "2  United Kingdom     1\n",
       "3   United States     3"
      ]
     },
     "execution_count": 52,
     "metadata": {},
     "output_type": "execute_result"
    }
   ],
   "source": [
    "final_df[final_df['Rating color']== 'White'].groupby('Country').size().reset_index()"
   ]
  },
  {
   "cell_type": "markdown",
   "id": "c14c3a04",
   "metadata": {},
   "source": [
    "- Try 3"
   ]
  },
  {
   "cell_type": "code",
   "execution_count": 57,
   "id": "8d5be113",
   "metadata": {},
   "outputs": [
    {
     "data": {
      "text/html": [
       "<div>\n",
       "<style scoped>\n",
       "    .dataframe tbody tr th:only-of-type {\n",
       "        vertical-align: middle;\n",
       "    }\n",
       "\n",
       "    .dataframe tbody tr th {\n",
       "        vertical-align: top;\n",
       "    }\n",
       "\n",
       "    .dataframe thead th {\n",
       "        text-align: right;\n",
       "    }\n",
       "</style>\n",
       "<table border=\"1\" class=\"dataframe\">\n",
       "  <thead>\n",
       "    <tr style=\"text-align: right;\">\n",
       "      <th></th>\n",
       "      <th>Aggregate rating</th>\n",
       "      <th>Country</th>\n",
       "      <th>No.of.Entries</th>\n",
       "    </tr>\n",
       "  </thead>\n",
       "  <tbody>\n",
       "    <tr>\n",
       "      <th>0</th>\n",
       "      <td>0.0</td>\n",
       "      <td>Brazil</td>\n",
       "      <td>5</td>\n",
       "    </tr>\n",
       "    <tr>\n",
       "      <th>1</th>\n",
       "      <td>0.0</td>\n",
       "      <td>India</td>\n",
       "      <td>2139</td>\n",
       "    </tr>\n",
       "    <tr>\n",
       "      <th>2</th>\n",
       "      <td>0.0</td>\n",
       "      <td>United Kingdom</td>\n",
       "      <td>1</td>\n",
       "    </tr>\n",
       "    <tr>\n",
       "      <th>3</th>\n",
       "      <td>0.0</td>\n",
       "      <td>United States</td>\n",
       "      <td>3</td>\n",
       "    </tr>\n",
       "  </tbody>\n",
       "</table>\n",
       "</div>"
      ],
      "text/plain": [
       "   Aggregate rating         Country  No.of.Entries\n",
       "0               0.0          Brazil              5\n",
       "1               0.0           India           2139\n",
       "2               0.0  United Kingdom              1\n",
       "3               0.0   United States              3"
      ]
     },
     "execution_count": 57,
     "metadata": {},
     "output_type": "execute_result"
    }
   ],
   "source": [
    "final_df.groupby(['Aggregate rating', 'Country']).size().reset_index().rename(columns = {0:'No.of.Entries'}).head(4)"
   ]
  },
  {
   "cell_type": "markdown",
   "id": "dd990100",
   "metadata": {},
   "source": [
    "**Observations:**\n",
    "\n",
    "- Maximum Number of Zero Ratings are from Indian Customers (99% of total Zero Ratings)\n",
    "- Minimum Number of Zero Ratings are from UK"
   ]
  },
  {
   "cell_type": "code",
   "execution_count": 61,
   "id": "e19ac86f",
   "metadata": {},
   "outputs": [
    {
     "data": {
      "text/plain": [
       "Index(['Restaurant ID', 'Restaurant Name', 'Country Code', 'City', 'Address',\n",
       "       'Locality', 'Locality Verbose', 'Longitude', 'Latitude', 'Cuisines',\n",
       "       'Average Cost for two', 'Currency', 'Has Table booking',\n",
       "       'Has Online delivery', 'Is delivering now', 'Switch to order menu',\n",
       "       'Price range', 'Aggregate rating', 'Rating color', 'Rating text',\n",
       "       'Votes', 'Country'],\n",
       "      dtype='object')"
      ]
     },
     "execution_count": 61,
     "metadata": {},
     "output_type": "execute_result"
    }
   ],
   "source": [
    "final_df.columns"
   ]
  },
  {
   "cell_type": "markdown",
   "id": "7db4632b",
   "metadata": {},
   "source": [
    "**Find out the Currency for each country**"
   ]
  },
  {
   "cell_type": "code",
   "execution_count": 71,
   "id": "f38250ad",
   "metadata": {},
   "outputs": [],
   "source": [
    "currency = final_df.groupby(['Country','Currency']).size().reset_index()"
   ]
  },
  {
   "cell_type": "code",
   "execution_count": 79,
   "id": "a922ef04",
   "metadata": {},
   "outputs": [
    {
     "data": {
      "text/html": [
       "<div>\n",
       "<style scoped>\n",
       "    .dataframe tbody tr th:only-of-type {\n",
       "        vertical-align: middle;\n",
       "    }\n",
       "\n",
       "    .dataframe tbody tr th {\n",
       "        vertical-align: top;\n",
       "    }\n",
       "\n",
       "    .dataframe thead th {\n",
       "        text-align: right;\n",
       "    }\n",
       "</style>\n",
       "<table border=\"1\" class=\"dataframe\">\n",
       "  <thead>\n",
       "    <tr style=\"text-align: right;\">\n",
       "      <th></th>\n",
       "      <th>Country</th>\n",
       "      <th>Currency</th>\n",
       "    </tr>\n",
       "  </thead>\n",
       "  <tbody>\n",
       "    <tr>\n",
       "      <th>0</th>\n",
       "      <td>Australia</td>\n",
       "      <td>Dollar($)</td>\n",
       "    </tr>\n",
       "    <tr>\n",
       "      <th>1</th>\n",
       "      <td>Brazil</td>\n",
       "      <td>Brazilian Real(R$)</td>\n",
       "    </tr>\n",
       "    <tr>\n",
       "      <th>2</th>\n",
       "      <td>Canada</td>\n",
       "      <td>Dollar($)</td>\n",
       "    </tr>\n",
       "    <tr>\n",
       "      <th>3</th>\n",
       "      <td>India</td>\n",
       "      <td>Indian Rupees(Rs.)</td>\n",
       "    </tr>\n",
       "    <tr>\n",
       "      <th>4</th>\n",
       "      <td>Indonesia</td>\n",
       "      <td>Indonesian Rupiah(IDR)</td>\n",
       "    </tr>\n",
       "    <tr>\n",
       "      <th>5</th>\n",
       "      <td>New Zealand</td>\n",
       "      <td>NewZealand($)</td>\n",
       "    </tr>\n",
       "    <tr>\n",
       "      <th>6</th>\n",
       "      <td>Phillipines</td>\n",
       "      <td>Botswana Pula(P)</td>\n",
       "    </tr>\n",
       "    <tr>\n",
       "      <th>7</th>\n",
       "      <td>Qatar</td>\n",
       "      <td>Qatari Rial(QR)</td>\n",
       "    </tr>\n",
       "    <tr>\n",
       "      <th>8</th>\n",
       "      <td>Singapore</td>\n",
       "      <td>Dollar($)</td>\n",
       "    </tr>\n",
       "    <tr>\n",
       "      <th>9</th>\n",
       "      <td>South Africa</td>\n",
       "      <td>Rand(R)</td>\n",
       "    </tr>\n",
       "    <tr>\n",
       "      <th>10</th>\n",
       "      <td>Sri Lanka</td>\n",
       "      <td>Sri Lankan Rupee(LKR)</td>\n",
       "    </tr>\n",
       "    <tr>\n",
       "      <th>11</th>\n",
       "      <td>Turkey</td>\n",
       "      <td>Turkish Lira(TL)</td>\n",
       "    </tr>\n",
       "    <tr>\n",
       "      <th>12</th>\n",
       "      <td>UAE</td>\n",
       "      <td>Emirati Diram(AED)</td>\n",
       "    </tr>\n",
       "    <tr>\n",
       "      <th>13</th>\n",
       "      <td>United Kingdom</td>\n",
       "      <td>Pounds(£)</td>\n",
       "    </tr>\n",
       "    <tr>\n",
       "      <th>14</th>\n",
       "      <td>United States</td>\n",
       "      <td>Dollar($)</td>\n",
       "    </tr>\n",
       "  </tbody>\n",
       "</table>\n",
       "</div>"
      ],
      "text/plain": [
       "           Country                Currency\n",
       "0        Australia               Dollar($)\n",
       "1           Brazil      Brazilian Real(R$)\n",
       "2           Canada               Dollar($)\n",
       "3            India      Indian Rupees(Rs.)\n",
       "4        Indonesia  Indonesian Rupiah(IDR)\n",
       "5      New Zealand           NewZealand($)\n",
       "6      Phillipines        Botswana Pula(P)\n",
       "7            Qatar         Qatari Rial(QR)\n",
       "8        Singapore               Dollar($)\n",
       "9     South Africa                 Rand(R)\n",
       "10       Sri Lanka   Sri Lankan Rupee(LKR)\n",
       "11          Turkey        Turkish Lira(TL)\n",
       "12             UAE      Emirati Diram(AED)\n",
       "13  United Kingdom              Pounds(£)\n",
       "14   United States               Dollar($)"
      ]
     },
     "execution_count": 79,
     "metadata": {},
     "output_type": "execute_result"
    }
   ],
   "source": [
    "currency.iloc[:,0:2]"
   ]
  },
  {
   "cell_type": "markdown",
   "id": "50fb1200",
   "metadata": {},
   "source": [
    "**Which Country Do have Online Delivery Option**"
   ]
  },
  {
   "cell_type": "markdown",
   "id": "50e16538",
   "metadata": {},
   "source": [
    "- Try 1"
   ]
  },
  {
   "cell_type": "code",
   "execution_count": 83,
   "id": "61e304f3",
   "metadata": {},
   "outputs": [
    {
     "data": {
      "text/html": [
       "<div>\n",
       "<style scoped>\n",
       "    .dataframe tbody tr th:only-of-type {\n",
       "        vertical-align: middle;\n",
       "    }\n",
       "\n",
       "    .dataframe tbody tr th {\n",
       "        vertical-align: top;\n",
       "    }\n",
       "\n",
       "    .dataframe thead th {\n",
       "        text-align: right;\n",
       "    }\n",
       "</style>\n",
       "<table border=\"1\" class=\"dataframe\">\n",
       "  <thead>\n",
       "    <tr style=\"text-align: right;\">\n",
       "      <th></th>\n",
       "      <th>Country</th>\n",
       "      <th>Has Online delivery</th>\n",
       "    </tr>\n",
       "  </thead>\n",
       "  <tbody>\n",
       "    <tr>\n",
       "      <th>0</th>\n",
       "      <td>Australia</td>\n",
       "      <td>No</td>\n",
       "    </tr>\n",
       "    <tr>\n",
       "      <th>1</th>\n",
       "      <td>Brazil</td>\n",
       "      <td>No</td>\n",
       "    </tr>\n",
       "    <tr>\n",
       "      <th>2</th>\n",
       "      <td>Canada</td>\n",
       "      <td>No</td>\n",
       "    </tr>\n",
       "    <tr>\n",
       "      <th>3</th>\n",
       "      <td>India</td>\n",
       "      <td>No</td>\n",
       "    </tr>\n",
       "    <tr>\n",
       "      <th>4</th>\n",
       "      <td>India</td>\n",
       "      <td>Yes</td>\n",
       "    </tr>\n",
       "    <tr>\n",
       "      <th>5</th>\n",
       "      <td>Indonesia</td>\n",
       "      <td>No</td>\n",
       "    </tr>\n",
       "    <tr>\n",
       "      <th>6</th>\n",
       "      <td>New Zealand</td>\n",
       "      <td>No</td>\n",
       "    </tr>\n",
       "    <tr>\n",
       "      <th>7</th>\n",
       "      <td>Phillipines</td>\n",
       "      <td>No</td>\n",
       "    </tr>\n",
       "    <tr>\n",
       "      <th>8</th>\n",
       "      <td>Qatar</td>\n",
       "      <td>No</td>\n",
       "    </tr>\n",
       "    <tr>\n",
       "      <th>9</th>\n",
       "      <td>Singapore</td>\n",
       "      <td>No</td>\n",
       "    </tr>\n",
       "    <tr>\n",
       "      <th>10</th>\n",
       "      <td>South Africa</td>\n",
       "      <td>No</td>\n",
       "    </tr>\n",
       "    <tr>\n",
       "      <th>11</th>\n",
       "      <td>Sri Lanka</td>\n",
       "      <td>No</td>\n",
       "    </tr>\n",
       "    <tr>\n",
       "      <th>12</th>\n",
       "      <td>Turkey</td>\n",
       "      <td>No</td>\n",
       "    </tr>\n",
       "    <tr>\n",
       "      <th>13</th>\n",
       "      <td>UAE</td>\n",
       "      <td>No</td>\n",
       "    </tr>\n",
       "    <tr>\n",
       "      <th>14</th>\n",
       "      <td>UAE</td>\n",
       "      <td>Yes</td>\n",
       "    </tr>\n",
       "    <tr>\n",
       "      <th>15</th>\n",
       "      <td>United Kingdom</td>\n",
       "      <td>No</td>\n",
       "    </tr>\n",
       "    <tr>\n",
       "      <th>16</th>\n",
       "      <td>United States</td>\n",
       "      <td>No</td>\n",
       "    </tr>\n",
       "  </tbody>\n",
       "</table>\n",
       "</div>"
      ],
      "text/plain": [
       "           Country Has Online delivery\n",
       "0        Australia                  No\n",
       "1           Brazil                  No\n",
       "2           Canada                  No\n",
       "3            India                  No\n",
       "4            India                 Yes\n",
       "5        Indonesia                  No\n",
       "6      New Zealand                  No\n",
       "7      Phillipines                  No\n",
       "8            Qatar                  No\n",
       "9        Singapore                  No\n",
       "10    South Africa                  No\n",
       "11       Sri Lanka                  No\n",
       "12          Turkey                  No\n",
       "13             UAE                  No\n",
       "14             UAE                 Yes\n",
       "15  United Kingdom                  No\n",
       "16   United States                  No"
      ]
     },
     "execution_count": 83,
     "metadata": {},
     "output_type": "execute_result"
    }
   ],
   "source": [
    "online_delivery = final_df.groupby(['Country','Has Online delivery']).size().reset_index()\n",
    "online_delivery.iloc[:,0:2]"
   ]
  },
  {
   "cell_type": "markdown",
   "id": "0c6ddef5",
   "metadata": {},
   "source": [
    "- Try 2"
   ]
  },
  {
   "cell_type": "code",
   "execution_count": 90,
   "id": "9beefdc7",
   "metadata": {},
   "outputs": [],
   "source": [
    "online_delivery_1 = final_df[final_df['Has Online delivery']=='Yes'].Country.value_counts()"
   ]
  },
  {
   "cell_type": "code",
   "execution_count": 91,
   "id": "2ff878ab",
   "metadata": {},
   "outputs": [
    {
     "data": {
      "text/plain": [
       "India    2423\n",
       "UAE        28\n",
       "Name: Country, dtype: int64"
      ]
     },
     "execution_count": 91,
     "metadata": {},
     "output_type": "execute_result"
    }
   ],
   "source": [
    "online_delivery_1"
   ]
  },
  {
   "cell_type": "markdown",
   "id": "3f1ea815",
   "metadata": {},
   "source": [
    "- Try 3"
   ]
  },
  {
   "cell_type": "code",
   "execution_count": 93,
   "id": "eb2c43db",
   "metadata": {},
   "outputs": [
    {
     "data": {
      "text/html": [
       "<div>\n",
       "<style scoped>\n",
       "    .dataframe tbody tr th:only-of-type {\n",
       "        vertical-align: middle;\n",
       "    }\n",
       "\n",
       "    .dataframe tbody tr th {\n",
       "        vertical-align: top;\n",
       "    }\n",
       "\n",
       "    .dataframe thead th {\n",
       "        text-align: right;\n",
       "    }\n",
       "</style>\n",
       "<table border=\"1\" class=\"dataframe\">\n",
       "  <thead>\n",
       "    <tr style=\"text-align: right;\">\n",
       "      <th></th>\n",
       "      <th>Has Online delivery</th>\n",
       "      <th>Country</th>\n",
       "      <th>Count</th>\n",
       "    </tr>\n",
       "  </thead>\n",
       "  <tbody>\n",
       "    <tr>\n",
       "      <th>0</th>\n",
       "      <td>No</td>\n",
       "      <td>Australia</td>\n",
       "      <td>24</td>\n",
       "    </tr>\n",
       "    <tr>\n",
       "      <th>1</th>\n",
       "      <td>No</td>\n",
       "      <td>Brazil</td>\n",
       "      <td>60</td>\n",
       "    </tr>\n",
       "    <tr>\n",
       "      <th>2</th>\n",
       "      <td>No</td>\n",
       "      <td>Canada</td>\n",
       "      <td>4</td>\n",
       "    </tr>\n",
       "    <tr>\n",
       "      <th>3</th>\n",
       "      <td>No</td>\n",
       "      <td>India</td>\n",
       "      <td>6229</td>\n",
       "    </tr>\n",
       "    <tr>\n",
       "      <th>4</th>\n",
       "      <td>No</td>\n",
       "      <td>Indonesia</td>\n",
       "      <td>21</td>\n",
       "    </tr>\n",
       "    <tr>\n",
       "      <th>5</th>\n",
       "      <td>No</td>\n",
       "      <td>New Zealand</td>\n",
       "      <td>40</td>\n",
       "    </tr>\n",
       "    <tr>\n",
       "      <th>6</th>\n",
       "      <td>No</td>\n",
       "      <td>Phillipines</td>\n",
       "      <td>22</td>\n",
       "    </tr>\n",
       "    <tr>\n",
       "      <th>7</th>\n",
       "      <td>No</td>\n",
       "      <td>Qatar</td>\n",
       "      <td>20</td>\n",
       "    </tr>\n",
       "    <tr>\n",
       "      <th>8</th>\n",
       "      <td>No</td>\n",
       "      <td>Singapore</td>\n",
       "      <td>20</td>\n",
       "    </tr>\n",
       "    <tr>\n",
       "      <th>9</th>\n",
       "      <td>No</td>\n",
       "      <td>South Africa</td>\n",
       "      <td>60</td>\n",
       "    </tr>\n",
       "    <tr>\n",
       "      <th>10</th>\n",
       "      <td>No</td>\n",
       "      <td>Sri Lanka</td>\n",
       "      <td>20</td>\n",
       "    </tr>\n",
       "    <tr>\n",
       "      <th>11</th>\n",
       "      <td>No</td>\n",
       "      <td>Turkey</td>\n",
       "      <td>34</td>\n",
       "    </tr>\n",
       "    <tr>\n",
       "      <th>12</th>\n",
       "      <td>No</td>\n",
       "      <td>UAE</td>\n",
       "      <td>32</td>\n",
       "    </tr>\n",
       "    <tr>\n",
       "      <th>13</th>\n",
       "      <td>No</td>\n",
       "      <td>United Kingdom</td>\n",
       "      <td>80</td>\n",
       "    </tr>\n",
       "    <tr>\n",
       "      <th>14</th>\n",
       "      <td>No</td>\n",
       "      <td>United States</td>\n",
       "      <td>434</td>\n",
       "    </tr>\n",
       "    <tr>\n",
       "      <th>15</th>\n",
       "      <td>Yes</td>\n",
       "      <td>India</td>\n",
       "      <td>2423</td>\n",
       "    </tr>\n",
       "    <tr>\n",
       "      <th>16</th>\n",
       "      <td>Yes</td>\n",
       "      <td>UAE</td>\n",
       "      <td>28</td>\n",
       "    </tr>\n",
       "  </tbody>\n",
       "</table>\n",
       "</div>"
      ],
      "text/plain": [
       "   Has Online delivery         Country  Count\n",
       "0                   No       Australia     24\n",
       "1                   No          Brazil     60\n",
       "2                   No          Canada      4\n",
       "3                   No           India   6229\n",
       "4                   No       Indonesia     21\n",
       "5                   No     New Zealand     40\n",
       "6                   No     Phillipines     22\n",
       "7                   No           Qatar     20\n",
       "8                   No       Singapore     20\n",
       "9                   No    South Africa     60\n",
       "10                  No       Sri Lanka     20\n",
       "11                  No          Turkey     34\n",
       "12                  No             UAE     32\n",
       "13                  No  United Kingdom     80\n",
       "14                  No   United States    434\n",
       "15                 Yes           India   2423\n",
       "16                 Yes             UAE     28"
      ]
     },
     "execution_count": 93,
     "metadata": {},
     "output_type": "execute_result"
    }
   ],
   "source": [
    "final_df[['Has Online delivery','Country']].groupby(['Has Online delivery','Country']).size().reset_index().rename(columns= {0:'Count'})"
   ]
  },
  {
   "cell_type": "markdown",
   "id": "044218f5",
   "metadata": {},
   "source": [
    "**Observations:**\n",
    "\n",
    "- Only Two Countries India and UAE is having Online Delivery \n",
    "- In India and UAE at few places (i.e. 6229 and 32 respectively) Online Delivery is not there."
   ]
  },
  {
   "cell_type": "markdown",
   "id": "5f2fbe46",
   "metadata": {},
   "source": [
    "**Create a Pie Chart for Cities Distribution**"
   ]
  },
  {
   "cell_type": "code",
   "execution_count": 95,
   "id": "99e74ec7",
   "metadata": {},
   "outputs": [
    {
     "data": {
      "text/plain": [
       "Index(['Restaurant ID', 'Restaurant Name', 'Country Code', 'City', 'Address',\n",
       "       'Locality', 'Locality Verbose', 'Longitude', 'Latitude', 'Cuisines',\n",
       "       'Average Cost for two', 'Currency', 'Has Table booking',\n",
       "       'Has Online delivery', 'Is delivering now', 'Switch to order menu',\n",
       "       'Price range', 'Aggregate rating', 'Rating color', 'Rating text',\n",
       "       'Votes', 'Country'],\n",
       "      dtype='object')"
      ]
     },
     "execution_count": 95,
     "metadata": {},
     "output_type": "execute_result"
    }
   ],
   "source": [
    "final_df.columns"
   ]
  },
  {
   "cell_type": "code",
   "execution_count": 96,
   "id": "81b7917c",
   "metadata": {},
   "outputs": [],
   "source": [
    "City_name = final_df.City.value_counts().index"
   ]
  },
  {
   "cell_type": "code",
   "execution_count": 97,
   "id": "b81df015",
   "metadata": {},
   "outputs": [
    {
     "data": {
      "text/plain": [
       "Index(['New Delhi', 'Gurgaon', 'Noida', 'Faridabad', 'Ghaziabad',\n",
       "       'Bhubaneshwar', 'Amritsar', 'Ahmedabad', 'Lucknow', 'Guwahati',\n",
       "       ...\n",
       "       'Ojo Caliente', 'Montville', 'Monroe', 'Miller', 'Middleton Beach',\n",
       "       'Panchkula', 'Mc Millan', 'Mayfield', 'Macedon', 'Vineland Station'],\n",
       "      dtype='object', length=141)"
      ]
     },
     "execution_count": 97,
     "metadata": {},
     "output_type": "execute_result"
    }
   ],
   "source": [
    "City_name"
   ]
  },
  {
   "cell_type": "code",
   "execution_count": 99,
   "id": "dcd3a741",
   "metadata": {
    "scrolled": true
   },
   "outputs": [
    {
     "data": {
      "text/plain": [
       "array([5473, 1118, 1080,  251,   25,   21,   21,   21,   21,   21,   20,\n",
       "         20,   20,   20,   20,   20,   20,   20,   20,   20,   20,   20,\n",
       "         20,   20,   20,   20,   20,   20,   20,   20,   20,   20,   20,\n",
       "         20,   20,   20,   20,   20,   20,   20,   20,   20,   20,   20,\n",
       "         20,   20,   20,   20,   20,   20,   20,   20,   20,   20,   20,\n",
       "         20,   20,   20,   20,   20,   20,   20,   20,   20,   20,   20,\n",
       "         20,   20,   20,   20,   20,   20,   20,   20,   20,   20,   20,\n",
       "         18,   18,   16,   14,   11,    6,    4,    4,    3,    3,    2,\n",
       "          2,    2,    2,    2,    2,    2,    2,    1,    1,    1,    1,\n",
       "          1,    1,    1,    1,    1,    1,    1,    1,    1,    1,    1,\n",
       "          1,    1,    1,    1,    1,    1,    1,    1,    1,    1,    1,\n",
       "          1,    1,    1,    1,    1,    1,    1,    1,    1,    1,    1,\n",
       "          1,    1,    1,    1,    1,    1,    1,    1,    1], dtype=int64)"
      ]
     },
     "execution_count": 99,
     "metadata": {},
     "output_type": "execute_result"
    }
   ],
   "source": [
    "City_value = final_df.City.value_counts().values\n",
    "City_value"
   ]
  },
  {
   "cell_type": "markdown",
   "id": "b2fa9fd1",
   "metadata": {},
   "source": [
    "- **We Will Do for Top Five Cities in World**"
   ]
  },
  {
   "cell_type": "code",
   "execution_count": 103,
   "id": "77026718",
   "metadata": {},
   "outputs": [
    {
     "data": {
      "text/plain": [
       "[]"
      ]
     },
     "execution_count": 103,
     "metadata": {},
     "output_type": "execute_result"
    },
    {
     "data": {
      "image/png": "[encoded data removed]",
      "text/plain": [
       "<Figure size 864x432 with 1 Axes>"
      ]
     },
     "metadata": {},
     "output_type": "display_data"
    }
   ],
   "source": [
    "plt.pie(City_value[:5], labels = City_name[:5], autopct='%1.2f%%')\n",
    "plt.plot()"
   ]
  },
  {
   "cell_type": "markdown",
   "id": "4b6c5810",
   "metadata": {},
   "source": [
    "**Observations:**\n",
    "\n",
    "- Maximum transactions were from New Delhi followed by Gurgaon and Noida"
   ]
  },
  {
   "cell_type": "markdown",
   "id": "20bc2db0",
   "metadata": {},
   "source": [
    "**Find Top 10 Cuisines**"
   ]
  },
  {
   "cell_type": "code",
   "execution_count": 120,
   "id": "b3d957f1",
   "metadata": {},
   "outputs": [],
   "source": [
    "top_10_Cuisines = final_df['Cuisines'].value_counts().reset_index()"
   ]
  },
  {
   "cell_type": "code",
   "execution_count": 121,
   "id": "d31ebfb1",
   "metadata": {},
   "outputs": [
    {
     "data": {
      "text/html": [
       "<div>\n",
       "<style scoped>\n",
       "    .dataframe tbody tr th:only-of-type {\n",
       "        vertical-align: middle;\n",
       "    }\n",
       "\n",
       "    .dataframe tbody tr th {\n",
       "        vertical-align: top;\n",
       "    }\n",
       "\n",
       "    .dataframe thead th {\n",
       "        text-align: right;\n",
       "    }\n",
       "</style>\n",
       "<table border=\"1\" class=\"dataframe\">\n",
       "  <thead>\n",
       "    <tr style=\"text-align: right;\">\n",
       "      <th></th>\n",
       "      <th>index</th>\n",
       "      <th>Cuisines</th>\n",
       "    </tr>\n",
       "  </thead>\n",
       "  <tbody>\n",
       "    <tr>\n",
       "      <th>0</th>\n",
       "      <td>North Indian</td>\n",
       "      <td>936</td>\n",
       "    </tr>\n",
       "    <tr>\n",
       "      <th>1</th>\n",
       "      <td>North Indian, Chinese</td>\n",
       "      <td>511</td>\n",
       "    </tr>\n",
       "    <tr>\n",
       "      <th>2</th>\n",
       "      <td>Chinese</td>\n",
       "      <td>354</td>\n",
       "    </tr>\n",
       "    <tr>\n",
       "      <th>3</th>\n",
       "      <td>Fast Food</td>\n",
       "      <td>354</td>\n",
       "    </tr>\n",
       "    <tr>\n",
       "      <th>4</th>\n",
       "      <td>North Indian, Mughlai</td>\n",
       "      <td>334</td>\n",
       "    </tr>\n",
       "    <tr>\n",
       "      <th>5</th>\n",
       "      <td>Cafe</td>\n",
       "      <td>299</td>\n",
       "    </tr>\n",
       "    <tr>\n",
       "      <th>6</th>\n",
       "      <td>Bakery</td>\n",
       "      <td>218</td>\n",
       "    </tr>\n",
       "    <tr>\n",
       "      <th>7</th>\n",
       "      <td>North Indian, Mughlai, Chinese</td>\n",
       "      <td>197</td>\n",
       "    </tr>\n",
       "    <tr>\n",
       "      <th>8</th>\n",
       "      <td>Bakery, Desserts</td>\n",
       "      <td>170</td>\n",
       "    </tr>\n",
       "    <tr>\n",
       "      <th>9</th>\n",
       "      <td>Street Food</td>\n",
       "      <td>149</td>\n",
       "    </tr>\n",
       "  </tbody>\n",
       "</table>\n",
       "</div>"
      ],
      "text/plain": [
       "                            index  Cuisines\n",
       "0                    North Indian       936\n",
       "1           North Indian, Chinese       511\n",
       "2                         Chinese       354\n",
       "3                       Fast Food       354\n",
       "4           North Indian, Mughlai       334\n",
       "5                            Cafe       299\n",
       "6                          Bakery       218\n",
       "7  North Indian, Mughlai, Chinese       197\n",
       "8                Bakery, Desserts       170\n",
       "9                     Street Food       149"
      ]
     },
     "execution_count": 121,
     "metadata": {},
     "output_type": "execute_result"
    }
   ],
   "source": [
    "top_10_Cuisines.head(10)"
   ]
  },
  {
   "cell_type": "markdown",
   "id": "112b3d80",
   "metadata": {},
   "source": [
    "*These are the top_10_Cuisines*"
   ]
  },
  {
   "cell_type": "markdown",
   "id": "91bae2a2",
   "metadata": {},
   "source": []
  }
 ],
 "metadata": {
  "kernelspec": {
   "display_name": "Python 3 (ipykernel)",
   "language": "python",
   "name": "python3"
  },
  "language_info": {
   "codemirror_mode": {
    "name": "ipython",
    "version": 3
   },
   "file_extension": ".py",
   "mimetype": "text/x-python",
   "name": "python",
   "nbconvert_exporter": "python",
   "pygments_lexer": "ipython3",
   "version": "3.8.0"
  }
 },
 "nbformat": 4,
 "nbformat_minor": 5
}
