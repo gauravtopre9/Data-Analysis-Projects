{
 "cells": [
  {
   "cell_type": "markdown",
   "id": "cedfa04c",
   "metadata": {
    "_cell_guid": "b1076dfc-b9ad-4769-8c92-a6c4dae69d19",
    "_uuid": "8f2839f25d086af736a60e9eeb907d3b93b6e0e5",
    "papermill": {
     "duration": 0.043837,
     "end_time": "2022-02-23T11:05:23.205307",
     "exception": false,
     "start_time": "2022-02-23T11:05:23.161470",
     "status": "completed"
    },
    "tags": []
   },
   "source": [
    "# Zomato Restaurants EDA"
   ]
  },
  {
   "cell_type": "markdown",
   "id": "f432e591",
   "metadata": {
    "papermill": {
     "duration": 0.040448,
     "end_time": "2022-02-23T11:05:23.290542",
     "exception": false,
     "start_time": "2022-02-23T11:05:23.250094",
     "status": "completed"
    },
    "tags": []
   },
   "source": [
    "**Importing Libraries**"
   ]
  },
  {
   "cell_type": "code",
   "execution_count": 1,
   "id": "d049cd8f",
   "metadata": {
    "execution": {
     "iopub.execute_input": "2022-02-23T11:05:23.377300Z",
     "iopub.status.busy": "2022-02-23T11:05:23.376124Z",
     "iopub.status.idle": "2022-02-23T11:05:24.462903Z",
     "shell.execute_reply": "2022-02-23T11:05:24.462270Z",
     "shell.execute_reply.started": "2022-02-23T10:38:56.088902Z"
    },
    "papermill": {
     "duration": 1.130788,
     "end_time": "2022-02-23T11:05:24.463093",
     "exception": false,
     "start_time": "2022-02-23T11:05:23.332305",
     "status": "completed"
    },
    "tags": []
   },
   "outputs": [],
   "source": [
    "import pandas as pd\n",
    "import numpy as np\n",
    "import matplotlib.pyplot as plt\n",
    "import seaborn as sns\n",
    "\n",
    "%matplotlib inline"
   ]
  },
  {
   "cell_type": "code",
   "execution_count": 2,
   "id": "d7c49f4e",
   "metadata": {
    "execution": {
     "iopub.execute_input": "2022-02-23T11:05:24.552785Z",
     "iopub.status.busy": "2022-02-23T11:05:24.551834Z",
     "iopub.status.idle": "2022-02-23T11:05:35.427356Z",
     "shell.execute_reply": "2022-02-23T11:05:35.426804Z",
     "shell.execute_reply.started": "2022-02-23T10:38:57.075418Z"
    },
    "papermill": {
     "duration": 10.923839,
     "end_time": "2022-02-23T11:05:35.427512",
     "exception": false,
     "start_time": "2022-02-23T11:05:24.503673",
     "status": "completed"
    },
    "tags": []
   },
   "outputs": [
    {
     "name": "stdout",
     "output_type": "stream",
     "text": [
      "Collecting openpyxl\r\n",
      "  Downloading openpyxl-3.0.9-py2.py3-none-any.whl (242 kB)\r\n",
      "     |████████████████████████████████| 242 kB 516 kB/s            \r\n",
      "\u001b[?25hCollecting et-xmlfile\r\n",
      "  Downloading et_xmlfile-1.1.0-py3-none-any.whl (4.7 kB)\r\n",
      "Installing collected packages: et-xmlfile, openpyxl\r\n",
      "Successfully installed et-xmlfile-1.1.0 openpyxl-3.0.9\r\n",
      "\u001b[33mWARNING: Running pip as the 'root' user can result in broken permissions and conflicting behaviour with the system package manager. It is recommended to use a virtual environment instead: https://pip.pypa.io/warnings/venv\u001b[0m\r\n"
     ]
    }
   ],
   "source": [
    "!pip install openpyxl\n",
    "df = pd.read_csv('../input/zomato-restaurants-data/zomato.csv', encoding = 'latin-1')\n",
    "sheet = pd.read_excel('../input/zomato-restaurants-data/Country-Code.xlsx')"
   ]
  },
  {
   "cell_type": "code",
   "execution_count": 3,
   "id": "58e1d604",
   "metadata": {
    "execution": {
     "iopub.execute_input": "2022-02-23T11:05:35.524412Z",
     "iopub.status.busy": "2022-02-23T11:05:35.523430Z",
     "iopub.status.idle": "2022-02-23T11:05:35.554162Z",
     "shell.execute_reply": "2022-02-23T11:05:35.553663Z",
     "shell.execute_reply.started": "2022-02-23T10:39:08.179655Z"
    },
    "papermill": {
     "duration": 0.082716,
     "end_time": "2022-02-23T11:05:35.554325",
     "exception": false,
     "start_time": "2022-02-23T11:05:35.471609",
     "status": "completed"
    },
    "tags": []
   },
   "outputs": [
    {
     "data": {
      "text/html": [
       "<div>\n",
       "<style scoped>\n",
       "    .dataframe tbody tr th:only-of-type {\n",
       "        vertical-align: middle;\n",
       "    }\n",
       "\n",
       "    .dataframe tbody tr th {\n",
       "        vertical-align: top;\n",
       "    }\n",
       "\n",
       "    .dataframe thead th {\n",
       "        text-align: right;\n",
       "    }\n",
       "</style>\n",
       "<table border=\"1\" class=\"dataframe\">\n",
       "  <thead>\n",
       "    <tr style=\"text-align: right;\">\n",
       "      <th></th>\n",
       "      <th>Restaurant ID</th>\n",
       "      <th>Restaurant Name</th>\n",
       "      <th>Country Code</th>\n",
       "      <th>City</th>\n",
       "      <th>Address</th>\n",
       "      <th>Locality</th>\n",
       "      <th>Locality Verbose</th>\n",
       "      <th>Longitude</th>\n",
       "      <th>Latitude</th>\n",
       "      <th>Cuisines</th>\n",
       "      <th>...</th>\n",
       "      <th>Currency</th>\n",
       "      <th>Has Table booking</th>\n",
       "      <th>Has Online delivery</th>\n",
       "      <th>Is delivering now</th>\n",
       "      <th>Switch to order menu</th>\n",
       "      <th>Price range</th>\n",
       "      <th>Aggregate rating</th>\n",
       "      <th>Rating color</th>\n",
       "      <th>Rating text</th>\n",
       "      <th>Votes</th>\n",
       "    </tr>\n",
       "  </thead>\n",
       "  <tbody>\n",
       "    <tr>\n",
       "      <th>0</th>\n",
       "      <td>6317637</td>\n",
       "      <td>Le Petit Souffle</td>\n",
       "      <td>162</td>\n",
       "      <td>Makati City</td>\n",
       "      <td>Third Floor, Century City Mall, Kalayaan Avenu...</td>\n",
       "      <td>Century City Mall, Poblacion, Makati City</td>\n",
       "      <td>Century City Mall, Poblacion, Makati City, Mak...</td>\n",
       "      <td>121.027535</td>\n",
       "      <td>14.565443</td>\n",
       "      <td>French, Japanese, Desserts</td>\n",
       "      <td>...</td>\n",
       "      <td>Botswana Pula(P)</td>\n",
       "      <td>Yes</td>\n",
       "      <td>No</td>\n",
       "      <td>No</td>\n",
       "      <td>No</td>\n",
       "      <td>3</td>\n",
       "      <td>4.8</td>\n",
       "      <td>Dark Green</td>\n",
       "      <td>Excellent</td>\n",
       "      <td>314</td>\n",
       "    </tr>\n",
       "    <tr>\n",
       "      <th>1</th>\n",
       "      <td>6304287</td>\n",
       "      <td>Izakaya Kikufuji</td>\n",
       "      <td>162</td>\n",
       "      <td>Makati City</td>\n",
       "      <td>Little Tokyo, 2277 Chino Roces Avenue, Legaspi...</td>\n",
       "      <td>Little Tokyo, Legaspi Village, Makati City</td>\n",
       "      <td>Little Tokyo, Legaspi Village, Makati City, Ma...</td>\n",
       "      <td>121.014101</td>\n",
       "      <td>14.553708</td>\n",
       "      <td>Japanese</td>\n",
       "      <td>...</td>\n",
       "      <td>Botswana Pula(P)</td>\n",
       "      <td>Yes</td>\n",
       "      <td>No</td>\n",
       "      <td>No</td>\n",
       "      <td>No</td>\n",
       "      <td>3</td>\n",
       "      <td>4.5</td>\n",
       "      <td>Dark Green</td>\n",
       "      <td>Excellent</td>\n",
       "      <td>591</td>\n",
       "    </tr>\n",
       "  </tbody>\n",
       "</table>\n",
       "<p>2 rows × 21 columns</p>\n",
       "</div>"
      ],
      "text/plain": [
       "   Restaurant ID   Restaurant Name  Country Code         City  \\\n",
       "0        6317637  Le Petit Souffle           162  Makati City   \n",
       "1        6304287  Izakaya Kikufuji           162  Makati City   \n",
       "\n",
       "                                             Address  \\\n",
       "0  Third Floor, Century City Mall, Kalayaan Avenu...   \n",
       "1  Little Tokyo, 2277 Chino Roces Avenue, Legaspi...   \n",
       "\n",
       "                                     Locality  \\\n",
       "0   Century City Mall, Poblacion, Makati City   \n",
       "1  Little Tokyo, Legaspi Village, Makati City   \n",
       "\n",
       "                                    Locality Verbose   Longitude   Latitude  \\\n",
       "0  Century City Mall, Poblacion, Makati City, Mak...  121.027535  14.565443   \n",
       "1  Little Tokyo, Legaspi Village, Makati City, Ma...  121.014101  14.553708   \n",
       "\n",
       "                     Cuisines  ...          Currency Has Table booking  \\\n",
       "0  French, Japanese, Desserts  ...  Botswana Pula(P)               Yes   \n",
       "1                    Japanese  ...  Botswana Pula(P)               Yes   \n",
       "\n",
       "  Has Online delivery Is delivering now Switch to order menu Price range  \\\n",
       "0                  No                No                   No           3   \n",
       "1                  No                No                   No           3   \n",
       "\n",
       "   Aggregate rating  Rating color Rating text Votes  \n",
       "0               4.8    Dark Green   Excellent   314  \n",
       "1               4.5    Dark Green   Excellent   591  \n",
       "\n",
       "[2 rows x 21 columns]"
      ]
     },
     "execution_count": 3,
     "metadata": {},
     "output_type": "execute_result"
    }
   ],
   "source": [
    "df.head(2)"
   ]
  },
  {
   "cell_type": "code",
   "execution_count": 4,
   "id": "8b7e510f",
   "metadata": {
    "execution": {
     "iopub.execute_input": "2022-02-23T11:05:35.647831Z",
     "iopub.status.busy": "2022-02-23T11:05:35.646964Z",
     "iopub.status.idle": "2022-02-23T11:05:35.651062Z",
     "shell.execute_reply": "2022-02-23T11:05:35.650591Z",
     "shell.execute_reply.started": "2022-02-23T10:39:08.217316Z"
    },
    "papermill": {
     "duration": 0.052759,
     "end_time": "2022-02-23T11:05:35.651217",
     "exception": false,
     "start_time": "2022-02-23T11:05:35.598458",
     "status": "completed"
    },
    "tags": []
   },
   "outputs": [
    {
     "data": {
      "text/plain": [
       "(9551, 21)"
      ]
     },
     "execution_count": 4,
     "metadata": {},
     "output_type": "execute_result"
    }
   ],
   "source": [
    "df.shape"
   ]
  },
  {
   "cell_type": "code",
   "execution_count": 5,
   "id": "3e68a58f",
   "metadata": {
    "execution": {
     "iopub.execute_input": "2022-02-23T11:05:35.746720Z",
     "iopub.status.busy": "2022-02-23T11:05:35.746075Z",
     "iopub.status.idle": "2022-02-23T11:05:35.748889Z",
     "shell.execute_reply": "2022-02-23T11:05:35.749396Z",
     "shell.execute_reply.started": "2022-02-23T10:39:08.224987Z"
    },
    "papermill": {
     "duration": 0.054835,
     "end_time": "2022-02-23T11:05:35.749574",
     "exception": false,
     "start_time": "2022-02-23T11:05:35.694739",
     "status": "completed"
    },
    "tags": []
   },
   "outputs": [
    {
     "data": {
      "text/plain": [
       "Index(['Restaurant ID', 'Restaurant Name', 'Country Code', 'City', 'Address',\n",
       "       'Locality', 'Locality Verbose', 'Longitude', 'Latitude', 'Cuisines',\n",
       "       'Average Cost for two', 'Currency', 'Has Table booking',\n",
       "       'Has Online delivery', 'Is delivering now', 'Switch to order menu',\n",
       "       'Price range', 'Aggregate rating', 'Rating color', 'Rating text',\n",
       "       'Votes'],\n",
       "      dtype='object')"
      ]
     },
     "execution_count": 5,
     "metadata": {},
     "output_type": "execute_result"
    }
   ],
   "source": [
    "df.columns"
   ]
  },
  {
   "cell_type": "code",
   "execution_count": 6,
   "id": "bdfa0bd7",
   "metadata": {
    "execution": {
     "iopub.execute_input": "2022-02-23T11:05:35.842227Z",
     "iopub.status.busy": "2022-02-23T11:05:35.841617Z",
     "iopub.status.idle": "2022-02-23T11:05:35.871845Z",
     "shell.execute_reply": "2022-02-23T11:05:35.872319Z",
     "shell.execute_reply.started": "2022-02-23T10:39:08.233940Z"
    },
    "papermill": {
     "duration": 0.077551,
     "end_time": "2022-02-23T11:05:35.872503",
     "exception": false,
     "start_time": "2022-02-23T11:05:35.794952",
     "status": "completed"
    },
    "tags": []
   },
   "outputs": [
    {
     "name": "stdout",
     "output_type": "stream",
     "text": [
      "<class 'pandas.core.frame.DataFrame'>\n",
      "RangeIndex: 9551 entries, 0 to 9550\n",
      "Data columns (total 21 columns):\n",
      " #   Column                Non-Null Count  Dtype  \n",
      "---  ------                --------------  -----  \n",
      " 0   Restaurant ID         9551 non-null   int64  \n",
      " 1   Restaurant Name       9551 non-null   object \n",
      " 2   Country Code          9551 non-null   int64  \n",
      " 3   City                  9551 non-null   object \n",
      " 4   Address               9551 non-null   object \n",
      " 5   Locality              9551 non-null   object \n",
      " 6   Locality Verbose      9551 non-null   object \n",
      " 7   Longitude             9551 non-null   float64\n",
      " 8   Latitude              9551 non-null   float64\n",
      " 9   Cuisines              9542 non-null   object \n",
      " 10  Average Cost for two  9551 non-null   int64  \n",
      " 11  Currency              9551 non-null   object \n",
      " 12  Has Table booking     9551 non-null   object \n",
      " 13  Has Online delivery   9551 non-null   object \n",
      " 14  Is delivering now     9551 non-null   object \n",
      " 15  Switch to order menu  9551 non-null   object \n",
      " 16  Price range           9551 non-null   int64  \n",
      " 17  Aggregate rating      9551 non-null   float64\n",
      " 18  Rating color          9551 non-null   object \n",
      " 19  Rating text           9551 non-null   object \n",
      " 20  Votes                 9551 non-null   int64  \n",
      "dtypes: float64(3), int64(5), object(13)\n",
      "memory usage: 1.5+ MB\n"
     ]
    }
   ],
   "source": [
    "df.info()"
   ]
  },
  {
   "cell_type": "code",
   "execution_count": 7,
   "id": "e0c6d71f",
   "metadata": {
    "execution": {
     "iopub.execute_input": "2022-02-23T11:05:35.969712Z",
     "iopub.status.busy": "2022-02-23T11:05:35.968673Z",
     "iopub.status.idle": "2022-02-23T11:05:35.982590Z",
     "shell.execute_reply": "2022-02-23T11:05:35.983133Z",
     "shell.execute_reply.started": "2022-02-23T10:39:08.274645Z"
    },
    "papermill": {
     "duration": 0.063609,
     "end_time": "2022-02-23T11:05:35.983302",
     "exception": false,
     "start_time": "2022-02-23T11:05:35.919693",
     "status": "completed"
    },
    "tags": []
   },
   "outputs": [
    {
     "data": {
      "text/plain": [
       "Restaurant ID           0\n",
       "Restaurant Name         0\n",
       "Country Code            0\n",
       "City                    0\n",
       "Address                 0\n",
       "Locality                0\n",
       "Locality Verbose        0\n",
       "Longitude               0\n",
       "Latitude                0\n",
       "Cuisines                9\n",
       "Average Cost for two    0\n",
       "Currency                0\n",
       "Has Table booking       0\n",
       "Has Online delivery     0\n",
       "Is delivering now       0\n",
       "Switch to order menu    0\n",
       "Price range             0\n",
       "Aggregate rating        0\n",
       "Rating color            0\n",
       "Rating text             0\n",
       "Votes                   0\n",
       "dtype: int64"
      ]
     },
     "execution_count": 7,
     "metadata": {},
     "output_type": "execute_result"
    }
   ],
   "source": [
    "df.isnull().sum()"
   ]
  },
  {
   "cell_type": "code",
   "execution_count": 8,
   "id": "25dcf514",
   "metadata": {
    "execution": {
     "iopub.execute_input": "2022-02-23T11:05:36.078428Z",
     "iopub.status.busy": "2022-02-23T11:05:36.077426Z",
     "iopub.status.idle": "2022-02-23T11:05:36.084347Z",
     "shell.execute_reply": "2022-02-23T11:05:36.084858Z",
     "shell.execute_reply.started": "2022-02-23T10:39:08.299248Z"
    },
    "papermill": {
     "duration": 0.057195,
     "end_time": "2022-02-23T11:05:36.085039",
     "exception": false,
     "start_time": "2022-02-23T11:05:36.027844",
     "status": "completed"
    },
    "tags": []
   },
   "outputs": [
    {
     "data": {
      "text/plain": [
       "0"
      ]
     },
     "execution_count": 8,
     "metadata": {},
     "output_type": "execute_result"
    }
   ],
   "source": [
    "df['Restaurant ID'].duplicated().sum()"
   ]
  },
  {
   "cell_type": "code",
   "execution_count": 9,
   "id": "b1e20d1b",
   "metadata": {
    "execution": {
     "iopub.execute_input": "2022-02-23T11:05:36.178553Z",
     "iopub.status.busy": "2022-02-23T11:05:36.177596Z",
     "iopub.status.idle": "2022-02-23T11:05:36.186203Z",
     "shell.execute_reply": "2022-02-23T11:05:36.186715Z",
     "shell.execute_reply.started": "2022-02-23T10:39:08.306809Z"
    },
    "papermill": {
     "duration": 0.057029,
     "end_time": "2022-02-23T11:05:36.186876",
     "exception": false,
     "start_time": "2022-02-23T11:05:36.129847",
     "status": "completed"
    },
    "tags": []
   },
   "outputs": [
    {
     "data": {
      "text/html": [
       "<div>\n",
       "<style scoped>\n",
       "    .dataframe tbody tr th:only-of-type {\n",
       "        vertical-align: middle;\n",
       "    }\n",
       "\n",
       "    .dataframe tbody tr th {\n",
       "        vertical-align: top;\n",
       "    }\n",
       "\n",
       "    .dataframe thead th {\n",
       "        text-align: right;\n",
       "    }\n",
       "</style>\n",
       "<table border=\"1\" class=\"dataframe\">\n",
       "  <thead>\n",
       "    <tr style=\"text-align: right;\">\n",
       "      <th></th>\n",
       "      <th>Country Code</th>\n",
       "      <th>Country</th>\n",
       "    </tr>\n",
       "  </thead>\n",
       "  <tbody>\n",
       "    <tr>\n",
       "      <th>0</th>\n",
       "      <td>1</td>\n",
       "      <td>India</td>\n",
       "    </tr>\n",
       "    <tr>\n",
       "      <th>1</th>\n",
       "      <td>14</td>\n",
       "      <td>Australia</td>\n",
       "    </tr>\n",
       "    <tr>\n",
       "      <th>2</th>\n",
       "      <td>30</td>\n",
       "      <td>Brazil</td>\n",
       "    </tr>\n",
       "    <tr>\n",
       "      <th>3</th>\n",
       "      <td>37</td>\n",
       "      <td>Canada</td>\n",
       "    </tr>\n",
       "    <tr>\n",
       "      <th>4</th>\n",
       "      <td>94</td>\n",
       "      <td>Indonesia</td>\n",
       "    </tr>\n",
       "  </tbody>\n",
       "</table>\n",
       "</div>"
      ],
      "text/plain": [
       "   Country Code    Country\n",
       "0             1      India\n",
       "1            14  Australia\n",
       "2            30     Brazil\n",
       "3            37     Canada\n",
       "4            94  Indonesia"
      ]
     },
     "execution_count": 9,
     "metadata": {},
     "output_type": "execute_result"
    }
   ],
   "source": [
    "sheet.head()"
   ]
  },
  {
   "cell_type": "code",
   "execution_count": 10,
   "id": "592a07ed",
   "metadata": {
    "execution": {
     "iopub.execute_input": "2022-02-23T11:05:36.280519Z",
     "iopub.status.busy": "2022-02-23T11:05:36.279583Z",
     "iopub.status.idle": "2022-02-23T11:05:36.284657Z",
     "shell.execute_reply": "2022-02-23T11:05:36.285199Z",
     "shell.execute_reply.started": "2022-02-23T10:39:08.324051Z"
    },
    "papermill": {
     "duration": 0.053238,
     "end_time": "2022-02-23T11:05:36.285369",
     "exception": false,
     "start_time": "2022-02-23T11:05:36.232131",
     "status": "completed"
    },
    "tags": []
   },
   "outputs": [
    {
     "data": {
      "text/plain": [
       "(15, 2)"
      ]
     },
     "execution_count": 10,
     "metadata": {},
     "output_type": "execute_result"
    }
   ],
   "source": [
    "sheet.shape"
   ]
  },
  {
   "cell_type": "code",
   "execution_count": 11,
   "id": "e30c8fe8",
   "metadata": {
    "execution": {
     "iopub.execute_input": "2022-02-23T11:05:36.386199Z",
     "iopub.status.busy": "2022-02-23T11:05:36.385405Z",
     "iopub.status.idle": "2022-02-23T11:05:36.388488Z",
     "shell.execute_reply": "2022-02-23T11:05:36.388924Z",
     "shell.execute_reply.started": "2022-02-23T10:39:08.332476Z"
    },
    "papermill": {
     "duration": 0.058221,
     "end_time": "2022-02-23T11:05:36.389102",
     "exception": false,
     "start_time": "2022-02-23T11:05:36.330881",
     "status": "completed"
    },
    "tags": []
   },
   "outputs": [
    {
     "data": {
      "text/plain": [
       "Country Code    0\n",
       "Country         0\n",
       "dtype: int64"
      ]
     },
     "execution_count": 11,
     "metadata": {},
     "output_type": "execute_result"
    }
   ],
   "source": [
    "sheet.isnull().sum()"
   ]
  },
  {
   "cell_type": "code",
   "execution_count": 12,
   "id": "ee8ee9fd",
   "metadata": {
    "execution": {
     "iopub.execute_input": "2022-02-23T11:05:36.485424Z",
     "iopub.status.busy": "2022-02-23T11:05:36.484434Z",
     "iopub.status.idle": "2022-02-23T11:05:36.527174Z",
     "shell.execute_reply": "2022-02-23T11:05:36.527630Z",
     "shell.execute_reply.started": "2022-02-23T10:39:08.344322Z"
    },
    "papermill": {
     "duration": 0.092122,
     "end_time": "2022-02-23T11:05:36.527806",
     "exception": false,
     "start_time": "2022-02-23T11:05:36.435684",
     "status": "completed"
    },
    "tags": []
   },
   "outputs": [
    {
     "data": {
      "text/html": [
       "<div>\n",
       "<style scoped>\n",
       "    .dataframe tbody tr th:only-of-type {\n",
       "        vertical-align: middle;\n",
       "    }\n",
       "\n",
       "    .dataframe tbody tr th {\n",
       "        vertical-align: top;\n",
       "    }\n",
       "\n",
       "    .dataframe thead th {\n",
       "        text-align: right;\n",
       "    }\n",
       "</style>\n",
       "<table border=\"1\" class=\"dataframe\">\n",
       "  <thead>\n",
       "    <tr style=\"text-align: right;\">\n",
       "      <th></th>\n",
       "      <th>Restaurant ID</th>\n",
       "      <th>Restaurant Name</th>\n",
       "      <th>Country Code</th>\n",
       "      <th>City</th>\n",
       "      <th>Address</th>\n",
       "      <th>Locality</th>\n",
       "      <th>Locality Verbose</th>\n",
       "      <th>Longitude</th>\n",
       "      <th>Latitude</th>\n",
       "      <th>Cuisines</th>\n",
       "      <th>...</th>\n",
       "      <th>Has Table booking</th>\n",
       "      <th>Has Online delivery</th>\n",
       "      <th>Is delivering now</th>\n",
       "      <th>Switch to order menu</th>\n",
       "      <th>Price range</th>\n",
       "      <th>Aggregate rating</th>\n",
       "      <th>Rating color</th>\n",
       "      <th>Rating text</th>\n",
       "      <th>Votes</th>\n",
       "      <th>Country</th>\n",
       "    </tr>\n",
       "  </thead>\n",
       "  <tbody>\n",
       "    <tr>\n",
       "      <th>0</th>\n",
       "      <td>6317637</td>\n",
       "      <td>Le Petit Souffle</td>\n",
       "      <td>162</td>\n",
       "      <td>Makati City</td>\n",
       "      <td>Third Floor, Century City Mall, Kalayaan Avenu...</td>\n",
       "      <td>Century City Mall, Poblacion, Makati City</td>\n",
       "      <td>Century City Mall, Poblacion, Makati City, Mak...</td>\n",
       "      <td>121.027535</td>\n",
       "      <td>14.565443</td>\n",
       "      <td>French, Japanese, Desserts</td>\n",
       "      <td>...</td>\n",
       "      <td>Yes</td>\n",
       "      <td>No</td>\n",
       "      <td>No</td>\n",
       "      <td>No</td>\n",
       "      <td>3</td>\n",
       "      <td>4.8</td>\n",
       "      <td>Dark Green</td>\n",
       "      <td>Excellent</td>\n",
       "      <td>314</td>\n",
       "      <td>Phillipines</td>\n",
       "    </tr>\n",
       "    <tr>\n",
       "      <th>1</th>\n",
       "      <td>6304287</td>\n",
       "      <td>Izakaya Kikufuji</td>\n",
       "      <td>162</td>\n",
       "      <td>Makati City</td>\n",
       "      <td>Little Tokyo, 2277 Chino Roces Avenue, Legaspi...</td>\n",
       "      <td>Little Tokyo, Legaspi Village, Makati City</td>\n",
       "      <td>Little Tokyo, Legaspi Village, Makati City, Ma...</td>\n",
       "      <td>121.014101</td>\n",
       "      <td>14.553708</td>\n",
       "      <td>Japanese</td>\n",
       "      <td>...</td>\n",
       "      <td>Yes</td>\n",
       "      <td>No</td>\n",
       "      <td>No</td>\n",
       "      <td>No</td>\n",
       "      <td>3</td>\n",
       "      <td>4.5</td>\n",
       "      <td>Dark Green</td>\n",
       "      <td>Excellent</td>\n",
       "      <td>591</td>\n",
       "      <td>Phillipines</td>\n",
       "    </tr>\n",
       "  </tbody>\n",
       "</table>\n",
       "<p>2 rows × 22 columns</p>\n",
       "</div>"
      ],
      "text/plain": [
       "   Restaurant ID   Restaurant Name  Country Code         City  \\\n",
       "0        6317637  Le Petit Souffle           162  Makati City   \n",
       "1        6304287  Izakaya Kikufuji           162  Makati City   \n",
       "\n",
       "                                             Address  \\\n",
       "0  Third Floor, Century City Mall, Kalayaan Avenu...   \n",
       "1  Little Tokyo, 2277 Chino Roces Avenue, Legaspi...   \n",
       "\n",
       "                                     Locality  \\\n",
       "0   Century City Mall, Poblacion, Makati City   \n",
       "1  Little Tokyo, Legaspi Village, Makati City   \n",
       "\n",
       "                                    Locality Verbose   Longitude   Latitude  \\\n",
       "0  Century City Mall, Poblacion, Makati City, Mak...  121.027535  14.565443   \n",
       "1  Little Tokyo, Legaspi Village, Makati City, Ma...  121.014101  14.553708   \n",
       "\n",
       "                     Cuisines  ...  Has Table booking Has Online delivery  \\\n",
       "0  French, Japanese, Desserts  ...                Yes                  No   \n",
       "1                    Japanese  ...                Yes                  No   \n",
       "\n",
       "  Is delivering now Switch to order menu Price range Aggregate rating  \\\n",
       "0                No                   No           3              4.8   \n",
       "1                No                   No           3              4.5   \n",
       "\n",
       "   Rating color  Rating text Votes      Country  \n",
       "0    Dark Green    Excellent   314  Phillipines  \n",
       "1    Dark Green    Excellent   591  Phillipines  \n",
       "\n",
       "[2 rows x 22 columns]"
      ]
     },
     "execution_count": 12,
     "metadata": {},
     "output_type": "execute_result"
    }
   ],
   "source": [
    "final_df = pd.merge(df,sheet,on = 'Country Code', how='left')\n",
    "final_df.head(2)"
   ]
  },
  {
   "cell_type": "code",
   "execution_count": 13,
   "id": "8525cb91",
   "metadata": {
    "execution": {
     "iopub.execute_input": "2022-02-23T11:05:36.629692Z",
     "iopub.status.busy": "2022-02-23T11:05:36.628619Z",
     "iopub.status.idle": "2022-02-23T11:05:36.638094Z",
     "shell.execute_reply": "2022-02-23T11:05:36.638564Z",
     "shell.execute_reply.started": "2022-02-23T10:39:08.390383Z"
    },
    "papermill": {
     "duration": 0.061472,
     "end_time": "2022-02-23T11:05:36.638724",
     "exception": false,
     "start_time": "2022-02-23T11:05:36.577252",
     "status": "completed"
    },
    "tags": []
   },
   "outputs": [],
   "source": [
    "final_df.drop('Country Code', axis=1,inplace=True)"
   ]
  },
  {
   "cell_type": "code",
   "execution_count": 14,
   "id": "cafdc9fa",
   "metadata": {
    "execution": {
     "iopub.execute_input": "2022-02-23T11:05:36.737135Z",
     "iopub.status.busy": "2022-02-23T11:05:36.736514Z",
     "iopub.status.idle": "2022-02-23T11:05:36.739280Z",
     "shell.execute_reply": "2022-02-23T11:05:36.739761Z",
     "shell.execute_reply.started": "2022-02-23T10:39:08.402281Z"
    },
    "papermill": {
     "duration": 0.05491,
     "end_time": "2022-02-23T11:05:36.739932",
     "exception": false,
     "start_time": "2022-02-23T11:05:36.685022",
     "status": "completed"
    },
    "tags": []
   },
   "outputs": [
    {
     "data": {
      "text/plain": [
       "Index(['Restaurant ID', 'Restaurant Name', 'City', 'Address', 'Locality',\n",
       "       'Locality Verbose', 'Longitude', 'Latitude', 'Cuisines',\n",
       "       'Average Cost for two', 'Currency', 'Has Table booking',\n",
       "       'Has Online delivery', 'Is delivering now', 'Switch to order menu',\n",
       "       'Price range', 'Aggregate rating', 'Rating color', 'Rating text',\n",
       "       'Votes', 'Country'],\n",
       "      dtype='object')"
      ]
     },
     "execution_count": 14,
     "metadata": {},
     "output_type": "execute_result"
    }
   ],
   "source": [
    "final_df.columns"
   ]
  },
  {
   "cell_type": "markdown",
   "id": "74ffec55",
   "metadata": {
    "papermill": {
     "duration": 0.04676,
     "end_time": "2022-02-23T11:05:36.833564",
     "exception": false,
     "start_time": "2022-02-23T11:05:36.786804",
     "status": "completed"
    },
    "tags": []
   },
   "source": [
    "### Currencies used in Countries"
   ]
  },
  {
   "cell_type": "code",
   "execution_count": 15,
   "id": "d44549b1",
   "metadata": {
    "execution": {
     "iopub.execute_input": "2022-02-23T11:05:36.933326Z",
     "iopub.status.busy": "2022-02-23T11:05:36.932346Z",
     "iopub.status.idle": "2022-02-23T11:05:36.945964Z",
     "shell.execute_reply": "2022-02-23T11:05:36.945350Z",
     "shell.execute_reply.started": "2022-02-23T10:39:08.410062Z"
    },
    "papermill": {
     "duration": 0.065815,
     "end_time": "2022-02-23T11:05:36.946119",
     "exception": false,
     "start_time": "2022-02-23T11:05:36.880304",
     "status": "completed"
    },
    "tags": []
   },
   "outputs": [
    {
     "data": {
      "text/html": [
       "<div>\n",
       "<style scoped>\n",
       "    .dataframe tbody tr th:only-of-type {\n",
       "        vertical-align: middle;\n",
       "    }\n",
       "\n",
       "    .dataframe tbody tr th {\n",
       "        vertical-align: top;\n",
       "    }\n",
       "\n",
       "    .dataframe thead th {\n",
       "        text-align: right;\n",
       "    }\n",
       "</style>\n",
       "<table border=\"1\" class=\"dataframe\">\n",
       "  <thead>\n",
       "    <tr style=\"text-align: right;\">\n",
       "      <th></th>\n",
       "      <th>Country</th>\n",
       "      <th>Currency</th>\n",
       "    </tr>\n",
       "  </thead>\n",
       "  <tbody>\n",
       "    <tr>\n",
       "      <th>0</th>\n",
       "      <td>Australia</td>\n",
       "      <td>Dollar($)</td>\n",
       "    </tr>\n",
       "    <tr>\n",
       "      <th>1</th>\n",
       "      <td>Brazil</td>\n",
       "      <td>Brazilian Real(R$)</td>\n",
       "    </tr>\n",
       "    <tr>\n",
       "      <th>2</th>\n",
       "      <td>Canada</td>\n",
       "      <td>Dollar($)</td>\n",
       "    </tr>\n",
       "    <tr>\n",
       "      <th>3</th>\n",
       "      <td>India</td>\n",
       "      <td>Indian Rupees(Rs.)</td>\n",
       "    </tr>\n",
       "    <tr>\n",
       "      <th>4</th>\n",
       "      <td>Indonesia</td>\n",
       "      <td>Indonesian Rupiah(IDR)</td>\n",
       "    </tr>\n",
       "    <tr>\n",
       "      <th>5</th>\n",
       "      <td>New Zealand</td>\n",
       "      <td>NewZealand($)</td>\n",
       "    </tr>\n",
       "    <tr>\n",
       "      <th>6</th>\n",
       "      <td>Phillipines</td>\n",
       "      <td>Botswana Pula(P)</td>\n",
       "    </tr>\n",
       "    <tr>\n",
       "      <th>7</th>\n",
       "      <td>Qatar</td>\n",
       "      <td>Qatari Rial(QR)</td>\n",
       "    </tr>\n",
       "    <tr>\n",
       "      <th>8</th>\n",
       "      <td>Singapore</td>\n",
       "      <td>Dollar($)</td>\n",
       "    </tr>\n",
       "    <tr>\n",
       "      <th>9</th>\n",
       "      <td>South Africa</td>\n",
       "      <td>Rand(R)</td>\n",
       "    </tr>\n",
       "    <tr>\n",
       "      <th>10</th>\n",
       "      <td>Sri Lanka</td>\n",
       "      <td>Sri Lankan Rupee(LKR)</td>\n",
       "    </tr>\n",
       "    <tr>\n",
       "      <th>11</th>\n",
       "      <td>Turkey</td>\n",
       "      <td>Turkish Lira(TL)</td>\n",
       "    </tr>\n",
       "    <tr>\n",
       "      <th>12</th>\n",
       "      <td>UAE</td>\n",
       "      <td>Emirati Diram(AED)</td>\n",
       "    </tr>\n",
       "    <tr>\n",
       "      <th>13</th>\n",
       "      <td>United Kingdom</td>\n",
       "      <td>Pounds(£)</td>\n",
       "    </tr>\n",
       "    <tr>\n",
       "      <th>14</th>\n",
       "      <td>United States</td>\n",
       "      <td>Dollar($)</td>\n",
       "    </tr>\n",
       "  </tbody>\n",
       "</table>\n",
       "</div>"
      ],
      "text/plain": [
       "           Country                Currency\n",
       "0        Australia               Dollar($)\n",
       "1           Brazil      Brazilian Real(R$)\n",
       "2           Canada               Dollar($)\n",
       "3            India      Indian Rupees(Rs.)\n",
       "4        Indonesia  Indonesian Rupiah(IDR)\n",
       "5      New Zealand           NewZealand($)\n",
       "6      Phillipines        Botswana Pula(P)\n",
       "7            Qatar         Qatari Rial(QR)\n",
       "8        Singapore               Dollar($)\n",
       "9     South Africa                 Rand(R)\n",
       "10       Sri Lanka   Sri Lankan Rupee(LKR)\n",
       "11          Turkey        Turkish Lira(TL)\n",
       "12             UAE      Emirati Diram(AED)\n",
       "13  United Kingdom              Pounds(£)\n",
       "14   United States               Dollar($)"
      ]
     },
     "execution_count": 15,
     "metadata": {},
     "output_type": "execute_result"
    }
   ],
   "source": [
    "final_df.groupby(['Country','Currency']).size().reset_index().drop(0, axis=1)"
   ]
  },
  {
   "cell_type": "markdown",
   "id": "de6715d6",
   "metadata": {
    "papermill": {
     "duration": 0.047087,
     "end_time": "2022-02-23T11:05:37.040581",
     "exception": false,
     "start_time": "2022-02-23T11:05:36.993494",
     "status": "completed"
    },
    "tags": []
   },
   "source": [
    "### TOP 3 Countries as per the count of Restraunts"
   ]
  },
  {
   "cell_type": "code",
   "execution_count": 16,
   "id": "0888728e",
   "metadata": {
    "execution": {
     "iopub.execute_input": "2022-02-23T11:05:37.139846Z",
     "iopub.status.busy": "2022-02-23T11:05:37.139258Z",
     "iopub.status.idle": "2022-02-23T11:05:37.146140Z",
     "shell.execute_reply": "2022-02-23T11:05:37.146677Z",
     "shell.execute_reply.started": "2022-02-23T10:39:08.430850Z"
    },
    "papermill": {
     "duration": 0.057672,
     "end_time": "2022-02-23T11:05:37.146843",
     "exception": false,
     "start_time": "2022-02-23T11:05:37.089171",
     "status": "completed"
    },
    "tags": []
   },
   "outputs": [
    {
     "data": {
      "text/plain": [
       "Index(['India', 'United States', 'United Kingdom'], dtype='object')"
      ]
     },
     "execution_count": 16,
     "metadata": {},
     "output_type": "execute_result"
    }
   ],
   "source": [
    "country_counts = final_df['Country'].value_counts()\n",
    "country_counts.index[:3]"
   ]
  },
  {
   "cell_type": "code",
   "execution_count": 17,
   "id": "c14ff82f",
   "metadata": {
    "execution": {
     "iopub.execute_input": "2022-02-23T11:05:37.245421Z",
     "iopub.status.busy": "2022-02-23T11:05:37.244756Z",
     "iopub.status.idle": "2022-02-23T11:05:37.421395Z",
     "shell.execute_reply": "2022-02-23T11:05:37.422939Z",
     "shell.execute_reply.started": "2022-02-23T10:39:08.442050Z"
    },
    "papermill": {
     "duration": 0.229173,
     "end_time": "2022-02-23T11:05:37.423248",
     "exception": false,
     "start_time": "2022-02-23T11:05:37.194075",
     "status": "completed"
    },
    "tags": []
   },
   "outputs": [
    {
     "data": {
      "text/plain": [
       "[]"
      ]
     },
     "execution_count": 17,
     "metadata": {},
     "output_type": "execute_result"
    },
    {
     "data": {
      "image/png": "[encoded data removed]",
      "text/plain": [
       "<Figure size 432x288 with 1 Axes>"
      ]
     },
     "metadata": {},
     "output_type": "display_data"
    }
   ],
   "source": [
    "plt.pie(final_df['Country'].value_counts()[:3], labels=country_counts.index[:3],autopct='%1.2f%%')\n",
    "plt.plot()"
   ]
  },
  {
   "cell_type": "code",
   "execution_count": 18,
   "id": "5bd4ed58",
   "metadata": {
    "execution": {
     "iopub.execute_input": "2022-02-23T11:05:37.563136Z",
     "iopub.status.busy": "2022-02-23T11:05:37.562059Z",
     "iopub.status.idle": "2022-02-23T11:05:37.567740Z",
     "shell.execute_reply": "2022-02-23T11:05:37.567258Z",
     "shell.execute_reply.started": "2022-02-23T10:39:08.587550Z"
    },
    "papermill": {
     "duration": 0.061523,
     "end_time": "2022-02-23T11:05:37.567894",
     "exception": false,
     "start_time": "2022-02-23T11:05:37.506371",
     "status": "completed"
    },
    "tags": []
   },
   "outputs": [],
   "source": [
    "Indian_res = final_df[final_df['Country']=='India']"
   ]
  },
  {
   "cell_type": "code",
   "execution_count": 19,
   "id": "8ddad2ac",
   "metadata": {
    "execution": {
     "iopub.execute_input": "2022-02-23T11:05:37.670575Z",
     "iopub.status.busy": "2022-02-23T11:05:37.669626Z",
     "iopub.status.idle": "2022-02-23T11:05:37.678032Z",
     "shell.execute_reply": "2022-02-23T11:05:37.678497Z",
     "shell.execute_reply.started": "2022-02-23T10:39:08.603297Z"
    },
    "papermill": {
     "duration": 0.061941,
     "end_time": "2022-02-23T11:05:37.678681",
     "exception": false,
     "start_time": "2022-02-23T11:05:37.616740",
     "status": "completed"
    },
    "tags": []
   },
   "outputs": [
    {
     "data": {
      "text/plain": [
       "New Delhi    5473\n",
       "Gurgaon      1118\n",
       "Noida        1080\n",
       "Name: City, dtype: int64"
      ]
     },
     "execution_count": 19,
     "metadata": {},
     "output_type": "execute_result"
    }
   ],
   "source": [
    "city_counts = Indian_res['City'].value_counts()\n",
    "city_counts[:3]"
   ]
  },
  {
   "cell_type": "code",
   "execution_count": 20,
   "id": "83b90ce6",
   "metadata": {
    "execution": {
     "iopub.execute_input": "2022-02-23T11:05:37.806314Z",
     "iopub.status.busy": "2022-02-23T11:05:37.800328Z",
     "iopub.status.idle": "2022-02-23T11:05:37.884505Z",
     "shell.execute_reply": "2022-02-23T11:05:37.885627Z",
     "shell.execute_reply.started": "2022-02-23T10:39:08.616513Z"
    },
    "papermill": {
     "duration": 0.157456,
     "end_time": "2022-02-23T11:05:37.885912",
     "exception": false,
     "start_time": "2022-02-23T11:05:37.728456",
     "status": "completed"
    },
    "tags": []
   },
   "outputs": [
    {
     "data": {
      "text/plain": [
       "[]"
      ]
     },
     "execution_count": 20,
     "metadata": {},
     "output_type": "execute_result"
    },
    {
     "data": {
      "image/png": "[encoded data removed]",
      "text/plain": [
       "<Figure size 432x288 with 1 Axes>"
      ]
     },
     "metadata": {},
     "output_type": "display_data"
    }
   ],
   "source": [
    "plt.pie(city_counts.values[:3], labels= city_counts.index[:3],autopct='%1.2f%%')\n",
    "plt.plot()"
   ]
  },
  {
   "cell_type": "code",
   "execution_count": 21,
   "id": "4f425654",
   "metadata": {
    "execution": {
     "iopub.execute_input": "2022-02-23T11:05:38.031586Z",
     "iopub.status.busy": "2022-02-23T11:05:38.030949Z",
     "iopub.status.idle": "2022-02-23T11:05:38.041394Z",
     "shell.execute_reply": "2022-02-23T11:05:38.041883Z",
     "shell.execute_reply.started": "2022-02-23T10:39:08.736734Z"
    },
    "papermill": {
     "duration": 0.064771,
     "end_time": "2022-02-23T11:05:38.042076",
     "exception": false,
     "start_time": "2022-02-23T11:05:37.977305",
     "status": "completed"
    },
    "tags": []
   },
   "outputs": [
    {
     "data": {
      "text/plain": [
       "Connaught Place    122\n",
       "Rajouri Garden      99\n",
       "Shahdara            87\n",
       "Name: Locality, dtype: int64"
      ]
     },
     "execution_count": 21,
     "metadata": {},
     "output_type": "execute_result"
    }
   ],
   "source": [
    "Indian_res[Indian_res['City']=='New Delhi']['Locality'].value_counts()[:3]"
   ]
  },
  {
   "cell_type": "markdown",
   "id": "762b48c9",
   "metadata": {
    "papermill": {
     "duration": 0.050859,
     "end_time": "2022-02-23T11:05:38.143671",
     "exception": false,
     "start_time": "2022-02-23T11:05:38.092812",
     "status": "completed"
    },
    "tags": []
   },
   "source": [
    "> **Observations:**\n",
    "> * India is having max number of Zomato Associated Restaurants as Zomato is India Based Company.\n",
    "> * India is followed by United States and United Kingdom.\n",
    "> * Talking about the Indian Restaurants New Delhi has maximum Restaurants associated with zomato.\n",
    "> * Which is followed by Gurgaon and Noida.\n",
    "> * In New Delhi Connaught Place(122) , Rajouri Garden(99) and Shahdara(87) are the top 3 localities where Zomato is functioning."
   ]
  },
  {
   "cell_type": "markdown",
   "id": "903356bf",
   "metadata": {
    "papermill": {
     "duration": 0.051002,
     "end_time": "2022-02-23T11:05:38.245289",
     "exception": false,
     "start_time": "2022-02-23T11:05:38.194287",
     "status": "completed"
    },
    "tags": []
   },
   "source": [
    "### Ratings "
   ]
  },
  {
   "cell_type": "code",
   "execution_count": 22,
   "id": "b5c329ca",
   "metadata": {
    "execution": {
     "iopub.execute_input": "2022-02-23T11:05:38.349246Z",
     "iopub.status.busy": "2022-02-23T11:05:38.348638Z",
     "iopub.status.idle": "2022-02-23T11:05:38.371821Z",
     "shell.execute_reply": "2022-02-23T11:05:38.371184Z",
     "shell.execute_reply.started": "2022-02-23T10:39:08.755619Z"
    },
    "papermill": {
     "duration": 0.076431,
     "end_time": "2022-02-23T11:05:38.371961",
     "exception": false,
     "start_time": "2022-02-23T11:05:38.295530",
     "status": "completed"
    },
    "tags": []
   },
   "outputs": [
    {
     "data": {
      "text/html": [
       "<div>\n",
       "<style scoped>\n",
       "    .dataframe tbody tr th:only-of-type {\n",
       "        vertical-align: middle;\n",
       "    }\n",
       "\n",
       "    .dataframe tbody tr th {\n",
       "        vertical-align: top;\n",
       "    }\n",
       "\n",
       "    .dataframe thead th {\n",
       "        text-align: right;\n",
       "    }\n",
       "</style>\n",
       "<table border=\"1\" class=\"dataframe\">\n",
       "  <thead>\n",
       "    <tr style=\"text-align: right;\">\n",
       "      <th></th>\n",
       "      <th>Aggregate rating</th>\n",
       "      <th>Rating color</th>\n",
       "      <th>Rating text</th>\n",
       "      <th>Rating Count</th>\n",
       "    </tr>\n",
       "  </thead>\n",
       "  <tbody>\n",
       "    <tr>\n",
       "      <th>0</th>\n",
       "      <td>0.0</td>\n",
       "      <td>White</td>\n",
       "      <td>Not rated</td>\n",
       "      <td>2148</td>\n",
       "    </tr>\n",
       "    <tr>\n",
       "      <th>1</th>\n",
       "      <td>1.8</td>\n",
       "      <td>Red</td>\n",
       "      <td>Poor</td>\n",
       "      <td>1</td>\n",
       "    </tr>\n",
       "    <tr>\n",
       "      <th>2</th>\n",
       "      <td>1.9</td>\n",
       "      <td>Red</td>\n",
       "      <td>Poor</td>\n",
       "      <td>2</td>\n",
       "    </tr>\n",
       "    <tr>\n",
       "      <th>3</th>\n",
       "      <td>2.0</td>\n",
       "      <td>Red</td>\n",
       "      <td>Poor</td>\n",
       "      <td>7</td>\n",
       "    </tr>\n",
       "    <tr>\n",
       "      <th>4</th>\n",
       "      <td>2.1</td>\n",
       "      <td>Red</td>\n",
       "      <td>Poor</td>\n",
       "      <td>15</td>\n",
       "    </tr>\n",
       "    <tr>\n",
       "      <th>5</th>\n",
       "      <td>2.2</td>\n",
       "      <td>Red</td>\n",
       "      <td>Poor</td>\n",
       "      <td>27</td>\n",
       "    </tr>\n",
       "    <tr>\n",
       "      <th>6</th>\n",
       "      <td>2.3</td>\n",
       "      <td>Red</td>\n",
       "      <td>Poor</td>\n",
       "      <td>47</td>\n",
       "    </tr>\n",
       "    <tr>\n",
       "      <th>7</th>\n",
       "      <td>2.4</td>\n",
       "      <td>Red</td>\n",
       "      <td>Poor</td>\n",
       "      <td>87</td>\n",
       "    </tr>\n",
       "    <tr>\n",
       "      <th>8</th>\n",
       "      <td>2.5</td>\n",
       "      <td>Orange</td>\n",
       "      <td>Average</td>\n",
       "      <td>110</td>\n",
       "    </tr>\n",
       "    <tr>\n",
       "      <th>9</th>\n",
       "      <td>2.6</td>\n",
       "      <td>Orange</td>\n",
       "      <td>Average</td>\n",
       "      <td>191</td>\n",
       "    </tr>\n",
       "    <tr>\n",
       "      <th>10</th>\n",
       "      <td>2.7</td>\n",
       "      <td>Orange</td>\n",
       "      <td>Average</td>\n",
       "      <td>250</td>\n",
       "    </tr>\n",
       "    <tr>\n",
       "      <th>11</th>\n",
       "      <td>2.8</td>\n",
       "      <td>Orange</td>\n",
       "      <td>Average</td>\n",
       "      <td>315</td>\n",
       "    </tr>\n",
       "    <tr>\n",
       "      <th>12</th>\n",
       "      <td>2.9</td>\n",
       "      <td>Orange</td>\n",
       "      <td>Average</td>\n",
       "      <td>381</td>\n",
       "    </tr>\n",
       "    <tr>\n",
       "      <th>13</th>\n",
       "      <td>3.0</td>\n",
       "      <td>Orange</td>\n",
       "      <td>Average</td>\n",
       "      <td>468</td>\n",
       "    </tr>\n",
       "    <tr>\n",
       "      <th>14</th>\n",
       "      <td>3.1</td>\n",
       "      <td>Orange</td>\n",
       "      <td>Average</td>\n",
       "      <td>519</td>\n",
       "    </tr>\n",
       "    <tr>\n",
       "      <th>15</th>\n",
       "      <td>3.2</td>\n",
       "      <td>Orange</td>\n",
       "      <td>Average</td>\n",
       "      <td>522</td>\n",
       "    </tr>\n",
       "    <tr>\n",
       "      <th>16</th>\n",
       "      <td>3.3</td>\n",
       "      <td>Orange</td>\n",
       "      <td>Average</td>\n",
       "      <td>483</td>\n",
       "    </tr>\n",
       "    <tr>\n",
       "      <th>17</th>\n",
       "      <td>3.4</td>\n",
       "      <td>Orange</td>\n",
       "      <td>Average</td>\n",
       "      <td>498</td>\n",
       "    </tr>\n",
       "    <tr>\n",
       "      <th>18</th>\n",
       "      <td>3.5</td>\n",
       "      <td>Yellow</td>\n",
       "      <td>Good</td>\n",
       "      <td>480</td>\n",
       "    </tr>\n",
       "    <tr>\n",
       "      <th>19</th>\n",
       "      <td>3.6</td>\n",
       "      <td>Yellow</td>\n",
       "      <td>Good</td>\n",
       "      <td>458</td>\n",
       "    </tr>\n",
       "    <tr>\n",
       "      <th>20</th>\n",
       "      <td>3.7</td>\n",
       "      <td>Yellow</td>\n",
       "      <td>Good</td>\n",
       "      <td>427</td>\n",
       "    </tr>\n",
       "    <tr>\n",
       "      <th>21</th>\n",
       "      <td>3.8</td>\n",
       "      <td>Yellow</td>\n",
       "      <td>Good</td>\n",
       "      <td>400</td>\n",
       "    </tr>\n",
       "    <tr>\n",
       "      <th>22</th>\n",
       "      <td>3.9</td>\n",
       "      <td>Yellow</td>\n",
       "      <td>Good</td>\n",
       "      <td>335</td>\n",
       "    </tr>\n",
       "    <tr>\n",
       "      <th>23</th>\n",
       "      <td>4.0</td>\n",
       "      <td>Green</td>\n",
       "      <td>Very Good</td>\n",
       "      <td>266</td>\n",
       "    </tr>\n",
       "    <tr>\n",
       "      <th>24</th>\n",
       "      <td>4.1</td>\n",
       "      <td>Green</td>\n",
       "      <td>Very Good</td>\n",
       "      <td>274</td>\n",
       "    </tr>\n",
       "    <tr>\n",
       "      <th>25</th>\n",
       "      <td>4.2</td>\n",
       "      <td>Green</td>\n",
       "      <td>Very Good</td>\n",
       "      <td>221</td>\n",
       "    </tr>\n",
       "    <tr>\n",
       "      <th>26</th>\n",
       "      <td>4.3</td>\n",
       "      <td>Green</td>\n",
       "      <td>Very Good</td>\n",
       "      <td>174</td>\n",
       "    </tr>\n",
       "    <tr>\n",
       "      <th>27</th>\n",
       "      <td>4.4</td>\n",
       "      <td>Green</td>\n",
       "      <td>Very Good</td>\n",
       "      <td>144</td>\n",
       "    </tr>\n",
       "    <tr>\n",
       "      <th>28</th>\n",
       "      <td>4.5</td>\n",
       "      <td>Dark Green</td>\n",
       "      <td>Excellent</td>\n",
       "      <td>95</td>\n",
       "    </tr>\n",
       "    <tr>\n",
       "      <th>29</th>\n",
       "      <td>4.6</td>\n",
       "      <td>Dark Green</td>\n",
       "      <td>Excellent</td>\n",
       "      <td>78</td>\n",
       "    </tr>\n",
       "    <tr>\n",
       "      <th>30</th>\n",
       "      <td>4.7</td>\n",
       "      <td>Dark Green</td>\n",
       "      <td>Excellent</td>\n",
       "      <td>42</td>\n",
       "    </tr>\n",
       "    <tr>\n",
       "      <th>31</th>\n",
       "      <td>4.8</td>\n",
       "      <td>Dark Green</td>\n",
       "      <td>Excellent</td>\n",
       "      <td>25</td>\n",
       "    </tr>\n",
       "    <tr>\n",
       "      <th>32</th>\n",
       "      <td>4.9</td>\n",
       "      <td>Dark Green</td>\n",
       "      <td>Excellent</td>\n",
       "      <td>61</td>\n",
       "    </tr>\n",
       "  </tbody>\n",
       "</table>\n",
       "</div>"
      ],
      "text/plain": [
       "    Aggregate rating Rating color Rating text  Rating Count\n",
       "0                0.0        White   Not rated          2148\n",
       "1                1.8          Red        Poor             1\n",
       "2                1.9          Red        Poor             2\n",
       "3                2.0          Red        Poor             7\n",
       "4                2.1          Red        Poor            15\n",
       "5                2.2          Red        Poor            27\n",
       "6                2.3          Red        Poor            47\n",
       "7                2.4          Red        Poor            87\n",
       "8                2.5       Orange     Average           110\n",
       "9                2.6       Orange     Average           191\n",
       "10               2.7       Orange     Average           250\n",
       "11               2.8       Orange     Average           315\n",
       "12               2.9       Orange     Average           381\n",
       "13               3.0       Orange     Average           468\n",
       "14               3.1       Orange     Average           519\n",
       "15               3.2       Orange     Average           522\n",
       "16               3.3       Orange     Average           483\n",
       "17               3.4       Orange     Average           498\n",
       "18               3.5       Yellow        Good           480\n",
       "19               3.6       Yellow        Good           458\n",
       "20               3.7       Yellow        Good           427\n",
       "21               3.8       Yellow        Good           400\n",
       "22               3.9       Yellow        Good           335\n",
       "23               4.0        Green   Very Good           266\n",
       "24               4.1        Green   Very Good           274\n",
       "25               4.2        Green   Very Good           221\n",
       "26               4.3        Green   Very Good           174\n",
       "27               4.4        Green   Very Good           144\n",
       "28               4.5   Dark Green   Excellent            95\n",
       "29               4.6   Dark Green   Excellent            78\n",
       "30               4.7   Dark Green   Excellent            42\n",
       "31               4.8   Dark Green   Excellent            25\n",
       "32               4.9   Dark Green   Excellent            61"
      ]
     },
     "execution_count": 22,
     "metadata": {},
     "output_type": "execute_result"
    }
   ],
   "source": [
    "ratings = final_df.groupby(['Aggregate rating','Rating color','Rating text']).size().reset_index().rename(columns={0:'Rating Count'})\n",
    "ratings"
   ]
  },
  {
   "cell_type": "markdown",
   "id": "1a21e1ee",
   "metadata": {
    "papermill": {
     "duration": 0.051278,
     "end_time": "2022-02-23T11:05:38.474375",
     "exception": false,
     "start_time": "2022-02-23T11:05:38.423097",
     "status": "completed"
    },
    "tags": []
   },
   "source": [
    "> **Observations:**\n",
    "> \n",
    "> * Whenever the Rating is from 4.5 to 4.9 it Indicates that the Restraunt is Excellent\n",
    "> * When Ratings are between 4.0 and 4.4 it Indicates that Restraunts are Very Good.\n",
    "> * When ratings are between 3.5 to 3.9 it Indicates that Restraunts are Good.\n",
    "> * When ratings are between 2.5 to 3.4 it Indicates that Restraunts are Average.\n",
    "> * When ratings are between 1.8 to 2.4 it Indicates that Restraunts are Poor."
   ]
  },
  {
   "cell_type": "code",
   "execution_count": 23,
   "id": "f35d7523",
   "metadata": {
    "execution": {
     "iopub.execute_input": "2022-02-23T11:05:38.584390Z",
     "iopub.status.busy": "2022-02-23T11:05:38.583746Z",
     "iopub.status.idle": "2022-02-23T11:05:38.586684Z",
     "shell.execute_reply": "2022-02-23T11:05:38.586180Z",
     "shell.execute_reply.started": "2022-02-23T10:39:08.794907Z"
    },
    "papermill": {
     "duration": 0.060633,
     "end_time": "2022-02-23T11:05:38.586829",
     "exception": false,
     "start_time": "2022-02-23T11:05:38.526196",
     "status": "completed"
    },
    "tags": []
   },
   "outputs": [],
   "source": [
    "from numpy import median"
   ]
  },
  {
   "cell_type": "code",
   "execution_count": 24,
   "id": "c5c5d720",
   "metadata": {
    "execution": {
     "iopub.execute_input": "2022-02-23T11:05:38.693436Z",
     "iopub.status.busy": "2022-02-23T11:05:38.692792Z",
     "iopub.status.idle": "2022-02-23T11:05:40.610771Z",
     "shell.execute_reply": "2022-02-23T11:05:40.610186Z",
     "shell.execute_reply.started": "2022-02-23T10:39:08.801842Z"
    },
    "papermill": {
     "duration": 1.972884,
     "end_time": "2022-02-23T11:05:40.610909",
     "exception": false,
     "start_time": "2022-02-23T11:05:38.638025",
     "status": "completed"
    },
    "tags": []
   },
   "outputs": [
    {
     "name": "stderr",
     "output_type": "stream",
     "text": [
      "/opt/conda/lib/python3.7/site-packages/seaborn/_decorators.py:43: FutureWarning: Pass the following variables as keyword args: x, y. From version 0.12, the only valid positional argument will be `data`, and passing other arguments without an explicit keyword will result in an error or misinterpretation.\n",
      "  FutureWarning\n"
     ]
    },
    {
     "data": {
      "text/plain": [
       "[]"
      ]
     },
     "execution_count": 24,
     "metadata": {},
     "output_type": "execute_result"
    },
    {
     "data": {
      "image/png": "[encoded data removed]",
      "text/plain": [
       "<Figure size 1080x360 with 1 Axes>"
      ]
     },
     "metadata": {
      "needs_background": "light"
     },
     "output_type": "display_data"
    }
   ],
   "source": [
    "plt.figure(figsize=(15,5))\n",
    "sns.barplot(ratings['Aggregate rating'],ratings['Rating Count'],hue=ratings['Rating color'],estimator=median,palette=['white','red','orange','yellow','seagreen','green'])\n",
    "plt.title('Rating Text')\n",
    "plt.plot()"
   ]
  },
  {
   "cell_type": "markdown",
   "id": "4a68c816",
   "metadata": {
    "papermill": {
     "duration": 0.053139,
     "end_time": "2022-02-23T11:05:40.717854",
     "exception": false,
     "start_time": "2022-02-23T11:05:40.664715",
     "status": "completed"
    },
    "tags": []
   },
   "source": [
    "> **Observations:**\n",
    "> * In rated Restaurants maximum rating count is for Average Rating (color = Yellow and value = 3.2)\n",
    "> * In Good Category 3.5 was the rating given by maximum users\n",
    "> "
   ]
  },
  {
   "cell_type": "code",
   "execution_count": 25,
   "id": "d848afa5",
   "metadata": {
    "execution": {
     "iopub.execute_input": "2022-02-23T11:05:40.828923Z",
     "iopub.status.busy": "2022-02-23T11:05:40.828274Z",
     "iopub.status.idle": "2022-02-23T11:05:40.831651Z",
     "shell.execute_reply": "2022-02-23T11:05:40.832133Z",
     "shell.execute_reply.started": "2022-02-23T10:39:11.024846Z"
    },
    "papermill": {
     "duration": 0.060949,
     "end_time": "2022-02-23T11:05:40.832317",
     "exception": false,
     "start_time": "2022-02-23T11:05:40.771368",
     "status": "completed"
    },
    "tags": []
   },
   "outputs": [
    {
     "data": {
      "text/plain": [
       "array(['Dark Green', 'Green', 'Yellow', 'Orange', 'White', 'Red'],\n",
       "      dtype=object)"
      ]
     },
     "execution_count": 25,
     "metadata": {},
     "output_type": "execute_result"
    }
   ],
   "source": [
    "final_df['Rating color'].unique()"
   ]
  },
  {
   "cell_type": "code",
   "execution_count": 26,
   "id": "c8e22024",
   "metadata": {
    "execution": {
     "iopub.execute_input": "2022-02-23T11:05:40.949693Z",
     "iopub.status.busy": "2022-02-23T11:05:40.948699Z",
     "iopub.status.idle": "2022-02-23T11:05:41.155852Z",
     "shell.execute_reply": "2022-02-23T11:05:41.155368Z",
     "shell.execute_reply.started": "2022-02-23T10:39:11.033418Z"
    },
    "papermill": {
     "duration": 0.269933,
     "end_time": "2022-02-23T11:05:41.156028",
     "exception": false,
     "start_time": "2022-02-23T11:05:40.886095",
     "status": "completed"
    },
    "tags": []
   },
   "outputs": [
    {
     "name": "stderr",
     "output_type": "stream",
     "text": [
      "/opt/conda/lib/python3.7/site-packages/seaborn/_decorators.py:43: FutureWarning: Pass the following variable as a keyword arg: x. From version 0.12, the only valid positional argument will be `data`, and passing other arguments without an explicit keyword will result in an error or misinterpretation.\n",
      "  FutureWarning\n"
     ]
    },
    {
     "data": {
      "text/plain": [
       "[]"
      ]
     },
     "execution_count": 26,
     "metadata": {},
     "output_type": "execute_result"
    },
    {
     "data": {
      "image/png": "[encoded data removed]",
      "text/plain": [
       "<Figure size 432x288 with 1 Axes>"
      ]
     },
     "metadata": {
      "needs_background": "light"
     },
     "output_type": "display_data"
    }
   ],
   "source": [
    "sns.countplot(final_df['Rating color'],palette=['green','seagreen','yellow','orange','gray','red'])\n",
    "plt.title('Color Count')\n",
    "plt.plot()"
   ]
  },
  {
   "cell_type": "markdown",
   "id": "15ea72eb",
   "metadata": {
    "papermill": {
     "duration": 0.054525,
     "end_time": "2022-02-23T11:05:41.264630",
     "exception": false,
     "start_time": "2022-02-23T11:05:41.210105",
     "status": "completed"
    },
    "tags": []
   },
   "source": [
    "### Table Bookings"
   ]
  },
  {
   "cell_type": "code",
   "execution_count": 27,
   "id": "e229819c",
   "metadata": {
    "execution": {
     "iopub.execute_input": "2022-02-23T11:05:41.389102Z",
     "iopub.status.busy": "2022-02-23T11:05:41.388101Z",
     "iopub.status.idle": "2022-02-23T11:05:41.573672Z",
     "shell.execute_reply": "2022-02-23T11:05:41.572955Z",
     "shell.execute_reply.started": "2022-02-23T10:39:11.217906Z"
    },
    "papermill": {
     "duration": 0.252938,
     "end_time": "2022-02-23T11:05:41.573826",
     "exception": false,
     "start_time": "2022-02-23T11:05:41.320888",
     "status": "completed"
    },
    "tags": []
   },
   "outputs": [
    {
     "name": "stderr",
     "output_type": "stream",
     "text": [
      "/opt/conda/lib/python3.7/site-packages/seaborn/_decorators.py:43: FutureWarning: Pass the following variable as a keyword arg: x. From version 0.12, the only valid positional argument will be `data`, and passing other arguments without an explicit keyword will result in an error or misinterpretation.\n",
      "  FutureWarning\n"
     ]
    },
    {
     "data": {
      "text/plain": [
       "[]"
      ]
     },
     "execution_count": 27,
     "metadata": {},
     "output_type": "execute_result"
    },
    {
     "data": {
      "image/png": "[encoded data removed]",
      "text/plain": [
       "<Figure size 432x288 with 1 Axes>"
      ]
     },
     "metadata": {
      "needs_background": "light"
     },
     "output_type": "display_data"
    }
   ],
   "source": [
    "sns.countplot(final_df['Has Table booking'],palette=['green','red'])\n",
    "plt.title('Availability of Table Booking')\n",
    "plt.plot()"
   ]
  },
  {
   "cell_type": "markdown",
   "id": "784d8498",
   "metadata": {
    "papermill": {
     "duration": 0.056522,
     "end_time": "2022-02-23T11:05:41.687227",
     "exception": false,
     "start_time": "2022-02-23T11:05:41.630705",
     "status": "completed"
    },
    "tags": []
   },
   "source": [
    "**Observation:**\n",
    "* Mejority of Restaurants are not providing Table Bookings"
   ]
  },
  {
   "cell_type": "markdown",
   "id": "68fb31dd",
   "metadata": {
    "papermill": {
     "duration": 0.0571,
     "end_time": "2022-02-23T11:05:41.801507",
     "exception": false,
     "start_time": "2022-02-23T11:05:41.744407",
     "status": "completed"
    },
    "tags": []
   },
   "source": [
    "### Average Cost for Two"
   ]
  },
  {
   "cell_type": "code",
   "execution_count": 28,
   "id": "a79f693f",
   "metadata": {
    "execution": {
     "iopub.execute_input": "2022-02-23T11:05:41.931306Z",
     "iopub.status.busy": "2022-02-23T11:05:41.927979Z",
     "iopub.status.idle": "2022-02-23T11:05:41.935164Z",
     "shell.execute_reply": "2022-02-23T11:05:41.934666Z",
     "shell.execute_reply.started": "2022-02-23T10:39:11.418445Z"
    },
    "papermill": {
     "duration": 0.070965,
     "end_time": "2022-02-23T11:05:41.935310",
     "exception": false,
     "start_time": "2022-02-23T11:05:41.864345",
     "status": "completed"
    },
    "tags": []
   },
   "outputs": [
    {
     "data": {
      "text/plain": [
       "Has Table booking\n",
       "No     1152.757298\n",
       "Yes    1535.898100\n",
       "Name: Average Cost for two, dtype: float64"
      ]
     },
     "execution_count": 28,
     "metadata": {},
     "output_type": "execute_result"
    }
   ],
   "source": [
    "avg_cost_table_booking = final_df.groupby('Has Table booking')['Average Cost for two'].mean()\n",
    "avg_cost_table_booking "
   ]
  },
  {
   "cell_type": "markdown",
   "id": "9a1bd0b7",
   "metadata": {
    "papermill": {
     "duration": 0.056755,
     "end_time": "2022-02-23T11:05:42.048307",
     "exception": false,
     "start_time": "2022-02-23T11:05:41.991552",
     "status": "completed"
    },
    "tags": []
   },
   "source": [
    "> **Observation:**\n",
    "> * For the **Availability** of Table Booking Average cost of two is **1153**.\n",
    "> * For the **unavailability** of Table Booking Average cost of two is **1536**."
   ]
  },
  {
   "cell_type": "code",
   "execution_count": 29,
   "id": "457b44a5",
   "metadata": {
    "execution": {
     "iopub.execute_input": "2022-02-23T11:05:42.167404Z",
     "iopub.status.busy": "2022-02-23T11:05:42.166380Z",
     "iopub.status.idle": "2022-02-23T11:05:42.173669Z",
     "shell.execute_reply": "2022-02-23T11:05:42.174186Z",
     "shell.execute_reply.started": "2022-02-23T10:39:11.429896Z"
    },
    "papermill": {
     "duration": 0.069547,
     "end_time": "2022-02-23T11:05:42.174355",
     "exception": false,
     "start_time": "2022-02-23T11:05:42.104808",
     "status": "completed"
    },
    "tags": []
   },
   "outputs": [
    {
     "data": {
      "text/plain": [
       "Country\n",
       "Indonesia         281190.476190\n",
       "Sri Lanka           2375.000000\n",
       "Phillipines         1606.818182\n",
       "India                623.370319\n",
       "South Africa         419.733333\n",
       "Qatar                223.750000\n",
       "UAE                  166.416667\n",
       "Singapore            155.750000\n",
       "Brazil               134.666667\n",
       "Turkey                84.852941\n",
       "New Zealand           69.750000\n",
       "United Kingdom        47.812500\n",
       "Canada                36.250000\n",
       "United States         26.152074\n",
       "Australia             24.083333\n",
       "Name: Average Cost for two, dtype: float64"
      ]
     },
     "execution_count": 29,
     "metadata": {},
     "output_type": "execute_result"
    }
   ],
   "source": [
    "final_df.groupby('Country')['Average Cost for two'].mean().sort_values(ascending =False)"
   ]
  },
  {
   "cell_type": "markdown",
   "id": "065c00f0",
   "metadata": {
    "papermill": {
     "duration": 0.056405,
     "end_time": "2022-02-23T11:05:42.287247",
     "exception": false,
     "start_time": "2022-02-23T11:05:42.230842",
     "status": "completed"
    },
    "tags": []
   },
   "source": [
    "*But these digits will be taken into consideration according to currency of that perticular country*"
   ]
  },
  {
   "cell_type": "code",
   "execution_count": 30,
   "id": "fd026b7b",
   "metadata": {
    "execution": {
     "iopub.execute_input": "2022-02-23T11:05:42.409037Z",
     "iopub.status.busy": "2022-02-23T11:05:42.407955Z",
     "iopub.status.idle": "2022-02-23T11:05:42.414199Z",
     "shell.execute_reply": "2022-02-23T11:05:42.414848Z",
     "shell.execute_reply.started": "2022-02-23T10:39:11.443321Z"
    },
    "papermill": {
     "duration": 0.071071,
     "end_time": "2022-02-23T11:05:42.415058",
     "exception": false,
     "start_time": "2022-02-23T11:05:42.343987",
     "status": "completed"
    },
    "tags": []
   },
   "outputs": [
    {
     "data": {
      "text/plain": [
       "City\n",
       "Varanasi     505.000000\n",
       "Amritsar     480.952381\n",
       "Faridabad    447.609562\n",
       "Name: Average Cost for two, dtype: float64"
      ]
     },
     "execution_count": 30,
     "metadata": {},
     "output_type": "execute_result"
    }
   ],
   "source": [
    "Indian_res.groupby('City')['Average Cost for two'].mean().sort_values(ascending =False)[-3:]"
   ]
  },
  {
   "cell_type": "markdown",
   "id": "3dfe14e0",
   "metadata": {
    "papermill": {
     "duration": 0.056695,
     "end_time": "2022-02-23T11:05:42.528643",
     "exception": false,
     "start_time": "2022-02-23T11:05:42.471948",
     "status": "completed"
    },
    "tags": []
   },
   "source": [
    "> **Observations:**\n",
    "> * Top 3 cities with heighest Average Cost for two are **Panchkula,Hydrabad and Pune**\n",
    "> * Bottom 3 cities with heighest Average Cost for two are **Faridabad, Amritsar,Varanasi**"
   ]
  },
  {
   "cell_type": "code",
   "execution_count": 31,
   "id": "aa656309",
   "metadata": {
    "execution": {
     "iopub.execute_input": "2022-02-23T11:05:42.650074Z",
     "iopub.status.busy": "2022-02-23T11:05:42.649449Z",
     "iopub.status.idle": "2022-02-23T11:05:42.654392Z",
     "shell.execute_reply": "2022-02-23T11:05:42.654880Z",
     "shell.execute_reply.started": "2022-02-23T10:39:34.231013Z"
    },
    "papermill": {
     "duration": 0.068105,
     "end_time": "2022-02-23T11:05:42.655075",
     "exception": false,
     "start_time": "2022-02-23T11:05:42.586970",
     "status": "completed"
    },
    "tags": []
   },
   "outputs": [
    {
     "data": {
      "text/plain": [
       "Index(['Restaurant ID', 'Restaurant Name', 'City', 'Address', 'Locality',\n",
       "       'Locality Verbose', 'Longitude', 'Latitude', 'Cuisines',\n",
       "       'Average Cost for two', 'Currency', 'Has Table booking',\n",
       "       'Has Online delivery', 'Is delivering now', 'Switch to order menu',\n",
       "       'Price range', 'Aggregate rating', 'Rating color', 'Rating text',\n",
       "       'Votes', 'Country'],\n",
       "      dtype='object')"
      ]
     },
     "execution_count": 31,
     "metadata": {},
     "output_type": "execute_result"
    }
   ],
   "source": [
    "columns = final_df.columns\n",
    "columns"
   ]
  },
  {
   "cell_type": "markdown",
   "id": "4ae950e2",
   "metadata": {
    "papermill": {
     "duration": 0.058402,
     "end_time": "2022-02-23T11:05:42.771202",
     "exception": false,
     "start_time": "2022-02-23T11:05:42.712800",
     "status": "completed"
    },
    "tags": []
   },
   "source": [
    "### Online Delivery"
   ]
  },
  {
   "cell_type": "code",
   "execution_count": 32,
   "id": "9bc7aff0",
   "metadata": {
    "execution": {
     "iopub.execute_input": "2022-02-23T11:05:42.888289Z",
     "iopub.status.busy": "2022-02-23T11:05:42.887674Z",
     "iopub.status.idle": "2022-02-23T11:05:42.894729Z",
     "shell.execute_reply": "2022-02-23T11:05:42.895309Z",
     "shell.execute_reply.started": "2022-02-23T10:39:40.773619Z"
    },
    "papermill": {
     "duration": 0.066928,
     "end_time": "2022-02-23T11:05:42.895478",
     "exception": false,
     "start_time": "2022-02-23T11:05:42.828550",
     "status": "completed"
    },
    "tags": []
   },
   "outputs": [
    {
     "data": {
      "text/plain": [
       "No     7100\n",
       "Yes    2451\n",
       "Name: Has Online delivery, dtype: int64"
      ]
     },
     "execution_count": 32,
     "metadata": {},
     "output_type": "execute_result"
    }
   ],
   "source": [
    "online_delivery = final_df['Has Online delivery'].value_counts()\n",
    "online_delivery"
   ]
  },
  {
   "cell_type": "code",
   "execution_count": 33,
   "id": "a91fb1ba",
   "metadata": {
    "execution": {
     "iopub.execute_input": "2022-02-23T11:05:43.013148Z",
     "iopub.status.busy": "2022-02-23T11:05:43.012510Z",
     "iopub.status.idle": "2022-02-23T11:05:43.104044Z",
     "shell.execute_reply": "2022-02-23T11:05:43.103122Z",
     "shell.execute_reply.started": "2022-02-23T10:39:40.783611Z"
    },
    "papermill": {
     "duration": 0.151005,
     "end_time": "2022-02-23T11:05:43.104281",
     "exception": false,
     "start_time": "2022-02-23T11:05:42.953276",
     "status": "completed"
    },
    "tags": []
   },
   "outputs": [
    {
     "data": {
      "text/plain": [
       "[]"
      ]
     },
     "execution_count": 33,
     "metadata": {},
     "output_type": "execute_result"
    },
    {
     "data": {
      "image/png": "[encoded data removed]",
      "text/plain": [
       "<Figure size 432x288 with 1 Axes>"
      ]
     },
     "metadata": {},
     "output_type": "display_data"
    }
   ],
   "source": [
    "plt.pie(online_delivery.values, labels= online_delivery.index, autopct='%1.2f%%')\n",
    "plt.title('Online Delivery')\n",
    "plt.plot()"
   ]
  },
  {
   "cell_type": "markdown",
   "id": "fb57061a",
   "metadata": {
    "papermill": {
     "duration": 0.056861,
     "end_time": "2022-02-23T11:05:43.263726",
     "exception": false,
     "start_time": "2022-02-23T11:05:43.206865",
     "status": "completed"
    },
    "tags": []
   },
   "source": [
    "**74% of Restaurants are providing online Delivery**"
   ]
  },
  {
   "cell_type": "code",
   "execution_count": 34,
   "id": "aecdc700",
   "metadata": {
    "execution": {
     "iopub.execute_input": "2022-02-23T11:05:43.384254Z",
     "iopub.status.busy": "2022-02-23T11:05:43.383651Z",
     "iopub.status.idle": "2022-02-23T11:05:43.395677Z",
     "shell.execute_reply": "2022-02-23T11:05:43.395199Z",
     "shell.execute_reply.started": "2022-02-23T10:40:06.487060Z"
    },
    "papermill": {
     "duration": 0.074563,
     "end_time": "2022-02-23T11:05:43.395820",
     "exception": false,
     "start_time": "2022-02-23T11:05:43.321257",
     "status": "completed"
    },
    "tags": []
   },
   "outputs": [
    {
     "data": {
      "text/html": [
       "<div>\n",
       "<style scoped>\n",
       "    .dataframe tbody tr th:only-of-type {\n",
       "        vertical-align: middle;\n",
       "    }\n",
       "\n",
       "    .dataframe tbody tr th {\n",
       "        vertical-align: top;\n",
       "    }\n",
       "\n",
       "    .dataframe thead th {\n",
       "        text-align: right;\n",
       "    }\n",
       "</style>\n",
       "<table border=\"1\" class=\"dataframe\">\n",
       "  <thead>\n",
       "    <tr style=\"text-align: right;\">\n",
       "      <th></th>\n",
       "      <th>Has Online delivery</th>\n",
       "      <th>Is delivering now</th>\n",
       "      <th>0</th>\n",
       "    </tr>\n",
       "  </thead>\n",
       "  <tbody>\n",
       "    <tr>\n",
       "      <th>0</th>\n",
       "      <td>No</td>\n",
       "      <td>No</td>\n",
       "      <td>7100</td>\n",
       "    </tr>\n",
       "    <tr>\n",
       "      <th>1</th>\n",
       "      <td>Yes</td>\n",
       "      <td>No</td>\n",
       "      <td>2417</td>\n",
       "    </tr>\n",
       "    <tr>\n",
       "      <th>2</th>\n",
       "      <td>Yes</td>\n",
       "      <td>Yes</td>\n",
       "      <td>34</td>\n",
       "    </tr>\n",
       "  </tbody>\n",
       "</table>\n",
       "</div>"
      ],
      "text/plain": [
       "  Has Online delivery Is delivering now     0\n",
       "0                  No                No  7100\n",
       "1                 Yes                No  2417\n",
       "2                 Yes               Yes    34"
      ]
     },
     "execution_count": 34,
     "metadata": {},
     "output_type": "execute_result"
    }
   ],
   "source": [
    "final_df.groupby(['Has Online delivery','Is delivering now']).size().reset_index()"
   ]
  },
  {
   "cell_type": "markdown",
   "id": "a25d1e78",
   "metadata": {
    "papermill": {
     "duration": 0.058459,
     "end_time": "2022-02-23T11:05:43.511976",
     "exception": false,
     "start_time": "2022-02-23T11:05:43.453517",
     "status": "completed"
    },
    "tags": []
   },
   "source": [
    "### Average Votes"
   ]
  },
  {
   "cell_type": "code",
   "execution_count": 35,
   "id": "0f6c8693",
   "metadata": {
    "execution": {
     "iopub.execute_input": "2022-02-23T11:05:43.635558Z",
     "iopub.status.busy": "2022-02-23T11:05:43.634898Z",
     "iopub.status.idle": "2022-02-23T11:05:43.641341Z",
     "shell.execute_reply": "2022-02-23T11:05:43.641738Z",
     "shell.execute_reply.started": "2022-02-23T10:41:39.034619Z"
    },
    "papermill": {
     "duration": 0.071723,
     "end_time": "2022-02-23T11:05:43.641905",
     "exception": false,
     "start_time": "2022-02-23T11:05:43.570182",
     "status": "completed"
    },
    "tags": []
   },
   "outputs": [
    {
     "data": {
      "text/plain": [
       "Country\n",
       "India             1187163\n",
       "United States      185848\n",
       "UAE                 29611\n",
       "South Africa        18910\n",
       "United Kingdom      16439\n",
       "Indonesia           16214\n",
       "Turkey              14670\n",
       "New Zealand          9721\n",
       "Phillipines          8963\n",
       "Qatar                3276\n",
       "Sri Lanka            2929\n",
       "Australia            2674\n",
       "Brazil               1177\n",
       "Singapore             638\n",
       "Canada                412\n",
       "Name: Votes, dtype: int64"
      ]
     },
     "execution_count": 35,
     "metadata": {},
     "output_type": "execute_result"
    }
   ],
   "source": [
    "final_df.groupby('Country')['Votes'].sum().sort_values(ascending = False)"
   ]
  },
  {
   "cell_type": "code",
   "execution_count": 36,
   "id": "606d9fa5",
   "metadata": {
    "execution": {
     "iopub.execute_input": "2022-02-23T11:05:43.762730Z",
     "iopub.status.busy": "2022-02-23T11:05:43.762135Z",
     "iopub.status.idle": "2022-02-23T11:05:43.770631Z",
     "shell.execute_reply": "2022-02-23T11:05:43.771195Z",
     "shell.execute_reply.started": "2022-02-23T10:41:57.099494Z"
    },
    "papermill": {
     "duration": 0.07087,
     "end_time": "2022-02-23T11:05:43.771360",
     "exception": false,
     "start_time": "2022-02-23T11:05:43.700490",
     "status": "completed"
    },
    "tags": []
   },
   "outputs": [
    {
     "data": {
      "text/plain": [
       "Country\n",
       "Indonesia         772.095238\n",
       "UAE               493.516667\n",
       "Turkey            431.470588\n",
       "United States     428.221198\n",
       "Phillipines       407.409091\n",
       "South Africa      315.166667\n",
       "New Zealand       243.025000\n",
       "United Kingdom    205.487500\n",
       "Qatar             163.800000\n",
       "Sri Lanka         146.450000\n",
       "India             137.212552\n",
       "Australia         111.416667\n",
       "Canada            103.000000\n",
       "Singapore          31.900000\n",
       "Brazil             19.616667\n",
       "Name: Votes, dtype: float64"
      ]
     },
     "execution_count": 36,
     "metadata": {},
     "output_type": "execute_result"
    }
   ],
   "source": [
    "final_df.groupby('Country')['Votes'].mean().sort_values(ascending = False)"
   ]
  },
  {
   "cell_type": "markdown",
   "id": "10b8592b",
   "metadata": {
    "papermill": {
     "duration": 0.058176,
     "end_time": "2022-02-23T11:05:43.888811",
     "exception": false,
     "start_time": "2022-02-23T11:05:43.830635",
     "status": "completed"
    },
    "tags": []
   },
   "source": [
    "> **Observations:**\n",
    "> * India is having Heighest Number of Votes\n",
    "> * Indonesia is having max number of average Votes"
   ]
  },
  {
   "cell_type": "code",
   "execution_count": 37,
   "id": "b0e69315",
   "metadata": {
    "execution": {
     "iopub.execute_input": "2022-02-23T11:05:44.009599Z",
     "iopub.status.busy": "2022-02-23T11:05:44.008961Z",
     "iopub.status.idle": "2022-02-23T11:05:44.013765Z",
     "shell.execute_reply": "2022-02-23T11:05:44.014264Z",
     "shell.execute_reply.started": "2022-02-23T10:43:50.189849Z"
    },
    "papermill": {
     "duration": 0.067204,
     "end_time": "2022-02-23T11:05:44.014443",
     "exception": false,
     "start_time": "2022-02-23T11:05:43.947239",
     "status": "completed"
    },
    "tags": []
   },
   "outputs": [
    {
     "data": {
      "text/plain": [
       "Index(['Restaurant ID', 'Restaurant Name', 'City', 'Address', 'Locality',\n",
       "       'Locality Verbose', 'Longitude', 'Latitude', 'Cuisines',\n",
       "       'Average Cost for two', 'Currency', 'Has Table booking',\n",
       "       'Has Online delivery', 'Is delivering now', 'Switch to order menu',\n",
       "       'Price range', 'Aggregate rating', 'Rating color', 'Rating text',\n",
       "       'Votes', 'Country'],\n",
       "      dtype='object')"
      ]
     },
     "execution_count": 37,
     "metadata": {},
     "output_type": "execute_result"
    }
   ],
   "source": [
    "columns"
   ]
  },
  {
   "cell_type": "markdown",
   "id": "c32a1260",
   "metadata": {
    "papermill": {
     "duration": 0.060431,
     "end_time": "2022-02-23T11:05:44.135149",
     "exception": false,
     "start_time": "2022-02-23T11:05:44.074718",
     "status": "completed"
    },
    "tags": []
   },
   "source": [
    "### Price Range"
   ]
  },
  {
   "cell_type": "code",
   "execution_count": 38,
   "id": "cfb7e03d",
   "metadata": {
    "execution": {
     "iopub.execute_input": "2022-02-23T11:05:44.258048Z",
     "iopub.status.busy": "2022-02-23T11:05:44.257441Z",
     "iopub.status.idle": "2022-02-23T11:05:44.262740Z",
     "shell.execute_reply": "2022-02-23T11:05:44.263239Z",
     "shell.execute_reply.started": "2022-02-23T10:44:43.338677Z"
    },
    "papermill": {
     "duration": 0.067738,
     "end_time": "2022-02-23T11:05:44.263405",
     "exception": false,
     "start_time": "2022-02-23T11:05:44.195667",
     "status": "completed"
    },
    "tags": []
   },
   "outputs": [
    {
     "data": {
      "text/plain": [
       "array([3, 4, 2, 1])"
      ]
     },
     "execution_count": 38,
     "metadata": {},
     "output_type": "execute_result"
    }
   ],
   "source": [
    "final_df['Price range'].unique()"
   ]
  },
  {
   "cell_type": "markdown",
   "id": "ff0d3727",
   "metadata": {
    "papermill": {
     "duration": 0.059123,
     "end_time": "2022-02-23T11:05:44.382781",
     "exception": false,
     "start_time": "2022-02-23T11:05:44.323658",
     "status": "completed"
    },
    "tags": []
   },
   "source": [
    "> **Assumptions:**\n",
    "> \n",
    "> 1 - Low rates\n",
    "> \n",
    "> 2 - Average rates\n",
    "> \n",
    "> 3- High rates\n",
    "> \n",
    "> 4- very high rates"
   ]
  },
  {
   "cell_type": "code",
   "execution_count": 39,
   "id": "36aa81b6",
   "metadata": {
    "execution": {
     "iopub.execute_input": "2022-02-23T11:05:44.505082Z",
     "iopub.status.busy": "2022-02-23T11:05:44.504476Z",
     "iopub.status.idle": "2022-02-23T11:05:44.685628Z",
     "shell.execute_reply": "2022-02-23T11:05:44.684972Z",
     "shell.execute_reply.started": "2022-02-23T10:55:49.959109Z"
    },
    "papermill": {
     "duration": 0.24364,
     "end_time": "2022-02-23T11:05:44.685769",
     "exception": false,
     "start_time": "2022-02-23T11:05:44.442129",
     "status": "completed"
    },
    "tags": []
   },
   "outputs": [
    {
     "name": "stderr",
     "output_type": "stream",
     "text": [
      "/opt/conda/lib/python3.7/site-packages/seaborn/_decorators.py:43: FutureWarning: Pass the following variable as a keyword arg: x. From version 0.12, the only valid positional argument will be `data`, and passing other arguments without an explicit keyword will result in an error or misinterpretation.\n",
      "  FutureWarning\n"
     ]
    },
    {
     "data": {
      "text/plain": [
       "Text(0.5, 1.0, 'Restaurants with Different Price Range')"
      ]
     },
     "execution_count": 39,
     "metadata": {},
     "output_type": "execute_result"
    },
    {
     "data": {
      "image/png": "[encoded data removed]",
      "text/plain": [
       "<Figure size 432x288 with 1 Axes>"
      ]
     },
     "metadata": {
      "needs_background": "light"
     },
     "output_type": "display_data"
    }
   ],
   "source": [
    "sns.countplot(final_df['Price range'],palette='rocket_r')\n",
    "plt.title('Restaurants with Different Price Range')"
   ]
  },
  {
   "cell_type": "code",
   "execution_count": 40,
   "id": "04a581f2",
   "metadata": {
    "execution": {
     "iopub.execute_input": "2022-02-23T11:05:44.817795Z",
     "iopub.status.busy": "2022-02-23T11:05:44.817110Z",
     "iopub.status.idle": "2022-02-23T11:05:45.003762Z",
     "shell.execute_reply": "2022-02-23T11:05:45.003162Z",
     "shell.execute_reply.started": "2022-02-23T10:56:55.867952Z"
    },
    "papermill": {
     "duration": 0.254363,
     "end_time": "2022-02-23T11:05:45.003914",
     "exception": false,
     "start_time": "2022-02-23T11:05:44.749551",
     "status": "completed"
    },
    "tags": []
   },
   "outputs": [
    {
     "name": "stderr",
     "output_type": "stream",
     "text": [
      "/opt/conda/lib/python3.7/site-packages/seaborn/_decorators.py:43: FutureWarning: Pass the following variable as a keyword arg: x. From version 0.12, the only valid positional argument will be `data`, and passing other arguments without an explicit keyword will result in an error or misinterpretation.\n",
      "  FutureWarning\n"
     ]
    },
    {
     "data": {
      "text/plain": [
       "Text(0.5, 1.0, 'Restaurants with Different Price Range in India')"
      ]
     },
     "execution_count": 40,
     "metadata": {},
     "output_type": "execute_result"
    },
    {
     "data": {
      "image/png": "[encoded data removed]",
      "text/plain": [
       "<Figure size 432x288 with 1 Axes>"
      ]
     },
     "metadata": {
      "needs_background": "light"
     },
     "output_type": "display_data"
    }
   ],
   "source": [
    "sns.countplot(Indian_res['Price range'],palette='rocket_r')\n",
    "plt.title('Restaurants with Different Price Range in India')"
   ]
  },
  {
   "cell_type": "markdown",
   "id": "322565d8",
   "metadata": {
    "papermill": {
     "duration": 0.064182,
     "end_time": "2022-02-23T11:05:45.131514",
     "exception": false,
     "start_time": "2022-02-23T11:05:45.067332",
     "status": "completed"
    },
    "tags": []
   },
   "source": [
    "### Cuisines"
   ]
  },
  {
   "cell_type": "code",
   "execution_count": 41,
   "id": "440e5806",
   "metadata": {
    "execution": {
     "iopub.execute_input": "2022-02-23T11:05:45.262238Z",
     "iopub.status.busy": "2022-02-23T11:05:45.261624Z",
     "iopub.status.idle": "2022-02-23T11:05:45.266502Z",
     "shell.execute_reply": "2022-02-23T11:05:45.267060Z",
     "shell.execute_reply.started": "2022-02-23T10:58:09.807536Z"
    },
    "papermill": {
     "duration": 0.073185,
     "end_time": "2022-02-23T11:05:45.267227",
     "exception": false,
     "start_time": "2022-02-23T11:05:45.194042",
     "status": "completed"
    },
    "tags": []
   },
   "outputs": [
    {
     "data": {
      "text/plain": [
       "North Indian             936\n",
       "North Indian, Chinese    511\n",
       "Chinese                  354\n",
       "Name: Cuisines, dtype: int64"
      ]
     },
     "execution_count": 41,
     "metadata": {},
     "output_type": "execute_result"
    }
   ],
   "source": [
    "final_df['Cuisines'].value_counts()[:3]"
   ]
  },
  {
   "cell_type": "code",
   "execution_count": 42,
   "id": "f8b3f069",
   "metadata": {
    "execution": {
     "iopub.execute_input": "2022-02-23T11:05:45.394526Z",
     "iopub.status.busy": "2022-02-23T11:05:45.393874Z",
     "iopub.status.idle": "2022-02-23T11:05:45.401859Z",
     "shell.execute_reply": "2022-02-23T11:05:45.402357Z",
     "shell.execute_reply.started": "2022-02-23T10:58:28.374669Z"
    },
    "papermill": {
     "duration": 0.073137,
     "end_time": "2022-02-23T11:05:45.402528",
     "exception": false,
     "start_time": "2022-02-23T11:05:45.329391",
     "status": "completed"
    },
    "tags": []
   },
   "outputs": [
    {
     "data": {
      "text/plain": [
       "North Indian             936\n",
       "North Indian, Chinese    511\n",
       "Fast Food                348\n",
       "Name: Cuisines, dtype: int64"
      ]
     },
     "execution_count": 42,
     "metadata": {},
     "output_type": "execute_result"
    }
   ],
   "source": [
    "Indian_res['Cuisines'].value_counts()[:3]"
   ]
  },
  {
   "cell_type": "code",
   "execution_count": 43,
   "id": "374cd9f1",
   "metadata": {
    "execution": {
     "iopub.execute_input": "2022-02-23T11:05:45.533604Z",
     "iopub.status.busy": "2022-02-23T11:05:45.532869Z",
     "iopub.status.idle": "2022-02-23T11:05:45.539739Z",
     "shell.execute_reply": "2022-02-23T11:05:45.540538Z",
     "shell.execute_reply.started": "2022-02-23T11:00:58.377086Z"
    },
    "papermill": {
     "duration": 0.074674,
     "end_time": "2022-02-23T11:05:45.540846",
     "exception": false,
     "start_time": "2022-02-23T11:05:45.466172",
     "status": "completed"
    },
    "tags": []
   },
   "outputs": [
    {
     "name": "stdout",
     "output_type": "stream",
     "text": [
      "Number of Cuisines present Internationally: 1826\n",
      "Number of Cuisines present in India: 1392\n"
     ]
    }
   ],
   "source": [
    "print('Number of Cuisines present Internationally:', len(final_df['Cuisines'].unique()))\n",
    "print('Number of Cuisines present in India:', len(Indian_res['Cuisines'].unique()))"
   ]
  },
  {
   "cell_type": "code",
   "execution_count": 44,
   "id": "a99089cf",
   "metadata": {
    "execution": {
     "iopub.execute_input": "2022-02-23T11:05:45.678806Z",
     "iopub.status.busy": "2022-02-23T11:05:45.678162Z",
     "iopub.status.idle": "2022-02-23T11:05:45.682761Z",
     "shell.execute_reply": "2022-02-23T11:05:45.683414Z",
     "shell.execute_reply.started": "2022-02-23T11:03:36.599544Z"
    },
    "papermill": {
     "duration": 0.077262,
     "end_time": "2022-02-23T11:05:45.683589",
     "exception": false,
     "start_time": "2022-02-23T11:05:45.606327",
     "status": "completed"
    },
    "tags": []
   },
   "outputs": [
    {
     "name": "stdout",
     "output_type": "stream",
     "text": [
      "Cuisines Present in Mumbai : 16\n"
     ]
    }
   ],
   "source": [
    "print('Cuisines Present in Mumbai :',len(Indian_res[Indian_res['City']=='Mumbai']['Cuisines'].unique()))"
   ]
  },
  {
   "cell_type": "markdown",
   "id": "c0c1e063",
   "metadata": {
    "papermill": {
     "duration": 0.064305,
     "end_time": "2022-02-23T11:05:45.811783",
     "exception": false,
     "start_time": "2022-02-23T11:05:45.747478",
     "status": "completed"
    },
    "tags": []
   },
   "source": [
    "# Thank you Vising this Notebook Please share your valuable Feedback !"
   ]
  }
 ],
 "metadata": {
  "kernelspec": {
   "display_name": "Python 3",
   "language": "python",
   "name": "python3"
  },
  "language_info": {
   "codemirror_mode": {
    "name": "ipython",
    "version": 3
   },
   "file_extension": ".py",
   "mimetype": "text/x-python",
   "name": "python",
   "nbconvert_exporter": "python",
   "pygments_lexer": "ipython3",
   "version": "3.7.12"
  },
  "papermill": {
   "default_parameters": {},
   "duration": 32.837161,
   "end_time": "2022-02-23T11:05:46.703706",
   "environment_variables": {},
   "exception": null,
   "input_path": "__notebook__.ipynb",
   "output_path": "__notebook__.ipynb",
   "parameters": {},
   "start_time": "2022-02-23T11:05:13.866545",
   "version": "2.3.3"
  }
 },
 "nbformat": 4,
 "nbformat_minor": 5
}
