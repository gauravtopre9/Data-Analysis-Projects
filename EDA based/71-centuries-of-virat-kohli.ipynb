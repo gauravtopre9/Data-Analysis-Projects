{
 "cells": [
  {
   "cell_type": "markdown",
   "id": "3cb4a187",
   "metadata": {
    "papermill": {
     "duration": 0.013659,
     "end_time": "2022-09-13T05:39:50.246117",
     "exception": false,
     "start_time": "2022-09-13T05:39:50.232458",
     "status": "completed"
    },
    "tags": []
   },
   "source": [
    "# 71 Centuries of Virat Kohli"
   ]
  },
  {
   "cell_type": "code",
   "execution_count": 1,
   "id": "41bfd5b4",
   "metadata": {
    "execution": {
     "iopub.execute_input": "2022-09-13T05:39:50.278198Z",
     "iopub.status.busy": "2022-09-13T05:39:50.276597Z",
     "iopub.status.idle": "2022-09-13T05:39:52.662197Z",
     "shell.execute_reply": "2022-09-13T05:39:52.660611Z"
    },
    "papermill": {
     "duration": 2.406801,
     "end_time": "2022-09-13T05:39:52.665413",
     "exception": false,
     "start_time": "2022-09-13T05:39:50.258612",
     "status": "completed"
    },
    "tags": []
   },
   "outputs": [],
   "source": [
    "import pandas as pd\n",
    "import numpy as np\n",
    "import matplotlib.pyplot as plt\n",
    "import seaborn as sns\n",
    "import plotly.express as px"
   ]
  },
  {
   "cell_type": "code",
   "execution_count": 2,
   "id": "eaa5d6e8",
   "metadata": {
    "execution": {
     "iopub.execute_input": "2022-09-13T05:39:52.694262Z",
     "iopub.status.busy": "2022-09-13T05:39:52.693500Z",
     "iopub.status.idle": "2022-09-13T05:39:52.716824Z",
     "shell.execute_reply": "2022-09-13T05:39:52.715529Z"
    },
    "papermill": {
     "duration": 0.04164,
     "end_time": "2022-09-13T05:39:52.719444",
     "exception": false,
     "start_time": "2022-09-13T05:39:52.677804",
     "status": "completed"
    },
    "tags": []
   },
   "outputs": [
    {
     "data": {
      "text/plain": [
       "(71, 15)"
      ]
     },
     "execution_count": 2,
     "metadata": {},
     "output_type": "execute_result"
    }
   ],
   "source": [
    "df = pd.read_csv('../input/virat-kohlis-71-centuries/71 Centuries of Virat Kohli.csv')\n",
    "df.shape"
   ]
  },
  {
   "cell_type": "code",
   "execution_count": 3,
   "id": "6ef07fab",
   "metadata": {
    "execution": {
     "iopub.execute_input": "2022-09-13T05:39:52.747220Z",
     "iopub.status.busy": "2022-09-13T05:39:52.746382Z",
     "iopub.status.idle": "2022-09-13T05:39:52.753272Z",
     "shell.execute_reply": "2022-09-13T05:39:52.752346Z"
    },
    "papermill": {
     "duration": 0.023575,
     "end_time": "2022-09-13T05:39:52.755670",
     "exception": false,
     "start_time": "2022-09-13T05:39:52.732095",
     "status": "completed"
    },
    "tags": []
   },
   "outputs": [
    {
     "data": {
      "text/plain": [
       "Index(['Score', 'Out/Not Out', 'Against', 'Batting Order', 'Inn.',\n",
       "       'Strike Rate', 'Venue', 'Column1', 'H/A', 'Date', 'Result', 'Format',\n",
       "       'Man of the Match', 'Captain', 'Unnamed: 14'],\n",
       "      dtype='object')"
      ]
     },
     "execution_count": 3,
     "metadata": {},
     "output_type": "execute_result"
    }
   ],
   "source": [
    "df.columns"
   ]
  },
  {
   "cell_type": "code",
   "execution_count": 4,
   "id": "95c13306",
   "metadata": {
    "execution": {
     "iopub.execute_input": "2022-09-13T05:39:52.784650Z",
     "iopub.status.busy": "2022-09-13T05:39:52.783395Z",
     "iopub.status.idle": "2022-09-13T05:39:52.799262Z",
     "shell.execute_reply": "2022-09-13T05:39:52.798120Z"
    },
    "papermill": {
     "duration": 0.032915,
     "end_time": "2022-09-13T05:39:52.801842",
     "exception": false,
     "start_time": "2022-09-13T05:39:52.768927",
     "status": "completed"
    },
    "tags": []
   },
   "outputs": [],
   "source": [
    "df.drop('Unnamed: 14',axis=1,inplace=True)"
   ]
  },
  {
   "cell_type": "code",
   "execution_count": 5,
   "id": "c8b72fcd",
   "metadata": {
    "execution": {
     "iopub.execute_input": "2022-09-13T05:39:52.830513Z",
     "iopub.status.busy": "2022-09-13T05:39:52.829754Z",
     "iopub.status.idle": "2022-09-13T05:39:52.853551Z",
     "shell.execute_reply": "2022-09-13T05:39:52.852213Z"
    },
    "papermill": {
     "duration": 0.042349,
     "end_time": "2022-09-13T05:39:52.857254",
     "exception": false,
     "start_time": "2022-09-13T05:39:52.814905",
     "status": "completed"
    },
    "tags": []
   },
   "outputs": [
    {
     "name": "stdout",
     "output_type": "stream",
     "text": [
      "<class 'pandas.core.frame.DataFrame'>\n",
      "RangeIndex: 71 entries, 0 to 70\n",
      "Data columns (total 14 columns):\n",
      " #   Column            Non-Null Count  Dtype  \n",
      "---  ------            --------------  -----  \n",
      " 0   Score             71 non-null     int64  \n",
      " 1   Out/Not Out       71 non-null     object \n",
      " 2   Against           71 non-null     object \n",
      " 3   Batting Order     71 non-null     int64  \n",
      " 4   Inn.              71 non-null     int64  \n",
      " 5   Strike Rate       44 non-null     float64\n",
      " 6   Venue             71 non-null     object \n",
      " 7   Column1           71 non-null     object \n",
      " 8   H/A               71 non-null     object \n",
      " 9   Date              71 non-null     object \n",
      " 10  Result            71 non-null     object \n",
      " 11  Format            71 non-null     object \n",
      " 12  Man of the Match  71 non-null     object \n",
      " 13  Captain           71 non-null     object \n",
      "dtypes: float64(1), int64(3), object(10)\n",
      "memory usage: 7.9+ KB\n"
     ]
    }
   ],
   "source": [
    "df.info()"
   ]
  },
  {
   "cell_type": "code",
   "execution_count": 6,
   "id": "104bf5e8",
   "metadata": {
    "execution": {
     "iopub.execute_input": "2022-09-13T05:39:52.888534Z",
     "iopub.status.busy": "2022-09-13T05:39:52.888111Z",
     "iopub.status.idle": "2022-09-13T05:39:52.899150Z",
     "shell.execute_reply": "2022-09-13T05:39:52.897020Z"
    },
    "papermill": {
     "duration": 0.029938,
     "end_time": "2022-09-13T05:39:52.902174",
     "exception": false,
     "start_time": "2022-09-13T05:39:52.872236",
     "status": "completed"
    },
    "tags": []
   },
   "outputs": [],
   "source": [
    "df['Date'] =  pd.to_datetime(df['Date'], format='%d-%m-%Y')"
   ]
  },
  {
   "cell_type": "code",
   "execution_count": 7,
   "id": "39f463d5",
   "metadata": {
    "execution": {
     "iopub.execute_input": "2022-09-13T05:39:52.931280Z",
     "iopub.status.busy": "2022-09-13T05:39:52.930771Z",
     "iopub.status.idle": "2022-09-13T05:39:52.942268Z",
     "shell.execute_reply": "2022-09-13T05:39:52.940909Z"
    },
    "papermill": {
     "duration": 0.028969,
     "end_time": "2022-09-13T05:39:52.944782",
     "exception": false,
     "start_time": "2022-09-13T05:39:52.915813",
     "status": "completed"
    },
    "tags": []
   },
   "outputs": [
    {
     "data": {
      "text/plain": [
       "Score                0\n",
       "Out/Not Out          0\n",
       "Against              0\n",
       "Batting Order        0\n",
       "Inn.                 0\n",
       "Strike Rate         27\n",
       "Venue                0\n",
       "Column1              0\n",
       "H/A                  0\n",
       "Date                 0\n",
       "Result               0\n",
       "Format               0\n",
       "Man of the Match     0\n",
       "Captain              0\n",
       "dtype: int64"
      ]
     },
     "execution_count": 7,
     "metadata": {},
     "output_type": "execute_result"
    }
   ],
   "source": [
    "df.isnull().sum()"
   ]
  },
  {
   "cell_type": "code",
   "execution_count": 8,
   "id": "9ec20711",
   "metadata": {
    "execution": {
     "iopub.execute_input": "2022-09-13T05:39:52.973565Z",
     "iopub.status.busy": "2022-09-13T05:39:52.972550Z",
     "iopub.status.idle": "2022-09-13T05:39:53.010126Z",
     "shell.execute_reply": "2022-09-13T05:39:53.008629Z"
    },
    "papermill": {
     "duration": 0.054792,
     "end_time": "2022-09-13T05:39:53.012971",
     "exception": false,
     "start_time": "2022-09-13T05:39:52.958179",
     "status": "completed"
    },
    "tags": []
   },
   "outputs": [
    {
     "data": {
      "text/html": [
       "<div>\n",
       "<style scoped>\n",
       "    .dataframe tbody tr th:only-of-type {\n",
       "        vertical-align: middle;\n",
       "    }\n",
       "\n",
       "    .dataframe tbody tr th {\n",
       "        vertical-align: top;\n",
       "    }\n",
       "\n",
       "    .dataframe thead th {\n",
       "        text-align: right;\n",
       "    }\n",
       "</style>\n",
       "<table border=\"1\" class=\"dataframe\">\n",
       "  <thead>\n",
       "    <tr style=\"text-align: right;\">\n",
       "      <th></th>\n",
       "      <th>Score</th>\n",
       "      <th>Out/Not Out</th>\n",
       "      <th>Against</th>\n",
       "      <th>Batting Order</th>\n",
       "      <th>Inn.</th>\n",
       "      <th>Strike Rate</th>\n",
       "      <th>Venue</th>\n",
       "      <th>Column1</th>\n",
       "      <th>H/A</th>\n",
       "      <th>Date</th>\n",
       "      <th>Result</th>\n",
       "      <th>Format</th>\n",
       "      <th>Man of the Match</th>\n",
       "      <th>Captain</th>\n",
       "    </tr>\n",
       "  </thead>\n",
       "  <tbody>\n",
       "    <tr>\n",
       "      <th>0</th>\n",
       "      <td>116</td>\n",
       "      <td>Out</td>\n",
       "      <td>Australia</td>\n",
       "      <td>6</td>\n",
       "      <td>2</td>\n",
       "      <td>NaN</td>\n",
       "      <td>Adelaide Oval</td>\n",
       "      <td>Adelaide</td>\n",
       "      <td>Away</td>\n",
       "      <td>2012-01-24</td>\n",
       "      <td>Lost</td>\n",
       "      <td>Test</td>\n",
       "      <td>No</td>\n",
       "      <td>No</td>\n",
       "    </tr>\n",
       "    <tr>\n",
       "      <th>1</th>\n",
       "      <td>103</td>\n",
       "      <td>Out</td>\n",
       "      <td>New Zealand</td>\n",
       "      <td>5</td>\n",
       "      <td>2</td>\n",
       "      <td>NaN</td>\n",
       "      <td>M. Chinnaswamy Stadium</td>\n",
       "      <td>Bangalore</td>\n",
       "      <td>Home</td>\n",
       "      <td>2012-08-31</td>\n",
       "      <td>Won</td>\n",
       "      <td>Test</td>\n",
       "      <td>Yes</td>\n",
       "      <td>No</td>\n",
       "    </tr>\n",
       "    <tr>\n",
       "      <th>2</th>\n",
       "      <td>103</td>\n",
       "      <td>Out</td>\n",
       "      <td>England</td>\n",
       "      <td>5</td>\n",
       "      <td>2</td>\n",
       "      <td>NaN</td>\n",
       "      <td>Vidarbha Cricket Association Stadium</td>\n",
       "      <td>Nagpur</td>\n",
       "      <td>Home</td>\n",
       "      <td>2012-12-13</td>\n",
       "      <td>Drawn</td>\n",
       "      <td>Test</td>\n",
       "      <td>No</td>\n",
       "      <td>No</td>\n",
       "    </tr>\n",
       "    <tr>\n",
       "      <th>3</th>\n",
       "      <td>107</td>\n",
       "      <td>Out</td>\n",
       "      <td>Australia</td>\n",
       "      <td>5</td>\n",
       "      <td>2</td>\n",
       "      <td>NaN</td>\n",
       "      <td>M. A. Chidambaram Stadium</td>\n",
       "      <td>Chennai</td>\n",
       "      <td>Home</td>\n",
       "      <td>2013-02-22</td>\n",
       "      <td>Won</td>\n",
       "      <td>Test</td>\n",
       "      <td>No</td>\n",
       "      <td>No</td>\n",
       "    </tr>\n",
       "    <tr>\n",
       "      <th>4</th>\n",
       "      <td>119</td>\n",
       "      <td>Out</td>\n",
       "      <td>South Africa</td>\n",
       "      <td>4</td>\n",
       "      <td>1</td>\n",
       "      <td>NaN</td>\n",
       "      <td>Wanderers Stadium</td>\n",
       "      <td>Johannesburg</td>\n",
       "      <td>Away</td>\n",
       "      <td>2013-12-18</td>\n",
       "      <td>Drawn</td>\n",
       "      <td>Test</td>\n",
       "      <td>No</td>\n",
       "      <td>No</td>\n",
       "    </tr>\n",
       "    <tr>\n",
       "      <th>5</th>\n",
       "      <td>105</td>\n",
       "      <td>Not Out</td>\n",
       "      <td>New Zealand</td>\n",
       "      <td>4</td>\n",
       "      <td>4</td>\n",
       "      <td>NaN</td>\n",
       "      <td>Basin Reserve</td>\n",
       "      <td>Wellington</td>\n",
       "      <td>Away</td>\n",
       "      <td>2014-02-14</td>\n",
       "      <td>Drawn</td>\n",
       "      <td>Test</td>\n",
       "      <td>No</td>\n",
       "      <td>No</td>\n",
       "    </tr>\n",
       "    <tr>\n",
       "      <th>6</th>\n",
       "      <td>115</td>\n",
       "      <td>Out</td>\n",
       "      <td>Australia</td>\n",
       "      <td>4</td>\n",
       "      <td>2</td>\n",
       "      <td>NaN</td>\n",
       "      <td>Adelaide Oval</td>\n",
       "      <td>Adelaide</td>\n",
       "      <td>Away</td>\n",
       "      <td>2014-12-09</td>\n",
       "      <td>Lost</td>\n",
       "      <td>Test</td>\n",
       "      <td>No</td>\n",
       "      <td>Yes</td>\n",
       "    </tr>\n",
       "    <tr>\n",
       "      <th>7</th>\n",
       "      <td>141</td>\n",
       "      <td>Out</td>\n",
       "      <td>Australia</td>\n",
       "      <td>4</td>\n",
       "      <td>4</td>\n",
       "      <td>NaN</td>\n",
       "      <td>Adelaide Oval</td>\n",
       "      <td>Adelaide</td>\n",
       "      <td>Away</td>\n",
       "      <td>2014-12-09</td>\n",
       "      <td>Lost</td>\n",
       "      <td>Test</td>\n",
       "      <td>No</td>\n",
       "      <td>Yes</td>\n",
       "    </tr>\n",
       "    <tr>\n",
       "      <th>8</th>\n",
       "      <td>169</td>\n",
       "      <td>Out</td>\n",
       "      <td>Australia</td>\n",
       "      <td>4</td>\n",
       "      <td>2</td>\n",
       "      <td>NaN</td>\n",
       "      <td>Melbourne Cricket Ground</td>\n",
       "      <td>Melbourne</td>\n",
       "      <td>Away</td>\n",
       "      <td>2014-12-26</td>\n",
       "      <td>Drawn</td>\n",
       "      <td>Test</td>\n",
       "      <td>No</td>\n",
       "      <td>No</td>\n",
       "    </tr>\n",
       "    <tr>\n",
       "      <th>9</th>\n",
       "      <td>147</td>\n",
       "      <td>Out</td>\n",
       "      <td>Australia</td>\n",
       "      <td>4</td>\n",
       "      <td>2</td>\n",
       "      <td>NaN</td>\n",
       "      <td>Sydney Cricket Ground</td>\n",
       "      <td>Sydney</td>\n",
       "      <td>Away</td>\n",
       "      <td>2015-01-06</td>\n",
       "      <td>Drawn</td>\n",
       "      <td>Test</td>\n",
       "      <td>No</td>\n",
       "      <td>Yes</td>\n",
       "    </tr>\n",
       "    <tr>\n",
       "      <th>10</th>\n",
       "      <td>103</td>\n",
       "      <td>Out</td>\n",
       "      <td>Sri Lanka</td>\n",
       "      <td>4</td>\n",
       "      <td>2</td>\n",
       "      <td>NaN</td>\n",
       "      <td>Galle International Stadium</td>\n",
       "      <td>Galle</td>\n",
       "      <td>Away</td>\n",
       "      <td>2015-08-12</td>\n",
       "      <td>Lost</td>\n",
       "      <td>Test</td>\n",
       "      <td>No</td>\n",
       "      <td>Yes</td>\n",
       "    </tr>\n",
       "    <tr>\n",
       "      <th>11</th>\n",
       "      <td>200</td>\n",
       "      <td>Out</td>\n",
       "      <td>West Indies</td>\n",
       "      <td>4</td>\n",
       "      <td>1</td>\n",
       "      <td>NaN</td>\n",
       "      <td>Sir Vivian Richards Stadium</td>\n",
       "      <td>North Sound</td>\n",
       "      <td>Away</td>\n",
       "      <td>2016-07-21</td>\n",
       "      <td>Won</td>\n",
       "      <td>Test</td>\n",
       "      <td>No</td>\n",
       "      <td>Yes</td>\n",
       "    </tr>\n",
       "    <tr>\n",
       "      <th>12</th>\n",
       "      <td>211</td>\n",
       "      <td>Out</td>\n",
       "      <td>New Zealand</td>\n",
       "      <td>4</td>\n",
       "      <td>1</td>\n",
       "      <td>NaN</td>\n",
       "      <td>Holkar Stadium</td>\n",
       "      <td>Indore</td>\n",
       "      <td>Home</td>\n",
       "      <td>2016-10-08</td>\n",
       "      <td>Won</td>\n",
       "      <td>Test</td>\n",
       "      <td>No</td>\n",
       "      <td>Yes</td>\n",
       "    </tr>\n",
       "    <tr>\n",
       "      <th>13</th>\n",
       "      <td>167</td>\n",
       "      <td>Out</td>\n",
       "      <td>England</td>\n",
       "      <td>4</td>\n",
       "      <td>1</td>\n",
       "      <td>NaN</td>\n",
       "      <td>ACA-VDCA Cricket Stadium</td>\n",
       "      <td>Visakhapatnam</td>\n",
       "      <td>Home</td>\n",
       "      <td>2016-11-17</td>\n",
       "      <td>Won</td>\n",
       "      <td>Test</td>\n",
       "      <td>Yes</td>\n",
       "      <td>Yes</td>\n",
       "    </tr>\n",
       "    <tr>\n",
       "      <th>14</th>\n",
       "      <td>235</td>\n",
       "      <td>Out</td>\n",
       "      <td>England</td>\n",
       "      <td>4</td>\n",
       "      <td>2</td>\n",
       "      <td>NaN</td>\n",
       "      <td>Wankhede Stadium</td>\n",
       "      <td>Mumbai</td>\n",
       "      <td>Home</td>\n",
       "      <td>2016-12-08</td>\n",
       "      <td>Won</td>\n",
       "      <td>Test</td>\n",
       "      <td>Yes</td>\n",
       "      <td>Yes</td>\n",
       "    </tr>\n",
       "    <tr>\n",
       "      <th>15</th>\n",
       "      <td>204</td>\n",
       "      <td>Out</td>\n",
       "      <td>Bangladesh</td>\n",
       "      <td>4</td>\n",
       "      <td>1</td>\n",
       "      <td>NaN</td>\n",
       "      <td>Rajiv Gandhi International Cricket Stadium</td>\n",
       "      <td>Hyderabad</td>\n",
       "      <td>Home</td>\n",
       "      <td>2017-02-09</td>\n",
       "      <td>Won</td>\n",
       "      <td>Test</td>\n",
       "      <td>Yes</td>\n",
       "      <td>Yes</td>\n",
       "    </tr>\n",
       "    <tr>\n",
       "      <th>16</th>\n",
       "      <td>103</td>\n",
       "      <td>Not Out</td>\n",
       "      <td>Sri Lanka</td>\n",
       "      <td>4</td>\n",
       "      <td>3</td>\n",
       "      <td>NaN</td>\n",
       "      <td>Galle International Stadium</td>\n",
       "      <td>Galle</td>\n",
       "      <td>Away</td>\n",
       "      <td>2017-07-26</td>\n",
       "      <td>Won</td>\n",
       "      <td>Test</td>\n",
       "      <td>No</td>\n",
       "      <td>Yes</td>\n",
       "    </tr>\n",
       "    <tr>\n",
       "      <th>17</th>\n",
       "      <td>104</td>\n",
       "      <td>Not Out</td>\n",
       "      <td>Sri Lanka</td>\n",
       "      <td>4</td>\n",
       "      <td>3</td>\n",
       "      <td>NaN</td>\n",
       "      <td>Eden Gardens</td>\n",
       "      <td>Kolkata</td>\n",
       "      <td>Home</td>\n",
       "      <td>2017-11-16</td>\n",
       "      <td>Drawn</td>\n",
       "      <td>Test</td>\n",
       "      <td>No</td>\n",
       "      <td>Yes</td>\n",
       "    </tr>\n",
       "    <tr>\n",
       "      <th>18</th>\n",
       "      <td>213</td>\n",
       "      <td>Out</td>\n",
       "      <td>Sri Lanka</td>\n",
       "      <td>4</td>\n",
       "      <td>2</td>\n",
       "      <td>NaN</td>\n",
       "      <td>Vidarbha Cricket Association Stadium</td>\n",
       "      <td>Nagpur</td>\n",
       "      <td>Home</td>\n",
       "      <td>2017-11-24</td>\n",
       "      <td>Won</td>\n",
       "      <td>Test</td>\n",
       "      <td>Yes</td>\n",
       "      <td>Yes</td>\n",
       "    </tr>\n",
       "    <tr>\n",
       "      <th>19</th>\n",
       "      <td>243</td>\n",
       "      <td>Out</td>\n",
       "      <td>Sri Lanka</td>\n",
       "      <td>4</td>\n",
       "      <td>1</td>\n",
       "      <td>NaN</td>\n",
       "      <td>Feroz Shah Kotla Ground</td>\n",
       "      <td>Delhi</td>\n",
       "      <td>Home</td>\n",
       "      <td>2017-12-02</td>\n",
       "      <td>Drawn</td>\n",
       "      <td>Test</td>\n",
       "      <td>Yes</td>\n",
       "      <td>Yes</td>\n",
       "    </tr>\n",
       "    <tr>\n",
       "      <th>20</th>\n",
       "      <td>153</td>\n",
       "      <td>Out</td>\n",
       "      <td>South Africa</td>\n",
       "      <td>4</td>\n",
       "      <td>2</td>\n",
       "      <td>NaN</td>\n",
       "      <td>SuperSport Park</td>\n",
       "      <td>Centurion</td>\n",
       "      <td>Away</td>\n",
       "      <td>2018-01-13</td>\n",
       "      <td>Lost</td>\n",
       "      <td>Test</td>\n",
       "      <td>No</td>\n",
       "      <td>Yes</td>\n",
       "    </tr>\n",
       "    <tr>\n",
       "      <th>21</th>\n",
       "      <td>149</td>\n",
       "      <td>Out</td>\n",
       "      <td>England</td>\n",
       "      <td>4</td>\n",
       "      <td>2</td>\n",
       "      <td>NaN</td>\n",
       "      <td>Edgbaston Cricket Ground</td>\n",
       "      <td>Birmingham</td>\n",
       "      <td>Away</td>\n",
       "      <td>2018-08-01</td>\n",
       "      <td>Lost</td>\n",
       "      <td>Test</td>\n",
       "      <td>No</td>\n",
       "      <td>Yes</td>\n",
       "    </tr>\n",
       "    <tr>\n",
       "      <th>22</th>\n",
       "      <td>103</td>\n",
       "      <td>Out</td>\n",
       "      <td>England</td>\n",
       "      <td>4</td>\n",
       "      <td>3</td>\n",
       "      <td>NaN</td>\n",
       "      <td>Trent Bridge</td>\n",
       "      <td>Nottingham</td>\n",
       "      <td>Away</td>\n",
       "      <td>2018-08-18</td>\n",
       "      <td>Won</td>\n",
       "      <td>Test</td>\n",
       "      <td>Yes</td>\n",
       "      <td>Yes</td>\n",
       "    </tr>\n",
       "    <tr>\n",
       "      <th>23</th>\n",
       "      <td>139</td>\n",
       "      <td>Out</td>\n",
       "      <td>West Indies</td>\n",
       "      <td>4</td>\n",
       "      <td>1</td>\n",
       "      <td>NaN</td>\n",
       "      <td>Saurashtra Cricket Association Stadium</td>\n",
       "      <td>Rajkot</td>\n",
       "      <td>Home</td>\n",
       "      <td>2018-10-04</td>\n",
       "      <td>Won</td>\n",
       "      <td>Test</td>\n",
       "      <td>No</td>\n",
       "      <td>Yes</td>\n",
       "    </tr>\n",
       "    <tr>\n",
       "      <th>24</th>\n",
       "      <td>123</td>\n",
       "      <td>Out</td>\n",
       "      <td>Australia</td>\n",
       "      <td>4</td>\n",
       "      <td>2</td>\n",
       "      <td>NaN</td>\n",
       "      <td>Perth Stadium</td>\n",
       "      <td>Perth</td>\n",
       "      <td>Away</td>\n",
       "      <td>2018-12-14</td>\n",
       "      <td>Lost</td>\n",
       "      <td>Test</td>\n",
       "      <td>No</td>\n",
       "      <td>Yes</td>\n",
       "    </tr>\n",
       "    <tr>\n",
       "      <th>25</th>\n",
       "      <td>254</td>\n",
       "      <td>Not Out</td>\n",
       "      <td>South Africa</td>\n",
       "      <td>4</td>\n",
       "      <td>1</td>\n",
       "      <td>NaN</td>\n",
       "      <td>Maharashtra Cricket Association Stadium</td>\n",
       "      <td>Pune</td>\n",
       "      <td>Home</td>\n",
       "      <td>2019-10-10</td>\n",
       "      <td>Won</td>\n",
       "      <td>Test</td>\n",
       "      <td>Yes</td>\n",
       "      <td>Yes</td>\n",
       "    </tr>\n",
       "    <tr>\n",
       "      <th>26</th>\n",
       "      <td>136</td>\n",
       "      <td>Out</td>\n",
       "      <td>Bangladesh</td>\n",
       "      <td>4</td>\n",
       "      <td>2</td>\n",
       "      <td>NaN</td>\n",
       "      <td>Eden Gardens</td>\n",
       "      <td>Kolkata</td>\n",
       "      <td>Home</td>\n",
       "      <td>2019-11-22</td>\n",
       "      <td>Won</td>\n",
       "      <td>Test</td>\n",
       "      <td>No</td>\n",
       "      <td>Yes</td>\n",
       "    </tr>\n",
       "  </tbody>\n",
       "</table>\n",
       "</div>"
      ],
      "text/plain": [
       "    Score Out/Not Out       Against  Batting Order  Inn.  Strike Rate  \\\n",
       "0     116         Out     Australia              6     2          NaN   \n",
       "1     103         Out   New Zealand              5     2          NaN   \n",
       "2     103         Out       England              5     2          NaN   \n",
       "3     107         Out     Australia              5     2          NaN   \n",
       "4     119         Out  South Africa              4     1          NaN   \n",
       "5     105     Not Out   New Zealand              4     4          NaN   \n",
       "6     115         Out     Australia              4     2          NaN   \n",
       "7     141         Out     Australia              4     4          NaN   \n",
       "8     169         Out     Australia              4     2          NaN   \n",
       "9     147         Out     Australia              4     2          NaN   \n",
       "10    103         Out     Sri Lanka              4     2          NaN   \n",
       "11    200         Out   West Indies              4     1          NaN   \n",
       "12    211         Out   New Zealand              4     1          NaN   \n",
       "13    167         Out       England              4     1          NaN   \n",
       "14    235         Out       England              4     2          NaN   \n",
       "15    204         Out    Bangladesh              4     1          NaN   \n",
       "16    103     Not Out     Sri Lanka              4     3          NaN   \n",
       "17    104     Not Out     Sri Lanka              4     3          NaN   \n",
       "18    213         Out     Sri Lanka              4     2          NaN   \n",
       "19    243         Out     Sri Lanka              4     1          NaN   \n",
       "20    153         Out  South Africa              4     2          NaN   \n",
       "21    149         Out       England              4     2          NaN   \n",
       "22    103         Out       England              4     3          NaN   \n",
       "23    139         Out   West Indies              4     1          NaN   \n",
       "24    123         Out     Australia              4     2          NaN   \n",
       "25    254     Not Out  South Africa              4     1          NaN   \n",
       "26    136         Out    Bangladesh              4     2          NaN   \n",
       "\n",
       "                                         Venue         Column1   H/A  \\\n",
       "0                                Adelaide Oval        Adelaide  Away   \n",
       "1                       M. Chinnaswamy Stadium       Bangalore  Home   \n",
       "2         Vidarbha Cricket Association Stadium          Nagpur  Home   \n",
       "3                    M. A. Chidambaram Stadium         Chennai  Home   \n",
       "4                            Wanderers Stadium    Johannesburg  Away   \n",
       "5                                Basin Reserve      Wellington  Away   \n",
       "6                                Adelaide Oval        Adelaide  Away   \n",
       "7                                Adelaide Oval        Adelaide  Away   \n",
       "8                     Melbourne Cricket Ground       Melbourne  Away   \n",
       "9                        Sydney Cricket Ground          Sydney  Away   \n",
       "10                 Galle International Stadium           Galle  Away   \n",
       "11                 Sir Vivian Richards Stadium     North Sound  Away   \n",
       "12                              Holkar Stadium          Indore  Home   \n",
       "13                    ACA-VDCA Cricket Stadium   Visakhapatnam  Home   \n",
       "14                            Wankhede Stadium          Mumbai  Home   \n",
       "15  Rajiv Gandhi International Cricket Stadium       Hyderabad  Home   \n",
       "16                 Galle International Stadium           Galle  Away   \n",
       "17                                Eden Gardens         Kolkata  Home   \n",
       "18        Vidarbha Cricket Association Stadium          Nagpur  Home   \n",
       "19                     Feroz Shah Kotla Ground           Delhi  Home   \n",
       "20                             SuperSport Park       Centurion  Away   \n",
       "21                    Edgbaston Cricket Ground      Birmingham  Away   \n",
       "22                                Trent Bridge      Nottingham  Away   \n",
       "23      Saurashtra Cricket Association Stadium          Rajkot  Home   \n",
       "24                               Perth Stadium           Perth  Away   \n",
       "25     Maharashtra Cricket Association Stadium            Pune  Home   \n",
       "26                                Eden Gardens         Kolkata  Home   \n",
       "\n",
       "         Date Result Format Man of the Match Captain  \n",
       "0  2012-01-24   Lost   Test               No      No  \n",
       "1  2012-08-31    Won   Test              Yes      No  \n",
       "2  2012-12-13  Drawn   Test               No      No  \n",
       "3  2013-02-22    Won   Test               No      No  \n",
       "4  2013-12-18  Drawn   Test               No      No  \n",
       "5  2014-02-14  Drawn   Test               No      No  \n",
       "6  2014-12-09   Lost   Test               No     Yes  \n",
       "7  2014-12-09   Lost   Test               No     Yes  \n",
       "8  2014-12-26  Drawn   Test               No      No  \n",
       "9  2015-01-06  Drawn   Test               No     Yes  \n",
       "10 2015-08-12   Lost   Test               No     Yes  \n",
       "11 2016-07-21    Won   Test               No     Yes  \n",
       "12 2016-10-08    Won   Test               No     Yes  \n",
       "13 2016-11-17    Won   Test              Yes     Yes  \n",
       "14 2016-12-08    Won   Test              Yes     Yes  \n",
       "15 2017-02-09    Won   Test              Yes     Yes  \n",
       "16 2017-07-26    Won   Test               No     Yes  \n",
       "17 2017-11-16  Drawn   Test               No     Yes  \n",
       "18 2017-11-24    Won   Test              Yes     Yes  \n",
       "19 2017-12-02  Drawn   Test              Yes     Yes  \n",
       "20 2018-01-13   Lost   Test               No     Yes  \n",
       "21 2018-08-01   Lost   Test               No     Yes  \n",
       "22 2018-08-18    Won   Test              Yes     Yes  \n",
       "23 2018-10-04    Won   Test               No     Yes  \n",
       "24 2018-12-14   Lost   Test               No     Yes  \n",
       "25 2019-10-10    Won   Test              Yes     Yes  \n",
       "26 2019-11-22    Won   Test               No     Yes  "
      ]
     },
     "execution_count": 8,
     "metadata": {},
     "output_type": "execute_result"
    }
   ],
   "source": [
    "df[df['Strike Rate'].isnull()]"
   ]
  },
  {
   "cell_type": "markdown",
   "id": "e59a31fb",
   "metadata": {
    "papermill": {
     "duration": 0.013235,
     "end_time": "2022-09-13T05:39:53.040031",
     "exception": false,
     "start_time": "2022-09-13T05:39:53.026796",
     "status": "completed"
    },
    "tags": []
   },
   "source": [
    "**These all are Test Centuries here Strike Rate is not that important.**"
   ]
  },
  {
   "cell_type": "code",
   "execution_count": 9,
   "id": "83773f17",
   "metadata": {
    "execution": {
     "iopub.execute_input": "2022-09-13T05:39:53.070187Z",
     "iopub.status.busy": "2022-09-13T05:39:53.069727Z",
     "iopub.status.idle": "2022-09-13T05:39:53.076196Z",
     "shell.execute_reply": "2022-09-13T05:39:53.074875Z"
    },
    "papermill": {
     "duration": 0.024162,
     "end_time": "2022-09-13T05:39:53.078487",
     "exception": false,
     "start_time": "2022-09-13T05:39:53.054325",
     "status": "completed"
    },
    "tags": []
   },
   "outputs": [],
   "source": [
    "df['Strike Rate'] = df['Strike Rate'].fillna(0)"
   ]
  },
  {
   "cell_type": "code",
   "execution_count": 10,
   "id": "af22307b",
   "metadata": {
    "execution": {
     "iopub.execute_input": "2022-09-13T05:39:53.108356Z",
     "iopub.status.busy": "2022-09-13T05:39:53.107900Z",
     "iopub.status.idle": "2022-09-13T05:39:53.118058Z",
     "shell.execute_reply": "2022-09-13T05:39:53.116891Z"
    },
    "papermill": {
     "duration": 0.027695,
     "end_time": "2022-09-13T05:39:53.120528",
     "exception": false,
     "start_time": "2022-09-13T05:39:53.092833",
     "status": "completed"
    },
    "tags": []
   },
   "outputs": [
    {
     "data": {
      "text/plain": [
       "Score               0\n",
       "Out/Not Out         0\n",
       "Against             0\n",
       "Batting Order       0\n",
       "Inn.                0\n",
       "Strike Rate         0\n",
       "Venue               0\n",
       "Column1             0\n",
       "H/A                 0\n",
       "Date                0\n",
       "Result              0\n",
       "Format              0\n",
       "Man of the Match    0\n",
       "Captain             0\n",
       "dtype: int64"
      ]
     },
     "execution_count": 10,
     "metadata": {},
     "output_type": "execute_result"
    }
   ],
   "source": [
    "df.isnull().sum()"
   ]
  },
  {
   "cell_type": "code",
   "execution_count": 11,
   "id": "8bb41fdd",
   "metadata": {
    "execution": {
     "iopub.execute_input": "2022-09-13T05:39:53.150443Z",
     "iopub.status.busy": "2022-09-13T05:39:53.149984Z",
     "iopub.status.idle": "2022-09-13T05:39:53.163315Z",
     "shell.execute_reply": "2022-09-13T05:39:53.162093Z"
    },
    "papermill": {
     "duration": 0.031559,
     "end_time": "2022-09-13T05:39:53.166026",
     "exception": false,
     "start_time": "2022-09-13T05:39:53.134467",
     "status": "completed"
    },
    "tags": []
   },
   "outputs": [
    {
     "data": {
      "text/plain": [
       "0"
      ]
     },
     "execution_count": 11,
     "metadata": {},
     "output_type": "execute_result"
    }
   ],
   "source": [
    "df.duplicated().sum()"
   ]
  },
  {
   "cell_type": "markdown",
   "id": "a198bf33",
   "metadata": {
    "papermill": {
     "duration": 0.014749,
     "end_time": "2022-09-13T05:39:53.194863",
     "exception": false,
     "start_time": "2022-09-13T05:39:53.180114",
     "status": "completed"
    },
    "tags": []
   },
   "source": [
    "**Statastical Description for ODIs and T20Is**"
   ]
  },
  {
   "cell_type": "code",
   "execution_count": 12,
   "id": "1a4d4b86",
   "metadata": {
    "execution": {
     "iopub.execute_input": "2022-09-13T05:39:53.226048Z",
     "iopub.status.busy": "2022-09-13T05:39:53.225633Z",
     "iopub.status.idle": "2022-09-13T05:39:53.246948Z",
     "shell.execute_reply": "2022-09-13T05:39:53.246017Z"
    },
    "papermill": {
     "duration": 0.040505,
     "end_time": "2022-09-13T05:39:53.249654",
     "exception": false,
     "start_time": "2022-09-13T05:39:53.209149",
     "status": "completed"
    },
    "tags": []
   },
   "outputs": [
    {
     "data": {
      "text/html": [
       "<div>\n",
       "<style scoped>\n",
       "    .dataframe tbody tr th:only-of-type {\n",
       "        vertical-align: middle;\n",
       "    }\n",
       "\n",
       "    .dataframe tbody tr th {\n",
       "        vertical-align: top;\n",
       "    }\n",
       "\n",
       "    .dataframe thead th {\n",
       "        text-align: right;\n",
       "    }\n",
       "</style>\n",
       "<table border=\"1\" class=\"dataframe\">\n",
       "  <thead>\n",
       "    <tr style=\"text-align: right;\">\n",
       "      <th></th>\n",
       "      <th>Score</th>\n",
       "      <th>Strike Rate</th>\n",
       "    </tr>\n",
       "  </thead>\n",
       "  <tbody>\n",
       "    <tr>\n",
       "      <th>count</th>\n",
       "      <td>44.000000</td>\n",
       "      <td>44.000000</td>\n",
       "    </tr>\n",
       "    <tr>\n",
       "      <th>mean</th>\n",
       "      <td>120.840909</td>\n",
       "      <td>114.019545</td>\n",
       "    </tr>\n",
       "    <tr>\n",
       "      <th>std</th>\n",
       "      <td>17.743578</td>\n",
       "      <td>25.257567</td>\n",
       "    </tr>\n",
       "    <tr>\n",
       "      <th>min</th>\n",
       "      <td>100.000000</td>\n",
       "      <td>84.900000</td>\n",
       "    </tr>\n",
       "    <tr>\n",
       "      <th>25%</th>\n",
       "      <td>107.000000</td>\n",
       "      <td>96.632500</td>\n",
       "    </tr>\n",
       "    <tr>\n",
       "      <th>50%</th>\n",
       "      <td>116.500000</td>\n",
       "      <td>108.935000</td>\n",
       "    </tr>\n",
       "    <tr>\n",
       "      <th>75%</th>\n",
       "      <td>128.250000</td>\n",
       "      <td>120.787500</td>\n",
       "    </tr>\n",
       "    <tr>\n",
       "      <th>max</th>\n",
       "      <td>183.000000</td>\n",
       "      <td>200.000000</td>\n",
       "    </tr>\n",
       "  </tbody>\n",
       "</table>\n",
       "</div>"
      ],
      "text/plain": [
       "            Score  Strike Rate\n",
       "count   44.000000    44.000000\n",
       "mean   120.840909   114.019545\n",
       "std     17.743578    25.257567\n",
       "min    100.000000    84.900000\n",
       "25%    107.000000    96.632500\n",
       "50%    116.500000   108.935000\n",
       "75%    128.250000   120.787500\n",
       "max    183.000000   200.000000"
      ]
     },
     "execution_count": 12,
     "metadata": {},
     "output_type": "execute_result"
    }
   ],
   "source": [
    "df[df['Format']!='Test'][['Score','Strike Rate']].describe()"
   ]
  },
  {
   "cell_type": "markdown",
   "id": "bb0826a9",
   "metadata": {
    "papermill": {
     "duration": 0.014201,
     "end_time": "2022-09-13T05:39:53.278157",
     "exception": false,
     "start_time": "2022-09-13T05:39:53.263956",
     "status": "completed"
    },
    "tags": []
   },
   "source": [
    "*Observations:*\n",
    "\n",
    "* Avg. Score of Virat Kohli in ODIs/T20Is is 121 in those matches where he have scored Century.\n",
    "* His maximum Score in white ball cricket is 183 Runs.\n",
    "* He have Scored Centuries with the avg.strike rate of 144 in limited over format."
   ]
  },
  {
   "cell_type": "markdown",
   "id": "a71f66c0",
   "metadata": {
    "papermill": {
     "duration": 0.013717,
     "end_time": "2022-09-13T05:39:53.306236",
     "exception": false,
     "start_time": "2022-09-13T05:39:53.292519",
     "status": "completed"
    },
    "tags": []
   },
   "source": [
    "**Statastical Distribution for Test Matches**"
   ]
  },
  {
   "cell_type": "code",
   "execution_count": 13,
   "id": "34d5836f",
   "metadata": {
    "execution": {
     "iopub.execute_input": "2022-09-13T05:39:53.337902Z",
     "iopub.status.busy": "2022-09-13T05:39:53.337456Z",
     "iopub.status.idle": "2022-09-13T05:39:53.349459Z",
     "shell.execute_reply": "2022-09-13T05:39:53.348080Z"
    },
    "papermill": {
     "duration": 0.030991,
     "end_time": "2022-09-13T05:39:53.352495",
     "exception": false,
     "start_time": "2022-09-13T05:39:53.321504",
     "status": "completed"
    },
    "tags": []
   },
   "outputs": [
    {
     "data": {
      "text/plain": [
       "count     27.000000\n",
       "mean     150.555556\n",
       "std       48.817031\n",
       "min      103.000000\n",
       "25%      106.000000\n",
       "50%      139.000000\n",
       "75%      184.500000\n",
       "max      254.000000\n",
       "Name: Score, dtype: float64"
      ]
     },
     "execution_count": 13,
     "metadata": {},
     "output_type": "execute_result"
    }
   ],
   "source": [
    "df[df['Format']=='Test']['Score'].describe()"
   ]
  },
  {
   "cell_type": "markdown",
   "id": "b182a0c3",
   "metadata": {
    "papermill": {
     "duration": 0.013891,
     "end_time": "2022-09-13T05:39:53.380875",
     "exception": false,
     "start_time": "2022-09-13T05:39:53.366984",
     "status": "completed"
    },
    "tags": []
   },
   "source": [
    "*Observations:*\n",
    "* Virat's Maximum Score in Test cricket is 254\n",
    "* Avg.score of Virat Kohli in those matches where he reached century is 150"
   ]
  },
  {
   "cell_type": "code",
   "execution_count": 14,
   "id": "2e114f10",
   "metadata": {
    "execution": {
     "iopub.execute_input": "2022-09-13T05:39:53.420603Z",
     "iopub.status.busy": "2022-09-13T05:39:53.419012Z",
     "iopub.status.idle": "2022-09-13T05:39:54.671342Z",
     "shell.execute_reply": "2022-09-13T05:39:54.670273Z"
    },
    "papermill": {
     "duration": 1.275098,
     "end_time": "2022-09-13T05:39:54.673972",
     "exception": false,
     "start_time": "2022-09-13T05:39:53.398874",
     "status": "completed"
    },
    "tags": []
   },
   "outputs": [
    {
     "data": {
      "text/html": [
       "        <script type=\"text/javascript\">\n",
       "        window.PlotlyConfig = {MathJaxConfig: 'local'};\n",
       "        if (window.MathJax && window.MathJax.Hub && window.MathJax.Hub.Config) {window.MathJax.Hub.Config({SVG: {font: \"STIX-Web\"}});}\n",
       "        if (typeof require !== 'undefined') {\n",
       "        require.undef(\"plotly\");\n",
       "        requirejs.config({\n",
       "            paths: {\n",
       "                'plotly': ['https://cdn.plot.ly/plotly-2.14.0.min']\n",
       "            }\n",
       "        });\n",
       "        require(['plotly'], function(Plotly) {\n",
       "            window._Plotly = Plotly;\n",
       "        });\n",
       "        }\n",
       "        </script>\n",
       "        "
      ]
     },
     "metadata": {},
     "output_type": "display_data"
    },
    {
     "data": {
      "text/html": [
       "<div>                            <div id=\"da64c560-e440-4d9e-a436-071d8c282bed\" class=\"plotly-graph-div\" style=\"height:525px; width:100%;\"></div>            <script type=\"text/javascript\">                require([\"plotly\"], function(Plotly) {                    window.PLOTLYENV=window.PLOTLYENV || {};                                    if (document.getElementById(\"da64c560-e440-4d9e-a436-071d8c282bed\")) {                    Plotly.newPlot(                        \"da64c560-e440-4d9e-a436-071d8c282bed\",                        [{\"domain\":{\"x\":[0.0,1.0],\"y\":[0.0,1.0]},\"hole\":0.5,\"hovertemplate\":\"label=%{label}<br>value=%{value}<extra></extra>\",\"labels\":[\"ODI\",\"Test\",\"T20I\"],\"legendgroup\":\"\",\"name\":\"\",\"showlegend\":true,\"values\":[43,27,1],\"type\":\"pie\"}],                        {\"template\":{\"data\":{\"histogram2dcontour\":[{\"type\":\"histogram2dcontour\",\"colorbar\":{\"outlinewidth\":0,\"ticks\":\"\"},\"colorscale\":[[0.0,\"#0d0887\"],[0.1111111111111111,\"#46039f\"],[0.2222222222222222,\"#7201a8\"],[0.3333333333333333,\"#9c179e\"],[0.4444444444444444,\"#bd3786\"],[0.5555555555555556,\"#d8576b\"],[0.6666666666666666,\"#ed7953\"],[0.7777777777777778,\"#fb9f3a\"],[0.8888888888888888,\"#fdca26\"],[1.0,\"#f0f921\"]]}],\"choropleth\":[{\"type\":\"choropleth\",\"colorbar\":{\"outlinewidth\":0,\"ticks\":\"\"}}],\"histogram2d\":[{\"type\":\"histogram2d\",\"colorbar\":{\"outlinewidth\":0,\"ticks\":\"\"},\"colorscale\":[[0.0,\"#0d0887\"],[0.1111111111111111,\"#46039f\"],[0.2222222222222222,\"#7201a8\"],[0.3333333333333333,\"#9c179e\"],[0.4444444444444444,\"#bd3786\"],[0.5555555555555556,\"#d8576b\"],[0.6666666666666666,\"#ed7953\"],[0.7777777777777778,\"#fb9f3a\"],[0.8888888888888888,\"#fdca26\"],[1.0,\"#f0f921\"]]}],\"heatmap\":[{\"type\":\"heatmap\",\"colorbar\":{\"outlinewidth\":0,\"ticks\":\"\"},\"colorscale\":[[0.0,\"#0d0887\"],[0.1111111111111111,\"#46039f\"],[0.2222222222222222,\"#7201a8\"],[0.3333333333333333,\"#9c179e\"],[0.4444444444444444,\"#bd3786\"],[0.5555555555555556,\"#d8576b\"],[0.6666666666666666,\"#ed7953\"],[0.7777777777777778,\"#fb9f3a\"],[0.8888888888888888,\"#fdca26\"],[1.0,\"#f0f921\"]]}],\"heatmapgl\":[{\"type\":\"heatmapgl\",\"colorbar\":{\"outlinewidth\":0,\"ticks\":\"\"},\"colorscale\":[[0.0,\"#0d0887\"],[0.1111111111111111,\"#46039f\"],[0.2222222222222222,\"#7201a8\"],[0.3333333333333333,\"#9c179e\"],[0.4444444444444444,\"#bd3786\"],[0.5555555555555556,\"#d8576b\"],[0.6666666666666666,\"#ed7953\"],[0.7777777777777778,\"#fb9f3a\"],[0.8888888888888888,\"#fdca26\"],[1.0,\"#f0f921\"]]}],\"contourcarpet\":[{\"type\":\"contourcarpet\",\"colorbar\":{\"outlinewidth\":0,\"ticks\":\"\"}}],\"contour\":[{\"type\":\"contour\",\"colorbar\":{\"outlinewidth\":0,\"ticks\":\"\"},\"colorscale\":[[0.0,\"#0d0887\"],[0.1111111111111111,\"#46039f\"],[0.2222222222222222,\"#7201a8\"],[0.3333333333333333,\"#9c179e\"],[0.4444444444444444,\"#bd3786\"],[0.5555555555555556,\"#d8576b\"],[0.6666666666666666,\"#ed7953\"],[0.7777777777777778,\"#fb9f3a\"],[0.8888888888888888,\"#fdca26\"],[1.0,\"#f0f921\"]]}],\"surface\":[{\"type\":\"surface\",\"colorbar\":{\"outlinewidth\":0,\"ticks\":\"\"},\"colorscale\":[[0.0,\"#0d0887\"],[0.1111111111111111,\"#46039f\"],[0.2222222222222222,\"#7201a8\"],[0.3333333333333333,\"#9c179e\"],[0.4444444444444444,\"#bd3786\"],[0.5555555555555556,\"#d8576b\"],[0.6666666666666666,\"#ed7953\"],[0.7777777777777778,\"#fb9f3a\"],[0.8888888888888888,\"#fdca26\"],[1.0,\"#f0f921\"]]}],\"mesh3d\":[{\"type\":\"mesh3d\",\"colorbar\":{\"outlinewidth\":0,\"ticks\":\"\"}}],\"scatter\":[{\"fillpattern\":{\"fillmode\":\"overlay\",\"size\":10,\"solidity\":0.2},\"type\":\"scatter\"}],\"parcoords\":[{\"type\":\"parcoords\",\"line\":{\"colorbar\":{\"outlinewidth\":0,\"ticks\":\"\"}}}],\"scatterpolargl\":[{\"type\":\"scatterpolargl\",\"marker\":{\"colorbar\":{\"outlinewidth\":0,\"ticks\":\"\"}}}],\"bar\":[{\"error_x\":{\"color\":\"#2a3f5f\"},\"error_y\":{\"color\":\"#2a3f5f\"},\"marker\":{\"line\":{\"color\":\"#E5ECF6\",\"width\":0.5},\"pattern\":{\"fillmode\":\"overlay\",\"size\":10,\"solidity\":0.2}},\"type\":\"bar\"}],\"scattergeo\":[{\"type\":\"scattergeo\",\"marker\":{\"colorbar\":{\"outlinewidth\":0,\"ticks\":\"\"}}}],\"scatterpolar\":[{\"type\":\"scatterpolar\",\"marker\":{\"colorbar\":{\"outlinewidth\":0,\"ticks\":\"\"}}}],\"histogram\":[{\"marker\":{\"pattern\":{\"fillmode\":\"overlay\",\"size\":10,\"solidity\":0.2}},\"type\":\"histogram\"}],\"scattergl\":[{\"type\":\"scattergl\",\"marker\":{\"colorbar\":{\"outlinewidth\":0,\"ticks\":\"\"}}}],\"scatter3d\":[{\"type\":\"scatter3d\",\"line\":{\"colorbar\":{\"outlinewidth\":0,\"ticks\":\"\"}},\"marker\":{\"colorbar\":{\"outlinewidth\":0,\"ticks\":\"\"}}}],\"scattermapbox\":[{\"type\":\"scattermapbox\",\"marker\":{\"colorbar\":{\"outlinewidth\":0,\"ticks\":\"\"}}}],\"scatterternary\":[{\"type\":\"scatterternary\",\"marker\":{\"colorbar\":{\"outlinewidth\":0,\"ticks\":\"\"}}}],\"scattercarpet\":[{\"type\":\"scattercarpet\",\"marker\":{\"colorbar\":{\"outlinewidth\":0,\"ticks\":\"\"}}}],\"carpet\":[{\"aaxis\":{\"endlinecolor\":\"#2a3f5f\",\"gridcolor\":\"white\",\"linecolor\":\"white\",\"minorgridcolor\":\"white\",\"startlinecolor\":\"#2a3f5f\"},\"baxis\":{\"endlinecolor\":\"#2a3f5f\",\"gridcolor\":\"white\",\"linecolor\":\"white\",\"minorgridcolor\":\"white\",\"startlinecolor\":\"#2a3f5f\"},\"type\":\"carpet\"}],\"table\":[{\"cells\":{\"fill\":{\"color\":\"#EBF0F8\"},\"line\":{\"color\":\"white\"}},\"header\":{\"fill\":{\"color\":\"#C8D4E3\"},\"line\":{\"color\":\"white\"}},\"type\":\"table\"}],\"barpolar\":[{\"marker\":{\"line\":{\"color\":\"#E5ECF6\",\"width\":0.5},\"pattern\":{\"fillmode\":\"overlay\",\"size\":10,\"solidity\":0.2}},\"type\":\"barpolar\"}],\"pie\":[{\"automargin\":true,\"type\":\"pie\"}]},\"layout\":{\"autotypenumbers\":\"strict\",\"colorway\":[\"#636efa\",\"#EF553B\",\"#00cc96\",\"#ab63fa\",\"#FFA15A\",\"#19d3f3\",\"#FF6692\",\"#B6E880\",\"#FF97FF\",\"#FECB52\"],\"font\":{\"color\":\"#2a3f5f\"},\"hovermode\":\"closest\",\"hoverlabel\":{\"align\":\"left\"},\"paper_bgcolor\":\"white\",\"plot_bgcolor\":\"#E5ECF6\",\"polar\":{\"bgcolor\":\"#E5ECF6\",\"angularaxis\":{\"gridcolor\":\"white\",\"linecolor\":\"white\",\"ticks\":\"\"},\"radialaxis\":{\"gridcolor\":\"white\",\"linecolor\":\"white\",\"ticks\":\"\"}},\"ternary\":{\"bgcolor\":\"#E5ECF6\",\"aaxis\":{\"gridcolor\":\"white\",\"linecolor\":\"white\",\"ticks\":\"\"},\"baxis\":{\"gridcolor\":\"white\",\"linecolor\":\"white\",\"ticks\":\"\"},\"caxis\":{\"gridcolor\":\"white\",\"linecolor\":\"white\",\"ticks\":\"\"}},\"coloraxis\":{\"colorbar\":{\"outlinewidth\":0,\"ticks\":\"\"}},\"colorscale\":{\"sequential\":[[0.0,\"#0d0887\"],[0.1111111111111111,\"#46039f\"],[0.2222222222222222,\"#7201a8\"],[0.3333333333333333,\"#9c179e\"],[0.4444444444444444,\"#bd3786\"],[0.5555555555555556,\"#d8576b\"],[0.6666666666666666,\"#ed7953\"],[0.7777777777777778,\"#fb9f3a\"],[0.8888888888888888,\"#fdca26\"],[1.0,\"#f0f921\"]],\"sequentialminus\":[[0.0,\"#0d0887\"],[0.1111111111111111,\"#46039f\"],[0.2222222222222222,\"#7201a8\"],[0.3333333333333333,\"#9c179e\"],[0.4444444444444444,\"#bd3786\"],[0.5555555555555556,\"#d8576b\"],[0.6666666666666666,\"#ed7953\"],[0.7777777777777778,\"#fb9f3a\"],[0.8888888888888888,\"#fdca26\"],[1.0,\"#f0f921\"]],\"diverging\":[[0,\"#8e0152\"],[0.1,\"#c51b7d\"],[0.2,\"#de77ae\"],[0.3,\"#f1b6da\"],[0.4,\"#fde0ef\"],[0.5,\"#f7f7f7\"],[0.6,\"#e6f5d0\"],[0.7,\"#b8e186\"],[0.8,\"#7fbc41\"],[0.9,\"#4d9221\"],[1,\"#276419\"]]},\"xaxis\":{\"gridcolor\":\"white\",\"linecolor\":\"white\",\"ticks\":\"\",\"title\":{\"standoff\":15},\"zerolinecolor\":\"white\",\"automargin\":true,\"zerolinewidth\":2},\"yaxis\":{\"gridcolor\":\"white\",\"linecolor\":\"white\",\"ticks\":\"\",\"title\":{\"standoff\":15},\"zerolinecolor\":\"white\",\"automargin\":true,\"zerolinewidth\":2},\"scene\":{\"xaxis\":{\"backgroundcolor\":\"#E5ECF6\",\"gridcolor\":\"white\",\"linecolor\":\"white\",\"showbackground\":true,\"ticks\":\"\",\"zerolinecolor\":\"white\",\"gridwidth\":2},\"yaxis\":{\"backgroundcolor\":\"#E5ECF6\",\"gridcolor\":\"white\",\"linecolor\":\"white\",\"showbackground\":true,\"ticks\":\"\",\"zerolinecolor\":\"white\",\"gridwidth\":2},\"zaxis\":{\"backgroundcolor\":\"#E5ECF6\",\"gridcolor\":\"white\",\"linecolor\":\"white\",\"showbackground\":true,\"ticks\":\"\",\"zerolinecolor\":\"white\",\"gridwidth\":2}},\"shapedefaults\":{\"line\":{\"color\":\"#2a3f5f\"}},\"annotationdefaults\":{\"arrowcolor\":\"#2a3f5f\",\"arrowhead\":0,\"arrowwidth\":1},\"geo\":{\"bgcolor\":\"white\",\"landcolor\":\"#E5ECF6\",\"subunitcolor\":\"white\",\"showland\":true,\"showlakes\":true,\"lakecolor\":\"white\"},\"title\":{\"x\":0.05},\"mapbox\":{\"style\":\"light\"}}},\"legend\":{\"tracegroupgap\":0},\"title\":{\"text\":\"Virat Kohli's Tons\"}},                        {\"responsive\": true}                    ).then(function(){\n",
       "                            \n",
       "var gd = document.getElementById('da64c560-e440-4d9e-a436-071d8c282bed');\n",
       "var x = new MutationObserver(function (mutations, observer) {{\n",
       "        var display = window.getComputedStyle(gd).display;\n",
       "        if (!display || display === 'none') {{\n",
       "            console.log([gd, 'removed!']);\n",
       "            Plotly.purge(gd);\n",
       "            observer.disconnect();\n",
       "        }}\n",
       "}});\n",
       "\n",
       "// Listen for the removal of the full notebook cells\n",
       "var notebookContainer = gd.closest('#notebook-container');\n",
       "if (notebookContainer) {{\n",
       "    x.observe(notebookContainer, {childList: true});\n",
       "}}\n",
       "\n",
       "// Listen for the clearing of the current output cell\n",
       "var outputEl = gd.closest('.output');\n",
       "if (outputEl) {{\n",
       "    x.observe(outputEl, {childList: true});\n",
       "}}\n",
       "\n",
       "                        })                };                });            </script>        </div>"
      ]
     },
     "metadata": {},
     "output_type": "display_data"
    }
   ],
   "source": [
    "px.pie(values = df.Format.value_counts().values,names=df.Format.value_counts().index,hole=0.5,title=\"Virat Kohli's Tons\")"
   ]
  },
  {
   "cell_type": "markdown",
   "id": "e2b2d943",
   "metadata": {
    "papermill": {
     "duration": 0.014492,
     "end_time": "2022-09-13T05:39:54.703753",
     "exception": false,
     "start_time": "2022-09-13T05:39:54.689261",
     "status": "completed"
    },
    "tags": []
   },
   "source": [
    "*Greatest in Every Format: Virat Kohli had Scored Tons in each format 43 in ODIs 27 in TEST and 1 in T20I Cricket*"
   ]
  },
  {
   "cell_type": "code",
   "execution_count": 15,
   "id": "4e216b89",
   "metadata": {
    "execution": {
     "iopub.execute_input": "2022-09-13T05:39:54.735170Z",
     "iopub.status.busy": "2022-09-13T05:39:54.734500Z",
     "iopub.status.idle": "2022-09-13T05:39:54.747141Z",
     "shell.execute_reply": "2022-09-13T05:39:54.745997Z"
    },
    "papermill": {
     "duration": 0.031165,
     "end_time": "2022-09-13T05:39:54.749666",
     "exception": false,
     "start_time": "2022-09-13T05:39:54.718501",
     "status": "completed"
    },
    "tags": []
   },
   "outputs": [],
   "source": [
    "df['Format_century_no'] = df.groupby(['Format'])['Date'].rank(method='max').astype(int)"
   ]
  },
  {
   "cell_type": "markdown",
   "id": "cc32f852",
   "metadata": {
    "papermill": {
     "duration": 0.014191,
     "end_time": "2022-09-13T05:39:54.778759",
     "exception": false,
     "start_time": "2022-09-13T05:39:54.764568",
     "status": "completed"
    },
    "tags": []
   },
   "source": [
    "**Here we hae Used Rank function because our aim is to find the first and latest century Scored by Virat in each format.**"
   ]
  },
  {
   "cell_type": "code",
   "execution_count": 16,
   "id": "69d04758",
   "metadata": {
    "execution": {
     "iopub.execute_input": "2022-09-13T05:39:54.809578Z",
     "iopub.status.busy": "2022-09-13T05:39:54.809166Z",
     "iopub.status.idle": "2022-09-13T05:39:54.831952Z",
     "shell.execute_reply": "2022-09-13T05:39:54.830667Z"
    },
    "papermill": {
     "duration": 0.040767,
     "end_time": "2022-09-13T05:39:54.834240",
     "exception": false,
     "start_time": "2022-09-13T05:39:54.793473",
     "status": "completed"
    },
    "tags": []
   },
   "outputs": [
    {
     "data": {
      "text/html": [
       "<div>\n",
       "<style scoped>\n",
       "    .dataframe tbody tr th:only-of-type {\n",
       "        vertical-align: middle;\n",
       "    }\n",
       "\n",
       "    .dataframe tbody tr th {\n",
       "        vertical-align: top;\n",
       "    }\n",
       "\n",
       "    .dataframe thead th {\n",
       "        text-align: right;\n",
       "    }\n",
       "</style>\n",
       "<table border=\"1\" class=\"dataframe\">\n",
       "  <thead>\n",
       "    <tr style=\"text-align: right;\">\n",
       "      <th></th>\n",
       "      <th>Score</th>\n",
       "      <th>Out/Not Out</th>\n",
       "      <th>Against</th>\n",
       "      <th>Batting Order</th>\n",
       "      <th>Inn.</th>\n",
       "      <th>Strike Rate</th>\n",
       "      <th>Venue</th>\n",
       "      <th>Column1</th>\n",
       "      <th>H/A</th>\n",
       "      <th>Date</th>\n",
       "      <th>Result</th>\n",
       "      <th>Format</th>\n",
       "      <th>Man of the Match</th>\n",
       "      <th>Captain</th>\n",
       "    </tr>\n",
       "  </thead>\n",
       "  <tbody>\n",
       "    <tr>\n",
       "      <th>0</th>\n",
       "      <td>116</td>\n",
       "      <td>Out</td>\n",
       "      <td>Australia</td>\n",
       "      <td>6</td>\n",
       "      <td>2</td>\n",
       "      <td>0.00</td>\n",
       "      <td>Adelaide Oval</td>\n",
       "      <td>Adelaide</td>\n",
       "      <td>Away</td>\n",
       "      <td>2012-01-24</td>\n",
       "      <td>Lost</td>\n",
       "      <td>Test</td>\n",
       "      <td>No</td>\n",
       "      <td>No</td>\n",
       "    </tr>\n",
       "    <tr>\n",
       "      <th>27</th>\n",
       "      <td>107</td>\n",
       "      <td>Out</td>\n",
       "      <td>Sri Lanka</td>\n",
       "      <td>4</td>\n",
       "      <td>2</td>\n",
       "      <td>93.85</td>\n",
       "      <td>Eden Gardens</td>\n",
       "      <td>Kolkata</td>\n",
       "      <td>Home</td>\n",
       "      <td>2009-12-24</td>\n",
       "      <td>Won</td>\n",
       "      <td>ODI</td>\n",
       "      <td>No</td>\n",
       "      <td>No</td>\n",
       "    </tr>\n",
       "    <tr>\n",
       "      <th>70</th>\n",
       "      <td>122</td>\n",
       "      <td>Not Out</td>\n",
       "      <td>Afganistan</td>\n",
       "      <td>1</td>\n",
       "      <td>1</td>\n",
       "      <td>200.00</td>\n",
       "      <td>Dubai International Cricket Stadium</td>\n",
       "      <td>Dubai</td>\n",
       "      <td>Away</td>\n",
       "      <td>2022-09-08</td>\n",
       "      <td>Won</td>\n",
       "      <td>T20I</td>\n",
       "      <td>Yes</td>\n",
       "      <td>No</td>\n",
       "    </tr>\n",
       "  </tbody>\n",
       "</table>\n",
       "</div>"
      ],
      "text/plain": [
       "    Score Out/Not Out     Against  Batting Order  Inn.  Strike Rate  \\\n",
       "0     116         Out   Australia              6     2         0.00   \n",
       "27    107         Out   Sri Lanka              4     2        93.85   \n",
       "70    122     Not Out  Afganistan              1     1       200.00   \n",
       "\n",
       "                                  Venue    Column1   H/A       Date Result  \\\n",
       "0                         Adelaide Oval   Adelaide  Away 2012-01-24   Lost   \n",
       "27                         Eden Gardens    Kolkata  Home 2009-12-24    Won   \n",
       "70  Dubai International Cricket Stadium      Dubai  Away 2022-09-08    Won   \n",
       "\n",
       "   Format Man of the Match Captain  \n",
       "0    Test               No      No  \n",
       "27    ODI               No      No  \n",
       "70   T20I              Yes      No  "
      ]
     },
     "execution_count": 16,
     "metadata": {},
     "output_type": "execute_result"
    }
   ],
   "source": [
    "df[df.Format_century_no ==1].iloc[:,0:-1]"
   ]
  },
  {
   "cell_type": "markdown",
   "id": "cfd069a2",
   "metadata": {
    "papermill": {
     "duration": 0.015578,
     "end_time": "2022-09-13T05:39:54.864606",
     "exception": false,
     "start_time": "2022-09-13T05:39:54.849028",
     "status": "completed"
    },
    "tags": []
   },
   "source": [
    "**Virat Kohli's First Century in each Format :**\n",
    "\n",
    "* **Test** : 116, Ind vs Aus (24th Jan 2012) at Adelaide Oval,Australia (India Lost this Match while chasing Kohli was batting at number 6)\n",
    "\n",
    "* **ODI** : 107(Out, str.rate: 93.85), Ind vs SL (24th Dec 2009) at Eden Garden,Kolkata,India (India won the Match while chasing Kohli was batting at number 4)\n",
    "\n",
    "* **T20I** : 122(Not Out, str.rate: 200), Ind vs Afg (08th Sep 2022) at Dubai International Stadium,Dubai (India Won this match while defending,Kohli was opener and Virat was awarded with MOM) \n"
   ]
  },
  {
   "cell_type": "code",
   "execution_count": 17,
   "id": "037ced6d",
   "metadata": {
    "execution": {
     "iopub.execute_input": "2022-09-13T05:39:54.896189Z",
     "iopub.status.busy": "2022-09-13T05:39:54.895783Z",
     "iopub.status.idle": "2022-09-13T05:39:54.918016Z",
     "shell.execute_reply": "2022-09-13T05:39:54.917108Z"
    },
    "papermill": {
     "duration": 0.040873,
     "end_time": "2022-09-13T05:39:54.920063",
     "exception": false,
     "start_time": "2022-09-13T05:39:54.879190",
     "status": "completed"
    },
    "tags": []
   },
   "outputs": [
    {
     "data": {
      "text/html": [
       "<div>\n",
       "<style scoped>\n",
       "    .dataframe tbody tr th:only-of-type {\n",
       "        vertical-align: middle;\n",
       "    }\n",
       "\n",
       "    .dataframe tbody tr th {\n",
       "        vertical-align: top;\n",
       "    }\n",
       "\n",
       "    .dataframe thead th {\n",
       "        text-align: right;\n",
       "    }\n",
       "</style>\n",
       "<table border=\"1\" class=\"dataframe\">\n",
       "  <thead>\n",
       "    <tr style=\"text-align: right;\">\n",
       "      <th></th>\n",
       "      <th>Score</th>\n",
       "      <th>Out/Not Out</th>\n",
       "      <th>Against</th>\n",
       "      <th>Batting Order</th>\n",
       "      <th>Inn.</th>\n",
       "      <th>Strike Rate</th>\n",
       "      <th>Venue</th>\n",
       "      <th>Column1</th>\n",
       "      <th>H/A</th>\n",
       "      <th>Date</th>\n",
       "      <th>Result</th>\n",
       "      <th>Format</th>\n",
       "      <th>Man of the Match</th>\n",
       "      <th>Captain</th>\n",
       "    </tr>\n",
       "  </thead>\n",
       "  <tbody>\n",
       "    <tr>\n",
       "      <th>69</th>\n",
       "      <td>114</td>\n",
       "      <td>Not Out</td>\n",
       "      <td>West Indies</td>\n",
       "      <td>3</td>\n",
       "      <td>2</td>\n",
       "      <td>115.15</td>\n",
       "      <td>Queen's Park Oval</td>\n",
       "      <td>Port of Spain</td>\n",
       "      <td>Away</td>\n",
       "      <td>2019-08-14</td>\n",
       "      <td>Won</td>\n",
       "      <td>ODI</td>\n",
       "      <td>Yes</td>\n",
       "      <td>Yes</td>\n",
       "    </tr>\n",
       "    <tr>\n",
       "      <th>26</th>\n",
       "      <td>136</td>\n",
       "      <td>Out</td>\n",
       "      <td>Bangladesh</td>\n",
       "      <td>4</td>\n",
       "      <td>2</td>\n",
       "      <td>0.00</td>\n",
       "      <td>Eden Gardens</td>\n",
       "      <td>Kolkata</td>\n",
       "      <td>Home</td>\n",
       "      <td>2019-11-22</td>\n",
       "      <td>Won</td>\n",
       "      <td>Test</td>\n",
       "      <td>No</td>\n",
       "      <td>Yes</td>\n",
       "    </tr>\n",
       "    <tr>\n",
       "      <th>70</th>\n",
       "      <td>122</td>\n",
       "      <td>Not Out</td>\n",
       "      <td>Afganistan</td>\n",
       "      <td>1</td>\n",
       "      <td>1</td>\n",
       "      <td>200.00</td>\n",
       "      <td>Dubai International Cricket Stadium</td>\n",
       "      <td>Dubai</td>\n",
       "      <td>Away</td>\n",
       "      <td>2022-09-08</td>\n",
       "      <td>Won</td>\n",
       "      <td>T20I</td>\n",
       "      <td>Yes</td>\n",
       "      <td>No</td>\n",
       "    </tr>\n",
       "  </tbody>\n",
       "</table>\n",
       "</div>"
      ],
      "text/plain": [
       "    Score Out/Not Out      Against  Batting Order  Inn.  Strike Rate  \\\n",
       "69    114     Not Out  West Indies              3     2       115.15   \n",
       "26    136         Out   Bangladesh              4     2         0.00   \n",
       "70    122     Not Out   Afganistan              1     1       200.00   \n",
       "\n",
       "                                  Venue         Column1   H/A       Date  \\\n",
       "69                    Queen's Park Oval   Port of Spain  Away 2019-08-14   \n",
       "26                         Eden Gardens         Kolkata  Home 2019-11-22   \n",
       "70  Dubai International Cricket Stadium           Dubai  Away 2022-09-08   \n",
       "\n",
       "   Result Format Man of the Match Captain  \n",
       "69    Won    ODI              Yes     Yes  \n",
       "26    Won   Test               No     Yes  \n",
       "70    Won   T20I              Yes      No  "
      ]
     },
     "execution_count": 17,
     "metadata": {},
     "output_type": "execute_result"
    }
   ],
   "source": [
    "df[(df.Format_century_no ==43)|(df.Format_century_no ==27)|(df.Format_century_no ==1)].iloc[:,:-1].sort_values(by='Date').tail(3)"
   ]
  },
  {
   "cell_type": "markdown",
   "id": "5807dccd",
   "metadata": {
    "papermill": {
     "duration": 0.014414,
     "end_time": "2022-09-13T05:39:54.949393",
     "exception": false,
     "start_time": "2022-09-13T05:39:54.934979",
     "status": "completed"
    },
    "tags": []
   },
   "source": [
    "**Virat Kohli's latest Century in each Format :**\n",
    "\n",
    "* **Test** : 136 (Out), Ind vs Ban (22th Nov 2019) at Eden Garden,Kolkata,India (India won the Match while chasing,Virat batted at number 4 and Kohli was leading India)\n",
    "\n",
    "* **ODI** : 114 (Not Out, str.rate: 115.15), Ind vs WI (14th Aug 2019) at Queen's Park Oval,Port of Spain (India won the Match while chasing,Virat batted at number 3,Virat was leading the team and was also awarded with Man of the Match)\n",
    "\n",
    "* **T20I** : 122 (Not Out, str.rate: 200), Ind vs Afg (08th Sep 2022) at Dubai International Stadium,Dubai (India Won this match while defending and Virat was awarded with MOM) \n",
    "\n",
    "\n",
    "**Observation :**\n",
    "\n",
    "*When Virat scored 100 last time India won matches in all 3 Formats*"
   ]
  },
  {
   "cell_type": "markdown",
   "id": "0492ff8a",
   "metadata": {
    "papermill": {
     "duration": 0.014712,
     "end_time": "2022-09-13T05:39:54.979780",
     "exception": false,
     "start_time": "2022-09-13T05:39:54.965068",
     "status": "completed"
    },
    "tags": []
   },
   "source": [
    "### Virat's Centuries against other Teams "
   ]
  },
  {
   "cell_type": "code",
   "execution_count": 18,
   "id": "a029b7c5",
   "metadata": {
    "execution": {
     "iopub.execute_input": "2022-09-13T05:39:55.012499Z",
     "iopub.status.busy": "2022-09-13T05:39:55.012051Z",
     "iopub.status.idle": "2022-09-13T05:39:55.163104Z",
     "shell.execute_reply": "2022-09-13T05:39:55.161911Z"
    },
    "papermill": {
     "duration": 0.171237,
     "end_time": "2022-09-13T05:39:55.165855",
     "exception": false,
     "start_time": "2022-09-13T05:39:54.994618",
     "status": "completed"
    },
    "tags": []
   },
   "outputs": [
    {
     "data": {
      "text/html": [
       "<div>                            <div id=\"3c136f30-004b-4dad-b132-e21da1217e2a\" class=\"plotly-graph-div\" style=\"height:525px; width:100%;\"></div>            <script type=\"text/javascript\">                require([\"plotly\"], function(Plotly) {                    window.PLOTLYENV=window.PLOTLYENV || {};                                    if (document.getElementById(\"3c136f30-004b-4dad-b132-e21da1217e2a\")) {                    Plotly.newPlot(                        \"3c136f30-004b-4dad-b132-e21da1217e2a\",                        [{\"alignmentgroup\":\"True\",\"hovertemplate\":\"Format=T20I<br>Result=Won<br>Against=%{x}<br>Number_of_Centuries=%{y}<extra></extra>\",\"legendgroup\":\"T20I, Won\",\"marker\":{\"color\":\"#636efa\",\"pattern\":{\"shape\":\"\"}},\"name\":\"T20I, Won\",\"offsetgroup\":\"T20I, Won\",\"orientation\":\"v\",\"showlegend\":true,\"textposition\":\"auto\",\"texttemplate\":\"%{y}\",\"x\":[\"Afganistan\"],\"xaxis\":\"x\",\"y\":[1],\"yaxis\":\"y\",\"type\":\"bar\"},{\"alignmentgroup\":\"True\",\"hovertemplate\":\"Format=ODI<br>Result=Won<br>Against=%{x}<br>Number_of_Centuries=%{y}<extra></extra>\",\"legendgroup\":\"ODI, Won\",\"marker\":{\"color\":\"#EF553B\",\"pattern\":{\"shape\":\"\"}},\"name\":\"ODI, Won\",\"offsetgroup\":\"ODI, Won\",\"orientation\":\"v\",\"showlegend\":true,\"textposition\":\"auto\",\"texttemplate\":\"%{y}\",\"x\":[\"Australia\",\"Bangladesh\",\"England\",\"New Zealand\",\"Pakistan\",\"South Africa\",\"Sri Lanka\",\"West Indies\",\"Zimbabwe\"],\"xaxis\":\"x\",\"y\":[5,3,2,3,2,4,8,6,1],\"yaxis\":\"y\",\"type\":\"bar\"},{\"alignmentgroup\":\"True\",\"hovertemplate\":\"Format=ODI<br>Result=Lost<br>Against=%{x}<br>Number_of_Centuries=%{y}<extra></extra>\",\"legendgroup\":\"ODI, Lost\",\"marker\":{\"color\":\"#EF553B\",\"pattern\":{\"shape\":\"/\"}},\"name\":\"ODI, Lost\",\"offsetgroup\":\"ODI, Lost\",\"orientation\":\"v\",\"showlegend\":true,\"textposition\":\"auto\",\"texttemplate\":\"%{y}\",\"x\":[\"Australia\",\"New Zealand\",\"West Indies\"],\"xaxis\":\"x\",\"y\":[3,2,1],\"yaxis\":\"y\",\"type\":\"bar\"},{\"alignmentgroup\":\"True\",\"hovertemplate\":\"Format=ODI<br>Result=Lost (D/L)<br>Against=%{x}<br>Number_of_Centuries=%{y}<extra></extra>\",\"legendgroup\":\"ODI, Lost (D/L)\",\"marker\":{\"color\":\"#EF553B\",\"pattern\":{\"shape\":\"x\"}},\"name\":\"ODI, Lost (D/L)\",\"offsetgroup\":\"ODI, Lost (D/L)\",\"orientation\":\"v\",\"showlegend\":true,\"textposition\":\"auto\",\"texttemplate\":\"%{y}\",\"x\":[\"England\"],\"xaxis\":\"x\",\"y\":[1],\"yaxis\":\"y\",\"type\":\"bar\"},{\"alignmentgroup\":\"True\",\"hovertemplate\":\"Format=ODI<br>Result=Tied<br>Against=%{x}<br>Number_of_Centuries=%{y}<extra></extra>\",\"legendgroup\":\"ODI, Tied\",\"marker\":{\"color\":\"#EF553B\",\"pattern\":{\"shape\":\"+\"}},\"name\":\"ODI, Tied\",\"offsetgroup\":\"ODI, Tied\",\"orientation\":\"v\",\"showlegend\":true,\"textposition\":\"auto\",\"texttemplate\":\"%{y}\",\"x\":[\"West Indies\"],\"xaxis\":\"x\",\"y\":[1],\"yaxis\":\"y\",\"type\":\"bar\"},{\"alignmentgroup\":\"True\",\"hovertemplate\":\"Format=ODI<br>Result=Won (D/L)<br>Against=%{x}<br>Number_of_Centuries=%{y}<extra></extra>\",\"legendgroup\":\"ODI, Won (D/L)\",\"marker\":{\"color\":\"#EF553B\",\"pattern\":{\"shape\":\".\"}},\"name\":\"ODI, Won (D/L)\",\"offsetgroup\":\"ODI, Won (D/L)\",\"orientation\":\"v\",\"showlegend\":true,\"textposition\":\"auto\",\"texttemplate\":\"%{y}\",\"x\":[\"West Indies\"],\"xaxis\":\"x\",\"y\":[1],\"yaxis\":\"y\",\"type\":\"bar\"},{\"alignmentgroup\":\"True\",\"hovertemplate\":\"Format=Test<br>Result=Won<br>Against=%{x}<br>Number_of_Centuries=%{y}<extra></extra>\",\"legendgroup\":\"Test, Won\",\"marker\":{\"color\":\"#00cc96\",\"pattern\":{\"shape\":\"\"}},\"name\":\"Test, Won\",\"offsetgroup\":\"Test, Won\",\"orientation\":\"v\",\"showlegend\":true,\"textposition\":\"auto\",\"texttemplate\":\"%{y}\",\"x\":[\"Australia\",\"Bangladesh\",\"England\",\"New Zealand\",\"South Africa\",\"Sri Lanka\",\"West Indies\"],\"xaxis\":\"x\",\"y\":[1,2,3,2,1,2,2],\"yaxis\":\"y\",\"type\":\"bar\"},{\"alignmentgroup\":\"True\",\"hovertemplate\":\"Format=Test<br>Result=Lost<br>Against=%{x}<br>Number_of_Centuries=%{y}<extra></extra>\",\"legendgroup\":\"Test, Lost\",\"marker\":{\"color\":\"#00cc96\",\"pattern\":{\"shape\":\"/\"}},\"name\":\"Test, Lost\",\"offsetgroup\":\"Test, Lost\",\"orientation\":\"v\",\"showlegend\":true,\"textposition\":\"auto\",\"texttemplate\":\"%{y}\",\"x\":[\"Australia\",\"England\",\"South Africa\",\"Sri Lanka\"],\"xaxis\":\"x\",\"y\":[4,1,1,1],\"yaxis\":\"y\",\"type\":\"bar\"},{\"alignmentgroup\":\"True\",\"hovertemplate\":\"Format=Test<br>Result=Drawn<br>Against=%{x}<br>Number_of_Centuries=%{y}<extra></extra>\",\"legendgroup\":\"Test, Drawn\",\"marker\":{\"color\":\"#00cc96\",\"pattern\":{\"shape\":\"\\\\\"}},\"name\":\"Test, Drawn\",\"offsetgroup\":\"Test, Drawn\",\"orientation\":\"v\",\"showlegend\":true,\"textposition\":\"auto\",\"texttemplate\":\"%{y}\",\"x\":[\"Australia\",\"England\",\"New Zealand\",\"South Africa\",\"Sri Lanka\"],\"xaxis\":\"x\",\"y\":[2,1,1,1,2],\"yaxis\":\"y\",\"type\":\"bar\"}],                        {\"template\":{\"data\":{\"histogram2dcontour\":[{\"type\":\"histogram2dcontour\",\"colorbar\":{\"outlinewidth\":0,\"ticks\":\"\"},\"colorscale\":[[0.0,\"#0d0887\"],[0.1111111111111111,\"#46039f\"],[0.2222222222222222,\"#7201a8\"],[0.3333333333333333,\"#9c179e\"],[0.4444444444444444,\"#bd3786\"],[0.5555555555555556,\"#d8576b\"],[0.6666666666666666,\"#ed7953\"],[0.7777777777777778,\"#fb9f3a\"],[0.8888888888888888,\"#fdca26\"],[1.0,\"#f0f921\"]]}],\"choropleth\":[{\"type\":\"choropleth\",\"colorbar\":{\"outlinewidth\":0,\"ticks\":\"\"}}],\"histogram2d\":[{\"type\":\"histogram2d\",\"colorbar\":{\"outlinewidth\":0,\"ticks\":\"\"},\"colorscale\":[[0.0,\"#0d0887\"],[0.1111111111111111,\"#46039f\"],[0.2222222222222222,\"#7201a8\"],[0.3333333333333333,\"#9c179e\"],[0.4444444444444444,\"#bd3786\"],[0.5555555555555556,\"#d8576b\"],[0.6666666666666666,\"#ed7953\"],[0.7777777777777778,\"#fb9f3a\"],[0.8888888888888888,\"#fdca26\"],[1.0,\"#f0f921\"]]}],\"heatmap\":[{\"type\":\"heatmap\",\"colorbar\":{\"outlinewidth\":0,\"ticks\":\"\"},\"colorscale\":[[0.0,\"#0d0887\"],[0.1111111111111111,\"#46039f\"],[0.2222222222222222,\"#7201a8\"],[0.3333333333333333,\"#9c179e\"],[0.4444444444444444,\"#bd3786\"],[0.5555555555555556,\"#d8576b\"],[0.6666666666666666,\"#ed7953\"],[0.7777777777777778,\"#fb9f3a\"],[0.8888888888888888,\"#fdca26\"],[1.0,\"#f0f921\"]]}],\"heatmapgl\":[{\"type\":\"heatmapgl\",\"colorbar\":{\"outlinewidth\":0,\"ticks\":\"\"},\"colorscale\":[[0.0,\"#0d0887\"],[0.1111111111111111,\"#46039f\"],[0.2222222222222222,\"#7201a8\"],[0.3333333333333333,\"#9c179e\"],[0.4444444444444444,\"#bd3786\"],[0.5555555555555556,\"#d8576b\"],[0.6666666666666666,\"#ed7953\"],[0.7777777777777778,\"#fb9f3a\"],[0.8888888888888888,\"#fdca26\"],[1.0,\"#f0f921\"]]}],\"contourcarpet\":[{\"type\":\"contourcarpet\",\"colorbar\":{\"outlinewidth\":0,\"ticks\":\"\"}}],\"contour\":[{\"type\":\"contour\",\"colorbar\":{\"outlinewidth\":0,\"ticks\":\"\"},\"colorscale\":[[0.0,\"#0d0887\"],[0.1111111111111111,\"#46039f\"],[0.2222222222222222,\"#7201a8\"],[0.3333333333333333,\"#9c179e\"],[0.4444444444444444,\"#bd3786\"],[0.5555555555555556,\"#d8576b\"],[0.6666666666666666,\"#ed7953\"],[0.7777777777777778,\"#fb9f3a\"],[0.8888888888888888,\"#fdca26\"],[1.0,\"#f0f921\"]]}],\"surface\":[{\"type\":\"surface\",\"colorbar\":{\"outlinewidth\":0,\"ticks\":\"\"},\"colorscale\":[[0.0,\"#0d0887\"],[0.1111111111111111,\"#46039f\"],[0.2222222222222222,\"#7201a8\"],[0.3333333333333333,\"#9c179e\"],[0.4444444444444444,\"#bd3786\"],[0.5555555555555556,\"#d8576b\"],[0.6666666666666666,\"#ed7953\"],[0.7777777777777778,\"#fb9f3a\"],[0.8888888888888888,\"#fdca26\"],[1.0,\"#f0f921\"]]}],\"mesh3d\":[{\"type\":\"mesh3d\",\"colorbar\":{\"outlinewidth\":0,\"ticks\":\"\"}}],\"scatter\":[{\"fillpattern\":{\"fillmode\":\"overlay\",\"size\":10,\"solidity\":0.2},\"type\":\"scatter\"}],\"parcoords\":[{\"type\":\"parcoords\",\"line\":{\"colorbar\":{\"outlinewidth\":0,\"ticks\":\"\"}}}],\"scatterpolargl\":[{\"type\":\"scatterpolargl\",\"marker\":{\"colorbar\":{\"outlinewidth\":0,\"ticks\":\"\"}}}],\"bar\":[{\"error_x\":{\"color\":\"#2a3f5f\"},\"error_y\":{\"color\":\"#2a3f5f\"},\"marker\":{\"line\":{\"color\":\"#E5ECF6\",\"width\":0.5},\"pattern\":{\"fillmode\":\"overlay\",\"size\":10,\"solidity\":0.2}},\"type\":\"bar\"}],\"scattergeo\":[{\"type\":\"scattergeo\",\"marker\":{\"colorbar\":{\"outlinewidth\":0,\"ticks\":\"\"}}}],\"scatterpolar\":[{\"type\":\"scatterpolar\",\"marker\":{\"colorbar\":{\"outlinewidth\":0,\"ticks\":\"\"}}}],\"histogram\":[{\"marker\":{\"pattern\":{\"fillmode\":\"overlay\",\"size\":10,\"solidity\":0.2}},\"type\":\"histogram\"}],\"scattergl\":[{\"type\":\"scattergl\",\"marker\":{\"colorbar\":{\"outlinewidth\":0,\"ticks\":\"\"}}}],\"scatter3d\":[{\"type\":\"scatter3d\",\"line\":{\"colorbar\":{\"outlinewidth\":0,\"ticks\":\"\"}},\"marker\":{\"colorbar\":{\"outlinewidth\":0,\"ticks\":\"\"}}}],\"scattermapbox\":[{\"type\":\"scattermapbox\",\"marker\":{\"colorbar\":{\"outlinewidth\":0,\"ticks\":\"\"}}}],\"scatterternary\":[{\"type\":\"scatterternary\",\"marker\":{\"colorbar\":{\"outlinewidth\":0,\"ticks\":\"\"}}}],\"scattercarpet\":[{\"type\":\"scattercarpet\",\"marker\":{\"colorbar\":{\"outlinewidth\":0,\"ticks\":\"\"}}}],\"carpet\":[{\"aaxis\":{\"endlinecolor\":\"#2a3f5f\",\"gridcolor\":\"white\",\"linecolor\":\"white\",\"minorgridcolor\":\"white\",\"startlinecolor\":\"#2a3f5f\"},\"baxis\":{\"endlinecolor\":\"#2a3f5f\",\"gridcolor\":\"white\",\"linecolor\":\"white\",\"minorgridcolor\":\"white\",\"startlinecolor\":\"#2a3f5f\"},\"type\":\"carpet\"}],\"table\":[{\"cells\":{\"fill\":{\"color\":\"#EBF0F8\"},\"line\":{\"color\":\"white\"}},\"header\":{\"fill\":{\"color\":\"#C8D4E3\"},\"line\":{\"color\":\"white\"}},\"type\":\"table\"}],\"barpolar\":[{\"marker\":{\"line\":{\"color\":\"#E5ECF6\",\"width\":0.5},\"pattern\":{\"fillmode\":\"overlay\",\"size\":10,\"solidity\":0.2}},\"type\":\"barpolar\"}],\"pie\":[{\"automargin\":true,\"type\":\"pie\"}]},\"layout\":{\"autotypenumbers\":\"strict\",\"colorway\":[\"#636efa\",\"#EF553B\",\"#00cc96\",\"#ab63fa\",\"#FFA15A\",\"#19d3f3\",\"#FF6692\",\"#B6E880\",\"#FF97FF\",\"#FECB52\"],\"font\":{\"color\":\"#2a3f5f\"},\"hovermode\":\"closest\",\"hoverlabel\":{\"align\":\"left\"},\"paper_bgcolor\":\"white\",\"plot_bgcolor\":\"#E5ECF6\",\"polar\":{\"bgcolor\":\"#E5ECF6\",\"angularaxis\":{\"gridcolor\":\"white\",\"linecolor\":\"white\",\"ticks\":\"\"},\"radialaxis\":{\"gridcolor\":\"white\",\"linecolor\":\"white\",\"ticks\":\"\"}},\"ternary\":{\"bgcolor\":\"#E5ECF6\",\"aaxis\":{\"gridcolor\":\"white\",\"linecolor\":\"white\",\"ticks\":\"\"},\"baxis\":{\"gridcolor\":\"white\",\"linecolor\":\"white\",\"ticks\":\"\"},\"caxis\":{\"gridcolor\":\"white\",\"linecolor\":\"white\",\"ticks\":\"\"}},\"coloraxis\":{\"colorbar\":{\"outlinewidth\":0,\"ticks\":\"\"}},\"colorscale\":{\"sequential\":[[0.0,\"#0d0887\"],[0.1111111111111111,\"#46039f\"],[0.2222222222222222,\"#7201a8\"],[0.3333333333333333,\"#9c179e\"],[0.4444444444444444,\"#bd3786\"],[0.5555555555555556,\"#d8576b\"],[0.6666666666666666,\"#ed7953\"],[0.7777777777777778,\"#fb9f3a\"],[0.8888888888888888,\"#fdca26\"],[1.0,\"#f0f921\"]],\"sequentialminus\":[[0.0,\"#0d0887\"],[0.1111111111111111,\"#46039f\"],[0.2222222222222222,\"#7201a8\"],[0.3333333333333333,\"#9c179e\"],[0.4444444444444444,\"#bd3786\"],[0.5555555555555556,\"#d8576b\"],[0.6666666666666666,\"#ed7953\"],[0.7777777777777778,\"#fb9f3a\"],[0.8888888888888888,\"#fdca26\"],[1.0,\"#f0f921\"]],\"diverging\":[[0,\"#8e0152\"],[0.1,\"#c51b7d\"],[0.2,\"#de77ae\"],[0.3,\"#f1b6da\"],[0.4,\"#fde0ef\"],[0.5,\"#f7f7f7\"],[0.6,\"#e6f5d0\"],[0.7,\"#b8e186\"],[0.8,\"#7fbc41\"],[0.9,\"#4d9221\"],[1,\"#276419\"]]},\"xaxis\":{\"gridcolor\":\"white\",\"linecolor\":\"white\",\"ticks\":\"\",\"title\":{\"standoff\":15},\"zerolinecolor\":\"white\",\"automargin\":true,\"zerolinewidth\":2},\"yaxis\":{\"gridcolor\":\"white\",\"linecolor\":\"white\",\"ticks\":\"\",\"title\":{\"standoff\":15},\"zerolinecolor\":\"white\",\"automargin\":true,\"zerolinewidth\":2},\"scene\":{\"xaxis\":{\"backgroundcolor\":\"#E5ECF6\",\"gridcolor\":\"white\",\"linecolor\":\"white\",\"showbackground\":true,\"ticks\":\"\",\"zerolinecolor\":\"white\",\"gridwidth\":2},\"yaxis\":{\"backgroundcolor\":\"#E5ECF6\",\"gridcolor\":\"white\",\"linecolor\":\"white\",\"showbackground\":true,\"ticks\":\"\",\"zerolinecolor\":\"white\",\"gridwidth\":2},\"zaxis\":{\"backgroundcolor\":\"#E5ECF6\",\"gridcolor\":\"white\",\"linecolor\":\"white\",\"showbackground\":true,\"ticks\":\"\",\"zerolinecolor\":\"white\",\"gridwidth\":2}},\"shapedefaults\":{\"line\":{\"color\":\"#2a3f5f\"}},\"annotationdefaults\":{\"arrowcolor\":\"#2a3f5f\",\"arrowhead\":0,\"arrowwidth\":1},\"geo\":{\"bgcolor\":\"white\",\"landcolor\":\"#E5ECF6\",\"subunitcolor\":\"white\",\"showland\":true,\"showlakes\":true,\"lakecolor\":\"white\"},\"title\":{\"x\":0.05},\"mapbox\":{\"style\":\"light\"}}},\"xaxis\":{\"anchor\":\"y\",\"domain\":[0.0,1.0],\"title\":{\"text\":\"Against\"}},\"yaxis\":{\"anchor\":\"x\",\"domain\":[0.0,1.0],\"title\":{\"text\":\"Number_of_Centuries\"}},\"legend\":{\"title\":{\"text\":\"Format, Result\"},\"tracegroupgap\":0},\"margin\":{\"t\":60},\"barmode\":\"relative\"},                        {\"responsive\": true}                    ).then(function(){\n",
       "                            \n",
       "var gd = document.getElementById('3c136f30-004b-4dad-b132-e21da1217e2a');\n",
       "var x = new MutationObserver(function (mutations, observer) {{\n",
       "        var display = window.getComputedStyle(gd).display;\n",
       "        if (!display || display === 'none') {{\n",
       "            console.log([gd, 'removed!']);\n",
       "            Plotly.purge(gd);\n",
       "            observer.disconnect();\n",
       "        }}\n",
       "}});\n",
       "\n",
       "// Listen for the removal of the full notebook cells\n",
       "var notebookContainer = gd.closest('#notebook-container');\n",
       "if (notebookContainer) {{\n",
       "    x.observe(notebookContainer, {childList: true});\n",
       "}}\n",
       "\n",
       "// Listen for the clearing of the current output cell\n",
       "var outputEl = gd.closest('.output');\n",
       "if (outputEl) {{\n",
       "    x.observe(outputEl, {childList: true});\n",
       "}}\n",
       "\n",
       "                        })                };                });            </script>        </div>"
      ]
     },
     "metadata": {},
     "output_type": "display_data"
    }
   ],
   "source": [
    "Tonvs = df.groupby(['Against','Format','Result'])['Score'].count().reset_index().rename(columns ={'Score':'Number_of_Centuries'})\n",
    "px.bar(data_frame=Tonvs,x='Against',y='Number_of_Centuries',color ='Format',text_auto=True,pattern_shape='Result')"
   ]
  },
  {
   "cell_type": "markdown",
   "id": "4ec596a9",
   "metadata": {
    "papermill": {
     "duration": 0.015278,
     "end_time": "2022-09-13T05:39:55.196631",
     "exception": false,
     "start_time": "2022-09-13T05:39:55.181353",
     "status": "completed"
    },
    "tags": []
   },
   "source": [
    "**Observations :**\n",
    "* Virat Scored maximum 15 Centuries against the Giant Aussies out of which 8 were in ODIs and 7 were in TESTs which is followed by Sri Lanka(total = 13, ODIs = 8, TESTs= 5).\n",
    "\n",
    "* Pakistan,Zimbabwe and Afganistan are the teams against whome Virat haven't scored any Test Hundred.\n",
    "\n",
    "* Virat had Scored his only T20I Century against Afganistan"
   ]
  },
  {
   "cell_type": "markdown",
   "id": "bbafac45",
   "metadata": {
    "papermill": {
     "duration": 0.014858,
     "end_time": "2022-09-13T05:39:55.226672",
     "exception": false,
     "start_time": "2022-09-13T05:39:55.211814",
     "status": "completed"
    },
    "tags": []
   },
   "source": [
    "### Virat's Centuries Over the years"
   ]
  },
  {
   "cell_type": "code",
   "execution_count": 19,
   "id": "845becf7",
   "metadata": {
    "execution": {
     "iopub.execute_input": "2022-09-13T05:39:55.259753Z",
     "iopub.status.busy": "2022-09-13T05:39:55.259259Z",
     "iopub.status.idle": "2022-09-13T05:39:55.265458Z",
     "shell.execute_reply": "2022-09-13T05:39:55.264309Z"
    },
    "papermill": {
     "duration": 0.026016,
     "end_time": "2022-09-13T05:39:55.267914",
     "exception": false,
     "start_time": "2022-09-13T05:39:55.241898",
     "status": "completed"
    },
    "tags": []
   },
   "outputs": [],
   "source": [
    "df = df.sort_values(by=['Date'])"
   ]
  },
  {
   "cell_type": "code",
   "execution_count": 20,
   "id": "7f0b64d1",
   "metadata": {
    "execution": {
     "iopub.execute_input": "2022-09-13T05:39:55.300961Z",
     "iopub.status.busy": "2022-09-13T05:39:55.300252Z",
     "iopub.status.idle": "2022-09-13T05:39:55.305396Z",
     "shell.execute_reply": "2022-09-13T05:39:55.304214Z"
    },
    "papermill": {
     "duration": 0.024664,
     "end_time": "2022-09-13T05:39:55.307874",
     "exception": false,
     "start_time": "2022-09-13T05:39:55.283210",
     "status": "completed"
    },
    "tags": []
   },
   "outputs": [],
   "source": [
    "l = []\n",
    "for i in range(1,72):\n",
    "    l.append(i)"
   ]
  },
  {
   "cell_type": "code",
   "execution_count": 21,
   "id": "348a243a",
   "metadata": {
    "execution": {
     "iopub.execute_input": "2022-09-13T05:39:55.340612Z",
     "iopub.status.busy": "2022-09-13T05:39:55.339896Z",
     "iopub.status.idle": "2022-09-13T05:39:55.345117Z",
     "shell.execute_reply": "2022-09-13T05:39:55.344172Z"
    },
    "papermill": {
     "duration": 0.024349,
     "end_time": "2022-09-13T05:39:55.347466",
     "exception": false,
     "start_time": "2022-09-13T05:39:55.323117",
     "status": "completed"
    },
    "tags": []
   },
   "outputs": [],
   "source": [
    "df['Int_Century_count'] = l"
   ]
  },
  {
   "cell_type": "code",
   "execution_count": 22,
   "id": "d3bd938b",
   "metadata": {
    "execution": {
     "iopub.execute_input": "2022-09-13T05:39:55.381457Z",
     "iopub.status.busy": "2022-09-13T05:39:55.380372Z",
     "iopub.status.idle": "2022-09-13T05:39:55.468031Z",
     "shell.execute_reply": "2022-09-13T05:39:55.466134Z"
    },
    "papermill": {
     "duration": 0.108786,
     "end_time": "2022-09-13T05:39:55.471548",
     "exception": false,
     "start_time": "2022-09-13T05:39:55.362762",
     "status": "completed"
    },
    "tags": []
   },
   "outputs": [
    {
     "data": {
      "text/html": [
       "<div>                            <div id=\"3d112d2e-fceb-4ed2-8048-c15dc3e4a346\" class=\"plotly-graph-div\" style=\"height:525px; width:100%;\"></div>            <script type=\"text/javascript\">                require([\"plotly\"], function(Plotly) {                    window.PLOTLYENV=window.PLOTLYENV || {};                                    if (document.getElementById(\"3d112d2e-fceb-4ed2-8048-c15dc3e4a346\")) {                    Plotly.newPlot(                        \"3d112d2e-fceb-4ed2-8048-c15dc3e4a346\",                        [{\"hovertemplate\":\"Date=%{x}<br>Int_Century_count=%{y}<extra></extra>\",\"legendgroup\":\"\",\"line\":{\"color\":\"#636efa\",\"dash\":\"solid\"},\"marker\":{\"symbol\":\"circle\"},\"mode\":\"lines+markers\",\"name\":\"\",\"orientation\":\"v\",\"showlegend\":false,\"x\":[\"2009-12-24T00:00:00\",\"2010-01-11T00:00:00\",\"2010-10-20T00:00:00\",\"2010-11-28T00:00:00\",\"2011-02-19T00:00:00\",\"2011-09-16T00:00:00\",\"2011-10-17T00:00:00\",\"2011-12-02T00:00:00\",\"2012-01-24T00:00:00\",\"2012-02-28T00:00:00\",\"2012-03-13T00:00:00\",\"2012-03-18T00:00:00\",\"2012-07-21T00:00:00\",\"2012-07-31T00:00:00\",\"2012-08-31T00:00:00\",\"2012-12-13T00:00:00\",\"2013-02-22T00:00:00\",\"2013-07-05T00:00:00\",\"2013-07-24T00:00:00\",\"2013-10-16T00:00:00\",\"2013-10-30T00:00:00\",\"2013-12-18T00:00:00\",\"2014-01-19T00:00:00\",\"2014-02-14T00:00:00\",\"2014-02-26T00:00:00\",\"2014-10-17T00:00:00\",\"2014-11-16T00:00:00\",\"2014-12-09T00:00:00\",\"2014-12-09T00:00:00\",\"2014-12-26T00:00:00\",\"2015-01-06T00:00:00\",\"2015-02-15T00:00:00\",\"2015-08-12T00:00:00\",\"2015-10-22T00:00:00\",\"2016-01-17T00:00:00\",\"2016-01-20T00:00:00\",\"2016-07-21T00:00:00\",\"2016-10-08T00:00:00\",\"2016-10-23T00:00:00\",\"2016-11-17T00:00:00\",\"2016-12-08T00:00:00\",\"2017-01-15T00:00:00\",\"2017-02-09T00:00:00\",\"2017-07-06T00:00:00\",\"2017-07-26T00:00:00\",\"2017-08-31T00:00:00\",\"2017-09-03T00:00:00\",\"2017-10-22T00:00:00\",\"2017-10-29T00:00:00\",\"2017-11-16T00:00:00\",\"2017-11-24T00:00:00\",\"2017-12-02T00:00:00\",\"2018-01-13T00:00:00\",\"2018-02-01T00:00:00\",\"2018-02-07T00:00:00\",\"2018-02-16T00:00:00\",\"2018-08-01T00:00:00\",\"2018-08-18T00:00:00\",\"2018-10-04T00:00:00\",\"2018-10-21T00:00:00\",\"2018-10-24T00:00:00\",\"2018-10-27T00:00:00\",\"2018-12-14T00:00:00\",\"2019-01-15T00:00:00\",\"2019-03-05T00:00:00\",\"2019-03-08T00:00:00\",\"2019-08-11T00:00:00\",\"2019-08-14T00:00:00\",\"2019-10-10T00:00:00\",\"2019-11-22T00:00:00\",\"2022-09-08T00:00:00\"],\"xaxis\":\"x\",\"y\":[1,2,3,4,5,6,7,8,9,10,11,12,13,14,15,16,17,18,19,20,21,22,23,24,25,26,27,28,29,30,31,32,33,34,35,36,37,38,39,40,41,42,43,44,45,46,47,48,49,50,51,52,53,54,55,56,57,58,59,60,61,62,63,64,65,66,67,68,69,70,71],\"yaxis\":\"y\",\"type\":\"scatter\"}],                        {\"template\":{\"data\":{\"histogram2dcontour\":[{\"type\":\"histogram2dcontour\",\"colorbar\":{\"outlinewidth\":0,\"ticks\":\"\"},\"colorscale\":[[0.0,\"#0d0887\"],[0.1111111111111111,\"#46039f\"],[0.2222222222222222,\"#7201a8\"],[0.3333333333333333,\"#9c179e\"],[0.4444444444444444,\"#bd3786\"],[0.5555555555555556,\"#d8576b\"],[0.6666666666666666,\"#ed7953\"],[0.7777777777777778,\"#fb9f3a\"],[0.8888888888888888,\"#fdca26\"],[1.0,\"#f0f921\"]]}],\"choropleth\":[{\"type\":\"choropleth\",\"colorbar\":{\"outlinewidth\":0,\"ticks\":\"\"}}],\"histogram2d\":[{\"type\":\"histogram2d\",\"colorbar\":{\"outlinewidth\":0,\"ticks\":\"\"},\"colorscale\":[[0.0,\"#0d0887\"],[0.1111111111111111,\"#46039f\"],[0.2222222222222222,\"#7201a8\"],[0.3333333333333333,\"#9c179e\"],[0.4444444444444444,\"#bd3786\"],[0.5555555555555556,\"#d8576b\"],[0.6666666666666666,\"#ed7953\"],[0.7777777777777778,\"#fb9f3a\"],[0.8888888888888888,\"#fdca26\"],[1.0,\"#f0f921\"]]}],\"heatmap\":[{\"type\":\"heatmap\",\"colorbar\":{\"outlinewidth\":0,\"ticks\":\"\"},\"colorscale\":[[0.0,\"#0d0887\"],[0.1111111111111111,\"#46039f\"],[0.2222222222222222,\"#7201a8\"],[0.3333333333333333,\"#9c179e\"],[0.4444444444444444,\"#bd3786\"],[0.5555555555555556,\"#d8576b\"],[0.6666666666666666,\"#ed7953\"],[0.7777777777777778,\"#fb9f3a\"],[0.8888888888888888,\"#fdca26\"],[1.0,\"#f0f921\"]]}],\"heatmapgl\":[{\"type\":\"heatmapgl\",\"colorbar\":{\"outlinewidth\":0,\"ticks\":\"\"},\"colorscale\":[[0.0,\"#0d0887\"],[0.1111111111111111,\"#46039f\"],[0.2222222222222222,\"#7201a8\"],[0.3333333333333333,\"#9c179e\"],[0.4444444444444444,\"#bd3786\"],[0.5555555555555556,\"#d8576b\"],[0.6666666666666666,\"#ed7953\"],[0.7777777777777778,\"#fb9f3a\"],[0.8888888888888888,\"#fdca26\"],[1.0,\"#f0f921\"]]}],\"contourcarpet\":[{\"type\":\"contourcarpet\",\"colorbar\":{\"outlinewidth\":0,\"ticks\":\"\"}}],\"contour\":[{\"type\":\"contour\",\"colorbar\":{\"outlinewidth\":0,\"ticks\":\"\"},\"colorscale\":[[0.0,\"#0d0887\"],[0.1111111111111111,\"#46039f\"],[0.2222222222222222,\"#7201a8\"],[0.3333333333333333,\"#9c179e\"],[0.4444444444444444,\"#bd3786\"],[0.5555555555555556,\"#d8576b\"],[0.6666666666666666,\"#ed7953\"],[0.7777777777777778,\"#fb9f3a\"],[0.8888888888888888,\"#fdca26\"],[1.0,\"#f0f921\"]]}],\"surface\":[{\"type\":\"surface\",\"colorbar\":{\"outlinewidth\":0,\"ticks\":\"\"},\"colorscale\":[[0.0,\"#0d0887\"],[0.1111111111111111,\"#46039f\"],[0.2222222222222222,\"#7201a8\"],[0.3333333333333333,\"#9c179e\"],[0.4444444444444444,\"#bd3786\"],[0.5555555555555556,\"#d8576b\"],[0.6666666666666666,\"#ed7953\"],[0.7777777777777778,\"#fb9f3a\"],[0.8888888888888888,\"#fdca26\"],[1.0,\"#f0f921\"]]}],\"mesh3d\":[{\"type\":\"mesh3d\",\"colorbar\":{\"outlinewidth\":0,\"ticks\":\"\"}}],\"scatter\":[{\"fillpattern\":{\"fillmode\":\"overlay\",\"size\":10,\"solidity\":0.2},\"type\":\"scatter\"}],\"parcoords\":[{\"type\":\"parcoords\",\"line\":{\"colorbar\":{\"outlinewidth\":0,\"ticks\":\"\"}}}],\"scatterpolargl\":[{\"type\":\"scatterpolargl\",\"marker\":{\"colorbar\":{\"outlinewidth\":0,\"ticks\":\"\"}}}],\"bar\":[{\"error_x\":{\"color\":\"#2a3f5f\"},\"error_y\":{\"color\":\"#2a3f5f\"},\"marker\":{\"line\":{\"color\":\"#E5ECF6\",\"width\":0.5},\"pattern\":{\"fillmode\":\"overlay\",\"size\":10,\"solidity\":0.2}},\"type\":\"bar\"}],\"scattergeo\":[{\"type\":\"scattergeo\",\"marker\":{\"colorbar\":{\"outlinewidth\":0,\"ticks\":\"\"}}}],\"scatterpolar\":[{\"type\":\"scatterpolar\",\"marker\":{\"colorbar\":{\"outlinewidth\":0,\"ticks\":\"\"}}}],\"histogram\":[{\"marker\":{\"pattern\":{\"fillmode\":\"overlay\",\"size\":10,\"solidity\":0.2}},\"type\":\"histogram\"}],\"scattergl\":[{\"type\":\"scattergl\",\"marker\":{\"colorbar\":{\"outlinewidth\":0,\"ticks\":\"\"}}}],\"scatter3d\":[{\"type\":\"scatter3d\",\"line\":{\"colorbar\":{\"outlinewidth\":0,\"ticks\":\"\"}},\"marker\":{\"colorbar\":{\"outlinewidth\":0,\"ticks\":\"\"}}}],\"scattermapbox\":[{\"type\":\"scattermapbox\",\"marker\":{\"colorbar\":{\"outlinewidth\":0,\"ticks\":\"\"}}}],\"scatterternary\":[{\"type\":\"scatterternary\",\"marker\":{\"colorbar\":{\"outlinewidth\":0,\"ticks\":\"\"}}}],\"scattercarpet\":[{\"type\":\"scattercarpet\",\"marker\":{\"colorbar\":{\"outlinewidth\":0,\"ticks\":\"\"}}}],\"carpet\":[{\"aaxis\":{\"endlinecolor\":\"#2a3f5f\",\"gridcolor\":\"white\",\"linecolor\":\"white\",\"minorgridcolor\":\"white\",\"startlinecolor\":\"#2a3f5f\"},\"baxis\":{\"endlinecolor\":\"#2a3f5f\",\"gridcolor\":\"white\",\"linecolor\":\"white\",\"minorgridcolor\":\"white\",\"startlinecolor\":\"#2a3f5f\"},\"type\":\"carpet\"}],\"table\":[{\"cells\":{\"fill\":{\"color\":\"#EBF0F8\"},\"line\":{\"color\":\"white\"}},\"header\":{\"fill\":{\"color\":\"#C8D4E3\"},\"line\":{\"color\":\"white\"}},\"type\":\"table\"}],\"barpolar\":[{\"marker\":{\"line\":{\"color\":\"#E5ECF6\",\"width\":0.5},\"pattern\":{\"fillmode\":\"overlay\",\"size\":10,\"solidity\":0.2}},\"type\":\"barpolar\"}],\"pie\":[{\"automargin\":true,\"type\":\"pie\"}]},\"layout\":{\"autotypenumbers\":\"strict\",\"colorway\":[\"#636efa\",\"#EF553B\",\"#00cc96\",\"#ab63fa\",\"#FFA15A\",\"#19d3f3\",\"#FF6692\",\"#B6E880\",\"#FF97FF\",\"#FECB52\"],\"font\":{\"color\":\"#2a3f5f\"},\"hovermode\":\"closest\",\"hoverlabel\":{\"align\":\"left\"},\"paper_bgcolor\":\"white\",\"plot_bgcolor\":\"#E5ECF6\",\"polar\":{\"bgcolor\":\"#E5ECF6\",\"angularaxis\":{\"gridcolor\":\"white\",\"linecolor\":\"white\",\"ticks\":\"\"},\"radialaxis\":{\"gridcolor\":\"white\",\"linecolor\":\"white\",\"ticks\":\"\"}},\"ternary\":{\"bgcolor\":\"#E5ECF6\",\"aaxis\":{\"gridcolor\":\"white\",\"linecolor\":\"white\",\"ticks\":\"\"},\"baxis\":{\"gridcolor\":\"white\",\"linecolor\":\"white\",\"ticks\":\"\"},\"caxis\":{\"gridcolor\":\"white\",\"linecolor\":\"white\",\"ticks\":\"\"}},\"coloraxis\":{\"colorbar\":{\"outlinewidth\":0,\"ticks\":\"\"}},\"colorscale\":{\"sequential\":[[0.0,\"#0d0887\"],[0.1111111111111111,\"#46039f\"],[0.2222222222222222,\"#7201a8\"],[0.3333333333333333,\"#9c179e\"],[0.4444444444444444,\"#bd3786\"],[0.5555555555555556,\"#d8576b\"],[0.6666666666666666,\"#ed7953\"],[0.7777777777777778,\"#fb9f3a\"],[0.8888888888888888,\"#fdca26\"],[1.0,\"#f0f921\"]],\"sequentialminus\":[[0.0,\"#0d0887\"],[0.1111111111111111,\"#46039f\"],[0.2222222222222222,\"#7201a8\"],[0.3333333333333333,\"#9c179e\"],[0.4444444444444444,\"#bd3786\"],[0.5555555555555556,\"#d8576b\"],[0.6666666666666666,\"#ed7953\"],[0.7777777777777778,\"#fb9f3a\"],[0.8888888888888888,\"#fdca26\"],[1.0,\"#f0f921\"]],\"diverging\":[[0,\"#8e0152\"],[0.1,\"#c51b7d\"],[0.2,\"#de77ae\"],[0.3,\"#f1b6da\"],[0.4,\"#fde0ef\"],[0.5,\"#f7f7f7\"],[0.6,\"#e6f5d0\"],[0.7,\"#b8e186\"],[0.8,\"#7fbc41\"],[0.9,\"#4d9221\"],[1,\"#276419\"]]},\"xaxis\":{\"gridcolor\":\"white\",\"linecolor\":\"white\",\"ticks\":\"\",\"title\":{\"standoff\":15},\"zerolinecolor\":\"white\",\"automargin\":true,\"zerolinewidth\":2},\"yaxis\":{\"gridcolor\":\"white\",\"linecolor\":\"white\",\"ticks\":\"\",\"title\":{\"standoff\":15},\"zerolinecolor\":\"white\",\"automargin\":true,\"zerolinewidth\":2},\"scene\":{\"xaxis\":{\"backgroundcolor\":\"#E5ECF6\",\"gridcolor\":\"white\",\"linecolor\":\"white\",\"showbackground\":true,\"ticks\":\"\",\"zerolinecolor\":\"white\",\"gridwidth\":2},\"yaxis\":{\"backgroundcolor\":\"#E5ECF6\",\"gridcolor\":\"white\",\"linecolor\":\"white\",\"showbackground\":true,\"ticks\":\"\",\"zerolinecolor\":\"white\",\"gridwidth\":2},\"zaxis\":{\"backgroundcolor\":\"#E5ECF6\",\"gridcolor\":\"white\",\"linecolor\":\"white\",\"showbackground\":true,\"ticks\":\"\",\"zerolinecolor\":\"white\",\"gridwidth\":2}},\"shapedefaults\":{\"line\":{\"color\":\"#2a3f5f\"}},\"annotationdefaults\":{\"arrowcolor\":\"#2a3f5f\",\"arrowhead\":0,\"arrowwidth\":1},\"geo\":{\"bgcolor\":\"white\",\"landcolor\":\"#E5ECF6\",\"subunitcolor\":\"white\",\"showland\":true,\"showlakes\":true,\"lakecolor\":\"white\"},\"title\":{\"x\":0.05},\"mapbox\":{\"style\":\"light\"}}},\"xaxis\":{\"anchor\":\"y\",\"domain\":[0.0,1.0],\"title\":{\"text\":\"Date\"}},\"yaxis\":{\"anchor\":\"x\",\"domain\":[0.0,1.0],\"title\":{\"text\":\"Int_Century_count\"}},\"legend\":{\"tracegroupgap\":0},\"title\":{\"text\":\"Virat's International Hundreds\",\"x\":0.5}},                        {\"responsive\": true}                    ).then(function(){\n",
       "                            \n",
       "var gd = document.getElementById('3d112d2e-fceb-4ed2-8048-c15dc3e4a346');\n",
       "var x = new MutationObserver(function (mutations, observer) {{\n",
       "        var display = window.getComputedStyle(gd).display;\n",
       "        if (!display || display === 'none') {{\n",
       "            console.log([gd, 'removed!']);\n",
       "            Plotly.purge(gd);\n",
       "            observer.disconnect();\n",
       "        }}\n",
       "}});\n",
       "\n",
       "// Listen for the removal of the full notebook cells\n",
       "var notebookContainer = gd.closest('#notebook-container');\n",
       "if (notebookContainer) {{\n",
       "    x.observe(notebookContainer, {childList: true});\n",
       "}}\n",
       "\n",
       "// Listen for the clearing of the current output cell\n",
       "var outputEl = gd.closest('.output');\n",
       "if (outputEl) {{\n",
       "    x.observe(outputEl, {childList: true});\n",
       "}}\n",
       "\n",
       "                        })                };                });            </script>        </div>"
      ]
     },
     "metadata": {},
     "output_type": "display_data"
    }
   ],
   "source": [
    "fig = px.line(data_frame=df,x='Date',y='Int_Century_count',markers=True,title=\"Virat's International Hundreds\")\n",
    "fig.update_layout(title_x=0.5)\n",
    "fig.show()"
   ]
  },
  {
   "cell_type": "code",
   "execution_count": 23,
   "id": "31bd86e5",
   "metadata": {
    "execution": {
     "iopub.execute_input": "2022-09-13T05:39:55.506471Z",
     "iopub.status.busy": "2022-09-13T05:39:55.506040Z",
     "iopub.status.idle": "2022-09-13T05:39:55.519428Z",
     "shell.execute_reply": "2022-09-13T05:39:55.518478Z"
    },
    "papermill": {
     "duration": 0.033252,
     "end_time": "2022-09-13T05:39:55.521827",
     "exception": false,
     "start_time": "2022-09-13T05:39:55.488575",
     "status": "completed"
    },
    "tags": []
   },
   "outputs": [],
   "source": [
    "centuries_by_year = df.groupby([df['Date'].apply(lambda x: x.year),'Format'])['Score'].count().reset_index().rename(columns={'Score':'Number_of_Centuries'})"
   ]
  },
  {
   "cell_type": "code",
   "execution_count": 24,
   "id": "b550d190",
   "metadata": {
    "execution": {
     "iopub.execute_input": "2022-09-13T05:39:55.555782Z",
     "iopub.status.busy": "2022-09-13T05:39:55.554764Z",
     "iopub.status.idle": "2022-09-13T05:39:55.629923Z",
     "shell.execute_reply": "2022-09-13T05:39:55.628590Z"
    },
    "papermill": {
     "duration": 0.094946,
     "end_time": "2022-09-13T05:39:55.632418",
     "exception": false,
     "start_time": "2022-09-13T05:39:55.537472",
     "status": "completed"
    },
    "tags": []
   },
   "outputs": [
    {
     "data": {
      "text/html": [
       "<div>                            <div id=\"450f954f-5f10-4964-a602-29a4b5234d93\" class=\"plotly-graph-div\" style=\"height:525px; width:100%;\"></div>            <script type=\"text/javascript\">                require([\"plotly\"], function(Plotly) {                    window.PLOTLYENV=window.PLOTLYENV || {};                                    if (document.getElementById(\"450f954f-5f10-4964-a602-29a4b5234d93\")) {                    Plotly.newPlot(                        \"450f954f-5f10-4964-a602-29a4b5234d93\",                        [{\"hovertemplate\":\"Format=ODI<br>Date=%{x}<br>Number_of_Centuries=%{y}<extra></extra>\",\"legendgroup\":\"ODI\",\"line\":{\"color\":\"#636efa\",\"dash\":\"solid\"},\"marker\":{\"symbol\":\"circle\"},\"mode\":\"lines+markers\",\"name\":\"ODI\",\"orientation\":\"v\",\"showlegend\":true,\"x\":[2009,2010,2011,2012,2013,2014,2015,2016,2017,2018,2019],\"xaxis\":\"x\",\"y\":[1,3,4,5,4,4,2,3,6,6,5],\"yaxis\":\"y\",\"type\":\"scatter\"},{\"hovertemplate\":\"Format=Test<br>Date=%{x}<br>Number_of_Centuries=%{y}<extra></extra>\",\"legendgroup\":\"Test\",\"line\":{\"color\":\"#EF553B\",\"dash\":\"solid\"},\"marker\":{\"symbol\":\"diamond\"},\"mode\":\"lines+markers\",\"name\":\"Test\",\"orientation\":\"v\",\"showlegend\":true,\"x\":[2012,2013,2014,2015,2016,2017,2018,2019],\"xaxis\":\"x\",\"y\":[3,2,4,2,4,5,5,2],\"yaxis\":\"y\",\"type\":\"scatter\"},{\"hovertemplate\":\"Format=T20I<br>Date=%{x}<br>Number_of_Centuries=%{y}<extra></extra>\",\"legendgroup\":\"T20I\",\"line\":{\"color\":\"#00cc96\",\"dash\":\"solid\"},\"marker\":{\"symbol\":\"square\"},\"mode\":\"lines+markers\",\"name\":\"T20I\",\"orientation\":\"v\",\"showlegend\":true,\"x\":[2022],\"xaxis\":\"x\",\"y\":[1],\"yaxis\":\"y\",\"type\":\"scatter\"}],                        {\"template\":{\"data\":{\"histogram2dcontour\":[{\"type\":\"histogram2dcontour\",\"colorbar\":{\"outlinewidth\":0,\"ticks\":\"\"},\"colorscale\":[[0.0,\"#0d0887\"],[0.1111111111111111,\"#46039f\"],[0.2222222222222222,\"#7201a8\"],[0.3333333333333333,\"#9c179e\"],[0.4444444444444444,\"#bd3786\"],[0.5555555555555556,\"#d8576b\"],[0.6666666666666666,\"#ed7953\"],[0.7777777777777778,\"#fb9f3a\"],[0.8888888888888888,\"#fdca26\"],[1.0,\"#f0f921\"]]}],\"choropleth\":[{\"type\":\"choropleth\",\"colorbar\":{\"outlinewidth\":0,\"ticks\":\"\"}}],\"histogram2d\":[{\"type\":\"histogram2d\",\"colorbar\":{\"outlinewidth\":0,\"ticks\":\"\"},\"colorscale\":[[0.0,\"#0d0887\"],[0.1111111111111111,\"#46039f\"],[0.2222222222222222,\"#7201a8\"],[0.3333333333333333,\"#9c179e\"],[0.4444444444444444,\"#bd3786\"],[0.5555555555555556,\"#d8576b\"],[0.6666666666666666,\"#ed7953\"],[0.7777777777777778,\"#fb9f3a\"],[0.8888888888888888,\"#fdca26\"],[1.0,\"#f0f921\"]]}],\"heatmap\":[{\"type\":\"heatmap\",\"colorbar\":{\"outlinewidth\":0,\"ticks\":\"\"},\"colorscale\":[[0.0,\"#0d0887\"],[0.1111111111111111,\"#46039f\"],[0.2222222222222222,\"#7201a8\"],[0.3333333333333333,\"#9c179e\"],[0.4444444444444444,\"#bd3786\"],[0.5555555555555556,\"#d8576b\"],[0.6666666666666666,\"#ed7953\"],[0.7777777777777778,\"#fb9f3a\"],[0.8888888888888888,\"#fdca26\"],[1.0,\"#f0f921\"]]}],\"heatmapgl\":[{\"type\":\"heatmapgl\",\"colorbar\":{\"outlinewidth\":0,\"ticks\":\"\"},\"colorscale\":[[0.0,\"#0d0887\"],[0.1111111111111111,\"#46039f\"],[0.2222222222222222,\"#7201a8\"],[0.3333333333333333,\"#9c179e\"],[0.4444444444444444,\"#bd3786\"],[0.5555555555555556,\"#d8576b\"],[0.6666666666666666,\"#ed7953\"],[0.7777777777777778,\"#fb9f3a\"],[0.8888888888888888,\"#fdca26\"],[1.0,\"#f0f921\"]]}],\"contourcarpet\":[{\"type\":\"contourcarpet\",\"colorbar\":{\"outlinewidth\":0,\"ticks\":\"\"}}],\"contour\":[{\"type\":\"contour\",\"colorbar\":{\"outlinewidth\":0,\"ticks\":\"\"},\"colorscale\":[[0.0,\"#0d0887\"],[0.1111111111111111,\"#46039f\"],[0.2222222222222222,\"#7201a8\"],[0.3333333333333333,\"#9c179e\"],[0.4444444444444444,\"#bd3786\"],[0.5555555555555556,\"#d8576b\"],[0.6666666666666666,\"#ed7953\"],[0.7777777777777778,\"#fb9f3a\"],[0.8888888888888888,\"#fdca26\"],[1.0,\"#f0f921\"]]}],\"surface\":[{\"type\":\"surface\",\"colorbar\":{\"outlinewidth\":0,\"ticks\":\"\"},\"colorscale\":[[0.0,\"#0d0887\"],[0.1111111111111111,\"#46039f\"],[0.2222222222222222,\"#7201a8\"],[0.3333333333333333,\"#9c179e\"],[0.4444444444444444,\"#bd3786\"],[0.5555555555555556,\"#d8576b\"],[0.6666666666666666,\"#ed7953\"],[0.7777777777777778,\"#fb9f3a\"],[0.8888888888888888,\"#fdca26\"],[1.0,\"#f0f921\"]]}],\"mesh3d\":[{\"type\":\"mesh3d\",\"colorbar\":{\"outlinewidth\":0,\"ticks\":\"\"}}],\"scatter\":[{\"fillpattern\":{\"fillmode\":\"overlay\",\"size\":10,\"solidity\":0.2},\"type\":\"scatter\"}],\"parcoords\":[{\"type\":\"parcoords\",\"line\":{\"colorbar\":{\"outlinewidth\":0,\"ticks\":\"\"}}}],\"scatterpolargl\":[{\"type\":\"scatterpolargl\",\"marker\":{\"colorbar\":{\"outlinewidth\":0,\"ticks\":\"\"}}}],\"bar\":[{\"error_x\":{\"color\":\"#2a3f5f\"},\"error_y\":{\"color\":\"#2a3f5f\"},\"marker\":{\"line\":{\"color\":\"#E5ECF6\",\"width\":0.5},\"pattern\":{\"fillmode\":\"overlay\",\"size\":10,\"solidity\":0.2}},\"type\":\"bar\"}],\"scattergeo\":[{\"type\":\"scattergeo\",\"marker\":{\"colorbar\":{\"outlinewidth\":0,\"ticks\":\"\"}}}],\"scatterpolar\":[{\"type\":\"scatterpolar\",\"marker\":{\"colorbar\":{\"outlinewidth\":0,\"ticks\":\"\"}}}],\"histogram\":[{\"marker\":{\"pattern\":{\"fillmode\":\"overlay\",\"size\":10,\"solidity\":0.2}},\"type\":\"histogram\"}],\"scattergl\":[{\"type\":\"scattergl\",\"marker\":{\"colorbar\":{\"outlinewidth\":0,\"ticks\":\"\"}}}],\"scatter3d\":[{\"type\":\"scatter3d\",\"line\":{\"colorbar\":{\"outlinewidth\":0,\"ticks\":\"\"}},\"marker\":{\"colorbar\":{\"outlinewidth\":0,\"ticks\":\"\"}}}],\"scattermapbox\":[{\"type\":\"scattermapbox\",\"marker\":{\"colorbar\":{\"outlinewidth\":0,\"ticks\":\"\"}}}],\"scatterternary\":[{\"type\":\"scatterternary\",\"marker\":{\"colorbar\":{\"outlinewidth\":0,\"ticks\":\"\"}}}],\"scattercarpet\":[{\"type\":\"scattercarpet\",\"marker\":{\"colorbar\":{\"outlinewidth\":0,\"ticks\":\"\"}}}],\"carpet\":[{\"aaxis\":{\"endlinecolor\":\"#2a3f5f\",\"gridcolor\":\"white\",\"linecolor\":\"white\",\"minorgridcolor\":\"white\",\"startlinecolor\":\"#2a3f5f\"},\"baxis\":{\"endlinecolor\":\"#2a3f5f\",\"gridcolor\":\"white\",\"linecolor\":\"white\",\"minorgridcolor\":\"white\",\"startlinecolor\":\"#2a3f5f\"},\"type\":\"carpet\"}],\"table\":[{\"cells\":{\"fill\":{\"color\":\"#EBF0F8\"},\"line\":{\"color\":\"white\"}},\"header\":{\"fill\":{\"color\":\"#C8D4E3\"},\"line\":{\"color\":\"white\"}},\"type\":\"table\"}],\"barpolar\":[{\"marker\":{\"line\":{\"color\":\"#E5ECF6\",\"width\":0.5},\"pattern\":{\"fillmode\":\"overlay\",\"size\":10,\"solidity\":0.2}},\"type\":\"barpolar\"}],\"pie\":[{\"automargin\":true,\"type\":\"pie\"}]},\"layout\":{\"autotypenumbers\":\"strict\",\"colorway\":[\"#636efa\",\"#EF553B\",\"#00cc96\",\"#ab63fa\",\"#FFA15A\",\"#19d3f3\",\"#FF6692\",\"#B6E880\",\"#FF97FF\",\"#FECB52\"],\"font\":{\"color\":\"#2a3f5f\"},\"hovermode\":\"closest\",\"hoverlabel\":{\"align\":\"left\"},\"paper_bgcolor\":\"white\",\"plot_bgcolor\":\"#E5ECF6\",\"polar\":{\"bgcolor\":\"#E5ECF6\",\"angularaxis\":{\"gridcolor\":\"white\",\"linecolor\":\"white\",\"ticks\":\"\"},\"radialaxis\":{\"gridcolor\":\"white\",\"linecolor\":\"white\",\"ticks\":\"\"}},\"ternary\":{\"bgcolor\":\"#E5ECF6\",\"aaxis\":{\"gridcolor\":\"white\",\"linecolor\":\"white\",\"ticks\":\"\"},\"baxis\":{\"gridcolor\":\"white\",\"linecolor\":\"white\",\"ticks\":\"\"},\"caxis\":{\"gridcolor\":\"white\",\"linecolor\":\"white\",\"ticks\":\"\"}},\"coloraxis\":{\"colorbar\":{\"outlinewidth\":0,\"ticks\":\"\"}},\"colorscale\":{\"sequential\":[[0.0,\"#0d0887\"],[0.1111111111111111,\"#46039f\"],[0.2222222222222222,\"#7201a8\"],[0.3333333333333333,\"#9c179e\"],[0.4444444444444444,\"#bd3786\"],[0.5555555555555556,\"#d8576b\"],[0.6666666666666666,\"#ed7953\"],[0.7777777777777778,\"#fb9f3a\"],[0.8888888888888888,\"#fdca26\"],[1.0,\"#f0f921\"]],\"sequentialminus\":[[0.0,\"#0d0887\"],[0.1111111111111111,\"#46039f\"],[0.2222222222222222,\"#7201a8\"],[0.3333333333333333,\"#9c179e\"],[0.4444444444444444,\"#bd3786\"],[0.5555555555555556,\"#d8576b\"],[0.6666666666666666,\"#ed7953\"],[0.7777777777777778,\"#fb9f3a\"],[0.8888888888888888,\"#fdca26\"],[1.0,\"#f0f921\"]],\"diverging\":[[0,\"#8e0152\"],[0.1,\"#c51b7d\"],[0.2,\"#de77ae\"],[0.3,\"#f1b6da\"],[0.4,\"#fde0ef\"],[0.5,\"#f7f7f7\"],[0.6,\"#e6f5d0\"],[0.7,\"#b8e186\"],[0.8,\"#7fbc41\"],[0.9,\"#4d9221\"],[1,\"#276419\"]]},\"xaxis\":{\"gridcolor\":\"white\",\"linecolor\":\"white\",\"ticks\":\"\",\"title\":{\"standoff\":15},\"zerolinecolor\":\"white\",\"automargin\":true,\"zerolinewidth\":2},\"yaxis\":{\"gridcolor\":\"white\",\"linecolor\":\"white\",\"ticks\":\"\",\"title\":{\"standoff\":15},\"zerolinecolor\":\"white\",\"automargin\":true,\"zerolinewidth\":2},\"scene\":{\"xaxis\":{\"backgroundcolor\":\"#E5ECF6\",\"gridcolor\":\"white\",\"linecolor\":\"white\",\"showbackground\":true,\"ticks\":\"\",\"zerolinecolor\":\"white\",\"gridwidth\":2},\"yaxis\":{\"backgroundcolor\":\"#E5ECF6\",\"gridcolor\":\"white\",\"linecolor\":\"white\",\"showbackground\":true,\"ticks\":\"\",\"zerolinecolor\":\"white\",\"gridwidth\":2},\"zaxis\":{\"backgroundcolor\":\"#E5ECF6\",\"gridcolor\":\"white\",\"linecolor\":\"white\",\"showbackground\":true,\"ticks\":\"\",\"zerolinecolor\":\"white\",\"gridwidth\":2}},\"shapedefaults\":{\"line\":{\"color\":\"#2a3f5f\"}},\"annotationdefaults\":{\"arrowcolor\":\"#2a3f5f\",\"arrowhead\":0,\"arrowwidth\":1},\"geo\":{\"bgcolor\":\"white\",\"landcolor\":\"#E5ECF6\",\"subunitcolor\":\"white\",\"showland\":true,\"showlakes\":true,\"lakecolor\":\"white\"},\"title\":{\"x\":0.05},\"mapbox\":{\"style\":\"light\"}}},\"xaxis\":{\"anchor\":\"y\",\"domain\":[0.0,1.0],\"title\":{\"text\":\"Date\"}},\"yaxis\":{\"anchor\":\"x\",\"domain\":[0.0,1.0],\"title\":{\"text\":\"Number_of_Centuries\"}},\"legend\":{\"title\":{\"text\":\"Format\"},\"tracegroupgap\":0},\"margin\":{\"t\":60}},                        {\"responsive\": true}                    ).then(function(){\n",
       "                            \n",
       "var gd = document.getElementById('450f954f-5f10-4964-a602-29a4b5234d93');\n",
       "var x = new MutationObserver(function (mutations, observer) {{\n",
       "        var display = window.getComputedStyle(gd).display;\n",
       "        if (!display || display === 'none') {{\n",
       "            console.log([gd, 'removed!']);\n",
       "            Plotly.purge(gd);\n",
       "            observer.disconnect();\n",
       "        }}\n",
       "}});\n",
       "\n",
       "// Listen for the removal of the full notebook cells\n",
       "var notebookContainer = gd.closest('#notebook-container');\n",
       "if (notebookContainer) {{\n",
       "    x.observe(notebookContainer, {childList: true});\n",
       "}}\n",
       "\n",
       "// Listen for the clearing of the current output cell\n",
       "var outputEl = gd.closest('.output');\n",
       "if (outputEl) {{\n",
       "    x.observe(outputEl, {childList: true});\n",
       "}}\n",
       "\n",
       "                        })                };                });            </script>        </div>"
      ]
     },
     "metadata": {},
     "output_type": "display_data"
    }
   ],
   "source": [
    "px.line(data_frame=centuries_by_year,x='Date',y='Number_of_Centuries',color='Format',markers=True,symbol='Format')"
   ]
  },
  {
   "cell_type": "code",
   "execution_count": 25,
   "id": "b29072aa",
   "metadata": {
    "execution": {
     "iopub.execute_input": "2022-09-13T05:39:55.667499Z",
     "iopub.status.busy": "2022-09-13T05:39:55.667076Z",
     "iopub.status.idle": "2022-09-13T05:39:55.678128Z",
     "shell.execute_reply": "2022-09-13T05:39:55.676729Z"
    },
    "papermill": {
     "duration": 0.031808,
     "end_time": "2022-09-13T05:39:55.680934",
     "exception": false,
     "start_time": "2022-09-13T05:39:55.649126",
     "status": "completed"
    },
    "tags": []
   },
   "outputs": [
    {
     "data": {
      "text/plain": [
       "2014-12-09    2\n",
       "2017-08-31    1\n",
       "2017-12-02    1\n",
       "2017-11-24    1\n",
       "2017-11-16    1\n",
       "             ..\n",
       "2015-02-15    1\n",
       "2015-08-12    1\n",
       "2015-10-22    1\n",
       "2016-01-17    1\n",
       "2022-09-08    1\n",
       "Name: Date, Length: 70, dtype: int64"
      ]
     },
     "execution_count": 25,
     "metadata": {},
     "output_type": "execute_result"
    }
   ],
   "source": [
    "df['Date'].value_counts()"
   ]
  },
  {
   "cell_type": "code",
   "execution_count": 26,
   "id": "e98b6c1b",
   "metadata": {
    "execution": {
     "iopub.execute_input": "2022-09-13T05:39:55.718334Z",
     "iopub.status.busy": "2022-09-13T05:39:55.717502Z",
     "iopub.status.idle": "2022-09-13T05:39:55.738183Z",
     "shell.execute_reply": "2022-09-13T05:39:55.737252Z"
    },
    "papermill": {
     "duration": 0.041834,
     "end_time": "2022-09-13T05:39:55.740579",
     "exception": false,
     "start_time": "2022-09-13T05:39:55.698745",
     "status": "completed"
    },
    "tags": []
   },
   "outputs": [
    {
     "data": {
      "text/html": [
       "<div>\n",
       "<style scoped>\n",
       "    .dataframe tbody tr th:only-of-type {\n",
       "        vertical-align: middle;\n",
       "    }\n",
       "\n",
       "    .dataframe tbody tr th {\n",
       "        vertical-align: top;\n",
       "    }\n",
       "\n",
       "    .dataframe thead th {\n",
       "        text-align: right;\n",
       "    }\n",
       "</style>\n",
       "<table border=\"1\" class=\"dataframe\">\n",
       "  <thead>\n",
       "    <tr style=\"text-align: right;\">\n",
       "      <th></th>\n",
       "      <th>Score</th>\n",
       "      <th>Out/Not Out</th>\n",
       "      <th>Against</th>\n",
       "      <th>Batting Order</th>\n",
       "      <th>Inn.</th>\n",
       "      <th>Strike Rate</th>\n",
       "      <th>Venue</th>\n",
       "      <th>Column1</th>\n",
       "      <th>H/A</th>\n",
       "      <th>Date</th>\n",
       "      <th>Result</th>\n",
       "      <th>Format</th>\n",
       "      <th>Man of the Match</th>\n",
       "      <th>Captain</th>\n",
       "      <th>Format_century_no</th>\n",
       "      <th>Int_Century_count</th>\n",
       "    </tr>\n",
       "  </thead>\n",
       "  <tbody>\n",
       "    <tr>\n",
       "      <th>7</th>\n",
       "      <td>141</td>\n",
       "      <td>Out</td>\n",
       "      <td>Australia</td>\n",
       "      <td>4</td>\n",
       "      <td>4</td>\n",
       "      <td>0.0</td>\n",
       "      <td>Adelaide Oval</td>\n",
       "      <td>Adelaide</td>\n",
       "      <td>Away</td>\n",
       "      <td>2014-12-09</td>\n",
       "      <td>Lost</td>\n",
       "      <td>Test</td>\n",
       "      <td>No</td>\n",
       "      <td>Yes</td>\n",
       "      <td>8</td>\n",
       "      <td>28</td>\n",
       "    </tr>\n",
       "    <tr>\n",
       "      <th>6</th>\n",
       "      <td>115</td>\n",
       "      <td>Out</td>\n",
       "      <td>Australia</td>\n",
       "      <td>4</td>\n",
       "      <td>2</td>\n",
       "      <td>0.0</td>\n",
       "      <td>Adelaide Oval</td>\n",
       "      <td>Adelaide</td>\n",
       "      <td>Away</td>\n",
       "      <td>2014-12-09</td>\n",
       "      <td>Lost</td>\n",
       "      <td>Test</td>\n",
       "      <td>No</td>\n",
       "      <td>Yes</td>\n",
       "      <td>8</td>\n",
       "      <td>29</td>\n",
       "    </tr>\n",
       "  </tbody>\n",
       "</table>\n",
       "</div>"
      ],
      "text/plain": [
       "   Score Out/Not Out    Against  Batting Order  Inn.  Strike Rate  \\\n",
       "7    141         Out  Australia              4     4          0.0   \n",
       "6    115         Out  Australia              4     2          0.0   \n",
       "\n",
       "           Venue    Column1   H/A       Date Result Format Man of the Match  \\\n",
       "7  Adelaide Oval   Adelaide  Away 2014-12-09   Lost   Test               No   \n",
       "6  Adelaide Oval   Adelaide  Away 2014-12-09   Lost   Test               No   \n",
       "\n",
       "  Captain  Format_century_no  Int_Century_count  \n",
       "7     Yes                  8                 28  \n",
       "6     Yes                  8                 29  "
      ]
     },
     "execution_count": 26,
     "metadata": {},
     "output_type": "execute_result"
    }
   ],
   "source": [
    "df[df['Date']=='2014-12-09']"
   ]
  },
  {
   "cell_type": "markdown",
   "id": "59a61584",
   "metadata": {
    "papermill": {
     "duration": 0.016544,
     "end_time": "2022-09-13T05:39:55.774536",
     "exception": false,
     "start_time": "2022-09-13T05:39:55.757992",
     "status": "completed"
    },
    "tags": []
   },
   "source": [
    "**At Adelaide Oval in 2014 against Australia Virat had complited 2 Centuries on Same date i.e. 09th Dec 2014 where he was leading the team but despite of his performance India have to lost the match.**\n",
    "\n",
    "    - In Second Inning Virat was batting at number 4 and got out on 115\n",
    "    - In Fourth Inning he was batting at number 4 and got out on 141"
   ]
  },
  {
   "cell_type": "markdown",
   "id": "e52884e5",
   "metadata": {
    "papermill": {
     "duration": 0.016589,
     "end_time": "2022-09-13T05:39:55.807415",
     "exception": false,
     "start_time": "2022-09-13T05:39:55.790826",
     "status": "completed"
    },
    "tags": []
   },
   "source": [
    "### MOM while Scoring Centuries"
   ]
  },
  {
   "cell_type": "code",
   "execution_count": 27,
   "id": "7ec6ba44",
   "metadata": {
    "execution": {
     "iopub.execute_input": "2022-09-13T05:39:55.843964Z",
     "iopub.status.busy": "2022-09-13T05:39:55.843299Z",
     "iopub.status.idle": "2022-09-13T05:39:55.851519Z",
     "shell.execute_reply": "2022-09-13T05:39:55.850311Z"
    },
    "papermill": {
     "duration": 0.029571,
     "end_time": "2022-09-13T05:39:55.854157",
     "exception": false,
     "start_time": "2022-09-13T05:39:55.824586",
     "status": "completed"
    },
    "tags": []
   },
   "outputs": [],
   "source": [
    "mom_cen = df.groupby(['Format','Man of the Match'])['Score'].count().reset_index()"
   ]
  },
  {
   "cell_type": "code",
   "execution_count": 28,
   "id": "7971bdee",
   "metadata": {
    "execution": {
     "iopub.execute_input": "2022-09-13T05:39:55.888738Z",
     "iopub.status.busy": "2022-09-13T05:39:55.888274Z",
     "iopub.status.idle": "2022-09-13T05:39:56.012824Z",
     "shell.execute_reply": "2022-09-13T05:39:56.011509Z"
    },
    "papermill": {
     "duration": 0.145779,
     "end_time": "2022-09-13T05:39:56.016236",
     "exception": false,
     "start_time": "2022-09-13T05:39:55.870457",
     "status": "completed"
    },
    "tags": []
   },
   "outputs": [
    {
     "data": {
      "text/html": [
       "<div>                            <div id=\"416604c3-d792-4663-b347-6baa36e3da50\" class=\"plotly-graph-div\" style=\"height:525px; width:100%;\"></div>            <script type=\"text/javascript\">                require([\"plotly\"], function(Plotly) {                    window.PLOTLYENV=window.PLOTLYENV || {};                                    if (document.getElementById(\"416604c3-d792-4663-b347-6baa36e3da50\")) {                    Plotly.newPlot(                        \"416604c3-d792-4663-b347-6baa36e3da50\",                        [{\"branchvalues\":\"total\",\"domain\":{\"x\":[0.0,1.0],\"y\":[0.0,1.0]},\"hovertemplate\":\"labels=%{label}<br>Score=%{value}<br>parent=%{parent}<br>id=%{id}<extra></extra>\",\"ids\":[\"T20I/Yes/1\",\"Test/Yes/8\",\"ODI/No/14\",\"Test/No/19\",\"ODI/Yes/29\",\"ODI/No\",\"Test/No\",\"ODI/Yes\",\"T20I/Yes\",\"Test/Yes\",\"ODI\",\"T20I\",\"Test\"],\"labels\":[\"1\",\"8\",\"14\",\"19\",\"29\",\"No\",\"No\",\"Yes\",\"Yes\",\"Yes\",\"ODI\",\"T20I\",\"Test\"],\"name\":\"\",\"parents\":[\"T20I/Yes\",\"Test/Yes\",\"ODI/No\",\"Test/No\",\"ODI/Yes\",\"ODI\",\"Test\",\"ODI\",\"T20I\",\"Test\",\"\",\"\",\"\"],\"values\":[1,8,14,19,29,14,19,29,1,8,43,1,27],\"type\":\"sunburst\"}],                        {\"template\":{\"data\":{\"histogram2dcontour\":[{\"type\":\"histogram2dcontour\",\"colorbar\":{\"outlinewidth\":0,\"ticks\":\"\"},\"colorscale\":[[0.0,\"#0d0887\"],[0.1111111111111111,\"#46039f\"],[0.2222222222222222,\"#7201a8\"],[0.3333333333333333,\"#9c179e\"],[0.4444444444444444,\"#bd3786\"],[0.5555555555555556,\"#d8576b\"],[0.6666666666666666,\"#ed7953\"],[0.7777777777777778,\"#fb9f3a\"],[0.8888888888888888,\"#fdca26\"],[1.0,\"#f0f921\"]]}],\"choropleth\":[{\"type\":\"choropleth\",\"colorbar\":{\"outlinewidth\":0,\"ticks\":\"\"}}],\"histogram2d\":[{\"type\":\"histogram2d\",\"colorbar\":{\"outlinewidth\":0,\"ticks\":\"\"},\"colorscale\":[[0.0,\"#0d0887\"],[0.1111111111111111,\"#46039f\"],[0.2222222222222222,\"#7201a8\"],[0.3333333333333333,\"#9c179e\"],[0.4444444444444444,\"#bd3786\"],[0.5555555555555556,\"#d8576b\"],[0.6666666666666666,\"#ed7953\"],[0.7777777777777778,\"#fb9f3a\"],[0.8888888888888888,\"#fdca26\"],[1.0,\"#f0f921\"]]}],\"heatmap\":[{\"type\":\"heatmap\",\"colorbar\":{\"outlinewidth\":0,\"ticks\":\"\"},\"colorscale\":[[0.0,\"#0d0887\"],[0.1111111111111111,\"#46039f\"],[0.2222222222222222,\"#7201a8\"],[0.3333333333333333,\"#9c179e\"],[0.4444444444444444,\"#bd3786\"],[0.5555555555555556,\"#d8576b\"],[0.6666666666666666,\"#ed7953\"],[0.7777777777777778,\"#fb9f3a\"],[0.8888888888888888,\"#fdca26\"],[1.0,\"#f0f921\"]]}],\"heatmapgl\":[{\"type\":\"heatmapgl\",\"colorbar\":{\"outlinewidth\":0,\"ticks\":\"\"},\"colorscale\":[[0.0,\"#0d0887\"],[0.1111111111111111,\"#46039f\"],[0.2222222222222222,\"#7201a8\"],[0.3333333333333333,\"#9c179e\"],[0.4444444444444444,\"#bd3786\"],[0.5555555555555556,\"#d8576b\"],[0.6666666666666666,\"#ed7953\"],[0.7777777777777778,\"#fb9f3a\"],[0.8888888888888888,\"#fdca26\"],[1.0,\"#f0f921\"]]}],\"contourcarpet\":[{\"type\":\"contourcarpet\",\"colorbar\":{\"outlinewidth\":0,\"ticks\":\"\"}}],\"contour\":[{\"type\":\"contour\",\"colorbar\":{\"outlinewidth\":0,\"ticks\":\"\"},\"colorscale\":[[0.0,\"#0d0887\"],[0.1111111111111111,\"#46039f\"],[0.2222222222222222,\"#7201a8\"],[0.3333333333333333,\"#9c179e\"],[0.4444444444444444,\"#bd3786\"],[0.5555555555555556,\"#d8576b\"],[0.6666666666666666,\"#ed7953\"],[0.7777777777777778,\"#fb9f3a\"],[0.8888888888888888,\"#fdca26\"],[1.0,\"#f0f921\"]]}],\"surface\":[{\"type\":\"surface\",\"colorbar\":{\"outlinewidth\":0,\"ticks\":\"\"},\"colorscale\":[[0.0,\"#0d0887\"],[0.1111111111111111,\"#46039f\"],[0.2222222222222222,\"#7201a8\"],[0.3333333333333333,\"#9c179e\"],[0.4444444444444444,\"#bd3786\"],[0.5555555555555556,\"#d8576b\"],[0.6666666666666666,\"#ed7953\"],[0.7777777777777778,\"#fb9f3a\"],[0.8888888888888888,\"#fdca26\"],[1.0,\"#f0f921\"]]}],\"mesh3d\":[{\"type\":\"mesh3d\",\"colorbar\":{\"outlinewidth\":0,\"ticks\":\"\"}}],\"scatter\":[{\"fillpattern\":{\"fillmode\":\"overlay\",\"size\":10,\"solidity\":0.2},\"type\":\"scatter\"}],\"parcoords\":[{\"type\":\"parcoords\",\"line\":{\"colorbar\":{\"outlinewidth\":0,\"ticks\":\"\"}}}],\"scatterpolargl\":[{\"type\":\"scatterpolargl\",\"marker\":{\"colorbar\":{\"outlinewidth\":0,\"ticks\":\"\"}}}],\"bar\":[{\"error_x\":{\"color\":\"#2a3f5f\"},\"error_y\":{\"color\":\"#2a3f5f\"},\"marker\":{\"line\":{\"color\":\"#E5ECF6\",\"width\":0.5},\"pattern\":{\"fillmode\":\"overlay\",\"size\":10,\"solidity\":0.2}},\"type\":\"bar\"}],\"scattergeo\":[{\"type\":\"scattergeo\",\"marker\":{\"colorbar\":{\"outlinewidth\":0,\"ticks\":\"\"}}}],\"scatterpolar\":[{\"type\":\"scatterpolar\",\"marker\":{\"colorbar\":{\"outlinewidth\":0,\"ticks\":\"\"}}}],\"histogram\":[{\"marker\":{\"pattern\":{\"fillmode\":\"overlay\",\"size\":10,\"solidity\":0.2}},\"type\":\"histogram\"}],\"scattergl\":[{\"type\":\"scattergl\",\"marker\":{\"colorbar\":{\"outlinewidth\":0,\"ticks\":\"\"}}}],\"scatter3d\":[{\"type\":\"scatter3d\",\"line\":{\"colorbar\":{\"outlinewidth\":0,\"ticks\":\"\"}},\"marker\":{\"colorbar\":{\"outlinewidth\":0,\"ticks\":\"\"}}}],\"scattermapbox\":[{\"type\":\"scattermapbox\",\"marker\":{\"colorbar\":{\"outlinewidth\":0,\"ticks\":\"\"}}}],\"scatterternary\":[{\"type\":\"scatterternary\",\"marker\":{\"colorbar\":{\"outlinewidth\":0,\"ticks\":\"\"}}}],\"scattercarpet\":[{\"type\":\"scattercarpet\",\"marker\":{\"colorbar\":{\"outlinewidth\":0,\"ticks\":\"\"}}}],\"carpet\":[{\"aaxis\":{\"endlinecolor\":\"#2a3f5f\",\"gridcolor\":\"white\",\"linecolor\":\"white\",\"minorgridcolor\":\"white\",\"startlinecolor\":\"#2a3f5f\"},\"baxis\":{\"endlinecolor\":\"#2a3f5f\",\"gridcolor\":\"white\",\"linecolor\":\"white\",\"minorgridcolor\":\"white\",\"startlinecolor\":\"#2a3f5f\"},\"type\":\"carpet\"}],\"table\":[{\"cells\":{\"fill\":{\"color\":\"#EBF0F8\"},\"line\":{\"color\":\"white\"}},\"header\":{\"fill\":{\"color\":\"#C8D4E3\"},\"line\":{\"color\":\"white\"}},\"type\":\"table\"}],\"barpolar\":[{\"marker\":{\"line\":{\"color\":\"#E5ECF6\",\"width\":0.5},\"pattern\":{\"fillmode\":\"overlay\",\"size\":10,\"solidity\":0.2}},\"type\":\"barpolar\"}],\"pie\":[{\"automargin\":true,\"type\":\"pie\"}]},\"layout\":{\"autotypenumbers\":\"strict\",\"colorway\":[\"#636efa\",\"#EF553B\",\"#00cc96\",\"#ab63fa\",\"#FFA15A\",\"#19d3f3\",\"#FF6692\",\"#B6E880\",\"#FF97FF\",\"#FECB52\"],\"font\":{\"color\":\"#2a3f5f\"},\"hovermode\":\"closest\",\"hoverlabel\":{\"align\":\"left\"},\"paper_bgcolor\":\"white\",\"plot_bgcolor\":\"#E5ECF6\",\"polar\":{\"bgcolor\":\"#E5ECF6\",\"angularaxis\":{\"gridcolor\":\"white\",\"linecolor\":\"white\",\"ticks\":\"\"},\"radialaxis\":{\"gridcolor\":\"white\",\"linecolor\":\"white\",\"ticks\":\"\"}},\"ternary\":{\"bgcolor\":\"#E5ECF6\",\"aaxis\":{\"gridcolor\":\"white\",\"linecolor\":\"white\",\"ticks\":\"\"},\"baxis\":{\"gridcolor\":\"white\",\"linecolor\":\"white\",\"ticks\":\"\"},\"caxis\":{\"gridcolor\":\"white\",\"linecolor\":\"white\",\"ticks\":\"\"}},\"coloraxis\":{\"colorbar\":{\"outlinewidth\":0,\"ticks\":\"\"}},\"colorscale\":{\"sequential\":[[0.0,\"#0d0887\"],[0.1111111111111111,\"#46039f\"],[0.2222222222222222,\"#7201a8\"],[0.3333333333333333,\"#9c179e\"],[0.4444444444444444,\"#bd3786\"],[0.5555555555555556,\"#d8576b\"],[0.6666666666666666,\"#ed7953\"],[0.7777777777777778,\"#fb9f3a\"],[0.8888888888888888,\"#fdca26\"],[1.0,\"#f0f921\"]],\"sequentialminus\":[[0.0,\"#0d0887\"],[0.1111111111111111,\"#46039f\"],[0.2222222222222222,\"#7201a8\"],[0.3333333333333333,\"#9c179e\"],[0.4444444444444444,\"#bd3786\"],[0.5555555555555556,\"#d8576b\"],[0.6666666666666666,\"#ed7953\"],[0.7777777777777778,\"#fb9f3a\"],[0.8888888888888888,\"#fdca26\"],[1.0,\"#f0f921\"]],\"diverging\":[[0,\"#8e0152\"],[0.1,\"#c51b7d\"],[0.2,\"#de77ae\"],[0.3,\"#f1b6da\"],[0.4,\"#fde0ef\"],[0.5,\"#f7f7f7\"],[0.6,\"#e6f5d0\"],[0.7,\"#b8e186\"],[0.8,\"#7fbc41\"],[0.9,\"#4d9221\"],[1,\"#276419\"]]},\"xaxis\":{\"gridcolor\":\"white\",\"linecolor\":\"white\",\"ticks\":\"\",\"title\":{\"standoff\":15},\"zerolinecolor\":\"white\",\"automargin\":true,\"zerolinewidth\":2},\"yaxis\":{\"gridcolor\":\"white\",\"linecolor\":\"white\",\"ticks\":\"\",\"title\":{\"standoff\":15},\"zerolinecolor\":\"white\",\"automargin\":true,\"zerolinewidth\":2},\"scene\":{\"xaxis\":{\"backgroundcolor\":\"#E5ECF6\",\"gridcolor\":\"white\",\"linecolor\":\"white\",\"showbackground\":true,\"ticks\":\"\",\"zerolinecolor\":\"white\",\"gridwidth\":2},\"yaxis\":{\"backgroundcolor\":\"#E5ECF6\",\"gridcolor\":\"white\",\"linecolor\":\"white\",\"showbackground\":true,\"ticks\":\"\",\"zerolinecolor\":\"white\",\"gridwidth\":2},\"zaxis\":{\"backgroundcolor\":\"#E5ECF6\",\"gridcolor\":\"white\",\"linecolor\":\"white\",\"showbackground\":true,\"ticks\":\"\",\"zerolinecolor\":\"white\",\"gridwidth\":2}},\"shapedefaults\":{\"line\":{\"color\":\"#2a3f5f\"}},\"annotationdefaults\":{\"arrowcolor\":\"#2a3f5f\",\"arrowhead\":0,\"arrowwidth\":1},\"geo\":{\"bgcolor\":\"white\",\"landcolor\":\"#E5ECF6\",\"subunitcolor\":\"white\",\"showland\":true,\"showlakes\":true,\"lakecolor\":\"white\"},\"title\":{\"x\":0.05},\"mapbox\":{\"style\":\"light\"}}},\"legend\":{\"tracegroupgap\":0},\"margin\":{\"t\":60},\"title\":{\"text\":\"Number of Centuries\",\"x\":0.5}},                        {\"responsive\": true}                    ).then(function(){\n",
       "                            \n",
       "var gd = document.getElementById('416604c3-d792-4663-b347-6baa36e3da50');\n",
       "var x = new MutationObserver(function (mutations, observer) {{\n",
       "        var display = window.getComputedStyle(gd).display;\n",
       "        if (!display || display === 'none') {{\n",
       "            console.log([gd, 'removed!']);\n",
       "            Plotly.purge(gd);\n",
       "            observer.disconnect();\n",
       "        }}\n",
       "}});\n",
       "\n",
       "// Listen for the removal of the full notebook cells\n",
       "var notebookContainer = gd.closest('#notebook-container');\n",
       "if (notebookContainer) {{\n",
       "    x.observe(notebookContainer, {childList: true});\n",
       "}}\n",
       "\n",
       "// Listen for the clearing of the current output cell\n",
       "var outputEl = gd.closest('.output');\n",
       "if (outputEl) {{\n",
       "    x.observe(outputEl, {childList: true});\n",
       "}}\n",
       "\n",
       "                        })                };                });            </script>        </div>"
      ]
     },
     "metadata": {},
     "output_type": "display_data"
    }
   ],
   "source": [
    "fig = px.sunburst(mom_cen,path=['Format','Man of the Match','Score'],values='Score')\n",
    "fig.update_layout(title='Number of Centuries',title_x=0.5)\n"
   ]
  },
  {
   "cell_type": "markdown",
   "id": "ca5b4f51",
   "metadata": {
    "papermill": {
     "duration": 0.01678,
     "end_time": "2022-09-13T05:39:56.050412",
     "exception": false,
     "start_time": "2022-09-13T05:39:56.033632",
     "status": "completed"
    },
    "tags": []
   },
   "source": [
    "**Observtions:**\n",
    "\n",
    "* **ODIs** : Out of his 43 Centuries in ODI he won MOM 29 times.\n",
    "* **TESTs** : Out of his 27 Centuries in TEST he won MOM 8 times.\n",
    "* **T20Is** : He was awarded MOM for his Maiden T20I Ton."
   ]
  },
  {
   "cell_type": "markdown",
   "id": "3020c93f",
   "metadata": {
    "papermill": {
     "duration": 0.016807,
     "end_time": "2022-09-13T05:39:56.084412",
     "exception": false,
     "start_time": "2022-09-13T05:39:56.067605",
     "status": "completed"
    },
    "tags": []
   },
   "source": [
    "### Win Percent and Virat's Centuries"
   ]
  },
  {
   "cell_type": "code",
   "execution_count": 29,
   "id": "8e7878a8",
   "metadata": {
    "execution": {
     "iopub.execute_input": "2022-09-13T05:39:56.120280Z",
     "iopub.status.busy": "2022-09-13T05:39:56.119227Z",
     "iopub.status.idle": "2022-09-13T05:39:56.128431Z",
     "shell.execute_reply": "2022-09-13T05:39:56.127547Z"
    },
    "papermill": {
     "duration": 0.030003,
     "end_time": "2022-09-13T05:39:56.130996",
     "exception": false,
     "start_time": "2022-09-13T05:39:56.100993",
     "status": "completed"
    },
    "tags": []
   },
   "outputs": [],
   "source": [
    "ton_win = df.groupby(['Result','Format'])['Score'].count().reset_index()"
   ]
  },
  {
   "cell_type": "code",
   "execution_count": 30,
   "id": "f9d859e1",
   "metadata": {
    "execution": {
     "iopub.execute_input": "2022-09-13T05:39:56.167358Z",
     "iopub.status.busy": "2022-09-13T05:39:56.166696Z",
     "iopub.status.idle": "2022-09-13T05:39:56.252992Z",
     "shell.execute_reply": "2022-09-13T05:39:56.251794Z"
    },
    "papermill": {
     "duration": 0.10737,
     "end_time": "2022-09-13T05:39:56.256031",
     "exception": false,
     "start_time": "2022-09-13T05:39:56.148661",
     "status": "completed"
    },
    "tags": []
   },
   "outputs": [
    {
     "data": {
      "text/html": [
       "<div>                            <div id=\"940cb211-3fc5-41e3-8614-e3efc23bc090\" class=\"plotly-graph-div\" style=\"height:525px; width:100%;\"></div>            <script type=\"text/javascript\">                require([\"plotly\"], function(Plotly) {                    window.PLOTLYENV=window.PLOTLYENV || {};                                    if (document.getElementById(\"940cb211-3fc5-41e3-8614-e3efc23bc090\")) {                    Plotly.newPlot(                        \"940cb211-3fc5-41e3-8614-e3efc23bc090\",                        [{\"branchvalues\":\"total\",\"domain\":{\"x\":[0.0,1.0],\"y\":[0.0,1.0]},\"hovertemplate\":\"labels=%{label}<br>Score=%{value}<br>parent=%{parent}<br>id=%{id}<extra></extra>\",\"ids\":[\"Test/Drawn\",\"ODI/Lost\",\"Test/Lost\",\"ODI/Lost (D/L)\",\"ODI/Tied\",\"ODI/Won\",\"T20I/Won\",\"Test/Won\",\"ODI/Won (D/L)\",\"ODI\",\"T20I\",\"Test\"],\"labels\":[\"Drawn\",\"Lost\",\"Lost\",\"Lost (D/L)\",\"Tied\",\"Won\",\"Won\",\"Won\",\"Won (D/L)\",\"ODI\",\"T20I\",\"Test\"],\"name\":\"\",\"parents\":[\"Test\",\"ODI\",\"Test\",\"ODI\",\"ODI\",\"ODI\",\"T20I\",\"Test\",\"ODI\",\"\",\"\",\"\"],\"values\":[7,6,7,1,1,34,1,13,1,43,1,27],\"type\":\"sunburst\",\"textinfo\":\"label+percent parent\"}],                        {\"template\":{\"data\":{\"histogram2dcontour\":[{\"type\":\"histogram2dcontour\",\"colorbar\":{\"outlinewidth\":0,\"ticks\":\"\"},\"colorscale\":[[0.0,\"#0d0887\"],[0.1111111111111111,\"#46039f\"],[0.2222222222222222,\"#7201a8\"],[0.3333333333333333,\"#9c179e\"],[0.4444444444444444,\"#bd3786\"],[0.5555555555555556,\"#d8576b\"],[0.6666666666666666,\"#ed7953\"],[0.7777777777777778,\"#fb9f3a\"],[0.8888888888888888,\"#fdca26\"],[1.0,\"#f0f921\"]]}],\"choropleth\":[{\"type\":\"choropleth\",\"colorbar\":{\"outlinewidth\":0,\"ticks\":\"\"}}],\"histogram2d\":[{\"type\":\"histogram2d\",\"colorbar\":{\"outlinewidth\":0,\"ticks\":\"\"},\"colorscale\":[[0.0,\"#0d0887\"],[0.1111111111111111,\"#46039f\"],[0.2222222222222222,\"#7201a8\"],[0.3333333333333333,\"#9c179e\"],[0.4444444444444444,\"#bd3786\"],[0.5555555555555556,\"#d8576b\"],[0.6666666666666666,\"#ed7953\"],[0.7777777777777778,\"#fb9f3a\"],[0.8888888888888888,\"#fdca26\"],[1.0,\"#f0f921\"]]}],\"heatmap\":[{\"type\":\"heatmap\",\"colorbar\":{\"outlinewidth\":0,\"ticks\":\"\"},\"colorscale\":[[0.0,\"#0d0887\"],[0.1111111111111111,\"#46039f\"],[0.2222222222222222,\"#7201a8\"],[0.3333333333333333,\"#9c179e\"],[0.4444444444444444,\"#bd3786\"],[0.5555555555555556,\"#d8576b\"],[0.6666666666666666,\"#ed7953\"],[0.7777777777777778,\"#fb9f3a\"],[0.8888888888888888,\"#fdca26\"],[1.0,\"#f0f921\"]]}],\"heatmapgl\":[{\"type\":\"heatmapgl\",\"colorbar\":{\"outlinewidth\":0,\"ticks\":\"\"},\"colorscale\":[[0.0,\"#0d0887\"],[0.1111111111111111,\"#46039f\"],[0.2222222222222222,\"#7201a8\"],[0.3333333333333333,\"#9c179e\"],[0.4444444444444444,\"#bd3786\"],[0.5555555555555556,\"#d8576b\"],[0.6666666666666666,\"#ed7953\"],[0.7777777777777778,\"#fb9f3a\"],[0.8888888888888888,\"#fdca26\"],[1.0,\"#f0f921\"]]}],\"contourcarpet\":[{\"type\":\"contourcarpet\",\"colorbar\":{\"outlinewidth\":0,\"ticks\":\"\"}}],\"contour\":[{\"type\":\"contour\",\"colorbar\":{\"outlinewidth\":0,\"ticks\":\"\"},\"colorscale\":[[0.0,\"#0d0887\"],[0.1111111111111111,\"#46039f\"],[0.2222222222222222,\"#7201a8\"],[0.3333333333333333,\"#9c179e\"],[0.4444444444444444,\"#bd3786\"],[0.5555555555555556,\"#d8576b\"],[0.6666666666666666,\"#ed7953\"],[0.7777777777777778,\"#fb9f3a\"],[0.8888888888888888,\"#fdca26\"],[1.0,\"#f0f921\"]]}],\"surface\":[{\"type\":\"surface\",\"colorbar\":{\"outlinewidth\":0,\"ticks\":\"\"},\"colorscale\":[[0.0,\"#0d0887\"],[0.1111111111111111,\"#46039f\"],[0.2222222222222222,\"#7201a8\"],[0.3333333333333333,\"#9c179e\"],[0.4444444444444444,\"#bd3786\"],[0.5555555555555556,\"#d8576b\"],[0.6666666666666666,\"#ed7953\"],[0.7777777777777778,\"#fb9f3a\"],[0.8888888888888888,\"#fdca26\"],[1.0,\"#f0f921\"]]}],\"mesh3d\":[{\"type\":\"mesh3d\",\"colorbar\":{\"outlinewidth\":0,\"ticks\":\"\"}}],\"scatter\":[{\"fillpattern\":{\"fillmode\":\"overlay\",\"size\":10,\"solidity\":0.2},\"type\":\"scatter\"}],\"parcoords\":[{\"type\":\"parcoords\",\"line\":{\"colorbar\":{\"outlinewidth\":0,\"ticks\":\"\"}}}],\"scatterpolargl\":[{\"type\":\"scatterpolargl\",\"marker\":{\"colorbar\":{\"outlinewidth\":0,\"ticks\":\"\"}}}],\"bar\":[{\"error_x\":{\"color\":\"#2a3f5f\"},\"error_y\":{\"color\":\"#2a3f5f\"},\"marker\":{\"line\":{\"color\":\"#E5ECF6\",\"width\":0.5},\"pattern\":{\"fillmode\":\"overlay\",\"size\":10,\"solidity\":0.2}},\"type\":\"bar\"}],\"scattergeo\":[{\"type\":\"scattergeo\",\"marker\":{\"colorbar\":{\"outlinewidth\":0,\"ticks\":\"\"}}}],\"scatterpolar\":[{\"type\":\"scatterpolar\",\"marker\":{\"colorbar\":{\"outlinewidth\":0,\"ticks\":\"\"}}}],\"histogram\":[{\"marker\":{\"pattern\":{\"fillmode\":\"overlay\",\"size\":10,\"solidity\":0.2}},\"type\":\"histogram\"}],\"scattergl\":[{\"type\":\"scattergl\",\"marker\":{\"colorbar\":{\"outlinewidth\":0,\"ticks\":\"\"}}}],\"scatter3d\":[{\"type\":\"scatter3d\",\"line\":{\"colorbar\":{\"outlinewidth\":0,\"ticks\":\"\"}},\"marker\":{\"colorbar\":{\"outlinewidth\":0,\"ticks\":\"\"}}}],\"scattermapbox\":[{\"type\":\"scattermapbox\",\"marker\":{\"colorbar\":{\"outlinewidth\":0,\"ticks\":\"\"}}}],\"scatterternary\":[{\"type\":\"scatterternary\",\"marker\":{\"colorbar\":{\"outlinewidth\":0,\"ticks\":\"\"}}}],\"scattercarpet\":[{\"type\":\"scattercarpet\",\"marker\":{\"colorbar\":{\"outlinewidth\":0,\"ticks\":\"\"}}}],\"carpet\":[{\"aaxis\":{\"endlinecolor\":\"#2a3f5f\",\"gridcolor\":\"white\",\"linecolor\":\"white\",\"minorgridcolor\":\"white\",\"startlinecolor\":\"#2a3f5f\"},\"baxis\":{\"endlinecolor\":\"#2a3f5f\",\"gridcolor\":\"white\",\"linecolor\":\"white\",\"minorgridcolor\":\"white\",\"startlinecolor\":\"#2a3f5f\"},\"type\":\"carpet\"}],\"table\":[{\"cells\":{\"fill\":{\"color\":\"#EBF0F8\"},\"line\":{\"color\":\"white\"}},\"header\":{\"fill\":{\"color\":\"#C8D4E3\"},\"line\":{\"color\":\"white\"}},\"type\":\"table\"}],\"barpolar\":[{\"marker\":{\"line\":{\"color\":\"#E5ECF6\",\"width\":0.5},\"pattern\":{\"fillmode\":\"overlay\",\"size\":10,\"solidity\":0.2}},\"type\":\"barpolar\"}],\"pie\":[{\"automargin\":true,\"type\":\"pie\"}]},\"layout\":{\"autotypenumbers\":\"strict\",\"colorway\":[\"#636efa\",\"#EF553B\",\"#00cc96\",\"#ab63fa\",\"#FFA15A\",\"#19d3f3\",\"#FF6692\",\"#B6E880\",\"#FF97FF\",\"#FECB52\"],\"font\":{\"color\":\"#2a3f5f\"},\"hovermode\":\"closest\",\"hoverlabel\":{\"align\":\"left\"},\"paper_bgcolor\":\"white\",\"plot_bgcolor\":\"#E5ECF6\",\"polar\":{\"bgcolor\":\"#E5ECF6\",\"angularaxis\":{\"gridcolor\":\"white\",\"linecolor\":\"white\",\"ticks\":\"\"},\"radialaxis\":{\"gridcolor\":\"white\",\"linecolor\":\"white\",\"ticks\":\"\"}},\"ternary\":{\"bgcolor\":\"#E5ECF6\",\"aaxis\":{\"gridcolor\":\"white\",\"linecolor\":\"white\",\"ticks\":\"\"},\"baxis\":{\"gridcolor\":\"white\",\"linecolor\":\"white\",\"ticks\":\"\"},\"caxis\":{\"gridcolor\":\"white\",\"linecolor\":\"white\",\"ticks\":\"\"}},\"coloraxis\":{\"colorbar\":{\"outlinewidth\":0,\"ticks\":\"\"}},\"colorscale\":{\"sequential\":[[0.0,\"#0d0887\"],[0.1111111111111111,\"#46039f\"],[0.2222222222222222,\"#7201a8\"],[0.3333333333333333,\"#9c179e\"],[0.4444444444444444,\"#bd3786\"],[0.5555555555555556,\"#d8576b\"],[0.6666666666666666,\"#ed7953\"],[0.7777777777777778,\"#fb9f3a\"],[0.8888888888888888,\"#fdca26\"],[1.0,\"#f0f921\"]],\"sequentialminus\":[[0.0,\"#0d0887\"],[0.1111111111111111,\"#46039f\"],[0.2222222222222222,\"#7201a8\"],[0.3333333333333333,\"#9c179e\"],[0.4444444444444444,\"#bd3786\"],[0.5555555555555556,\"#d8576b\"],[0.6666666666666666,\"#ed7953\"],[0.7777777777777778,\"#fb9f3a\"],[0.8888888888888888,\"#fdca26\"],[1.0,\"#f0f921\"]],\"diverging\":[[0,\"#8e0152\"],[0.1,\"#c51b7d\"],[0.2,\"#de77ae\"],[0.3,\"#f1b6da\"],[0.4,\"#fde0ef\"],[0.5,\"#f7f7f7\"],[0.6,\"#e6f5d0\"],[0.7,\"#b8e186\"],[0.8,\"#7fbc41\"],[0.9,\"#4d9221\"],[1,\"#276419\"]]},\"xaxis\":{\"gridcolor\":\"white\",\"linecolor\":\"white\",\"ticks\":\"\",\"title\":{\"standoff\":15},\"zerolinecolor\":\"white\",\"automargin\":true,\"zerolinewidth\":2},\"yaxis\":{\"gridcolor\":\"white\",\"linecolor\":\"white\",\"ticks\":\"\",\"title\":{\"standoff\":15},\"zerolinecolor\":\"white\",\"automargin\":true,\"zerolinewidth\":2},\"scene\":{\"xaxis\":{\"backgroundcolor\":\"#E5ECF6\",\"gridcolor\":\"white\",\"linecolor\":\"white\",\"showbackground\":true,\"ticks\":\"\",\"zerolinecolor\":\"white\",\"gridwidth\":2},\"yaxis\":{\"backgroundcolor\":\"#E5ECF6\",\"gridcolor\":\"white\",\"linecolor\":\"white\",\"showbackground\":true,\"ticks\":\"\",\"zerolinecolor\":\"white\",\"gridwidth\":2},\"zaxis\":{\"backgroundcolor\":\"#E5ECF6\",\"gridcolor\":\"white\",\"linecolor\":\"white\",\"showbackground\":true,\"ticks\":\"\",\"zerolinecolor\":\"white\",\"gridwidth\":2}},\"shapedefaults\":{\"line\":{\"color\":\"#2a3f5f\"}},\"annotationdefaults\":{\"arrowcolor\":\"#2a3f5f\",\"arrowhead\":0,\"arrowwidth\":1},\"geo\":{\"bgcolor\":\"white\",\"landcolor\":\"#E5ECF6\",\"subunitcolor\":\"white\",\"showland\":true,\"showlakes\":true,\"lakecolor\":\"white\"},\"title\":{\"x\":0.05},\"mapbox\":{\"style\":\"light\"}}},\"legend\":{\"tracegroupgap\":0},\"margin\":{\"t\":60},\"title\":{\"text\":\"Winning and Losing pecentage of India in all three Formats w.r.t Virat's Century\",\"x\":0.5}},                        {\"responsive\": true}                    ).then(function(){\n",
       "                            \n",
       "var gd = document.getElementById('940cb211-3fc5-41e3-8614-e3efc23bc090');\n",
       "var x = new MutationObserver(function (mutations, observer) {{\n",
       "        var display = window.getComputedStyle(gd).display;\n",
       "        if (!display || display === 'none') {{\n",
       "            console.log([gd, 'removed!']);\n",
       "            Plotly.purge(gd);\n",
       "            observer.disconnect();\n",
       "        }}\n",
       "}});\n",
       "\n",
       "// Listen for the removal of the full notebook cells\n",
       "var notebookContainer = gd.closest('#notebook-container');\n",
       "if (notebookContainer) {{\n",
       "    x.observe(notebookContainer, {childList: true});\n",
       "}}\n",
       "\n",
       "// Listen for the clearing of the current output cell\n",
       "var outputEl = gd.closest('.output');\n",
       "if (outputEl) {{\n",
       "    x.observe(outputEl, {childList: true});\n",
       "}}\n",
       "\n",
       "                        })                };                });            </script>        </div>"
      ]
     },
     "metadata": {},
     "output_type": "display_data"
    }
   ],
   "source": [
    "fig = px.sunburst(ton_win,path=['Format','Result'],values='Score')\n",
    "fig.update_traces(textinfo=\"label+percent parent\")\n",
    "fig.update_layout(title=\"Winning and Losing pecentage of India in all three Formats w.r.t Virat's Century\",title_x=0.5)\n",
    "fig.show()"
   ]
  },
  {
   "cell_type": "markdown",
   "id": "db0a03cb",
   "metadata": {
    "papermill": {
     "duration": 0.017169,
     "end_time": "2022-09-13T05:39:56.290401",
     "exception": false,
     "start_time": "2022-09-13T05:39:56.273232",
     "status": "completed"
    },
    "tags": []
   },
   "source": [
    "**Observations:**\n",
    "* India had Won 81% of matches when Virat Scored Century in ODIs\n",
    "* India had Won 48% and Drawn 26% of matches when Virat Scored Century in TESTs"
   ]
  },
  {
   "cell_type": "code",
   "execution_count": 31,
   "id": "bbea4bc0",
   "metadata": {
    "execution": {
     "iopub.execute_input": "2022-09-13T05:39:56.326106Z",
     "iopub.status.busy": "2022-09-13T05:39:56.325058Z",
     "iopub.status.idle": "2022-09-13T05:39:56.335645Z",
     "shell.execute_reply": "2022-09-13T05:39:56.334622Z"
    },
    "papermill": {
     "duration": 0.031281,
     "end_time": "2022-09-13T05:39:56.338425",
     "exception": false,
     "start_time": "2022-09-13T05:39:56.307144",
     "status": "completed"
    },
    "tags": []
   },
   "outputs": [],
   "source": [
    "df_results_against = df.groupby(['Format','Result','Against'])['Score'].count().reset_index()"
   ]
  },
  {
   "cell_type": "code",
   "execution_count": 32,
   "id": "21a484ee",
   "metadata": {
    "execution": {
     "iopub.execute_input": "2022-09-13T05:39:56.374394Z",
     "iopub.status.busy": "2022-09-13T05:39:56.373628Z",
     "iopub.status.idle": "2022-09-13T05:39:56.479423Z",
     "shell.execute_reply": "2022-09-13T05:39:56.478161Z"
    },
    "papermill": {
     "duration": 0.126543,
     "end_time": "2022-09-13T05:39:56.482187",
     "exception": false,
     "start_time": "2022-09-13T05:39:56.355644",
     "status": "completed"
    },
    "tags": []
   },
   "outputs": [
    {
     "data": {
      "text/html": [
       "<div>                            <div id=\"3a249ff2-6a00-4756-9a2f-379e9a30d65d\" class=\"plotly-graph-div\" style=\"height:525px; width:100%;\"></div>            <script type=\"text/javascript\">                require([\"plotly\"], function(Plotly) {                    window.PLOTLYENV=window.PLOTLYENV || {};                                    if (document.getElementById(\"3a249ff2-6a00-4756-9a2f-379e9a30d65d\")) {                    Plotly.newPlot(                        \"3a249ff2-6a00-4756-9a2f-379e9a30d65d\",                        [{\"branchvalues\":\"total\",\"domain\":{\"x\":[0.0,1.0],\"y\":[0.0,1.0]},\"hovertemplate\":\"labels=%{label}<br>Score=%{value}<br>parent=%{parent}<br>id=%{id}<extra></extra>\",\"ids\":[\"T20I/Won/Afganistan\",\"Test/Drawn/Australia\",\"ODI/Lost/Australia\",\"Test/Lost/Australia\",\"ODI/Won/Australia\",\"Test/Won/Australia\",\"ODI/Won/Bangladesh\",\"Test/Won/Bangladesh\",\"Test/Drawn/England\",\"Test/Lost/England\",\"ODI/Lost (D/L)/England\",\"ODI/Won/England\",\"Test/Won/England\",\"Test/Drawn/New Zealand\",\"ODI/Lost/New Zealand\",\"ODI/Won/New Zealand\",\"Test/Won/New Zealand\",\"ODI/Won/Pakistan\",\"Test/Drawn/South Africa\",\"Test/Lost/South Africa\",\"ODI/Won/South Africa\",\"Test/Won/South Africa\",\"Test/Drawn/Sri Lanka\",\"Test/Lost/Sri Lanka\",\"ODI/Won/Sri Lanka\",\"Test/Won/Sri Lanka\",\"ODI/Lost/West Indies\",\"ODI/Tied/West Indies\",\"ODI/Won/West Indies\",\"Test/Won/West Indies\",\"ODI/Won (D/L)/West Indies\",\"ODI/Won/Zimbabwe\",\"Test/Drawn\",\"ODI/Lost\",\"Test/Lost\",\"ODI/Lost (D/L)\",\"ODI/Tied\",\"ODI/Won\",\"T20I/Won\",\"Test/Won\",\"ODI/Won (D/L)\",\"ODI\",\"T20I\",\"Test\"],\"labels\":[\"Afganistan\",\"Australia\",\"Australia\",\"Australia\",\"Australia\",\"Australia\",\"Bangladesh\",\"Bangladesh\",\"England\",\"England\",\"England\",\"England\",\"England\",\"New Zealand\",\"New Zealand\",\"New Zealand\",\"New Zealand\",\"Pakistan\",\"South Africa\",\"South Africa\",\"South Africa\",\"South Africa\",\"Sri Lanka\",\"Sri Lanka\",\"Sri Lanka\",\"Sri Lanka\",\"West Indies\",\"West Indies\",\"West Indies\",\"West Indies\",\"West Indies\",\"Zimbabwe\",\"Drawn\",\"Lost\",\"Lost\",\"Lost (D/L)\",\"Tied\",\"Won\",\"Won\",\"Won\",\"Won (D/L)\",\"ODI\",\"T20I\",\"Test\"],\"name\":\"\",\"parents\":[\"T20I/Won\",\"Test/Drawn\",\"ODI/Lost\",\"Test/Lost\",\"ODI/Won\",\"Test/Won\",\"ODI/Won\",\"Test/Won\",\"Test/Drawn\",\"Test/Lost\",\"ODI/Lost (D/L)\",\"ODI/Won\",\"Test/Won\",\"Test/Drawn\",\"ODI/Lost\",\"ODI/Won\",\"Test/Won\",\"ODI/Won\",\"Test/Drawn\",\"Test/Lost\",\"ODI/Won\",\"Test/Won\",\"Test/Drawn\",\"Test/Lost\",\"ODI/Won\",\"Test/Won\",\"ODI/Lost\",\"ODI/Tied\",\"ODI/Won\",\"Test/Won\",\"ODI/Won (D/L)\",\"ODI/Won\",\"Test\",\"ODI\",\"Test\",\"ODI\",\"ODI\",\"ODI\",\"T20I\",\"Test\",\"ODI\",\"\",\"\",\"\"],\"values\":[1,2,3,4,5,1,3,2,1,1,1,2,3,1,2,3,2,2,1,1,4,1,2,1,8,2,1,1,6,2,1,1,7,6,7,1,1,34,1,13,1,43,1,27],\"type\":\"sunburst\",\"textinfo\":\"label+percent parent\"}],                        {\"template\":{\"data\":{\"histogram2dcontour\":[{\"type\":\"histogram2dcontour\",\"colorbar\":{\"outlinewidth\":0,\"ticks\":\"\"},\"colorscale\":[[0.0,\"#0d0887\"],[0.1111111111111111,\"#46039f\"],[0.2222222222222222,\"#7201a8\"],[0.3333333333333333,\"#9c179e\"],[0.4444444444444444,\"#bd3786\"],[0.5555555555555556,\"#d8576b\"],[0.6666666666666666,\"#ed7953\"],[0.7777777777777778,\"#fb9f3a\"],[0.8888888888888888,\"#fdca26\"],[1.0,\"#f0f921\"]]}],\"choropleth\":[{\"type\":\"choropleth\",\"colorbar\":{\"outlinewidth\":0,\"ticks\":\"\"}}],\"histogram2d\":[{\"type\":\"histogram2d\",\"colorbar\":{\"outlinewidth\":0,\"ticks\":\"\"},\"colorscale\":[[0.0,\"#0d0887\"],[0.1111111111111111,\"#46039f\"],[0.2222222222222222,\"#7201a8\"],[0.3333333333333333,\"#9c179e\"],[0.4444444444444444,\"#bd3786\"],[0.5555555555555556,\"#d8576b\"],[0.6666666666666666,\"#ed7953\"],[0.7777777777777778,\"#fb9f3a\"],[0.8888888888888888,\"#fdca26\"],[1.0,\"#f0f921\"]]}],\"heatmap\":[{\"type\":\"heatmap\",\"colorbar\":{\"outlinewidth\":0,\"ticks\":\"\"},\"colorscale\":[[0.0,\"#0d0887\"],[0.1111111111111111,\"#46039f\"],[0.2222222222222222,\"#7201a8\"],[0.3333333333333333,\"#9c179e\"],[0.4444444444444444,\"#bd3786\"],[0.5555555555555556,\"#d8576b\"],[0.6666666666666666,\"#ed7953\"],[0.7777777777777778,\"#fb9f3a\"],[0.8888888888888888,\"#fdca26\"],[1.0,\"#f0f921\"]]}],\"heatmapgl\":[{\"type\":\"heatmapgl\",\"colorbar\":{\"outlinewidth\":0,\"ticks\":\"\"},\"colorscale\":[[0.0,\"#0d0887\"],[0.1111111111111111,\"#46039f\"],[0.2222222222222222,\"#7201a8\"],[0.3333333333333333,\"#9c179e\"],[0.4444444444444444,\"#bd3786\"],[0.5555555555555556,\"#d8576b\"],[0.6666666666666666,\"#ed7953\"],[0.7777777777777778,\"#fb9f3a\"],[0.8888888888888888,\"#fdca26\"],[1.0,\"#f0f921\"]]}],\"contourcarpet\":[{\"type\":\"contourcarpet\",\"colorbar\":{\"outlinewidth\":0,\"ticks\":\"\"}}],\"contour\":[{\"type\":\"contour\",\"colorbar\":{\"outlinewidth\":0,\"ticks\":\"\"},\"colorscale\":[[0.0,\"#0d0887\"],[0.1111111111111111,\"#46039f\"],[0.2222222222222222,\"#7201a8\"],[0.3333333333333333,\"#9c179e\"],[0.4444444444444444,\"#bd3786\"],[0.5555555555555556,\"#d8576b\"],[0.6666666666666666,\"#ed7953\"],[0.7777777777777778,\"#fb9f3a\"],[0.8888888888888888,\"#fdca26\"],[1.0,\"#f0f921\"]]}],\"surface\":[{\"type\":\"surface\",\"colorbar\":{\"outlinewidth\":0,\"ticks\":\"\"},\"colorscale\":[[0.0,\"#0d0887\"],[0.1111111111111111,\"#46039f\"],[0.2222222222222222,\"#7201a8\"],[0.3333333333333333,\"#9c179e\"],[0.4444444444444444,\"#bd3786\"],[0.5555555555555556,\"#d8576b\"],[0.6666666666666666,\"#ed7953\"],[0.7777777777777778,\"#fb9f3a\"],[0.8888888888888888,\"#fdca26\"],[1.0,\"#f0f921\"]]}],\"mesh3d\":[{\"type\":\"mesh3d\",\"colorbar\":{\"outlinewidth\":0,\"ticks\":\"\"}}],\"scatter\":[{\"fillpattern\":{\"fillmode\":\"overlay\",\"size\":10,\"solidity\":0.2},\"type\":\"scatter\"}],\"parcoords\":[{\"type\":\"parcoords\",\"line\":{\"colorbar\":{\"outlinewidth\":0,\"ticks\":\"\"}}}],\"scatterpolargl\":[{\"type\":\"scatterpolargl\",\"marker\":{\"colorbar\":{\"outlinewidth\":0,\"ticks\":\"\"}}}],\"bar\":[{\"error_x\":{\"color\":\"#2a3f5f\"},\"error_y\":{\"color\":\"#2a3f5f\"},\"marker\":{\"line\":{\"color\":\"#E5ECF6\",\"width\":0.5},\"pattern\":{\"fillmode\":\"overlay\",\"size\":10,\"solidity\":0.2}},\"type\":\"bar\"}],\"scattergeo\":[{\"type\":\"scattergeo\",\"marker\":{\"colorbar\":{\"outlinewidth\":0,\"ticks\":\"\"}}}],\"scatterpolar\":[{\"type\":\"scatterpolar\",\"marker\":{\"colorbar\":{\"outlinewidth\":0,\"ticks\":\"\"}}}],\"histogram\":[{\"marker\":{\"pattern\":{\"fillmode\":\"overlay\",\"size\":10,\"solidity\":0.2}},\"type\":\"histogram\"}],\"scattergl\":[{\"type\":\"scattergl\",\"marker\":{\"colorbar\":{\"outlinewidth\":0,\"ticks\":\"\"}}}],\"scatter3d\":[{\"type\":\"scatter3d\",\"line\":{\"colorbar\":{\"outlinewidth\":0,\"ticks\":\"\"}},\"marker\":{\"colorbar\":{\"outlinewidth\":0,\"ticks\":\"\"}}}],\"scattermapbox\":[{\"type\":\"scattermapbox\",\"marker\":{\"colorbar\":{\"outlinewidth\":0,\"ticks\":\"\"}}}],\"scatterternary\":[{\"type\":\"scatterternary\",\"marker\":{\"colorbar\":{\"outlinewidth\":0,\"ticks\":\"\"}}}],\"scattercarpet\":[{\"type\":\"scattercarpet\",\"marker\":{\"colorbar\":{\"outlinewidth\":0,\"ticks\":\"\"}}}],\"carpet\":[{\"aaxis\":{\"endlinecolor\":\"#2a3f5f\",\"gridcolor\":\"white\",\"linecolor\":\"white\",\"minorgridcolor\":\"white\",\"startlinecolor\":\"#2a3f5f\"},\"baxis\":{\"endlinecolor\":\"#2a3f5f\",\"gridcolor\":\"white\",\"linecolor\":\"white\",\"minorgridcolor\":\"white\",\"startlinecolor\":\"#2a3f5f\"},\"type\":\"carpet\"}],\"table\":[{\"cells\":{\"fill\":{\"color\":\"#EBF0F8\"},\"line\":{\"color\":\"white\"}},\"header\":{\"fill\":{\"color\":\"#C8D4E3\"},\"line\":{\"color\":\"white\"}},\"type\":\"table\"}],\"barpolar\":[{\"marker\":{\"line\":{\"color\":\"#E5ECF6\",\"width\":0.5},\"pattern\":{\"fillmode\":\"overlay\",\"size\":10,\"solidity\":0.2}},\"type\":\"barpolar\"}],\"pie\":[{\"automargin\":true,\"type\":\"pie\"}]},\"layout\":{\"autotypenumbers\":\"strict\",\"colorway\":[\"#636efa\",\"#EF553B\",\"#00cc96\",\"#ab63fa\",\"#FFA15A\",\"#19d3f3\",\"#FF6692\",\"#B6E880\",\"#FF97FF\",\"#FECB52\"],\"font\":{\"color\":\"#2a3f5f\"},\"hovermode\":\"closest\",\"hoverlabel\":{\"align\":\"left\"},\"paper_bgcolor\":\"white\",\"plot_bgcolor\":\"#E5ECF6\",\"polar\":{\"bgcolor\":\"#E5ECF6\",\"angularaxis\":{\"gridcolor\":\"white\",\"linecolor\":\"white\",\"ticks\":\"\"},\"radialaxis\":{\"gridcolor\":\"white\",\"linecolor\":\"white\",\"ticks\":\"\"}},\"ternary\":{\"bgcolor\":\"#E5ECF6\",\"aaxis\":{\"gridcolor\":\"white\",\"linecolor\":\"white\",\"ticks\":\"\"},\"baxis\":{\"gridcolor\":\"white\",\"linecolor\":\"white\",\"ticks\":\"\"},\"caxis\":{\"gridcolor\":\"white\",\"linecolor\":\"white\",\"ticks\":\"\"}},\"coloraxis\":{\"colorbar\":{\"outlinewidth\":0,\"ticks\":\"\"}},\"colorscale\":{\"sequential\":[[0.0,\"#0d0887\"],[0.1111111111111111,\"#46039f\"],[0.2222222222222222,\"#7201a8\"],[0.3333333333333333,\"#9c179e\"],[0.4444444444444444,\"#bd3786\"],[0.5555555555555556,\"#d8576b\"],[0.6666666666666666,\"#ed7953\"],[0.7777777777777778,\"#fb9f3a\"],[0.8888888888888888,\"#fdca26\"],[1.0,\"#f0f921\"]],\"sequentialminus\":[[0.0,\"#0d0887\"],[0.1111111111111111,\"#46039f\"],[0.2222222222222222,\"#7201a8\"],[0.3333333333333333,\"#9c179e\"],[0.4444444444444444,\"#bd3786\"],[0.5555555555555556,\"#d8576b\"],[0.6666666666666666,\"#ed7953\"],[0.7777777777777778,\"#fb9f3a\"],[0.8888888888888888,\"#fdca26\"],[1.0,\"#f0f921\"]],\"diverging\":[[0,\"#8e0152\"],[0.1,\"#c51b7d\"],[0.2,\"#de77ae\"],[0.3,\"#f1b6da\"],[0.4,\"#fde0ef\"],[0.5,\"#f7f7f7\"],[0.6,\"#e6f5d0\"],[0.7,\"#b8e186\"],[0.8,\"#7fbc41\"],[0.9,\"#4d9221\"],[1,\"#276419\"]]},\"xaxis\":{\"gridcolor\":\"white\",\"linecolor\":\"white\",\"ticks\":\"\",\"title\":{\"standoff\":15},\"zerolinecolor\":\"white\",\"automargin\":true,\"zerolinewidth\":2},\"yaxis\":{\"gridcolor\":\"white\",\"linecolor\":\"white\",\"ticks\":\"\",\"title\":{\"standoff\":15},\"zerolinecolor\":\"white\",\"automargin\":true,\"zerolinewidth\":2},\"scene\":{\"xaxis\":{\"backgroundcolor\":\"#E5ECF6\",\"gridcolor\":\"white\",\"linecolor\":\"white\",\"showbackground\":true,\"ticks\":\"\",\"zerolinecolor\":\"white\",\"gridwidth\":2},\"yaxis\":{\"backgroundcolor\":\"#E5ECF6\",\"gridcolor\":\"white\",\"linecolor\":\"white\",\"showbackground\":true,\"ticks\":\"\",\"zerolinecolor\":\"white\",\"gridwidth\":2},\"zaxis\":{\"backgroundcolor\":\"#E5ECF6\",\"gridcolor\":\"white\",\"linecolor\":\"white\",\"showbackground\":true,\"ticks\":\"\",\"zerolinecolor\":\"white\",\"gridwidth\":2}},\"shapedefaults\":{\"line\":{\"color\":\"#2a3f5f\"}},\"annotationdefaults\":{\"arrowcolor\":\"#2a3f5f\",\"arrowhead\":0,\"arrowwidth\":1},\"geo\":{\"bgcolor\":\"white\",\"landcolor\":\"#E5ECF6\",\"subunitcolor\":\"white\",\"showland\":true,\"showlakes\":true,\"lakecolor\":\"white\"},\"title\":{\"x\":0.05},\"mapbox\":{\"style\":\"light\"}}},\"legend\":{\"tracegroupgap\":0},\"margin\":{\"t\":60}},                        {\"responsive\": true}                    ).then(function(){\n",
       "                            \n",
       "var gd = document.getElementById('3a249ff2-6a00-4756-9a2f-379e9a30d65d');\n",
       "var x = new MutationObserver(function (mutations, observer) {{\n",
       "        var display = window.getComputedStyle(gd).display;\n",
       "        if (!display || display === 'none') {{\n",
       "            console.log([gd, 'removed!']);\n",
       "            Plotly.purge(gd);\n",
       "            observer.disconnect();\n",
       "        }}\n",
       "}});\n",
       "\n",
       "// Listen for the removal of the full notebook cells\n",
       "var notebookContainer = gd.closest('#notebook-container');\n",
       "if (notebookContainer) {{\n",
       "    x.observe(notebookContainer, {childList: true});\n",
       "}}\n",
       "\n",
       "// Listen for the clearing of the current output cell\n",
       "var outputEl = gd.closest('.output');\n",
       "if (outputEl) {{\n",
       "    x.observe(outputEl, {childList: true});\n",
       "}}\n",
       "\n",
       "                        })                };                });            </script>        </div>"
      ]
     },
     "metadata": {},
     "output_type": "display_data"
    }
   ],
   "source": [
    "fig = px.sunburst(df_results_against,path=['Format','Result','Against'],values='Score')\n",
    "fig.update_traces(textinfo=\"label+percent parent\")"
   ]
  },
  {
   "cell_type": "markdown",
   "id": "8bcc6b76",
   "metadata": {
    "papermill": {
     "duration": 0.016406,
     "end_time": "2022-09-13T05:39:56.515599",
     "exception": false,
     "start_time": "2022-09-13T05:39:56.499193",
     "status": "completed"
    },
    "tags": []
   },
   "source": [
    "**From the above plot one thing we can clearly observe and that is when ever india lost beside Kohli's Century maximum times opponent was Australia. So though Virat had scored maximum Centuries against Ausssies the Percentage of Winning is not maximum against them**"
   ]
  },
  {
   "cell_type": "markdown",
   "id": "26e6153a",
   "metadata": {
    "papermill": {
     "duration": 0.016458,
     "end_time": "2022-09-13T05:39:56.548939",
     "exception": false,
     "start_time": "2022-09-13T05:39:56.532481",
     "status": "completed"
    },
    "tags": []
   },
   "source": [
    "### Kohli's Centuries Aginst Aussies"
   ]
  },
  {
   "cell_type": "code",
   "execution_count": 33,
   "id": "772ce97e",
   "metadata": {
    "execution": {
     "iopub.execute_input": "2022-09-13T05:39:56.585208Z",
     "iopub.status.busy": "2022-09-13T05:39:56.584448Z",
     "iopub.status.idle": "2022-09-13T05:39:56.671737Z",
     "shell.execute_reply": "2022-09-13T05:39:56.670795Z"
    },
    "papermill": {
     "duration": 0.108749,
     "end_time": "2022-09-13T05:39:56.674379",
     "exception": false,
     "start_time": "2022-09-13T05:39:56.565630",
     "status": "completed"
    },
    "tags": []
   },
   "outputs": [
    {
     "data": {
      "text/html": [
       "<div>                            <div id=\"d4dac205-c0af-4a21-a649-22a56ca28a3c\" class=\"plotly-graph-div\" style=\"height:525px; width:100%;\"></div>            <script type=\"text/javascript\">                require([\"plotly\"], function(Plotly) {                    window.PLOTLYENV=window.PLOTLYENV || {};                                    if (document.getElementById(\"d4dac205-c0af-4a21-a649-22a56ca28a3c\")) {                    Plotly.newPlot(                        \"d4dac205-c0af-4a21-a649-22a56ca28a3c\",                        [{\"branchvalues\":\"total\",\"domain\":{\"x\":[0.0,1.0],\"y\":[0.0,1.0]},\"hovertemplate\":\"labels=%{label}<br>Score=%{value}<br>parent=%{parent}<br>id=%{id}<extra></extra>\",\"ids\":[\"Test/Drawn\",\"ODI/Lost\",\"Test/Lost\",\"ODI/Won\",\"Test/Won\",\"ODI\",\"Test\"],\"labels\":[\"Drawn\",\"Lost\",\"Lost\",\"Won\",\"Won\",\"ODI\",\"Test\"],\"name\":\"\",\"parents\":[\"Test\",\"ODI\",\"Test\",\"ODI\",\"Test\",\"\",\"\"],\"values\":[2,3,4,5,1,8,7],\"type\":\"sunburst\",\"textinfo\":\"label+percent parent\"}],                        {\"template\":{\"data\":{\"histogram2dcontour\":[{\"type\":\"histogram2dcontour\",\"colorbar\":{\"outlinewidth\":0,\"ticks\":\"\"},\"colorscale\":[[0.0,\"#0d0887\"],[0.1111111111111111,\"#46039f\"],[0.2222222222222222,\"#7201a8\"],[0.3333333333333333,\"#9c179e\"],[0.4444444444444444,\"#bd3786\"],[0.5555555555555556,\"#d8576b\"],[0.6666666666666666,\"#ed7953\"],[0.7777777777777778,\"#fb9f3a\"],[0.8888888888888888,\"#fdca26\"],[1.0,\"#f0f921\"]]}],\"choropleth\":[{\"type\":\"choropleth\",\"colorbar\":{\"outlinewidth\":0,\"ticks\":\"\"}}],\"histogram2d\":[{\"type\":\"histogram2d\",\"colorbar\":{\"outlinewidth\":0,\"ticks\":\"\"},\"colorscale\":[[0.0,\"#0d0887\"],[0.1111111111111111,\"#46039f\"],[0.2222222222222222,\"#7201a8\"],[0.3333333333333333,\"#9c179e\"],[0.4444444444444444,\"#bd3786\"],[0.5555555555555556,\"#d8576b\"],[0.6666666666666666,\"#ed7953\"],[0.7777777777777778,\"#fb9f3a\"],[0.8888888888888888,\"#fdca26\"],[1.0,\"#f0f921\"]]}],\"heatmap\":[{\"type\":\"heatmap\",\"colorbar\":{\"outlinewidth\":0,\"ticks\":\"\"},\"colorscale\":[[0.0,\"#0d0887\"],[0.1111111111111111,\"#46039f\"],[0.2222222222222222,\"#7201a8\"],[0.3333333333333333,\"#9c179e\"],[0.4444444444444444,\"#bd3786\"],[0.5555555555555556,\"#d8576b\"],[0.6666666666666666,\"#ed7953\"],[0.7777777777777778,\"#fb9f3a\"],[0.8888888888888888,\"#fdca26\"],[1.0,\"#f0f921\"]]}],\"heatmapgl\":[{\"type\":\"heatmapgl\",\"colorbar\":{\"outlinewidth\":0,\"ticks\":\"\"},\"colorscale\":[[0.0,\"#0d0887\"],[0.1111111111111111,\"#46039f\"],[0.2222222222222222,\"#7201a8\"],[0.3333333333333333,\"#9c179e\"],[0.4444444444444444,\"#bd3786\"],[0.5555555555555556,\"#d8576b\"],[0.6666666666666666,\"#ed7953\"],[0.7777777777777778,\"#fb9f3a\"],[0.8888888888888888,\"#fdca26\"],[1.0,\"#f0f921\"]]}],\"contourcarpet\":[{\"type\":\"contourcarpet\",\"colorbar\":{\"outlinewidth\":0,\"ticks\":\"\"}}],\"contour\":[{\"type\":\"contour\",\"colorbar\":{\"outlinewidth\":0,\"ticks\":\"\"},\"colorscale\":[[0.0,\"#0d0887\"],[0.1111111111111111,\"#46039f\"],[0.2222222222222222,\"#7201a8\"],[0.3333333333333333,\"#9c179e\"],[0.4444444444444444,\"#bd3786\"],[0.5555555555555556,\"#d8576b\"],[0.6666666666666666,\"#ed7953\"],[0.7777777777777778,\"#fb9f3a\"],[0.8888888888888888,\"#fdca26\"],[1.0,\"#f0f921\"]]}],\"surface\":[{\"type\":\"surface\",\"colorbar\":{\"outlinewidth\":0,\"ticks\":\"\"},\"colorscale\":[[0.0,\"#0d0887\"],[0.1111111111111111,\"#46039f\"],[0.2222222222222222,\"#7201a8\"],[0.3333333333333333,\"#9c179e\"],[0.4444444444444444,\"#bd3786\"],[0.5555555555555556,\"#d8576b\"],[0.6666666666666666,\"#ed7953\"],[0.7777777777777778,\"#fb9f3a\"],[0.8888888888888888,\"#fdca26\"],[1.0,\"#f0f921\"]]}],\"mesh3d\":[{\"type\":\"mesh3d\",\"colorbar\":{\"outlinewidth\":0,\"ticks\":\"\"}}],\"scatter\":[{\"fillpattern\":{\"fillmode\":\"overlay\",\"size\":10,\"solidity\":0.2},\"type\":\"scatter\"}],\"parcoords\":[{\"type\":\"parcoords\",\"line\":{\"colorbar\":{\"outlinewidth\":0,\"ticks\":\"\"}}}],\"scatterpolargl\":[{\"type\":\"scatterpolargl\",\"marker\":{\"colorbar\":{\"outlinewidth\":0,\"ticks\":\"\"}}}],\"bar\":[{\"error_x\":{\"color\":\"#2a3f5f\"},\"error_y\":{\"color\":\"#2a3f5f\"},\"marker\":{\"line\":{\"color\":\"#E5ECF6\",\"width\":0.5},\"pattern\":{\"fillmode\":\"overlay\",\"size\":10,\"solidity\":0.2}},\"type\":\"bar\"}],\"scattergeo\":[{\"type\":\"scattergeo\",\"marker\":{\"colorbar\":{\"outlinewidth\":0,\"ticks\":\"\"}}}],\"scatterpolar\":[{\"type\":\"scatterpolar\",\"marker\":{\"colorbar\":{\"outlinewidth\":0,\"ticks\":\"\"}}}],\"histogram\":[{\"marker\":{\"pattern\":{\"fillmode\":\"overlay\",\"size\":10,\"solidity\":0.2}},\"type\":\"histogram\"}],\"scattergl\":[{\"type\":\"scattergl\",\"marker\":{\"colorbar\":{\"outlinewidth\":0,\"ticks\":\"\"}}}],\"scatter3d\":[{\"type\":\"scatter3d\",\"line\":{\"colorbar\":{\"outlinewidth\":0,\"ticks\":\"\"}},\"marker\":{\"colorbar\":{\"outlinewidth\":0,\"ticks\":\"\"}}}],\"scattermapbox\":[{\"type\":\"scattermapbox\",\"marker\":{\"colorbar\":{\"outlinewidth\":0,\"ticks\":\"\"}}}],\"scatterternary\":[{\"type\":\"scatterternary\",\"marker\":{\"colorbar\":{\"outlinewidth\":0,\"ticks\":\"\"}}}],\"scattercarpet\":[{\"type\":\"scattercarpet\",\"marker\":{\"colorbar\":{\"outlinewidth\":0,\"ticks\":\"\"}}}],\"carpet\":[{\"aaxis\":{\"endlinecolor\":\"#2a3f5f\",\"gridcolor\":\"white\",\"linecolor\":\"white\",\"minorgridcolor\":\"white\",\"startlinecolor\":\"#2a3f5f\"},\"baxis\":{\"endlinecolor\":\"#2a3f5f\",\"gridcolor\":\"white\",\"linecolor\":\"white\",\"minorgridcolor\":\"white\",\"startlinecolor\":\"#2a3f5f\"},\"type\":\"carpet\"}],\"table\":[{\"cells\":{\"fill\":{\"color\":\"#EBF0F8\"},\"line\":{\"color\":\"white\"}},\"header\":{\"fill\":{\"color\":\"#C8D4E3\"},\"line\":{\"color\":\"white\"}},\"type\":\"table\"}],\"barpolar\":[{\"marker\":{\"line\":{\"color\":\"#E5ECF6\",\"width\":0.5},\"pattern\":{\"fillmode\":\"overlay\",\"size\":10,\"solidity\":0.2}},\"type\":\"barpolar\"}],\"pie\":[{\"automargin\":true,\"type\":\"pie\"}]},\"layout\":{\"autotypenumbers\":\"strict\",\"colorway\":[\"#636efa\",\"#EF553B\",\"#00cc96\",\"#ab63fa\",\"#FFA15A\",\"#19d3f3\",\"#FF6692\",\"#B6E880\",\"#FF97FF\",\"#FECB52\"],\"font\":{\"color\":\"#2a3f5f\"},\"hovermode\":\"closest\",\"hoverlabel\":{\"align\":\"left\"},\"paper_bgcolor\":\"white\",\"plot_bgcolor\":\"#E5ECF6\",\"polar\":{\"bgcolor\":\"#E5ECF6\",\"angularaxis\":{\"gridcolor\":\"white\",\"linecolor\":\"white\",\"ticks\":\"\"},\"radialaxis\":{\"gridcolor\":\"white\",\"linecolor\":\"white\",\"ticks\":\"\"}},\"ternary\":{\"bgcolor\":\"#E5ECF6\",\"aaxis\":{\"gridcolor\":\"white\",\"linecolor\":\"white\",\"ticks\":\"\"},\"baxis\":{\"gridcolor\":\"white\",\"linecolor\":\"white\",\"ticks\":\"\"},\"caxis\":{\"gridcolor\":\"white\",\"linecolor\":\"white\",\"ticks\":\"\"}},\"coloraxis\":{\"colorbar\":{\"outlinewidth\":0,\"ticks\":\"\"}},\"colorscale\":{\"sequential\":[[0.0,\"#0d0887\"],[0.1111111111111111,\"#46039f\"],[0.2222222222222222,\"#7201a8\"],[0.3333333333333333,\"#9c179e\"],[0.4444444444444444,\"#bd3786\"],[0.5555555555555556,\"#d8576b\"],[0.6666666666666666,\"#ed7953\"],[0.7777777777777778,\"#fb9f3a\"],[0.8888888888888888,\"#fdca26\"],[1.0,\"#f0f921\"]],\"sequentialminus\":[[0.0,\"#0d0887\"],[0.1111111111111111,\"#46039f\"],[0.2222222222222222,\"#7201a8\"],[0.3333333333333333,\"#9c179e\"],[0.4444444444444444,\"#bd3786\"],[0.5555555555555556,\"#d8576b\"],[0.6666666666666666,\"#ed7953\"],[0.7777777777777778,\"#fb9f3a\"],[0.8888888888888888,\"#fdca26\"],[1.0,\"#f0f921\"]],\"diverging\":[[0,\"#8e0152\"],[0.1,\"#c51b7d\"],[0.2,\"#de77ae\"],[0.3,\"#f1b6da\"],[0.4,\"#fde0ef\"],[0.5,\"#f7f7f7\"],[0.6,\"#e6f5d0\"],[0.7,\"#b8e186\"],[0.8,\"#7fbc41\"],[0.9,\"#4d9221\"],[1,\"#276419\"]]},\"xaxis\":{\"gridcolor\":\"white\",\"linecolor\":\"white\",\"ticks\":\"\",\"title\":{\"standoff\":15},\"zerolinecolor\":\"white\",\"automargin\":true,\"zerolinewidth\":2},\"yaxis\":{\"gridcolor\":\"white\",\"linecolor\":\"white\",\"ticks\":\"\",\"title\":{\"standoff\":15},\"zerolinecolor\":\"white\",\"automargin\":true,\"zerolinewidth\":2},\"scene\":{\"xaxis\":{\"backgroundcolor\":\"#E5ECF6\",\"gridcolor\":\"white\",\"linecolor\":\"white\",\"showbackground\":true,\"ticks\":\"\",\"zerolinecolor\":\"white\",\"gridwidth\":2},\"yaxis\":{\"backgroundcolor\":\"#E5ECF6\",\"gridcolor\":\"white\",\"linecolor\":\"white\",\"showbackground\":true,\"ticks\":\"\",\"zerolinecolor\":\"white\",\"gridwidth\":2},\"zaxis\":{\"backgroundcolor\":\"#E5ECF6\",\"gridcolor\":\"white\",\"linecolor\":\"white\",\"showbackground\":true,\"ticks\":\"\",\"zerolinecolor\":\"white\",\"gridwidth\":2}},\"shapedefaults\":{\"line\":{\"color\":\"#2a3f5f\"}},\"annotationdefaults\":{\"arrowcolor\":\"#2a3f5f\",\"arrowhead\":0,\"arrowwidth\":1},\"geo\":{\"bgcolor\":\"white\",\"landcolor\":\"#E5ECF6\",\"subunitcolor\":\"white\",\"showland\":true,\"showlakes\":true,\"lakecolor\":\"white\"},\"title\":{\"x\":0.05},\"mapbox\":{\"style\":\"light\"}}},\"legend\":{\"tracegroupgap\":0},\"margin\":{\"t\":60}},                        {\"responsive\": true}                    ).then(function(){\n",
       "                            \n",
       "var gd = document.getElementById('d4dac205-c0af-4a21-a649-22a56ca28a3c');\n",
       "var x = new MutationObserver(function (mutations, observer) {{\n",
       "        var display = window.getComputedStyle(gd).display;\n",
       "        if (!display || display === 'none') {{\n",
       "            console.log([gd, 'removed!']);\n",
       "            Plotly.purge(gd);\n",
       "            observer.disconnect();\n",
       "        }}\n",
       "}});\n",
       "\n",
       "// Listen for the removal of the full notebook cells\n",
       "var notebookContainer = gd.closest('#notebook-container');\n",
       "if (notebookContainer) {{\n",
       "    x.observe(notebookContainer, {childList: true});\n",
       "}}\n",
       "\n",
       "// Listen for the clearing of the current output cell\n",
       "var outputEl = gd.closest('.output');\n",
       "if (outputEl) {{\n",
       "    x.observe(outputEl, {childList: true});\n",
       "}}\n",
       "\n",
       "                        })                };                });            </script>        </div>"
      ]
     },
     "metadata": {},
     "output_type": "display_data"
    }
   ],
   "source": [
    "fig = px.sunburst(df_results_against[df_results_against['Against']=='Australia'],path=['Format','Result'],values='Score')\n",
    "fig.update_traces(textinfo=\"label+percent parent\")"
   ]
  },
  {
   "cell_type": "markdown",
   "id": "27855bd2",
   "metadata": {
    "papermill": {
     "duration": 0.016854,
     "end_time": "2022-09-13T05:39:56.708983",
     "exception": false,
     "start_time": "2022-09-13T05:39:56.692129",
     "status": "completed"
    },
    "tags": []
   },
   "source": [
    "**Yes, we were Right beside Kohli's Century India have lost 57% of it's Test matches, 38% of ODIs against Australia.**"
   ]
  },
  {
   "cell_type": "markdown",
   "id": "4381479f",
   "metadata": {
    "papermill": {
     "duration": 0.017577,
     "end_time": "2022-09-13T05:39:56.744872",
     "exception": false,
     "start_time": "2022-09-13T05:39:56.727295",
     "status": "completed"
    },
    "tags": []
   },
   "source": [
    "### Kohli's Centuries as Captain"
   ]
  },
  {
   "cell_type": "code",
   "execution_count": 34,
   "id": "f9a49aba",
   "metadata": {
    "execution": {
     "iopub.execute_input": "2022-09-13T05:39:56.783053Z",
     "iopub.status.busy": "2022-09-13T05:39:56.782554Z",
     "iopub.status.idle": "2022-09-13T05:39:56.921737Z",
     "shell.execute_reply": "2022-09-13T05:39:56.920805Z"
    },
    "papermill": {
     "duration": 0.162173,
     "end_time": "2022-09-13T05:39:56.924245",
     "exception": false,
     "start_time": "2022-09-13T05:39:56.762072",
     "status": "completed"
    },
    "tags": []
   },
   "outputs": [
    {
     "data": {
      "text/html": [
       "<div>                            <div id=\"bceb7f14-e88d-4c41-a938-49efffda93ca\" class=\"plotly-graph-div\" style=\"height:525px; width:100%;\"></div>            <script type=\"text/javascript\">                require([\"plotly\"], function(Plotly) {                    window.PLOTLYENV=window.PLOTLYENV || {};                                    if (document.getElementById(\"bceb7f14-e88d-4c41-a938-49efffda93ca\")) {                    Plotly.newPlot(                        \"bceb7f14-e88d-4c41-a938-49efffda93ca\",                        [{\"branchvalues\":\"total\",\"domain\":{\"x\":[0.0,1.0],\"y\":[0.0,1.0]},\"hovertemplate\":\"labels=%{label}<br>Score=%{value}<br>parent=%{parent}<br>id=%{id}<extra></extra>\",\"ids\":[\"Yes/Test/Australia/Drawn\",\"Yes/Test/Sri Lanka/Drawn\",\"Yes/ODI/Australia/Lost\",\"Yes/Test/Australia/Lost\",\"Yes/Test/England/Lost\",\"Yes/ODI/New Zealand/Lost\",\"Yes/Test/South Africa/Lost\",\"Yes/Test/Sri Lanka/Lost\",\"Yes/ODI/West Indies/Lost\",\"Yes/ODI/West Indies/Tied\",\"Yes/ODI/Australia/Won\",\"Yes/ODI/Bangladesh/Won\",\"Yes/Test/Bangladesh/Won\",\"Yes/ODI/England/Won\",\"Yes/Test/England/Won\",\"Yes/ODI/New Zealand/Won\",\"Yes/Test/New Zealand/Won\",\"Yes/ODI/South Africa/Won\",\"Yes/Test/South Africa/Won\",\"Yes/ODI/Sri Lanka/Won\",\"Yes/Test/Sri Lanka/Won\",\"Yes/ODI/West Indies/Won\",\"Yes/Test/West Indies/Won\",\"Yes/ODI/Zimbabwe/Won\",\"Yes/ODI/West Indies/Won (D/L)\",\"Yes/ODI/Australia\",\"Yes/Test/Australia\",\"Yes/ODI/Bangladesh\",\"Yes/Test/Bangladesh\",\"Yes/ODI/England\",\"Yes/Test/England\",\"Yes/ODI/New Zealand\",\"Yes/Test/New Zealand\",\"Yes/ODI/South Africa\",\"Yes/Test/South Africa\",\"Yes/ODI/Sri Lanka\",\"Yes/Test/Sri Lanka\",\"Yes/ODI/West Indies\",\"Yes/Test/West Indies\",\"Yes/ODI/Zimbabwe\",\"Yes/ODI\",\"Yes/Test\",\"Yes\"],\"labels\":[\"Drawn\",\"Drawn\",\"Lost\",\"Lost\",\"Lost\",\"Lost\",\"Lost\",\"Lost\",\"Lost\",\"Tied\",\"Won\",\"Won\",\"Won\",\"Won\",\"Won\",\"Won\",\"Won\",\"Won\",\"Won\",\"Won\",\"Won\",\"Won\",\"Won\",\"Won\",\"Won (D/L)\",\"Australia\",\"Australia\",\"Bangladesh\",\"Bangladesh\",\"England\",\"England\",\"New Zealand\",\"New Zealand\",\"South Africa\",\"South Africa\",\"Sri Lanka\",\"Sri Lanka\",\"West Indies\",\"West Indies\",\"Zimbabwe\",\"ODI\",\"Test\",\"Yes\"],\"name\":\"\",\"parents\":[\"Yes/Test/Australia\",\"Yes/Test/Sri Lanka\",\"Yes/ODI/Australia\",\"Yes/Test/Australia\",\"Yes/Test/England\",\"Yes/ODI/New Zealand\",\"Yes/Test/South Africa\",\"Yes/Test/Sri Lanka\",\"Yes/ODI/West Indies\",\"Yes/ODI/West Indies\",\"Yes/ODI/Australia\",\"Yes/ODI/Bangladesh\",\"Yes/Test/Bangladesh\",\"Yes/ODI/England\",\"Yes/Test/England\",\"Yes/ODI/New Zealand\",\"Yes/Test/New Zealand\",\"Yes/ODI/South Africa\",\"Yes/Test/South Africa\",\"Yes/ODI/Sri Lanka\",\"Yes/Test/Sri Lanka\",\"Yes/ODI/West Indies\",\"Yes/Test/West Indies\",\"Yes/ODI/Zimbabwe\",\"Yes/ODI/West Indies\",\"Yes/ODI\",\"Yes/Test\",\"Yes/ODI\",\"Yes/Test\",\"Yes/ODI\",\"Yes/Test\",\"Yes/ODI\",\"Yes/Test\",\"Yes/ODI\",\"Yes/Test\",\"Yes/ODI\",\"Yes/Test\",\"Yes/ODI\",\"Yes/Test\",\"Yes/ODI\",\"Yes\",\"Yes\",\"\"],\"values\":[1,2,1,3,1,1,1,1,1,1,2,1,2,1,3,1,1,3,1,3,2,4,2,1,1,3,4,1,2,1,4,2,1,3,2,3,5,7,2,1,21,20,41],\"type\":\"sunburst\",\"textinfo\":\"label+percent parent\"}],                        {\"template\":{\"data\":{\"histogram2dcontour\":[{\"type\":\"histogram2dcontour\",\"colorbar\":{\"outlinewidth\":0,\"ticks\":\"\"},\"colorscale\":[[0.0,\"#0d0887\"],[0.1111111111111111,\"#46039f\"],[0.2222222222222222,\"#7201a8\"],[0.3333333333333333,\"#9c179e\"],[0.4444444444444444,\"#bd3786\"],[0.5555555555555556,\"#d8576b\"],[0.6666666666666666,\"#ed7953\"],[0.7777777777777778,\"#fb9f3a\"],[0.8888888888888888,\"#fdca26\"],[1.0,\"#f0f921\"]]}],\"choropleth\":[{\"type\":\"choropleth\",\"colorbar\":{\"outlinewidth\":0,\"ticks\":\"\"}}],\"histogram2d\":[{\"type\":\"histogram2d\",\"colorbar\":{\"outlinewidth\":0,\"ticks\":\"\"},\"colorscale\":[[0.0,\"#0d0887\"],[0.1111111111111111,\"#46039f\"],[0.2222222222222222,\"#7201a8\"],[0.3333333333333333,\"#9c179e\"],[0.4444444444444444,\"#bd3786\"],[0.5555555555555556,\"#d8576b\"],[0.6666666666666666,\"#ed7953\"],[0.7777777777777778,\"#fb9f3a\"],[0.8888888888888888,\"#fdca26\"],[1.0,\"#f0f921\"]]}],\"heatmap\":[{\"type\":\"heatmap\",\"colorbar\":{\"outlinewidth\":0,\"ticks\":\"\"},\"colorscale\":[[0.0,\"#0d0887\"],[0.1111111111111111,\"#46039f\"],[0.2222222222222222,\"#7201a8\"],[0.3333333333333333,\"#9c179e\"],[0.4444444444444444,\"#bd3786\"],[0.5555555555555556,\"#d8576b\"],[0.6666666666666666,\"#ed7953\"],[0.7777777777777778,\"#fb9f3a\"],[0.8888888888888888,\"#fdca26\"],[1.0,\"#f0f921\"]]}],\"heatmapgl\":[{\"type\":\"heatmapgl\",\"colorbar\":{\"outlinewidth\":0,\"ticks\":\"\"},\"colorscale\":[[0.0,\"#0d0887\"],[0.1111111111111111,\"#46039f\"],[0.2222222222222222,\"#7201a8\"],[0.3333333333333333,\"#9c179e\"],[0.4444444444444444,\"#bd3786\"],[0.5555555555555556,\"#d8576b\"],[0.6666666666666666,\"#ed7953\"],[0.7777777777777778,\"#fb9f3a\"],[0.8888888888888888,\"#fdca26\"],[1.0,\"#f0f921\"]]}],\"contourcarpet\":[{\"type\":\"contourcarpet\",\"colorbar\":{\"outlinewidth\":0,\"ticks\":\"\"}}],\"contour\":[{\"type\":\"contour\",\"colorbar\":{\"outlinewidth\":0,\"ticks\":\"\"},\"colorscale\":[[0.0,\"#0d0887\"],[0.1111111111111111,\"#46039f\"],[0.2222222222222222,\"#7201a8\"],[0.3333333333333333,\"#9c179e\"],[0.4444444444444444,\"#bd3786\"],[0.5555555555555556,\"#d8576b\"],[0.6666666666666666,\"#ed7953\"],[0.7777777777777778,\"#fb9f3a\"],[0.8888888888888888,\"#fdca26\"],[1.0,\"#f0f921\"]]}],\"surface\":[{\"type\":\"surface\",\"colorbar\":{\"outlinewidth\":0,\"ticks\":\"\"},\"colorscale\":[[0.0,\"#0d0887\"],[0.1111111111111111,\"#46039f\"],[0.2222222222222222,\"#7201a8\"],[0.3333333333333333,\"#9c179e\"],[0.4444444444444444,\"#bd3786\"],[0.5555555555555556,\"#d8576b\"],[0.6666666666666666,\"#ed7953\"],[0.7777777777777778,\"#fb9f3a\"],[0.8888888888888888,\"#fdca26\"],[1.0,\"#f0f921\"]]}],\"mesh3d\":[{\"type\":\"mesh3d\",\"colorbar\":{\"outlinewidth\":0,\"ticks\":\"\"}}],\"scatter\":[{\"fillpattern\":{\"fillmode\":\"overlay\",\"size\":10,\"solidity\":0.2},\"type\":\"scatter\"}],\"parcoords\":[{\"type\":\"parcoords\",\"line\":{\"colorbar\":{\"outlinewidth\":0,\"ticks\":\"\"}}}],\"scatterpolargl\":[{\"type\":\"scatterpolargl\",\"marker\":{\"colorbar\":{\"outlinewidth\":0,\"ticks\":\"\"}}}],\"bar\":[{\"error_x\":{\"color\":\"#2a3f5f\"},\"error_y\":{\"color\":\"#2a3f5f\"},\"marker\":{\"line\":{\"color\":\"#E5ECF6\",\"width\":0.5},\"pattern\":{\"fillmode\":\"overlay\",\"size\":10,\"solidity\":0.2}},\"type\":\"bar\"}],\"scattergeo\":[{\"type\":\"scattergeo\",\"marker\":{\"colorbar\":{\"outlinewidth\":0,\"ticks\":\"\"}}}],\"scatterpolar\":[{\"type\":\"scatterpolar\",\"marker\":{\"colorbar\":{\"outlinewidth\":0,\"ticks\":\"\"}}}],\"histogram\":[{\"marker\":{\"pattern\":{\"fillmode\":\"overlay\",\"size\":10,\"solidity\":0.2}},\"type\":\"histogram\"}],\"scattergl\":[{\"type\":\"scattergl\",\"marker\":{\"colorbar\":{\"outlinewidth\":0,\"ticks\":\"\"}}}],\"scatter3d\":[{\"type\":\"scatter3d\",\"line\":{\"colorbar\":{\"outlinewidth\":0,\"ticks\":\"\"}},\"marker\":{\"colorbar\":{\"outlinewidth\":0,\"ticks\":\"\"}}}],\"scattermapbox\":[{\"type\":\"scattermapbox\",\"marker\":{\"colorbar\":{\"outlinewidth\":0,\"ticks\":\"\"}}}],\"scatterternary\":[{\"type\":\"scatterternary\",\"marker\":{\"colorbar\":{\"outlinewidth\":0,\"ticks\":\"\"}}}],\"scattercarpet\":[{\"type\":\"scattercarpet\",\"marker\":{\"colorbar\":{\"outlinewidth\":0,\"ticks\":\"\"}}}],\"carpet\":[{\"aaxis\":{\"endlinecolor\":\"#2a3f5f\",\"gridcolor\":\"white\",\"linecolor\":\"white\",\"minorgridcolor\":\"white\",\"startlinecolor\":\"#2a3f5f\"},\"baxis\":{\"endlinecolor\":\"#2a3f5f\",\"gridcolor\":\"white\",\"linecolor\":\"white\",\"minorgridcolor\":\"white\",\"startlinecolor\":\"#2a3f5f\"},\"type\":\"carpet\"}],\"table\":[{\"cells\":{\"fill\":{\"color\":\"#EBF0F8\"},\"line\":{\"color\":\"white\"}},\"header\":{\"fill\":{\"color\":\"#C8D4E3\"},\"line\":{\"color\":\"white\"}},\"type\":\"table\"}],\"barpolar\":[{\"marker\":{\"line\":{\"color\":\"#E5ECF6\",\"width\":0.5},\"pattern\":{\"fillmode\":\"overlay\",\"size\":10,\"solidity\":0.2}},\"type\":\"barpolar\"}],\"pie\":[{\"automargin\":true,\"type\":\"pie\"}]},\"layout\":{\"autotypenumbers\":\"strict\",\"colorway\":[\"#636efa\",\"#EF553B\",\"#00cc96\",\"#ab63fa\",\"#FFA15A\",\"#19d3f3\",\"#FF6692\",\"#B6E880\",\"#FF97FF\",\"#FECB52\"],\"font\":{\"color\":\"#2a3f5f\"},\"hovermode\":\"closest\",\"hoverlabel\":{\"align\":\"left\"},\"paper_bgcolor\":\"white\",\"plot_bgcolor\":\"#E5ECF6\",\"polar\":{\"bgcolor\":\"#E5ECF6\",\"angularaxis\":{\"gridcolor\":\"white\",\"linecolor\":\"white\",\"ticks\":\"\"},\"radialaxis\":{\"gridcolor\":\"white\",\"linecolor\":\"white\",\"ticks\":\"\"}},\"ternary\":{\"bgcolor\":\"#E5ECF6\",\"aaxis\":{\"gridcolor\":\"white\",\"linecolor\":\"white\",\"ticks\":\"\"},\"baxis\":{\"gridcolor\":\"white\",\"linecolor\":\"white\",\"ticks\":\"\"},\"caxis\":{\"gridcolor\":\"white\",\"linecolor\":\"white\",\"ticks\":\"\"}},\"coloraxis\":{\"colorbar\":{\"outlinewidth\":0,\"ticks\":\"\"}},\"colorscale\":{\"sequential\":[[0.0,\"#0d0887\"],[0.1111111111111111,\"#46039f\"],[0.2222222222222222,\"#7201a8\"],[0.3333333333333333,\"#9c179e\"],[0.4444444444444444,\"#bd3786\"],[0.5555555555555556,\"#d8576b\"],[0.6666666666666666,\"#ed7953\"],[0.7777777777777778,\"#fb9f3a\"],[0.8888888888888888,\"#fdca26\"],[1.0,\"#f0f921\"]],\"sequentialminus\":[[0.0,\"#0d0887\"],[0.1111111111111111,\"#46039f\"],[0.2222222222222222,\"#7201a8\"],[0.3333333333333333,\"#9c179e\"],[0.4444444444444444,\"#bd3786\"],[0.5555555555555556,\"#d8576b\"],[0.6666666666666666,\"#ed7953\"],[0.7777777777777778,\"#fb9f3a\"],[0.8888888888888888,\"#fdca26\"],[1.0,\"#f0f921\"]],\"diverging\":[[0,\"#8e0152\"],[0.1,\"#c51b7d\"],[0.2,\"#de77ae\"],[0.3,\"#f1b6da\"],[0.4,\"#fde0ef\"],[0.5,\"#f7f7f7\"],[0.6,\"#e6f5d0\"],[0.7,\"#b8e186\"],[0.8,\"#7fbc41\"],[0.9,\"#4d9221\"],[1,\"#276419\"]]},\"xaxis\":{\"gridcolor\":\"white\",\"linecolor\":\"white\",\"ticks\":\"\",\"title\":{\"standoff\":15},\"zerolinecolor\":\"white\",\"automargin\":true,\"zerolinewidth\":2},\"yaxis\":{\"gridcolor\":\"white\",\"linecolor\":\"white\",\"ticks\":\"\",\"title\":{\"standoff\":15},\"zerolinecolor\":\"white\",\"automargin\":true,\"zerolinewidth\":2},\"scene\":{\"xaxis\":{\"backgroundcolor\":\"#E5ECF6\",\"gridcolor\":\"white\",\"linecolor\":\"white\",\"showbackground\":true,\"ticks\":\"\",\"zerolinecolor\":\"white\",\"gridwidth\":2},\"yaxis\":{\"backgroundcolor\":\"#E5ECF6\",\"gridcolor\":\"white\",\"linecolor\":\"white\",\"showbackground\":true,\"ticks\":\"\",\"zerolinecolor\":\"white\",\"gridwidth\":2},\"zaxis\":{\"backgroundcolor\":\"#E5ECF6\",\"gridcolor\":\"white\",\"linecolor\":\"white\",\"showbackground\":true,\"ticks\":\"\",\"zerolinecolor\":\"white\",\"gridwidth\":2}},\"shapedefaults\":{\"line\":{\"color\":\"#2a3f5f\"}},\"annotationdefaults\":{\"arrowcolor\":\"#2a3f5f\",\"arrowhead\":0,\"arrowwidth\":1},\"geo\":{\"bgcolor\":\"white\",\"landcolor\":\"#E5ECF6\",\"subunitcolor\":\"white\",\"showland\":true,\"showlakes\":true,\"lakecolor\":\"white\"},\"title\":{\"x\":0.05},\"mapbox\":{\"style\":\"light\"}}},\"legend\":{\"tracegroupgap\":0},\"margin\":{\"t\":60},\"title\":{\"text\":\"Virat's Centuries as a captain and winning Percent of India\",\"x\":0.5}},                        {\"responsive\": true}                    ).then(function(){\n",
       "                            \n",
       "var gd = document.getElementById('bceb7f14-e88d-4c41-a938-49efffda93ca');\n",
       "var x = new MutationObserver(function (mutations, observer) {{\n",
       "        var display = window.getComputedStyle(gd).display;\n",
       "        if (!display || display === 'none') {{\n",
       "            console.log([gd, 'removed!']);\n",
       "            Plotly.purge(gd);\n",
       "            observer.disconnect();\n",
       "        }}\n",
       "}});\n",
       "\n",
       "// Listen for the removal of the full notebook cells\n",
       "var notebookContainer = gd.closest('#notebook-container');\n",
       "if (notebookContainer) {{\n",
       "    x.observe(notebookContainer, {childList: true});\n",
       "}}\n",
       "\n",
       "// Listen for the clearing of the current output cell\n",
       "var outputEl = gd.closest('.output');\n",
       "if (outputEl) {{\n",
       "    x.observe(outputEl, {childList: true});\n",
       "}}\n",
       "\n",
       "                        })                };                });            </script>        </div>"
      ]
     },
     "metadata": {},
     "output_type": "display_data"
    }
   ],
   "source": [
    "ton_cap = df[df['Captain']=='Yes'].groupby(['Captain','Format','Against','Result'])['Score'].count().reset_index()\n",
    "fig = px.sunburst(ton_cap,path=['Captain','Format','Against','Result'],values='Score')\n",
    "fig.update_traces(textinfo=\"label+percent parent\")\n",
    "fig.update_layout(title=\"Virat's Centuries as a captain and winning Percent of India\",title_x=0.5)"
   ]
  },
  {
   "cell_type": "markdown",
   "id": "e2125486",
   "metadata": {
    "papermill": {
     "duration": 0.016778,
     "end_time": "2022-09-13T05:39:56.958763",
     "exception": false,
     "start_time": "2022-09-13T05:39:56.941985",
     "status": "completed"
    },
    "tags": []
   },
   "source": [
    "**Observation:**\n",
    "\n",
    "When Virat was leading the team:\n",
    "* He scored maximum 33% of his Centuries against West Indies in ODIs out of which India won 71% of matches.\n",
    "* He scored maximum 25% of his Centuries against Sri Lanka in TESTs out of which India had won 40% matches where as 40% were ended in Draw."
   ]
  },
  {
   "cell_type": "code",
   "execution_count": 35,
   "id": "b7d2215f",
   "metadata": {
    "execution": {
     "iopub.execute_input": "2022-09-13T05:39:56.994869Z",
     "iopub.status.busy": "2022-09-13T05:39:56.994418Z",
     "iopub.status.idle": "2022-09-13T05:39:57.016373Z",
     "shell.execute_reply": "2022-09-13T05:39:57.015120Z"
    },
    "papermill": {
     "duration": 0.043027,
     "end_time": "2022-09-13T05:39:57.018764",
     "exception": false,
     "start_time": "2022-09-13T05:39:56.975737",
     "status": "completed"
    },
    "tags": []
   },
   "outputs": [
    {
     "data": {
      "text/html": [
       "<div>\n",
       "<style scoped>\n",
       "    .dataframe tbody tr th:only-of-type {\n",
       "        vertical-align: middle;\n",
       "    }\n",
       "\n",
       "    .dataframe tbody tr th {\n",
       "        vertical-align: top;\n",
       "    }\n",
       "\n",
       "    .dataframe thead th {\n",
       "        text-align: right;\n",
       "    }\n",
       "</style>\n",
       "<table border=\"1\" class=\"dataframe\">\n",
       "  <thead>\n",
       "    <tr style=\"text-align: right;\">\n",
       "      <th></th>\n",
       "      <th>Score</th>\n",
       "      <th>Out/Not Out</th>\n",
       "      <th>Against</th>\n",
       "      <th>Batting Order</th>\n",
       "      <th>Inn.</th>\n",
       "      <th>Strike Rate</th>\n",
       "      <th>Venue</th>\n",
       "      <th>Column1</th>\n",
       "      <th>H/A</th>\n",
       "      <th>Date</th>\n",
       "      <th>Result</th>\n",
       "      <th>Format</th>\n",
       "      <th>Man of the Match</th>\n",
       "      <th>Captain</th>\n",
       "      <th>Format_century_no</th>\n",
       "      <th>Int_Century_count</th>\n",
       "    </tr>\n",
       "  </thead>\n",
       "  <tbody>\n",
       "    <tr>\n",
       "      <th>42</th>\n",
       "      <td>100</td>\n",
       "      <td>Not Out</td>\n",
       "      <td>Australia</td>\n",
       "      <td>3</td>\n",
       "      <td>2</td>\n",
       "      <td>192.3</td>\n",
       "      <td>Sawai Mansingh Stadium</td>\n",
       "      <td>Jaipur</td>\n",
       "      <td>Home</td>\n",
       "      <td>2013-10-16</td>\n",
       "      <td>Won</td>\n",
       "      <td>ODI</td>\n",
       "      <td>No</td>\n",
       "      <td>No</td>\n",
       "      <td>16</td>\n",
       "      <td>20</td>\n",
       "    </tr>\n",
       "  </tbody>\n",
       "</table>\n",
       "</div>"
      ],
      "text/plain": [
       "    Score Out/Not Out    Against  Batting Order  Inn.  Strike Rate  \\\n",
       "42    100     Not Out  Australia              3     2        192.3   \n",
       "\n",
       "                     Venue  Column1   H/A       Date Result Format  \\\n",
       "42  Sawai Mansingh Stadium   Jaipur  Home 2013-10-16    Won    ODI   \n",
       "\n",
       "   Man of the Match Captain  Format_century_no  Int_Century_count  \n",
       "42               No      No                 16                 20  "
      ]
     },
     "execution_count": 35,
     "metadata": {},
     "output_type": "execute_result"
    }
   ],
   "source": [
    "df.sample()"
   ]
  },
  {
   "cell_type": "markdown",
   "id": "c0a89e90",
   "metadata": {
    "papermill": {
     "duration": 0.01771,
     "end_time": "2022-09-13T05:39:57.054795",
     "exception": false,
     "start_time": "2022-09-13T05:39:57.037085",
     "status": "completed"
    },
    "tags": []
   },
   "source": [
    "### Kohli's Centuries at Home vs Away"
   ]
  },
  {
   "cell_type": "code",
   "execution_count": 36,
   "id": "50463428",
   "metadata": {
    "execution": {
     "iopub.execute_input": "2022-09-13T05:39:57.091844Z",
     "iopub.status.busy": "2022-09-13T05:39:57.091026Z",
     "iopub.status.idle": "2022-09-13T05:39:57.164473Z",
     "shell.execute_reply": "2022-09-13T05:39:57.162907Z"
    },
    "papermill": {
     "duration": 0.095234,
     "end_time": "2022-09-13T05:39:57.167365",
     "exception": false,
     "start_time": "2022-09-13T05:39:57.072131",
     "status": "completed"
    },
    "tags": []
   },
   "outputs": [
    {
     "data": {
      "text/html": [
       "<div>                            <div id=\"0556205c-3331-4fd0-8715-b3ac2cd19a4d\" class=\"plotly-graph-div\" style=\"height:525px; width:100%;\"></div>            <script type=\"text/javascript\">                require([\"plotly\"], function(Plotly) {                    window.PLOTLYENV=window.PLOTLYENV || {};                                    if (document.getElementById(\"0556205c-3331-4fd0-8715-b3ac2cd19a4d\")) {                    Plotly.newPlot(                        \"0556205c-3331-4fd0-8715-b3ac2cd19a4d\",                        [{\"alignmentgroup\":\"True\",\"hovertemplate\":\"H/A=Away<br>Against=%{x}<br>Centuries=%{y}<extra></extra>\",\"legendgroup\":\"Away\",\"marker\":{\"color\":\"#636efa\",\"pattern\":{\"shape\":\"\"}},\"name\":\"Away\",\"offsetgroup\":\"Away\",\"orientation\":\"v\",\"showlegend\":true,\"textposition\":\"auto\",\"texttemplate\":\"%{y}\",\"x\":[\"Afganistan\",\"Australia\",\"Bangladesh\",\"England\",\"New Zealand\",\"Pakistan\",\"South Africa\",\"Sri Lanka\",\"West Indies\",\"Zimbabwe\"],\"xaxis\":\"x\",\"y\":[1,9,3,3,2,2,5,8,5,1],\"yaxis\":\"y\",\"type\":\"bar\"},{\"alignmentgroup\":\"True\",\"hovertemplate\":\"H/A=Home<br>Against=%{x}<br>Centuries=%{y}<extra></extra>\",\"legendgroup\":\"Home\",\"marker\":{\"color\":\"#EF553B\",\"pattern\":{\"shape\":\"\"}},\"name\":\"Home\",\"offsetgroup\":\"Home\",\"orientation\":\"v\",\"showlegend\":true,\"textposition\":\"auto\",\"texttemplate\":\"%{y}\",\"x\":[\"Australia\",\"Bangladesh\",\"England\",\"New Zealand\",\"South Africa\",\"Sri Lanka\",\"West Indies\"],\"xaxis\":\"x\",\"y\":[6,2,5,6,2,5,6],\"yaxis\":\"y\",\"type\":\"bar\"}],                        {\"template\":{\"data\":{\"histogram2dcontour\":[{\"type\":\"histogram2dcontour\",\"colorbar\":{\"outlinewidth\":0,\"ticks\":\"\"},\"colorscale\":[[0.0,\"#0d0887\"],[0.1111111111111111,\"#46039f\"],[0.2222222222222222,\"#7201a8\"],[0.3333333333333333,\"#9c179e\"],[0.4444444444444444,\"#bd3786\"],[0.5555555555555556,\"#d8576b\"],[0.6666666666666666,\"#ed7953\"],[0.7777777777777778,\"#fb9f3a\"],[0.8888888888888888,\"#fdca26\"],[1.0,\"#f0f921\"]]}],\"choropleth\":[{\"type\":\"choropleth\",\"colorbar\":{\"outlinewidth\":0,\"ticks\":\"\"}}],\"histogram2d\":[{\"type\":\"histogram2d\",\"colorbar\":{\"outlinewidth\":0,\"ticks\":\"\"},\"colorscale\":[[0.0,\"#0d0887\"],[0.1111111111111111,\"#46039f\"],[0.2222222222222222,\"#7201a8\"],[0.3333333333333333,\"#9c179e\"],[0.4444444444444444,\"#bd3786\"],[0.5555555555555556,\"#d8576b\"],[0.6666666666666666,\"#ed7953\"],[0.7777777777777778,\"#fb9f3a\"],[0.8888888888888888,\"#fdca26\"],[1.0,\"#f0f921\"]]}],\"heatmap\":[{\"type\":\"heatmap\",\"colorbar\":{\"outlinewidth\":0,\"ticks\":\"\"},\"colorscale\":[[0.0,\"#0d0887\"],[0.1111111111111111,\"#46039f\"],[0.2222222222222222,\"#7201a8\"],[0.3333333333333333,\"#9c179e\"],[0.4444444444444444,\"#bd3786\"],[0.5555555555555556,\"#d8576b\"],[0.6666666666666666,\"#ed7953\"],[0.7777777777777778,\"#fb9f3a\"],[0.8888888888888888,\"#fdca26\"],[1.0,\"#f0f921\"]]}],\"heatmapgl\":[{\"type\":\"heatmapgl\",\"colorbar\":{\"outlinewidth\":0,\"ticks\":\"\"},\"colorscale\":[[0.0,\"#0d0887\"],[0.1111111111111111,\"#46039f\"],[0.2222222222222222,\"#7201a8\"],[0.3333333333333333,\"#9c179e\"],[0.4444444444444444,\"#bd3786\"],[0.5555555555555556,\"#d8576b\"],[0.6666666666666666,\"#ed7953\"],[0.7777777777777778,\"#fb9f3a\"],[0.8888888888888888,\"#fdca26\"],[1.0,\"#f0f921\"]]}],\"contourcarpet\":[{\"type\":\"contourcarpet\",\"colorbar\":{\"outlinewidth\":0,\"ticks\":\"\"}}],\"contour\":[{\"type\":\"contour\",\"colorbar\":{\"outlinewidth\":0,\"ticks\":\"\"},\"colorscale\":[[0.0,\"#0d0887\"],[0.1111111111111111,\"#46039f\"],[0.2222222222222222,\"#7201a8\"],[0.3333333333333333,\"#9c179e\"],[0.4444444444444444,\"#bd3786\"],[0.5555555555555556,\"#d8576b\"],[0.6666666666666666,\"#ed7953\"],[0.7777777777777778,\"#fb9f3a\"],[0.8888888888888888,\"#fdca26\"],[1.0,\"#f0f921\"]]}],\"surface\":[{\"type\":\"surface\",\"colorbar\":{\"outlinewidth\":0,\"ticks\":\"\"},\"colorscale\":[[0.0,\"#0d0887\"],[0.1111111111111111,\"#46039f\"],[0.2222222222222222,\"#7201a8\"],[0.3333333333333333,\"#9c179e\"],[0.4444444444444444,\"#bd3786\"],[0.5555555555555556,\"#d8576b\"],[0.6666666666666666,\"#ed7953\"],[0.7777777777777778,\"#fb9f3a\"],[0.8888888888888888,\"#fdca26\"],[1.0,\"#f0f921\"]]}],\"mesh3d\":[{\"type\":\"mesh3d\",\"colorbar\":{\"outlinewidth\":0,\"ticks\":\"\"}}],\"scatter\":[{\"fillpattern\":{\"fillmode\":\"overlay\",\"size\":10,\"solidity\":0.2},\"type\":\"scatter\"}],\"parcoords\":[{\"type\":\"parcoords\",\"line\":{\"colorbar\":{\"outlinewidth\":0,\"ticks\":\"\"}}}],\"scatterpolargl\":[{\"type\":\"scatterpolargl\",\"marker\":{\"colorbar\":{\"outlinewidth\":0,\"ticks\":\"\"}}}],\"bar\":[{\"error_x\":{\"color\":\"#2a3f5f\"},\"error_y\":{\"color\":\"#2a3f5f\"},\"marker\":{\"line\":{\"color\":\"#E5ECF6\",\"width\":0.5},\"pattern\":{\"fillmode\":\"overlay\",\"size\":10,\"solidity\":0.2}},\"type\":\"bar\"}],\"scattergeo\":[{\"type\":\"scattergeo\",\"marker\":{\"colorbar\":{\"outlinewidth\":0,\"ticks\":\"\"}}}],\"scatterpolar\":[{\"type\":\"scatterpolar\",\"marker\":{\"colorbar\":{\"outlinewidth\":0,\"ticks\":\"\"}}}],\"histogram\":[{\"marker\":{\"pattern\":{\"fillmode\":\"overlay\",\"size\":10,\"solidity\":0.2}},\"type\":\"histogram\"}],\"scattergl\":[{\"type\":\"scattergl\",\"marker\":{\"colorbar\":{\"outlinewidth\":0,\"ticks\":\"\"}}}],\"scatter3d\":[{\"type\":\"scatter3d\",\"line\":{\"colorbar\":{\"outlinewidth\":0,\"ticks\":\"\"}},\"marker\":{\"colorbar\":{\"outlinewidth\":0,\"ticks\":\"\"}}}],\"scattermapbox\":[{\"type\":\"scattermapbox\",\"marker\":{\"colorbar\":{\"outlinewidth\":0,\"ticks\":\"\"}}}],\"scatterternary\":[{\"type\":\"scatterternary\",\"marker\":{\"colorbar\":{\"outlinewidth\":0,\"ticks\":\"\"}}}],\"scattercarpet\":[{\"type\":\"scattercarpet\",\"marker\":{\"colorbar\":{\"outlinewidth\":0,\"ticks\":\"\"}}}],\"carpet\":[{\"aaxis\":{\"endlinecolor\":\"#2a3f5f\",\"gridcolor\":\"white\",\"linecolor\":\"white\",\"minorgridcolor\":\"white\",\"startlinecolor\":\"#2a3f5f\"},\"baxis\":{\"endlinecolor\":\"#2a3f5f\",\"gridcolor\":\"white\",\"linecolor\":\"white\",\"minorgridcolor\":\"white\",\"startlinecolor\":\"#2a3f5f\"},\"type\":\"carpet\"}],\"table\":[{\"cells\":{\"fill\":{\"color\":\"#EBF0F8\"},\"line\":{\"color\":\"white\"}},\"header\":{\"fill\":{\"color\":\"#C8D4E3\"},\"line\":{\"color\":\"white\"}},\"type\":\"table\"}],\"barpolar\":[{\"marker\":{\"line\":{\"color\":\"#E5ECF6\",\"width\":0.5},\"pattern\":{\"fillmode\":\"overlay\",\"size\":10,\"solidity\":0.2}},\"type\":\"barpolar\"}],\"pie\":[{\"automargin\":true,\"type\":\"pie\"}]},\"layout\":{\"autotypenumbers\":\"strict\",\"colorway\":[\"#636efa\",\"#EF553B\",\"#00cc96\",\"#ab63fa\",\"#FFA15A\",\"#19d3f3\",\"#FF6692\",\"#B6E880\",\"#FF97FF\",\"#FECB52\"],\"font\":{\"color\":\"#2a3f5f\"},\"hovermode\":\"closest\",\"hoverlabel\":{\"align\":\"left\"},\"paper_bgcolor\":\"white\",\"plot_bgcolor\":\"#E5ECF6\",\"polar\":{\"bgcolor\":\"#E5ECF6\",\"angularaxis\":{\"gridcolor\":\"white\",\"linecolor\":\"white\",\"ticks\":\"\"},\"radialaxis\":{\"gridcolor\":\"white\",\"linecolor\":\"white\",\"ticks\":\"\"}},\"ternary\":{\"bgcolor\":\"#E5ECF6\",\"aaxis\":{\"gridcolor\":\"white\",\"linecolor\":\"white\",\"ticks\":\"\"},\"baxis\":{\"gridcolor\":\"white\",\"linecolor\":\"white\",\"ticks\":\"\"},\"caxis\":{\"gridcolor\":\"white\",\"linecolor\":\"white\",\"ticks\":\"\"}},\"coloraxis\":{\"colorbar\":{\"outlinewidth\":0,\"ticks\":\"\"}},\"colorscale\":{\"sequential\":[[0.0,\"#0d0887\"],[0.1111111111111111,\"#46039f\"],[0.2222222222222222,\"#7201a8\"],[0.3333333333333333,\"#9c179e\"],[0.4444444444444444,\"#bd3786\"],[0.5555555555555556,\"#d8576b\"],[0.6666666666666666,\"#ed7953\"],[0.7777777777777778,\"#fb9f3a\"],[0.8888888888888888,\"#fdca26\"],[1.0,\"#f0f921\"]],\"sequentialminus\":[[0.0,\"#0d0887\"],[0.1111111111111111,\"#46039f\"],[0.2222222222222222,\"#7201a8\"],[0.3333333333333333,\"#9c179e\"],[0.4444444444444444,\"#bd3786\"],[0.5555555555555556,\"#d8576b\"],[0.6666666666666666,\"#ed7953\"],[0.7777777777777778,\"#fb9f3a\"],[0.8888888888888888,\"#fdca26\"],[1.0,\"#f0f921\"]],\"diverging\":[[0,\"#8e0152\"],[0.1,\"#c51b7d\"],[0.2,\"#de77ae\"],[0.3,\"#f1b6da\"],[0.4,\"#fde0ef\"],[0.5,\"#f7f7f7\"],[0.6,\"#e6f5d0\"],[0.7,\"#b8e186\"],[0.8,\"#7fbc41\"],[0.9,\"#4d9221\"],[1,\"#276419\"]]},\"xaxis\":{\"gridcolor\":\"white\",\"linecolor\":\"white\",\"ticks\":\"\",\"title\":{\"standoff\":15},\"zerolinecolor\":\"white\",\"automargin\":true,\"zerolinewidth\":2},\"yaxis\":{\"gridcolor\":\"white\",\"linecolor\":\"white\",\"ticks\":\"\",\"title\":{\"standoff\":15},\"zerolinecolor\":\"white\",\"automargin\":true,\"zerolinewidth\":2},\"scene\":{\"xaxis\":{\"backgroundcolor\":\"#E5ECF6\",\"gridcolor\":\"white\",\"linecolor\":\"white\",\"showbackground\":true,\"ticks\":\"\",\"zerolinecolor\":\"white\",\"gridwidth\":2},\"yaxis\":{\"backgroundcolor\":\"#E5ECF6\",\"gridcolor\":\"white\",\"linecolor\":\"white\",\"showbackground\":true,\"ticks\":\"\",\"zerolinecolor\":\"white\",\"gridwidth\":2},\"zaxis\":{\"backgroundcolor\":\"#E5ECF6\",\"gridcolor\":\"white\",\"linecolor\":\"white\",\"showbackground\":true,\"ticks\":\"\",\"zerolinecolor\":\"white\",\"gridwidth\":2}},\"shapedefaults\":{\"line\":{\"color\":\"#2a3f5f\"}},\"annotationdefaults\":{\"arrowcolor\":\"#2a3f5f\",\"arrowhead\":0,\"arrowwidth\":1},\"geo\":{\"bgcolor\":\"white\",\"landcolor\":\"#E5ECF6\",\"subunitcolor\":\"white\",\"showland\":true,\"showlakes\":true,\"lakecolor\":\"white\"},\"title\":{\"x\":0.05},\"mapbox\":{\"style\":\"light\"}}},\"xaxis\":{\"anchor\":\"y\",\"domain\":[0.0,1.0],\"title\":{\"text\":\"Against\"}},\"yaxis\":{\"anchor\":\"x\",\"domain\":[0.0,1.0],\"title\":{\"text\":\"Centuries\"}},\"legend\":{\"title\":{\"text\":\"H/A\"},\"tracegroupgap\":0},\"margin\":{\"t\":60},\"barmode\":\"relative\",\"title\":{\"text\":\"Virat's Tons at Home and Away from Home\",\"x\":0.5}},                        {\"responsive\": true}                    ).then(function(){\n",
       "                            \n",
       "var gd = document.getElementById('0556205c-3331-4fd0-8715-b3ac2cd19a4d');\n",
       "var x = new MutationObserver(function (mutations, observer) {{\n",
       "        var display = window.getComputedStyle(gd).display;\n",
       "        if (!display || display === 'none') {{\n",
       "            console.log([gd, 'removed!']);\n",
       "            Plotly.purge(gd);\n",
       "            observer.disconnect();\n",
       "        }}\n",
       "}});\n",
       "\n",
       "// Listen for the removal of the full notebook cells\n",
       "var notebookContainer = gd.closest('#notebook-container');\n",
       "if (notebookContainer) {{\n",
       "    x.observe(notebookContainer, {childList: true});\n",
       "}}\n",
       "\n",
       "// Listen for the clearing of the current output cell\n",
       "var outputEl = gd.closest('.output');\n",
       "if (outputEl) {{\n",
       "    x.observe(outputEl, {childList: true});\n",
       "}}\n",
       "\n",
       "                        })                };                });            </script>        </div>"
      ]
     },
     "metadata": {},
     "output_type": "display_data"
    }
   ],
   "source": [
    "H_a = df.groupby(['Against','H/A'])['Score'].count().reset_index().rename(columns={'Score':'Centuries'})\n",
    "fig = px.bar(data_frame=H_a,x='Against',y='Centuries',color='H/A',text_auto=True)\n",
    "fig.update_layout(title = \"Virat's Tons at Home and Away from Home\", title_x=0.5)\n",
    "fig.show()"
   ]
  },
  {
   "cell_type": "code",
   "execution_count": 37,
   "id": "72928d57",
   "metadata": {
    "execution": {
     "iopub.execute_input": "2022-09-13T05:39:57.205964Z",
     "iopub.status.busy": "2022-09-13T05:39:57.204754Z",
     "iopub.status.idle": "2022-09-13T05:39:57.295178Z",
     "shell.execute_reply": "2022-09-13T05:39:57.293223Z"
    },
    "papermill": {
     "duration": 0.112949,
     "end_time": "2022-09-13T05:39:57.298112",
     "exception": false,
     "start_time": "2022-09-13T05:39:57.185163",
     "status": "completed"
    },
    "tags": []
   },
   "outputs": [
    {
     "data": {
      "text/html": [
       "<div>                            <div id=\"6bec4ed0-b154-4a00-a6df-89ae3ae4101b\" class=\"plotly-graph-div\" style=\"height:525px; width:100%;\"></div>            <script type=\"text/javascript\">                require([\"plotly\"], function(Plotly) {                    window.PLOTLYENV=window.PLOTLYENV || {};                                    if (document.getElementById(\"6bec4ed0-b154-4a00-a6df-89ae3ae4101b\")) {                    Plotly.newPlot(                        \"6bec4ed0-b154-4a00-a6df-89ae3ae4101b\",                        [{\"alignmentgroup\":\"True\",\"hovertemplate\":\"H/A=Away<br>Format=ODI<br>Captain=%{x}<br>Centuries=%{y}<extra></extra>\",\"legendgroup\":\"Away, ODI\",\"marker\":{\"color\":\"#636efa\",\"pattern\":{\"shape\":\"\"}},\"name\":\"Away, ODI\",\"offsetgroup\":\"Away, ODI\",\"orientation\":\"v\",\"showlegend\":true,\"textposition\":\"auto\",\"texttemplate\":\"%{y}\",\"x\":[\"No\",\"Yes\"],\"xaxis\":\"x\",\"y\":[12,12],\"yaxis\":\"y\",\"type\":\"bar\"},{\"alignmentgroup\":\"True\",\"hovertemplate\":\"H/A=Away<br>Format=T20I<br>Captain=%{x}<br>Centuries=%{y}<extra></extra>\",\"legendgroup\":\"Away, T20I\",\"marker\":{\"color\":\"#636efa\",\"pattern\":{\"shape\":\"/\"}},\"name\":\"Away, T20I\",\"offsetgroup\":\"Away, T20I\",\"orientation\":\"v\",\"showlegend\":true,\"textposition\":\"auto\",\"texttemplate\":\"%{y}\",\"x\":[\"No\"],\"xaxis\":\"x\",\"y\":[1],\"yaxis\":\"y\",\"type\":\"bar\"},{\"alignmentgroup\":\"True\",\"hovertemplate\":\"H/A=Away<br>Format=Test<br>Captain=%{x}<br>Centuries=%{y}<extra></extra>\",\"legendgroup\":\"Away, Test\",\"marker\":{\"color\":\"#636efa\",\"pattern\":{\"shape\":\"\\\\\"}},\"name\":\"Away, Test\",\"offsetgroup\":\"Away, Test\",\"orientation\":\"v\",\"showlegend\":true,\"textposition\":\"auto\",\"texttemplate\":\"%{y}\",\"x\":[\"No\",\"Yes\"],\"xaxis\":\"x\",\"y\":[4,10],\"yaxis\":\"y\",\"type\":\"bar\"},{\"alignmentgroup\":\"True\",\"hovertemplate\":\"H/A=Home<br>Format=ODI<br>Captain=%{x}<br>Centuries=%{y}<extra></extra>\",\"legendgroup\":\"Home, ODI\",\"marker\":{\"color\":\"#EF553B\",\"pattern\":{\"shape\":\"\"}},\"name\":\"Home, ODI\",\"offsetgroup\":\"Home, ODI\",\"orientation\":\"v\",\"showlegend\":true,\"textposition\":\"auto\",\"texttemplate\":\"%{y}\",\"x\":[\"No\",\"Yes\"],\"xaxis\":\"x\",\"y\":[10,9],\"yaxis\":\"y\",\"type\":\"bar\"},{\"alignmentgroup\":\"True\",\"hovertemplate\":\"H/A=Home<br>Format=Test<br>Captain=%{x}<br>Centuries=%{y}<extra></extra>\",\"legendgroup\":\"Home, Test\",\"marker\":{\"color\":\"#EF553B\",\"pattern\":{\"shape\":\"\\\\\"}},\"name\":\"Home, Test\",\"offsetgroup\":\"Home, Test\",\"orientation\":\"v\",\"showlegend\":true,\"textposition\":\"auto\",\"texttemplate\":\"%{y}\",\"x\":[\"No\",\"Yes\"],\"xaxis\":\"x\",\"y\":[3,10],\"yaxis\":\"y\",\"type\":\"bar\"}],                        {\"template\":{\"data\":{\"histogram2dcontour\":[{\"type\":\"histogram2dcontour\",\"colorbar\":{\"outlinewidth\":0,\"ticks\":\"\"},\"colorscale\":[[0.0,\"#0d0887\"],[0.1111111111111111,\"#46039f\"],[0.2222222222222222,\"#7201a8\"],[0.3333333333333333,\"#9c179e\"],[0.4444444444444444,\"#bd3786\"],[0.5555555555555556,\"#d8576b\"],[0.6666666666666666,\"#ed7953\"],[0.7777777777777778,\"#fb9f3a\"],[0.8888888888888888,\"#fdca26\"],[1.0,\"#f0f921\"]]}],\"choropleth\":[{\"type\":\"choropleth\",\"colorbar\":{\"outlinewidth\":0,\"ticks\":\"\"}}],\"histogram2d\":[{\"type\":\"histogram2d\",\"colorbar\":{\"outlinewidth\":0,\"ticks\":\"\"},\"colorscale\":[[0.0,\"#0d0887\"],[0.1111111111111111,\"#46039f\"],[0.2222222222222222,\"#7201a8\"],[0.3333333333333333,\"#9c179e\"],[0.4444444444444444,\"#bd3786\"],[0.5555555555555556,\"#d8576b\"],[0.6666666666666666,\"#ed7953\"],[0.7777777777777778,\"#fb9f3a\"],[0.8888888888888888,\"#fdca26\"],[1.0,\"#f0f921\"]]}],\"heatmap\":[{\"type\":\"heatmap\",\"colorbar\":{\"outlinewidth\":0,\"ticks\":\"\"},\"colorscale\":[[0.0,\"#0d0887\"],[0.1111111111111111,\"#46039f\"],[0.2222222222222222,\"#7201a8\"],[0.3333333333333333,\"#9c179e\"],[0.4444444444444444,\"#bd3786\"],[0.5555555555555556,\"#d8576b\"],[0.6666666666666666,\"#ed7953\"],[0.7777777777777778,\"#fb9f3a\"],[0.8888888888888888,\"#fdca26\"],[1.0,\"#f0f921\"]]}],\"heatmapgl\":[{\"type\":\"heatmapgl\",\"colorbar\":{\"outlinewidth\":0,\"ticks\":\"\"},\"colorscale\":[[0.0,\"#0d0887\"],[0.1111111111111111,\"#46039f\"],[0.2222222222222222,\"#7201a8\"],[0.3333333333333333,\"#9c179e\"],[0.4444444444444444,\"#bd3786\"],[0.5555555555555556,\"#d8576b\"],[0.6666666666666666,\"#ed7953\"],[0.7777777777777778,\"#fb9f3a\"],[0.8888888888888888,\"#fdca26\"],[1.0,\"#f0f921\"]]}],\"contourcarpet\":[{\"type\":\"contourcarpet\",\"colorbar\":{\"outlinewidth\":0,\"ticks\":\"\"}}],\"contour\":[{\"type\":\"contour\",\"colorbar\":{\"outlinewidth\":0,\"ticks\":\"\"},\"colorscale\":[[0.0,\"#0d0887\"],[0.1111111111111111,\"#46039f\"],[0.2222222222222222,\"#7201a8\"],[0.3333333333333333,\"#9c179e\"],[0.4444444444444444,\"#bd3786\"],[0.5555555555555556,\"#d8576b\"],[0.6666666666666666,\"#ed7953\"],[0.7777777777777778,\"#fb9f3a\"],[0.8888888888888888,\"#fdca26\"],[1.0,\"#f0f921\"]]}],\"surface\":[{\"type\":\"surface\",\"colorbar\":{\"outlinewidth\":0,\"ticks\":\"\"},\"colorscale\":[[0.0,\"#0d0887\"],[0.1111111111111111,\"#46039f\"],[0.2222222222222222,\"#7201a8\"],[0.3333333333333333,\"#9c179e\"],[0.4444444444444444,\"#bd3786\"],[0.5555555555555556,\"#d8576b\"],[0.6666666666666666,\"#ed7953\"],[0.7777777777777778,\"#fb9f3a\"],[0.8888888888888888,\"#fdca26\"],[1.0,\"#f0f921\"]]}],\"mesh3d\":[{\"type\":\"mesh3d\",\"colorbar\":{\"outlinewidth\":0,\"ticks\":\"\"}}],\"scatter\":[{\"fillpattern\":{\"fillmode\":\"overlay\",\"size\":10,\"solidity\":0.2},\"type\":\"scatter\"}],\"parcoords\":[{\"type\":\"parcoords\",\"line\":{\"colorbar\":{\"outlinewidth\":0,\"ticks\":\"\"}}}],\"scatterpolargl\":[{\"type\":\"scatterpolargl\",\"marker\":{\"colorbar\":{\"outlinewidth\":0,\"ticks\":\"\"}}}],\"bar\":[{\"error_x\":{\"color\":\"#2a3f5f\"},\"error_y\":{\"color\":\"#2a3f5f\"},\"marker\":{\"line\":{\"color\":\"#E5ECF6\",\"width\":0.5},\"pattern\":{\"fillmode\":\"overlay\",\"size\":10,\"solidity\":0.2}},\"type\":\"bar\"}],\"scattergeo\":[{\"type\":\"scattergeo\",\"marker\":{\"colorbar\":{\"outlinewidth\":0,\"ticks\":\"\"}}}],\"scatterpolar\":[{\"type\":\"scatterpolar\",\"marker\":{\"colorbar\":{\"outlinewidth\":0,\"ticks\":\"\"}}}],\"histogram\":[{\"marker\":{\"pattern\":{\"fillmode\":\"overlay\",\"size\":10,\"solidity\":0.2}},\"type\":\"histogram\"}],\"scattergl\":[{\"type\":\"scattergl\",\"marker\":{\"colorbar\":{\"outlinewidth\":0,\"ticks\":\"\"}}}],\"scatter3d\":[{\"type\":\"scatter3d\",\"line\":{\"colorbar\":{\"outlinewidth\":0,\"ticks\":\"\"}},\"marker\":{\"colorbar\":{\"outlinewidth\":0,\"ticks\":\"\"}}}],\"scattermapbox\":[{\"type\":\"scattermapbox\",\"marker\":{\"colorbar\":{\"outlinewidth\":0,\"ticks\":\"\"}}}],\"scatterternary\":[{\"type\":\"scatterternary\",\"marker\":{\"colorbar\":{\"outlinewidth\":0,\"ticks\":\"\"}}}],\"scattercarpet\":[{\"type\":\"scattercarpet\",\"marker\":{\"colorbar\":{\"outlinewidth\":0,\"ticks\":\"\"}}}],\"carpet\":[{\"aaxis\":{\"endlinecolor\":\"#2a3f5f\",\"gridcolor\":\"white\",\"linecolor\":\"white\",\"minorgridcolor\":\"white\",\"startlinecolor\":\"#2a3f5f\"},\"baxis\":{\"endlinecolor\":\"#2a3f5f\",\"gridcolor\":\"white\",\"linecolor\":\"white\",\"minorgridcolor\":\"white\",\"startlinecolor\":\"#2a3f5f\"},\"type\":\"carpet\"}],\"table\":[{\"cells\":{\"fill\":{\"color\":\"#EBF0F8\"},\"line\":{\"color\":\"white\"}},\"header\":{\"fill\":{\"color\":\"#C8D4E3\"},\"line\":{\"color\":\"white\"}},\"type\":\"table\"}],\"barpolar\":[{\"marker\":{\"line\":{\"color\":\"#E5ECF6\",\"width\":0.5},\"pattern\":{\"fillmode\":\"overlay\",\"size\":10,\"solidity\":0.2}},\"type\":\"barpolar\"}],\"pie\":[{\"automargin\":true,\"type\":\"pie\"}]},\"layout\":{\"autotypenumbers\":\"strict\",\"colorway\":[\"#636efa\",\"#EF553B\",\"#00cc96\",\"#ab63fa\",\"#FFA15A\",\"#19d3f3\",\"#FF6692\",\"#B6E880\",\"#FF97FF\",\"#FECB52\"],\"font\":{\"color\":\"#2a3f5f\"},\"hovermode\":\"closest\",\"hoverlabel\":{\"align\":\"left\"},\"paper_bgcolor\":\"white\",\"plot_bgcolor\":\"#E5ECF6\",\"polar\":{\"bgcolor\":\"#E5ECF6\",\"angularaxis\":{\"gridcolor\":\"white\",\"linecolor\":\"white\",\"ticks\":\"\"},\"radialaxis\":{\"gridcolor\":\"white\",\"linecolor\":\"white\",\"ticks\":\"\"}},\"ternary\":{\"bgcolor\":\"#E5ECF6\",\"aaxis\":{\"gridcolor\":\"white\",\"linecolor\":\"white\",\"ticks\":\"\"},\"baxis\":{\"gridcolor\":\"white\",\"linecolor\":\"white\",\"ticks\":\"\"},\"caxis\":{\"gridcolor\":\"white\",\"linecolor\":\"white\",\"ticks\":\"\"}},\"coloraxis\":{\"colorbar\":{\"outlinewidth\":0,\"ticks\":\"\"}},\"colorscale\":{\"sequential\":[[0.0,\"#0d0887\"],[0.1111111111111111,\"#46039f\"],[0.2222222222222222,\"#7201a8\"],[0.3333333333333333,\"#9c179e\"],[0.4444444444444444,\"#bd3786\"],[0.5555555555555556,\"#d8576b\"],[0.6666666666666666,\"#ed7953\"],[0.7777777777777778,\"#fb9f3a\"],[0.8888888888888888,\"#fdca26\"],[1.0,\"#f0f921\"]],\"sequentialminus\":[[0.0,\"#0d0887\"],[0.1111111111111111,\"#46039f\"],[0.2222222222222222,\"#7201a8\"],[0.3333333333333333,\"#9c179e\"],[0.4444444444444444,\"#bd3786\"],[0.5555555555555556,\"#d8576b\"],[0.6666666666666666,\"#ed7953\"],[0.7777777777777778,\"#fb9f3a\"],[0.8888888888888888,\"#fdca26\"],[1.0,\"#f0f921\"]],\"diverging\":[[0,\"#8e0152\"],[0.1,\"#c51b7d\"],[0.2,\"#de77ae\"],[0.3,\"#f1b6da\"],[0.4,\"#fde0ef\"],[0.5,\"#f7f7f7\"],[0.6,\"#e6f5d0\"],[0.7,\"#b8e186\"],[0.8,\"#7fbc41\"],[0.9,\"#4d9221\"],[1,\"#276419\"]]},\"xaxis\":{\"gridcolor\":\"white\",\"linecolor\":\"white\",\"ticks\":\"\",\"title\":{\"standoff\":15},\"zerolinecolor\":\"white\",\"automargin\":true,\"zerolinewidth\":2},\"yaxis\":{\"gridcolor\":\"white\",\"linecolor\":\"white\",\"ticks\":\"\",\"title\":{\"standoff\":15},\"zerolinecolor\":\"white\",\"automargin\":true,\"zerolinewidth\":2},\"scene\":{\"xaxis\":{\"backgroundcolor\":\"#E5ECF6\",\"gridcolor\":\"white\",\"linecolor\":\"white\",\"showbackground\":true,\"ticks\":\"\",\"zerolinecolor\":\"white\",\"gridwidth\":2},\"yaxis\":{\"backgroundcolor\":\"#E5ECF6\",\"gridcolor\":\"white\",\"linecolor\":\"white\",\"showbackground\":true,\"ticks\":\"\",\"zerolinecolor\":\"white\",\"gridwidth\":2},\"zaxis\":{\"backgroundcolor\":\"#E5ECF6\",\"gridcolor\":\"white\",\"linecolor\":\"white\",\"showbackground\":true,\"ticks\":\"\",\"zerolinecolor\":\"white\",\"gridwidth\":2}},\"shapedefaults\":{\"line\":{\"color\":\"#2a3f5f\"}},\"annotationdefaults\":{\"arrowcolor\":\"#2a3f5f\",\"arrowhead\":0,\"arrowwidth\":1},\"geo\":{\"bgcolor\":\"white\",\"landcolor\":\"#E5ECF6\",\"subunitcolor\":\"white\",\"showland\":true,\"showlakes\":true,\"lakecolor\":\"white\"},\"title\":{\"x\":0.05},\"mapbox\":{\"style\":\"light\"}}},\"xaxis\":{\"anchor\":\"y\",\"domain\":[0.0,1.0],\"title\":{\"text\":\"Captain\"}},\"yaxis\":{\"anchor\":\"x\",\"domain\":[0.0,1.0],\"title\":{\"text\":\"Centuries\"}},\"legend\":{\"title\":{\"text\":\"H/A, Format\"},\"tracegroupgap\":0},\"margin\":{\"t\":60},\"barmode\":\"relative\",\"title\":{\"text\":\"Virat's Tons at Home and Away from Home as a Captain\",\"x\":0.5}},                        {\"responsive\": true}                    ).then(function(){\n",
       "                            \n",
       "var gd = document.getElementById('6bec4ed0-b154-4a00-a6df-89ae3ae4101b');\n",
       "var x = new MutationObserver(function (mutations, observer) {{\n",
       "        var display = window.getComputedStyle(gd).display;\n",
       "        if (!display || display === 'none') {{\n",
       "            console.log([gd, 'removed!']);\n",
       "            Plotly.purge(gd);\n",
       "            observer.disconnect();\n",
       "        }}\n",
       "}});\n",
       "\n",
       "// Listen for the removal of the full notebook cells\n",
       "var notebookContainer = gd.closest('#notebook-container');\n",
       "if (notebookContainer) {{\n",
       "    x.observe(notebookContainer, {childList: true});\n",
       "}}\n",
       "\n",
       "// Listen for the clearing of the current output cell\n",
       "var outputEl = gd.closest('.output');\n",
       "if (outputEl) {{\n",
       "    x.observe(outputEl, {childList: true});\n",
       "}}\n",
       "\n",
       "                        })                };                });            </script>        </div>"
      ]
     },
     "metadata": {},
     "output_type": "display_data"
    }
   ],
   "source": [
    "H_a = df.groupby(['Captain','Format','H/A'])['Score'].count().reset_index().rename(columns={'Score':'Centuries'})\n",
    "fig = px.bar(data_frame=H_a,x='Captain',y='Centuries',color='H/A',pattern_shape='Format',text_auto=True)\n",
    "fig.update_layout(title = \"Virat's Tons at Home and Away from Home as a Captain\", title_x=0.5)\n",
    "fig.show()"
   ]
  },
  {
   "cell_type": "markdown",
   "id": "63e74a76",
   "metadata": {
    "papermill": {
     "duration": 0.018038,
     "end_time": "2022-09-13T05:39:57.335048",
     "exception": false,
     "start_time": "2022-09-13T05:39:57.317010",
     "status": "completed"
    },
    "tags": []
   },
   "source": [
    "# To Be Continued !!!!"
   ]
  }
 ],
 "metadata": {
  "kernelspec": {
   "display_name": "Python 3",
   "language": "python",
   "name": "python3"
  },
  "language_info": {
   "codemirror_mode": {
    "name": "ipython",
    "version": 3
   },
   "file_extension": ".py",
   "mimetype": "text/x-python",
   "name": "python",
   "nbconvert_exporter": "python",
   "pygments_lexer": "ipython3",
   "version": "3.7.12"
  },
  "papermill": {
   "default_parameters": {},
   "duration": 18.709179,
   "end_time": "2022-09-13T05:39:58.378499",
   "environment_variables": {},
   "exception": null,
   "input_path": "__notebook__.ipynb",
   "output_path": "__notebook__.ipynb",
   "parameters": {},
   "start_time": "2022-09-13T05:39:39.669320",
   "version": "2.3.4"
  }
 },
 "nbformat": 4,
 "nbformat_minor": 5
}
