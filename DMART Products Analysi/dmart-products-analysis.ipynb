{
 "cells": [
  {
   "cell_type": "markdown",
   "id": "67409e6e",
   "metadata": {
    "papermill": {
     "duration": 0.037836,
     "end_time": "2022-08-23T07:04:18.293115",
     "exception": false,
     "start_time": "2022-08-23T07:04:18.255279",
     "status": "completed"
    },
    "tags": []
   },
   "source": [
    "# ✅DMART Products Analysis🛒📊 "
   ]
  },
  {
   "cell_type": "markdown",
   "id": "b14027d8",
   "metadata": {
    "papermill": {
     "duration": 0.027959,
     "end_time": "2022-08-23T07:04:18.347275",
     "exception": false,
     "start_time": "2022-08-23T07:04:18.319316",
     "status": "completed"
    },
    "tags": []
   },
   "source": [
    "<h3 style=\"background-color:rgb(220, 75, 60);padding:10px 10px;border-radius:5px 25px 25px 5px;width:550px\">Importing Libraries"
   ]
  },
  {
   "cell_type": "code",
   "execution_count": 1,
   "id": "b9047a8a",
   "metadata": {
    "execution": {
     "iopub.execute_input": "2022-08-23T07:04:18.403029Z",
     "iopub.status.busy": "2022-08-23T07:04:18.401598Z",
     "iopub.status.idle": "2022-08-23T07:04:21.014523Z",
     "shell.execute_reply": "2022-08-23T07:04:21.013046Z"
    },
    "papermill": {
     "duration": 2.646507,
     "end_time": "2022-08-23T07:04:21.018467",
     "exception": false,
     "start_time": "2022-08-23T07:04:18.371960",
     "status": "completed"
    },
    "tags": []
   },
   "outputs": [],
   "source": [
    "import pandas as pd\n",
    "import numpy as np\n",
    "import matplotlib.pyplot as plt\n",
    "import seaborn as sns\n",
    "\n",
    "import plotly.express as px\n"
   ]
  },
  {
   "cell_type": "markdown",
   "id": "a46708f3",
   "metadata": {
    "papermill": {
     "duration": 0.025042,
     "end_time": "2022-08-23T07:04:21.068876",
     "exception": false,
     "start_time": "2022-08-23T07:04:21.043834",
     "status": "completed"
    },
    "tags": []
   },
   "source": [
    "<h3 style=\"background-color:rgb(220, 75, 60);padding:10px 10px;border-radius:5px 25px 25px 5px;width:550px\">Importing Data\n"
   ]
  },
  {
   "cell_type": "code",
   "execution_count": 2,
   "id": "ecbca19d",
   "metadata": {
    "execution": {
     "iopub.execute_input": "2022-08-23T07:04:21.121549Z",
     "iopub.status.busy": "2022-08-23T07:04:21.120645Z",
     "iopub.status.idle": "2022-08-23T07:04:21.261425Z",
     "shell.execute_reply": "2022-08-23T07:04:21.260227Z"
    },
    "papermill": {
     "duration": 0.171499,
     "end_time": "2022-08-23T07:04:21.264759",
     "exception": false,
     "start_time": "2022-08-23T07:04:21.093260",
     "status": "completed"
    },
    "tags": []
   },
   "outputs": [],
   "source": [
    "df = pd.read_csv('../input/dmart-products/DMart.csv')"
   ]
  },
  {
   "cell_type": "markdown",
   "id": "1de1e91a",
   "metadata": {
    "papermill": {
     "duration": 0.024945,
     "end_time": "2022-08-23T07:04:21.314891",
     "exception": false,
     "start_time": "2022-08-23T07:04:21.289946",
     "status": "completed"
    },
    "tags": []
   },
   "source": [
    "<div style = \"color: Black;display: fill;\n",
    "              border-radius: 7px;\n",
    "              background-color: #607EAA;\n",
    "              font-size: 160%;\n",
    "              font-family: Verdana, align = center\">\n",
    "    <p style = \"padding: 15px; color: White;\"><b> Basic EDA Questions"
   ]
  },
  {
   "cell_type": "markdown",
   "id": "438d0f1b",
   "metadata": {
    "papermill": {
     "duration": 0.025812,
     "end_time": "2022-08-23T07:04:21.365970",
     "exception": false,
     "start_time": "2022-08-23T07:04:21.340158",
     "status": "completed"
    },
    "tags": []
   },
   "source": [
    "<h2 style=\"background-color:rgb(220, 75, 60);padding:10px 10px;border-radius:5px 25px 25px 5px;width:550px\">Data Structure and Distribution\n"
   ]
  },
  {
   "cell_type": "markdown",
   "id": "54dbbbb8",
   "metadata": {
    "papermill": {
     "duration": 0.024419,
     "end_time": "2022-08-23T07:04:21.415752",
     "exception": false,
     "start_time": "2022-08-23T07:04:21.391333",
     "status": "completed"
    },
    "tags": []
   },
   "source": [
    "<h6 style=\"background-color:rgb(244,164,96);padding:8px 10px;border-radius:5px 25px 25px 5px;width:250px\">1. Shape of Data\n",
    "\n"
   ]
  },
  {
   "cell_type": "code",
   "execution_count": 3,
   "id": "3110cd03",
   "metadata": {
    "execution": {
     "iopub.execute_input": "2022-08-23T07:04:21.469295Z",
     "iopub.status.busy": "2022-08-23T07:04:21.468416Z",
     "iopub.status.idle": "2022-08-23T07:04:21.479180Z",
     "shell.execute_reply": "2022-08-23T07:04:21.477824Z"
    },
    "papermill": {
     "duration": 0.041805,
     "end_time": "2022-08-23T07:04:21.482370",
     "exception": false,
     "start_time": "2022-08-23T07:04:21.440565",
     "status": "completed"
    },
    "tags": []
   },
   "outputs": [
    {
     "data": {
      "text/plain": [
       "(5189, 9)"
      ]
     },
     "execution_count": 3,
     "metadata": {},
     "output_type": "execute_result"
    }
   ],
   "source": [
    "df.shape"
   ]
  },
  {
   "cell_type": "markdown",
   "id": "8adc7fd4",
   "metadata": {
    "papermill": {
     "duration": 0.024805,
     "end_time": "2022-08-23T07:04:21.532391",
     "exception": false,
     "start_time": "2022-08-23T07:04:21.507586",
     "status": "completed"
    },
    "tags": []
   },
   "source": [
    "**Our Dataset is having 5189 observations with 9 column.**"
   ]
  },
  {
   "cell_type": "markdown",
   "id": "29489f67",
   "metadata": {
    "papermill": {
     "duration": 0.025346,
     "end_time": "2022-08-23T07:04:21.583365",
     "exception": false,
     "start_time": "2022-08-23T07:04:21.558019",
     "status": "completed"
    },
    "tags": []
   },
   "source": [
    "<h6 style=\"background-color:rgb(244,164,96);padding:8px 10px;border-radius:5px 25px 25px 5px;width:250px\">2. Datatype of each column\n"
   ]
  },
  {
   "cell_type": "code",
   "execution_count": 4,
   "id": "3bfc7a05",
   "metadata": {
    "execution": {
     "iopub.execute_input": "2022-08-23T07:04:21.636342Z",
     "iopub.status.busy": "2022-08-23T07:04:21.635803Z",
     "iopub.status.idle": "2022-08-23T07:04:21.671879Z",
     "shell.execute_reply": "2022-08-23T07:04:21.670417Z"
    },
    "papermill": {
     "duration": 0.066855,
     "end_time": "2022-08-23T07:04:21.675896",
     "exception": false,
     "start_time": "2022-08-23T07:04:21.609041",
     "status": "completed"
    },
    "tags": []
   },
   "outputs": [
    {
     "name": "stdout",
     "output_type": "stream",
     "text": [
      "<class 'pandas.core.frame.DataFrame'>\n",
      "RangeIndex: 5189 entries, 0 to 5188\n",
      "Data columns (total 9 columns):\n",
      " #   Column           Non-Null Count  Dtype  \n",
      "---  ------           --------------  -----  \n",
      " 0   Name             5188 non-null   object \n",
      " 1   Brand            4789 non-null   object \n",
      " 2   Price            5188 non-null   float64\n",
      " 3   DiscountedPrice  5188 non-null   float64\n",
      " 4   Category         5186 non-null   object \n",
      " 5   SubCategory      5186 non-null   object \n",
      " 6   Quantity         5188 non-null   object \n",
      " 7   Description      5187 non-null   object \n",
      " 8   BreadCrumbs      5186 non-null   object \n",
      "dtypes: float64(2), object(7)\n",
      "memory usage: 365.0+ KB\n"
     ]
    }
   ],
   "source": [
    "df.info()"
   ]
  },
  {
   "cell_type": "markdown",
   "id": "903a44f7",
   "metadata": {
    "papermill": {
     "duration": 0.024577,
     "end_time": "2022-08-23T07:04:21.726090",
     "exception": false,
     "start_time": "2022-08-23T07:04:21.701513",
     "status": "completed"
    },
    "tags": []
   },
   "source": [
    "<h6 style=\"background-color:rgb(244,164,96);padding:8px 10px;border-radius:5px 25px 25px 5px;width:750px\">3. From what you know about the features of your dataset, do the data types make sense? Do you need to change any?\n"
   ]
  },
  {
   "cell_type": "code",
   "execution_count": 5,
   "id": "5df40cdf",
   "metadata": {
    "execution": {
     "iopub.execute_input": "2022-08-23T07:04:21.780262Z",
     "iopub.status.busy": "2022-08-23T07:04:21.779026Z",
     "iopub.status.idle": "2022-08-23T07:04:21.802897Z",
     "shell.execute_reply": "2022-08-23T07:04:21.801507Z"
    },
    "papermill": {
     "duration": 0.053851,
     "end_time": "2022-08-23T07:04:21.805782",
     "exception": false,
     "start_time": "2022-08-23T07:04:21.751931",
     "status": "completed"
    },
    "tags": []
   },
   "outputs": [
    {
     "data": {
      "text/html": [
       "<div>\n",
       "<style scoped>\n",
       "    .dataframe tbody tr th:only-of-type {\n",
       "        vertical-align: middle;\n",
       "    }\n",
       "\n",
       "    .dataframe tbody tr th {\n",
       "        vertical-align: top;\n",
       "    }\n",
       "\n",
       "    .dataframe thead th {\n",
       "        text-align: right;\n",
       "    }\n",
       "</style>\n",
       "<table border=\"1\" class=\"dataframe\">\n",
       "  <thead>\n",
       "    <tr style=\"text-align: right;\">\n",
       "      <th></th>\n",
       "      <th>Name</th>\n",
       "      <th>Brand</th>\n",
       "      <th>Price</th>\n",
       "      <th>DiscountedPrice</th>\n",
       "      <th>Category</th>\n",
       "      <th>SubCategory</th>\n",
       "      <th>Quantity</th>\n",
       "      <th>Description</th>\n",
       "      <th>BreadCrumbs</th>\n",
       "    </tr>\n",
       "  </thead>\n",
       "  <tbody>\n",
       "    <tr>\n",
       "      <th>0</th>\n",
       "      <td>Premia Badam (Almonds)</td>\n",
       "      <td>Premia</td>\n",
       "      <td>451.0</td>\n",
       "      <td>329.0</td>\n",
       "      <td>Grocery</td>\n",
       "      <td>Grocery/Dry Fruits</td>\n",
       "      <td>500 gm</td>\n",
       "      <td>India</td>\n",
       "      <td>Grocery &gt; Grocery/Dry Fruits</td>\n",
       "    </tr>\n",
       "    <tr>\n",
       "      <th>1</th>\n",
       "      <td>Premia Badam (Almonds)</td>\n",
       "      <td>Premia</td>\n",
       "      <td>109.0</td>\n",
       "      <td>85.0</td>\n",
       "      <td>Grocery</td>\n",
       "      <td>Grocery/Dry Fruits</td>\n",
       "      <td>100 gm</td>\n",
       "      <td>India</td>\n",
       "      <td>Grocery &gt; Grocery/Dry Fruits</td>\n",
       "    </tr>\n",
       "    <tr>\n",
       "      <th>2</th>\n",
       "      <td>Premia Badam (Almonds)</td>\n",
       "      <td>Premia</td>\n",
       "      <td>202.0</td>\n",
       "      <td>175.0</td>\n",
       "      <td>Grocery</td>\n",
       "      <td>Grocery/Dry Fruits</td>\n",
       "      <td>200 gm</td>\n",
       "      <td>India</td>\n",
       "      <td>Grocery &gt; Grocery/Dry Fruits</td>\n",
       "    </tr>\n",
       "    <tr>\n",
       "      <th>3</th>\n",
       "      <td>Nutraj California Almonds (Badam)</td>\n",
       "      <td>Nutraj</td>\n",
       "      <td>599.0</td>\n",
       "      <td>349.0</td>\n",
       "      <td>Grocery</td>\n",
       "      <td>Dry Fruits</td>\n",
       "      <td>500 gm</td>\n",
       "      <td>USA</td>\n",
       "      <td>Grocery &gt; Dry Fruits</td>\n",
       "    </tr>\n",
       "    <tr>\n",
       "      <th>4</th>\n",
       "      <td>Nutraj California Almonds (Badam)</td>\n",
       "      <td>Nutraj</td>\n",
       "      <td>1549.0</td>\n",
       "      <td>659.0</td>\n",
       "      <td>Grocery</td>\n",
       "      <td>Dry Fruits</td>\n",
       "      <td>1 kg</td>\n",
       "      <td>USA</td>\n",
       "      <td>Grocery &gt; Dry Fruits</td>\n",
       "    </tr>\n",
       "  </tbody>\n",
       "</table>\n",
       "</div>"
      ],
      "text/plain": [
       "                                Name   Brand   Price  DiscountedPrice  \\\n",
       "0             Premia Badam (Almonds)  Premia   451.0            329.0   \n",
       "1             Premia Badam (Almonds)  Premia   109.0             85.0   \n",
       "2             Premia Badam (Almonds)  Premia   202.0            175.0   \n",
       "3  Nutraj California Almonds (Badam)  Nutraj   599.0            349.0   \n",
       "4  Nutraj California Almonds (Badam)  Nutraj  1549.0            659.0   \n",
       "\n",
       "  Category         SubCategory Quantity Description  \\\n",
       "0  Grocery  Grocery/Dry Fruits   500 gm       India   \n",
       "1  Grocery  Grocery/Dry Fruits   100 gm       India   \n",
       "2  Grocery  Grocery/Dry Fruits   200 gm       India   \n",
       "3  Grocery          Dry Fruits   500 gm         USA   \n",
       "4  Grocery          Dry Fruits     1 kg         USA   \n",
       "\n",
       "                    BreadCrumbs  \n",
       "0  Grocery > Grocery/Dry Fruits  \n",
       "1  Grocery > Grocery/Dry Fruits  \n",
       "2  Grocery > Grocery/Dry Fruits  \n",
       "3          Grocery > Dry Fruits  \n",
       "4          Grocery > Dry Fruits  "
      ]
     },
     "execution_count": 5,
     "metadata": {},
     "output_type": "execute_result"
    }
   ],
   "source": [
    "df.head()"
   ]
  },
  {
   "cell_type": "markdown",
   "id": "21564c23",
   "metadata": {
    "papermill": {
     "duration": 0.025575,
     "end_time": "2022-08-23T07:04:21.856589",
     "exception": false,
     "start_time": "2022-08-23T07:04:21.831014",
     "status": "completed"
    },
    "tags": []
   },
   "source": [
    "**Conclusion** : Here we can observe that the Datatype of Quantity column which is given as Str will not help us in our analysis so we need to change it.\n",
    "\n",
    "*But fot making any change we have to look upon the unique values which are present in Quantity Column*"
   ]
  },
  {
   "cell_type": "code",
   "execution_count": 6,
   "id": "091be929",
   "metadata": {
    "execution": {
     "iopub.execute_input": "2022-08-23T07:04:21.911036Z",
     "iopub.status.busy": "2022-08-23T07:04:21.909653Z",
     "iopub.status.idle": "2022-08-23T07:04:21.921481Z",
     "shell.execute_reply": "2022-08-23T07:04:21.920175Z"
    },
    "papermill": {
     "duration": 0.041838,
     "end_time": "2022-08-23T07:04:21.924295",
     "exception": false,
     "start_time": "2022-08-23T07:04:21.882457",
     "status": "completed"
    },
    "tags": []
   },
   "outputs": [
    {
     "data": {
      "text/plain": [
       "array(['500 gm', '100 gm', '200 gm', '1 kg', '400 gm', '5 kg', '250 gm',\n",
       "       '1 Kg', '150 gm', '450 gm', '50 gm', '1 L', '900 gm', '20 gm',\n",
       "       '10 gm', '4 pcs', '5 L', '15 L', '5  L', '500 ml', '2 L', '200 ml',\n",
       "       '250 ml', '2x1L', '225 ml', '10 kg', '5 Kg', ' 5 kg', '25 gm',\n",
       "       '350 gm', '72 gm', ' 50 gm', '35 gm', '60 gm', '120 gm', '80 gm',\n",
       "       '5 U', '40 gm', '700 gm', '1 gm', '45 gm', '7 gm', '75 gm',\n",
       "       '20 ml', '1.5 kg', '25 Bags', '100 Bags', '10 Bags', '50 Bags',\n",
       "       '140 gm', '168 gm', '16 Bags', '180 ml', '1 L x 12 U', '476 gm',\n",
       "       '750 gm', '663 gm', '600 gm', '180 gm', '160 gm', '20 Bag',\n",
       "       '2x500 gm', '95 gm', '48 gm', '5x65 ml', '380 gm', '10 U',\n",
       "       '150 ml', '85 gm', '90 gm', '225 gm', '2.25 L', '600 ml', '1.75 L',\n",
       "       '8x250 ml', '750 ml', '300 ml', '6x330 ml', '330 ml', '750  ml',\n",
       "       '1.2 L', '6x250 ml', '4x250 ml', '350 ml', '623 gm', '253 gm',\n",
       "       '143 gm', '584 gm', '4X100 gm', '300 gm', '138 gm', '276 gm',\n",
       "       '124 gm', '135 gm', '14x10.8 gm', '800 gm', '190.5 gm', '248 gm',\n",
       "       '105 gm', '504 gm', '190 gm', '654 gm', '273 gm', '125 gm',\n",
       "       '275 gm', '170 gm', '77.2 gm', '81 gm', '74 gm', '73 gm', '104 gm',\n",
       "       '174 gm', '107 gm', '71.5 gm', '153 gm', '78 gm', '130 gm',\n",
       "       '57 gm', '52 gm', '55 gm', '91 gm', '110 gm', '117 gm', '145 gm',\n",
       "       '70 gm', '185 gm', '30 gm', '96 gm', '99 gm', '28 gm', '59 gm',\n",
       "       '65 gm', '210 gm', '1.25 Kg', '420 gm', '425 gm', '760 gm',\n",
       "       '415 gm', '360 gm', '15 Pcs', '550 gm', '24 Pcs', '340 gm',\n",
       "       '540 gm', '320 gm', '1.24 kg', '5 pcs', '230 gm', '94 gm', '92 gm',\n",
       "       '875 gm', '475 gm', '1.2 kg', '1200 gm', '22 gm', '156 gm',\n",
       "       '460 gm', '375 gm', '285 gm', '38 gm', '126 gm', '605 gm',\n",
       "       '119 gm', '137 gm', '187.2 gm', '162 gm', '142.2 gm', '24 gm',\n",
       "       '391 gm', '195.5 gm', '108.5 gm', '15.8 gm', '36 gm', '36.5 gm',\n",
       "       '100.8 gm', '108 gm', '27.5 gm', '19 gm', '20x10 gm', '25.28 gm',\n",
       "       '20.1 gm', '26 gm', '139.2 gm', '69.6 gm', '272 gm', '240 gm',\n",
       "       '130.9 gm', '59.8 gm', '148 gm', '42 gm', '177 gm', '87 gm',\n",
       "       '950 gm', '680 gm', '325 gm', '280 gm', '525 gm', '255 gm',\n",
       "       '60 ml', '510 gm', '481 gm', '396 gm', '397 gm', '226 gm',\n",
       "       '170 ml', '355 ml', '473 ml', '470 gm', '925 gm', '1.25 kg',\n",
       "       '290 gm', '1.2 Kg', '227 gm', '284 gm', '435 gm', '520 gm',\n",
       "       '480 gm', '184 gm', '46 gm', '192 gm', '560 gm', '850 gm',\n",
       "       '200 Gm', '6 Pcs', '159 gm', '270 gm', '384 gm', '198 gm', '37 gm',\n",
       "       '294 gm', '137.5 gm', '136 gm', '32.5 gm', '32.55 gm', '7.2 gm',\n",
       "       '300 Pellets', '500 Pellets', '50 ml', '2x500gm', '200 Drops',\n",
       "       '25 Sachets', '30 U', '53 gm', '44 gm', '14 gm', '12 gm', '41 gm',\n",
       "       '11 gm', '15 gm', '1 pc', '4 Pcs', '3 pcs', '4 U', '6 pcs', '3 kg',\n",
       "       '2 kg', '1 U', '2 pcs', '2 U', '6 kg', '4 kg', '7 Kg', '4 Kg',\n",
       "       '4x250 gm', '6x250 gm', '4x200 gm', '5x200 gm', '1.8 L', '430 ml',\n",
       "       '860 ml', '1.6 L', '800 ml', '550 ml', '1.25 L', '975 ml', ' 1 L',\n",
       "       '435 ml', '3x200 gm', '900 ml', '2x700 gm', '115 gm', 'Pack of 5',\n",
       "       '3x360 gm', 'Pack of 3', 'Pack of 2', '24 Tablets', '63.8 gm',\n",
       "       '625 ml', '400 ml', '45 ml', '2x45 ml', '4x45 ml', '4x48 gm',\n",
       "       '4x72 gm', '6x45 ml', '1 Unit', '220 ml', '3x10 gm', '8 ml',\n",
       "       '240 ml', '425 ml', 'Brown', 'Navy Blue', 'Pack of 6', 'Jazz 04',\n",
       "       'Beige', 'Maroon', '22 cm x 20 M', '30 cm x 3 M', '15 U',\n",
       "       '30 cm x 5 M', '72 mtr', '6 mtr', '30 cm x 20 metres', '20 U',\n",
       "       '200 U', '100 U', '25 U', '25 Wipes', 'Blue', 'Green', '4 Units',\n",
       "       '90 U', 'Pack of 15', '50 U', '6 U', '10 L', 'Pack of 10',\n",
       "       'Orange', '3 U', 'Pack of 4', 'Pink', 'Red', '2 Units', '3 Pcs',\n",
       "       '1 Wipe', '800 W', '12 U', '400 W', '2 Pcs', 'Set of 6',\n",
       "       'Set Of 3', '1.5 Litres', '125 W', '350 W', '20 Pcs', '5 Pcs',\n",
       "       'Nicolas Green', 'Nicolas Brown', 'Boston Brick', 'Boston Teal',\n",
       "       'Charles Brown', 'Charles Peach', 'Jules Beige', 'Jules Blue',\n",
       "       'Zoe Pink', 'ZOE Peri', 'Strike Brown', 'Strike Mauve', '6  U',\n",
       "       'Set of 3', '4 x 6 Feet', '6 x 6 Feet', 'Grey', 'Brown & Beige',\n",
       "       'Purple', 'Indigo', 'Steel', 'Coral', '75x150 cm', 'Ruby Red',\n",
       "       '40x60 cm', 'Set of 2', 'Pack of 50', 'Pack of 30', '450 ml',\n",
       "       'Pack of 25', '5.5 Litres', '3 Litres', '5 Litres', '3 Units',\n",
       "       '3 Litres + 2 Litres', '7.5 Litres', '2 Litres', '4 Litres',\n",
       "       '3 Containers', '1 Litre', ' 6 Pcs', '12 Pcs', '7 Pcs', '3 L',\n",
       "       '2 Unit', '2.5 L', '2.2 L', 'Set of 20', '7 pcs', '320 ml',\n",
       "       'English Lavender', '245 ml', 'Radiant Curve', '10 Pcs',\n",
       "       'Blissful Green', '18 Pcs', 'Set of 7', 'Trinity Green',\n",
       "       'Set of 5', '1.3 L', 'Set of 4', '2 Containers', '870 ml',\n",
       "       '420 ml', '1.8 Litres', '1.1 Litre', '52 U', '265 gm', '191 U',\n",
       "       '132 gm', '108 U', '106 U', '36 U', '24 U', '235 gm', '8 U',\n",
       "       '130 U', '60 U', 'Lemon Grass', 'Orchid Blossom', 'Fresh Lavender',\n",
       "       '165 gm', '18 U', '10 Pieces', '20 Watts', '2 Pieces', '4 Pieces',\n",
       "       '6 Pieces', '12 Watts', '18 Watts', '7 Watts', '9 Watts',\n",
       "       '10 Watts', '23 Watts', '0.5 Watts', '9 Watt', '25 Watts', '12 W',\n",
       "       '14 Watts', '6 Unit', 'Pack of 20', '5 Metres', '4 Metres',\n",
       "       '24 x 50 Meters', '3 gm', '3x125 gm', '4x125 gm', '5x100 gm',\n",
       "       '3x150 gm', '3x75 gm', '5x125 gm', '4x100 gm', '4x150 gm',\n",
       "       '4x75 gm', ' 5x125 gm', '3x100 gm', '4X125 gm', '275 ml', '100 ml',\n",
       "       '23 gm', '120 ml', '130 ml', '210 ml', '25 ml', '4.8 gm', '2 gm',\n",
       "       '4.5 gm', '15 ml', '30 ml', '115 ml', '175 ml', '75 ml', '88 ml',\n",
       "       '22 ml', '65 ml', '98 gm', '33 gm', '8 gm', '9 gm', '18 ml',\n",
       "       '27 ml', '35 ml', '125 ml', '30 Wipes', '10 Wipes', '4.5 ml',\n",
       "       '6.8 ml', '4 gm', '6.7 gm', '6 ml', '650 ml', '285 ml', '95 ml',\n",
       "       '475 ml', '340 ml', '640 ml', '360 ml', '580 ml', '704 ml',\n",
       "       '190 ml', '335 ml', '87.5 gm', '72 ml', '10 ml + 10 ml', '40 ml',\n",
       "       '1000 W', '0.35 gm', '1.2 gm', '0.7 gm', '13 ml', '9.2 ml',\n",
       "       '10 ml', '9 ml', '9.5 gm', '5 gm', '8.5 ml', '3 ml', '2.5 gm',\n",
       "       '0.6 ml', '3.5 ml', '1.5 gm', '5 ml', '2.5 ml', '1.2 ml', '1 ml',\n",
       "       '6.1 gm', '1.7 gm', '7 ml', '5.6 ml', '3.9 gm', '4 ml', '1.4 gm',\n",
       "       '4.2 gm', '1.3 gm', '3.6 gm', '80 ml', '56', '28', '121', '30',\n",
       "       '59', '8', '129', '2x200 gm', '2x150 gm', '2x100 gm', '2x175 gm',\n",
       "       '44 U', '42 U', '40 U', '48 U', '16 U', '27 U', '154 ml',\n",
       "       '5 Razors', '418 gm', '196 gm', '2x75 gm', '54 U', '66 U', '70 U',\n",
       "       '46 U', '84 U', '28 U', '98 U', '120 U', '34 U', '93 U', '72 U',\n",
       "       '86 U', '76 U', '72 Wipes', '80 Wipes', '120 Tablets', '30 Unit',\n",
       "       '110 ml', '2x0.5 ml', '70 Pill', '16 gm', '21 ml', '27.5 ml',\n",
       "       '32 gm', '100 Pcs', '60 Tablets', '3X175 ml', '725 ml', '10 W',\n",
       "       '4 Unit', '2000 W', 'Silver White', 'Smoked Brown', 'Silver Sage',\n",
       "       '1.5 L', '750 W', '550 W', '500 W', '1800 W', '1900 W', '1400 W',\n",
       "       'Size M', 'Size S', 'Size L', 'Size XL', 'Size XXL', 'Size XXXL',\n",
       "       'XL (95 cm)', 'M (85 cm)', 'XXXL (105 cm)', 'XXL (100 cm)',\n",
       "       'Pack Of 3', '3 W', nan, '50 Shades', '2 Burners', '1 Book',\n",
       "       'Size 7', 'Size 5', 'Size 6', 'Size 4', '250 ml x 48U', 'Black',\n",
       "       '10 x 12 Inches', '8 x 10 Inches', '12 Shades', '12x16.5 gm',\n",
       "       '14 Shades'], dtype=object)"
      ]
     },
     "execution_count": 6,
     "metadata": {},
     "output_type": "execute_result"
    }
   ],
   "source": [
    "df['Quantity'].unique()"
   ]
  },
  {
   "cell_type": "markdown",
   "id": "c63cc862",
   "metadata": {
    "papermill": {
     "duration": 0.025098,
     "end_time": "2022-08-23T07:04:21.976387",
     "exception": false,
     "start_time": "2022-08-23T07:04:21.951289",
     "status": "completed"
    },
    "tags": []
   },
   "source": [
    "*Looking at above values we can conclude that converting this column will become a hectinc task so we won't consider this column in our analysis*"
   ]
  },
  {
   "cell_type": "markdown",
   "id": "70167336",
   "metadata": {
    "papermill": {
     "duration": 0.026702,
     "end_time": "2022-08-23T07:04:22.029425",
     "exception": false,
     "start_time": "2022-08-23T07:04:22.002723",
     "status": "completed"
    },
    "tags": []
   },
   "source": [
    "<h6 style=\"background-color:rgb(244,164,96);padding:8px 10px;border-radius:5px 25px 25px 5px;width:250px\">Checking Duplicates"
   ]
  },
  {
   "cell_type": "code",
   "execution_count": 7,
   "id": "bb27c7c6",
   "metadata": {
    "execution": {
     "iopub.execute_input": "2022-08-23T07:04:22.085377Z",
     "iopub.status.busy": "2022-08-23T07:04:22.084847Z",
     "iopub.status.idle": "2022-08-23T07:04:22.106153Z",
     "shell.execute_reply": "2022-08-23T07:04:22.104748Z"
    },
    "papermill": {
     "duration": 0.05335,
     "end_time": "2022-08-23T07:04:22.108901",
     "exception": false,
     "start_time": "2022-08-23T07:04:22.055551",
     "status": "completed"
    },
    "tags": []
   },
   "outputs": [
    {
     "data": {
      "text/plain": [
       "0"
      ]
     },
     "execution_count": 7,
     "metadata": {},
     "output_type": "execute_result"
    }
   ],
   "source": [
    "df.duplicated().sum()"
   ]
  },
  {
   "cell_type": "markdown",
   "id": "0328336d",
   "metadata": {
    "papermill": {
     "duration": 0.025986,
     "end_time": "2022-08-23T07:04:22.162873",
     "exception": false,
     "start_time": "2022-08-23T07:04:22.136887",
     "status": "completed"
    },
    "tags": []
   },
   "source": [
    "**No Duplicate Value found !!**"
   ]
  },
  {
   "cell_type": "markdown",
   "id": "8f9ff8f3",
   "metadata": {
    "papermill": {
     "duration": 0.027593,
     "end_time": "2022-08-23T07:04:22.216981",
     "exception": false,
     "start_time": "2022-08-23T07:04:22.189388",
     "status": "completed"
    },
    "tags": []
   },
   "source": [
    "<h6 style=\"background-color:rgb(244,164,96);padding:8px 10px;border-radius:5px 25px 25px 5px;width:250px\"> 4. Do we have null values?\n"
   ]
  },
  {
   "cell_type": "code",
   "execution_count": 8,
   "id": "0b724f12",
   "metadata": {
    "execution": {
     "iopub.execute_input": "2022-08-23T07:04:22.274028Z",
     "iopub.status.busy": "2022-08-23T07:04:22.272576Z",
     "iopub.status.idle": "2022-08-23T07:04:22.286452Z",
     "shell.execute_reply": "2022-08-23T07:04:22.285368Z"
    },
    "papermill": {
     "duration": 0.044855,
     "end_time": "2022-08-23T07:04:22.289163",
     "exception": false,
     "start_time": "2022-08-23T07:04:22.244308",
     "status": "completed"
    },
    "tags": []
   },
   "outputs": [
    {
     "data": {
      "text/plain": [
       "Name                 1\n",
       "Brand              400\n",
       "Price                1\n",
       "DiscountedPrice      1\n",
       "Category             3\n",
       "SubCategory          3\n",
       "Quantity             1\n",
       "Description          2\n",
       "BreadCrumbs          3\n",
       "dtype: int64"
      ]
     },
     "execution_count": 8,
     "metadata": {},
     "output_type": "execute_result"
    }
   ],
   "source": [
    "df.isnull().sum()"
   ]
  },
  {
   "cell_type": "markdown",
   "id": "fa6cc433",
   "metadata": {
    "papermill": {
     "duration": 0.025325,
     "end_time": "2022-08-23T07:04:22.340431",
     "exception": false,
     "start_time": "2022-08-23T07:04:22.315106",
     "status": "completed"
    },
    "tags": []
   },
   "source": [
    "**Yes, Our data is having multiple Null Values.**"
   ]
  },
  {
   "cell_type": "markdown",
   "id": "34b8b0a5",
   "metadata": {
    "papermill": {
     "duration": 0.025691,
     "end_time": "2022-08-23T07:04:22.391899",
     "exception": false,
     "start_time": "2022-08-23T07:04:22.366208",
     "status": "completed"
    },
    "tags": []
   },
   "source": [
    "<h6 style=\"background-color:rgb(244,164,96);padding:8px 10px;border-radius:5px 25px 25px 5px;width:250px\"> Dealing with NULL Values"
   ]
  },
  {
   "cell_type": "code",
   "execution_count": 9,
   "id": "0661a08d",
   "metadata": {
    "execution": {
     "iopub.execute_input": "2022-08-23T07:04:22.447556Z",
     "iopub.status.busy": "2022-08-23T07:04:22.446583Z",
     "iopub.status.idle": "2022-08-23T07:04:22.454123Z",
     "shell.execute_reply": "2022-08-23T07:04:22.452983Z"
    },
    "papermill": {
     "duration": 0.038093,
     "end_time": "2022-08-23T07:04:22.456873",
     "exception": false,
     "start_time": "2022-08-23T07:04:22.418780",
     "status": "completed"
    },
    "tags": []
   },
   "outputs": [],
   "source": [
    "df['Name'] = df['Name'].fillna('Kitchen Appliance')"
   ]
  },
  {
   "cell_type": "code",
   "execution_count": 10,
   "id": "c7cb02bd",
   "metadata": {
    "execution": {
     "iopub.execute_input": "2022-08-23T07:04:22.512333Z",
     "iopub.status.busy": "2022-08-23T07:04:22.511348Z",
     "iopub.status.idle": "2022-08-23T07:04:22.518412Z",
     "shell.execute_reply": "2022-08-23T07:04:22.517213Z"
    },
    "papermill": {
     "duration": 0.037753,
     "end_time": "2022-08-23T07:04:22.521398",
     "exception": false,
     "start_time": "2022-08-23T07:04:22.483645",
     "status": "completed"
    },
    "tags": []
   },
   "outputs": [],
   "source": [
    "df['Brand'] = df['Brand'].fillna('Local/Unknown')"
   ]
  },
  {
   "cell_type": "code",
   "execution_count": 11,
   "id": "f44f981d",
   "metadata": {
    "execution": {
     "iopub.execute_input": "2022-08-23T07:04:22.578887Z",
     "iopub.status.busy": "2022-08-23T07:04:22.577973Z",
     "iopub.status.idle": "2022-08-23T07:04:22.597859Z",
     "shell.execute_reply": "2022-08-23T07:04:22.596493Z"
    },
    "papermill": {
     "duration": 0.051828,
     "end_time": "2022-08-23T07:04:22.600840",
     "exception": false,
     "start_time": "2022-08-23T07:04:22.549012",
     "status": "completed"
    },
    "tags": []
   },
   "outputs": [
    {
     "data": {
      "text/html": [
       "<div>\n",
       "<style scoped>\n",
       "    .dataframe tbody tr th:only-of-type {\n",
       "        vertical-align: middle;\n",
       "    }\n",
       "\n",
       "    .dataframe tbody tr th {\n",
       "        vertical-align: top;\n",
       "    }\n",
       "\n",
       "    .dataframe thead th {\n",
       "        text-align: right;\n",
       "    }\n",
       "</style>\n",
       "<table border=\"1\" class=\"dataframe\">\n",
       "  <thead>\n",
       "    <tr style=\"text-align: right;\">\n",
       "      <th></th>\n",
       "      <th>Name</th>\n",
       "      <th>Brand</th>\n",
       "      <th>Price</th>\n",
       "      <th>DiscountedPrice</th>\n",
       "      <th>Category</th>\n",
       "      <th>SubCategory</th>\n",
       "      <th>Quantity</th>\n",
       "      <th>Description</th>\n",
       "      <th>BreadCrumbs</th>\n",
       "    </tr>\n",
       "  </thead>\n",
       "  <tbody>\n",
       "    <tr>\n",
       "      <th>4323</th>\n",
       "      <td>Elle 18 Nail Pops Nail Colour - Shade 125</td>\n",
       "      <td>Elle 18</td>\n",
       "      <td>NaN</td>\n",
       "      <td>NaN</td>\n",
       "      <td>Personal Care</td>\n",
       "      <td>Personal Care/Nail Care</td>\n",
       "      <td>5 ml</td>\n",
       "      <td>NaN</td>\n",
       "      <td>Personal Care &gt; Personal Care/Nail Care</td>\n",
       "    </tr>\n",
       "  </tbody>\n",
       "</table>\n",
       "</div>"
      ],
      "text/plain": [
       "                                           Name    Brand  Price  \\\n",
       "4323  Elle 18 Nail Pops Nail Colour - Shade 125  Elle 18    NaN   \n",
       "\n",
       "      DiscountedPrice       Category              SubCategory Quantity  \\\n",
       "4323              NaN  Personal Care  Personal Care/Nail Care     5 ml   \n",
       "\n",
       "     Description                              BreadCrumbs  \n",
       "4323         NaN  Personal Care > Personal Care/Nail Care  "
      ]
     },
     "execution_count": 11,
     "metadata": {},
     "output_type": "execute_result"
    }
   ],
   "source": [
    "df[df['Price'].isnull()==True]"
   ]
  },
  {
   "cell_type": "code",
   "execution_count": 12,
   "id": "fe4f0cee",
   "metadata": {
    "execution": {
     "iopub.execute_input": "2022-08-23T07:04:22.659301Z",
     "iopub.status.busy": "2022-08-23T07:04:22.658742Z",
     "iopub.status.idle": "2022-08-23T07:04:22.668165Z",
     "shell.execute_reply": "2022-08-23T07:04:22.667126Z"
    },
    "papermill": {
     "duration": 0.042729,
     "end_time": "2022-08-23T07:04:22.670896",
     "exception": false,
     "start_time": "2022-08-23T07:04:22.628167",
     "status": "completed"
    },
    "tags": []
   },
   "outputs": [],
   "source": [
    "df['Price']=df['Price'].fillna(df[df['SubCategory']=='Personal Care/Nail Care']['Price'].mean())"
   ]
  },
  {
   "cell_type": "code",
   "execution_count": 13,
   "id": "3bbc7071",
   "metadata": {
    "execution": {
     "iopub.execute_input": "2022-08-23T07:04:22.728782Z",
     "iopub.status.busy": "2022-08-23T07:04:22.727882Z",
     "iopub.status.idle": "2022-08-23T07:04:22.738619Z",
     "shell.execute_reply": "2022-08-23T07:04:22.736758Z"
    },
    "papermill": {
     "duration": 0.043614,
     "end_time": "2022-08-23T07:04:22.742073",
     "exception": false,
     "start_time": "2022-08-23T07:04:22.698459",
     "status": "completed"
    },
    "tags": []
   },
   "outputs": [],
   "source": [
    "df['DiscountedPrice']=df['DiscountedPrice'].fillna(df[df['SubCategory']=='Personal Care/Nail Care']['DiscountedPrice'].mean())"
   ]
  },
  {
   "cell_type": "code",
   "execution_count": 14,
   "id": "8bd2b701",
   "metadata": {
    "execution": {
     "iopub.execute_input": "2022-08-23T07:04:22.798481Z",
     "iopub.status.busy": "2022-08-23T07:04:22.797611Z",
     "iopub.status.idle": "2022-08-23T07:04:22.818133Z",
     "shell.execute_reply": "2022-08-23T07:04:22.816689Z"
    },
    "papermill": {
     "duration": 0.051629,
     "end_time": "2022-08-23T07:04:22.821020",
     "exception": false,
     "start_time": "2022-08-23T07:04:22.769391",
     "status": "completed"
    },
    "tags": []
   },
   "outputs": [
    {
     "data": {
      "text/html": [
       "<div>\n",
       "<style scoped>\n",
       "    .dataframe tbody tr th:only-of-type {\n",
       "        vertical-align: middle;\n",
       "    }\n",
       "\n",
       "    .dataframe tbody tr th {\n",
       "        vertical-align: top;\n",
       "    }\n",
       "\n",
       "    .dataframe thead th {\n",
       "        text-align: right;\n",
       "    }\n",
       "</style>\n",
       "<table border=\"1\" class=\"dataframe\">\n",
       "  <thead>\n",
       "    <tr style=\"text-align: right;\">\n",
       "      <th></th>\n",
       "      <th>Name</th>\n",
       "      <th>Brand</th>\n",
       "      <th>Price</th>\n",
       "      <th>DiscountedPrice</th>\n",
       "      <th>Category</th>\n",
       "      <th>SubCategory</th>\n",
       "      <th>Quantity</th>\n",
       "      <th>Description</th>\n",
       "      <th>BreadCrumbs</th>\n",
       "    </tr>\n",
       "  </thead>\n",
       "  <tbody>\n",
       "    <tr>\n",
       "      <th>3180</th>\n",
       "      <td>Stainless Steel Idli Maker with Lid</td>\n",
       "      <td>Keyur Kitchenware</td>\n",
       "      <td>900.0</td>\n",
       "      <td>499.0</td>\n",
       "      <td>NaN</td>\n",
       "      <td>NaN</td>\n",
       "      <td>1 Unit</td>\n",
       "      <td>\\n- Container Material : Stainless Steel\\n- Ha...</td>\n",
       "      <td>NaN</td>\n",
       "    </tr>\n",
       "    <tr>\n",
       "      <th>3243</th>\n",
       "      <td>Pigeon ESS Non-Stick Gift Set - Red</td>\n",
       "      <td>Pigeon</td>\n",
       "      <td>2895.0</td>\n",
       "      <td>1359.0</td>\n",
       "      <td>NaN</td>\n",
       "      <td>NaN</td>\n",
       "      <td>7 pcs</td>\n",
       "      <td>\\n-Specifications :\\n- Coating : 5 Layers Non-...</td>\n",
       "      <td>NaN</td>\n",
       "    </tr>\n",
       "    <tr>\n",
       "      <th>3245</th>\n",
       "      <td>Wonderchef Milano Set - Red</td>\n",
       "      <td>Wonderchef</td>\n",
       "      <td>4200.0</td>\n",
       "      <td>1999.0</td>\n",
       "      <td>NaN</td>\n",
       "      <td>NaN</td>\n",
       "      <td>4 Pcs</td>\n",
       "      <td>\\n- Adorn your kitchen with this beautiful Mil...</td>\n",
       "      <td>NaN</td>\n",
       "    </tr>\n",
       "  </tbody>\n",
       "</table>\n",
       "</div>"
      ],
      "text/plain": [
       "                                     Name              Brand   Price  \\\n",
       "3180  Stainless Steel Idli Maker with Lid  Keyur Kitchenware   900.0   \n",
       "3243  Pigeon ESS Non-Stick Gift Set - Red             Pigeon  2895.0   \n",
       "3245          Wonderchef Milano Set - Red         Wonderchef  4200.0   \n",
       "\n",
       "      DiscountedPrice Category SubCategory Quantity  \\\n",
       "3180            499.0      NaN         NaN   1 Unit   \n",
       "3243           1359.0      NaN         NaN    7 pcs   \n",
       "3245           1999.0      NaN         NaN    4 Pcs   \n",
       "\n",
       "                                            Description BreadCrumbs  \n",
       "3180  \\n- Container Material : Stainless Steel\\n- Ha...         NaN  \n",
       "3243  \\n-Specifications :\\n- Coating : 5 Layers Non-...         NaN  \n",
       "3245  \\n- Adorn your kitchen with this beautiful Mil...         NaN  "
      ]
     },
     "execution_count": 14,
     "metadata": {},
     "output_type": "execute_result"
    }
   ],
   "source": [
    "df[df['Category'].isnull()==True]"
   ]
  },
  {
   "cell_type": "code",
   "execution_count": 15,
   "id": "68a2b3a8",
   "metadata": {
    "execution": {
     "iopub.execute_input": "2022-08-23T07:04:22.881276Z",
     "iopub.status.busy": "2022-08-23T07:04:22.880681Z",
     "iopub.status.idle": "2022-08-23T07:04:22.887902Z",
     "shell.execute_reply": "2022-08-23T07:04:22.886669Z"
    },
    "papermill": {
     "duration": 0.041285,
     "end_time": "2022-08-23T07:04:22.890274",
     "exception": false,
     "start_time": "2022-08-23T07:04:22.848989",
     "status": "completed"
    },
    "tags": []
   },
   "outputs": [],
   "source": [
    "df['Category'] = df['Category'].fillna('Home & Kitchen')"
   ]
  },
  {
   "cell_type": "code",
   "execution_count": 16,
   "id": "2a63af7d",
   "metadata": {
    "execution": {
     "iopub.execute_input": "2022-08-23T07:04:22.945810Z",
     "iopub.status.busy": "2022-08-23T07:04:22.945295Z",
     "iopub.status.idle": "2022-08-23T07:04:22.953443Z",
     "shell.execute_reply": "2022-08-23T07:04:22.951828Z"
    },
    "papermill": {
     "duration": 0.03935,
     "end_time": "2022-08-23T07:04:22.956529",
     "exception": false,
     "start_time": "2022-08-23T07:04:22.917179",
     "status": "completed"
    },
    "tags": []
   },
   "outputs": [],
   "source": [
    "df['SubCategory'] = df['SubCategory'].fillna('Home Appliances')"
   ]
  },
  {
   "cell_type": "code",
   "execution_count": 17,
   "id": "933673f1",
   "metadata": {
    "execution": {
     "iopub.execute_input": "2022-08-23T07:04:23.014561Z",
     "iopub.status.busy": "2022-08-23T07:04:23.013504Z",
     "iopub.status.idle": "2022-08-23T07:04:23.020756Z",
     "shell.execute_reply": "2022-08-23T07:04:23.019610Z"
    },
    "papermill": {
     "duration": 0.040377,
     "end_time": "2022-08-23T07:04:23.023939",
     "exception": false,
     "start_time": "2022-08-23T07:04:22.983562",
     "status": "completed"
    },
    "tags": []
   },
   "outputs": [],
   "source": [
    "df['BreadCrumbs']=df['BreadCrumbs'].fillna('Home & Kitchen > Cookware & Serveware')"
   ]
  },
  {
   "cell_type": "code",
   "execution_count": 18,
   "id": "66d886c6",
   "metadata": {
    "execution": {
     "iopub.execute_input": "2022-08-23T07:04:23.085099Z",
     "iopub.status.busy": "2022-08-23T07:04:23.084046Z",
     "iopub.status.idle": "2022-08-23T07:04:23.103166Z",
     "shell.execute_reply": "2022-08-23T07:04:23.101926Z"
    },
    "papermill": {
     "duration": 0.052139,
     "end_time": "2022-08-23T07:04:23.106036",
     "exception": false,
     "start_time": "2022-08-23T07:04:23.053897",
     "status": "completed"
    },
    "tags": []
   },
   "outputs": [
    {
     "data": {
      "text/html": [
       "<div>\n",
       "<style scoped>\n",
       "    .dataframe tbody tr th:only-of-type {\n",
       "        vertical-align: middle;\n",
       "    }\n",
       "\n",
       "    .dataframe tbody tr th {\n",
       "        vertical-align: top;\n",
       "    }\n",
       "\n",
       "    .dataframe thead th {\n",
       "        text-align: right;\n",
       "    }\n",
       "</style>\n",
       "<table border=\"1\" class=\"dataframe\">\n",
       "  <thead>\n",
       "    <tr style=\"text-align: right;\">\n",
       "      <th></th>\n",
       "      <th>Name</th>\n",
       "      <th>Brand</th>\n",
       "      <th>Price</th>\n",
       "      <th>DiscountedPrice</th>\n",
       "      <th>Category</th>\n",
       "      <th>SubCategory</th>\n",
       "      <th>Quantity</th>\n",
       "      <th>Description</th>\n",
       "      <th>BreadCrumbs</th>\n",
       "    </tr>\n",
       "  </thead>\n",
       "  <tbody>\n",
       "    <tr>\n",
       "      <th>5047</th>\n",
       "      <td>Zeel MT212 Men's Raincoat - Navy Blue : Size XXL</td>\n",
       "      <td>Zeel</td>\n",
       "      <td>1199.0</td>\n",
       "      <td>1049.0</td>\n",
       "      <td>Raincoat</td>\n",
       "      <td>Raincoat</td>\n",
       "      <td>NaN</td>\n",
       "      <td>Specifications- Material : Fabric- Colour : Na...</td>\n",
       "      <td>Raincoat</td>\n",
       "    </tr>\n",
       "  </tbody>\n",
       "</table>\n",
       "</div>"
      ],
      "text/plain": [
       "                                                  Name Brand   Price  \\\n",
       "5047  Zeel MT212 Men's Raincoat - Navy Blue : Size XXL  Zeel  1199.0   \n",
       "\n",
       "      DiscountedPrice  Category SubCategory Quantity  \\\n",
       "5047           1049.0  Raincoat    Raincoat      NaN   \n",
       "\n",
       "                                            Description BreadCrumbs  \n",
       "5047  Specifications- Material : Fabric- Colour : Na...    Raincoat  "
      ]
     },
     "execution_count": 18,
     "metadata": {},
     "output_type": "execute_result"
    }
   ],
   "source": [
    "df[df.Quantity.isnull()==True]"
   ]
  },
  {
   "cell_type": "code",
   "execution_count": 19,
   "id": "b7168095",
   "metadata": {
    "_kg_hide-input": true,
    "_kg_hide-output": true,
    "execution": {
     "iopub.execute_input": "2022-08-23T07:04:23.163684Z",
     "iopub.status.busy": "2022-08-23T07:04:23.163142Z",
     "iopub.status.idle": "2022-08-23T07:04:23.199199Z",
     "shell.execute_reply": "2022-08-23T07:04:23.198057Z"
    },
    "papermill": {
     "duration": 0.068371,
     "end_time": "2022-08-23T07:04:23.201597",
     "exception": false,
     "start_time": "2022-08-23T07:04:23.133226",
     "status": "completed"
    },
    "tags": []
   },
   "outputs": [
    {
     "data": {
      "text/html": [
       "<div>\n",
       "<style scoped>\n",
       "    .dataframe tbody tr th:only-of-type {\n",
       "        vertical-align: middle;\n",
       "    }\n",
       "\n",
       "    .dataframe tbody tr th {\n",
       "        vertical-align: top;\n",
       "    }\n",
       "\n",
       "    .dataframe thead th {\n",
       "        text-align: right;\n",
       "    }\n",
       "</style>\n",
       "<table border=\"1\" class=\"dataframe\">\n",
       "  <thead>\n",
       "    <tr style=\"text-align: right;\">\n",
       "      <th></th>\n",
       "      <th>Name</th>\n",
       "      <th>Brand</th>\n",
       "      <th>Price</th>\n",
       "      <th>DiscountedPrice</th>\n",
       "      <th>Category</th>\n",
       "      <th>SubCategory</th>\n",
       "      <th>Quantity</th>\n",
       "      <th>Description</th>\n",
       "      <th>BreadCrumbs</th>\n",
       "    </tr>\n",
       "  </thead>\n",
       "  <tbody>\n",
       "    <tr>\n",
       "      <th>5015</th>\n",
       "      <td>Zeel MS201 Men's Raincoat - Blue</td>\n",
       "      <td>Zeel</td>\n",
       "      <td>499.0</td>\n",
       "      <td>449.0</td>\n",
       "      <td>Raincoat</td>\n",
       "      <td>Raincoat</td>\n",
       "      <td>Size XL</td>\n",
       "      <td>Specifications- Material : PVC- Colour : Blue-...</td>\n",
       "      <td>Raincoat</td>\n",
       "    </tr>\n",
       "    <tr>\n",
       "      <th>5016</th>\n",
       "      <td>Zeel MS201 Men's Raincoat - Blue</td>\n",
       "      <td>Zeel</td>\n",
       "      <td>499.0</td>\n",
       "      <td>449.0</td>\n",
       "      <td>Raincoat</td>\n",
       "      <td>Raincoat</td>\n",
       "      <td>Size XXL</td>\n",
       "      <td>Specifications- Material : PVC- Colour : Blue-...</td>\n",
       "      <td>Raincoat</td>\n",
       "    </tr>\n",
       "    <tr>\n",
       "      <th>5017</th>\n",
       "      <td>Zeel MS201 Men's Raincoat - Purple</td>\n",
       "      <td>Zeel</td>\n",
       "      <td>499.0</td>\n",
       "      <td>449.0</td>\n",
       "      <td>Raincoat</td>\n",
       "      <td>Raincoat</td>\n",
       "      <td>Size XL</td>\n",
       "      <td>Specifications- Material : PVC- Colour : Purpl...</td>\n",
       "      <td>Raincoat</td>\n",
       "    </tr>\n",
       "    <tr>\n",
       "      <th>5018</th>\n",
       "      <td>Zeel MS201 Men's Raincoat - Purple</td>\n",
       "      <td>Zeel</td>\n",
       "      <td>499.0</td>\n",
       "      <td>449.0</td>\n",
       "      <td>Raincoat</td>\n",
       "      <td>Raincoat</td>\n",
       "      <td>Size XXL</td>\n",
       "      <td>Specifications- Material : PVC- Colour : Purpl...</td>\n",
       "      <td>Raincoat</td>\n",
       "    </tr>\n",
       "    <tr>\n",
       "      <th>5019</th>\n",
       "      <td>Zeel MS201 Men's Raincoat - Light Green</td>\n",
       "      <td>Zeel</td>\n",
       "      <td>499.0</td>\n",
       "      <td>449.0</td>\n",
       "      <td>Raincoat</td>\n",
       "      <td>Raincoat</td>\n",
       "      <td>Size XL</td>\n",
       "      <td>Specifications- Material : PVC- Colour : Light...</td>\n",
       "      <td>Raincoat</td>\n",
       "    </tr>\n",
       "    <tr>\n",
       "      <th>5020</th>\n",
       "      <td>Zeel MS201 Men's Raincoat - Light Green</td>\n",
       "      <td>Zeel</td>\n",
       "      <td>499.0</td>\n",
       "      <td>449.0</td>\n",
       "      <td>Raincoat</td>\n",
       "      <td>Raincoat</td>\n",
       "      <td>Size XXL</td>\n",
       "      <td>Specifications- Material : PVC- Colour : Light...</td>\n",
       "      <td>Raincoat</td>\n",
       "    </tr>\n",
       "    <tr>\n",
       "      <th>5021</th>\n",
       "      <td>Zeel MS301 Men's Raincoat - Black</td>\n",
       "      <td>Zeel</td>\n",
       "      <td>499.0</td>\n",
       "      <td>449.0</td>\n",
       "      <td>Raincoat</td>\n",
       "      <td>Raincoat</td>\n",
       "      <td>Size L</td>\n",
       "      <td>Specifications- Material : PVC- Colour : Black...</td>\n",
       "      <td>Raincoat</td>\n",
       "    </tr>\n",
       "    <tr>\n",
       "      <th>5022</th>\n",
       "      <td>Zeel MS301 Men's Raincoat - Black</td>\n",
       "      <td>Zeel</td>\n",
       "      <td>499.0</td>\n",
       "      <td>449.0</td>\n",
       "      <td>Raincoat</td>\n",
       "      <td>Raincoat</td>\n",
       "      <td>Size XL</td>\n",
       "      <td>Specifications- Material : PVC- Colour : Black...</td>\n",
       "      <td>Raincoat</td>\n",
       "    </tr>\n",
       "    <tr>\n",
       "      <th>5023</th>\n",
       "      <td>Zeel MS301 Men's Raincoat - Black</td>\n",
       "      <td>Zeel</td>\n",
       "      <td>499.0</td>\n",
       "      <td>449.0</td>\n",
       "      <td>Raincoat</td>\n",
       "      <td>Raincoat</td>\n",
       "      <td>Size XXL</td>\n",
       "      <td>Specifications- Material : PVC- Colour : Black...</td>\n",
       "      <td>Raincoat</td>\n",
       "    </tr>\n",
       "    <tr>\n",
       "      <th>5024</th>\n",
       "      <td>Zeel MS301 Men's Raincoat - Navy Blue</td>\n",
       "      <td>Zeel</td>\n",
       "      <td>499.0</td>\n",
       "      <td>449.0</td>\n",
       "      <td>Raincoat</td>\n",
       "      <td>Raincoat</td>\n",
       "      <td>Size L</td>\n",
       "      <td>Specifications- Material : PVC- Colour : Navy ...</td>\n",
       "      <td>Raincoat</td>\n",
       "    </tr>\n",
       "    <tr>\n",
       "      <th>5025</th>\n",
       "      <td>Zeel MS301 Men's Raincoat - Navy Blue</td>\n",
       "      <td>Zeel</td>\n",
       "      <td>499.0</td>\n",
       "      <td>449.0</td>\n",
       "      <td>Raincoat</td>\n",
       "      <td>Raincoat</td>\n",
       "      <td>Size XL</td>\n",
       "      <td>Specifications- Material : PVC- Colour : Navy ...</td>\n",
       "      <td>Raincoat</td>\n",
       "    </tr>\n",
       "    <tr>\n",
       "      <th>5026</th>\n",
       "      <td>Zeel MS301 Men's Raincoat - Navy Blue</td>\n",
       "      <td>Zeel</td>\n",
       "      <td>499.0</td>\n",
       "      <td>449.0</td>\n",
       "      <td>Raincoat</td>\n",
       "      <td>Raincoat</td>\n",
       "      <td>Size XXL</td>\n",
       "      <td>Specifications- Material : PVC- Colour : Navy ...</td>\n",
       "      <td>Raincoat</td>\n",
       "    </tr>\n",
       "    <tr>\n",
       "      <th>5027</th>\n",
       "      <td>Zeel MS301 Men's Raincoat - Grey</td>\n",
       "      <td>Zeel</td>\n",
       "      <td>499.0</td>\n",
       "      <td>449.0</td>\n",
       "      <td>Raincoat</td>\n",
       "      <td>Raincoat</td>\n",
       "      <td>Size L</td>\n",
       "      <td>Specifications- Material : PVC- Colour : Grey-...</td>\n",
       "      <td>Raincoat</td>\n",
       "    </tr>\n",
       "    <tr>\n",
       "      <th>5028</th>\n",
       "      <td>Zeel MS301 Men's Raincoat - Grey</td>\n",
       "      <td>Zeel</td>\n",
       "      <td>499.0</td>\n",
       "      <td>449.0</td>\n",
       "      <td>Raincoat</td>\n",
       "      <td>Raincoat</td>\n",
       "      <td>Size XL</td>\n",
       "      <td>Specifications- Material : PVC- Colour : Grey-...</td>\n",
       "      <td>Raincoat</td>\n",
       "    </tr>\n",
       "    <tr>\n",
       "      <th>5029</th>\n",
       "      <td>Zeel MS301 Men's Raincoat - Grey</td>\n",
       "      <td>Zeel</td>\n",
       "      <td>499.0</td>\n",
       "      <td>449.0</td>\n",
       "      <td>Raincoat</td>\n",
       "      <td>Raincoat</td>\n",
       "      <td>Size XXL</td>\n",
       "      <td>Specifications- Material : PVC- Colour : Grey-...</td>\n",
       "      <td>Raincoat</td>\n",
       "    </tr>\n",
       "    <tr>\n",
       "      <th>5030</th>\n",
       "      <td>Zeel MR203 Men's Raincoat - Black</td>\n",
       "      <td>Zeel</td>\n",
       "      <td>1450.0</td>\n",
       "      <td>1199.0</td>\n",
       "      <td>Raincoat</td>\n",
       "      <td>Raincoat</td>\n",
       "      <td>Size XL</td>\n",
       "      <td>Specifications- Material : Fabric- Colour : Bl...</td>\n",
       "      <td>Raincoat</td>\n",
       "    </tr>\n",
       "    <tr>\n",
       "      <th>5031</th>\n",
       "      <td>Zeel MR203 Men's Raincoat - Black</td>\n",
       "      <td>Zeel</td>\n",
       "      <td>1450.0</td>\n",
       "      <td>1199.0</td>\n",
       "      <td>Raincoat</td>\n",
       "      <td>Raincoat</td>\n",
       "      <td>Size XXL</td>\n",
       "      <td>Specifications- Material : Fabric- Colour : Bl...</td>\n",
       "      <td>Raincoat</td>\n",
       "    </tr>\n",
       "    <tr>\n",
       "      <th>5032</th>\n",
       "      <td>Zeel MR203 Men's Raincoat - Navy Blue</td>\n",
       "      <td>Zeel</td>\n",
       "      <td>1450.0</td>\n",
       "      <td>1199.0</td>\n",
       "      <td>Raincoat</td>\n",
       "      <td>Raincoat</td>\n",
       "      <td>Size XXL</td>\n",
       "      <td>Specifications- Material : Fabric- Colour : Na...</td>\n",
       "      <td>Raincoat</td>\n",
       "    </tr>\n",
       "    <tr>\n",
       "      <th>5033</th>\n",
       "      <td>Zeel MR161 Men's Raincoat - Black</td>\n",
       "      <td>Zeel</td>\n",
       "      <td>1500.0</td>\n",
       "      <td>1299.0</td>\n",
       "      <td>Raincoat</td>\n",
       "      <td>Raincoat</td>\n",
       "      <td>Size XL</td>\n",
       "      <td>Specifications- Material : Fabric- Colour : Bl...</td>\n",
       "      <td>Raincoat</td>\n",
       "    </tr>\n",
       "    <tr>\n",
       "      <th>5034</th>\n",
       "      <td>Zeel MR161 Men's Raincoat - Black</td>\n",
       "      <td>Zeel</td>\n",
       "      <td>1500.0</td>\n",
       "      <td>1299.0</td>\n",
       "      <td>Raincoat</td>\n",
       "      <td>Raincoat</td>\n",
       "      <td>Size XXL</td>\n",
       "      <td>Specifications- Material : Fabric- Colour : Bl...</td>\n",
       "      <td>Raincoat</td>\n",
       "    </tr>\n",
       "    <tr>\n",
       "      <th>5035</th>\n",
       "      <td>Zeel MR161 Men's Raincoat - Navy Blue</td>\n",
       "      <td>Zeel</td>\n",
       "      <td>1500.0</td>\n",
       "      <td>1299.0</td>\n",
       "      <td>Raincoat</td>\n",
       "      <td>Raincoat</td>\n",
       "      <td>Size XL</td>\n",
       "      <td>Specifications- Material : Fabric- Colour : Na...</td>\n",
       "      <td>Raincoat</td>\n",
       "    </tr>\n",
       "    <tr>\n",
       "      <th>5036</th>\n",
       "      <td>Zeel MR161 Men's Raincoat - Navy Blue</td>\n",
       "      <td>Zeel</td>\n",
       "      <td>1500.0</td>\n",
       "      <td>1299.0</td>\n",
       "      <td>Raincoat</td>\n",
       "      <td>Raincoat</td>\n",
       "      <td>Size XXL</td>\n",
       "      <td>Specifications- Material : Fabric- Colour : Na...</td>\n",
       "      <td>Raincoat</td>\n",
       "    </tr>\n",
       "    <tr>\n",
       "      <th>5037</th>\n",
       "      <td>Zeel MR168 Men's Raincoat - Black</td>\n",
       "      <td>Zeel</td>\n",
       "      <td>1700.0</td>\n",
       "      <td>1499.0</td>\n",
       "      <td>Raincoat</td>\n",
       "      <td>Raincoat</td>\n",
       "      <td>Size XL</td>\n",
       "      <td>Specifications- Material : Fabric- Colour : Bl...</td>\n",
       "      <td>Raincoat</td>\n",
       "    </tr>\n",
       "    <tr>\n",
       "      <th>5038</th>\n",
       "      <td>Zeel MR184 Men's Raincoat - Black</td>\n",
       "      <td>Zeel</td>\n",
       "      <td>1700.0</td>\n",
       "      <td>1499.0</td>\n",
       "      <td>Raincoat</td>\n",
       "      <td>Raincoat</td>\n",
       "      <td>Size XL</td>\n",
       "      <td>Specifications- Material : Fabric- Colour : Bl...</td>\n",
       "      <td>Raincoat</td>\n",
       "    </tr>\n",
       "    <tr>\n",
       "      <th>5039</th>\n",
       "      <td>Zeel MR184 Men's Raincoat - Black</td>\n",
       "      <td>Zeel</td>\n",
       "      <td>1700.0</td>\n",
       "      <td>1499.0</td>\n",
       "      <td>Raincoat</td>\n",
       "      <td>Raincoat</td>\n",
       "      <td>Size XXL</td>\n",
       "      <td>Specifications- Material : Fabric- Colour : Bl...</td>\n",
       "      <td>Raincoat</td>\n",
       "    </tr>\n",
       "    <tr>\n",
       "      <th>5040</th>\n",
       "      <td>Zeel MR184 Men's Raincoat - Navy Blue</td>\n",
       "      <td>Zeel</td>\n",
       "      <td>1700.0</td>\n",
       "      <td>1499.0</td>\n",
       "      <td>Raincoat</td>\n",
       "      <td>Raincoat</td>\n",
       "      <td>Size XL</td>\n",
       "      <td>Specifications- Material : Fabric- Colour : Na...</td>\n",
       "      <td>Raincoat</td>\n",
       "    </tr>\n",
       "    <tr>\n",
       "      <th>5041</th>\n",
       "      <td>Zeel MR184 Men's Raincoat - Navy Blue</td>\n",
       "      <td>Zeel</td>\n",
       "      <td>1700.0</td>\n",
       "      <td>1499.0</td>\n",
       "      <td>Raincoat</td>\n",
       "      <td>Raincoat</td>\n",
       "      <td>Size XXL</td>\n",
       "      <td>Specifications- Material : Fabric- Colour : Na...</td>\n",
       "      <td>Raincoat</td>\n",
       "    </tr>\n",
       "    <tr>\n",
       "      <th>5042</th>\n",
       "      <td>Zeel LP306 Women's Raincoat - Pink</td>\n",
       "      <td>Zeel</td>\n",
       "      <td>550.0</td>\n",
       "      <td>479.0</td>\n",
       "      <td>Raincoat</td>\n",
       "      <td>Raincoat</td>\n",
       "      <td>Size L</td>\n",
       "      <td>Specifications- Material : PVC- Colour : Pink-...</td>\n",
       "      <td>Raincoat</td>\n",
       "    </tr>\n",
       "    <tr>\n",
       "      <th>5043</th>\n",
       "      <td>Zeel LP306 Women's Raincoat - Pink</td>\n",
       "      <td>Zeel</td>\n",
       "      <td>550.0</td>\n",
       "      <td>479.0</td>\n",
       "      <td>Raincoat</td>\n",
       "      <td>Raincoat</td>\n",
       "      <td>Size XL</td>\n",
       "      <td>Specifications- Material : PVC- Colour : Pink-...</td>\n",
       "      <td>Raincoat</td>\n",
       "    </tr>\n",
       "    <tr>\n",
       "      <th>5044</th>\n",
       "      <td>Zeel LP306 Women's Raincoat - Orange</td>\n",
       "      <td>Zeel</td>\n",
       "      <td>550.0</td>\n",
       "      <td>479.0</td>\n",
       "      <td>Raincoat</td>\n",
       "      <td>Raincoat</td>\n",
       "      <td>Size L</td>\n",
       "      <td>Specifications- Material : PVC- Colour : Orang...</td>\n",
       "      <td>Raincoat</td>\n",
       "    </tr>\n",
       "    <tr>\n",
       "      <th>5045</th>\n",
       "      <td>Zeel LP306 Women's Raincoat - Orange</td>\n",
       "      <td>Zeel</td>\n",
       "      <td>550.0</td>\n",
       "      <td>479.0</td>\n",
       "      <td>Raincoat</td>\n",
       "      <td>Raincoat</td>\n",
       "      <td>Size XL</td>\n",
       "      <td>Specifications- Material : PVC- Colour : Orang...</td>\n",
       "      <td>Raincoat</td>\n",
       "    </tr>\n",
       "    <tr>\n",
       "      <th>5046</th>\n",
       "      <td>Zeel MT212 Men's Raincoat - Navy Blue : Size XXL</td>\n",
       "      <td>Zeel</td>\n",
       "      <td>1199.0</td>\n",
       "      <td>1049.0</td>\n",
       "      <td>Raincoat</td>\n",
       "      <td>Raincoat</td>\n",
       "      <td>Size XL</td>\n",
       "      <td>Specifications- Material : Fabric- Colour : Na...</td>\n",
       "      <td>Raincoat</td>\n",
       "    </tr>\n",
       "    <tr>\n",
       "      <th>5047</th>\n",
       "      <td>Zeel MT212 Men's Raincoat - Navy Blue : Size XXL</td>\n",
       "      <td>Zeel</td>\n",
       "      <td>1199.0</td>\n",
       "      <td>1049.0</td>\n",
       "      <td>Raincoat</td>\n",
       "      <td>Raincoat</td>\n",
       "      <td>NaN</td>\n",
       "      <td>Specifications- Material : Fabric- Colour : Na...</td>\n",
       "      <td>Raincoat</td>\n",
       "    </tr>\n",
       "  </tbody>\n",
       "</table>\n",
       "</div>"
      ],
      "text/plain": [
       "                                                  Name Brand   Price  \\\n",
       "5015                  Zeel MS201 Men's Raincoat - Blue  Zeel   499.0   \n",
       "5016                  Zeel MS201 Men's Raincoat - Blue  Zeel   499.0   \n",
       "5017                Zeel MS201 Men's Raincoat - Purple  Zeel   499.0   \n",
       "5018                Zeel MS201 Men's Raincoat - Purple  Zeel   499.0   \n",
       "5019           Zeel MS201 Men's Raincoat - Light Green  Zeel   499.0   \n",
       "5020           Zeel MS201 Men's Raincoat - Light Green  Zeel   499.0   \n",
       "5021                 Zeel MS301 Men's Raincoat - Black  Zeel   499.0   \n",
       "5022                 Zeel MS301 Men's Raincoat - Black  Zeel   499.0   \n",
       "5023                 Zeel MS301 Men's Raincoat - Black  Zeel   499.0   \n",
       "5024             Zeel MS301 Men's Raincoat - Navy Blue  Zeel   499.0   \n",
       "5025             Zeel MS301 Men's Raincoat - Navy Blue  Zeel   499.0   \n",
       "5026             Zeel MS301 Men's Raincoat - Navy Blue  Zeel   499.0   \n",
       "5027                  Zeel MS301 Men's Raincoat - Grey  Zeel   499.0   \n",
       "5028                  Zeel MS301 Men's Raincoat - Grey  Zeel   499.0   \n",
       "5029                  Zeel MS301 Men's Raincoat - Grey  Zeel   499.0   \n",
       "5030                 Zeel MR203 Men's Raincoat - Black  Zeel  1450.0   \n",
       "5031                 Zeel MR203 Men's Raincoat - Black  Zeel  1450.0   \n",
       "5032             Zeel MR203 Men's Raincoat - Navy Blue  Zeel  1450.0   \n",
       "5033                 Zeel MR161 Men's Raincoat - Black  Zeel  1500.0   \n",
       "5034                 Zeel MR161 Men's Raincoat - Black  Zeel  1500.0   \n",
       "5035             Zeel MR161 Men's Raincoat - Navy Blue  Zeel  1500.0   \n",
       "5036             Zeel MR161 Men's Raincoat - Navy Blue  Zeel  1500.0   \n",
       "5037                 Zeel MR168 Men's Raincoat - Black  Zeel  1700.0   \n",
       "5038                 Zeel MR184 Men's Raincoat - Black  Zeel  1700.0   \n",
       "5039                 Zeel MR184 Men's Raincoat - Black  Zeel  1700.0   \n",
       "5040             Zeel MR184 Men's Raincoat - Navy Blue  Zeel  1700.0   \n",
       "5041             Zeel MR184 Men's Raincoat - Navy Blue  Zeel  1700.0   \n",
       "5042                Zeel LP306 Women's Raincoat - Pink  Zeel   550.0   \n",
       "5043                Zeel LP306 Women's Raincoat - Pink  Zeel   550.0   \n",
       "5044              Zeel LP306 Women's Raincoat - Orange  Zeel   550.0   \n",
       "5045              Zeel LP306 Women's Raincoat - Orange  Zeel   550.0   \n",
       "5046  Zeel MT212 Men's Raincoat - Navy Blue : Size XXL  Zeel  1199.0   \n",
       "5047  Zeel MT212 Men's Raincoat - Navy Blue : Size XXL  Zeel  1199.0   \n",
       "\n",
       "      DiscountedPrice  Category SubCategory  Quantity  \\\n",
       "5015            449.0  Raincoat    Raincoat   Size XL   \n",
       "5016            449.0  Raincoat    Raincoat  Size XXL   \n",
       "5017            449.0  Raincoat    Raincoat   Size XL   \n",
       "5018            449.0  Raincoat    Raincoat  Size XXL   \n",
       "5019            449.0  Raincoat    Raincoat   Size XL   \n",
       "5020            449.0  Raincoat    Raincoat  Size XXL   \n",
       "5021            449.0  Raincoat    Raincoat    Size L   \n",
       "5022            449.0  Raincoat    Raincoat   Size XL   \n",
       "5023            449.0  Raincoat    Raincoat  Size XXL   \n",
       "5024            449.0  Raincoat    Raincoat    Size L   \n",
       "5025            449.0  Raincoat    Raincoat   Size XL   \n",
       "5026            449.0  Raincoat    Raincoat  Size XXL   \n",
       "5027            449.0  Raincoat    Raincoat    Size L   \n",
       "5028            449.0  Raincoat    Raincoat   Size XL   \n",
       "5029            449.0  Raincoat    Raincoat  Size XXL   \n",
       "5030           1199.0  Raincoat    Raincoat   Size XL   \n",
       "5031           1199.0  Raincoat    Raincoat  Size XXL   \n",
       "5032           1199.0  Raincoat    Raincoat  Size XXL   \n",
       "5033           1299.0  Raincoat    Raincoat   Size XL   \n",
       "5034           1299.0  Raincoat    Raincoat  Size XXL   \n",
       "5035           1299.0  Raincoat    Raincoat   Size XL   \n",
       "5036           1299.0  Raincoat    Raincoat  Size XXL   \n",
       "5037           1499.0  Raincoat    Raincoat   Size XL   \n",
       "5038           1499.0  Raincoat    Raincoat   Size XL   \n",
       "5039           1499.0  Raincoat    Raincoat  Size XXL   \n",
       "5040           1499.0  Raincoat    Raincoat   Size XL   \n",
       "5041           1499.0  Raincoat    Raincoat  Size XXL   \n",
       "5042            479.0  Raincoat    Raincoat    Size L   \n",
       "5043            479.0  Raincoat    Raincoat   Size XL   \n",
       "5044            479.0  Raincoat    Raincoat    Size L   \n",
       "5045            479.0  Raincoat    Raincoat   Size XL   \n",
       "5046           1049.0  Raincoat    Raincoat   Size XL   \n",
       "5047           1049.0  Raincoat    Raincoat       NaN   \n",
       "\n",
       "                                            Description BreadCrumbs  \n",
       "5015  Specifications- Material : PVC- Colour : Blue-...    Raincoat  \n",
       "5016  Specifications- Material : PVC- Colour : Blue-...    Raincoat  \n",
       "5017  Specifications- Material : PVC- Colour : Purpl...    Raincoat  \n",
       "5018  Specifications- Material : PVC- Colour : Purpl...    Raincoat  \n",
       "5019  Specifications- Material : PVC- Colour : Light...    Raincoat  \n",
       "5020  Specifications- Material : PVC- Colour : Light...    Raincoat  \n",
       "5021  Specifications- Material : PVC- Colour : Black...    Raincoat  \n",
       "5022  Specifications- Material : PVC- Colour : Black...    Raincoat  \n",
       "5023  Specifications- Material : PVC- Colour : Black...    Raincoat  \n",
       "5024  Specifications- Material : PVC- Colour : Navy ...    Raincoat  \n",
       "5025  Specifications- Material : PVC- Colour : Navy ...    Raincoat  \n",
       "5026  Specifications- Material : PVC- Colour : Navy ...    Raincoat  \n",
       "5027  Specifications- Material : PVC- Colour : Grey-...    Raincoat  \n",
       "5028  Specifications- Material : PVC- Colour : Grey-...    Raincoat  \n",
       "5029  Specifications- Material : PVC- Colour : Grey-...    Raincoat  \n",
       "5030  Specifications- Material : Fabric- Colour : Bl...    Raincoat  \n",
       "5031  Specifications- Material : Fabric- Colour : Bl...    Raincoat  \n",
       "5032  Specifications- Material : Fabric- Colour : Na...    Raincoat  \n",
       "5033  Specifications- Material : Fabric- Colour : Bl...    Raincoat  \n",
       "5034  Specifications- Material : Fabric- Colour : Bl...    Raincoat  \n",
       "5035  Specifications- Material : Fabric- Colour : Na...    Raincoat  \n",
       "5036  Specifications- Material : Fabric- Colour : Na...    Raincoat  \n",
       "5037  Specifications- Material : Fabric- Colour : Bl...    Raincoat  \n",
       "5038  Specifications- Material : Fabric- Colour : Bl...    Raincoat  \n",
       "5039  Specifications- Material : Fabric- Colour : Bl...    Raincoat  \n",
       "5040  Specifications- Material : Fabric- Colour : Na...    Raincoat  \n",
       "5041  Specifications- Material : Fabric- Colour : Na...    Raincoat  \n",
       "5042  Specifications- Material : PVC- Colour : Pink-...    Raincoat  \n",
       "5043  Specifications- Material : PVC- Colour : Pink-...    Raincoat  \n",
       "5044  Specifications- Material : PVC- Colour : Orang...    Raincoat  \n",
       "5045  Specifications- Material : PVC- Colour : Orang...    Raincoat  \n",
       "5046  Specifications- Material : Fabric- Colour : Na...    Raincoat  \n",
       "5047  Specifications- Material : Fabric- Colour : Na...    Raincoat  "
      ]
     },
     "execution_count": 19,
     "metadata": {},
     "output_type": "execute_result"
    }
   ],
   "source": [
    "df[df.Category=='Raincoat']"
   ]
  },
  {
   "cell_type": "code",
   "execution_count": 20,
   "id": "c88db87d",
   "metadata": {
    "execution": {
     "iopub.execute_input": "2022-08-23T07:04:23.264264Z",
     "iopub.status.busy": "2022-08-23T07:04:23.262719Z",
     "iopub.status.idle": "2022-08-23T07:04:23.270601Z",
     "shell.execute_reply": "2022-08-23T07:04:23.269397Z"
    },
    "papermill": {
     "duration": 0.043382,
     "end_time": "2022-08-23T07:04:23.273588",
     "exception": false,
     "start_time": "2022-08-23T07:04:23.230206",
     "status": "completed"
    },
    "tags": []
   },
   "outputs": [],
   "source": [
    "df['Quantity'] = df['Quantity'].fillna('Size XXL')"
   ]
  },
  {
   "cell_type": "code",
   "execution_count": 21,
   "id": "a25f3d5d",
   "metadata": {
    "execution": {
     "iopub.execute_input": "2022-08-23T07:04:23.338549Z",
     "iopub.status.busy": "2022-08-23T07:04:23.337387Z",
     "iopub.status.idle": "2022-08-23T07:04:23.347317Z",
     "shell.execute_reply": "2022-08-23T07:04:23.345950Z"
    },
    "papermill": {
     "duration": 0.048184,
     "end_time": "2022-08-23T07:04:23.350552",
     "exception": false,
     "start_time": "2022-08-23T07:04:23.302368",
     "status": "completed"
    },
    "tags": []
   },
   "outputs": [],
   "source": [
    "df['Description'] = df['Description'].fillna('No Desciption')"
   ]
  },
  {
   "cell_type": "code",
   "execution_count": 22,
   "id": "03fd3cb5",
   "metadata": {
    "execution": {
     "iopub.execute_input": "2022-08-23T07:04:23.412164Z",
     "iopub.status.busy": "2022-08-23T07:04:23.411156Z",
     "iopub.status.idle": "2022-08-23T07:04:23.425309Z",
     "shell.execute_reply": "2022-08-23T07:04:23.424195Z"
    },
    "papermill": {
     "duration": 0.049367,
     "end_time": "2022-08-23T07:04:23.428442",
     "exception": false,
     "start_time": "2022-08-23T07:04:23.379075",
     "status": "completed"
    },
    "tags": []
   },
   "outputs": [
    {
     "data": {
      "text/plain": [
       "Name               0\n",
       "Brand              0\n",
       "Price              0\n",
       "DiscountedPrice    0\n",
       "Category           0\n",
       "SubCategory        0\n",
       "Quantity           0\n",
       "Description        0\n",
       "BreadCrumbs        0\n",
       "dtype: int64"
      ]
     },
     "execution_count": 22,
     "metadata": {},
     "output_type": "execute_result"
    }
   ],
   "source": [
    "df.isnull().sum()"
   ]
  },
  {
   "cell_type": "markdown",
   "id": "8cf4c27f",
   "metadata": {
    "papermill": {
     "duration": 0.027544,
     "end_time": "2022-08-23T07:04:23.484281",
     "exception": false,
     "start_time": "2022-08-23T07:04:23.456737",
     "status": "completed"
    },
    "tags": []
   },
   "source": [
    "**We have filled all Null Values !!!**"
   ]
  },
  {
   "cell_type": "markdown",
   "id": "48e36ada",
   "metadata": {
    "papermill": {
     "duration": 0.027668,
     "end_time": "2022-08-23T07:04:23.540548",
     "exception": false,
     "start_time": "2022-08-23T07:04:23.512880",
     "status": "completed"
    },
    "tags": []
   },
   "source": [
    "<h3 style=\"background-color:rgb(220, 75, 60);padding:10px 10px;border-radius:5px 25px 25px 5px;width:550px\">Deriving more column from available ones"
   ]
  },
  {
   "cell_type": "code",
   "execution_count": 23,
   "id": "f9fff6d8",
   "metadata": {
    "execution": {
     "iopub.execute_input": "2022-08-23T07:04:23.598838Z",
     "iopub.status.busy": "2022-08-23T07:04:23.598263Z",
     "iopub.status.idle": "2022-08-23T07:04:23.617096Z",
     "shell.execute_reply": "2022-08-23T07:04:23.615766Z"
    },
    "papermill": {
     "duration": 0.051584,
     "end_time": "2022-08-23T07:04:23.620200",
     "exception": false,
     "start_time": "2022-08-23T07:04:23.568616",
     "status": "completed"
    },
    "tags": []
   },
   "outputs": [
    {
     "data": {
      "text/html": [
       "<div>\n",
       "<style scoped>\n",
       "    .dataframe tbody tr th:only-of-type {\n",
       "        vertical-align: middle;\n",
       "    }\n",
       "\n",
       "    .dataframe tbody tr th {\n",
       "        vertical-align: top;\n",
       "    }\n",
       "\n",
       "    .dataframe thead th {\n",
       "        text-align: right;\n",
       "    }\n",
       "</style>\n",
       "<table border=\"1\" class=\"dataframe\">\n",
       "  <thead>\n",
       "    <tr style=\"text-align: right;\">\n",
       "      <th></th>\n",
       "      <th>Name</th>\n",
       "      <th>Brand</th>\n",
       "      <th>Price</th>\n",
       "      <th>DiscountedPrice</th>\n",
       "      <th>Category</th>\n",
       "      <th>SubCategory</th>\n",
       "      <th>Quantity</th>\n",
       "      <th>Description</th>\n",
       "      <th>BreadCrumbs</th>\n",
       "    </tr>\n",
       "  </thead>\n",
       "  <tbody>\n",
       "    <tr>\n",
       "      <th>0</th>\n",
       "      <td>Premia Badam (Almonds)</td>\n",
       "      <td>Premia</td>\n",
       "      <td>451.0</td>\n",
       "      <td>329.0</td>\n",
       "      <td>Grocery</td>\n",
       "      <td>Grocery/Dry Fruits</td>\n",
       "      <td>500 gm</td>\n",
       "      <td>India</td>\n",
       "      <td>Grocery &gt; Grocery/Dry Fruits</td>\n",
       "    </tr>\n",
       "    <tr>\n",
       "      <th>1</th>\n",
       "      <td>Premia Badam (Almonds)</td>\n",
       "      <td>Premia</td>\n",
       "      <td>109.0</td>\n",
       "      <td>85.0</td>\n",
       "      <td>Grocery</td>\n",
       "      <td>Grocery/Dry Fruits</td>\n",
       "      <td>100 gm</td>\n",
       "      <td>India</td>\n",
       "      <td>Grocery &gt; Grocery/Dry Fruits</td>\n",
       "    </tr>\n",
       "    <tr>\n",
       "      <th>2</th>\n",
       "      <td>Premia Badam (Almonds)</td>\n",
       "      <td>Premia</td>\n",
       "      <td>202.0</td>\n",
       "      <td>175.0</td>\n",
       "      <td>Grocery</td>\n",
       "      <td>Grocery/Dry Fruits</td>\n",
       "      <td>200 gm</td>\n",
       "      <td>India</td>\n",
       "      <td>Grocery &gt; Grocery/Dry Fruits</td>\n",
       "    </tr>\n",
       "    <tr>\n",
       "      <th>3</th>\n",
       "      <td>Nutraj California Almonds (Badam)</td>\n",
       "      <td>Nutraj</td>\n",
       "      <td>599.0</td>\n",
       "      <td>349.0</td>\n",
       "      <td>Grocery</td>\n",
       "      <td>Dry Fruits</td>\n",
       "      <td>500 gm</td>\n",
       "      <td>USA</td>\n",
       "      <td>Grocery &gt; Dry Fruits</td>\n",
       "    </tr>\n",
       "    <tr>\n",
       "      <th>4</th>\n",
       "      <td>Nutraj California Almonds (Badam)</td>\n",
       "      <td>Nutraj</td>\n",
       "      <td>1549.0</td>\n",
       "      <td>659.0</td>\n",
       "      <td>Grocery</td>\n",
       "      <td>Dry Fruits</td>\n",
       "      <td>1 kg</td>\n",
       "      <td>USA</td>\n",
       "      <td>Grocery &gt; Dry Fruits</td>\n",
       "    </tr>\n",
       "  </tbody>\n",
       "</table>\n",
       "</div>"
      ],
      "text/plain": [
       "                                Name   Brand   Price  DiscountedPrice  \\\n",
       "0             Premia Badam (Almonds)  Premia   451.0            329.0   \n",
       "1             Premia Badam (Almonds)  Premia   109.0             85.0   \n",
       "2             Premia Badam (Almonds)  Premia   202.0            175.0   \n",
       "3  Nutraj California Almonds (Badam)  Nutraj   599.0            349.0   \n",
       "4  Nutraj California Almonds (Badam)  Nutraj  1549.0            659.0   \n",
       "\n",
       "  Category         SubCategory Quantity Description  \\\n",
       "0  Grocery  Grocery/Dry Fruits   500 gm       India   \n",
       "1  Grocery  Grocery/Dry Fruits   100 gm       India   \n",
       "2  Grocery  Grocery/Dry Fruits   200 gm       India   \n",
       "3  Grocery          Dry Fruits   500 gm         USA   \n",
       "4  Grocery          Dry Fruits     1 kg         USA   \n",
       "\n",
       "                    BreadCrumbs  \n",
       "0  Grocery > Grocery/Dry Fruits  \n",
       "1  Grocery > Grocery/Dry Fruits  \n",
       "2  Grocery > Grocery/Dry Fruits  \n",
       "3          Grocery > Dry Fruits  \n",
       "4          Grocery > Dry Fruits  "
      ]
     },
     "execution_count": 23,
     "metadata": {},
     "output_type": "execute_result"
    }
   ],
   "source": [
    "df.head()"
   ]
  },
  {
   "cell_type": "code",
   "execution_count": 24,
   "id": "9410d85a",
   "metadata": {
    "execution": {
     "iopub.execute_input": "2022-08-23T07:04:23.683950Z",
     "iopub.status.busy": "2022-08-23T07:04:23.683399Z",
     "iopub.status.idle": "2022-08-23T07:04:23.691233Z",
     "shell.execute_reply": "2022-08-23T07:04:23.689854Z"
    },
    "papermill": {
     "duration": 0.043516,
     "end_time": "2022-08-23T07:04:23.694321",
     "exception": false,
     "start_time": "2022-08-23T07:04:23.650805",
     "status": "completed"
    },
    "tags": []
   },
   "outputs": [],
   "source": [
    "df['DiscountPercent'] = (df['Price']-df['DiscountedPrice'])*100/df['Price']"
   ]
  },
  {
   "cell_type": "code",
   "execution_count": 25,
   "id": "10f811a2",
   "metadata": {
    "execution": {
     "iopub.execute_input": "2022-08-23T07:04:23.754548Z",
     "iopub.status.busy": "2022-08-23T07:04:23.752769Z",
     "iopub.status.idle": "2022-08-23T07:04:23.768737Z",
     "shell.execute_reply": "2022-08-23T07:04:23.767327Z"
    },
    "papermill": {
     "duration": 0.04851,
     "end_time": "2022-08-23T07:04:23.771562",
     "exception": false,
     "start_time": "2022-08-23T07:04:23.723052",
     "status": "completed"
    },
    "tags": []
   },
   "outputs": [
    {
     "data": {
      "text/plain": [
       "Name               0\n",
       "Brand              0\n",
       "Price              0\n",
       "DiscountedPrice    0\n",
       "Category           0\n",
       "SubCategory        0\n",
       "Quantity           0\n",
       "Description        0\n",
       "BreadCrumbs        0\n",
       "DiscountPercent    1\n",
       "dtype: int64"
      ]
     },
     "execution_count": 25,
     "metadata": {},
     "output_type": "execute_result"
    }
   ],
   "source": [
    "df.isnull().sum()"
   ]
  },
  {
   "cell_type": "code",
   "execution_count": 26,
   "id": "46fac7c6",
   "metadata": {
    "execution": {
     "iopub.execute_input": "2022-08-23T07:04:23.833892Z",
     "iopub.status.busy": "2022-08-23T07:04:23.832279Z",
     "iopub.status.idle": "2022-08-23T07:04:23.852444Z",
     "shell.execute_reply": "2022-08-23T07:04:23.850560Z"
    },
    "papermill": {
     "duration": 0.055145,
     "end_time": "2022-08-23T07:04:23.855657",
     "exception": false,
     "start_time": "2022-08-23T07:04:23.800512",
     "status": "completed"
    },
    "tags": []
   },
   "outputs": [
    {
     "data": {
      "text/html": [
       "<div>\n",
       "<style scoped>\n",
       "    .dataframe tbody tr th:only-of-type {\n",
       "        vertical-align: middle;\n",
       "    }\n",
       "\n",
       "    .dataframe tbody tr th {\n",
       "        vertical-align: top;\n",
       "    }\n",
       "\n",
       "    .dataframe thead th {\n",
       "        text-align: right;\n",
       "    }\n",
       "</style>\n",
       "<table border=\"1\" class=\"dataframe\">\n",
       "  <thead>\n",
       "    <tr style=\"text-align: right;\">\n",
       "      <th></th>\n",
       "      <th>Name</th>\n",
       "      <th>Brand</th>\n",
       "      <th>Price</th>\n",
       "      <th>DiscountedPrice</th>\n",
       "      <th>Category</th>\n",
       "      <th>SubCategory</th>\n",
       "      <th>Quantity</th>\n",
       "      <th>Description</th>\n",
       "      <th>BreadCrumbs</th>\n",
       "      <th>DiscountPercent</th>\n",
       "    </tr>\n",
       "  </thead>\n",
       "  <tbody>\n",
       "    <tr>\n",
       "      <th>2230</th>\n",
       "      <td>Kopiko Cappuccino Coffee Candies</td>\n",
       "      <td>Kopiko</td>\n",
       "      <td>0.0</td>\n",
       "      <td>0.0</td>\n",
       "      <td>Packaged Food</td>\n",
       "      <td>Sweets</td>\n",
       "      <td>140 gm</td>\n",
       "      <td>OverviewKopiko candy is made from real coffee ...</td>\n",
       "      <td>Packaged Food &gt; Sweets</td>\n",
       "      <td>NaN</td>\n",
       "    </tr>\n",
       "  </tbody>\n",
       "</table>\n",
       "</div>"
      ],
      "text/plain": [
       "                                  Name   Brand  Price  DiscountedPrice  \\\n",
       "2230  Kopiko Cappuccino Coffee Candies  Kopiko    0.0              0.0   \n",
       "\n",
       "           Category SubCategory Quantity  \\\n",
       "2230  Packaged Food      Sweets   140 gm   \n",
       "\n",
       "                                            Description  \\\n",
       "2230  OverviewKopiko candy is made from real coffee ...   \n",
       "\n",
       "                 BreadCrumbs  DiscountPercent  \n",
       "2230  Packaged Food > Sweets              NaN  "
      ]
     },
     "execution_count": 26,
     "metadata": {},
     "output_type": "execute_result"
    }
   ],
   "source": [
    "df[df['DiscountPercent'].isnull()==True]"
   ]
  },
  {
   "cell_type": "code",
   "execution_count": 27,
   "id": "ec1413a0",
   "metadata": {
    "execution": {
     "iopub.execute_input": "2022-08-23T07:04:23.916904Z",
     "iopub.status.busy": "2022-08-23T07:04:23.915974Z",
     "iopub.status.idle": "2022-08-23T07:04:23.922119Z",
     "shell.execute_reply": "2022-08-23T07:04:23.921108Z"
    },
    "papermill": {
     "duration": 0.039233,
     "end_time": "2022-08-23T07:04:23.924989",
     "exception": false,
     "start_time": "2022-08-23T07:04:23.885756",
     "status": "completed"
    },
    "tags": []
   },
   "outputs": [],
   "source": [
    "df['DiscountPercent'] = df['DiscountPercent'].fillna(0)"
   ]
  },
  {
   "cell_type": "code",
   "execution_count": 28,
   "id": "5443924f",
   "metadata": {
    "execution": {
     "iopub.execute_input": "2022-08-23T07:04:23.986487Z",
     "iopub.status.busy": "2022-08-23T07:04:23.985493Z",
     "iopub.status.idle": "2022-08-23T07:04:23.995606Z",
     "shell.execute_reply": "2022-08-23T07:04:23.994288Z"
    },
    "papermill": {
     "duration": 0.043741,
     "end_time": "2022-08-23T07:04:23.998784",
     "exception": false,
     "start_time": "2022-08-23T07:04:23.955043",
     "status": "completed"
    },
    "tags": []
   },
   "outputs": [],
   "source": [
    "df['DiscountPercent']=df['DiscountPercent'].apply(lambda x:int(x))"
   ]
  },
  {
   "cell_type": "code",
   "execution_count": 29,
   "id": "62849243",
   "metadata": {
    "execution": {
     "iopub.execute_input": "2022-08-23T07:04:24.058396Z",
     "iopub.status.busy": "2022-08-23T07:04:24.057914Z",
     "iopub.status.idle": "2022-08-23T07:04:24.075940Z",
     "shell.execute_reply": "2022-08-23T07:04:24.074948Z"
    },
    "papermill": {
     "duration": 0.05091,
     "end_time": "2022-08-23T07:04:24.078405",
     "exception": false,
     "start_time": "2022-08-23T07:04:24.027495",
     "status": "completed"
    },
    "tags": []
   },
   "outputs": [
    {
     "data": {
      "text/html": [
       "<div>\n",
       "<style scoped>\n",
       "    .dataframe tbody tr th:only-of-type {\n",
       "        vertical-align: middle;\n",
       "    }\n",
       "\n",
       "    .dataframe tbody tr th {\n",
       "        vertical-align: top;\n",
       "    }\n",
       "\n",
       "    .dataframe thead th {\n",
       "        text-align: right;\n",
       "    }\n",
       "</style>\n",
       "<table border=\"1\" class=\"dataframe\">\n",
       "  <thead>\n",
       "    <tr style=\"text-align: right;\">\n",
       "      <th></th>\n",
       "      <th>Name</th>\n",
       "      <th>Brand</th>\n",
       "      <th>Price</th>\n",
       "      <th>DiscountedPrice</th>\n",
       "      <th>Category</th>\n",
       "      <th>SubCategory</th>\n",
       "      <th>Quantity</th>\n",
       "      <th>Description</th>\n",
       "      <th>BreadCrumbs</th>\n",
       "      <th>DiscountPercent</th>\n",
       "    </tr>\n",
       "  </thead>\n",
       "  <tbody>\n",
       "    <tr>\n",
       "      <th>0</th>\n",
       "      <td>Premia Badam (Almonds)</td>\n",
       "      <td>Premia</td>\n",
       "      <td>451.0</td>\n",
       "      <td>329.0</td>\n",
       "      <td>Grocery</td>\n",
       "      <td>Grocery/Dry Fruits</td>\n",
       "      <td>500 gm</td>\n",
       "      <td>India</td>\n",
       "      <td>Grocery &gt; Grocery/Dry Fruits</td>\n",
       "      <td>27</td>\n",
       "    </tr>\n",
       "    <tr>\n",
       "      <th>1</th>\n",
       "      <td>Premia Badam (Almonds)</td>\n",
       "      <td>Premia</td>\n",
       "      <td>109.0</td>\n",
       "      <td>85.0</td>\n",
       "      <td>Grocery</td>\n",
       "      <td>Grocery/Dry Fruits</td>\n",
       "      <td>100 gm</td>\n",
       "      <td>India</td>\n",
       "      <td>Grocery &gt; Grocery/Dry Fruits</td>\n",
       "      <td>22</td>\n",
       "    </tr>\n",
       "    <tr>\n",
       "      <th>2</th>\n",
       "      <td>Premia Badam (Almonds)</td>\n",
       "      <td>Premia</td>\n",
       "      <td>202.0</td>\n",
       "      <td>175.0</td>\n",
       "      <td>Grocery</td>\n",
       "      <td>Grocery/Dry Fruits</td>\n",
       "      <td>200 gm</td>\n",
       "      <td>India</td>\n",
       "      <td>Grocery &gt; Grocery/Dry Fruits</td>\n",
       "      <td>13</td>\n",
       "    </tr>\n",
       "    <tr>\n",
       "      <th>3</th>\n",
       "      <td>Nutraj California Almonds (Badam)</td>\n",
       "      <td>Nutraj</td>\n",
       "      <td>599.0</td>\n",
       "      <td>349.0</td>\n",
       "      <td>Grocery</td>\n",
       "      <td>Dry Fruits</td>\n",
       "      <td>500 gm</td>\n",
       "      <td>USA</td>\n",
       "      <td>Grocery &gt; Dry Fruits</td>\n",
       "      <td>41</td>\n",
       "    </tr>\n",
       "    <tr>\n",
       "      <th>4</th>\n",
       "      <td>Nutraj California Almonds (Badam)</td>\n",
       "      <td>Nutraj</td>\n",
       "      <td>1549.0</td>\n",
       "      <td>659.0</td>\n",
       "      <td>Grocery</td>\n",
       "      <td>Dry Fruits</td>\n",
       "      <td>1 kg</td>\n",
       "      <td>USA</td>\n",
       "      <td>Grocery &gt; Dry Fruits</td>\n",
       "      <td>57</td>\n",
       "    </tr>\n",
       "  </tbody>\n",
       "</table>\n",
       "</div>"
      ],
      "text/plain": [
       "                                Name   Brand   Price  DiscountedPrice  \\\n",
       "0             Premia Badam (Almonds)  Premia   451.0            329.0   \n",
       "1             Premia Badam (Almonds)  Premia   109.0             85.0   \n",
       "2             Premia Badam (Almonds)  Premia   202.0            175.0   \n",
       "3  Nutraj California Almonds (Badam)  Nutraj   599.0            349.0   \n",
       "4  Nutraj California Almonds (Badam)  Nutraj  1549.0            659.0   \n",
       "\n",
       "  Category         SubCategory Quantity Description  \\\n",
       "0  Grocery  Grocery/Dry Fruits   500 gm       India   \n",
       "1  Grocery  Grocery/Dry Fruits   100 gm       India   \n",
       "2  Grocery  Grocery/Dry Fruits   200 gm       India   \n",
       "3  Grocery          Dry Fruits   500 gm         USA   \n",
       "4  Grocery          Dry Fruits     1 kg         USA   \n",
       "\n",
       "                    BreadCrumbs  DiscountPercent  \n",
       "0  Grocery > Grocery/Dry Fruits               27  \n",
       "1  Grocery > Grocery/Dry Fruits               22  \n",
       "2  Grocery > Grocery/Dry Fruits               13  \n",
       "3          Grocery > Dry Fruits               41  \n",
       "4          Grocery > Dry Fruits               57  "
      ]
     },
     "execution_count": 29,
     "metadata": {},
     "output_type": "execute_result"
    }
   ],
   "source": [
    "df.head()"
   ]
  },
  {
   "cell_type": "code",
   "execution_count": 30,
   "id": "f8405339",
   "metadata": {
    "execution": {
     "iopub.execute_input": "2022-08-23T07:04:24.139307Z",
     "iopub.status.busy": "2022-08-23T07:04:24.138655Z",
     "iopub.status.idle": "2022-08-23T07:04:24.146756Z",
     "shell.execute_reply": "2022-08-23T07:04:24.145831Z"
    },
    "papermill": {
     "duration": 0.042239,
     "end_time": "2022-08-23T07:04:24.149476",
     "exception": false,
     "start_time": "2022-08-23T07:04:24.107237",
     "status": "completed"
    },
    "tags": []
   },
   "outputs": [
    {
     "data": {
      "text/plain": [
       "array(['Grocery/Dry Fruits', 'Dry Fruits', 'Dals', 'Pulses',\n",
       "       'Masala & Spices', 'Grocery/Salt / Sugar / Jaggery',\n",
       "       'Ghee & Vanaspati', 'Grocery/Rice & Rice Products',\n",
       "       'Grocery/Masala & Spices', 'Grocery/Flours & Grains',\n",
       "       'Cooking Oil', 'Hair Care', 'Gourmet Food', 'Flours & Grains',\n",
       "       'Rice & Rice Products', 'DMart Grocery/Rice & Rice Products',\n",
       "       'Pickles', 'Salt / Sugar / Jaggery', 'Snacks & Farsans',\n",
       "       'Beverages', 'DMart Grocery', 'Dairy', 'Biscuits & Cookies',\n",
       "       'Bakery', 'Personal Care', 'Ready To Cook', 'Breakfast Cereals',\n",
       "       'Packaged Food', 'Sweets', 'Ketchup & Sauce', 'Jams & Spreads',\n",
       "       'Pasta & Noodles', 'Fruits & Vegetables',\n",
       "       'Detergent & Fabric Care', 'Cleaners', 'Specials',\n",
       "       'Home & Kitchen', 'Cleaning Tools', 'Freshener & Repellents',\n",
       "       'Bed & Bath', 'Furniture & Décor', 'Disinfectants',\n",
       "       'Tissue Paper & Napkins', 'Home & Kitchen/Tissue Paper & Napkins',\n",
       "       'Kitchen Aprons', 'Home Appliances', 'Wonderchef',\n",
       "       'Water Purifiers & Accessories', 'Home Utility', 'Tableware',\n",
       "       'Butterfly', 'Cookware & Serveware', 'Festive Specials',\n",
       "       'Joyo Plastics', 'Pooja Needs', 'Geep', 'Zebronics', 'Skin Care',\n",
       "       'Personal Care/Face Care', 'Beauty & Cosmetics/Skin Care',\n",
       "       'Face Care', 'Beauty & Cosmetics/Face Care',\n",
       "       'Personal Care/Skin Care', 'Eye Makeup', 'Lip Care',\n",
       "       'Personal Care/Lip Care', 'Personal Care/Nail Care', 'Oral Care',\n",
       "       'Personal Hygiene', 'Deos & Perfumes', 'Shaving Needs',\n",
       "       'Baby & Kids', 'Health & Wellness', 'Appliances', 'Syska',\n",
       "       'Kitchen Appliances', 'Pigeon', \"Men's\", \"Women's\", 'School Needs',\n",
       "       'Backpacks', 'Computer Accessories', 'Plant Container',\n",
       "       'Motorbike Helmets', 'Smartwatches', 'Raincoat'], dtype=object)"
      ]
     },
     "execution_count": 30,
     "metadata": {},
     "output_type": "execute_result"
    }
   ],
   "source": [
    "df['SubCategory'].unique()"
   ]
  },
  {
   "cell_type": "code",
   "execution_count": 31,
   "id": "4478dc37",
   "metadata": {
    "execution": {
     "iopub.execute_input": "2022-08-23T07:04:24.211618Z",
     "iopub.status.busy": "2022-08-23T07:04:24.210432Z",
     "iopub.status.idle": "2022-08-23T07:04:24.219356Z",
     "shell.execute_reply": "2022-08-23T07:04:24.218220Z"
    },
    "papermill": {
     "duration": 0.04335,
     "end_time": "2022-08-23T07:04:24.222289",
     "exception": false,
     "start_time": "2022-08-23T07:04:24.178939",
     "status": "completed"
    },
    "tags": []
   },
   "outputs": [],
   "source": [
    "df['SubCategory'] = df['SubCategory'].apply(lambda x: x.split('/')[-1])"
   ]
  },
  {
   "cell_type": "code",
   "execution_count": 32,
   "id": "1de23de4",
   "metadata": {
    "execution": {
     "iopub.execute_input": "2022-08-23T07:04:24.284845Z",
     "iopub.status.busy": "2022-08-23T07:04:24.284072Z",
     "iopub.status.idle": "2022-08-23T07:04:24.292807Z",
     "shell.execute_reply": "2022-08-23T07:04:24.291732Z"
    },
    "papermill": {
     "duration": 0.043585,
     "end_time": "2022-08-23T07:04:24.295635",
     "exception": false,
     "start_time": "2022-08-23T07:04:24.252050",
     "status": "completed"
    },
    "tags": []
   },
   "outputs": [
    {
     "data": {
      "text/plain": [
       "array(['Dry Fruits', 'Dals', 'Pulses', 'Masala & Spices', ' Jaggery',\n",
       "       'Ghee & Vanaspati', 'Rice & Rice Products', 'Flours & Grains',\n",
       "       'Cooking Oil', 'Hair Care', 'Gourmet Food', 'Pickles',\n",
       "       'Snacks & Farsans', 'Beverages', 'DMart Grocery', 'Dairy',\n",
       "       'Biscuits & Cookies', 'Bakery', 'Personal Care', 'Ready To Cook',\n",
       "       'Breakfast Cereals', 'Packaged Food', 'Sweets', 'Ketchup & Sauce',\n",
       "       'Jams & Spreads', 'Pasta & Noodles', 'Fruits & Vegetables',\n",
       "       'Detergent & Fabric Care', 'Cleaners', 'Specials',\n",
       "       'Home & Kitchen', 'Cleaning Tools', 'Freshener & Repellents',\n",
       "       'Bed & Bath', 'Furniture & Décor', 'Disinfectants',\n",
       "       'Tissue Paper & Napkins', 'Kitchen Aprons', 'Home Appliances',\n",
       "       'Wonderchef', 'Water Purifiers & Accessories', 'Home Utility',\n",
       "       'Tableware', 'Butterfly', 'Cookware & Serveware',\n",
       "       'Festive Specials', 'Joyo Plastics', 'Pooja Needs', 'Geep',\n",
       "       'Zebronics', 'Skin Care', 'Face Care', 'Eye Makeup', 'Lip Care',\n",
       "       'Nail Care', 'Oral Care', 'Personal Hygiene', 'Deos & Perfumes',\n",
       "       'Shaving Needs', 'Baby & Kids', 'Health & Wellness', 'Appliances',\n",
       "       'Syska', 'Kitchen Appliances', 'Pigeon', \"Men's\", \"Women's\",\n",
       "       'School Needs', 'Backpacks', 'Computer Accessories',\n",
       "       'Plant Container', 'Motorbike Helmets', 'Smartwatches', 'Raincoat'],\n",
       "      dtype=object)"
      ]
     },
     "execution_count": 32,
     "metadata": {},
     "output_type": "execute_result"
    }
   ],
   "source": [
    "df['SubCategory'].unique()"
   ]
  },
  {
   "cell_type": "code",
   "execution_count": 33,
   "id": "0ceb3508",
   "metadata": {
    "execution": {
     "iopub.execute_input": "2022-08-23T07:04:24.357941Z",
     "iopub.status.busy": "2022-08-23T07:04:24.357124Z",
     "iopub.status.idle": "2022-08-23T07:04:24.375143Z",
     "shell.execute_reply": "2022-08-23T07:04:24.374042Z"
    },
    "papermill": {
     "duration": 0.051842,
     "end_time": "2022-08-23T07:04:24.377660",
     "exception": false,
     "start_time": "2022-08-23T07:04:24.325818",
     "status": "completed"
    },
    "tags": []
   },
   "outputs": [
    {
     "data": {
      "text/html": [
       "<div>\n",
       "<style scoped>\n",
       "    .dataframe tbody tr th:only-of-type {\n",
       "        vertical-align: middle;\n",
       "    }\n",
       "\n",
       "    .dataframe tbody tr th {\n",
       "        vertical-align: top;\n",
       "    }\n",
       "\n",
       "    .dataframe thead th {\n",
       "        text-align: right;\n",
       "    }\n",
       "</style>\n",
       "<table border=\"1\" class=\"dataframe\">\n",
       "  <thead>\n",
       "    <tr style=\"text-align: right;\">\n",
       "      <th></th>\n",
       "      <th>Name</th>\n",
       "      <th>Brand</th>\n",
       "      <th>Price</th>\n",
       "      <th>DiscountedPrice</th>\n",
       "      <th>Category</th>\n",
       "      <th>SubCategory</th>\n",
       "      <th>Quantity</th>\n",
       "      <th>Description</th>\n",
       "      <th>BreadCrumbs</th>\n",
       "      <th>DiscountPercent</th>\n",
       "    </tr>\n",
       "  </thead>\n",
       "  <tbody>\n",
       "    <tr>\n",
       "      <th>0</th>\n",
       "      <td>Premia Badam (Almonds)</td>\n",
       "      <td>Premia</td>\n",
       "      <td>451.0</td>\n",
       "      <td>329.0</td>\n",
       "      <td>Grocery</td>\n",
       "      <td>Dry Fruits</td>\n",
       "      <td>500 gm</td>\n",
       "      <td>India</td>\n",
       "      <td>Grocery &gt; Grocery/Dry Fruits</td>\n",
       "      <td>27</td>\n",
       "    </tr>\n",
       "    <tr>\n",
       "      <th>1</th>\n",
       "      <td>Premia Badam (Almonds)</td>\n",
       "      <td>Premia</td>\n",
       "      <td>109.0</td>\n",
       "      <td>85.0</td>\n",
       "      <td>Grocery</td>\n",
       "      <td>Dry Fruits</td>\n",
       "      <td>100 gm</td>\n",
       "      <td>India</td>\n",
       "      <td>Grocery &gt; Grocery/Dry Fruits</td>\n",
       "      <td>22</td>\n",
       "    </tr>\n",
       "    <tr>\n",
       "      <th>2</th>\n",
       "      <td>Premia Badam (Almonds)</td>\n",
       "      <td>Premia</td>\n",
       "      <td>202.0</td>\n",
       "      <td>175.0</td>\n",
       "      <td>Grocery</td>\n",
       "      <td>Dry Fruits</td>\n",
       "      <td>200 gm</td>\n",
       "      <td>India</td>\n",
       "      <td>Grocery &gt; Grocery/Dry Fruits</td>\n",
       "      <td>13</td>\n",
       "    </tr>\n",
       "    <tr>\n",
       "      <th>3</th>\n",
       "      <td>Nutraj California Almonds (Badam)</td>\n",
       "      <td>Nutraj</td>\n",
       "      <td>599.0</td>\n",
       "      <td>349.0</td>\n",
       "      <td>Grocery</td>\n",
       "      <td>Dry Fruits</td>\n",
       "      <td>500 gm</td>\n",
       "      <td>USA</td>\n",
       "      <td>Grocery &gt; Dry Fruits</td>\n",
       "      <td>41</td>\n",
       "    </tr>\n",
       "    <tr>\n",
       "      <th>4</th>\n",
       "      <td>Nutraj California Almonds (Badam)</td>\n",
       "      <td>Nutraj</td>\n",
       "      <td>1549.0</td>\n",
       "      <td>659.0</td>\n",
       "      <td>Grocery</td>\n",
       "      <td>Dry Fruits</td>\n",
       "      <td>1 kg</td>\n",
       "      <td>USA</td>\n",
       "      <td>Grocery &gt; Dry Fruits</td>\n",
       "      <td>57</td>\n",
       "    </tr>\n",
       "  </tbody>\n",
       "</table>\n",
       "</div>"
      ],
      "text/plain": [
       "                                Name   Brand   Price  DiscountedPrice  \\\n",
       "0             Premia Badam (Almonds)  Premia   451.0            329.0   \n",
       "1             Premia Badam (Almonds)  Premia   109.0             85.0   \n",
       "2             Premia Badam (Almonds)  Premia   202.0            175.0   \n",
       "3  Nutraj California Almonds (Badam)  Nutraj   599.0            349.0   \n",
       "4  Nutraj California Almonds (Badam)  Nutraj  1549.0            659.0   \n",
       "\n",
       "  Category SubCategory Quantity Description                   BreadCrumbs  \\\n",
       "0  Grocery  Dry Fruits   500 gm       India  Grocery > Grocery/Dry Fruits   \n",
       "1  Grocery  Dry Fruits   100 gm       India  Grocery > Grocery/Dry Fruits   \n",
       "2  Grocery  Dry Fruits   200 gm       India  Grocery > Grocery/Dry Fruits   \n",
       "3  Grocery  Dry Fruits   500 gm         USA          Grocery > Dry Fruits   \n",
       "4  Grocery  Dry Fruits     1 kg         USA          Grocery > Dry Fruits   \n",
       "\n",
       "   DiscountPercent  \n",
       "0               27  \n",
       "1               22  \n",
       "2               13  \n",
       "3               41  \n",
       "4               57  "
      ]
     },
     "execution_count": 33,
     "metadata": {},
     "output_type": "execute_result"
    }
   ],
   "source": [
    "df.head()"
   ]
  },
  {
   "cell_type": "code",
   "execution_count": 34,
   "id": "09453983",
   "metadata": {
    "execution": {
     "iopub.execute_input": "2022-08-23T07:04:24.438979Z",
     "iopub.status.busy": "2022-08-23T07:04:24.438156Z",
     "iopub.status.idle": "2022-08-23T07:04:24.447260Z",
     "shell.execute_reply": "2022-08-23T07:04:24.446122Z"
    },
    "papermill": {
     "duration": 0.042953,
     "end_time": "2022-08-23T07:04:24.449826",
     "exception": false,
     "start_time": "2022-08-23T07:04:24.406873",
     "status": "completed"
    },
    "tags": []
   },
   "outputs": [
    {
     "data": {
      "text/plain": [
       "array(['Grocery > Grocery/Dry Fruits', 'Grocery > Dry Fruits',\n",
       "       'Grocery > Dals', 'Grocery > Pulses', 'Grocery > Masala & Spices',\n",
       "       'Grocery > Grocery/Salt / Sugar / Jaggery',\n",
       "       'Grocery > Ghee & Vanaspati',\n",
       "       'Grocery > Grocery/Rice & Rice Products',\n",
       "       'Grocery > Grocery/Masala & Spices',\n",
       "       'Grocery > Grocery/Flours & Grains', 'Grocery > Cooking Oil',\n",
       "       'Personal Care > Hair Care', 'Packaged Food > Gourmet Food',\n",
       "       'Grocery > Flours & Grains', 'Grocery > Rice & Rice Products',\n",
       "       'DMart Grocery > DMart Grocery/Rice & Rice Products',\n",
       "       'Packaged Food > Pickles', 'Grocery > Salt / Sugar / Jaggery',\n",
       "       'Packaged Food > Snacks & Farsans',\n",
       "       'Dairy & Beverages > Beverages', 'DMart Grocery',\n",
       "       'DMart Grocery > Rice & Rice Products',\n",
       "       'Dairy & Beverages > Dairy', 'Packaged Food > Biscuits & Cookies',\n",
       "       'Packaged Food > Biscuits & Cookies > Bakery',\n",
       "       'Packaged Food > Health & Wellness > Personal Care',\n",
       "       'Packaged Food > Ready To Cook',\n",
       "       'Packaged Food > Ready To Cook > Snacks & Farsans',\n",
       "       'Packaged Food > Breakfast Cereals', 'Packaged Food',\n",
       "       'Packaged Food > Sweets', 'Packaged Food > Ketchup & Sauce',\n",
       "       'Packaged Food > Jams & Spreads',\n",
       "       'Packaged Food > Pasta & Noodles', 'Fruits & Vegetables',\n",
       "       'Home & Kitchen > Detergent & Fabric Care',\n",
       "       'Home & Kitchen > Cleaners', 'Specials', 'Home & Kitchen',\n",
       "       'Home & Kitchen > Cleaning Tools',\n",
       "       'Home & Kitchen > Freshener & Repellents',\n",
       "       'Home & Kitchen > Furniture & Décor > Bed & Bath',\n",
       "       'Home & Kitchen > Furniture & Décor',\n",
       "       'Home & Kitchen > Disinfectants',\n",
       "       'Home & Kitchen > Tissue Paper & Napkins',\n",
       "       'Personal Care > Personal Care/Face Care > Tissue Paper & Napkins',\n",
       "       'Home & Kitchen > Home & Kitchen/Tissue Paper & Napkins',\n",
       "       'Kitchen Aprons', 'Appliances > Home Appliances', 'Wonderchef',\n",
       "       'Water Purifiers & Accessories', 'Home & Kitchen > Bed & Bath',\n",
       "       'Home & Kitchen > Home Utility', 'Tableware', 'Butterfly',\n",
       "       'Home & Kitchen > Cookware & Serveware',\n",
       "       'Specials > Festive Specials', 'Joyo Plastics',\n",
       "       'Home & Kitchen > Pooja Needs',\n",
       "       'Home & Kitchen > Home Appliances > Home Utility', 'Geep',\n",
       "       'Zebronics', 'Personal Care > Skin Care',\n",
       "       'Personal Care > Personal Care/Face Care',\n",
       "       'Beauty & Cosmetics > Beauty & Cosmetics/Skin Care',\n",
       "       'Beauty & Cosmetics > Beauty & Cosmetics/Skin Care > Face Care',\n",
       "       'Personal Care',\n",
       "       'Beauty & Cosmetics > Beauty & Cosmetics/Skin Care > Beauty & Cosmetics/Face Care',\n",
       "       'Personal Care > Personal Care/Skin Care',\n",
       "       'Personal Care > Face Care', 'Beauty & Cosmetics > Skin Care',\n",
       "       'Beauty & Cosmetics > Skin Care > Beauty & Cosmetics/Face Care',\n",
       "       'Personal Care > Eye Makeup', 'Personal Care > Lip Care',\n",
       "       'Personal Care > Personal Care/Lip Care',\n",
       "       'Personal Care > Personal Care/Nail Care',\n",
       "       'Personal Care > Oral Care', 'Personal Care > Personal Hygiene',\n",
       "       'Personal Care > Deos & Perfumes', 'Personal Care > Shaving Needs',\n",
       "       'Personal Care > Baby & Kids', 'Personal Care > Health & Wellness',\n",
       "       'Appliances', 'Syska', 'Appliances > Kitchen Appliances', 'Pigeon',\n",
       "       \"Clothing & Accessories > Men's\",\n",
       "       \"Clothing & Accessories > Women's\",\n",
       "       'School Supplies > School Needs', 'Backpacks',\n",
       "       'Computer Accessories', 'Plant Container', 'Motorbike Helmets',\n",
       "       'Smartwatches', 'Raincoat', 'Packaged Food > Bakery',\n",
       "       'Baby & Kids'], dtype=object)"
      ]
     },
     "execution_count": 34,
     "metadata": {},
     "output_type": "execute_result"
    }
   ],
   "source": [
    "df.BreadCrumbs.unique()"
   ]
  },
  {
   "cell_type": "code",
   "execution_count": 35,
   "id": "a8f267af",
   "metadata": {
    "execution": {
     "iopub.execute_input": "2022-08-23T07:04:24.511069Z",
     "iopub.status.busy": "2022-08-23T07:04:24.510307Z",
     "iopub.status.idle": "2022-08-23T07:04:24.527573Z",
     "shell.execute_reply": "2022-08-23T07:04:24.526485Z"
    },
    "papermill": {
     "duration": 0.050635,
     "end_time": "2022-08-23T07:04:24.530146",
     "exception": false,
     "start_time": "2022-08-23T07:04:24.479511",
     "status": "completed"
    },
    "tags": []
   },
   "outputs": [
    {
     "data": {
      "text/html": [
       "<div>\n",
       "<style scoped>\n",
       "    .dataframe tbody tr th:only-of-type {\n",
       "        vertical-align: middle;\n",
       "    }\n",
       "\n",
       "    .dataframe tbody tr th {\n",
       "        vertical-align: top;\n",
       "    }\n",
       "\n",
       "    .dataframe thead th {\n",
       "        text-align: right;\n",
       "    }\n",
       "</style>\n",
       "<table border=\"1\" class=\"dataframe\">\n",
       "  <thead>\n",
       "    <tr style=\"text-align: right;\">\n",
       "      <th></th>\n",
       "      <th>Name</th>\n",
       "      <th>Brand</th>\n",
       "      <th>Price</th>\n",
       "      <th>DiscountedPrice</th>\n",
       "      <th>Category</th>\n",
       "      <th>SubCategory</th>\n",
       "      <th>Quantity</th>\n",
       "      <th>Description</th>\n",
       "      <th>BreadCrumbs</th>\n",
       "      <th>DiscountPercent</th>\n",
       "    </tr>\n",
       "  </thead>\n",
       "  <tbody>\n",
       "    <tr>\n",
       "      <th>0</th>\n",
       "      <td>Premia Badam (Almonds)</td>\n",
       "      <td>Premia</td>\n",
       "      <td>451.0</td>\n",
       "      <td>329.0</td>\n",
       "      <td>Grocery</td>\n",
       "      <td>Dry Fruits</td>\n",
       "      <td>500 gm</td>\n",
       "      <td>India</td>\n",
       "      <td>Grocery &gt; Grocery/Dry Fruits</td>\n",
       "      <td>27</td>\n",
       "    </tr>\n",
       "    <tr>\n",
       "      <th>1</th>\n",
       "      <td>Premia Badam (Almonds)</td>\n",
       "      <td>Premia</td>\n",
       "      <td>109.0</td>\n",
       "      <td>85.0</td>\n",
       "      <td>Grocery</td>\n",
       "      <td>Dry Fruits</td>\n",
       "      <td>100 gm</td>\n",
       "      <td>India</td>\n",
       "      <td>Grocery &gt; Grocery/Dry Fruits</td>\n",
       "      <td>22</td>\n",
       "    </tr>\n",
       "    <tr>\n",
       "      <th>2</th>\n",
       "      <td>Premia Badam (Almonds)</td>\n",
       "      <td>Premia</td>\n",
       "      <td>202.0</td>\n",
       "      <td>175.0</td>\n",
       "      <td>Grocery</td>\n",
       "      <td>Dry Fruits</td>\n",
       "      <td>200 gm</td>\n",
       "      <td>India</td>\n",
       "      <td>Grocery &gt; Grocery/Dry Fruits</td>\n",
       "      <td>13</td>\n",
       "    </tr>\n",
       "    <tr>\n",
       "      <th>3</th>\n",
       "      <td>Nutraj California Almonds (Badam)</td>\n",
       "      <td>Nutraj</td>\n",
       "      <td>599.0</td>\n",
       "      <td>349.0</td>\n",
       "      <td>Grocery</td>\n",
       "      <td>Dry Fruits</td>\n",
       "      <td>500 gm</td>\n",
       "      <td>USA</td>\n",
       "      <td>Grocery &gt; Dry Fruits</td>\n",
       "      <td>41</td>\n",
       "    </tr>\n",
       "    <tr>\n",
       "      <th>4</th>\n",
       "      <td>Nutraj California Almonds (Badam)</td>\n",
       "      <td>Nutraj</td>\n",
       "      <td>1549.0</td>\n",
       "      <td>659.0</td>\n",
       "      <td>Grocery</td>\n",
       "      <td>Dry Fruits</td>\n",
       "      <td>1 kg</td>\n",
       "      <td>USA</td>\n",
       "      <td>Grocery &gt; Dry Fruits</td>\n",
       "      <td>57</td>\n",
       "    </tr>\n",
       "  </tbody>\n",
       "</table>\n",
       "</div>"
      ],
      "text/plain": [
       "                                Name   Brand   Price  DiscountedPrice  \\\n",
       "0             Premia Badam (Almonds)  Premia   451.0            329.0   \n",
       "1             Premia Badam (Almonds)  Premia   109.0             85.0   \n",
       "2             Premia Badam (Almonds)  Premia   202.0            175.0   \n",
       "3  Nutraj California Almonds (Badam)  Nutraj   599.0            349.0   \n",
       "4  Nutraj California Almonds (Badam)  Nutraj  1549.0            659.0   \n",
       "\n",
       "  Category SubCategory Quantity Description                   BreadCrumbs  \\\n",
       "0  Grocery  Dry Fruits   500 gm       India  Grocery > Grocery/Dry Fruits   \n",
       "1  Grocery  Dry Fruits   100 gm       India  Grocery > Grocery/Dry Fruits   \n",
       "2  Grocery  Dry Fruits   200 gm       India  Grocery > Grocery/Dry Fruits   \n",
       "3  Grocery  Dry Fruits   500 gm         USA          Grocery > Dry Fruits   \n",
       "4  Grocery  Dry Fruits     1 kg         USA          Grocery > Dry Fruits   \n",
       "\n",
       "   DiscountPercent  \n",
       "0               27  \n",
       "1               22  \n",
       "2               13  \n",
       "3               41  \n",
       "4               57  "
      ]
     },
     "execution_count": 35,
     "metadata": {},
     "output_type": "execute_result"
    }
   ],
   "source": [
    "df.head()"
   ]
  },
  {
   "cell_type": "code",
   "execution_count": 36,
   "id": "04eb71e7",
   "metadata": {
    "execution": {
     "iopub.execute_input": "2022-08-23T07:04:24.592321Z",
     "iopub.status.busy": "2022-08-23T07:04:24.591754Z",
     "iopub.status.idle": "2022-08-23T07:04:24.603510Z",
     "shell.execute_reply": "2022-08-23T07:04:24.602313Z"
    },
    "papermill": {
     "duration": 0.0462,
     "end_time": "2022-08-23T07:04:24.605877",
     "exception": false,
     "start_time": "2022-08-23T07:04:24.559677",
     "status": "completed"
    },
    "tags": []
   },
   "outputs": [],
   "source": [
    "df['BreadCrumbs'] = df.BreadCrumbs.apply(lambda x:x.split('>')[-1]).apply(lambda x:x.split('/')[-1])"
   ]
  },
  {
   "cell_type": "code",
   "execution_count": 37,
   "id": "1437e898",
   "metadata": {
    "execution": {
     "iopub.execute_input": "2022-08-23T07:04:24.669223Z",
     "iopub.status.busy": "2022-08-23T07:04:24.668424Z",
     "iopub.status.idle": "2022-08-23T07:04:24.685882Z",
     "shell.execute_reply": "2022-08-23T07:04:24.684810Z"
    },
    "papermill": {
     "duration": 0.052939,
     "end_time": "2022-08-23T07:04:24.688719",
     "exception": false,
     "start_time": "2022-08-23T07:04:24.635780",
     "status": "completed"
    },
    "tags": []
   },
   "outputs": [
    {
     "data": {
      "text/html": [
       "<div>\n",
       "<style scoped>\n",
       "    .dataframe tbody tr th:only-of-type {\n",
       "        vertical-align: middle;\n",
       "    }\n",
       "\n",
       "    .dataframe tbody tr th {\n",
       "        vertical-align: top;\n",
       "    }\n",
       "\n",
       "    .dataframe thead th {\n",
       "        text-align: right;\n",
       "    }\n",
       "</style>\n",
       "<table border=\"1\" class=\"dataframe\">\n",
       "  <thead>\n",
       "    <tr style=\"text-align: right;\">\n",
       "      <th></th>\n",
       "      <th>Name</th>\n",
       "      <th>Brand</th>\n",
       "      <th>Price</th>\n",
       "      <th>DiscountedPrice</th>\n",
       "      <th>Category</th>\n",
       "      <th>SubCategory</th>\n",
       "      <th>Quantity</th>\n",
       "      <th>Description</th>\n",
       "      <th>BreadCrumbs</th>\n",
       "      <th>DiscountPercent</th>\n",
       "    </tr>\n",
       "  </thead>\n",
       "  <tbody>\n",
       "    <tr>\n",
       "      <th>0</th>\n",
       "      <td>Premia Badam (Almonds)</td>\n",
       "      <td>Premia</td>\n",
       "      <td>451.0</td>\n",
       "      <td>329.0</td>\n",
       "      <td>Grocery</td>\n",
       "      <td>Dry Fruits</td>\n",
       "      <td>500 gm</td>\n",
       "      <td>India</td>\n",
       "      <td>Dry Fruits</td>\n",
       "      <td>27</td>\n",
       "    </tr>\n",
       "    <tr>\n",
       "      <th>1</th>\n",
       "      <td>Premia Badam (Almonds)</td>\n",
       "      <td>Premia</td>\n",
       "      <td>109.0</td>\n",
       "      <td>85.0</td>\n",
       "      <td>Grocery</td>\n",
       "      <td>Dry Fruits</td>\n",
       "      <td>100 gm</td>\n",
       "      <td>India</td>\n",
       "      <td>Dry Fruits</td>\n",
       "      <td>22</td>\n",
       "    </tr>\n",
       "    <tr>\n",
       "      <th>2</th>\n",
       "      <td>Premia Badam (Almonds)</td>\n",
       "      <td>Premia</td>\n",
       "      <td>202.0</td>\n",
       "      <td>175.0</td>\n",
       "      <td>Grocery</td>\n",
       "      <td>Dry Fruits</td>\n",
       "      <td>200 gm</td>\n",
       "      <td>India</td>\n",
       "      <td>Dry Fruits</td>\n",
       "      <td>13</td>\n",
       "    </tr>\n",
       "    <tr>\n",
       "      <th>3</th>\n",
       "      <td>Nutraj California Almonds (Badam)</td>\n",
       "      <td>Nutraj</td>\n",
       "      <td>599.0</td>\n",
       "      <td>349.0</td>\n",
       "      <td>Grocery</td>\n",
       "      <td>Dry Fruits</td>\n",
       "      <td>500 gm</td>\n",
       "      <td>USA</td>\n",
       "      <td>Dry Fruits</td>\n",
       "      <td>41</td>\n",
       "    </tr>\n",
       "    <tr>\n",
       "      <th>4</th>\n",
       "      <td>Nutraj California Almonds (Badam)</td>\n",
       "      <td>Nutraj</td>\n",
       "      <td>1549.0</td>\n",
       "      <td>659.0</td>\n",
       "      <td>Grocery</td>\n",
       "      <td>Dry Fruits</td>\n",
       "      <td>1 kg</td>\n",
       "      <td>USA</td>\n",
       "      <td>Dry Fruits</td>\n",
       "      <td>57</td>\n",
       "    </tr>\n",
       "  </tbody>\n",
       "</table>\n",
       "</div>"
      ],
      "text/plain": [
       "                                Name   Brand   Price  DiscountedPrice  \\\n",
       "0             Premia Badam (Almonds)  Premia   451.0            329.0   \n",
       "1             Premia Badam (Almonds)  Premia   109.0             85.0   \n",
       "2             Premia Badam (Almonds)  Premia   202.0            175.0   \n",
       "3  Nutraj California Almonds (Badam)  Nutraj   599.0            349.0   \n",
       "4  Nutraj California Almonds (Badam)  Nutraj  1549.0            659.0   \n",
       "\n",
       "  Category SubCategory Quantity Description  BreadCrumbs  DiscountPercent  \n",
       "0  Grocery  Dry Fruits   500 gm       India   Dry Fruits               27  \n",
       "1  Grocery  Dry Fruits   100 gm       India   Dry Fruits               22  \n",
       "2  Grocery  Dry Fruits   200 gm       India   Dry Fruits               13  \n",
       "3  Grocery  Dry Fruits   500 gm         USA   Dry Fruits               41  \n",
       "4  Grocery  Dry Fruits     1 kg         USA   Dry Fruits               57  "
      ]
     },
     "execution_count": 37,
     "metadata": {},
     "output_type": "execute_result"
    }
   ],
   "source": [
    "df.head()"
   ]
  },
  {
   "cell_type": "code",
   "execution_count": 38,
   "id": "94a6036d",
   "metadata": {
    "execution": {
     "iopub.execute_input": "2022-08-23T07:04:24.755923Z",
     "iopub.status.busy": "2022-08-23T07:04:24.755099Z",
     "iopub.status.idle": "2022-08-23T07:04:24.770779Z",
     "shell.execute_reply": "2022-08-23T07:04:24.769646Z"
    },
    "papermill": {
     "duration": 0.052064,
     "end_time": "2022-08-23T07:04:24.773590",
     "exception": false,
     "start_time": "2022-08-23T07:04:24.721526",
     "status": "completed"
    },
    "tags": []
   },
   "outputs": [
    {
     "data": {
      "text/html": [
       "<div>\n",
       "<style scoped>\n",
       "    .dataframe tbody tr th:only-of-type {\n",
       "        vertical-align: middle;\n",
       "    }\n",
       "\n",
       "    .dataframe tbody tr th {\n",
       "        vertical-align: top;\n",
       "    }\n",
       "\n",
       "    .dataframe thead th {\n",
       "        text-align: right;\n",
       "    }\n",
       "</style>\n",
       "<table border=\"1\" class=\"dataframe\">\n",
       "  <thead>\n",
       "    <tr style=\"text-align: right;\">\n",
       "      <th></th>\n",
       "      <th>SubCategory</th>\n",
       "      <th>BreadCrumbs</th>\n",
       "    </tr>\n",
       "  </thead>\n",
       "  <tbody>\n",
       "    <tr>\n",
       "      <th>5089</th>\n",
       "      <td>School Needs</td>\n",
       "      <td>School Needs</td>\n",
       "    </tr>\n",
       "    <tr>\n",
       "      <th>5090</th>\n",
       "      <td>Jaggery</td>\n",
       "      <td>Jaggery</td>\n",
       "    </tr>\n",
       "    <tr>\n",
       "      <th>5091</th>\n",
       "      <td>Jaggery</td>\n",
       "      <td>Jaggery</td>\n",
       "    </tr>\n",
       "    <tr>\n",
       "      <th>5092</th>\n",
       "      <td>Personal Hygiene</td>\n",
       "      <td>Personal Hygiene</td>\n",
       "    </tr>\n",
       "    <tr>\n",
       "      <th>5093</th>\n",
       "      <td>School Needs</td>\n",
       "      <td>School Needs</td>\n",
       "    </tr>\n",
       "    <tr>\n",
       "      <th>...</th>\n",
       "      <td>...</td>\n",
       "      <td>...</td>\n",
       "    </tr>\n",
       "    <tr>\n",
       "      <th>5184</th>\n",
       "      <td>School Needs</td>\n",
       "      <td>School Needs</td>\n",
       "    </tr>\n",
       "    <tr>\n",
       "      <th>5185</th>\n",
       "      <td>School Needs</td>\n",
       "      <td>School Needs</td>\n",
       "    </tr>\n",
       "    <tr>\n",
       "      <th>5186</th>\n",
       "      <td>School Needs</td>\n",
       "      <td>School Needs</td>\n",
       "    </tr>\n",
       "    <tr>\n",
       "      <th>5187</th>\n",
       "      <td>School Needs</td>\n",
       "      <td>School Needs</td>\n",
       "    </tr>\n",
       "    <tr>\n",
       "      <th>5188</th>\n",
       "      <td>School Needs</td>\n",
       "      <td>School Needs</td>\n",
       "    </tr>\n",
       "  </tbody>\n",
       "</table>\n",
       "<p>100 rows × 2 columns</p>\n",
       "</div>"
      ],
      "text/plain": [
       "           SubCategory        BreadCrumbs\n",
       "5089      School Needs       School Needs\n",
       "5090           Jaggery            Jaggery\n",
       "5091           Jaggery            Jaggery\n",
       "5092  Personal Hygiene   Personal Hygiene\n",
       "5093      School Needs       School Needs\n",
       "...                ...                ...\n",
       "5184      School Needs       School Needs\n",
       "5185      School Needs       School Needs\n",
       "5186      School Needs       School Needs\n",
       "5187      School Needs       School Needs\n",
       "5188      School Needs       School Needs\n",
       "\n",
       "[100 rows x 2 columns]"
      ]
     },
     "execution_count": 38,
     "metadata": {},
     "output_type": "execute_result"
    }
   ],
   "source": [
    "df[['SubCategory','BreadCrumbs']].tail(100)"
   ]
  },
  {
   "cell_type": "markdown",
   "id": "14ed3b55",
   "metadata": {
    "papermill": {
     "duration": 0.030461,
     "end_time": "2022-08-23T07:04:24.834263",
     "exception": false,
     "start_time": "2022-08-23T07:04:24.803802",
     "status": "completed"
    },
    "tags": []
   },
   "source": [
    "**SubCategory and BreadCrumbs are one and the same column.**"
   ]
  },
  {
   "cell_type": "code",
   "execution_count": 39,
   "id": "e6aef1f2",
   "metadata": {
    "execution": {
     "iopub.execute_input": "2022-08-23T07:04:24.898135Z",
     "iopub.status.busy": "2022-08-23T07:04:24.897225Z",
     "iopub.status.idle": "2022-08-23T07:04:24.904559Z",
     "shell.execute_reply": "2022-08-23T07:04:24.903468Z"
    },
    "papermill": {
     "duration": 0.042107,
     "end_time": "2022-08-23T07:04:24.907365",
     "exception": false,
     "start_time": "2022-08-23T07:04:24.865258",
     "status": "completed"
    },
    "tags": []
   },
   "outputs": [],
   "source": [
    "df.drop(['BreadCrumbs'],axis=1,inplace=True)"
   ]
  },
  {
   "cell_type": "code",
   "execution_count": 40,
   "id": "7e4ec5f5",
   "metadata": {
    "execution": {
     "iopub.execute_input": "2022-08-23T07:04:24.971013Z",
     "iopub.status.busy": "2022-08-23T07:04:24.970132Z",
     "iopub.status.idle": "2022-08-23T07:04:24.986825Z",
     "shell.execute_reply": "2022-08-23T07:04:24.985843Z"
    },
    "papermill": {
     "duration": 0.052091,
     "end_time": "2022-08-23T07:04:24.989554",
     "exception": false,
     "start_time": "2022-08-23T07:04:24.937463",
     "status": "completed"
    },
    "tags": []
   },
   "outputs": [
    {
     "data": {
      "text/html": [
       "<div>\n",
       "<style scoped>\n",
       "    .dataframe tbody tr th:only-of-type {\n",
       "        vertical-align: middle;\n",
       "    }\n",
       "\n",
       "    .dataframe tbody tr th {\n",
       "        vertical-align: top;\n",
       "    }\n",
       "\n",
       "    .dataframe thead th {\n",
       "        text-align: right;\n",
       "    }\n",
       "</style>\n",
       "<table border=\"1\" class=\"dataframe\">\n",
       "  <thead>\n",
       "    <tr style=\"text-align: right;\">\n",
       "      <th></th>\n",
       "      <th>Name</th>\n",
       "      <th>Brand</th>\n",
       "      <th>Price</th>\n",
       "      <th>DiscountedPrice</th>\n",
       "      <th>Category</th>\n",
       "      <th>SubCategory</th>\n",
       "      <th>Quantity</th>\n",
       "      <th>Description</th>\n",
       "      <th>DiscountPercent</th>\n",
       "    </tr>\n",
       "  </thead>\n",
       "  <tbody>\n",
       "    <tr>\n",
       "      <th>0</th>\n",
       "      <td>Premia Badam (Almonds)</td>\n",
       "      <td>Premia</td>\n",
       "      <td>451.0</td>\n",
       "      <td>329.0</td>\n",
       "      <td>Grocery</td>\n",
       "      <td>Dry Fruits</td>\n",
       "      <td>500 gm</td>\n",
       "      <td>India</td>\n",
       "      <td>27</td>\n",
       "    </tr>\n",
       "    <tr>\n",
       "      <th>1</th>\n",
       "      <td>Premia Badam (Almonds)</td>\n",
       "      <td>Premia</td>\n",
       "      <td>109.0</td>\n",
       "      <td>85.0</td>\n",
       "      <td>Grocery</td>\n",
       "      <td>Dry Fruits</td>\n",
       "      <td>100 gm</td>\n",
       "      <td>India</td>\n",
       "      <td>22</td>\n",
       "    </tr>\n",
       "    <tr>\n",
       "      <th>2</th>\n",
       "      <td>Premia Badam (Almonds)</td>\n",
       "      <td>Premia</td>\n",
       "      <td>202.0</td>\n",
       "      <td>175.0</td>\n",
       "      <td>Grocery</td>\n",
       "      <td>Dry Fruits</td>\n",
       "      <td>200 gm</td>\n",
       "      <td>India</td>\n",
       "      <td>13</td>\n",
       "    </tr>\n",
       "    <tr>\n",
       "      <th>3</th>\n",
       "      <td>Nutraj California Almonds (Badam)</td>\n",
       "      <td>Nutraj</td>\n",
       "      <td>599.0</td>\n",
       "      <td>349.0</td>\n",
       "      <td>Grocery</td>\n",
       "      <td>Dry Fruits</td>\n",
       "      <td>500 gm</td>\n",
       "      <td>USA</td>\n",
       "      <td>41</td>\n",
       "    </tr>\n",
       "    <tr>\n",
       "      <th>4</th>\n",
       "      <td>Nutraj California Almonds (Badam)</td>\n",
       "      <td>Nutraj</td>\n",
       "      <td>1549.0</td>\n",
       "      <td>659.0</td>\n",
       "      <td>Grocery</td>\n",
       "      <td>Dry Fruits</td>\n",
       "      <td>1 kg</td>\n",
       "      <td>USA</td>\n",
       "      <td>57</td>\n",
       "    </tr>\n",
       "  </tbody>\n",
       "</table>\n",
       "</div>"
      ],
      "text/plain": [
       "                                Name   Brand   Price  DiscountedPrice  \\\n",
       "0             Premia Badam (Almonds)  Premia   451.0            329.0   \n",
       "1             Premia Badam (Almonds)  Premia   109.0             85.0   \n",
       "2             Premia Badam (Almonds)  Premia   202.0            175.0   \n",
       "3  Nutraj California Almonds (Badam)  Nutraj   599.0            349.0   \n",
       "4  Nutraj California Almonds (Badam)  Nutraj  1549.0            659.0   \n",
       "\n",
       "  Category SubCategory Quantity Description  DiscountPercent  \n",
       "0  Grocery  Dry Fruits   500 gm       India               27  \n",
       "1  Grocery  Dry Fruits   100 gm       India               22  \n",
       "2  Grocery  Dry Fruits   200 gm       India               13  \n",
       "3  Grocery  Dry Fruits   500 gm         USA               41  \n",
       "4  Grocery  Dry Fruits     1 kg         USA               57  "
      ]
     },
     "execution_count": 40,
     "metadata": {},
     "output_type": "execute_result"
    }
   ],
   "source": [
    "df.head()"
   ]
  },
  {
   "cell_type": "markdown",
   "id": "88e97d27",
   "metadata": {
    "papermill": {
     "duration": 0.030112,
     "end_time": "2022-08-23T07:04:25.050280",
     "exception": false,
     "start_time": "2022-08-23T07:04:25.020168",
     "status": "completed"
    },
    "tags": []
   },
   "source": [
    "<h6 style=\"background-color:rgb(244,164,96);padding:8px 10px;border-radius:5px 25px 25px 5px;width:250px\"> Describing Data"
   ]
  },
  {
   "cell_type": "markdown",
   "id": "4365b760",
   "metadata": {
    "papermill": {
     "duration": 0.029914,
     "end_time": "2022-08-23T07:04:25.110825",
     "exception": false,
     "start_time": "2022-08-23T07:04:25.080911",
     "status": "completed"
    },
    "tags": []
   },
   "source": [
    "**Checking Min,Max and Avg value**"
   ]
  },
  {
   "cell_type": "code",
   "execution_count": 41,
   "id": "ce9dc294",
   "metadata": {
    "execution": {
     "iopub.execute_input": "2022-08-23T07:04:25.174208Z",
     "iopub.status.busy": "2022-08-23T07:04:25.173651Z",
     "iopub.status.idle": "2022-08-23T07:04:25.202527Z",
     "shell.execute_reply": "2022-08-23T07:04:25.201144Z"
    },
    "papermill": {
     "duration": 0.064444,
     "end_time": "2022-08-23T07:04:25.205855",
     "exception": false,
     "start_time": "2022-08-23T07:04:25.141411",
     "status": "completed"
    },
    "tags": []
   },
   "outputs": [
    {
     "data": {
      "text/html": [
       "<div>\n",
       "<style scoped>\n",
       "    .dataframe tbody tr th:only-of-type {\n",
       "        vertical-align: middle;\n",
       "    }\n",
       "\n",
       "    .dataframe tbody tr th {\n",
       "        vertical-align: top;\n",
       "    }\n",
       "\n",
       "    .dataframe thead th {\n",
       "        text-align: right;\n",
       "    }\n",
       "</style>\n",
       "<table border=\"1\" class=\"dataframe\">\n",
       "  <thead>\n",
       "    <tr style=\"text-align: right;\">\n",
       "      <th></th>\n",
       "      <th>Price</th>\n",
       "      <th>DiscountedPrice</th>\n",
       "      <th>DiscountPercent</th>\n",
       "    </tr>\n",
       "  </thead>\n",
       "  <tbody>\n",
       "    <tr>\n",
       "      <th>count</th>\n",
       "      <td>5189.000000</td>\n",
       "      <td>5189.000000</td>\n",
       "      <td>5189.000000</td>\n",
       "    </tr>\n",
       "    <tr>\n",
       "      <th>mean</th>\n",
       "      <td>343.982540</td>\n",
       "      <td>236.636557</td>\n",
       "      <td>26.023126</td>\n",
       "    </tr>\n",
       "    <tr>\n",
       "      <th>std</th>\n",
       "      <td>600.986036</td>\n",
       "      <td>387.168767</td>\n",
       "      <td>15.203967</td>\n",
       "    </tr>\n",
       "    <tr>\n",
       "      <th>min</th>\n",
       "      <td>0.000000</td>\n",
       "      <td>0.000000</td>\n",
       "      <td>0.000000</td>\n",
       "    </tr>\n",
       "    <tr>\n",
       "      <th>25%</th>\n",
       "      <td>85.000000</td>\n",
       "      <td>64.000000</td>\n",
       "      <td>14.000000</td>\n",
       "    </tr>\n",
       "    <tr>\n",
       "      <th>50%</th>\n",
       "      <td>175.000000</td>\n",
       "      <td>125.000000</td>\n",
       "      <td>22.000000</td>\n",
       "    </tr>\n",
       "    <tr>\n",
       "      <th>75%</th>\n",
       "      <td>345.000000</td>\n",
       "      <td>249.000000</td>\n",
       "      <td>35.000000</td>\n",
       "    </tr>\n",
       "    <tr>\n",
       "      <th>max</th>\n",
       "      <td>10990.000000</td>\n",
       "      <td>7999.000000</td>\n",
       "      <td>98.000000</td>\n",
       "    </tr>\n",
       "  </tbody>\n",
       "</table>\n",
       "</div>"
      ],
      "text/plain": [
       "              Price  DiscountedPrice  DiscountPercent\n",
       "count   5189.000000      5189.000000      5189.000000\n",
       "mean     343.982540       236.636557        26.023126\n",
       "std      600.986036       387.168767        15.203967\n",
       "min        0.000000         0.000000         0.000000\n",
       "25%       85.000000        64.000000        14.000000\n",
       "50%      175.000000       125.000000        22.000000\n",
       "75%      345.000000       249.000000        35.000000\n",
       "max    10990.000000      7999.000000        98.000000"
      ]
     },
     "execution_count": 41,
     "metadata": {},
     "output_type": "execute_result"
    }
   ],
   "source": [
    "df.describe()"
   ]
  },
  {
   "cell_type": "markdown",
   "id": "81a96e01",
   "metadata": {
    "papermill": {
     "duration": 0.030654,
     "end_time": "2022-08-23T07:04:25.268325",
     "exception": false,
     "start_time": "2022-08-23T07:04:25.237671",
     "status": "completed"
    },
    "tags": []
   },
   "source": [
    "**Observation:**\n",
    "\n",
    "* Price : \n",
    "\n",
    "    (Mean = Rs.344, Minimum = 0 (Free Product), Maximum = Rs.10,990)  \n",
    "* DiscountedPrice : \n",
    "    \n",
    "    (Mean = Rs.237, Minimum = 0 (Free Product), Maximum = Rs.7,999)\n",
    "* DiscountPercent : \n",
    "    \n",
    "    (Mean = 26 %, Minimum = 0 (Free Product), Maximum = 98%)  \n",
    "\n",
    "* Looking at maximum value of Dicount it seems impossible to have 98% Discount on any product so we have to inspect this."
   ]
  },
  {
   "cell_type": "code",
   "execution_count": 42,
   "id": "b56da7af",
   "metadata": {
    "execution": {
     "iopub.execute_input": "2022-08-23T07:04:25.333676Z",
     "iopub.status.busy": "2022-08-23T07:04:25.332587Z",
     "iopub.status.idle": "2022-08-23T07:04:25.353251Z",
     "shell.execute_reply": "2022-08-23T07:04:25.351986Z"
    },
    "papermill": {
     "duration": 0.05599,
     "end_time": "2022-08-23T07:04:25.356420",
     "exception": false,
     "start_time": "2022-08-23T07:04:25.300430",
     "status": "completed"
    },
    "tags": []
   },
   "outputs": [
    {
     "data": {
      "text/html": [
       "<div>\n",
       "<style scoped>\n",
       "    .dataframe tbody tr th:only-of-type {\n",
       "        vertical-align: middle;\n",
       "    }\n",
       "\n",
       "    .dataframe tbody tr th {\n",
       "        vertical-align: top;\n",
       "    }\n",
       "\n",
       "    .dataframe thead th {\n",
       "        text-align: right;\n",
       "    }\n",
       "</style>\n",
       "<table border=\"1\" class=\"dataframe\">\n",
       "  <thead>\n",
       "    <tr style=\"text-align: right;\">\n",
       "      <th></th>\n",
       "      <th>Name</th>\n",
       "      <th>Brand</th>\n",
       "      <th>Price</th>\n",
       "      <th>DiscountedPrice</th>\n",
       "      <th>Category</th>\n",
       "      <th>SubCategory</th>\n",
       "      <th>Quantity</th>\n",
       "      <th>Description</th>\n",
       "      <th>DiscountPercent</th>\n",
       "    </tr>\n",
       "  </thead>\n",
       "  <tbody>\n",
       "    <tr>\n",
       "      <th>2191</th>\n",
       "      <td>Naagin Indian Hot Sauce - Original</td>\n",
       "      <td>Naagin</td>\n",
       "      <td>50.0</td>\n",
       "      <td>1.0</td>\n",
       "      <td>Packaged Food</td>\n",
       "      <td>Gourmet Food</td>\n",
       "      <td>40 gm</td>\n",
       "      <td>While we work to ensure that the product infor...</td>\n",
       "      <td>98</td>\n",
       "    </tr>\n",
       "    <tr>\n",
       "      <th>2192</th>\n",
       "      <td>Naagin Indian Hot Sauce - Smoky Bhoot</td>\n",
       "      <td>Naagin</td>\n",
       "      <td>50.0</td>\n",
       "      <td>1.0</td>\n",
       "      <td>Packaged Food</td>\n",
       "      <td>Gourmet Food</td>\n",
       "      <td>40 gm</td>\n",
       "      <td>While we work to ensure that the product infor...</td>\n",
       "      <td>98</td>\n",
       "    </tr>\n",
       "    <tr>\n",
       "      <th>2193</th>\n",
       "      <td>Naagin Indian Hot Sauce - Kantha Bomb</td>\n",
       "      <td>Naagin</td>\n",
       "      <td>50.0</td>\n",
       "      <td>1.0</td>\n",
       "      <td>Packaged Food</td>\n",
       "      <td>Gourmet Food</td>\n",
       "      <td>40 gm</td>\n",
       "      <td>While we work to ensure that the product infor...</td>\n",
       "      <td>98</td>\n",
       "    </tr>\n",
       "  </tbody>\n",
       "</table>\n",
       "</div>"
      ],
      "text/plain": [
       "                                       Name   Brand  Price  DiscountedPrice  \\\n",
       "2191     Naagin Indian Hot Sauce - Original  Naagin   50.0              1.0   \n",
       "2192  Naagin Indian Hot Sauce - Smoky Bhoot  Naagin   50.0              1.0   \n",
       "2193  Naagin Indian Hot Sauce - Kantha Bomb  Naagin   50.0              1.0   \n",
       "\n",
       "           Category   SubCategory Quantity  \\\n",
       "2191  Packaged Food  Gourmet Food    40 gm   \n",
       "2192  Packaged Food  Gourmet Food    40 gm   \n",
       "2193  Packaged Food  Gourmet Food    40 gm   \n",
       "\n",
       "                                            Description  DiscountPercent  \n",
       "2191  While we work to ensure that the product infor...               98  \n",
       "2192  While we work to ensure that the product infor...               98  \n",
       "2193  While we work to ensure that the product infor...               98  "
      ]
     },
     "execution_count": 42,
     "metadata": {},
     "output_type": "execute_result"
    }
   ],
   "source": [
    "df[df['DiscountPercent']==98]"
   ]
  },
  {
   "cell_type": "markdown",
   "id": "5809b02e",
   "metadata": {
    "papermill": {
     "duration": 0.030772,
     "end_time": "2022-08-23T07:04:25.418960",
     "exception": false,
     "start_time": "2022-08-23T07:04:25.388188",
     "status": "completed"
    },
    "tags": []
   },
   "source": [
    "**Conclusion after Inspection:**\n",
    "\n",
    "* No, in actual Dmart sells NAGIN INDIAN HOT SAUCE for Rs.1 which saves Rs.49 from customers wallet (source : www.dmart.in) \n",
    "\n",
    "* DMART is known for the Discount it offers to it's customers so we need not to worry about the abnormal Discount Values"
   ]
  },
  {
   "cell_type": "markdown",
   "id": "660b6239",
   "metadata": {
    "papermill": {
     "duration": 0.031171,
     "end_time": "2022-08-23T07:04:25.481721",
     "exception": false,
     "start_time": "2022-08-23T07:04:25.450550",
     "status": "completed"
    },
    "tags": []
   },
   "source": [
    "<h6 style=\"background-color:rgb(244,164,96);padding:8px 10px;border-radius:5px 25px 25px 5px;width:250px\">Do there appear to be outliers?"
   ]
  },
  {
   "cell_type": "code",
   "execution_count": 43,
   "id": "8a30ffa8",
   "metadata": {
    "execution": {
     "iopub.execute_input": "2022-08-23T07:04:25.546688Z",
     "iopub.status.busy": "2022-08-23T07:04:25.546152Z",
     "iopub.status.idle": "2022-08-23T07:04:26.140296Z",
     "shell.execute_reply": "2022-08-23T07:04:26.139021Z"
    },
    "papermill": {
     "duration": 0.630635,
     "end_time": "2022-08-23T07:04:26.143890",
     "exception": false,
     "start_time": "2022-08-23T07:04:25.513255",
     "status": "completed"
    },
    "tags": []
   },
   "outputs": [
    {
     "name": "stdout",
     "output_type": "stream",
     "text": [
      "Distribution of Price\n"
     ]
    },
    {
     "data": {
      "image/png": "[encoded data removed]",
      "text/plain": [
       "<Figure size 1440x432 with 1 Axes>"
      ]
     },
     "metadata": {
      "needs_background": "light"
     },
     "output_type": "display_data"
    },
    {
     "name": "stdout",
     "output_type": "stream",
     "text": [
      "Distribution of DiscountedPrice\n"
     ]
    },
    {
     "data": {
      "image/png": "[encoded data removed]",
      "text/plain": [
       "<Figure size 1440x432 with 1 Axes>"
      ]
     },
     "metadata": {
      "needs_background": "light"
     },
     "output_type": "display_data"
    },
    {
     "name": "stdout",
     "output_type": "stream",
     "text": [
      "Distribution of DiscountPercent\n"
     ]
    },
    {
     "data": {
      "image/png": "[encoded data removed]",
      "text/plain": [
       "<Figure size 1440x432 with 1 Axes>"
      ]
     },
     "metadata": {
      "needs_background": "light"
     },
     "output_type": "display_data"
    }
   ],
   "source": [
    "cols = ['Price','DiscountedPrice','DiscountPercent']\n",
    "\n",
    "for i in cols:\n",
    "    print('Distribution of',i)\n",
    "    plt.figure(figsize=(20,6))\n",
    "    sns.boxplot(x = df[i])\n",
    "    plt.show()"
   ]
  },
  {
   "cell_type": "markdown",
   "id": "14f9d65c",
   "metadata": {
    "papermill": {
     "duration": 0.031843,
     "end_time": "2022-08-23T07:04:26.208221",
     "exception": false,
     "start_time": "2022-08-23T07:04:26.176378",
     "status": "completed"
    },
    "tags": []
   },
   "source": [
    "**Observation:**\n",
    "\n",
    "*Yes there are few outliers present in our Data.*\n",
    "\n",
    "*But as we are not doing this analysis in context of some machine learning problem we are free to keep those outliers.*"
   ]
  },
  {
   "cell_type": "markdown",
   "id": "f1abee75",
   "metadata": {
    "papermill": {
     "duration": 0.031686,
     "end_time": "2022-08-23T07:04:26.271815",
     "exception": false,
     "start_time": "2022-08-23T07:04:26.240129",
     "status": "completed"
    },
    "tags": []
   },
   "source": [
    "<h6 style=\"background-color:rgb(244,164,96);padding:8px 10px;border-radius:5px 25px 25px 5px;width:250px\">Distribution of Data"
   ]
  },
  {
   "cell_type": "code",
   "execution_count": 44,
   "id": "8e8387d6",
   "metadata": {
    "execution": {
     "iopub.execute_input": "2022-08-23T07:04:26.340095Z",
     "iopub.status.busy": "2022-08-23T07:04:26.339550Z",
     "iopub.status.idle": "2022-08-23T07:04:28.565597Z",
     "shell.execute_reply": "2022-08-23T07:04:28.564121Z"
    },
    "papermill": {
     "duration": 2.26353,
     "end_time": "2022-08-23T07:04:28.568417",
     "exception": false,
     "start_time": "2022-08-23T07:04:26.304887",
     "status": "completed"
    },
    "tags": []
   },
   "outputs": [
    {
     "name": "stdout",
     "output_type": "stream",
     "text": [
      "Distribution of Price\n"
     ]
    },
    {
     "data": {
      "image/png": "[encoded data removed]",
      "text/plain": [
       "<Figure size 1440x432 with 1 Axes>"
      ]
     },
     "metadata": {
      "needs_background": "light"
     },
     "output_type": "display_data"
    },
    {
     "name": "stdout",
     "output_type": "stream",
     "text": [
      "Distribution of DiscountedPrice\n"
     ]
    },
    {
     "data": {
      "image/png": "[encoded data removed]",
      "text/plain": [
       "<Figure size 1440x432 with 1 Axes>"
      ]
     },
     "metadata": {
      "needs_background": "light"
     },
     "output_type": "display_data"
    },
    {
     "name": "stdout",
     "output_type": "stream",
     "text": [
      "Distribution of DiscountPercent\n"
     ]
    },
    {
     "data": {
      "image/png": "[encoded data removed]",
      "text/plain": [
       "<Figure size 1440x432 with 1 Axes>"
      ]
     },
     "metadata": {
      "needs_background": "light"
     },
     "output_type": "display_data"
    }
   ],
   "source": [
    "for i in cols:\n",
    "    print('Distribution of',i)\n",
    "    plt.figure(figsize=(20,6))\n",
    "    sns.histplot(x = df[i])\n",
    "    plt.show()"
   ]
  },
  {
   "cell_type": "markdown",
   "id": "d84c19ae",
   "metadata": {
    "papermill": {
     "duration": 0.035728,
     "end_time": "2022-08-23T07:04:28.638425",
     "exception": false,
     "start_time": "2022-08-23T07:04:28.602697",
     "status": "completed"
    },
    "tags": []
   },
   "source": [
    "**Observation:**\n",
    "\n",
    "*All three Price,DicountedPrice and DiscountPercent values are mainly right skewed.*"
   ]
  },
  {
   "cell_type": "code",
   "execution_count": 45,
   "id": "53d02b3f",
   "metadata": {
    "execution": {
     "iopub.execute_input": "2022-08-23T07:04:28.706918Z",
     "iopub.status.busy": "2022-08-23T07:04:28.706143Z",
     "iopub.status.idle": "2022-08-23T07:04:28.721894Z",
     "shell.execute_reply": "2022-08-23T07:04:28.720871Z"
    },
    "papermill": {
     "duration": 0.053147,
     "end_time": "2022-08-23T07:04:28.724422",
     "exception": false,
     "start_time": "2022-08-23T07:04:28.671275",
     "status": "completed"
    },
    "tags": []
   },
   "outputs": [
    {
     "data": {
      "text/html": [
       "<div>\n",
       "<style scoped>\n",
       "    .dataframe tbody tr th:only-of-type {\n",
       "        vertical-align: middle;\n",
       "    }\n",
       "\n",
       "    .dataframe tbody tr th {\n",
       "        vertical-align: top;\n",
       "    }\n",
       "\n",
       "    .dataframe thead th {\n",
       "        text-align: right;\n",
       "    }\n",
       "</style>\n",
       "<table border=\"1\" class=\"dataframe\">\n",
       "  <thead>\n",
       "    <tr style=\"text-align: right;\">\n",
       "      <th></th>\n",
       "      <th>Name</th>\n",
       "      <th>Brand</th>\n",
       "      <th>Price</th>\n",
       "      <th>DiscountedPrice</th>\n",
       "      <th>Category</th>\n",
       "      <th>SubCategory</th>\n",
       "      <th>Quantity</th>\n",
       "      <th>Description</th>\n",
       "      <th>DiscountPercent</th>\n",
       "    </tr>\n",
       "  </thead>\n",
       "  <tbody>\n",
       "    <tr>\n",
       "      <th>0</th>\n",
       "      <td>Premia Badam (Almonds)</td>\n",
       "      <td>Premia</td>\n",
       "      <td>451.0</td>\n",
       "      <td>329.0</td>\n",
       "      <td>Grocery</td>\n",
       "      <td>Dry Fruits</td>\n",
       "      <td>500 gm</td>\n",
       "      <td>India</td>\n",
       "      <td>27</td>\n",
       "    </tr>\n",
       "    <tr>\n",
       "      <th>1</th>\n",
       "      <td>Premia Badam (Almonds)</td>\n",
       "      <td>Premia</td>\n",
       "      <td>109.0</td>\n",
       "      <td>85.0</td>\n",
       "      <td>Grocery</td>\n",
       "      <td>Dry Fruits</td>\n",
       "      <td>100 gm</td>\n",
       "      <td>India</td>\n",
       "      <td>22</td>\n",
       "    </tr>\n",
       "  </tbody>\n",
       "</table>\n",
       "</div>"
      ],
      "text/plain": [
       "                     Name   Brand  Price  DiscountedPrice Category  \\\n",
       "0  Premia Badam (Almonds)  Premia  451.0            329.0  Grocery   \n",
       "1  Premia Badam (Almonds)  Premia  109.0             85.0  Grocery   \n",
       "\n",
       "  SubCategory Quantity Description  DiscountPercent  \n",
       "0  Dry Fruits   500 gm       India               27  \n",
       "1  Dry Fruits   100 gm       India               22  "
      ]
     },
     "execution_count": 45,
     "metadata": {},
     "output_type": "execute_result"
    }
   ],
   "source": [
    "df.head(2)"
   ]
  },
  {
   "cell_type": "markdown",
   "id": "ddb6781f",
   "metadata": {
    "papermill": {
     "duration": 0.032701,
     "end_time": "2022-08-23T07:04:28.790358",
     "exception": false,
     "start_time": "2022-08-23T07:04:28.757657",
     "status": "completed"
    },
    "tags": []
   },
   "source": [
    "<h3 style=\"background-color:rgb(220, 75, 60);padding:10px 10px;border-radius:5px 25px 25px 5px;width:550px\">Description Wordcloud"
   ]
  },
  {
   "cell_type": "code",
   "execution_count": 46,
   "id": "1301b029",
   "metadata": {
    "execution": {
     "iopub.execute_input": "2022-08-23T07:04:28.858908Z",
     "iopub.status.busy": "2022-08-23T07:04:28.858070Z",
     "iopub.status.idle": "2022-08-23T07:04:28.908403Z",
     "shell.execute_reply": "2022-08-23T07:04:28.907035Z"
    },
    "papermill": {
     "duration": 0.088267,
     "end_time": "2022-08-23T07:04:28.911702",
     "exception": false,
     "start_time": "2022-08-23T07:04:28.823435",
     "status": "completed"
    },
    "tags": []
   },
   "outputs": [],
   "source": [
    "from wordcloud import WordCloud, STOPWORDS"
   ]
  },
  {
   "cell_type": "code",
   "execution_count": 47,
   "id": "072785ac",
   "metadata": {
    "execution": {
     "iopub.execute_input": "2022-08-23T07:04:28.979873Z",
     "iopub.status.busy": "2022-08-23T07:04:28.979337Z",
     "iopub.status.idle": "2022-08-23T07:04:28.997189Z",
     "shell.execute_reply": "2022-08-23T07:04:28.995695Z"
    },
    "papermill": {
     "duration": 0.054995,
     "end_time": "2022-08-23T07:04:28.999743",
     "exception": false,
     "start_time": "2022-08-23T07:04:28.944748",
     "status": "completed"
    },
    "tags": []
   },
   "outputs": [],
   "source": [
    "text = \"\".join(d for d in df['Description'])"
   ]
  },
  {
   "cell_type": "code",
   "execution_count": 48,
   "id": "b86bc207",
   "metadata": {
    "execution": {
     "iopub.execute_input": "2022-08-23T07:04:29.068754Z",
     "iopub.status.busy": "2022-08-23T07:04:29.067869Z",
     "iopub.status.idle": "2022-08-23T07:04:34.331395Z",
     "shell.execute_reply": "2022-08-23T07:04:34.329765Z"
    },
    "papermill": {
     "duration": 5.301833,
     "end_time": "2022-08-23T07:04:34.334917",
     "exception": false,
     "start_time": "2022-08-23T07:04:29.033084",
     "status": "completed"
    },
    "tags": []
   },
   "outputs": [],
   "source": [
    "wc = WordCloud(width= 1600,height=800,colormap='prism',background_color = 'white').generate(text)"
   ]
  },
  {
   "cell_type": "code",
   "execution_count": 49,
   "id": "6f2d7dbb",
   "metadata": {
    "execution": {
     "iopub.execute_input": "2022-08-23T07:04:34.405227Z",
     "iopub.status.busy": "2022-08-23T07:04:34.404438Z",
     "iopub.status.idle": "2022-08-23T07:04:35.403534Z",
     "shell.execute_reply": "2022-08-23T07:04:35.402153Z"
    },
    "papermill": {
     "duration": 1.041243,
     "end_time": "2022-08-23T07:04:35.410274",
     "exception": false,
     "start_time": "2022-08-23T07:04:34.369031",
     "status": "completed"
    },
    "tags": []
   },
   "outputs": [
    {
     "data": {
      "image/png": "[encoded data removed]",
      "text/plain": [
       "<Figure size 2160x432 with 1 Axes>"
      ]
     },
     "metadata": {
      "needs_background": "light"
     },
     "output_type": "display_data"
    }
   ],
   "source": [
    "plt.figure(figsize = (30, 6))\n",
    "plt.imshow(wc, interpolation=\"gaussian\")\n",
    "plt.axis(\"off\")\n",
    "plt.show()"
   ]
  },
  {
   "cell_type": "markdown",
   "id": "71fb4ff2",
   "metadata": {
    "papermill": {
     "duration": 0.040269,
     "end_time": "2022-08-23T07:04:35.492355",
     "exception": false,
     "start_time": "2022-08-23T07:04:35.452086",
     "status": "completed"
    },
    "tags": []
   },
   "source": [
    "<h3 style=\"background-color:rgb(220, 75, 60);padding:10px 10px;border-radius:5px 25px 25px 5px;width:550px\">Analysis on the basis of Category and Sub Category"
   ]
  },
  {
   "cell_type": "code",
   "execution_count": 50,
   "id": "5bdf99a9",
   "metadata": {
    "execution": {
     "iopub.execute_input": "2022-08-23T07:04:35.578038Z",
     "iopub.status.busy": "2022-08-23T07:04:35.577095Z",
     "iopub.status.idle": "2022-08-23T07:04:35.586490Z",
     "shell.execute_reply": "2022-08-23T07:04:35.585279Z"
    },
    "papermill": {
     "duration": 0.05507,
     "end_time": "2022-08-23T07:04:35.589233",
     "exception": false,
     "start_time": "2022-08-23T07:04:35.534163",
     "status": "completed"
    },
    "tags": []
   },
   "outputs": [
    {
     "data": {
      "text/plain": [
       "array(['Grocery', 'Personal Care', 'Packaged Food', 'DMart Grocery',\n",
       "       'Dairy & Beverages', 'Fruits & Vegetables', 'Home & Kitchen',\n",
       "       'Specials', 'Kitchen Aprons', 'Appliances', 'Wonderchef',\n",
       "       'Water Purifiers & Accessories', 'Tableware', 'Butterfly',\n",
       "       'Joyo Plastics', 'Geep', 'Zebronics', 'Beauty & Cosmetics',\n",
       "       'Syska', 'Pigeon', 'Clothing & Accessories', 'School Supplies',\n",
       "       'Backpacks', 'Computer Accessories', 'Plant Container',\n",
       "       'Motorbike Helmets', 'Smartwatches', 'Raincoat', 'Baby & Kids'],\n",
       "      dtype=object)"
      ]
     },
     "execution_count": 50,
     "metadata": {},
     "output_type": "execute_result"
    }
   ],
   "source": [
    "df.Category.unique()"
   ]
  },
  {
   "cell_type": "code",
   "execution_count": 51,
   "id": "dc487853",
   "metadata": {
    "execution": {
     "iopub.execute_input": "2022-08-23T07:04:35.674306Z",
     "iopub.status.busy": "2022-08-23T07:04:35.673362Z",
     "iopub.status.idle": "2022-08-23T07:04:35.684428Z",
     "shell.execute_reply": "2022-08-23T07:04:35.683055Z"
    },
    "papermill": {
     "duration": 0.057035,
     "end_time": "2022-08-23T07:04:35.687236",
     "exception": false,
     "start_time": "2022-08-23T07:04:35.630201",
     "status": "completed"
    },
    "tags": []
   },
   "outputs": [
    {
     "data": {
      "text/plain": [
       "Personal Care                    1234\n",
       "Packaged Food                    1125\n",
       "Home & Kitchen                    883\n",
       "Grocery                           840\n",
       "Dairy & Beverages                 429\n",
       "Specials                          187\n",
       "Clothing & Accessories             97\n",
       "Fruits & Vegetables                78\n",
       "School Supplies                    69\n",
       "Appliances                         53\n",
       "Beauty & Cosmetics                 46\n",
       "Raincoat                           33\n",
       "DMart Grocery                      31\n",
       "Plant Container                    23\n",
       "Tableware                          18\n",
       "Backpacks                          13\n",
       "Zebronics                           5\n",
       "Motorbike Helmets                   4\n",
       "Baby & Kids                         4\n",
       "Geep                                3\n",
       "Kitchen Aprons                      3\n",
       "Butterfly                           2\n",
       "Computer Accessories                2\n",
       "Joyo Plastics                       2\n",
       "Pigeon                              1\n",
       "Syska                               1\n",
       "Water Purifiers & Accessories       1\n",
       "Wonderchef                          1\n",
       "Smartwatches                        1\n",
       "Name: Category, dtype: int64"
      ]
     },
     "execution_count": 51,
     "metadata": {},
     "output_type": "execute_result"
    }
   ],
   "source": [
    "df.Category.value_counts()"
   ]
  },
  {
   "cell_type": "markdown",
   "id": "bce8f499",
   "metadata": {
    "papermill": {
     "duration": 0.043985,
     "end_time": "2022-08-23T07:04:35.773747",
     "exception": false,
     "start_time": "2022-08-23T07:04:35.729762",
     "status": "completed"
    },
    "tags": []
   },
   "source": [
    "**Observation:**\n",
    "\n",
    "* Personal Care and Packaged food are the two categories whose max number of products available at Dmart.\n",
    "* In above list Wonderchef, Syska,pigeon,Zebronic,Geep,Joyo Plastic and Butterfly are not the categories they are the brands so we have to inspect these columns of our dataset"
   ]
  },
  {
   "cell_type": "markdown",
   "id": "68adea7c",
   "metadata": {
    "papermill": {
     "duration": 0.041882,
     "end_time": "2022-08-23T07:04:35.857470",
     "exception": false,
     "start_time": "2022-08-23T07:04:35.815588",
     "status": "completed"
    },
    "tags": []
   },
   "source": [
    "<h6 style=\"background-color:rgb(244,164,96);padding:8px 10px;border-radius:5px 25px 25px 5px;width:250px\">Inspecting doubtful Categories"
   ]
  },
  {
   "cell_type": "code",
   "execution_count": 52,
   "id": "5bed6dda",
   "metadata": {
    "execution": {
     "iopub.execute_input": "2022-08-23T07:04:35.946133Z",
     "iopub.status.busy": "2022-08-23T07:04:35.945119Z",
     "iopub.status.idle": "2022-08-23T07:04:35.975089Z",
     "shell.execute_reply": "2022-08-23T07:04:35.973732Z"
    },
    "papermill": {
     "duration": 0.077644,
     "end_time": "2022-08-23T07:04:35.978298",
     "exception": false,
     "start_time": "2022-08-23T07:04:35.900654",
     "status": "completed"
    },
    "tags": []
   },
   "outputs": [
    {
     "data": {
      "text/html": [
       "<div>\n",
       "<style scoped>\n",
       "    .dataframe tbody tr th:only-of-type {\n",
       "        vertical-align: middle;\n",
       "    }\n",
       "\n",
       "    .dataframe tbody tr th {\n",
       "        vertical-align: top;\n",
       "    }\n",
       "\n",
       "    .dataframe thead th {\n",
       "        text-align: right;\n",
       "    }\n",
       "</style>\n",
       "<table border=\"1\" class=\"dataframe\">\n",
       "  <thead>\n",
       "    <tr style=\"text-align: right;\">\n",
       "      <th></th>\n",
       "      <th>Name</th>\n",
       "      <th>Brand</th>\n",
       "      <th>Price</th>\n",
       "      <th>DiscountedPrice</th>\n",
       "      <th>Category</th>\n",
       "      <th>SubCategory</th>\n",
       "      <th>Quantity</th>\n",
       "      <th>Description</th>\n",
       "      <th>DiscountPercent</th>\n",
       "    </tr>\n",
       "  </thead>\n",
       "  <tbody>\n",
       "    <tr>\n",
       "      <th>2934</th>\n",
       "      <td>Wonderchef Nutri-Blend Black</td>\n",
       "      <td>Wonderchef</td>\n",
       "      <td>5300.0</td>\n",
       "      <td>2699.0</td>\n",
       "      <td>Wonderchef</td>\n",
       "      <td>Wonderchef</td>\n",
       "      <td>400 W</td>\n",
       "      <td>\\n- The 400W superfast motor blends &amp; grinds i...</td>\n",
       "      <td>49</td>\n",
       "    </tr>\n",
       "    <tr>\n",
       "      <th>3156</th>\n",
       "      <td>Butterfly Stainless Steel Outer Lid Curve Cooker</td>\n",
       "      <td>Butterfly</td>\n",
       "      <td>4851.0</td>\n",
       "      <td>1999.0</td>\n",
       "      <td>Butterfly</td>\n",
       "      <td>Butterfly</td>\n",
       "      <td>5.5 Litres</td>\n",
       "      <td>Key Features\\n- Material: Stainless Steel\\n- C...</td>\n",
       "      <td>58</td>\n",
       "    </tr>\n",
       "    <tr>\n",
       "      <th>3157</th>\n",
       "      <td>Butterfly Stainless Steel Outer Lid Curve Cooker</td>\n",
       "      <td>Butterfly</td>\n",
       "      <td>3646.0</td>\n",
       "      <td>1599.0</td>\n",
       "      <td>Butterfly</td>\n",
       "      <td>Butterfly</td>\n",
       "      <td>3 Litres</td>\n",
       "      <td>\\n- Induction Base : Yes\\n\\nKey Features:\\n- M...</td>\n",
       "      <td>56</td>\n",
       "    </tr>\n",
       "    <tr>\n",
       "      <th>3297</th>\n",
       "      <td>Joyo Kitchen Storewell Container Printed - Ass...</td>\n",
       "      <td>Joyo Plastics</td>\n",
       "      <td>1265.0</td>\n",
       "      <td>449.0</td>\n",
       "      <td>Joyo Plastics</td>\n",
       "      <td>Joyo Plastics</td>\n",
       "      <td>Pack of 3</td>\n",
       "      <td>\\n- Colour : Blue , Pink\\n- Capacity : 6.3 Lit...</td>\n",
       "      <td>64</td>\n",
       "    </tr>\n",
       "    <tr>\n",
       "      <th>3298</th>\n",
       "      <td>Joyo Kitchen Storewell Container Printed - Ass...</td>\n",
       "      <td>Joyo Plastics</td>\n",
       "      <td>550.0</td>\n",
       "      <td>499.0</td>\n",
       "      <td>Joyo Plastics</td>\n",
       "      <td>Joyo Plastics</td>\n",
       "      <td>Pack of 4</td>\n",
       "      <td>\\n- Colour : Blue , Pink\\n- Capacity : 6.3 Lit...</td>\n",
       "      <td>9</td>\n",
       "    </tr>\n",
       "    <tr>\n",
       "      <th>3460</th>\n",
       "      <td>Geep Extreme 3 PIN Multi Plug Adapter</td>\n",
       "      <td>Geep</td>\n",
       "      <td>205.0</td>\n",
       "      <td>99.0</td>\n",
       "      <td>Geep</td>\n",
       "      <td>Geep</td>\n",
       "      <td>1 U</td>\n",
       "      <td>\\n- Brand : Geep\\n- Type : Three Pin Plug\\n- C...</td>\n",
       "      <td>51</td>\n",
       "    </tr>\n",
       "    <tr>\n",
       "      <th>3462</th>\n",
       "      <td>Geep Micro USB High Speed Charging Cable (1 Me...</td>\n",
       "      <td>Geep</td>\n",
       "      <td>299.0</td>\n",
       "      <td>49.0</td>\n",
       "      <td>Geep</td>\n",
       "      <td>Geep</td>\n",
       "      <td>1 U</td>\n",
       "      <td>\\n- Code : Geep USB 001\\n- Dimensions : 200 X ...</td>\n",
       "      <td>83</td>\n",
       "    </tr>\n",
       "    <tr>\n",
       "      <th>3463</th>\n",
       "      <td>Geep G-Square Flex Box</td>\n",
       "      <td>Geep</td>\n",
       "      <td>360.0</td>\n",
       "      <td>179.0</td>\n",
       "      <td>Geep</td>\n",
       "      <td>Geep</td>\n",
       "      <td>4 Metres</td>\n",
       "      <td>\\n- Brand : Geep\\n- Model No : GPFB 4 MS\\n- So...</td>\n",
       "      <td>50</td>\n",
       "    </tr>\n",
       "    <tr>\n",
       "      <th>3464</th>\n",
       "      <td>Zebronics TU240C Type C Charging Cable</td>\n",
       "      <td>Zebronics</td>\n",
       "      <td>349.0</td>\n",
       "      <td>99.0</td>\n",
       "      <td>Zebronics</td>\n",
       "      <td>Zebronics</td>\n",
       "      <td>1 U</td>\n",
       "      <td>\\n- USB to type C cable\\n- Supports upto 2.4A\\...</td>\n",
       "      <td>71</td>\n",
       "    </tr>\n",
       "    <tr>\n",
       "      <th>4754</th>\n",
       "      <td>Syska SDI07 Dry Iron</td>\n",
       "      <td>Syska</td>\n",
       "      <td>799.0</td>\n",
       "      <td>449.0</td>\n",
       "      <td>Syska</td>\n",
       "      <td>Syska</td>\n",
       "      <td>1000 W</td>\n",
       "      <td>Specifications : \\n- Voltage : 230V - 50Hz\\n- ...</td>\n",
       "      <td>43</td>\n",
       "    </tr>\n",
       "    <tr>\n",
       "      <th>4792</th>\n",
       "      <td>Pigeon Induction Cooktop Acer Plus</td>\n",
       "      <td>Pigeon</td>\n",
       "      <td>3595.0</td>\n",
       "      <td>1799.0</td>\n",
       "      <td>Pigeon</td>\n",
       "      <td>Pigeon</td>\n",
       "      <td>1800 W</td>\n",
       "      <td>\\n- Brand : Pigeon\\n- Model Name : Acer Plus\\n...</td>\n",
       "      <td>49</td>\n",
       "    </tr>\n",
       "    <tr>\n",
       "      <th>4917</th>\n",
       "      <td>Zebronics Tulip Earphones - Black</td>\n",
       "      <td>Zebronics</td>\n",
       "      <td>459.0</td>\n",
       "      <td>149.0</td>\n",
       "      <td>Zebronics</td>\n",
       "      <td>Zebronics</td>\n",
       "      <td>1 U</td>\n",
       "      <td>\\nZeb-Tulip is a wired earphone that comes wit...</td>\n",
       "      <td>67</td>\n",
       "    </tr>\n",
       "    <tr>\n",
       "      <th>4918</th>\n",
       "      <td>Zebronics Gravity Wireless Bluetooth Neckband ...</td>\n",
       "      <td>Zebronics</td>\n",
       "      <td>1299.0</td>\n",
       "      <td>649.0</td>\n",
       "      <td>Zebronics</td>\n",
       "      <td>Zebronics</td>\n",
       "      <td>1 U</td>\n",
       "      <td>China</td>\n",
       "      <td>50</td>\n",
       "    </tr>\n",
       "    <tr>\n",
       "      <th>4921</th>\n",
       "      <td>Zebronics Delight Bluetooth Speaker</td>\n",
       "      <td>Zebronics</td>\n",
       "      <td>899.0</td>\n",
       "      <td>499.0</td>\n",
       "      <td>Zebronics</td>\n",
       "      <td>Zebronics</td>\n",
       "      <td>3 W</td>\n",
       "      <td>\\n- Type : Portable BT speaker\\n- Compatible D...</td>\n",
       "      <td>44</td>\n",
       "    </tr>\n",
       "    <tr>\n",
       "      <th>4928</th>\n",
       "      <td>Zebronics Aura Bluetooth Headphone</td>\n",
       "      <td>Zebronics</td>\n",
       "      <td>999.0</td>\n",
       "      <td>499.0</td>\n",
       "      <td>Zebronics</td>\n",
       "      <td>Zebronics</td>\n",
       "      <td>1 U</td>\n",
       "      <td>\\nSpecifications :\\n- Drive size : 40 mm\\n- BT...</td>\n",
       "      <td>50</td>\n",
       "    </tr>\n",
       "  </tbody>\n",
       "</table>\n",
       "</div>"
      ],
      "text/plain": [
       "                                                   Name          Brand  \\\n",
       "2934                       Wonderchef Nutri-Blend Black     Wonderchef   \n",
       "3156   Butterfly Stainless Steel Outer Lid Curve Cooker      Butterfly   \n",
       "3157   Butterfly Stainless Steel Outer Lid Curve Cooker      Butterfly   \n",
       "3297  Joyo Kitchen Storewell Container Printed - Ass...  Joyo Plastics   \n",
       "3298  Joyo Kitchen Storewell Container Printed - Ass...  Joyo Plastics   \n",
       "3460              Geep Extreme 3 PIN Multi Plug Adapter           Geep   \n",
       "3462  Geep Micro USB High Speed Charging Cable (1 Me...           Geep   \n",
       "3463                             Geep G-Square Flex Box           Geep   \n",
       "3464             Zebronics TU240C Type C Charging Cable      Zebronics   \n",
       "4754                               Syska SDI07 Dry Iron          Syska   \n",
       "4792                 Pigeon Induction Cooktop Acer Plus         Pigeon   \n",
       "4917                  Zebronics Tulip Earphones - Black      Zebronics   \n",
       "4918  Zebronics Gravity Wireless Bluetooth Neckband ...      Zebronics   \n",
       "4921                Zebronics Delight Bluetooth Speaker      Zebronics   \n",
       "4928                 Zebronics Aura Bluetooth Headphone      Zebronics   \n",
       "\n",
       "       Price  DiscountedPrice       Category    SubCategory    Quantity  \\\n",
       "2934  5300.0           2699.0     Wonderchef     Wonderchef       400 W   \n",
       "3156  4851.0           1999.0      Butterfly      Butterfly  5.5 Litres   \n",
       "3157  3646.0           1599.0      Butterfly      Butterfly    3 Litres   \n",
       "3297  1265.0            449.0  Joyo Plastics  Joyo Plastics   Pack of 3   \n",
       "3298   550.0            499.0  Joyo Plastics  Joyo Plastics   Pack of 4   \n",
       "3460   205.0             99.0           Geep           Geep         1 U   \n",
       "3462   299.0             49.0           Geep           Geep         1 U   \n",
       "3463   360.0            179.0           Geep           Geep    4 Metres   \n",
       "3464   349.0             99.0      Zebronics      Zebronics         1 U   \n",
       "4754   799.0            449.0          Syska          Syska      1000 W   \n",
       "4792  3595.0           1799.0         Pigeon         Pigeon      1800 W   \n",
       "4917   459.0            149.0      Zebronics      Zebronics         1 U   \n",
       "4918  1299.0            649.0      Zebronics      Zebronics         1 U   \n",
       "4921   899.0            499.0      Zebronics      Zebronics         3 W   \n",
       "4928   999.0            499.0      Zebronics      Zebronics         1 U   \n",
       "\n",
       "                                            Description  DiscountPercent  \n",
       "2934  \\n- The 400W superfast motor blends & grinds i...               49  \n",
       "3156  Key Features\\n- Material: Stainless Steel\\n- C...               58  \n",
       "3157  \\n- Induction Base : Yes\\n\\nKey Features:\\n- M...               56  \n",
       "3297  \\n- Colour : Blue , Pink\\n- Capacity : 6.3 Lit...               64  \n",
       "3298  \\n- Colour : Blue , Pink\\n- Capacity : 6.3 Lit...                9  \n",
       "3460  \\n- Brand : Geep\\n- Type : Three Pin Plug\\n- C...               51  \n",
       "3462  \\n- Code : Geep USB 001\\n- Dimensions : 200 X ...               83  \n",
       "3463  \\n- Brand : Geep\\n- Model No : GPFB 4 MS\\n- So...               50  \n",
       "3464  \\n- USB to type C cable\\n- Supports upto 2.4A\\...               71  \n",
       "4754  Specifications : \\n- Voltage : 230V - 50Hz\\n- ...               43  \n",
       "4792  \\n- Brand : Pigeon\\n- Model Name : Acer Plus\\n...               49  \n",
       "4917  \\nZeb-Tulip is a wired earphone that comes wit...               67  \n",
       "4918                                              China               50  \n",
       "4921  \\n- Type : Portable BT speaker\\n- Compatible D...               44  \n",
       "4928  \\nSpecifications :\\n- Drive size : 40 mm\\n- BT...               50  "
      ]
     },
     "execution_count": 52,
     "metadata": {},
     "output_type": "execute_result"
    }
   ],
   "source": [
    "df[(df['Category'] == 'Wonderchef') | (df['Category'] == 'Syska') | (df['Category'] == 'Butterfly') | (df['Category'] == 'Pigeon')| (df['Category'] == 'Zebronics') | (df['Category'] == 'Geep') | (df['Category'] == 'Joyo Plastics') ]"
   ]
  },
  {
   "cell_type": "markdown",
   "id": "59747cc2",
   "metadata": {
    "papermill": {
     "duration": 0.043995,
     "end_time": "2022-08-23T07:04:36.065569",
     "exception": false,
     "start_time": "2022-08-23T07:04:36.021574",
     "status": "completed"
    },
    "tags": []
   },
   "source": [
    "**Conclusion:**\n",
    "\n",
    "*Yes,our doubt was correct these are the names of brands and not the categories so we have to correct these columns*\n",
    "\n",
    "* Zebronic is a Mobile Appliances manifacturing Company so category for these columns will be Appliances and Subcategory will be appliances only.\n",
    "\n",
    "* Syska manifactures electrical equipments which we use in home so we will allot it to Home & Kitchen Subcategory will be Home Appliances.\n",
    "\n",
    "* Geep will be in Appliances Category,subcategory is also appliances.\n",
    "\n",
    "* Butterfly will be alloted to Home & Kitchen and subcategory will be Kitchen Appliances.\n",
    "\n",
    "* Pigeon will be alloted to Home & Kitchen and subcategory will be Kitchen Appliances.\n",
    "\n",
    "* Joyo Pastics will be alloted to Home & Kitchen and subcategory will be Kitchen Appliances.\n",
    "\n",
    "* Wonderchef will be alloted to Home & Kitchen and subcategory will be Kitchen Appliances.\n"
   ]
  },
  {
   "cell_type": "markdown",
   "id": "b9c35bfa",
   "metadata": {
    "papermill": {
     "duration": 0.0418,
     "end_time": "2022-08-23T07:04:36.151244",
     "exception": false,
     "start_time": "2022-08-23T07:04:36.109444",
     "status": "completed"
    },
    "tags": []
   },
   "source": [
    "<h6 style=\"background-color:rgb(244,164,96);padding:8px 10px;border-radius:5px 25px 25px 5px;width:250px\">Correcting Categories"
   ]
  },
  {
   "cell_type": "code",
   "execution_count": 53,
   "id": "ae599fa4",
   "metadata": {
    "execution": {
     "iopub.execute_input": "2022-08-23T07:04:36.238103Z",
     "iopub.status.busy": "2022-08-23T07:04:36.237168Z",
     "iopub.status.idle": "2022-08-23T07:04:36.246803Z",
     "shell.execute_reply": "2022-08-23T07:04:36.245723Z"
    },
    "papermill": {
     "duration": 0.056269,
     "end_time": "2022-08-23T07:04:36.249828",
     "exception": false,
     "start_time": "2022-08-23T07:04:36.193559",
     "status": "completed"
    },
    "tags": []
   },
   "outputs": [],
   "source": [
    "df['Category'] = df['Category'].replace({'Zebronics':'Appliances','Geep':'Appliances','Syska':'Home & Kitchen','Butterfly':'Home & Kitchen','Wonderchef':'Home & Kitchen','Joyo Plastics':'Home & Kitchen','Pigeon':'Home & Kitchen'})"
   ]
  },
  {
   "cell_type": "code",
   "execution_count": 54,
   "id": "157b7916",
   "metadata": {
    "execution": {
     "iopub.execute_input": "2022-08-23T07:04:36.337105Z",
     "iopub.status.busy": "2022-08-23T07:04:36.336591Z",
     "iopub.status.idle": "2022-08-23T07:04:36.346715Z",
     "shell.execute_reply": "2022-08-23T07:04:36.345404Z"
    },
    "papermill": {
     "duration": 0.058013,
     "end_time": "2022-08-23T07:04:36.349630",
     "exception": false,
     "start_time": "2022-08-23T07:04:36.291617",
     "status": "completed"
    },
    "tags": []
   },
   "outputs": [
    {
     "data": {
      "text/plain": [
       "Personal Care                    1234\n",
       "Packaged Food                    1125\n",
       "Home & Kitchen                    890\n",
       "Grocery                           840\n",
       "Dairy & Beverages                 429\n",
       "Specials                          187\n",
       "Clothing & Accessories             97\n",
       "Fruits & Vegetables                78\n",
       "School Supplies                    69\n",
       "Appliances                         61\n",
       "Beauty & Cosmetics                 46\n",
       "Raincoat                           33\n",
       "DMart Grocery                      31\n",
       "Plant Container                    23\n",
       "Tableware                          18\n",
       "Backpacks                          13\n",
       "Motorbike Helmets                   4\n",
       "Baby & Kids                         4\n",
       "Kitchen Aprons                      3\n",
       "Computer Accessories                2\n",
       "Water Purifiers & Accessories       1\n",
       "Smartwatches                        1\n",
       "Name: Category, dtype: int64"
      ]
     },
     "execution_count": 54,
     "metadata": {},
     "output_type": "execute_result"
    }
   ],
   "source": [
    "df.Category.value_counts()"
   ]
  },
  {
   "cell_type": "code",
   "execution_count": 55,
   "id": "3f9289a3",
   "metadata": {
    "execution": {
     "iopub.execute_input": "2022-08-23T07:04:36.437460Z",
     "iopub.status.busy": "2022-08-23T07:04:36.436549Z",
     "iopub.status.idle": "2022-08-23T07:04:36.989495Z",
     "shell.execute_reply": "2022-08-23T07:04:36.988097Z"
    },
    "papermill": {
     "duration": 0.601216,
     "end_time": "2022-08-23T07:04:36.992714",
     "exception": false,
     "start_time": "2022-08-23T07:04:36.391498",
     "status": "completed"
    },
    "tags": []
   },
   "outputs": [
    {
     "data": {
      "text/plain": [
       "Text(0, 0.5, 'Number of Products')"
      ]
     },
     "execution_count": 55,
     "metadata": {},
     "output_type": "execute_result"
    },
    {
     "data": {
      "image/png": "[encoded data removed]",
      "text/plain": [
       "<Figure size 1440x720 with 1 Axes>"
      ]
     },
     "metadata": {
      "needs_background": "light"
     },
     "output_type": "display_data"
    }
   ],
   "source": [
    "sns.set_context(\"poster\",font_scale=0.5)\n",
    "plt.figure(figsize=(20,10))\n",
    "ax = df.Category.value_counts().plot(kind='bar',cmap='RdYlGn_r')\n",
    "\n",
    "for p in ax.patches:\n",
    "    ax.annotate(int(p.get_height()),(p.get_x()+0.25,p.get_height()+20),ha='center',color='black')\n",
    "    \n",
    "plt.title('Number of Products per Category',fontsize=18)\n",
    "plt.xlabel('Categories')\n",
    "plt.ylabel('Number of Products')"
   ]
  },
  {
   "cell_type": "markdown",
   "id": "63ffd22d",
   "metadata": {
    "papermill": {
     "duration": 0.044104,
     "end_time": "2022-08-23T07:04:37.082936",
     "exception": false,
     "start_time": "2022-08-23T07:04:37.038832",
     "status": "completed"
    },
    "tags": []
   },
   "source": [
    "<h6 style=\"background-color:rgb(244,164,96);padding:8px 10px;border-radius:5px 25px 25px 5px;width:250px\">Correcting SubCategories"
   ]
  },
  {
   "cell_type": "code",
   "execution_count": 56,
   "id": "2cc2c455",
   "metadata": {
    "execution": {
     "iopub.execute_input": "2022-08-23T07:04:37.173347Z",
     "iopub.status.busy": "2022-08-23T07:04:37.172361Z",
     "iopub.status.idle": "2022-08-23T07:04:37.184186Z",
     "shell.execute_reply": "2022-08-23T07:04:37.182815Z"
    },
    "papermill": {
     "duration": 0.060142,
     "end_time": "2022-08-23T07:04:37.187150",
     "exception": false,
     "start_time": "2022-08-23T07:04:37.127008",
     "status": "completed"
    },
    "tags": []
   },
   "outputs": [],
   "source": [
    "df['SubCategory']=df['SubCategory'].replace({'Zebronics':'Appliances','Geep':'Appliances','Syska':'Home Appliances','Butterfly':'Kitchen Appliances','Wonderchef':'Kitchen Appliances','Joyo Plastics':'Kitchen Appliances','Pigeon':'Kitchen Appliances'})"
   ]
  },
  {
   "cell_type": "code",
   "execution_count": 57,
   "id": "45b52512",
   "metadata": {
    "execution": {
     "iopub.execute_input": "2022-08-23T07:04:37.278274Z",
     "iopub.status.busy": "2022-08-23T07:04:37.277704Z",
     "iopub.status.idle": "2022-08-23T07:04:37.288945Z",
     "shell.execute_reply": "2022-08-23T07:04:37.287821Z"
    },
    "papermill": {
     "duration": 0.058848,
     "end_time": "2022-08-23T07:04:37.291395",
     "exception": false,
     "start_time": "2022-08-23T07:04:37.232547",
     "status": "completed"
    },
    "tags": []
   },
   "outputs": [
    {
     "data": {
      "text/plain": [
       "Snacks & Farsans                 302\n",
       "Masala & Spices                  297\n",
       "Beverages                        282\n",
       "Skin Care                        257\n",
       "Face Care                        174\n",
       "                                ... \n",
       "Motorbike Helmets                  4\n",
       "Kitchen Aprons                     3\n",
       "Computer Accessories               2\n",
       "Water Purifiers & Accessories      1\n",
       "Smartwatches                       1\n",
       "Name: SubCategory, Length: 67, dtype: int64"
      ]
     },
     "execution_count": 57,
     "metadata": {},
     "output_type": "execute_result"
    }
   ],
   "source": [
    "df.SubCategory.value_counts()"
   ]
  },
  {
   "cell_type": "code",
   "execution_count": 58,
   "id": "f462e745",
   "metadata": {
    "execution": {
     "iopub.execute_input": "2022-08-23T07:04:37.381453Z",
     "iopub.status.busy": "2022-08-23T07:04:37.380516Z",
     "iopub.status.idle": "2022-08-23T07:04:38.642713Z",
     "shell.execute_reply": "2022-08-23T07:04:38.641210Z"
    },
    "papermill": {
     "duration": 1.310712,
     "end_time": "2022-08-23T07:04:38.645910",
     "exception": false,
     "start_time": "2022-08-23T07:04:37.335198",
     "status": "completed"
    },
    "tags": []
   },
   "outputs": [
    {
     "data": {
      "text/html": [
       "        <script type=\"text/javascript\">\n",
       "        window.PlotlyConfig = {MathJaxConfig: 'local'};\n",
       "        if (window.MathJax && window.MathJax.Hub && window.MathJax.Hub.Config) {window.MathJax.Hub.Config({SVG: {font: \"STIX-Web\"}});}\n",
       "        if (typeof require !== 'undefined') {\n",
       "        require.undef(\"plotly\");\n",
       "        requirejs.config({\n",
       "            paths: {\n",
       "                'plotly': ['https://cdn.plot.ly/plotly-2.12.1.min']\n",
       "            }\n",
       "        });\n",
       "        require(['plotly'], function(Plotly) {\n",
       "            window._Plotly = Plotly;\n",
       "        });\n",
       "        }\n",
       "        </script>\n",
       "        "
      ]
     },
     "metadata": {},
     "output_type": "display_data"
    },
    {
     "data": {
      "text/html": [
       "<div>                            <div id=\"a521802c-5ddd-4b42-ba78-3322d8f1d9ba\" class=\"plotly-graph-div\" style=\"height:525px; width:100%;\"></div>            <script type=\"text/javascript\">                require([\"plotly\"], function(Plotly) {                    window.PLOTLYENV=window.PLOTLYENV || {};                                    if (document.getElementById(\"a521802c-5ddd-4b42-ba78-3322d8f1d9ba\")) {                    Plotly.newPlot(                        \"a521802c-5ddd-4b42-ba78-3322d8f1d9ba\",                        [{\"alignmentgroup\":\"True\",\"hovertemplate\":\"x=%{x}<br>y=%{y}<br>color=%{marker.color}<extra></extra>\",\"legendgroup\":\"\",\"marker\":{\"color\":[302,297,282,257,174,160,157,150,147,135,132,129,121,119,113,106,91,90,89,84,83,80,79,79,78,78,75,73,73,72,69,68,64,62,60,58,56,54,54,54,50,50,47,47,44,43,42,35,35,34,33,31,30,28,23,20,19,18,16,13,10,6,4,3,2,1,1],\"coloraxis\":\"coloraxis\",\"pattern\":{\"shape\":\"\"}},\"name\":\"\",\"offsetgroup\":\"\",\"orientation\":\"v\",\"showlegend\":false,\"textposition\":\"auto\",\"x\":[\"Snacks & Farsans\",\"Masala & Spices\",\"Beverages\",\"Skin Care\",\"Face Care\",\"Hair Care\",\"Specials\",\"Bed & Bath\",\"Dairy\",\"Packaged Food\",\"Lip Care\",\"Health & Wellness\",\"Cookware & Serveware\",\"Biscuits & Cookies\",\"Dry Fruits\",\"Cooking Oil\",\"Rice & Rice Products\",\"Detergent & Fabric Care\",\"Sweets\",\"Freshener & Repellents\",\"Cleaning Tools\",\"Home & Kitchen\",\"Home Utility\",\"Ready To Cook\",\"Fruits & Vegetables\",\"Cleaners\",\"Nail Care\",\"Oral Care\",\"Personal Care\",\"Flours & Grains\",\"School Needs\",\"Jams & Spreads\",\"Pulses\",\"Pooja Needs\",\"Ketchup & Sauce\",\"Baby & Kids\",\"Dals\",\"Shaving Needs\",\"Deos & Perfumes\",\"Pasta & Noodles\",\"Men's\",\"Gourmet Food\",\"Breakfast Cereals\",\"Women's\",\"Pickles\",\"Personal Hygiene\",\"Eye Makeup\",\"Home Appliances\",\"Tissue Paper & Napkins\",\"Ghee & Vanaspati\",\"Raincoat\",\"Bakery\",\"Festive Specials\",\" Jaggery\",\"Plant Container\",\"Kitchen Appliances\",\"Furniture & Décor\",\"Tableware\",\"Appliances\",\"Backpacks\",\"DMart Grocery\",\"Disinfectants\",\"Motorbike Helmets\",\"Kitchen Aprons\",\"Computer Accessories\",\"Water Purifiers & Accessories\",\"Smartwatches\"],\"xaxis\":\"x\",\"y\":[302,297,282,257,174,160,157,150,147,135,132,129,121,119,113,106,91,90,89,84,83,80,79,79,78,78,75,73,73,72,69,68,64,62,60,58,56,54,54,54,50,50,47,47,44,43,42,35,35,34,33,31,30,28,23,20,19,18,16,13,10,6,4,3,2,1,1],\"yaxis\":\"y\",\"type\":\"bar\"}],                        {\"template\":{\"data\":{\"histogram2dcontour\":[{\"type\":\"histogram2dcontour\",\"colorbar\":{\"outlinewidth\":0,\"ticks\":\"\"},\"colorscale\":[[0.0,\"#0d0887\"],[0.1111111111111111,\"#46039f\"],[0.2222222222222222,\"#7201a8\"],[0.3333333333333333,\"#9c179e\"],[0.4444444444444444,\"#bd3786\"],[0.5555555555555556,\"#d8576b\"],[0.6666666666666666,\"#ed7953\"],[0.7777777777777778,\"#fb9f3a\"],[0.8888888888888888,\"#fdca26\"],[1.0,\"#f0f921\"]]}],\"choropleth\":[{\"type\":\"choropleth\",\"colorbar\":{\"outlinewidth\":0,\"ticks\":\"\"}}],\"histogram2d\":[{\"type\":\"histogram2d\",\"colorbar\":{\"outlinewidth\":0,\"ticks\":\"\"},\"colorscale\":[[0.0,\"#0d0887\"],[0.1111111111111111,\"#46039f\"],[0.2222222222222222,\"#7201a8\"],[0.3333333333333333,\"#9c179e\"],[0.4444444444444444,\"#bd3786\"],[0.5555555555555556,\"#d8576b\"],[0.6666666666666666,\"#ed7953\"],[0.7777777777777778,\"#fb9f3a\"],[0.8888888888888888,\"#fdca26\"],[1.0,\"#f0f921\"]]}],\"heatmap\":[{\"type\":\"heatmap\",\"colorbar\":{\"outlinewidth\":0,\"ticks\":\"\"},\"colorscale\":[[0.0,\"#0d0887\"],[0.1111111111111111,\"#46039f\"],[0.2222222222222222,\"#7201a8\"],[0.3333333333333333,\"#9c179e\"],[0.4444444444444444,\"#bd3786\"],[0.5555555555555556,\"#d8576b\"],[0.6666666666666666,\"#ed7953\"],[0.7777777777777778,\"#fb9f3a\"],[0.8888888888888888,\"#fdca26\"],[1.0,\"#f0f921\"]]}],\"heatmapgl\":[{\"type\":\"heatmapgl\",\"colorbar\":{\"outlinewidth\":0,\"ticks\":\"\"},\"colorscale\":[[0.0,\"#0d0887\"],[0.1111111111111111,\"#46039f\"],[0.2222222222222222,\"#7201a8\"],[0.3333333333333333,\"#9c179e\"],[0.4444444444444444,\"#bd3786\"],[0.5555555555555556,\"#d8576b\"],[0.6666666666666666,\"#ed7953\"],[0.7777777777777778,\"#fb9f3a\"],[0.8888888888888888,\"#fdca26\"],[1.0,\"#f0f921\"]]}],\"contourcarpet\":[{\"type\":\"contourcarpet\",\"colorbar\":{\"outlinewidth\":0,\"ticks\":\"\"}}],\"contour\":[{\"type\":\"contour\",\"colorbar\":{\"outlinewidth\":0,\"ticks\":\"\"},\"colorscale\":[[0.0,\"#0d0887\"],[0.1111111111111111,\"#46039f\"],[0.2222222222222222,\"#7201a8\"],[0.3333333333333333,\"#9c179e\"],[0.4444444444444444,\"#bd3786\"],[0.5555555555555556,\"#d8576b\"],[0.6666666666666666,\"#ed7953\"],[0.7777777777777778,\"#fb9f3a\"],[0.8888888888888888,\"#fdca26\"],[1.0,\"#f0f921\"]]}],\"surface\":[{\"type\":\"surface\",\"colorbar\":{\"outlinewidth\":0,\"ticks\":\"\"},\"colorscale\":[[0.0,\"#0d0887\"],[0.1111111111111111,\"#46039f\"],[0.2222222222222222,\"#7201a8\"],[0.3333333333333333,\"#9c179e\"],[0.4444444444444444,\"#bd3786\"],[0.5555555555555556,\"#d8576b\"],[0.6666666666666666,\"#ed7953\"],[0.7777777777777778,\"#fb9f3a\"],[0.8888888888888888,\"#fdca26\"],[1.0,\"#f0f921\"]]}],\"mesh3d\":[{\"type\":\"mesh3d\",\"colorbar\":{\"outlinewidth\":0,\"ticks\":\"\"}}],\"scatter\":[{\"fillpattern\":{\"fillmode\":\"overlay\",\"size\":10,\"solidity\":0.2},\"type\":\"scatter\"}],\"parcoords\":[{\"type\":\"parcoords\",\"line\":{\"colorbar\":{\"outlinewidth\":0,\"ticks\":\"\"}}}],\"scatterpolargl\":[{\"type\":\"scatterpolargl\",\"marker\":{\"colorbar\":{\"outlinewidth\":0,\"ticks\":\"\"}}}],\"bar\":[{\"error_x\":{\"color\":\"#2a3f5f\"},\"error_y\":{\"color\":\"#2a3f5f\"},\"marker\":{\"line\":{\"color\":\"#E5ECF6\",\"width\":0.5},\"pattern\":{\"fillmode\":\"overlay\",\"size\":10,\"solidity\":0.2}},\"type\":\"bar\"}],\"scattergeo\":[{\"type\":\"scattergeo\",\"marker\":{\"colorbar\":{\"outlinewidth\":0,\"ticks\":\"\"}}}],\"scatterpolar\":[{\"type\":\"scatterpolar\",\"marker\":{\"colorbar\":{\"outlinewidth\":0,\"ticks\":\"\"}}}],\"histogram\":[{\"marker\":{\"pattern\":{\"fillmode\":\"overlay\",\"size\":10,\"solidity\":0.2}},\"type\":\"histogram\"}],\"scattergl\":[{\"type\":\"scattergl\",\"marker\":{\"colorbar\":{\"outlinewidth\":0,\"ticks\":\"\"}}}],\"scatter3d\":[{\"type\":\"scatter3d\",\"line\":{\"colorbar\":{\"outlinewidth\":0,\"ticks\":\"\"}},\"marker\":{\"colorbar\":{\"outlinewidth\":0,\"ticks\":\"\"}}}],\"scattermapbox\":[{\"type\":\"scattermapbox\",\"marker\":{\"colorbar\":{\"outlinewidth\":0,\"ticks\":\"\"}}}],\"scatterternary\":[{\"type\":\"scatterternary\",\"marker\":{\"colorbar\":{\"outlinewidth\":0,\"ticks\":\"\"}}}],\"scattercarpet\":[{\"type\":\"scattercarpet\",\"marker\":{\"colorbar\":{\"outlinewidth\":0,\"ticks\":\"\"}}}],\"carpet\":[{\"aaxis\":{\"endlinecolor\":\"#2a3f5f\",\"gridcolor\":\"white\",\"linecolor\":\"white\",\"minorgridcolor\":\"white\",\"startlinecolor\":\"#2a3f5f\"},\"baxis\":{\"endlinecolor\":\"#2a3f5f\",\"gridcolor\":\"white\",\"linecolor\":\"white\",\"minorgridcolor\":\"white\",\"startlinecolor\":\"#2a3f5f\"},\"type\":\"carpet\"}],\"table\":[{\"cells\":{\"fill\":{\"color\":\"#EBF0F8\"},\"line\":{\"color\":\"white\"}},\"header\":{\"fill\":{\"color\":\"#C8D4E3\"},\"line\":{\"color\":\"white\"}},\"type\":\"table\"}],\"barpolar\":[{\"marker\":{\"line\":{\"color\":\"#E5ECF6\",\"width\":0.5},\"pattern\":{\"fillmode\":\"overlay\",\"size\":10,\"solidity\":0.2}},\"type\":\"barpolar\"}],\"pie\":[{\"automargin\":true,\"type\":\"pie\"}]},\"layout\":{\"autotypenumbers\":\"strict\",\"colorway\":[\"#636efa\",\"#EF553B\",\"#00cc96\",\"#ab63fa\",\"#FFA15A\",\"#19d3f3\",\"#FF6692\",\"#B6E880\",\"#FF97FF\",\"#FECB52\"],\"font\":{\"color\":\"#2a3f5f\"},\"hovermode\":\"closest\",\"hoverlabel\":{\"align\":\"left\"},\"paper_bgcolor\":\"white\",\"plot_bgcolor\":\"#E5ECF6\",\"polar\":{\"bgcolor\":\"#E5ECF6\",\"angularaxis\":{\"gridcolor\":\"white\",\"linecolor\":\"white\",\"ticks\":\"\"},\"radialaxis\":{\"gridcolor\":\"white\",\"linecolor\":\"white\",\"ticks\":\"\"}},\"ternary\":{\"bgcolor\":\"#E5ECF6\",\"aaxis\":{\"gridcolor\":\"white\",\"linecolor\":\"white\",\"ticks\":\"\"},\"baxis\":{\"gridcolor\":\"white\",\"linecolor\":\"white\",\"ticks\":\"\"},\"caxis\":{\"gridcolor\":\"white\",\"linecolor\":\"white\",\"ticks\":\"\"}},\"coloraxis\":{\"colorbar\":{\"outlinewidth\":0,\"ticks\":\"\"}},\"colorscale\":{\"sequential\":[[0.0,\"#0d0887\"],[0.1111111111111111,\"#46039f\"],[0.2222222222222222,\"#7201a8\"],[0.3333333333333333,\"#9c179e\"],[0.4444444444444444,\"#bd3786\"],[0.5555555555555556,\"#d8576b\"],[0.6666666666666666,\"#ed7953\"],[0.7777777777777778,\"#fb9f3a\"],[0.8888888888888888,\"#fdca26\"],[1.0,\"#f0f921\"]],\"sequentialminus\":[[0.0,\"#0d0887\"],[0.1111111111111111,\"#46039f\"],[0.2222222222222222,\"#7201a8\"],[0.3333333333333333,\"#9c179e\"],[0.4444444444444444,\"#bd3786\"],[0.5555555555555556,\"#d8576b\"],[0.6666666666666666,\"#ed7953\"],[0.7777777777777778,\"#fb9f3a\"],[0.8888888888888888,\"#fdca26\"],[1.0,\"#f0f921\"]],\"diverging\":[[0,\"#8e0152\"],[0.1,\"#c51b7d\"],[0.2,\"#de77ae\"],[0.3,\"#f1b6da\"],[0.4,\"#fde0ef\"],[0.5,\"#f7f7f7\"],[0.6,\"#e6f5d0\"],[0.7,\"#b8e186\"],[0.8,\"#7fbc41\"],[0.9,\"#4d9221\"],[1,\"#276419\"]]},\"xaxis\":{\"gridcolor\":\"white\",\"linecolor\":\"white\",\"ticks\":\"\",\"title\":{\"standoff\":15},\"zerolinecolor\":\"white\",\"automargin\":true,\"zerolinewidth\":2},\"yaxis\":{\"gridcolor\":\"white\",\"linecolor\":\"white\",\"ticks\":\"\",\"title\":{\"standoff\":15},\"zerolinecolor\":\"white\",\"automargin\":true,\"zerolinewidth\":2},\"scene\":{\"xaxis\":{\"backgroundcolor\":\"#E5ECF6\",\"gridcolor\":\"white\",\"linecolor\":\"white\",\"showbackground\":true,\"ticks\":\"\",\"zerolinecolor\":\"white\",\"gridwidth\":2},\"yaxis\":{\"backgroundcolor\":\"#E5ECF6\",\"gridcolor\":\"white\",\"linecolor\":\"white\",\"showbackground\":true,\"ticks\":\"\",\"zerolinecolor\":\"white\",\"gridwidth\":2},\"zaxis\":{\"backgroundcolor\":\"#E5ECF6\",\"gridcolor\":\"white\",\"linecolor\":\"white\",\"showbackground\":true,\"ticks\":\"\",\"zerolinecolor\":\"white\",\"gridwidth\":2}},\"shapedefaults\":{\"line\":{\"color\":\"#2a3f5f\"}},\"annotationdefaults\":{\"arrowcolor\":\"#2a3f5f\",\"arrowhead\":0,\"arrowwidth\":1},\"geo\":{\"bgcolor\":\"white\",\"landcolor\":\"#E5ECF6\",\"subunitcolor\":\"white\",\"showland\":true,\"showlakes\":true,\"lakecolor\":\"white\"},\"title\":{\"x\":0.05},\"mapbox\":{\"style\":\"light\"}}},\"xaxis\":{\"anchor\":\"y\",\"domain\":[0.0,1.0],\"title\":{\"text\":\"x\"}},\"yaxis\":{\"anchor\":\"x\",\"domain\":[0.0,1.0],\"title\":{\"text\":\"y\"}},\"coloraxis\":{\"colorbar\":{\"title\":{\"text\":\"color\"}},\"colorscale\":[[0.0,\"#0d0887\"],[0.1111111111111111,\"#46039f\"],[0.2222222222222222,\"#7201a8\"],[0.3333333333333333,\"#9c179e\"],[0.4444444444444444,\"#bd3786\"],[0.5555555555555556,\"#d8576b\"],[0.6666666666666666,\"#ed7953\"],[0.7777777777777778,\"#fb9f3a\"],[0.8888888888888888,\"#fdca26\"],[1.0,\"#f0f921\"]]},\"legend\":{\"tracegroupgap\":0},\"title\":{\"text\":\"Number of Products in each Subcategory\"},\"barmode\":\"relative\"},                        {\"responsive\": true}                    ).then(function(){\n",
       "                            \n",
       "var gd = document.getElementById('a521802c-5ddd-4b42-ba78-3322d8f1d9ba');\n",
       "var x = new MutationObserver(function (mutations, observer) {{\n",
       "        var display = window.getComputedStyle(gd).display;\n",
       "        if (!display || display === 'none') {{\n",
       "            console.log([gd, 'removed!']);\n",
       "            Plotly.purge(gd);\n",
       "            observer.disconnect();\n",
       "        }}\n",
       "}});\n",
       "\n",
       "// Listen for the removal of the full notebook cells\n",
       "var notebookContainer = gd.closest('#notebook-container');\n",
       "if (notebookContainer) {{\n",
       "    x.observe(notebookContainer, {childList: true});\n",
       "}}\n",
       "\n",
       "// Listen for the clearing of the current output cell\n",
       "var outputEl = gd.closest('.output');\n",
       "if (outputEl) {{\n",
       "    x.observe(outputEl, {childList: true});\n",
       "}}\n",
       "\n",
       "                        })                };                });            </script>        </div>"
      ]
     },
     "metadata": {},
     "output_type": "display_data"
    }
   ],
   "source": [
    "px.bar(x=df.SubCategory.value_counts().index, y=df.SubCategory.value_counts().values,color=df.SubCategory.value_counts().values,title='Number of Products in each Subcategory')"
   ]
  },
  {
   "cell_type": "markdown",
   "id": "53d839dd",
   "metadata": {
    "papermill": {
     "duration": 0.046108,
     "end_time": "2022-08-23T07:04:38.738024",
     "exception": false,
     "start_time": "2022-08-23T07:04:38.691916",
     "status": "completed"
    },
    "tags": []
   },
   "source": [
    "<h4 style=\"background-color:rgb(244,164,96);padding:8px 10px;border-radius:5px 25px 25px 5px;width:600px\">Number of SubCategories,Brands and Products per Categoriy"
   ]
  },
  {
   "cell_type": "code",
   "execution_count": 59,
   "id": "26c2b0ef",
   "metadata": {
    "execution": {
     "iopub.execute_input": "2022-08-23T07:04:38.833307Z",
     "iopub.status.busy": "2022-08-23T07:04:38.832678Z",
     "iopub.status.idle": "2022-08-23T07:04:38.862050Z",
     "shell.execute_reply": "2022-08-23T07:04:38.860535Z"
    },
    "papermill": {
     "duration": 0.080759,
     "end_time": "2022-08-23T07:04:38.865034",
     "exception": false,
     "start_time": "2022-08-23T07:04:38.784275",
     "status": "completed"
    },
    "tags": []
   },
   "outputs": [
    {
     "data": {
      "text/html": [
       "<div>\n",
       "<style scoped>\n",
       "    .dataframe tbody tr th:only-of-type {\n",
       "        vertical-align: middle;\n",
       "    }\n",
       "\n",
       "    .dataframe tbody tr th {\n",
       "        vertical-align: top;\n",
       "    }\n",
       "\n",
       "    .dataframe thead th {\n",
       "        text-align: right;\n",
       "    }\n",
       "</style>\n",
       "<table border=\"1\" class=\"dataframe\">\n",
       "  <thead>\n",
       "    <tr style=\"text-align: right;\">\n",
       "      <th></th>\n",
       "      <th>SubCategory</th>\n",
       "      <th>Brand</th>\n",
       "      <th>Number of Products</th>\n",
       "    </tr>\n",
       "    <tr>\n",
       "      <th>Category</th>\n",
       "      <th></th>\n",
       "      <th></th>\n",
       "      <th></th>\n",
       "    </tr>\n",
       "  </thead>\n",
       "  <tbody>\n",
       "    <tr>\n",
       "      <th>Appliances</th>\n",
       "      <td>3</td>\n",
       "      <td>20</td>\n",
       "      <td>60</td>\n",
       "    </tr>\n",
       "    <tr>\n",
       "      <th>Baby &amp; Kids</th>\n",
       "      <td>1</td>\n",
       "      <td>2</td>\n",
       "      <td>4</td>\n",
       "    </tr>\n",
       "    <tr>\n",
       "      <th>Backpacks</th>\n",
       "      <td>1</td>\n",
       "      <td>5</td>\n",
       "      <td>13</td>\n",
       "    </tr>\n",
       "    <tr>\n",
       "      <th>Beauty &amp; Cosmetics</th>\n",
       "      <td>2</td>\n",
       "      <td>11</td>\n",
       "      <td>42</td>\n",
       "    </tr>\n",
       "    <tr>\n",
       "      <th>Clothing &amp; Accessories</th>\n",
       "      <td>2</td>\n",
       "      <td>9</td>\n",
       "      <td>42</td>\n",
       "    </tr>\n",
       "    <tr>\n",
       "      <th>Computer Accessories</th>\n",
       "      <td>1</td>\n",
       "      <td>1</td>\n",
       "      <td>2</td>\n",
       "    </tr>\n",
       "    <tr>\n",
       "      <th>DMart Grocery</th>\n",
       "      <td>2</td>\n",
       "      <td>3</td>\n",
       "      <td>21</td>\n",
       "    </tr>\n",
       "    <tr>\n",
       "      <th>Dairy &amp; Beverages</th>\n",
       "      <td>2</td>\n",
       "      <td>106</td>\n",
       "      <td>338</td>\n",
       "    </tr>\n",
       "    <tr>\n",
       "      <th>Fruits &amp; Vegetables</th>\n",
       "      <td>1</td>\n",
       "      <td>3</td>\n",
       "      <td>76</td>\n",
       "    </tr>\n",
       "    <tr>\n",
       "      <th>Grocery</th>\n",
       "      <td>9</td>\n",
       "      <td>124</td>\n",
       "      <td>663</td>\n",
       "    </tr>\n",
       "    <tr>\n",
       "      <th>Home &amp; Kitchen</th>\n",
       "      <td>14</td>\n",
       "      <td>188</td>\n",
       "      <td>759</td>\n",
       "    </tr>\n",
       "    <tr>\n",
       "      <th>Kitchen Aprons</th>\n",
       "      <td>1</td>\n",
       "      <td>1</td>\n",
       "      <td>3</td>\n",
       "    </tr>\n",
       "    <tr>\n",
       "      <th>Motorbike Helmets</th>\n",
       "      <td>1</td>\n",
       "      <td>2</td>\n",
       "      <td>4</td>\n",
       "    </tr>\n",
       "    <tr>\n",
       "      <th>Packaged Food</th>\n",
       "      <td>13</td>\n",
       "      <td>244</td>\n",
       "      <td>979</td>\n",
       "    </tr>\n",
       "    <tr>\n",
       "      <th>Personal Care</th>\n",
       "      <td>14</td>\n",
       "      <td>174</td>\n",
       "      <td>1070</td>\n",
       "    </tr>\n",
       "    <tr>\n",
       "      <th>Plant Container</th>\n",
       "      <td>1</td>\n",
       "      <td>1</td>\n",
       "      <td>23</td>\n",
       "    </tr>\n",
       "    <tr>\n",
       "      <th>Raincoat</th>\n",
       "      <td>1</td>\n",
       "      <td>1</td>\n",
       "      <td>16</td>\n",
       "    </tr>\n",
       "    <tr>\n",
       "      <th>School Supplies</th>\n",
       "      <td>1</td>\n",
       "      <td>20</td>\n",
       "      <td>65</td>\n",
       "    </tr>\n",
       "    <tr>\n",
       "      <th>Smartwatches</th>\n",
       "      <td>1</td>\n",
       "      <td>1</td>\n",
       "      <td>1</td>\n",
       "    </tr>\n",
       "    <tr>\n",
       "      <th>Specials</th>\n",
       "      <td>2</td>\n",
       "      <td>42</td>\n",
       "      <td>170</td>\n",
       "    </tr>\n",
       "    <tr>\n",
       "      <th>Tableware</th>\n",
       "      <td>1</td>\n",
       "      <td>1</td>\n",
       "      <td>10</td>\n",
       "    </tr>\n",
       "    <tr>\n",
       "      <th>Water Purifiers &amp; Accessories</th>\n",
       "      <td>1</td>\n",
       "      <td>1</td>\n",
       "      <td>1</td>\n",
       "    </tr>\n",
       "  </tbody>\n",
       "</table>\n",
       "</div>"
      ],
      "text/plain": [
       "                               SubCategory  Brand  Number of Products\n",
       "Category                                                             \n",
       "Appliances                               3     20                  60\n",
       "Baby & Kids                              1      2                   4\n",
       "Backpacks                                1      5                  13\n",
       "Beauty & Cosmetics                       2     11                  42\n",
       "Clothing & Accessories                   2      9                  42\n",
       "Computer Accessories                     1      1                   2\n",
       "DMart Grocery                            2      3                  21\n",
       "Dairy & Beverages                        2    106                 338\n",
       "Fruits & Vegetables                      1      3                  76\n",
       "Grocery                                  9    124                 663\n",
       "Home & Kitchen                          14    188                 759\n",
       "Kitchen Aprons                           1      1                   3\n",
       "Motorbike Helmets                        1      2                   4\n",
       "Packaged Food                           13    244                 979\n",
       "Personal Care                           14    174                1070\n",
       "Plant Container                          1      1                  23\n",
       "Raincoat                                 1      1                  16\n",
       "School Supplies                          1     20                  65\n",
       "Smartwatches                             1      1                   1\n",
       "Specials                                 2     42                 170\n",
       "Tableware                                1      1                  10\n",
       "Water Purifiers & Accessories            1      1                   1"
      ]
     },
     "execution_count": 59,
     "metadata": {},
     "output_type": "execute_result"
    }
   ],
   "source": [
    "df.groupby(\"Category\")[['SubCategory','Brand','Name']].nunique().rename(columns={\"Name\":'Number of Products'})"
   ]
  },
  {
   "cell_type": "markdown",
   "id": "3c786f86",
   "metadata": {
    "papermill": {
     "duration": 0.044794,
     "end_time": "2022-08-23T07:04:38.954981",
     "exception": false,
     "start_time": "2022-08-23T07:04:38.910187",
     "status": "completed"
    },
    "tags": []
   },
   "source": [
    "<h6 style=\"background-color:rgb(244,164,96);padding:8px 10px;border-radius:5px 25px 25px 5px;width:250px\">Avg Discount on Each Category"
   ]
  },
  {
   "cell_type": "code",
   "execution_count": 60,
   "id": "5347d0e0",
   "metadata": {
    "execution": {
     "iopub.execute_input": "2022-08-23T07:04:39.049444Z",
     "iopub.status.busy": "2022-08-23T07:04:39.048456Z",
     "iopub.status.idle": "2022-08-23T07:04:39.056392Z",
     "shell.execute_reply": "2022-08-23T07:04:39.055427Z"
    },
    "papermill": {
     "duration": 0.058466,
     "end_time": "2022-08-23T07:04:39.058939",
     "exception": false,
     "start_time": "2022-08-23T07:04:39.000473",
     "status": "completed"
    },
    "tags": []
   },
   "outputs": [
    {
     "data": {
      "text/plain": [
       "26.023125843129698"
      ]
     },
     "execution_count": 60,
     "metadata": {},
     "output_type": "execute_result"
    }
   ],
   "source": [
    "df.DiscountPercent.mean()"
   ]
  },
  {
   "cell_type": "code",
   "execution_count": 61,
   "id": "db0c4021",
   "metadata": {
    "execution": {
     "iopub.execute_input": "2022-08-23T07:04:39.157019Z",
     "iopub.status.busy": "2022-08-23T07:04:39.155951Z",
     "iopub.status.idle": "2022-08-23T07:04:39.170108Z",
     "shell.execute_reply": "2022-08-23T07:04:39.169024Z"
    },
    "papermill": {
     "duration": 0.064667,
     "end_time": "2022-08-23T07:04:39.172990",
     "exception": false,
     "start_time": "2022-08-23T07:04:39.108323",
     "status": "completed"
    },
    "tags": []
   },
   "outputs": [
    {
     "data": {
      "text/plain": [
       "Category\n",
       "Smartwatches                     58.000000\n",
       "Backpacks                        51.461538\n",
       "Computer Accessories             37.500000\n",
       "Appliances                       34.672131\n",
       "Specials                         32.326203\n",
       "Clothing & Accessories           32.123711\n",
       "Plant Container                  30.521739\n",
       "Beauty & Cosmetics               28.891304\n",
       "Home & Kitchen                   28.819101\n",
       "Packaged Food                    28.369778\n",
       "Personal Care                    25.570502\n",
       "DMart Grocery                    24.483871\n",
       "Kitchen Aprons                   24.000000\n",
       "Fruits & Vegetables              21.974359\n",
       "Grocery                          21.438095\n",
       "Dairy & Beverages                21.046620\n",
       "Tableware                        20.500000\n",
       "School Supplies                  20.289855\n",
       "Motorbike Helmets                14.750000\n",
       "Raincoat                         11.515152\n",
       "Water Purifiers & Accessories     5.000000\n",
       "Baby & Kids                       2.750000\n",
       "Name: DiscountPercent, dtype: float64"
      ]
     },
     "execution_count": 61,
     "metadata": {},
     "output_type": "execute_result"
    }
   ],
   "source": [
    "df.groupby('Category')['DiscountPercent'].mean().sort_values(ascending=False)"
   ]
  },
  {
   "cell_type": "markdown",
   "id": "8171870b",
   "metadata": {
    "papermill": {
     "duration": 0.044589,
     "end_time": "2022-08-23T07:04:39.263577",
     "exception": false,
     "start_time": "2022-08-23T07:04:39.218988",
     "status": "completed"
    },
    "tags": []
   },
   "source": [
    "**Observation:**\n",
    "\n",
    "* As we can clearly DMART is offereing high percent of discounts on those categories in which we usually purchase.\n",
    "* Though Smartwatches,Backpacks and Computer Accessories are at top 3 positions in list but the number of product or the variety in them is quite less.\n",
    "* So the main categories which are attracting the cutomers by discounts offer in them are \n",
    "        1. Colthes and Accessories \n",
    "        2. Beauty and Cosmetics\n",
    "        3. Personal Care \n",
    "        4. Packaged Food \n",
    "        all above listed categories are having avg.Discount above 25%\n",
    "        \n",
    "* In Dmart Baby & Kids Products are offered with least Avg.Discount as well as the variety is not that much (**Here DMART can play big Game and by working on this Category they can be a competitor of stores like FirstCry.com,etc**).\n",
    "\n",
    "* Dmart Groceries which comes under the production and packaging of DMART is having more discount as compared to the other Grocery products.\n",
    "\n",
    "* Avg Dicount offered in Dmart about 26%."
   ]
  },
  {
   "cell_type": "markdown",
   "id": "7a2bcae4",
   "metadata": {
    "papermill": {
     "duration": 0.046333,
     "end_time": "2022-08-23T07:04:39.354677",
     "exception": false,
     "start_time": "2022-08-23T07:04:39.308344",
     "status": "completed"
    },
    "tags": []
   },
   "source": [
    "<h6 style=\"background-color:rgb(244,164,96);padding:8px 10px;border-radius:5px 25px 25px 5px;width:400px\">Comparison Between Dmart Groceries and Other Groceries"
   ]
  },
  {
   "cell_type": "code",
   "execution_count": 62,
   "id": "63c1577a",
   "metadata": {
    "execution": {
     "iopub.execute_input": "2022-08-23T07:04:39.467170Z",
     "iopub.status.busy": "2022-08-23T07:04:39.466543Z",
     "iopub.status.idle": "2022-08-23T07:04:39.496321Z",
     "shell.execute_reply": "2022-08-23T07:04:39.494891Z"
    },
    "papermill": {
     "duration": 0.098076,
     "end_time": "2022-08-23T07:04:39.499477",
     "exception": false,
     "start_time": "2022-08-23T07:04:39.401401",
     "status": "completed"
    },
    "tags": []
   },
   "outputs": [
    {
     "data": {
      "text/html": [
       "<div>\n",
       "<style scoped>\n",
       "    .dataframe tbody tr th:only-of-type {\n",
       "        vertical-align: middle;\n",
       "    }\n",
       "\n",
       "    .dataframe tbody tr th {\n",
       "        vertical-align: top;\n",
       "    }\n",
       "\n",
       "    .dataframe thead th {\n",
       "        text-align: right;\n",
       "    }\n",
       "</style>\n",
       "<table border=\"1\" class=\"dataframe\">\n",
       "  <thead>\n",
       "    <tr style=\"text-align: right;\">\n",
       "      <th></th>\n",
       "      <th>Name</th>\n",
       "      <th>Brand</th>\n",
       "      <th>Price</th>\n",
       "      <th>DiscountedPrice</th>\n",
       "      <th>Category</th>\n",
       "      <th>SubCategory</th>\n",
       "      <th>Quantity</th>\n",
       "      <th>Description</th>\n",
       "      <th>DiscountPercent</th>\n",
       "    </tr>\n",
       "  </thead>\n",
       "  <tbody>\n",
       "    <tr>\n",
       "      <th>559</th>\n",
       "      <td>Basmati Rice Mogra</td>\n",
       "      <td>Local/Unknown</td>\n",
       "      <td>375.0</td>\n",
       "      <td>289.0</td>\n",
       "      <td>DMart Grocery</td>\n",
       "      <td>Rice &amp; Rice Products</td>\n",
       "      <td>5 kg</td>\n",
       "      <td>IngredientsRiceStorage ConditionStore in a coo...</td>\n",
       "      <td>22</td>\n",
       "    </tr>\n",
       "    <tr>\n",
       "      <th>560</th>\n",
       "      <td>Basmati Rice Mogra</td>\n",
       "      <td>Local/Unknown</td>\n",
       "      <td>750.0</td>\n",
       "      <td>549.0</td>\n",
       "      <td>DMart Grocery</td>\n",
       "      <td>Rice &amp; Rice Products</td>\n",
       "      <td>10 kg</td>\n",
       "      <td>Basmati Rice is classified according to its gr...</td>\n",
       "      <td>26</td>\n",
       "    </tr>\n",
       "    <tr>\n",
       "      <th>566</th>\n",
       "      <td>Rice Pulav Basmati</td>\n",
       "      <td>Local/Unknown</td>\n",
       "      <td>500.0</td>\n",
       "      <td>398.0</td>\n",
       "      <td>DMart Grocery</td>\n",
       "      <td>Rice &amp; Rice Products</td>\n",
       "      <td>5 kg</td>\n",
       "      <td>StorageStore in a cool, dry, and hygienic plac...</td>\n",
       "      <td>20</td>\n",
       "    </tr>\n",
       "    <tr>\n",
       "      <th>569</th>\n",
       "      <td>Basmati Rice Mini Mogra (Broken)</td>\n",
       "      <td>Local/Unknown</td>\n",
       "      <td>650.0</td>\n",
       "      <td>440.0</td>\n",
       "      <td>DMart Grocery</td>\n",
       "      <td>Rice &amp; Rice Products</td>\n",
       "      <td>10 kg</td>\n",
       "      <td>IngredientsRiceBasmati Rice is classified acco...</td>\n",
       "      <td>32</td>\n",
       "    </tr>\n",
       "    <tr>\n",
       "      <th>575</th>\n",
       "      <td>Rice Basmati</td>\n",
       "      <td>Local/Unknown</td>\n",
       "      <td>140.0</td>\n",
       "      <td>115.0</td>\n",
       "      <td>DMart Grocery</td>\n",
       "      <td>Rice &amp; Rice Products</td>\n",
       "      <td>1 kg</td>\n",
       "      <td>Basmati Rice is classified according to its gr...</td>\n",
       "      <td>17</td>\n",
       "    </tr>\n",
       "    <tr>\n",
       "      <th>585</th>\n",
       "      <td>Biryani Rice</td>\n",
       "      <td>Local/Unknown</td>\n",
       "      <td>700.0</td>\n",
       "      <td>505.0</td>\n",
       "      <td>DMart Grocery</td>\n",
       "      <td>Rice &amp; Rice Products</td>\n",
       "      <td>5 kg</td>\n",
       "      <td>IngredientsRiceBasmati Rice is classified acco...</td>\n",
       "      <td>27</td>\n",
       "    </tr>\n",
       "    <tr>\n",
       "      <th>588</th>\n",
       "      <td>Rice Tibar Basmati</td>\n",
       "      <td>Local/Unknown</td>\n",
       "      <td>650.0</td>\n",
       "      <td>452.0</td>\n",
       "      <td>DMart Grocery</td>\n",
       "      <td>Rice &amp; Rice Products</td>\n",
       "      <td>5 kg</td>\n",
       "      <td>StorageStore in a cool, dry and hygienic place...</td>\n",
       "      <td>30</td>\n",
       "    </tr>\n",
       "    <tr>\n",
       "      <th>595</th>\n",
       "      <td>Rice Basmati Wand : 5 kgs</td>\n",
       "      <td>Local/Unknown</td>\n",
       "      <td>800.0</td>\n",
       "      <td>526.0</td>\n",
       "      <td>DMart Grocery</td>\n",
       "      <td>Rice &amp; Rice Products</td>\n",
       "      <td>5 kg</td>\n",
       "      <td>IngredientsRiceStorageStore in a cool and dry ...</td>\n",
       "      <td>34</td>\n",
       "    </tr>\n",
       "    <tr>\n",
       "      <th>597</th>\n",
       "      <td>Mogra Basmati Rice</td>\n",
       "      <td>Local/Unknown</td>\n",
       "      <td>72.0</td>\n",
       "      <td>61.0</td>\n",
       "      <td>DMart Grocery</td>\n",
       "      <td>Rice &amp; Rice Products</td>\n",
       "      <td>1 kg</td>\n",
       "      <td>OverviewThe fine long grains and the aromatic ...</td>\n",
       "      <td>15</td>\n",
       "    </tr>\n",
       "    <tr>\n",
       "      <th>605</th>\n",
       "      <td>Wada Kolam Rice</td>\n",
       "      <td>Local/Unknown</td>\n",
       "      <td>850.0</td>\n",
       "      <td>615.0</td>\n",
       "      <td>DMart Grocery</td>\n",
       "      <td>Rice &amp; Rice Products</td>\n",
       "      <td>10 kg</td>\n",
       "      <td>IngredientsRiceStorageStore in a cool, dry, an...</td>\n",
       "      <td>27</td>\n",
       "    </tr>\n",
       "    <tr>\n",
       "      <th>606</th>\n",
       "      <td>Wada Kolam Rice</td>\n",
       "      <td>Local/Unknown</td>\n",
       "      <td>78.0</td>\n",
       "      <td>67.0</td>\n",
       "      <td>DMart Grocery</td>\n",
       "      <td>Rice &amp; Rice Products</td>\n",
       "      <td>1 kg</td>\n",
       "      <td>OverviewWada Kolam Rice is used extensively in...</td>\n",
       "      <td>14</td>\n",
       "    </tr>\n",
       "    <tr>\n",
       "      <th>607</th>\n",
       "      <td>Wada Kolam Rice</td>\n",
       "      <td>Local/Unknown</td>\n",
       "      <td>500.0</td>\n",
       "      <td>325.0</td>\n",
       "      <td>DMart Grocery</td>\n",
       "      <td>Rice &amp; Rice Products</td>\n",
       "      <td>5 kg</td>\n",
       "      <td>IngredientsRiceStorage InstructionsStore in co...</td>\n",
       "      <td>35</td>\n",
       "    </tr>\n",
       "    <tr>\n",
       "      <th>608</th>\n",
       "      <td>Silky Kolam Rice</td>\n",
       "      <td>Local/Unknown</td>\n",
       "      <td>460.0</td>\n",
       "      <td>279.0</td>\n",
       "      <td>DMart Grocery</td>\n",
       "      <td>Rice &amp; Rice Products</td>\n",
       "      <td>5 kg</td>\n",
       "      <td>Overview:Kolam is a medium-size rice grain ran...</td>\n",
       "      <td>39</td>\n",
       "    </tr>\n",
       "    <tr>\n",
       "      <th>609</th>\n",
       "      <td>Silky Kolam Rice</td>\n",
       "      <td>Local/Unknown</td>\n",
       "      <td>69.0</td>\n",
       "      <td>60.0</td>\n",
       "      <td>DMart Grocery</td>\n",
       "      <td>Rice &amp; Rice Products</td>\n",
       "      <td>1 kg</td>\n",
       "      <td>Overview:Kolam is a medium-size rice grain ran...</td>\n",
       "      <td>13</td>\n",
       "    </tr>\n",
       "    <tr>\n",
       "      <th>610</th>\n",
       "      <td>HMT Kolam Rice</td>\n",
       "      <td>Local/Unknown</td>\n",
       "      <td>67.0</td>\n",
       "      <td>58.0</td>\n",
       "      <td>DMart Grocery</td>\n",
       "      <td>Rice &amp; Rice Products</td>\n",
       "      <td>1 kg</td>\n",
       "      <td>Overview:Short grained rice for everyday cooki...</td>\n",
       "      <td>13</td>\n",
       "    </tr>\n",
       "    <tr>\n",
       "      <th>611</th>\n",
       "      <td>HMT Kolam Rice</td>\n",
       "      <td>Local/Unknown</td>\n",
       "      <td>410.0</td>\n",
       "      <td>263.0</td>\n",
       "      <td>DMart Grocery</td>\n",
       "      <td>Rice &amp; Rice Products</td>\n",
       "      <td>5 kg</td>\n",
       "      <td>Overview:Short grained rice for everyday cooki...</td>\n",
       "      <td>35</td>\n",
       "    </tr>\n",
       "    <tr>\n",
       "      <th>612</th>\n",
       "      <td>HMT Kolam Rice</td>\n",
       "      <td>Local/Unknown</td>\n",
       "      <td>700.0</td>\n",
       "      <td>495.0</td>\n",
       "      <td>DMart Grocery</td>\n",
       "      <td>Rice &amp; Rice Products</td>\n",
       "      <td>10 kg</td>\n",
       "      <td>Note : Available colour will be dispatched bas...</td>\n",
       "      <td>29</td>\n",
       "    </tr>\n",
       "    <tr>\n",
       "      <th>613</th>\n",
       "      <td>Eco Kolam Jirasar Sorted Rice</td>\n",
       "      <td>Local/Unknown</td>\n",
       "      <td>260.0</td>\n",
       "      <td>240.0</td>\n",
       "      <td>DMart Grocery</td>\n",
       "      <td>Rice &amp; Rice Products</td>\n",
       "      <td>5 kg</td>\n",
       "      <td>IngredientsRiceStorage InstructionsPlease keep...</td>\n",
       "      <td>7</td>\n",
       "    </tr>\n",
       "    <tr>\n",
       "      <th>614</th>\n",
       "      <td>Eco Kolam Jirasar Sorted Rice</td>\n",
       "      <td>Local/Unknown</td>\n",
       "      <td>550.0</td>\n",
       "      <td>425.0</td>\n",
       "      <td>DMart Grocery</td>\n",
       "      <td>Rice &amp; Rice Products</td>\n",
       "      <td>10 kg</td>\n",
       "      <td>IngredientsRiceStorage InstructionsPlease keep...</td>\n",
       "      <td>22</td>\n",
       "    </tr>\n",
       "    <tr>\n",
       "      <th>853</th>\n",
       "      <td>Premia Goda Masala</td>\n",
       "      <td>Premia</td>\n",
       "      <td>28.0</td>\n",
       "      <td>19.0</td>\n",
       "      <td>DMart Grocery</td>\n",
       "      <td>DMart Grocery</td>\n",
       "      <td>100 gm</td>\n",
       "      <td>Storage Condition Store in dry and Hygienic Pl...</td>\n",
       "      <td>32</td>\n",
       "    </tr>\n",
       "    <tr>\n",
       "      <th>854</th>\n",
       "      <td>Premia Akrod Whole</td>\n",
       "      <td>Local/Unknown</td>\n",
       "      <td>193.0</td>\n",
       "      <td>148.0</td>\n",
       "      <td>DMart Grocery</td>\n",
       "      <td>DMart Grocery</td>\n",
       "      <td>200 gm</td>\n",
       "      <td>While we work to ensure that the product infor...</td>\n",
       "      <td>23</td>\n",
       "    </tr>\n",
       "    <tr>\n",
       "      <th>856</th>\n",
       "      <td>Shree Annapurna Jaggery Powder</td>\n",
       "      <td>Annapurna</td>\n",
       "      <td>100.0</td>\n",
       "      <td>50.0</td>\n",
       "      <td>DMart Grocery</td>\n",
       "      <td>DMart Grocery</td>\n",
       "      <td>1 Kg</td>\n",
       "      <td>Any Other Must-Know InformationAfter opening t...</td>\n",
       "      <td>50</td>\n",
       "    </tr>\n",
       "    <tr>\n",
       "      <th>857</th>\n",
       "      <td>GB Surti Kolam Sorted Rice</td>\n",
       "      <td>Local/Unknown</td>\n",
       "      <td>510.0</td>\n",
       "      <td>315.0</td>\n",
       "      <td>DMart Grocery</td>\n",
       "      <td>Rice &amp; Rice Products</td>\n",
       "      <td>5 kg</td>\n",
       "      <td>While we work to ensure that the product infor...</td>\n",
       "      <td>38</td>\n",
       "    </tr>\n",
       "    <tr>\n",
       "      <th>5048</th>\n",
       "      <td>MP Sihore Wheat</td>\n",
       "      <td>Local/Unknown</td>\n",
       "      <td>350.0</td>\n",
       "      <td>260.0</td>\n",
       "      <td>DMart Grocery</td>\n",
       "      <td>DMart Grocery</td>\n",
       "      <td>5 kg</td>\n",
       "      <td>OverviewHigh quality wheat grains that you can...</td>\n",
       "      <td>25</td>\n",
       "    </tr>\n",
       "    <tr>\n",
       "      <th>5049</th>\n",
       "      <td>MP Sihore Wheat</td>\n",
       "      <td>Local/Unknown</td>\n",
       "      <td>570.0</td>\n",
       "      <td>370.0</td>\n",
       "      <td>DMart Grocery</td>\n",
       "      <td>DMart Grocery</td>\n",
       "      <td>10 kg</td>\n",
       "      <td>OverviewHigh quality wheat grains that you can...</td>\n",
       "      <td>35</td>\n",
       "    </tr>\n",
       "    <tr>\n",
       "      <th>5050</th>\n",
       "      <td>Maida</td>\n",
       "      <td>Local/Unknown</td>\n",
       "      <td>26.0</td>\n",
       "      <td>22.0</td>\n",
       "      <td>DMart Grocery</td>\n",
       "      <td>DMart Grocery</td>\n",
       "      <td>500 gm</td>\n",
       "      <td>India</td>\n",
       "      <td>15</td>\n",
       "    </tr>\n",
       "    <tr>\n",
       "      <th>5051</th>\n",
       "      <td>Maida</td>\n",
       "      <td>Local/Unknown</td>\n",
       "      <td>49.0</td>\n",
       "      <td>39.0</td>\n",
       "      <td>DMart Grocery</td>\n",
       "      <td>DMart Grocery</td>\n",
       "      <td>1 kg</td>\n",
       "      <td>India</td>\n",
       "      <td>20</td>\n",
       "    </tr>\n",
       "    <tr>\n",
       "      <th>5052</th>\n",
       "      <td>Jawar (Sorghum) Solapur</td>\n",
       "      <td>Local/Unknown</td>\n",
       "      <td>75.0</td>\n",
       "      <td>60.0</td>\n",
       "      <td>DMart Grocery</td>\n",
       "      <td>DMart Grocery</td>\n",
       "      <td>1 kg</td>\n",
       "      <td>Overview:Richest source of vitamin b6, ribofla...</td>\n",
       "      <td>20</td>\n",
       "    </tr>\n",
       "    <tr>\n",
       "      <th>5055</th>\n",
       "      <td>Bhagar</td>\n",
       "      <td>Local/Unknown</td>\n",
       "      <td>93.0</td>\n",
       "      <td>76.0</td>\n",
       "      <td>DMart Grocery</td>\n",
       "      <td>Rice &amp; Rice Products</td>\n",
       "      <td>500 gm</td>\n",
       "      <td>India</td>\n",
       "      <td>18</td>\n",
       "    </tr>\n",
       "    <tr>\n",
       "      <th>5057</th>\n",
       "      <td>Idli Rava</td>\n",
       "      <td>Local/Unknown</td>\n",
       "      <td>26.0</td>\n",
       "      <td>22.0</td>\n",
       "      <td>DMart Grocery</td>\n",
       "      <td>DMart Grocery</td>\n",
       "      <td>500 gm</td>\n",
       "      <td>India</td>\n",
       "      <td>15</td>\n",
       "    </tr>\n",
       "    <tr>\n",
       "      <th>5058</th>\n",
       "      <td>Idli Rava</td>\n",
       "      <td>Local/Unknown</td>\n",
       "      <td>51.0</td>\n",
       "      <td>45.0</td>\n",
       "      <td>DMart Grocery</td>\n",
       "      <td>DMart Grocery</td>\n",
       "      <td>1 kg</td>\n",
       "      <td>India</td>\n",
       "      <td>11</td>\n",
       "    </tr>\n",
       "  </tbody>\n",
       "</table>\n",
       "</div>"
      ],
      "text/plain": [
       "                                  Name          Brand  Price  DiscountedPrice  \\\n",
       "559                 Basmati Rice Mogra  Local/Unknown  375.0            289.0   \n",
       "560                 Basmati Rice Mogra  Local/Unknown  750.0            549.0   \n",
       "566                 Rice Pulav Basmati  Local/Unknown  500.0            398.0   \n",
       "569   Basmati Rice Mini Mogra (Broken)  Local/Unknown  650.0            440.0   \n",
       "575                       Rice Basmati  Local/Unknown  140.0            115.0   \n",
       "585                       Biryani Rice  Local/Unknown  700.0            505.0   \n",
       "588                 Rice Tibar Basmati  Local/Unknown  650.0            452.0   \n",
       "595          Rice Basmati Wand : 5 kgs  Local/Unknown  800.0            526.0   \n",
       "597                 Mogra Basmati Rice  Local/Unknown   72.0             61.0   \n",
       "605                    Wada Kolam Rice  Local/Unknown  850.0            615.0   \n",
       "606                    Wada Kolam Rice  Local/Unknown   78.0             67.0   \n",
       "607                    Wada Kolam Rice  Local/Unknown  500.0            325.0   \n",
       "608                   Silky Kolam Rice  Local/Unknown  460.0            279.0   \n",
       "609                   Silky Kolam Rice  Local/Unknown   69.0             60.0   \n",
       "610                     HMT Kolam Rice  Local/Unknown   67.0             58.0   \n",
       "611                     HMT Kolam Rice  Local/Unknown  410.0            263.0   \n",
       "612                     HMT Kolam Rice  Local/Unknown  700.0            495.0   \n",
       "613      Eco Kolam Jirasar Sorted Rice  Local/Unknown  260.0            240.0   \n",
       "614      Eco Kolam Jirasar Sorted Rice  Local/Unknown  550.0            425.0   \n",
       "853                 Premia Goda Masala         Premia   28.0             19.0   \n",
       "854                 Premia Akrod Whole  Local/Unknown  193.0            148.0   \n",
       "856     Shree Annapurna Jaggery Powder      Annapurna  100.0             50.0   \n",
       "857         GB Surti Kolam Sorted Rice  Local/Unknown  510.0            315.0   \n",
       "5048                   MP Sihore Wheat  Local/Unknown  350.0            260.0   \n",
       "5049                   MP Sihore Wheat  Local/Unknown  570.0            370.0   \n",
       "5050                             Maida  Local/Unknown   26.0             22.0   \n",
       "5051                             Maida  Local/Unknown   49.0             39.0   \n",
       "5052           Jawar (Sorghum) Solapur  Local/Unknown   75.0             60.0   \n",
       "5055                            Bhagar  Local/Unknown   93.0             76.0   \n",
       "5057                         Idli Rava  Local/Unknown   26.0             22.0   \n",
       "5058                         Idli Rava  Local/Unknown   51.0             45.0   \n",
       "\n",
       "           Category           SubCategory Quantity  \\\n",
       "559   DMart Grocery  Rice & Rice Products     5 kg   \n",
       "560   DMart Grocery  Rice & Rice Products    10 kg   \n",
       "566   DMart Grocery  Rice & Rice Products     5 kg   \n",
       "569   DMart Grocery  Rice & Rice Products    10 kg   \n",
       "575   DMart Grocery  Rice & Rice Products     1 kg   \n",
       "585   DMart Grocery  Rice & Rice Products     5 kg   \n",
       "588   DMart Grocery  Rice & Rice Products     5 kg   \n",
       "595   DMart Grocery  Rice & Rice Products     5 kg   \n",
       "597   DMart Grocery  Rice & Rice Products     1 kg   \n",
       "605   DMart Grocery  Rice & Rice Products    10 kg   \n",
       "606   DMart Grocery  Rice & Rice Products     1 kg   \n",
       "607   DMart Grocery  Rice & Rice Products     5 kg   \n",
       "608   DMart Grocery  Rice & Rice Products     5 kg   \n",
       "609   DMart Grocery  Rice & Rice Products     1 kg   \n",
       "610   DMart Grocery  Rice & Rice Products     1 kg   \n",
       "611   DMart Grocery  Rice & Rice Products     5 kg   \n",
       "612   DMart Grocery  Rice & Rice Products    10 kg   \n",
       "613   DMart Grocery  Rice & Rice Products     5 kg   \n",
       "614   DMart Grocery  Rice & Rice Products    10 kg   \n",
       "853   DMart Grocery         DMart Grocery   100 gm   \n",
       "854   DMart Grocery         DMart Grocery   200 gm   \n",
       "856   DMart Grocery         DMart Grocery     1 Kg   \n",
       "857   DMart Grocery  Rice & Rice Products     5 kg   \n",
       "5048  DMart Grocery         DMart Grocery     5 kg   \n",
       "5049  DMart Grocery         DMart Grocery    10 kg   \n",
       "5050  DMart Grocery         DMart Grocery   500 gm   \n",
       "5051  DMart Grocery         DMart Grocery     1 kg   \n",
       "5052  DMart Grocery         DMart Grocery     1 kg   \n",
       "5055  DMart Grocery  Rice & Rice Products   500 gm   \n",
       "5057  DMart Grocery         DMart Grocery   500 gm   \n",
       "5058  DMart Grocery         DMart Grocery     1 kg   \n",
       "\n",
       "                                            Description  DiscountPercent  \n",
       "559   IngredientsRiceStorage ConditionStore in a coo...               22  \n",
       "560   Basmati Rice is classified according to its gr...               26  \n",
       "566   StorageStore in a cool, dry, and hygienic plac...               20  \n",
       "569   IngredientsRiceBasmati Rice is classified acco...               32  \n",
       "575   Basmati Rice is classified according to its gr...               17  \n",
       "585   IngredientsRiceBasmati Rice is classified acco...               27  \n",
       "588   StorageStore in a cool, dry and hygienic place...               30  \n",
       "595   IngredientsRiceStorageStore in a cool and dry ...               34  \n",
       "597   OverviewThe fine long grains and the aromatic ...               15  \n",
       "605   IngredientsRiceStorageStore in a cool, dry, an...               27  \n",
       "606   OverviewWada Kolam Rice is used extensively in...               14  \n",
       "607   IngredientsRiceStorage InstructionsStore in co...               35  \n",
       "608   Overview:Kolam is a medium-size rice grain ran...               39  \n",
       "609   Overview:Kolam is a medium-size rice grain ran...               13  \n",
       "610   Overview:Short grained rice for everyday cooki...               13  \n",
       "611   Overview:Short grained rice for everyday cooki...               35  \n",
       "612   Note : Available colour will be dispatched bas...               29  \n",
       "613   IngredientsRiceStorage InstructionsPlease keep...                7  \n",
       "614   IngredientsRiceStorage InstructionsPlease keep...               22  \n",
       "853   Storage Condition Store in dry and Hygienic Pl...               32  \n",
       "854   While we work to ensure that the product infor...               23  \n",
       "856   Any Other Must-Know InformationAfter opening t...               50  \n",
       "857   While we work to ensure that the product infor...               38  \n",
       "5048  OverviewHigh quality wheat grains that you can...               25  \n",
       "5049  OverviewHigh quality wheat grains that you can...               35  \n",
       "5050                                              India               15  \n",
       "5051                                              India               20  \n",
       "5052  Overview:Richest source of vitamin b6, ribofla...               20  \n",
       "5055                                              India               18  \n",
       "5057                                              India               15  \n",
       "5058                                              India               11  "
      ]
     },
     "execution_count": 62,
     "metadata": {},
     "output_type": "execute_result"
    }
   ],
   "source": [
    "df[df['Category']=='DMart Grocery']"
   ]
  },
  {
   "cell_type": "markdown",
   "id": "2453e7a0",
   "metadata": {
    "papermill": {
     "duration": 0.0453,
     "end_time": "2022-08-23T07:04:39.591322",
     "exception": false,
     "start_time": "2022-08-23T07:04:39.546022",
     "status": "completed"
    },
    "tags": []
   },
   "source": [
    "**We can clearly observe that DMart Groceries mainly contains Wheat,Rice,Rava and Maida**\n",
    "\n",
    "*We will Compare the Rice & Rice Products for Dmart Grceries and normal Groceries*"
   ]
  },
  {
   "cell_type": "code",
   "execution_count": 63,
   "id": "b0ce7554",
   "metadata": {
    "execution": {
     "iopub.execute_input": "2022-08-23T07:04:39.687248Z",
     "iopub.status.busy": "2022-08-23T07:04:39.686198Z",
     "iopub.status.idle": "2022-08-23T07:04:39.714155Z",
     "shell.execute_reply": "2022-08-23T07:04:39.712813Z"
    },
    "papermill": {
     "duration": 0.079412,
     "end_time": "2022-08-23T07:04:39.717017",
     "exception": false,
     "start_time": "2022-08-23T07:04:39.637605",
     "status": "completed"
    },
    "tags": []
   },
   "outputs": [
    {
     "data": {
      "text/html": [
       "<div>\n",
       "<style scoped>\n",
       "    .dataframe tbody tr th:only-of-type {\n",
       "        vertical-align: middle;\n",
       "    }\n",
       "\n",
       "    .dataframe tbody tr th {\n",
       "        vertical-align: top;\n",
       "    }\n",
       "\n",
       "    .dataframe thead th {\n",
       "        text-align: right;\n",
       "    }\n",
       "</style>\n",
       "<table border=\"1\" class=\"dataframe\">\n",
       "  <thead>\n",
       "    <tr style=\"text-align: right;\">\n",
       "      <th></th>\n",
       "      <th>Name</th>\n",
       "      <th>Brand</th>\n",
       "      <th>Price</th>\n",
       "      <th>DiscountedPrice</th>\n",
       "      <th>Category</th>\n",
       "      <th>SubCategory</th>\n",
       "      <th>Quantity</th>\n",
       "      <th>Description</th>\n",
       "      <th>DiscountPercent</th>\n",
       "    </tr>\n",
       "  </thead>\n",
       "  <tbody>\n",
       "    <tr>\n",
       "      <th>237</th>\n",
       "      <td>Premia Poha Jada</td>\n",
       "      <td>Premia</td>\n",
       "      <td>64.0</td>\n",
       "      <td>52.0</td>\n",
       "      <td>Grocery</td>\n",
       "      <td>Rice &amp; Rice Products</td>\n",
       "      <td>1 kg</td>\n",
       "      <td>IngredientsRice FlakesStorageStore in a cool a...</td>\n",
       "      <td>18</td>\n",
       "    </tr>\n",
       "    <tr>\n",
       "      <th>238</th>\n",
       "      <td>Premia Poha Jada</td>\n",
       "      <td>Premia</td>\n",
       "      <td>33.0</td>\n",
       "      <td>27.0</td>\n",
       "      <td>Grocery</td>\n",
       "      <td>Rice &amp; Rice Products</td>\n",
       "      <td>500 gm</td>\n",
       "      <td>India</td>\n",
       "      <td>18</td>\n",
       "    </tr>\n",
       "    <tr>\n",
       "      <th>265</th>\n",
       "      <td>Mamra (Puffed Rice)</td>\n",
       "      <td>Local/Unknown</td>\n",
       "      <td>60.0</td>\n",
       "      <td>40.0</td>\n",
       "      <td>Grocery</td>\n",
       "      <td>Rice &amp; Rice Products</td>\n",
       "      <td>500 gm</td>\n",
       "      <td>Key Features - Well Cleaned - Healthy and Tast...</td>\n",
       "      <td>33</td>\n",
       "    </tr>\n",
       "    <tr>\n",
       "      <th>282</th>\n",
       "      <td>Premia Poha Patla</td>\n",
       "      <td>Premia</td>\n",
       "      <td>37.0</td>\n",
       "      <td>30.0</td>\n",
       "      <td>Grocery</td>\n",
       "      <td>Rice &amp; Rice Products</td>\n",
       "      <td>500 gm</td>\n",
       "      <td>IngredientsRice FlakesStorageStore in a cool a...</td>\n",
       "      <td>18</td>\n",
       "    </tr>\n",
       "    <tr>\n",
       "      <th>295</th>\n",
       "      <td>Premia Poha Basmati</td>\n",
       "      <td>Premia</td>\n",
       "      <td>57.0</td>\n",
       "      <td>47.0</td>\n",
       "      <td>Grocery</td>\n",
       "      <td>Rice &amp; Rice Products</td>\n",
       "      <td>500 gm</td>\n",
       "      <td>IngredientsRice FlakesStorageStore in a cool a...</td>\n",
       "      <td>17</td>\n",
       "    </tr>\n",
       "    <tr>\n",
       "      <th>...</th>\n",
       "      <td>...</td>\n",
       "      <td>...</td>\n",
       "      <td>...</td>\n",
       "      <td>...</td>\n",
       "      <td>...</td>\n",
       "      <td>...</td>\n",
       "      <td>...</td>\n",
       "      <td>...</td>\n",
       "      <td>...</td>\n",
       "    </tr>\n",
       "    <tr>\n",
       "      <th>626</th>\n",
       "      <td>Red Rice</td>\n",
       "      <td>Local/Unknown</td>\n",
       "      <td>67.0</td>\n",
       "      <td>51.0</td>\n",
       "      <td>Grocery</td>\n",
       "      <td>Rice &amp; Rice Products</td>\n",
       "      <td>1 kg</td>\n",
       "      <td>India</td>\n",
       "      <td>23</td>\n",
       "    </tr>\n",
       "    <tr>\n",
       "      <th>627</th>\n",
       "      <td>Long Grain Rice</td>\n",
       "      <td>Local/Unknown</td>\n",
       "      <td>650.0</td>\n",
       "      <td>470.0</td>\n",
       "      <td>Grocery</td>\n",
       "      <td>Rice &amp; Rice Products</td>\n",
       "      <td>10 kg</td>\n",
       "      <td>Overview:High quality, long-grained rice to ma...</td>\n",
       "      <td>27</td>\n",
       "    </tr>\n",
       "    <tr>\n",
       "      <th>628</th>\n",
       "      <td>IR Boiled Rice</td>\n",
       "      <td>Local/Unknown</td>\n",
       "      <td>44.0</td>\n",
       "      <td>41.0</td>\n",
       "      <td>Grocery</td>\n",
       "      <td>Rice &amp; Rice Products</td>\n",
       "      <td>1 kg</td>\n",
       "      <td>India</td>\n",
       "      <td>6</td>\n",
       "    </tr>\n",
       "    <tr>\n",
       "      <th>629</th>\n",
       "      <td>Masoori Boiled Rice</td>\n",
       "      <td>Local/Unknown</td>\n",
       "      <td>51.0</td>\n",
       "      <td>42.0</td>\n",
       "      <td>Grocery</td>\n",
       "      <td>Rice &amp; Rice Products</td>\n",
       "      <td>1 kg</td>\n",
       "      <td>Overview:An everyday rice, masoori boiled rice...</td>\n",
       "      <td>17</td>\n",
       "    </tr>\n",
       "    <tr>\n",
       "      <th>630</th>\n",
       "      <td>Satyam Sama</td>\n",
       "      <td>Satyam</td>\n",
       "      <td>100.0</td>\n",
       "      <td>93.0</td>\n",
       "      <td>Grocery</td>\n",
       "      <td>Rice &amp; Rice Products</td>\n",
       "      <td>500 gm</td>\n",
       "      <td>Overview:Sama millets or Barnyard millets are ...</td>\n",
       "      <td>7</td>\n",
       "    </tr>\n",
       "  </tbody>\n",
       "</table>\n",
       "<p>70 rows × 9 columns</p>\n",
       "</div>"
      ],
      "text/plain": [
       "                    Name          Brand  Price  DiscountedPrice Category  \\\n",
       "237     Premia Poha Jada         Premia   64.0             52.0  Grocery   \n",
       "238     Premia Poha Jada         Premia   33.0             27.0  Grocery   \n",
       "265  Mamra (Puffed Rice)  Local/Unknown   60.0             40.0  Grocery   \n",
       "282    Premia Poha Patla         Premia   37.0             30.0  Grocery   \n",
       "295  Premia Poha Basmati         Premia   57.0             47.0  Grocery   \n",
       "..                   ...            ...    ...              ...      ...   \n",
       "626             Red Rice  Local/Unknown   67.0             51.0  Grocery   \n",
       "627      Long Grain Rice  Local/Unknown  650.0            470.0  Grocery   \n",
       "628       IR Boiled Rice  Local/Unknown   44.0             41.0  Grocery   \n",
       "629  Masoori Boiled Rice  Local/Unknown   51.0             42.0  Grocery   \n",
       "630          Satyam Sama         Satyam  100.0             93.0  Grocery   \n",
       "\n",
       "              SubCategory Quantity  \\\n",
       "237  Rice & Rice Products     1 kg   \n",
       "238  Rice & Rice Products   500 gm   \n",
       "265  Rice & Rice Products   500 gm   \n",
       "282  Rice & Rice Products   500 gm   \n",
       "295  Rice & Rice Products   500 gm   \n",
       "..                    ...      ...   \n",
       "626  Rice & Rice Products     1 kg   \n",
       "627  Rice & Rice Products    10 kg   \n",
       "628  Rice & Rice Products     1 kg   \n",
       "629  Rice & Rice Products     1 kg   \n",
       "630  Rice & Rice Products   500 gm   \n",
       "\n",
       "                                           Description  DiscountPercent  \n",
       "237  IngredientsRice FlakesStorageStore in a cool a...               18  \n",
       "238                                              India               18  \n",
       "265  Key Features - Well Cleaned - Healthy and Tast...               33  \n",
       "282  IngredientsRice FlakesStorageStore in a cool a...               18  \n",
       "295  IngredientsRice FlakesStorageStore in a cool a...               17  \n",
       "..                                                 ...              ...  \n",
       "626                                              India               23  \n",
       "627  Overview:High quality, long-grained rice to ma...               27  \n",
       "628                                              India                6  \n",
       "629  Overview:An everyday rice, masoori boiled rice...               17  \n",
       "630  Overview:Sama millets or Barnyard millets are ...                7  \n",
       "\n",
       "[70 rows x 9 columns]"
      ]
     },
     "execution_count": 63,
     "metadata": {},
     "output_type": "execute_result"
    }
   ],
   "source": [
    "gro_Rice = df[(df['Category']=='Grocery')&(df['SubCategory']=='Rice & Rice Products')]\n",
    "gro_Rice"
   ]
  },
  {
   "cell_type": "code",
   "execution_count": 64,
   "id": "8b75217d",
   "metadata": {
    "execution": {
     "iopub.execute_input": "2022-08-23T07:04:39.813396Z",
     "iopub.status.busy": "2022-08-23T07:04:39.812440Z",
     "iopub.status.idle": "2022-08-23T07:04:39.838324Z",
     "shell.execute_reply": "2022-08-23T07:04:39.836968Z"
    },
    "papermill": {
     "duration": 0.077218,
     "end_time": "2022-08-23T07:04:39.841086",
     "exception": false,
     "start_time": "2022-08-23T07:04:39.763868",
     "status": "completed"
    },
    "tags": []
   },
   "outputs": [
    {
     "data": {
      "text/html": [
       "<div>\n",
       "<style scoped>\n",
       "    .dataframe tbody tr th:only-of-type {\n",
       "        vertical-align: middle;\n",
       "    }\n",
       "\n",
       "    .dataframe tbody tr th {\n",
       "        vertical-align: top;\n",
       "    }\n",
       "\n",
       "    .dataframe thead th {\n",
       "        text-align: right;\n",
       "    }\n",
       "</style>\n",
       "<table border=\"1\" class=\"dataframe\">\n",
       "  <thead>\n",
       "    <tr style=\"text-align: right;\">\n",
       "      <th></th>\n",
       "      <th>Name</th>\n",
       "      <th>Brand</th>\n",
       "      <th>Price</th>\n",
       "      <th>DiscountedPrice</th>\n",
       "      <th>Category</th>\n",
       "      <th>SubCategory</th>\n",
       "      <th>Quantity</th>\n",
       "      <th>Description</th>\n",
       "      <th>DiscountPercent</th>\n",
       "    </tr>\n",
       "  </thead>\n",
       "  <tbody>\n",
       "    <tr>\n",
       "      <th>559</th>\n",
       "      <td>Basmati Rice Mogra</td>\n",
       "      <td>Local/Unknown</td>\n",
       "      <td>375.0</td>\n",
       "      <td>289.0</td>\n",
       "      <td>DMart Grocery</td>\n",
       "      <td>Rice &amp; Rice Products</td>\n",
       "      <td>5 kg</td>\n",
       "      <td>IngredientsRiceStorage ConditionStore in a coo...</td>\n",
       "      <td>22</td>\n",
       "    </tr>\n",
       "    <tr>\n",
       "      <th>560</th>\n",
       "      <td>Basmati Rice Mogra</td>\n",
       "      <td>Local/Unknown</td>\n",
       "      <td>750.0</td>\n",
       "      <td>549.0</td>\n",
       "      <td>DMart Grocery</td>\n",
       "      <td>Rice &amp; Rice Products</td>\n",
       "      <td>10 kg</td>\n",
       "      <td>Basmati Rice is classified according to its gr...</td>\n",
       "      <td>26</td>\n",
       "    </tr>\n",
       "    <tr>\n",
       "      <th>566</th>\n",
       "      <td>Rice Pulav Basmati</td>\n",
       "      <td>Local/Unknown</td>\n",
       "      <td>500.0</td>\n",
       "      <td>398.0</td>\n",
       "      <td>DMart Grocery</td>\n",
       "      <td>Rice &amp; Rice Products</td>\n",
       "      <td>5 kg</td>\n",
       "      <td>StorageStore in a cool, dry, and hygienic plac...</td>\n",
       "      <td>20</td>\n",
       "    </tr>\n",
       "    <tr>\n",
       "      <th>569</th>\n",
       "      <td>Basmati Rice Mini Mogra (Broken)</td>\n",
       "      <td>Local/Unknown</td>\n",
       "      <td>650.0</td>\n",
       "      <td>440.0</td>\n",
       "      <td>DMart Grocery</td>\n",
       "      <td>Rice &amp; Rice Products</td>\n",
       "      <td>10 kg</td>\n",
       "      <td>IngredientsRiceBasmati Rice is classified acco...</td>\n",
       "      <td>32</td>\n",
       "    </tr>\n",
       "    <tr>\n",
       "      <th>575</th>\n",
       "      <td>Rice Basmati</td>\n",
       "      <td>Local/Unknown</td>\n",
       "      <td>140.0</td>\n",
       "      <td>115.0</td>\n",
       "      <td>DMart Grocery</td>\n",
       "      <td>Rice &amp; Rice Products</td>\n",
       "      <td>1 kg</td>\n",
       "      <td>Basmati Rice is classified according to its gr...</td>\n",
       "      <td>17</td>\n",
       "    </tr>\n",
       "    <tr>\n",
       "      <th>585</th>\n",
       "      <td>Biryani Rice</td>\n",
       "      <td>Local/Unknown</td>\n",
       "      <td>700.0</td>\n",
       "      <td>505.0</td>\n",
       "      <td>DMart Grocery</td>\n",
       "      <td>Rice &amp; Rice Products</td>\n",
       "      <td>5 kg</td>\n",
       "      <td>IngredientsRiceBasmati Rice is classified acco...</td>\n",
       "      <td>27</td>\n",
       "    </tr>\n",
       "    <tr>\n",
       "      <th>588</th>\n",
       "      <td>Rice Tibar Basmati</td>\n",
       "      <td>Local/Unknown</td>\n",
       "      <td>650.0</td>\n",
       "      <td>452.0</td>\n",
       "      <td>DMart Grocery</td>\n",
       "      <td>Rice &amp; Rice Products</td>\n",
       "      <td>5 kg</td>\n",
       "      <td>StorageStore in a cool, dry and hygienic place...</td>\n",
       "      <td>30</td>\n",
       "    </tr>\n",
       "    <tr>\n",
       "      <th>595</th>\n",
       "      <td>Rice Basmati Wand : 5 kgs</td>\n",
       "      <td>Local/Unknown</td>\n",
       "      <td>800.0</td>\n",
       "      <td>526.0</td>\n",
       "      <td>DMart Grocery</td>\n",
       "      <td>Rice &amp; Rice Products</td>\n",
       "      <td>5 kg</td>\n",
       "      <td>IngredientsRiceStorageStore in a cool and dry ...</td>\n",
       "      <td>34</td>\n",
       "    </tr>\n",
       "    <tr>\n",
       "      <th>597</th>\n",
       "      <td>Mogra Basmati Rice</td>\n",
       "      <td>Local/Unknown</td>\n",
       "      <td>72.0</td>\n",
       "      <td>61.0</td>\n",
       "      <td>DMart Grocery</td>\n",
       "      <td>Rice &amp; Rice Products</td>\n",
       "      <td>1 kg</td>\n",
       "      <td>OverviewThe fine long grains and the aromatic ...</td>\n",
       "      <td>15</td>\n",
       "    </tr>\n",
       "    <tr>\n",
       "      <th>605</th>\n",
       "      <td>Wada Kolam Rice</td>\n",
       "      <td>Local/Unknown</td>\n",
       "      <td>850.0</td>\n",
       "      <td>615.0</td>\n",
       "      <td>DMart Grocery</td>\n",
       "      <td>Rice &amp; Rice Products</td>\n",
       "      <td>10 kg</td>\n",
       "      <td>IngredientsRiceStorageStore in a cool, dry, an...</td>\n",
       "      <td>27</td>\n",
       "    </tr>\n",
       "    <tr>\n",
       "      <th>606</th>\n",
       "      <td>Wada Kolam Rice</td>\n",
       "      <td>Local/Unknown</td>\n",
       "      <td>78.0</td>\n",
       "      <td>67.0</td>\n",
       "      <td>DMart Grocery</td>\n",
       "      <td>Rice &amp; Rice Products</td>\n",
       "      <td>1 kg</td>\n",
       "      <td>OverviewWada Kolam Rice is used extensively in...</td>\n",
       "      <td>14</td>\n",
       "    </tr>\n",
       "    <tr>\n",
       "      <th>607</th>\n",
       "      <td>Wada Kolam Rice</td>\n",
       "      <td>Local/Unknown</td>\n",
       "      <td>500.0</td>\n",
       "      <td>325.0</td>\n",
       "      <td>DMart Grocery</td>\n",
       "      <td>Rice &amp; Rice Products</td>\n",
       "      <td>5 kg</td>\n",
       "      <td>IngredientsRiceStorage InstructionsStore in co...</td>\n",
       "      <td>35</td>\n",
       "    </tr>\n",
       "    <tr>\n",
       "      <th>608</th>\n",
       "      <td>Silky Kolam Rice</td>\n",
       "      <td>Local/Unknown</td>\n",
       "      <td>460.0</td>\n",
       "      <td>279.0</td>\n",
       "      <td>DMart Grocery</td>\n",
       "      <td>Rice &amp; Rice Products</td>\n",
       "      <td>5 kg</td>\n",
       "      <td>Overview:Kolam is a medium-size rice grain ran...</td>\n",
       "      <td>39</td>\n",
       "    </tr>\n",
       "    <tr>\n",
       "      <th>609</th>\n",
       "      <td>Silky Kolam Rice</td>\n",
       "      <td>Local/Unknown</td>\n",
       "      <td>69.0</td>\n",
       "      <td>60.0</td>\n",
       "      <td>DMart Grocery</td>\n",
       "      <td>Rice &amp; Rice Products</td>\n",
       "      <td>1 kg</td>\n",
       "      <td>Overview:Kolam is a medium-size rice grain ran...</td>\n",
       "      <td>13</td>\n",
       "    </tr>\n",
       "    <tr>\n",
       "      <th>610</th>\n",
       "      <td>HMT Kolam Rice</td>\n",
       "      <td>Local/Unknown</td>\n",
       "      <td>67.0</td>\n",
       "      <td>58.0</td>\n",
       "      <td>DMart Grocery</td>\n",
       "      <td>Rice &amp; Rice Products</td>\n",
       "      <td>1 kg</td>\n",
       "      <td>Overview:Short grained rice for everyday cooki...</td>\n",
       "      <td>13</td>\n",
       "    </tr>\n",
       "    <tr>\n",
       "      <th>611</th>\n",
       "      <td>HMT Kolam Rice</td>\n",
       "      <td>Local/Unknown</td>\n",
       "      <td>410.0</td>\n",
       "      <td>263.0</td>\n",
       "      <td>DMart Grocery</td>\n",
       "      <td>Rice &amp; Rice Products</td>\n",
       "      <td>5 kg</td>\n",
       "      <td>Overview:Short grained rice for everyday cooki...</td>\n",
       "      <td>35</td>\n",
       "    </tr>\n",
       "    <tr>\n",
       "      <th>612</th>\n",
       "      <td>HMT Kolam Rice</td>\n",
       "      <td>Local/Unknown</td>\n",
       "      <td>700.0</td>\n",
       "      <td>495.0</td>\n",
       "      <td>DMart Grocery</td>\n",
       "      <td>Rice &amp; Rice Products</td>\n",
       "      <td>10 kg</td>\n",
       "      <td>Note : Available colour will be dispatched bas...</td>\n",
       "      <td>29</td>\n",
       "    </tr>\n",
       "    <tr>\n",
       "      <th>613</th>\n",
       "      <td>Eco Kolam Jirasar Sorted Rice</td>\n",
       "      <td>Local/Unknown</td>\n",
       "      <td>260.0</td>\n",
       "      <td>240.0</td>\n",
       "      <td>DMart Grocery</td>\n",
       "      <td>Rice &amp; Rice Products</td>\n",
       "      <td>5 kg</td>\n",
       "      <td>IngredientsRiceStorage InstructionsPlease keep...</td>\n",
       "      <td>7</td>\n",
       "    </tr>\n",
       "    <tr>\n",
       "      <th>614</th>\n",
       "      <td>Eco Kolam Jirasar Sorted Rice</td>\n",
       "      <td>Local/Unknown</td>\n",
       "      <td>550.0</td>\n",
       "      <td>425.0</td>\n",
       "      <td>DMart Grocery</td>\n",
       "      <td>Rice &amp; Rice Products</td>\n",
       "      <td>10 kg</td>\n",
       "      <td>IngredientsRiceStorage InstructionsPlease keep...</td>\n",
       "      <td>22</td>\n",
       "    </tr>\n",
       "    <tr>\n",
       "      <th>857</th>\n",
       "      <td>GB Surti Kolam Sorted Rice</td>\n",
       "      <td>Local/Unknown</td>\n",
       "      <td>510.0</td>\n",
       "      <td>315.0</td>\n",
       "      <td>DMart Grocery</td>\n",
       "      <td>Rice &amp; Rice Products</td>\n",
       "      <td>5 kg</td>\n",
       "      <td>While we work to ensure that the product infor...</td>\n",
       "      <td>38</td>\n",
       "    </tr>\n",
       "    <tr>\n",
       "      <th>5055</th>\n",
       "      <td>Bhagar</td>\n",
       "      <td>Local/Unknown</td>\n",
       "      <td>93.0</td>\n",
       "      <td>76.0</td>\n",
       "      <td>DMart Grocery</td>\n",
       "      <td>Rice &amp; Rice Products</td>\n",
       "      <td>500 gm</td>\n",
       "      <td>India</td>\n",
       "      <td>18</td>\n",
       "    </tr>\n",
       "  </tbody>\n",
       "</table>\n",
       "</div>"
      ],
      "text/plain": [
       "                                  Name          Brand  Price  DiscountedPrice  \\\n",
       "559                 Basmati Rice Mogra  Local/Unknown  375.0            289.0   \n",
       "560                 Basmati Rice Mogra  Local/Unknown  750.0            549.0   \n",
       "566                 Rice Pulav Basmati  Local/Unknown  500.0            398.0   \n",
       "569   Basmati Rice Mini Mogra (Broken)  Local/Unknown  650.0            440.0   \n",
       "575                       Rice Basmati  Local/Unknown  140.0            115.0   \n",
       "585                       Biryani Rice  Local/Unknown  700.0            505.0   \n",
       "588                 Rice Tibar Basmati  Local/Unknown  650.0            452.0   \n",
       "595          Rice Basmati Wand : 5 kgs  Local/Unknown  800.0            526.0   \n",
       "597                 Mogra Basmati Rice  Local/Unknown   72.0             61.0   \n",
       "605                    Wada Kolam Rice  Local/Unknown  850.0            615.0   \n",
       "606                    Wada Kolam Rice  Local/Unknown   78.0             67.0   \n",
       "607                    Wada Kolam Rice  Local/Unknown  500.0            325.0   \n",
       "608                   Silky Kolam Rice  Local/Unknown  460.0            279.0   \n",
       "609                   Silky Kolam Rice  Local/Unknown   69.0             60.0   \n",
       "610                     HMT Kolam Rice  Local/Unknown   67.0             58.0   \n",
       "611                     HMT Kolam Rice  Local/Unknown  410.0            263.0   \n",
       "612                     HMT Kolam Rice  Local/Unknown  700.0            495.0   \n",
       "613      Eco Kolam Jirasar Sorted Rice  Local/Unknown  260.0            240.0   \n",
       "614      Eco Kolam Jirasar Sorted Rice  Local/Unknown  550.0            425.0   \n",
       "857         GB Surti Kolam Sorted Rice  Local/Unknown  510.0            315.0   \n",
       "5055                            Bhagar  Local/Unknown   93.0             76.0   \n",
       "\n",
       "           Category           SubCategory Quantity  \\\n",
       "559   DMart Grocery  Rice & Rice Products     5 kg   \n",
       "560   DMart Grocery  Rice & Rice Products    10 kg   \n",
       "566   DMart Grocery  Rice & Rice Products     5 kg   \n",
       "569   DMart Grocery  Rice & Rice Products    10 kg   \n",
       "575   DMart Grocery  Rice & Rice Products     1 kg   \n",
       "585   DMart Grocery  Rice & Rice Products     5 kg   \n",
       "588   DMart Grocery  Rice & Rice Products     5 kg   \n",
       "595   DMart Grocery  Rice & Rice Products     5 kg   \n",
       "597   DMart Grocery  Rice & Rice Products     1 kg   \n",
       "605   DMart Grocery  Rice & Rice Products    10 kg   \n",
       "606   DMart Grocery  Rice & Rice Products     1 kg   \n",
       "607   DMart Grocery  Rice & Rice Products     5 kg   \n",
       "608   DMart Grocery  Rice & Rice Products     5 kg   \n",
       "609   DMart Grocery  Rice & Rice Products     1 kg   \n",
       "610   DMart Grocery  Rice & Rice Products     1 kg   \n",
       "611   DMart Grocery  Rice & Rice Products     5 kg   \n",
       "612   DMart Grocery  Rice & Rice Products    10 kg   \n",
       "613   DMart Grocery  Rice & Rice Products     5 kg   \n",
       "614   DMart Grocery  Rice & Rice Products    10 kg   \n",
       "857   DMart Grocery  Rice & Rice Products     5 kg   \n",
       "5055  DMart Grocery  Rice & Rice Products   500 gm   \n",
       "\n",
       "                                            Description  DiscountPercent  \n",
       "559   IngredientsRiceStorage ConditionStore in a coo...               22  \n",
       "560   Basmati Rice is classified according to its gr...               26  \n",
       "566   StorageStore in a cool, dry, and hygienic plac...               20  \n",
       "569   IngredientsRiceBasmati Rice is classified acco...               32  \n",
       "575   Basmati Rice is classified according to its gr...               17  \n",
       "585   IngredientsRiceBasmati Rice is classified acco...               27  \n",
       "588   StorageStore in a cool, dry and hygienic place...               30  \n",
       "595   IngredientsRiceStorageStore in a cool and dry ...               34  \n",
       "597   OverviewThe fine long grains and the aromatic ...               15  \n",
       "605   IngredientsRiceStorageStore in a cool, dry, an...               27  \n",
       "606   OverviewWada Kolam Rice is used extensively in...               14  \n",
       "607   IngredientsRiceStorage InstructionsStore in co...               35  \n",
       "608   Overview:Kolam is a medium-size rice grain ran...               39  \n",
       "609   Overview:Kolam is a medium-size rice grain ran...               13  \n",
       "610   Overview:Short grained rice for everyday cooki...               13  \n",
       "611   Overview:Short grained rice for everyday cooki...               35  \n",
       "612   Note : Available colour will be dispatched bas...               29  \n",
       "613   IngredientsRiceStorage InstructionsPlease keep...                7  \n",
       "614   IngredientsRiceStorage InstructionsPlease keep...               22  \n",
       "857   While we work to ensure that the product infor...               38  \n",
       "5055                                              India               18  "
      ]
     },
     "execution_count": 64,
     "metadata": {},
     "output_type": "execute_result"
    }
   ],
   "source": [
    "DMart_gro_Rice = df[(df['Category']=='DMart Grocery')&(df['SubCategory']=='Rice & Rice Products')]\n",
    "DMart_gro_Rice"
   ]
  },
  {
   "cell_type": "code",
   "execution_count": 65,
   "id": "42897301",
   "metadata": {
    "execution": {
     "iopub.execute_input": "2022-08-23T07:04:39.937840Z",
     "iopub.status.busy": "2022-08-23T07:04:39.937054Z",
     "iopub.status.idle": "2022-08-23T07:04:39.946927Z",
     "shell.execute_reply": "2022-08-23T07:04:39.945141Z"
    },
    "papermill": {
     "duration": 0.061792,
     "end_time": "2022-08-23T07:04:39.950133",
     "exception": false,
     "start_time": "2022-08-23T07:04:39.888341",
     "status": "completed"
    },
    "tags": []
   },
   "outputs": [
    {
     "name": "stdout",
     "output_type": "stream",
     "text": [
      "DMart Rice avg Price 437\n",
      "Other Rice avg Price 348\n",
      "DMart Rice avg Discount 24\n",
      "Other Rice avg Discount 22\n"
     ]
    }
   ],
   "source": [
    "print('DMart Rice avg Price', int(DMart_gro_Rice.Price.mean()))\n",
    "print('Other Rice avg Price', int(gro_Rice.Price.mean()))\n",
    "\n",
    "print('DMart Rice avg Discount', int(DMart_gro_Rice.DiscountPercent.mean()))\n",
    "print('Other Rice avg Discount', int(gro_Rice.DiscountPercent.mean()))"
   ]
  },
  {
   "cell_type": "code",
   "execution_count": 66,
   "id": "ec6d342b",
   "metadata": {
    "execution": {
     "iopub.execute_input": "2022-08-23T07:04:40.049920Z",
     "iopub.status.busy": "2022-08-23T07:04:40.049094Z",
     "iopub.status.idle": "2022-08-23T07:04:41.126631Z",
     "shell.execute_reply": "2022-08-23T07:04:41.125332Z"
    },
    "papermill": {
     "duration": 1.129629,
     "end_time": "2022-08-23T07:04:41.129948",
     "exception": false,
     "start_time": "2022-08-23T07:04:40.000319",
     "status": "completed"
    },
    "tags": []
   },
   "outputs": [],
   "source": [
    "text_gro_rice = \"\".join(t for t in gro_Rice['Description'])\n",
    "\n",
    "gr_wc = WordCloud(width = 1000,height=500,margin=5,colormap='gist_rainbow',background_color='white').generate(text_gro_rice)"
   ]
  },
  {
   "cell_type": "code",
   "execution_count": 67,
   "id": "7f1f6e6e",
   "metadata": {
    "execution": {
     "iopub.execute_input": "2022-08-23T07:04:41.226763Z",
     "iopub.status.busy": "2022-08-23T07:04:41.225993Z",
     "iopub.status.idle": "2022-08-23T07:04:41.672015Z",
     "shell.execute_reply": "2022-08-23T07:04:41.670878Z"
    },
    "papermill": {
     "duration": 0.497934,
     "end_time": "2022-08-23T07:04:41.675460",
     "exception": false,
     "start_time": "2022-08-23T07:04:41.177526",
     "status": "completed"
    },
    "tags": []
   },
   "outputs": [
    {
     "data": {
      "image/png": "[encoded data removed]",
      "text/plain": [
       "<Figure size 432x288 with 1 Axes>"
      ]
     },
     "metadata": {
      "needs_background": "light"
     },
     "output_type": "display_data"
    }
   ],
   "source": [
    "plt.imshow(gr_wc,interpolation='gaussian')\n",
    "plt.axis('off')\n",
    "plt.show()"
   ]
  },
  {
   "cell_type": "code",
   "execution_count": 68,
   "id": "cab53f91",
   "metadata": {
    "execution": {
     "iopub.execute_input": "2022-08-23T07:04:41.783529Z",
     "iopub.status.busy": "2022-08-23T07:04:41.782240Z",
     "iopub.status.idle": "2022-08-23T07:04:43.567616Z",
     "shell.execute_reply": "2022-08-23T07:04:43.566532Z"
    },
    "papermill": {
     "duration": 1.841579,
     "end_time": "2022-08-23T07:04:43.570353",
     "exception": false,
     "start_time": "2022-08-23T07:04:41.728774",
     "status": "completed"
    },
    "tags": []
   },
   "outputs": [
    {
     "data": {
      "image/png": "[encoded data removed]",
      "text/plain": [
       "<Figure size 432x288 with 1 Axes>"
      ]
     },
     "metadata": {
      "needs_background": "light"
     },
     "output_type": "display_data"
    }
   ],
   "source": [
    "text_dm_gro_rice = \"\".join(t for t in DMart_gro_Rice['Description'])\n",
    "\n",
    "dgr_wc = WordCloud(width = 1000,height=500,margin=5,colormap='gist_rainbow',background_color='white').generate(text_dm_gro_rice)\n",
    "\n",
    "plt.imshow(dgr_wc,interpolation='gaussian')\n",
    "plt.axis('off')\n",
    "plt.show()"
   ]
  },
  {
   "cell_type": "markdown",
   "id": "97ccc5f7",
   "metadata": {
    "papermill": {
     "duration": 0.050831,
     "end_time": "2022-08-23T07:04:43.673127",
     "exception": false,
     "start_time": "2022-08-23T07:04:43.622296",
     "status": "completed"
    },
    "tags": []
   },
   "source": [
    "**OverallObservation is this that DMart is focusing on hight quality rices like Kokam and Basmati and offereing greater Discount on them.**"
   ]
  },
  {
   "cell_type": "markdown",
   "id": "dbd88dca",
   "metadata": {
    "papermill": {
     "duration": 0.0517,
     "end_time": "2022-08-23T07:04:43.776906",
     "exception": false,
     "start_time": "2022-08-23T07:04:43.725206",
     "status": "completed"
    },
    "tags": []
   },
   "source": [
    "<h6 style=\"background-color:rgb(244,164,96);padding:8px 10px;border-radius:5px 25px 25px 5px;width:400px\">Brands per Category"
   ]
  },
  {
   "cell_type": "code",
   "execution_count": 69,
   "id": "5e530b24",
   "metadata": {
    "execution": {
     "iopub.execute_input": "2022-08-23T07:04:43.883334Z",
     "iopub.status.busy": "2022-08-23T07:04:43.882451Z",
     "iopub.status.idle": "2022-08-23T07:04:43.899077Z",
     "shell.execute_reply": "2022-08-23T07:04:43.898001Z"
    },
    "papermill": {
     "duration": 0.073258,
     "end_time": "2022-08-23T07:04:43.901515",
     "exception": false,
     "start_time": "2022-08-23T07:04:43.828257",
     "status": "completed"
    },
    "tags": []
   },
   "outputs": [
    {
     "data": {
      "text/plain": [
       "Category                       SubCategory                    Brand        \n",
       "Appliances                     Appliances                     Ambrane           2\n",
       "                                                              Duracell          2\n",
       "                                                              Geep              3\n",
       "                                                              Local/Unknown     1\n",
       "                                                              Panasonic         2\n",
       "                                                                               ..\n",
       "Specials                       Specials                       Wildcraft         1\n",
       "                                                              Wonderchef        2\n",
       "                                                              Zebronics         5\n",
       "Tableware                      Tableware                      Local/Unknown    18\n",
       "Water Purifiers & Accessories  Water Purifiers & Accessories  Local/Unknown     1\n",
       "Name: Brand, Length: 1213, dtype: int64"
      ]
     },
     "execution_count": 69,
     "metadata": {},
     "output_type": "execute_result"
    }
   ],
   "source": [
    "df.groupby(['Category','SubCategory','Brand'])['Brand'].count()"
   ]
  },
  {
   "cell_type": "markdown",
   "id": "6f7aa3ac",
   "metadata": {
    "papermill": {
     "duration": 0.051042,
     "end_time": "2022-08-23T07:04:44.004477",
     "exception": false,
     "start_time": "2022-08-23T07:04:43.953435",
     "status": "completed"
    },
    "tags": []
   },
   "source": [
    "**This is the list of Number of Brands in each category**"
   ]
  },
  {
   "cell_type": "markdown",
   "id": "f5623820",
   "metadata": {
    "papermill": {
     "duration": 0.050896,
     "end_time": "2022-08-23T07:04:44.106744",
     "exception": false,
     "start_time": "2022-08-23T07:04:44.055848",
     "status": "completed"
    },
    "tags": []
   },
   "source": [
    "<h3 style=\"background-color:rgb(244,164,96);padding:8px 10px;border-radius:5px 25px 25px 5px;width:400px\"> Clothing Category as it's my fav "
   ]
  },
  {
   "cell_type": "code",
   "execution_count": 70,
   "id": "bbdaef7f",
   "metadata": {
    "execution": {
     "iopub.execute_input": "2022-08-23T07:04:44.211925Z",
     "iopub.status.busy": "2022-08-23T07:04:44.210698Z",
     "iopub.status.idle": "2022-08-23T07:04:44.217613Z",
     "shell.execute_reply": "2022-08-23T07:04:44.216650Z"
    },
    "papermill": {
     "duration": 0.062231,
     "end_time": "2022-08-23T07:04:44.220312",
     "exception": false,
     "start_time": "2022-08-23T07:04:44.158081",
     "status": "completed"
    },
    "tags": []
   },
   "outputs": [],
   "source": [
    "clothing = df[df['Category']=='Clothing & Accessories']"
   ]
  },
  {
   "cell_type": "code",
   "execution_count": 71,
   "id": "f9c21545",
   "metadata": {
    "execution": {
     "iopub.execute_input": "2022-08-23T07:04:44.326257Z",
     "iopub.status.busy": "2022-08-23T07:04:44.325300Z",
     "iopub.status.idle": "2022-08-23T07:04:44.334839Z",
     "shell.execute_reply": "2022-08-23T07:04:44.333851Z"
    },
    "papermill": {
     "duration": 0.064856,
     "end_time": "2022-08-23T07:04:44.337310",
     "exception": false,
     "start_time": "2022-08-23T07:04:44.272454",
     "status": "completed"
    },
    "tags": []
   },
   "outputs": [
    {
     "data": {
      "text/plain": [
       "Men's      50\n",
       "Women's    47\n",
       "Name: SubCategory, dtype: int64"
      ]
     },
     "execution_count": 71,
     "metadata": {},
     "output_type": "execute_result"
    }
   ],
   "source": [
    "clothing.SubCategory.value_counts()"
   ]
  },
  {
   "cell_type": "code",
   "execution_count": 72,
   "id": "88b569df",
   "metadata": {
    "execution": {
     "iopub.execute_input": "2022-08-23T07:04:44.444496Z",
     "iopub.status.busy": "2022-08-23T07:04:44.443515Z",
     "iopub.status.idle": "2022-08-23T07:04:44.531031Z",
     "shell.execute_reply": "2022-08-23T07:04:44.529742Z"
    },
    "papermill": {
     "duration": 0.143461,
     "end_time": "2022-08-23T07:04:44.533588",
     "exception": false,
     "start_time": "2022-08-23T07:04:44.390127",
     "status": "completed"
    },
    "tags": []
   },
   "outputs": [
    {
     "data": {
      "text/html": [
       "<div>                            <div id=\"476ac7e5-6d8c-480b-8f1f-34550155bb87\" class=\"plotly-graph-div\" style=\"height:525px; width:100%;\"></div>            <script type=\"text/javascript\">                require([\"plotly\"], function(Plotly) {                    window.PLOTLYENV=window.PLOTLYENV || {};                                    if (document.getElementById(\"476ac7e5-6d8c-480b-8f1f-34550155bb87\")) {                    Plotly.newPlot(                        \"476ac7e5-6d8c-480b-8f1f-34550155bb87\",                        [{\"domain\":{\"x\":[0.0,1.0],\"y\":[0.0,1.0]},\"hole\":0.6,\"hovertemplate\":\"label=%{label}<br>value=%{value}<extra></extra>\",\"labels\":[\"Men's\",\"Women's\"],\"legendgroup\":\"\",\"name\":\"\",\"showlegend\":true,\"values\":[50,47],\"type\":\"pie\"}],                        {\"template\":{\"data\":{\"histogram2dcontour\":[{\"type\":\"histogram2dcontour\",\"colorbar\":{\"outlinewidth\":0,\"ticks\":\"\"},\"colorscale\":[[0.0,\"#0d0887\"],[0.1111111111111111,\"#46039f\"],[0.2222222222222222,\"#7201a8\"],[0.3333333333333333,\"#9c179e\"],[0.4444444444444444,\"#bd3786\"],[0.5555555555555556,\"#d8576b\"],[0.6666666666666666,\"#ed7953\"],[0.7777777777777778,\"#fb9f3a\"],[0.8888888888888888,\"#fdca26\"],[1.0,\"#f0f921\"]]}],\"choropleth\":[{\"type\":\"choropleth\",\"colorbar\":{\"outlinewidth\":0,\"ticks\":\"\"}}],\"histogram2d\":[{\"type\":\"histogram2d\",\"colorbar\":{\"outlinewidth\":0,\"ticks\":\"\"},\"colorscale\":[[0.0,\"#0d0887\"],[0.1111111111111111,\"#46039f\"],[0.2222222222222222,\"#7201a8\"],[0.3333333333333333,\"#9c179e\"],[0.4444444444444444,\"#bd3786\"],[0.5555555555555556,\"#d8576b\"],[0.6666666666666666,\"#ed7953\"],[0.7777777777777778,\"#fb9f3a\"],[0.8888888888888888,\"#fdca26\"],[1.0,\"#f0f921\"]]}],\"heatmap\":[{\"type\":\"heatmap\",\"colorbar\":{\"outlinewidth\":0,\"ticks\":\"\"},\"colorscale\":[[0.0,\"#0d0887\"],[0.1111111111111111,\"#46039f\"],[0.2222222222222222,\"#7201a8\"],[0.3333333333333333,\"#9c179e\"],[0.4444444444444444,\"#bd3786\"],[0.5555555555555556,\"#d8576b\"],[0.6666666666666666,\"#ed7953\"],[0.7777777777777778,\"#fb9f3a\"],[0.8888888888888888,\"#fdca26\"],[1.0,\"#f0f921\"]]}],\"heatmapgl\":[{\"type\":\"heatmapgl\",\"colorbar\":{\"outlinewidth\":0,\"ticks\":\"\"},\"colorscale\":[[0.0,\"#0d0887\"],[0.1111111111111111,\"#46039f\"],[0.2222222222222222,\"#7201a8\"],[0.3333333333333333,\"#9c179e\"],[0.4444444444444444,\"#bd3786\"],[0.5555555555555556,\"#d8576b\"],[0.6666666666666666,\"#ed7953\"],[0.7777777777777778,\"#fb9f3a\"],[0.8888888888888888,\"#fdca26\"],[1.0,\"#f0f921\"]]}],\"contourcarpet\":[{\"type\":\"contourcarpet\",\"colorbar\":{\"outlinewidth\":0,\"ticks\":\"\"}}],\"contour\":[{\"type\":\"contour\",\"colorbar\":{\"outlinewidth\":0,\"ticks\":\"\"},\"colorscale\":[[0.0,\"#0d0887\"],[0.1111111111111111,\"#46039f\"],[0.2222222222222222,\"#7201a8\"],[0.3333333333333333,\"#9c179e\"],[0.4444444444444444,\"#bd3786\"],[0.5555555555555556,\"#d8576b\"],[0.6666666666666666,\"#ed7953\"],[0.7777777777777778,\"#fb9f3a\"],[0.8888888888888888,\"#fdca26\"],[1.0,\"#f0f921\"]]}],\"surface\":[{\"type\":\"surface\",\"colorbar\":{\"outlinewidth\":0,\"ticks\":\"\"},\"colorscale\":[[0.0,\"#0d0887\"],[0.1111111111111111,\"#46039f\"],[0.2222222222222222,\"#7201a8\"],[0.3333333333333333,\"#9c179e\"],[0.4444444444444444,\"#bd3786\"],[0.5555555555555556,\"#d8576b\"],[0.6666666666666666,\"#ed7953\"],[0.7777777777777778,\"#fb9f3a\"],[0.8888888888888888,\"#fdca26\"],[1.0,\"#f0f921\"]]}],\"mesh3d\":[{\"type\":\"mesh3d\",\"colorbar\":{\"outlinewidth\":0,\"ticks\":\"\"}}],\"scatter\":[{\"fillpattern\":{\"fillmode\":\"overlay\",\"size\":10,\"solidity\":0.2},\"type\":\"scatter\"}],\"parcoords\":[{\"type\":\"parcoords\",\"line\":{\"colorbar\":{\"outlinewidth\":0,\"ticks\":\"\"}}}],\"scatterpolargl\":[{\"type\":\"scatterpolargl\",\"marker\":{\"colorbar\":{\"outlinewidth\":0,\"ticks\":\"\"}}}],\"bar\":[{\"error_x\":{\"color\":\"#2a3f5f\"},\"error_y\":{\"color\":\"#2a3f5f\"},\"marker\":{\"line\":{\"color\":\"#E5ECF6\",\"width\":0.5},\"pattern\":{\"fillmode\":\"overlay\",\"size\":10,\"solidity\":0.2}},\"type\":\"bar\"}],\"scattergeo\":[{\"type\":\"scattergeo\",\"marker\":{\"colorbar\":{\"outlinewidth\":0,\"ticks\":\"\"}}}],\"scatterpolar\":[{\"type\":\"scatterpolar\",\"marker\":{\"colorbar\":{\"outlinewidth\":0,\"ticks\":\"\"}}}],\"histogram\":[{\"marker\":{\"pattern\":{\"fillmode\":\"overlay\",\"size\":10,\"solidity\":0.2}},\"type\":\"histogram\"}],\"scattergl\":[{\"type\":\"scattergl\",\"marker\":{\"colorbar\":{\"outlinewidth\":0,\"ticks\":\"\"}}}],\"scatter3d\":[{\"type\":\"scatter3d\",\"line\":{\"colorbar\":{\"outlinewidth\":0,\"ticks\":\"\"}},\"marker\":{\"colorbar\":{\"outlinewidth\":0,\"ticks\":\"\"}}}],\"scattermapbox\":[{\"type\":\"scattermapbox\",\"marker\":{\"colorbar\":{\"outlinewidth\":0,\"ticks\":\"\"}}}],\"scatterternary\":[{\"type\":\"scatterternary\",\"marker\":{\"colorbar\":{\"outlinewidth\":0,\"ticks\":\"\"}}}],\"scattercarpet\":[{\"type\":\"scattercarpet\",\"marker\":{\"colorbar\":{\"outlinewidth\":0,\"ticks\":\"\"}}}],\"carpet\":[{\"aaxis\":{\"endlinecolor\":\"#2a3f5f\",\"gridcolor\":\"white\",\"linecolor\":\"white\",\"minorgridcolor\":\"white\",\"startlinecolor\":\"#2a3f5f\"},\"baxis\":{\"endlinecolor\":\"#2a3f5f\",\"gridcolor\":\"white\",\"linecolor\":\"white\",\"minorgridcolor\":\"white\",\"startlinecolor\":\"#2a3f5f\"},\"type\":\"carpet\"}],\"table\":[{\"cells\":{\"fill\":{\"color\":\"#EBF0F8\"},\"line\":{\"color\":\"white\"}},\"header\":{\"fill\":{\"color\":\"#C8D4E3\"},\"line\":{\"color\":\"white\"}},\"type\":\"table\"}],\"barpolar\":[{\"marker\":{\"line\":{\"color\":\"#E5ECF6\",\"width\":0.5},\"pattern\":{\"fillmode\":\"overlay\",\"size\":10,\"solidity\":0.2}},\"type\":\"barpolar\"}],\"pie\":[{\"automargin\":true,\"type\":\"pie\"}]},\"layout\":{\"autotypenumbers\":\"strict\",\"colorway\":[\"#636efa\",\"#EF553B\",\"#00cc96\",\"#ab63fa\",\"#FFA15A\",\"#19d3f3\",\"#FF6692\",\"#B6E880\",\"#FF97FF\",\"#FECB52\"],\"font\":{\"color\":\"#2a3f5f\"},\"hovermode\":\"closest\",\"hoverlabel\":{\"align\":\"left\"},\"paper_bgcolor\":\"white\",\"plot_bgcolor\":\"#E5ECF6\",\"polar\":{\"bgcolor\":\"#E5ECF6\",\"angularaxis\":{\"gridcolor\":\"white\",\"linecolor\":\"white\",\"ticks\":\"\"},\"radialaxis\":{\"gridcolor\":\"white\",\"linecolor\":\"white\",\"ticks\":\"\"}},\"ternary\":{\"bgcolor\":\"#E5ECF6\",\"aaxis\":{\"gridcolor\":\"white\",\"linecolor\":\"white\",\"ticks\":\"\"},\"baxis\":{\"gridcolor\":\"white\",\"linecolor\":\"white\",\"ticks\":\"\"},\"caxis\":{\"gridcolor\":\"white\",\"linecolor\":\"white\",\"ticks\":\"\"}},\"coloraxis\":{\"colorbar\":{\"outlinewidth\":0,\"ticks\":\"\"}},\"colorscale\":{\"sequential\":[[0.0,\"#0d0887\"],[0.1111111111111111,\"#46039f\"],[0.2222222222222222,\"#7201a8\"],[0.3333333333333333,\"#9c179e\"],[0.4444444444444444,\"#bd3786\"],[0.5555555555555556,\"#d8576b\"],[0.6666666666666666,\"#ed7953\"],[0.7777777777777778,\"#fb9f3a\"],[0.8888888888888888,\"#fdca26\"],[1.0,\"#f0f921\"]],\"sequentialminus\":[[0.0,\"#0d0887\"],[0.1111111111111111,\"#46039f\"],[0.2222222222222222,\"#7201a8\"],[0.3333333333333333,\"#9c179e\"],[0.4444444444444444,\"#bd3786\"],[0.5555555555555556,\"#d8576b\"],[0.6666666666666666,\"#ed7953\"],[0.7777777777777778,\"#fb9f3a\"],[0.8888888888888888,\"#fdca26\"],[1.0,\"#f0f921\"]],\"diverging\":[[0,\"#8e0152\"],[0.1,\"#c51b7d\"],[0.2,\"#de77ae\"],[0.3,\"#f1b6da\"],[0.4,\"#fde0ef\"],[0.5,\"#f7f7f7\"],[0.6,\"#e6f5d0\"],[0.7,\"#b8e186\"],[0.8,\"#7fbc41\"],[0.9,\"#4d9221\"],[1,\"#276419\"]]},\"xaxis\":{\"gridcolor\":\"white\",\"linecolor\":\"white\",\"ticks\":\"\",\"title\":{\"standoff\":15},\"zerolinecolor\":\"white\",\"automargin\":true,\"zerolinewidth\":2},\"yaxis\":{\"gridcolor\":\"white\",\"linecolor\":\"white\",\"ticks\":\"\",\"title\":{\"standoff\":15},\"zerolinecolor\":\"white\",\"automargin\":true,\"zerolinewidth\":2},\"scene\":{\"xaxis\":{\"backgroundcolor\":\"#E5ECF6\",\"gridcolor\":\"white\",\"linecolor\":\"white\",\"showbackground\":true,\"ticks\":\"\",\"zerolinecolor\":\"white\",\"gridwidth\":2},\"yaxis\":{\"backgroundcolor\":\"#E5ECF6\",\"gridcolor\":\"white\",\"linecolor\":\"white\",\"showbackground\":true,\"ticks\":\"\",\"zerolinecolor\":\"white\",\"gridwidth\":2},\"zaxis\":{\"backgroundcolor\":\"#E5ECF6\",\"gridcolor\":\"white\",\"linecolor\":\"white\",\"showbackground\":true,\"ticks\":\"\",\"zerolinecolor\":\"white\",\"gridwidth\":2}},\"shapedefaults\":{\"line\":{\"color\":\"#2a3f5f\"}},\"annotationdefaults\":{\"arrowcolor\":\"#2a3f5f\",\"arrowhead\":0,\"arrowwidth\":1},\"geo\":{\"bgcolor\":\"white\",\"landcolor\":\"#E5ECF6\",\"subunitcolor\":\"white\",\"showland\":true,\"showlakes\":true,\"lakecolor\":\"white\"},\"title\":{\"x\":0.05},\"mapbox\":{\"style\":\"light\"}}},\"legend\":{\"tracegroupgap\":0},\"margin\":{\"t\":60}},                        {\"responsive\": true}                    ).then(function(){\n",
       "                            \n",
       "var gd = document.getElementById('476ac7e5-6d8c-480b-8f1f-34550155bb87');\n",
       "var x = new MutationObserver(function (mutations, observer) {{\n",
       "        var display = window.getComputedStyle(gd).display;\n",
       "        if (!display || display === 'none') {{\n",
       "            console.log([gd, 'removed!']);\n",
       "            Plotly.purge(gd);\n",
       "            observer.disconnect();\n",
       "        }}\n",
       "}});\n",
       "\n",
       "// Listen for the removal of the full notebook cells\n",
       "var notebookContainer = gd.closest('#notebook-container');\n",
       "if (notebookContainer) {{\n",
       "    x.observe(notebookContainer, {childList: true});\n",
       "}}\n",
       "\n",
       "// Listen for the clearing of the current output cell\n",
       "var outputEl = gd.closest('.output');\n",
       "if (outputEl) {{\n",
       "    x.observe(outputEl, {childList: true});\n",
       "}}\n",
       "\n",
       "                        })                };                });            </script>        </div>"
      ]
     },
     "metadata": {},
     "output_type": "display_data"
    }
   ],
   "source": [
    "px.pie(values= clothing.SubCategory.value_counts().values,names =clothing.SubCategory.value_counts().index,hole=0.6)"
   ]
  },
  {
   "cell_type": "code",
   "execution_count": 73,
   "id": "ade524be",
   "metadata": {
    "execution": {
     "iopub.execute_input": "2022-08-23T07:04:44.640884Z",
     "iopub.status.busy": "2022-08-23T07:04:44.640325Z",
     "iopub.status.idle": "2022-08-23T07:04:44.651511Z",
     "shell.execute_reply": "2022-08-23T07:04:44.650356Z"
    },
    "papermill": {
     "duration": 0.067399,
     "end_time": "2022-08-23T07:04:44.654232",
     "exception": false,
     "start_time": "2022-08-23T07:04:44.586833",
     "status": "completed"
    },
    "tags": []
   },
   "outputs": [
    {
     "data": {
      "text/plain": [
       "SubCategory\n",
       "Men's      23.680000\n",
       "Women's    41.106383\n",
       "Name: DiscountPercent, dtype: float64"
      ]
     },
     "execution_count": 73,
     "metadata": {},
     "output_type": "execute_result"
    }
   ],
   "source": [
    "clothing.groupby('SubCategory')['DiscountPercent'].mean()"
   ]
  },
  {
   "cell_type": "markdown",
   "id": "c1148310",
   "metadata": {
    "papermill": {
     "duration": 0.052468,
     "end_time": "2022-08-23T07:04:44.759179",
     "exception": false,
     "start_time": "2022-08-23T07:04:44.706711",
     "status": "completed"
    },
    "tags": []
   },
   "source": [
    "**Hahaha !! This outcome was obvious, as womens are more involved into clothes shoping so they are offereing more discount on women's Clothings**"
   ]
  },
  {
   "cell_type": "code",
   "execution_count": 74,
   "id": "e5c0a183",
   "metadata": {
    "execution": {
     "iopub.execute_input": "2022-08-23T07:04:44.869265Z",
     "iopub.status.busy": "2022-08-23T07:04:44.868377Z",
     "iopub.status.idle": "2022-08-23T07:04:45.180217Z",
     "shell.execute_reply": "2022-08-23T07:04:45.179062Z"
    },
    "papermill": {
     "duration": 0.369893,
     "end_time": "2022-08-23T07:04:45.182902",
     "exception": false,
     "start_time": "2022-08-23T07:04:44.813009",
     "status": "completed"
    },
    "tags": []
   },
   "outputs": [
    {
     "data": {
      "text/plain": [
       "Text(0, 0.5, 'Avg.DiscountedPrice')"
      ]
     },
     "execution_count": 74,
     "metadata": {},
     "output_type": "execute_result"
    },
    {
     "data": {
      "image/png": "[encoded data removed]",
      "text/plain": [
       "<Figure size 1440x720 with 1 Axes>"
      ]
     },
     "metadata": {
      "needs_background": "light"
     },
     "output_type": "display_data"
    }
   ],
   "source": [
    "sns.set_context(\"poster\",font_scale=0.5)\n",
    "plt.figure(figsize=(20,10))\n",
    "ax = clothing.groupby('Brand')['DiscountedPrice'].mean().plot(kind='bar',color='crimson',rot=0)\n",
    "\n",
    "for p in ax.patches:\n",
    "    ax.annotate(int(p.get_height()),(p.get_x()+0.25,p.get_height()-15),ha='center',color='white')\n",
    "    \n",
    "plt.title('Avg.DiscountedPrice for Brands in Clothing',fontsize=18)\n",
    "plt.xlabel('Clothing Brands')\n",
    "plt.ylabel('Avg.DiscountedPrice')"
   ]
  },
  {
   "cell_type": "code",
   "execution_count": 75,
   "id": "458fecc3",
   "metadata": {
    "execution": {
     "iopub.execute_input": "2022-08-23T07:04:45.290430Z",
     "iopub.status.busy": "2022-08-23T07:04:45.289914Z",
     "iopub.status.idle": "2022-08-23T07:04:45.307860Z",
     "shell.execute_reply": "2022-08-23T07:04:45.306621Z"
    },
    "papermill": {
     "duration": 0.074623,
     "end_time": "2022-08-23T07:04:45.310586",
     "exception": false,
     "start_time": "2022-08-23T07:04:45.235963",
     "status": "completed"
    },
    "tags": []
   },
   "outputs": [
    {
     "data": {
      "text/html": [
       "<div>\n",
       "<style scoped>\n",
       "    .dataframe tbody tr th:only-of-type {\n",
       "        vertical-align: middle;\n",
       "    }\n",
       "\n",
       "    .dataframe tbody tr th {\n",
       "        vertical-align: top;\n",
       "    }\n",
       "\n",
       "    .dataframe thead th {\n",
       "        text-align: right;\n",
       "    }\n",
       "</style>\n",
       "<table border=\"1\" class=\"dataframe\">\n",
       "  <thead>\n",
       "    <tr style=\"text-align: right;\">\n",
       "      <th></th>\n",
       "      <th>Brand</th>\n",
       "      <th>SubCategory</th>\n",
       "      <th>DiscountedPrice</th>\n",
       "    </tr>\n",
       "  </thead>\n",
       "  <tbody>\n",
       "    <tr>\n",
       "      <th>0</th>\n",
       "      <td>Clio</td>\n",
       "      <td>Women's</td>\n",
       "      <td>352.125000</td>\n",
       "    </tr>\n",
       "    <tr>\n",
       "      <th>1</th>\n",
       "      <td>Dutch Harbor</td>\n",
       "      <td>Men's</td>\n",
       "      <td>234.200000</td>\n",
       "    </tr>\n",
       "    <tr>\n",
       "      <th>2</th>\n",
       "      <td>Feather Soft</td>\n",
       "      <td>Women's</td>\n",
       "      <td>233.782609</td>\n",
       "    </tr>\n",
       "    <tr>\n",
       "      <th>3</th>\n",
       "      <td>I &amp; D</td>\n",
       "      <td>Men's</td>\n",
       "      <td>149.000000</td>\n",
       "    </tr>\n",
       "    <tr>\n",
       "      <th>4</th>\n",
       "      <td>In Shape</td>\n",
       "      <td>Women's</td>\n",
       "      <td>307.666667</td>\n",
       "    </tr>\n",
       "    <tr>\n",
       "      <th>5</th>\n",
       "      <td>Local/Unknown</td>\n",
       "      <td>Men's</td>\n",
       "      <td>119.000000</td>\n",
       "    </tr>\n",
       "    <tr>\n",
       "      <th>6</th>\n",
       "      <td>Macho</td>\n",
       "      <td>Men's</td>\n",
       "      <td>195.562500</td>\n",
       "    </tr>\n",
       "    <tr>\n",
       "      <th>7</th>\n",
       "      <td>No Fuss</td>\n",
       "      <td>Men's</td>\n",
       "      <td>215.950000</td>\n",
       "    </tr>\n",
       "    <tr>\n",
       "      <th>8</th>\n",
       "      <td>No Fuss</td>\n",
       "      <td>Women's</td>\n",
       "      <td>79.000000</td>\n",
       "    </tr>\n",
       "    <tr>\n",
       "      <th>9</th>\n",
       "      <td>Rupa</td>\n",
       "      <td>Men's</td>\n",
       "      <td>196.166667</td>\n",
       "    </tr>\n",
       "  </tbody>\n",
       "</table>\n",
       "</div>"
      ],
      "text/plain": [
       "           Brand SubCategory  DiscountedPrice\n",
       "0           Clio     Women's       352.125000\n",
       "1   Dutch Harbor       Men's       234.200000\n",
       "2   Feather Soft     Women's       233.782609\n",
       "3          I & D       Men's       149.000000\n",
       "4       In Shape     Women's       307.666667\n",
       "5  Local/Unknown       Men's       119.000000\n",
       "6          Macho       Men's       195.562500\n",
       "7        No Fuss       Men's       215.950000\n",
       "8        No Fuss     Women's        79.000000\n",
       "9           Rupa       Men's       196.166667"
      ]
     },
     "execution_count": 75,
     "metadata": {},
     "output_type": "execute_result"
    }
   ],
   "source": [
    "cloth_brand_mean = clothing.groupby(['Brand','SubCategory'])['DiscountedPrice'].mean().reset_index()\n",
    "cloth_brand_mean"
   ]
  },
  {
   "cell_type": "markdown",
   "id": "55abf5fa",
   "metadata": {
    "papermill": {
     "duration": 0.052594,
     "end_time": "2022-08-23T07:04:45.417324",
     "exception": false,
     "start_time": "2022-08-23T07:04:45.364730",
     "status": "completed"
    },
    "tags": []
   },
   "source": [
    "<h6 style=\"background-color:rgb(244,164,96);padding:8px 10px;border-radius:5px 25px 25px 5px;width:400px\">Women Clothing with more than 50% discount"
   ]
  },
  {
   "cell_type": "code",
   "execution_count": 76,
   "id": "c81e9a48",
   "metadata": {
    "execution": {
     "iopub.execute_input": "2022-08-23T07:04:45.526396Z",
     "iopub.status.busy": "2022-08-23T07:04:45.525867Z",
     "iopub.status.idle": "2022-08-23T07:04:45.549960Z",
     "shell.execute_reply": "2022-08-23T07:04:45.548651Z"
    },
    "papermill": {
     "duration": 0.081853,
     "end_time": "2022-08-23T07:04:45.552512",
     "exception": false,
     "start_time": "2022-08-23T07:04:45.470659",
     "status": "completed"
    },
    "tags": []
   },
   "outputs": [
    {
     "data": {
      "text/html": [
       "<div>\n",
       "<style scoped>\n",
       "    .dataframe tbody tr th:only-of-type {\n",
       "        vertical-align: middle;\n",
       "    }\n",
       "\n",
       "    .dataframe tbody tr th {\n",
       "        vertical-align: top;\n",
       "    }\n",
       "\n",
       "    .dataframe thead th {\n",
       "        text-align: right;\n",
       "    }\n",
       "</style>\n",
       "<table border=\"1\" class=\"dataframe\">\n",
       "  <thead>\n",
       "    <tr style=\"text-align: right;\">\n",
       "      <th></th>\n",
       "      <th>Name</th>\n",
       "      <th>Brand</th>\n",
       "      <th>Price</th>\n",
       "      <th>DiscountedPrice</th>\n",
       "      <th>Category</th>\n",
       "      <th>SubCategory</th>\n",
       "      <th>Quantity</th>\n",
       "      <th>Description</th>\n",
       "      <th>DiscountPercent</th>\n",
       "    </tr>\n",
       "  </thead>\n",
       "  <tbody>\n",
       "    <tr>\n",
       "      <th>4858</th>\n",
       "      <td>Feather Soft Navy Blue Ankle Length Legging - ...</td>\n",
       "      <td>Feather Soft</td>\n",
       "      <td>499.0</td>\n",
       "      <td>149.0</td>\n",
       "      <td>Clothing &amp; Accessories</td>\n",
       "      <td>Women's</td>\n",
       "      <td>Size M</td>\n",
       "      <td>\\n- Brand Name : Feather Soft\\n- Colour : Navy...</td>\n",
       "      <td>70</td>\n",
       "    </tr>\n",
       "    <tr>\n",
       "      <th>4859</th>\n",
       "      <td>Feather Soft Navy Blue Ankle Length Legging - ...</td>\n",
       "      <td>Feather Soft</td>\n",
       "      <td>499.0</td>\n",
       "      <td>149.0</td>\n",
       "      <td>Clothing &amp; Accessories</td>\n",
       "      <td>Women's</td>\n",
       "      <td>Size L</td>\n",
       "      <td>\\n- Brand Name : Feather Soft\\n- Colour : Navy...</td>\n",
       "      <td>70</td>\n",
       "    </tr>\n",
       "    <tr>\n",
       "      <th>4862</th>\n",
       "      <td>Feather Soft Red Ankle Length Legging - 1 Unit</td>\n",
       "      <td>Feather Soft</td>\n",
       "      <td>499.0</td>\n",
       "      <td>149.0</td>\n",
       "      <td>Clothing &amp; Accessories</td>\n",
       "      <td>Women's</td>\n",
       "      <td>Size M</td>\n",
       "      <td>\\n- Brand Name : Feather Soft\\n- Colour : Red\\...</td>\n",
       "      <td>70</td>\n",
       "    </tr>\n",
       "    <tr>\n",
       "      <th>4863</th>\n",
       "      <td>Feather Soft Red Ankle Length Legging - 1 Unit</td>\n",
       "      <td>Feather Soft</td>\n",
       "      <td>499.0</td>\n",
       "      <td>149.0</td>\n",
       "      <td>Clothing &amp; Accessories</td>\n",
       "      <td>Women's</td>\n",
       "      <td>Size L</td>\n",
       "      <td>\\n- Brand Name : Feather Soft\\n- Colour : Red\\...</td>\n",
       "      <td>70</td>\n",
       "    </tr>\n",
       "    <tr>\n",
       "      <th>4865</th>\n",
       "      <td>Feather Soft Red Ankle Length Legging - 1 Unit</td>\n",
       "      <td>Feather Soft</td>\n",
       "      <td>499.0</td>\n",
       "      <td>149.0</td>\n",
       "      <td>Clothing &amp; Accessories</td>\n",
       "      <td>Women's</td>\n",
       "      <td>Size XXL</td>\n",
       "      <td>\\n- Brand Name : Feather Soft\\n- Colour : Red\\...</td>\n",
       "      <td>70</td>\n",
       "    </tr>\n",
       "    <tr>\n",
       "      <th>4866</th>\n",
       "      <td>Feather Soft Skin Color Ankle Length Legging -...</td>\n",
       "      <td>Feather Soft</td>\n",
       "      <td>499.0</td>\n",
       "      <td>149.0</td>\n",
       "      <td>Clothing &amp; Accessories</td>\n",
       "      <td>Women's</td>\n",
       "      <td>Size M</td>\n",
       "      <td>\\n- Brand Name : Feather Soft\\n- Colour : Skin...</td>\n",
       "      <td>70</td>\n",
       "    </tr>\n",
       "    <tr>\n",
       "      <th>4867</th>\n",
       "      <td>Feather Soft Skin Color Ankle Length Legging -...</td>\n",
       "      <td>Feather Soft</td>\n",
       "      <td>499.0</td>\n",
       "      <td>149.0</td>\n",
       "      <td>Clothing &amp; Accessories</td>\n",
       "      <td>Women's</td>\n",
       "      <td>Size L</td>\n",
       "      <td>\\n- Brand Name : Feather Soft\\n- Colour : Skin...</td>\n",
       "      <td>70</td>\n",
       "    </tr>\n",
       "    <tr>\n",
       "      <th>4868</th>\n",
       "      <td>Feather Soft Skin Color Ankle Length Legging -...</td>\n",
       "      <td>Feather Soft</td>\n",
       "      <td>499.0</td>\n",
       "      <td>149.0</td>\n",
       "      <td>Clothing &amp; Accessories</td>\n",
       "      <td>Women's</td>\n",
       "      <td>Size XL</td>\n",
       "      <td>\\n- Brand Name : Feather Soft\\n- Colour : Skin...</td>\n",
       "      <td>70</td>\n",
       "    </tr>\n",
       "    <tr>\n",
       "      <th>4869</th>\n",
       "      <td>Feather Soft Skin Color Ankle Length Legging -...</td>\n",
       "      <td>Feather Soft</td>\n",
       "      <td>499.0</td>\n",
       "      <td>149.0</td>\n",
       "      <td>Clothing &amp; Accessories</td>\n",
       "      <td>Women's</td>\n",
       "      <td>Size XXL</td>\n",
       "      <td>\\n- Brand Name : Feather Soft\\n- Colour : Skin...</td>\n",
       "      <td>70</td>\n",
       "    </tr>\n",
       "    <tr>\n",
       "      <th>4870</th>\n",
       "      <td>Feather Soft Skin Color Ankle Length Legging -...</td>\n",
       "      <td>Feather Soft</td>\n",
       "      <td>499.0</td>\n",
       "      <td>149.0</td>\n",
       "      <td>Clothing &amp; Accessories</td>\n",
       "      <td>Women's</td>\n",
       "      <td>Size XXXL</td>\n",
       "      <td>Unique Features :Skin friendly magical soft to...</td>\n",
       "      <td>70</td>\n",
       "    </tr>\n",
       "    <tr>\n",
       "      <th>4882</th>\n",
       "      <td>Clio Ladies T-Shirt &amp; Pyjama Nightwear Set (B2)</td>\n",
       "      <td>Clio</td>\n",
       "      <td>599.0</td>\n",
       "      <td>249.0</td>\n",
       "      <td>Clothing &amp; Accessories</td>\n",
       "      <td>Women's</td>\n",
       "      <td>Size S</td>\n",
       "      <td>Overview- Material : 100% Cotton Jersey- GSM :...</td>\n",
       "      <td>58</td>\n",
       "    </tr>\n",
       "    <tr>\n",
       "      <th>4883</th>\n",
       "      <td>Clio Ladies T-Shirt &amp; Pyjama Nightwear Set (B3)</td>\n",
       "      <td>Clio</td>\n",
       "      <td>599.0</td>\n",
       "      <td>249.0</td>\n",
       "      <td>Clothing &amp; Accessories</td>\n",
       "      <td>Women's</td>\n",
       "      <td>Size S</td>\n",
       "      <td>Overview- Material : 100% Cotton Jersey- GSM :...</td>\n",
       "      <td>58</td>\n",
       "    </tr>\n",
       "    <tr>\n",
       "      <th>4884</th>\n",
       "      <td>Clio Ladies T-Shirt &amp; Pyjama Nightwear Set (B3)</td>\n",
       "      <td>Clio</td>\n",
       "      <td>599.0</td>\n",
       "      <td>249.0</td>\n",
       "      <td>Clothing &amp; Accessories</td>\n",
       "      <td>Women's</td>\n",
       "      <td>Size M</td>\n",
       "      <td>Overview- Material : 100% Cotton Jersey- GSM :...</td>\n",
       "      <td>58</td>\n",
       "    </tr>\n",
       "    <tr>\n",
       "      <th>4885</th>\n",
       "      <td>Clio Ladies T-Shirt &amp; Pyjama Nightwear Set (B1)</td>\n",
       "      <td>Clio</td>\n",
       "      <td>599.0</td>\n",
       "      <td>249.0</td>\n",
       "      <td>Clothing &amp; Accessories</td>\n",
       "      <td>Women's</td>\n",
       "      <td>Size S</td>\n",
       "      <td>Overview- Material : 100% Cotton Jersey- GSM :...</td>\n",
       "      <td>58</td>\n",
       "    </tr>\n",
       "    <tr>\n",
       "      <th>4886</th>\n",
       "      <td>Clio Ladies T-Shirt &amp; Pyjama Nightwear Set (B4)</td>\n",
       "      <td>Clio</td>\n",
       "      <td>599.0</td>\n",
       "      <td>249.0</td>\n",
       "      <td>Clothing &amp; Accessories</td>\n",
       "      <td>Women's</td>\n",
       "      <td>Size S</td>\n",
       "      <td>Overview- Material : 100% Cotton Jersey- GSM :...</td>\n",
       "      <td>58</td>\n",
       "    </tr>\n",
       "  </tbody>\n",
       "</table>\n",
       "</div>"
      ],
      "text/plain": [
       "                                                   Name         Brand  Price  \\\n",
       "4858  Feather Soft Navy Blue Ankle Length Legging - ...  Feather Soft  499.0   \n",
       "4859  Feather Soft Navy Blue Ankle Length Legging - ...  Feather Soft  499.0   \n",
       "4862     Feather Soft Red Ankle Length Legging - 1 Unit  Feather Soft  499.0   \n",
       "4863     Feather Soft Red Ankle Length Legging - 1 Unit  Feather Soft  499.0   \n",
       "4865     Feather Soft Red Ankle Length Legging - 1 Unit  Feather Soft  499.0   \n",
       "4866  Feather Soft Skin Color Ankle Length Legging -...  Feather Soft  499.0   \n",
       "4867  Feather Soft Skin Color Ankle Length Legging -...  Feather Soft  499.0   \n",
       "4868  Feather Soft Skin Color Ankle Length Legging -...  Feather Soft  499.0   \n",
       "4869  Feather Soft Skin Color Ankle Length Legging -...  Feather Soft  499.0   \n",
       "4870  Feather Soft Skin Color Ankle Length Legging -...  Feather Soft  499.0   \n",
       "4882    Clio Ladies T-Shirt & Pyjama Nightwear Set (B2)          Clio  599.0   \n",
       "4883    Clio Ladies T-Shirt & Pyjama Nightwear Set (B3)          Clio  599.0   \n",
       "4884    Clio Ladies T-Shirt & Pyjama Nightwear Set (B3)          Clio  599.0   \n",
       "4885    Clio Ladies T-Shirt & Pyjama Nightwear Set (B1)          Clio  599.0   \n",
       "4886    Clio Ladies T-Shirt & Pyjama Nightwear Set (B4)          Clio  599.0   \n",
       "\n",
       "      DiscountedPrice                Category SubCategory   Quantity  \\\n",
       "4858            149.0  Clothing & Accessories     Women's     Size M   \n",
       "4859            149.0  Clothing & Accessories     Women's     Size L   \n",
       "4862            149.0  Clothing & Accessories     Women's     Size M   \n",
       "4863            149.0  Clothing & Accessories     Women's     Size L   \n",
       "4865            149.0  Clothing & Accessories     Women's   Size XXL   \n",
       "4866            149.0  Clothing & Accessories     Women's     Size M   \n",
       "4867            149.0  Clothing & Accessories     Women's     Size L   \n",
       "4868            149.0  Clothing & Accessories     Women's    Size XL   \n",
       "4869            149.0  Clothing & Accessories     Women's   Size XXL   \n",
       "4870            149.0  Clothing & Accessories     Women's  Size XXXL   \n",
       "4882            249.0  Clothing & Accessories     Women's     Size S   \n",
       "4883            249.0  Clothing & Accessories     Women's     Size S   \n",
       "4884            249.0  Clothing & Accessories     Women's     Size M   \n",
       "4885            249.0  Clothing & Accessories     Women's     Size S   \n",
       "4886            249.0  Clothing & Accessories     Women's     Size S   \n",
       "\n",
       "                                            Description  DiscountPercent  \n",
       "4858  \\n- Brand Name : Feather Soft\\n- Colour : Navy...               70  \n",
       "4859  \\n- Brand Name : Feather Soft\\n- Colour : Navy...               70  \n",
       "4862  \\n- Brand Name : Feather Soft\\n- Colour : Red\\...               70  \n",
       "4863  \\n- Brand Name : Feather Soft\\n- Colour : Red\\...               70  \n",
       "4865  \\n- Brand Name : Feather Soft\\n- Colour : Red\\...               70  \n",
       "4866  \\n- Brand Name : Feather Soft\\n- Colour : Skin...               70  \n",
       "4867  \\n- Brand Name : Feather Soft\\n- Colour : Skin...               70  \n",
       "4868  \\n- Brand Name : Feather Soft\\n- Colour : Skin...               70  \n",
       "4869  \\n- Brand Name : Feather Soft\\n- Colour : Skin...               70  \n",
       "4870  Unique Features :Skin friendly magical soft to...               70  \n",
       "4882  Overview- Material : 100% Cotton Jersey- GSM :...               58  \n",
       "4883  Overview- Material : 100% Cotton Jersey- GSM :...               58  \n",
       "4884  Overview- Material : 100% Cotton Jersey- GSM :...               58  \n",
       "4885  Overview- Material : 100% Cotton Jersey- GSM :...               58  \n",
       "4886  Overview- Material : 100% Cotton Jersey- GSM :...               58  "
      ]
     },
     "execution_count": 76,
     "metadata": {},
     "output_type": "execute_result"
    }
   ],
   "source": [
    "clothing[(clothing['SubCategory']==\"Women's\")&(clothing['DiscountPercent']>50)]"
   ]
  },
  {
   "cell_type": "code",
   "execution_count": 77,
   "id": "c867615f",
   "metadata": {
    "execution": {
     "iopub.execute_input": "2022-08-23T07:04:45.662471Z",
     "iopub.status.busy": "2022-08-23T07:04:45.661955Z",
     "iopub.status.idle": "2022-08-23T07:04:45.683973Z",
     "shell.execute_reply": "2022-08-23T07:04:45.682711Z"
    },
    "papermill": {
     "duration": 0.080028,
     "end_time": "2022-08-23T07:04:45.687027",
     "exception": false,
     "start_time": "2022-08-23T07:04:45.606999",
     "status": "completed"
    },
    "tags": []
   },
   "outputs": [
    {
     "data": {
      "text/html": [
       "<div>\n",
       "<style scoped>\n",
       "    .dataframe tbody tr th:only-of-type {\n",
       "        vertical-align: middle;\n",
       "    }\n",
       "\n",
       "    .dataframe tbody tr th {\n",
       "        vertical-align: top;\n",
       "    }\n",
       "\n",
       "    .dataframe thead th {\n",
       "        text-align: right;\n",
       "    }\n",
       "</style>\n",
       "<table border=\"1\" class=\"dataframe\">\n",
       "  <thead>\n",
       "    <tr style=\"text-align: right;\">\n",
       "      <th></th>\n",
       "      <th>SubCategory</th>\n",
       "      <th>Brand</th>\n",
       "      <th>Name</th>\n",
       "    </tr>\n",
       "  </thead>\n",
       "  <tbody>\n",
       "    <tr>\n",
       "      <th>0</th>\n",
       "      <td>Baby &amp; Kids</td>\n",
       "      <td>Friends</td>\n",
       "      <td>4</td>\n",
       "    </tr>\n",
       "    <tr>\n",
       "      <th>1</th>\n",
       "      <td>Baby &amp; Kids</td>\n",
       "      <td>Himalaya</td>\n",
       "      <td>11</td>\n",
       "    </tr>\n",
       "    <tr>\n",
       "      <th>2</th>\n",
       "      <td>Baby &amp; Kids</td>\n",
       "      <td>Huggies</td>\n",
       "      <td>9</td>\n",
       "    </tr>\n",
       "    <tr>\n",
       "      <th>3</th>\n",
       "      <td>Baby &amp; Kids</td>\n",
       "      <td>Johnson's</td>\n",
       "      <td>5</td>\n",
       "    </tr>\n",
       "    <tr>\n",
       "      <th>4</th>\n",
       "      <td>Baby &amp; Kids</td>\n",
       "      <td>Little's</td>\n",
       "      <td>1</td>\n",
       "    </tr>\n",
       "    <tr>\n",
       "      <th>...</th>\n",
       "      <td>...</td>\n",
       "      <td>...</td>\n",
       "      <td>...</td>\n",
       "    </tr>\n",
       "    <tr>\n",
       "      <th>246</th>\n",
       "      <td>Skin Care</td>\n",
       "      <td>Yardley</td>\n",
       "      <td>2</td>\n",
       "    </tr>\n",
       "    <tr>\n",
       "      <th>247</th>\n",
       "      <td>Tissue Paper &amp; Napkins</td>\n",
       "      <td>Cleanplus</td>\n",
       "      <td>1</td>\n",
       "    </tr>\n",
       "    <tr>\n",
       "      <th>248</th>\n",
       "      <td>Tissue Paper &amp; Napkins</td>\n",
       "      <td>Fresh Ones</td>\n",
       "      <td>1</td>\n",
       "    </tr>\n",
       "    <tr>\n",
       "      <th>249</th>\n",
       "      <td>Tissue Paper &amp; Napkins</td>\n",
       "      <td>Origami</td>\n",
       "      <td>3</td>\n",
       "    </tr>\n",
       "    <tr>\n",
       "      <th>250</th>\n",
       "      <td>Tissue Paper &amp; Napkins</td>\n",
       "      <td>Premier</td>\n",
       "      <td>2</td>\n",
       "    </tr>\n",
       "  </tbody>\n",
       "</table>\n",
       "<p>251 rows × 3 columns</p>\n",
       "</div>"
      ],
      "text/plain": [
       "                SubCategory       Brand  Name\n",
       "0               Baby & Kids     Friends     4\n",
       "1               Baby & Kids    Himalaya    11\n",
       "2               Baby & Kids     Huggies     9\n",
       "3               Baby & Kids   Johnson's     5\n",
       "4               Baby & Kids    Little's     1\n",
       "..                      ...         ...   ...\n",
       "246               Skin Care     Yardley     2\n",
       "247  Tissue Paper & Napkins   Cleanplus     1\n",
       "248  Tissue Paper & Napkins  Fresh Ones     1\n",
       "249  Tissue Paper & Napkins     Origami     3\n",
       "250  Tissue Paper & Napkins     Premier     2\n",
       "\n",
       "[251 rows x 3 columns]"
      ]
     },
     "execution_count": 77,
     "metadata": {},
     "output_type": "execute_result"
    }
   ],
   "source": [
    "df[df['Category']=='Personal Care'].groupby(['SubCategory','Brand'])['Name'].count().reset_index()"
   ]
  },
  {
   "cell_type": "code",
   "execution_count": 78,
   "id": "b2d61f82",
   "metadata": {
    "execution": {
     "iopub.execute_input": "2022-08-23T07:04:45.797226Z",
     "iopub.status.busy": "2022-08-23T07:04:45.796689Z",
     "iopub.status.idle": "2022-08-23T07:04:45.818094Z",
     "shell.execute_reply": "2022-08-23T07:04:45.816872Z"
    },
    "papermill": {
     "duration": 0.07976,
     "end_time": "2022-08-23T07:04:45.820934",
     "exception": false,
     "start_time": "2022-08-23T07:04:45.741174",
     "status": "completed"
    },
    "tags": []
   },
   "outputs": [
    {
     "data": {
      "text/html": [
       "<div>\n",
       "<style scoped>\n",
       "    .dataframe tbody tr th:only-of-type {\n",
       "        vertical-align: middle;\n",
       "    }\n",
       "\n",
       "    .dataframe tbody tr th {\n",
       "        vertical-align: top;\n",
       "    }\n",
       "\n",
       "    .dataframe thead th {\n",
       "        text-align: right;\n",
       "    }\n",
       "</style>\n",
       "<table border=\"1\" class=\"dataframe\">\n",
       "  <thead>\n",
       "    <tr style=\"text-align: right;\">\n",
       "      <th></th>\n",
       "      <th>Brand</th>\n",
       "      <th>No.of.Products</th>\n",
       "    </tr>\n",
       "    <tr>\n",
       "      <th>SubCategory</th>\n",
       "      <th></th>\n",
       "      <th></th>\n",
       "    </tr>\n",
       "  </thead>\n",
       "  <tbody>\n",
       "    <tr>\n",
       "      <th>Skin Care</th>\n",
       "      <td>57</td>\n",
       "      <td>194</td>\n",
       "    </tr>\n",
       "    <tr>\n",
       "      <th>Face Care</th>\n",
       "      <td>26</td>\n",
       "      <td>155</td>\n",
       "    </tr>\n",
       "    <tr>\n",
       "      <th>Lip Care</th>\n",
       "      <td>8</td>\n",
       "      <td>132</td>\n",
       "    </tr>\n",
       "    <tr>\n",
       "      <th>Hair Care</th>\n",
       "      <td>39</td>\n",
       "      <td>124</td>\n",
       "    </tr>\n",
       "    <tr>\n",
       "      <th>Health &amp; Wellness</th>\n",
       "      <td>47</td>\n",
       "      <td>104</td>\n",
       "    </tr>\n",
       "    <tr>\n",
       "      <th>Nail Care</th>\n",
       "      <td>4</td>\n",
       "      <td>69</td>\n",
       "    </tr>\n",
       "    <tr>\n",
       "      <th>Oral Care</th>\n",
       "      <td>14</td>\n",
       "      <td>57</td>\n",
       "    </tr>\n",
       "    <tr>\n",
       "      <th>Deos &amp; Perfumes</th>\n",
       "      <td>13</td>\n",
       "      <td>53</td>\n",
       "    </tr>\n",
       "    <tr>\n",
       "      <th>Baby &amp; Kids</th>\n",
       "      <td>10</td>\n",
       "      <td>47</td>\n",
       "    </tr>\n",
       "    <tr>\n",
       "      <th>Eye Makeup</th>\n",
       "      <td>8</td>\n",
       "      <td>41</td>\n",
       "    </tr>\n",
       "    <tr>\n",
       "      <th>Shaving Needs</th>\n",
       "      <td>4</td>\n",
       "      <td>40</td>\n",
       "    </tr>\n",
       "    <tr>\n",
       "      <th>Personal Hygiene</th>\n",
       "      <td>11</td>\n",
       "      <td>33</td>\n",
       "    </tr>\n",
       "    <tr>\n",
       "      <th>Personal Care</th>\n",
       "      <td>6</td>\n",
       "      <td>16</td>\n",
       "    </tr>\n",
       "    <tr>\n",
       "      <th>Tissue Paper &amp; Napkins</th>\n",
       "      <td>4</td>\n",
       "      <td>6</td>\n",
       "    </tr>\n",
       "  </tbody>\n",
       "</table>\n",
       "</div>"
      ],
      "text/plain": [
       "                        Brand  No.of.Products\n",
       "SubCategory                                  \n",
       "Skin Care                  57             194\n",
       "Face Care                  26             155\n",
       "Lip Care                    8             132\n",
       "Hair Care                  39             124\n",
       "Health & Wellness          47             104\n",
       "Nail Care                   4              69\n",
       "Oral Care                  14              57\n",
       "Deos & Perfumes            13              53\n",
       "Baby & Kids                10              47\n",
       "Eye Makeup                  8              41\n",
       "Shaving Needs               4              40\n",
       "Personal Hygiene           11              33\n",
       "Personal Care               6              16\n",
       "Tissue Paper & Napkins      4               6"
      ]
     },
     "execution_count": 78,
     "metadata": {},
     "output_type": "execute_result"
    }
   ],
   "source": [
    "df[df['Category']=='Personal Care'].groupby('SubCategory')[['Brand','Name']].nunique().sort_values(by='Name',ascending=False).rename(columns={'Name':'No.of.Products'})"
   ]
  },
  {
   "cell_type": "markdown",
   "id": "9aa553b8",
   "metadata": {
    "papermill": {
     "duration": 0.054134,
     "end_time": "2022-08-23T07:04:45.929638",
     "exception": false,
     "start_time": "2022-08-23T07:04:45.875504",
     "status": "completed"
    },
    "tags": []
   },
   "source": [
    "<div style = \"color: Black;display: fill;\n",
    "              border-radius: 7px;\n",
    "              background-color: #607EAA;\n",
    "              font-size: 160%;\n",
    "              font-family: Verdana, align = center\">\n",
    "    <p style = \"padding: 15px; color: White;\"><b> In this way we can ask many more questions and draw more insights !"
   ]
  },
  {
   "cell_type": "markdown",
   "id": "8aa643d4",
   "metadata": {
    "papermill": {
     "duration": 0.05571,
     "end_time": "2022-08-23T07:04:46.040671",
     "exception": false,
     "start_time": "2022-08-23T07:04:45.984961",
     "status": "completed"
    },
    "tags": []
   },
   "source": [
    "<h3 style=\"background-color:rgb(220, 75, 60);padding:10px 10px;border-radius:5px 5px 5px 5px;width:2000;align:center\">You can drop your question related to this dataset in comment box and I will be updating this notebook to ans your question."
   ]
  }
 ],
 "metadata": {
  "kernelspec": {
   "display_name": "Python 3",
   "language": "python",
   "name": "python3"
  },
  "language_info": {
   "codemirror_mode": {
    "name": "ipython",
    "version": 3
   },
   "file_extension": ".py",
   "mimetype": "text/x-python",
   "name": "python",
   "nbconvert_exporter": "python",
   "pygments_lexer": "ipython3",
   "version": "3.7.12"
  },
  "papermill": {
   "default_parameters": {},
   "duration": 39.429933,
   "end_time": "2022-08-23T07:04:47.323774",
   "environment_variables": {},
   "exception": null,
   "input_path": "__notebook__.ipynb",
   "output_path": "__notebook__.ipynb",
   "parameters": {},
   "start_time": "2022-08-23T07:04:07.893841",
   "version": "2.3.4"
  }
 },
 "nbformat": 4,
 "nbformat_minor": 5
}
